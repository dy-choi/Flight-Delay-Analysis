{
 "cells": [
  {
   "cell_type": "markdown",
   "metadata": {},
   "source": [
    "# Preparing the Data : SFO to PHL"
   ]
  },
  {
   "cell_type": "code",
   "execution_count": 1,
   "metadata": {},
   "outputs": [],
   "source": [
    "import pandas as pd\n",
    "import networkx as nx\n",
    "\n",
    "# helper functions\n",
    "import data_cleaner as dc\n",
    "import graph_functions as gf"
   ]
  },
  {
   "cell_type": "markdown",
   "metadata": {},
   "source": [
    "## The Nitty-Gritty: Preparing the Data"
   ]
  },
  {
   "cell_type": "markdown",
   "metadata": {},
   "source": [
    "### Read and Merge"
   ]
  },
  {
   "cell_type": "markdown",
   "metadata": {},
   "source": [
    "We are working with two datasets. The first is provided by the Bureau of Transportation Statistics and contains flight information, including Common Reporting Standard (CRS) arrival and departure times, causes of delay, and time spend taxiing in and out. We will start by reading in twelve months' worth of data and filtering for just the SFO to PHL routes."
   ]
  },
  {
   "cell_type": "code",
   "execution_count": 2,
   "metadata": {},
   "outputs": [],
   "source": [
    "# read data and filter for relevant delayed flights\n",
    "jan_df = dc.filterRoutes(pd.read_csv('./month/jan2017.csv'))\n",
    "feb_df = dc.filterRoutes(pd.read_csv('./month/feb2017.csv'))\n",
    "mar_df = dc.filterRoutes(pd.read_csv('./month/mar2017.csv'))\n",
    "apr_df = dc.filterRoutes(pd.read_csv('./month/apr2017.csv'))\n",
    "may_df = dc.filterRoutes(pd.read_csv('./month/may2017.csv'))\n",
    "jun_df = dc.filterRoutes(pd.read_csv('./month/jun2017.csv'))\n",
    "jul_df = dc.filterRoutes(pd.read_csv('./month/jul2017.csv'))\n",
    "aug_df = dc.filterRoutes(pd.read_csv('./month/aug2017.csv'))\n",
    "sep_df = dc.filterRoutes(pd.read_csv('./month/sep2017.csv'))\n",
    "oct_df = dc.filterRoutes(pd.read_csv('./month/oct2017.csv'))\n",
    "nov_df = dc.filterRoutes(pd.read_csv('./month/nov2017.csv'))\n",
    "dec_df = dc.filterRoutes(pd.read_csv('./month/dec2017.csv'))\n",
    "\n",
    "# concatenate dataframes by quarter\n",
    "flights_df = pd.concat([jan_df, feb_df,mar_df,apr_df, may_df, jun_df, jul_df, aug_df, sep_df, oct_df, nov_df, dec_df])\n",
    "\n",
    "# keep hour information from CRS but not minutes\n",
    "flights_df['CRS_DEP_TIME'] = flights_df['CRS_DEP_TIME'] // 100\n",
    "flights_df['CRS_ARR_TIME'] = flights_df['CRS_ARR_TIME'] // 100\n",
    "\n",
    "# change delay information to binary\n",
    "delay_li = ['CARRIER_DELAY','WEATHER_DELAY','NAS_DELAY','LATE_AIRCRAFT_DELAY']\n",
    "for delay in delay_li:\n",
    "    flights_df = dc.changeDelaytoBinary(flights_df, delay)\n",
    "\n",
    "# for DEP_DELAY, we'd like three variables: -1 (early departure), 0 (regular), 1 (late departure)\n",
    "mask = flights_df['DEP_DELAY'] > 0.0\n",
    "flights_df.loc[mask, 'DEP_DELAY'] = 1\n",
    "\n",
    "mask = flights_df['DEP_DELAY'] < 0.0\n",
    "flights_df.loc[mask,'DEP_DELAY'] = -1\n",
    "\n",
    "# TAXI_IN, TAXI_OUT: in 15-minute increments\n",
    "# 0: less than 15, 1: less than 30, ...\n",
    "flights_df['TAXI_IN'] = flights_df['TAXI_IN'] // 15\n",
    "flights_df['TAXI_OUT'] = flights_df['TAXI_OUT'] // 15"
   ]
  },
  {
   "cell_type": "markdown",
   "metadata": {},
   "source": [
    "Secondly, we will read in the data provided by the Federal Aviation Administration (FAA) on airport situations in SFO and PHL in 2017 in 'ASPM : Airport Analysis : Delayed Flights Report.' After reading in the data, we will merge the two dataframes to create one flights_df dataframe."
   ]
  },
  {
   "cell_type": "code",
   "execution_count": 3,
   "metadata": {},
   "outputs": [],
   "source": [
    "airports_df = pd.read_csv('./faa-aspm/airports.csv').dropna(axis=0,how='all')\n",
    "\n",
    "# split Date into MONTH and DAY\n",
    "airports_df['Facility'] = airports_df['Facility'].str.strip()\n",
    "airports_df = dc.dateColumns(airports_df)\n",
    "airports_df = airports_df.drop(['Date','% DelayedGateDepartures','% DelayedGateArrivals','Date'],axis=1)\n",
    "airports_df = airports_df.drop(['DeparturesFor MetricComputation','ArrivalsFor MetricComputation','AverageMinutesOf DelayPer DelayedGateDeparture','AverageMinutesOf DelayPer DelayedGateArrival'],axis=1)\n",
    "\n",
    "# find departure and arrival informations at airport at time of departure/arrival\n",
    "# SFO (departure)\n",
    "flights_SFO_df = pd.merge(flights_df, airports_df, how='inner', left_on=['MONTH','DAY_OF_MONTH','CRS_DEP_TIME'], right_on=['MONTH','DAY','Hour'])\n",
    "flights_SFO_df = flights_SFO_df[flights_SFO_df['Facility'] == 'SFO']\n",
    "# PHL (arrival)\n",
    "flights_PHL_df = pd.merge(flights_df, airports_df, how='inner', left_on=['MONTH','DAY_OF_MONTH','CRS_DEP_TIME'], right_on=['MONTH','DAY','Hour'])\n",
    "flights_PHL_df = flights_PHL_df[flights_PHL_df['Facility'] == 'PHL']\n",
    "# set departure/arrival information as fields of flights_df in intervals of 10\n",
    "flights_df['DelayedDepartureSFO'] = flights_PHL_df['DelayedGateDepartures'] // 10\n",
    "flights_df['ScheduledDepartureSFO'] = flights_PHL_df['ScheduledDepartures'] // 10\n",
    "flights_df['DelayedArrivalPHL'] = flights_PHL_df['DelayedGateArrivals'] // 10\n",
    "flights_df['ScheduledArrivalPHL'] = flights_PHL_df['ScheduledArrivals'] // 10\n",
    "flights_df.fillna(0,inplace=True)\n",
    "flights_df = flights_df.reset_index()\n",
    "flights_df = flights_df.drop(['index'],axis=1)\n",
    "\n",
    "# change all times to binary variable AM (0) or PM (1)\n",
    "CRS_time_li = ['CRS_DEP_TIME', 'CRS_ARR_TIME']\n",
    "for CRS_time in CRS_time_li:\n",
    "    flights_df = dc.changeTimetoBinary(flights_df, CRS_time)"
   ]
  },
  {
   "cell_type": "markdown",
   "metadata": {},
   "source": [
    "We no longer need information about DAY_OF_MONTH, so we will drop that column. The compiled data is as below. Due to the length of each field name, we transpose the dataframe for readability."
   ]
  },
  {
   "cell_type": "code",
   "execution_count": 4,
   "metadata": {},
   "outputs": [
    {
     "data": {
      "text/html": [
       "<div>\n",
       "<table border=\"1\" class=\"dataframe\">\n",
       "  <thead>\n",
       "    <tr style=\"text-align: right;\">\n",
       "      <th></th>\n",
       "      <th>0</th>\n",
       "      <th>1</th>\n",
       "      <th>2</th>\n",
       "      <th>3</th>\n",
       "      <th>4</th>\n",
       "      <th>5</th>\n",
       "      <th>6</th>\n",
       "      <th>7</th>\n",
       "      <th>8</th>\n",
       "      <th>9</th>\n",
       "      <th>...</th>\n",
       "      <th>958</th>\n",
       "      <th>959</th>\n",
       "      <th>960</th>\n",
       "      <th>961</th>\n",
       "      <th>962</th>\n",
       "      <th>963</th>\n",
       "      <th>964</th>\n",
       "      <th>965</th>\n",
       "      <th>966</th>\n",
       "      <th>967</th>\n",
       "    </tr>\n",
       "  </thead>\n",
       "  <tbody>\n",
       "    <tr>\n",
       "      <th>MONTH</th>\n",
       "      <td>1</td>\n",
       "      <td>1</td>\n",
       "      <td>1</td>\n",
       "      <td>1</td>\n",
       "      <td>1</td>\n",
       "      <td>1</td>\n",
       "      <td>1</td>\n",
       "      <td>1</td>\n",
       "      <td>1</td>\n",
       "      <td>1</td>\n",
       "      <td>...</td>\n",
       "      <td>12</td>\n",
       "      <td>12</td>\n",
       "      <td>12</td>\n",
       "      <td>12</td>\n",
       "      <td>12</td>\n",
       "      <td>12</td>\n",
       "      <td>12</td>\n",
       "      <td>12</td>\n",
       "      <td>12</td>\n",
       "      <td>12</td>\n",
       "    </tr>\n",
       "    <tr>\n",
       "      <th>DAY_OF_WEEK</th>\n",
       "      <td>3</td>\n",
       "      <td>6</td>\n",
       "      <td>4</td>\n",
       "      <td>6</td>\n",
       "      <td>7</td>\n",
       "      <td>1</td>\n",
       "      <td>2</td>\n",
       "      <td>4</td>\n",
       "      <td>5</td>\n",
       "      <td>4</td>\n",
       "      <td>...</td>\n",
       "      <td>4</td>\n",
       "      <td>4</td>\n",
       "      <td>3</td>\n",
       "      <td>2</td>\n",
       "      <td>1</td>\n",
       "      <td>2</td>\n",
       "      <td>1</td>\n",
       "      <td>7</td>\n",
       "      <td>5</td>\n",
       "      <td>4</td>\n",
       "    </tr>\n",
       "    <tr>\n",
       "      <th>CRS_DEP_TIME</th>\n",
       "      <td>1</td>\n",
       "      <td>1</td>\n",
       "      <td>1</td>\n",
       "      <td>1</td>\n",
       "      <td>1</td>\n",
       "      <td>1</td>\n",
       "      <td>1</td>\n",
       "      <td>1</td>\n",
       "      <td>1</td>\n",
       "      <td>1</td>\n",
       "      <td>...</td>\n",
       "      <td>1</td>\n",
       "      <td>0</td>\n",
       "      <td>0</td>\n",
       "      <td>0</td>\n",
       "      <td>0</td>\n",
       "      <td>0</td>\n",
       "      <td>1</td>\n",
       "      <td>1</td>\n",
       "      <td>0</td>\n",
       "      <td>1</td>\n",
       "    </tr>\n",
       "    <tr>\n",
       "      <th>DEP_DELAY</th>\n",
       "      <td>1</td>\n",
       "      <td>1</td>\n",
       "      <td>1</td>\n",
       "      <td>1</td>\n",
       "      <td>-1</td>\n",
       "      <td>0</td>\n",
       "      <td>-1</td>\n",
       "      <td>1</td>\n",
       "      <td>1</td>\n",
       "      <td>1</td>\n",
       "      <td>...</td>\n",
       "      <td>1</td>\n",
       "      <td>1</td>\n",
       "      <td>-1</td>\n",
       "      <td>-1</td>\n",
       "      <td>1</td>\n",
       "      <td>1</td>\n",
       "      <td>-1</td>\n",
       "      <td>0</td>\n",
       "      <td>1</td>\n",
       "      <td>0</td>\n",
       "    </tr>\n",
       "    <tr>\n",
       "      <th>TAXI_OUT</th>\n",
       "      <td>1</td>\n",
       "      <td>0</td>\n",
       "      <td>1</td>\n",
       "      <td>1</td>\n",
       "      <td>1</td>\n",
       "      <td>1</td>\n",
       "      <td>1</td>\n",
       "      <td>1</td>\n",
       "      <td>1</td>\n",
       "      <td>2</td>\n",
       "      <td>...</td>\n",
       "      <td>1</td>\n",
       "      <td>1</td>\n",
       "      <td>2</td>\n",
       "      <td>2</td>\n",
       "      <td>3</td>\n",
       "      <td>1</td>\n",
       "      <td>1</td>\n",
       "      <td>1</td>\n",
       "      <td>1</td>\n",
       "      <td>1</td>\n",
       "    </tr>\n",
       "    <tr>\n",
       "      <th>TAXI_IN</th>\n",
       "      <td>0</td>\n",
       "      <td>0</td>\n",
       "      <td>0</td>\n",
       "      <td>0</td>\n",
       "      <td>0</td>\n",
       "      <td>0</td>\n",
       "      <td>0</td>\n",
       "      <td>0</td>\n",
       "      <td>0</td>\n",
       "      <td>0</td>\n",
       "      <td>...</td>\n",
       "      <td>0</td>\n",
       "      <td>0</td>\n",
       "      <td>0</td>\n",
       "      <td>0</td>\n",
       "      <td>0</td>\n",
       "      <td>0</td>\n",
       "      <td>0</td>\n",
       "      <td>0</td>\n",
       "      <td>0</td>\n",
       "      <td>0</td>\n",
       "    </tr>\n",
       "    <tr>\n",
       "      <th>CRS_ARR_TIME</th>\n",
       "      <td>0</td>\n",
       "      <td>0</td>\n",
       "      <td>0</td>\n",
       "      <td>0</td>\n",
       "      <td>0</td>\n",
       "      <td>0</td>\n",
       "      <td>0</td>\n",
       "      <td>0</td>\n",
       "      <td>0</td>\n",
       "      <td>0</td>\n",
       "      <td>...</td>\n",
       "      <td>0</td>\n",
       "      <td>1</td>\n",
       "      <td>1</td>\n",
       "      <td>1</td>\n",
       "      <td>1</td>\n",
       "      <td>1</td>\n",
       "      <td>0</td>\n",
       "      <td>0</td>\n",
       "      <td>1</td>\n",
       "      <td>0</td>\n",
       "    </tr>\n",
       "    <tr>\n",
       "      <th>ARR_DEL15</th>\n",
       "      <td>0</td>\n",
       "      <td>1</td>\n",
       "      <td>0</td>\n",
       "      <td>0</td>\n",
       "      <td>1</td>\n",
       "      <td>0</td>\n",
       "      <td>0</td>\n",
       "      <td>1</td>\n",
       "      <td>0</td>\n",
       "      <td>1</td>\n",
       "      <td>...</td>\n",
       "      <td>1</td>\n",
       "      <td>1</td>\n",
       "      <td>1</td>\n",
       "      <td>0</td>\n",
       "      <td>1</td>\n",
       "      <td>0</td>\n",
       "      <td>0</td>\n",
       "      <td>0</td>\n",
       "      <td>1</td>\n",
       "      <td>1</td>\n",
       "    </tr>\n",
       "    <tr>\n",
       "      <th>CARRIER_DELAY</th>\n",
       "      <td>0</td>\n",
       "      <td>1</td>\n",
       "      <td>0</td>\n",
       "      <td>0</td>\n",
       "      <td>0</td>\n",
       "      <td>0</td>\n",
       "      <td>0</td>\n",
       "      <td>1</td>\n",
       "      <td>0</td>\n",
       "      <td>1</td>\n",
       "      <td>...</td>\n",
       "      <td>1</td>\n",
       "      <td>1</td>\n",
       "      <td>0</td>\n",
       "      <td>0</td>\n",
       "      <td>1</td>\n",
       "      <td>0</td>\n",
       "      <td>0</td>\n",
       "      <td>0</td>\n",
       "      <td>1</td>\n",
       "      <td>0</td>\n",
       "    </tr>\n",
       "    <tr>\n",
       "      <th>WEATHER_DELAY</th>\n",
       "      <td>0</td>\n",
       "      <td>0</td>\n",
       "      <td>0</td>\n",
       "      <td>0</td>\n",
       "      <td>0</td>\n",
       "      <td>0</td>\n",
       "      <td>0</td>\n",
       "      <td>0</td>\n",
       "      <td>0</td>\n",
       "      <td>0</td>\n",
       "      <td>...</td>\n",
       "      <td>0</td>\n",
       "      <td>0</td>\n",
       "      <td>0</td>\n",
       "      <td>0</td>\n",
       "      <td>0</td>\n",
       "      <td>0</td>\n",
       "      <td>0</td>\n",
       "      <td>0</td>\n",
       "      <td>0</td>\n",
       "      <td>0</td>\n",
       "    </tr>\n",
       "    <tr>\n",
       "      <th>NAS_DELAY</th>\n",
       "      <td>0</td>\n",
       "      <td>0</td>\n",
       "      <td>0</td>\n",
       "      <td>0</td>\n",
       "      <td>1</td>\n",
       "      <td>0</td>\n",
       "      <td>0</td>\n",
       "      <td>1</td>\n",
       "      <td>0</td>\n",
       "      <td>1</td>\n",
       "      <td>...</td>\n",
       "      <td>0</td>\n",
       "      <td>0</td>\n",
       "      <td>1</td>\n",
       "      <td>0</td>\n",
       "      <td>1</td>\n",
       "      <td>0</td>\n",
       "      <td>0</td>\n",
       "      <td>0</td>\n",
       "      <td>1</td>\n",
       "      <td>1</td>\n",
       "    </tr>\n",
       "    <tr>\n",
       "      <th>LATE_AIRCRAFT_DELAY</th>\n",
       "      <td>0</td>\n",
       "      <td>1</td>\n",
       "      <td>0</td>\n",
       "      <td>0</td>\n",
       "      <td>0</td>\n",
       "      <td>0</td>\n",
       "      <td>0</td>\n",
       "      <td>1</td>\n",
       "      <td>0</td>\n",
       "      <td>0</td>\n",
       "      <td>...</td>\n",
       "      <td>1</td>\n",
       "      <td>0</td>\n",
       "      <td>0</td>\n",
       "      <td>0</td>\n",
       "      <td>0</td>\n",
       "      <td>0</td>\n",
       "      <td>0</td>\n",
       "      <td>0</td>\n",
       "      <td>0</td>\n",
       "      <td>0</td>\n",
       "    </tr>\n",
       "    <tr>\n",
       "      <th>DelayedDepartureSFO</th>\n",
       "      <td>0</td>\n",
       "      <td>0</td>\n",
       "      <td>0</td>\n",
       "      <td>0</td>\n",
       "      <td>0</td>\n",
       "      <td>0</td>\n",
       "      <td>0</td>\n",
       "      <td>0</td>\n",
       "      <td>0</td>\n",
       "      <td>0</td>\n",
       "      <td>...</td>\n",
       "      <td>0</td>\n",
       "      <td>1</td>\n",
       "      <td>0</td>\n",
       "      <td>1</td>\n",
       "      <td>0</td>\n",
       "      <td>0</td>\n",
       "      <td>0</td>\n",
       "      <td>1</td>\n",
       "      <td>0</td>\n",
       "      <td>1</td>\n",
       "    </tr>\n",
       "    <tr>\n",
       "      <th>ScheduledDepartureSFO</th>\n",
       "      <td>0</td>\n",
       "      <td>0</td>\n",
       "      <td>0</td>\n",
       "      <td>0</td>\n",
       "      <td>0</td>\n",
       "      <td>0</td>\n",
       "      <td>0</td>\n",
       "      <td>0</td>\n",
       "      <td>0</td>\n",
       "      <td>0</td>\n",
       "      <td>...</td>\n",
       "      <td>0</td>\n",
       "      <td>3</td>\n",
       "      <td>0</td>\n",
       "      <td>3</td>\n",
       "      <td>0</td>\n",
       "      <td>3</td>\n",
       "      <td>0</td>\n",
       "      <td>2</td>\n",
       "      <td>0</td>\n",
       "      <td>2</td>\n",
       "    </tr>\n",
       "    <tr>\n",
       "      <th>DelayedArrivalPHL</th>\n",
       "      <td>0</td>\n",
       "      <td>0</td>\n",
       "      <td>0</td>\n",
       "      <td>0</td>\n",
       "      <td>0</td>\n",
       "      <td>0</td>\n",
       "      <td>0</td>\n",
       "      <td>0</td>\n",
       "      <td>0</td>\n",
       "      <td>0</td>\n",
       "      <td>...</td>\n",
       "      <td>0</td>\n",
       "      <td>0</td>\n",
       "      <td>0</td>\n",
       "      <td>0</td>\n",
       "      <td>0</td>\n",
       "      <td>0</td>\n",
       "      <td>0</td>\n",
       "      <td>0</td>\n",
       "      <td>0</td>\n",
       "      <td>0</td>\n",
       "    </tr>\n",
       "    <tr>\n",
       "      <th>ScheduledArrivalPHL</th>\n",
       "      <td>1</td>\n",
       "      <td>0</td>\n",
       "      <td>1</td>\n",
       "      <td>0</td>\n",
       "      <td>1</td>\n",
       "      <td>0</td>\n",
       "      <td>1</td>\n",
       "      <td>0</td>\n",
       "      <td>1</td>\n",
       "      <td>0</td>\n",
       "      <td>...</td>\n",
       "      <td>0</td>\n",
       "      <td>2</td>\n",
       "      <td>0</td>\n",
       "      <td>2</td>\n",
       "      <td>0</td>\n",
       "      <td>2</td>\n",
       "      <td>0</td>\n",
       "      <td>2</td>\n",
       "      <td>0</td>\n",
       "      <td>3</td>\n",
       "    </tr>\n",
       "  </tbody>\n",
       "</table>\n",
       "<p>16 rows × 968 columns</p>\n",
       "</div>"
      ],
      "text/plain": [
       "                       0    1    2    3    4    5    6    7    8    9   ...   \\\n",
       "MONTH                    1    1    1    1    1    1    1    1    1    1 ...    \n",
       "DAY_OF_WEEK              3    6    4    6    7    1    2    4    5    4 ...    \n",
       "CRS_DEP_TIME             1    1    1    1    1    1    1    1    1    1 ...    \n",
       "DEP_DELAY                1    1    1    1   -1    0   -1    1    1    1 ...    \n",
       "TAXI_OUT                 1    0    1    1    1    1    1    1    1    2 ...    \n",
       "TAXI_IN                  0    0    0    0    0    0    0    0    0    0 ...    \n",
       "CRS_ARR_TIME             0    0    0    0    0    0    0    0    0    0 ...    \n",
       "ARR_DEL15                0    1    0    0    1    0    0    1    0    1 ...    \n",
       "CARRIER_DELAY            0    1    0    0    0    0    0    1    0    1 ...    \n",
       "WEATHER_DELAY            0    0    0    0    0    0    0    0    0    0 ...    \n",
       "NAS_DELAY                0    0    0    0    1    0    0    1    0    1 ...    \n",
       "LATE_AIRCRAFT_DELAY      0    1    0    0    0    0    0    1    0    0 ...    \n",
       "DelayedDepartureSFO      0    0    0    0    0    0    0    0    0    0 ...    \n",
       "ScheduledDepartureSFO    0    0    0    0    0    0    0    0    0    0 ...    \n",
       "DelayedArrivalPHL        0    0    0    0    0    0    0    0    0    0 ...    \n",
       "ScheduledArrivalPHL      1    0    1    0    1    0    1    0    1    0 ...    \n",
       "\n",
       "                       958  959  960  961  962  963  964  965  966  967  \n",
       "MONTH                   12   12   12   12   12   12   12   12   12   12  \n",
       "DAY_OF_WEEK              4    4    3    2    1    2    1    7    5    4  \n",
       "CRS_DEP_TIME             1    0    0    0    0    0    1    1    0    1  \n",
       "DEP_DELAY                1    1   -1   -1    1    1   -1    0    1    0  \n",
       "TAXI_OUT                 1    1    2    2    3    1    1    1    1    1  \n",
       "TAXI_IN                  0    0    0    0    0    0    0    0    0    0  \n",
       "CRS_ARR_TIME             0    1    1    1    1    1    0    0    1    0  \n",
       "ARR_DEL15                1    1    1    0    1    0    0    0    1    1  \n",
       "CARRIER_DELAY            1    1    0    0    1    0    0    0    1    0  \n",
       "WEATHER_DELAY            0    0    0    0    0    0    0    0    0    0  \n",
       "NAS_DELAY                0    0    1    0    1    0    0    0    1    1  \n",
       "LATE_AIRCRAFT_DELAY      1    0    0    0    0    0    0    0    0    0  \n",
       "DelayedDepartureSFO      0    1    0    1    0    0    0    1    0    1  \n",
       "ScheduledDepartureSFO    0    3    0    3    0    3    0    2    0    2  \n",
       "DelayedArrivalPHL        0    0    0    0    0    0    0    0    0    0  \n",
       "ScheduledArrivalPHL      0    2    0    2    0    2    0    2    0    3  \n",
       "\n",
       "[16 rows x 968 columns]"
      ]
     },
     "execution_count": 4,
     "metadata": {},
     "output_type": "execute_result"
    }
   ],
   "source": [
    "flights_df = flights_df.drop(['DAY_OF_MONTH'],axis=1)\n",
    "flights_df = flights_df.astype('int')\n",
    "# save as CSV\n",
    "flights_df.to_csv('full_data.csv',index=False)\n",
    "flights_df.transpose()"
   ]
  },
  {
   "cell_type": "markdown",
   "metadata": {},
   "source": [
    "Let the five delay causes (CARRIER_DELAY, WEATHER_DELAY, NAS_DELAY, SECURITY_DELAY, LATE_AIRCRAFT_DELAY) and the variable we are looking to explain (ARR_DEL15) be nodes. We must perform regression analysis to determine dependency relationships."
   ]
  },
  {
   "cell_type": "code",
   "execution_count": 5,
   "metadata": {},
   "outputs": [],
   "source": [
    "# 20% test data\n",
    "from sklearn.model_selection import train_test_split\n",
    "# 774 train data, 194 test data\n",
    "train_df,test_df = train_test_split(flights_df, test_size=0.2)\n",
    "# save as CSV\n",
    "train_df.to_csv('train_data.csv',index=False)\n",
    "test_df.to_csv('test_data.csv',index=False)"
   ]
  },
  {
   "cell_type": "markdown",
   "metadata": {},
   "source": [
    "## Finding Dependencies: Regression Analysis"
   ]
  },
  {
   "cell_type": "markdown",
   "metadata": {},
   "source": [
    "We use the Ordinary Least Squares (OLS) method to find dependencies, starting with what we know to be the final outcome: ARR_DEL15 (which is 0 if the flight does not arrive more than 15 minutes late, 1 otherwise). As we find dependencies, we will also be making sure that we are not creating any accidental cycles."
   ]
  },
  {
   "cell_type": "code",
   "execution_count": 6,
   "metadata": {},
   "outputs": [],
   "source": [
    "bn = nx.DiGraph()\n",
    "flight_edges_df = pd.DataFrame(columns=['from_node', 'to_node'])"
   ]
  },
  {
   "cell_type": "markdown",
   "metadata": {},
   "source": [
    "### ARR_DEL15"
   ]
  },
  {
   "cell_type": "code",
   "execution_count": 7,
   "metadata": {},
   "outputs": [
    {
     "data": {
      "text/html": [
       "<table class=\"simpletable\">\n",
       "<caption>OLS Regression Results</caption>\n",
       "<tr>\n",
       "  <th>Dep. Variable:</th>        <td>ARR_DEL15</td>    <th>  R-squared:         </th> <td>   0.897</td>\n",
       "</tr>\n",
       "<tr>\n",
       "  <th>Model:</th>                   <td>OLS</td>       <th>  Adj. R-squared:    </th> <td>   0.896</td>\n",
       "</tr>\n",
       "<tr>\n",
       "  <th>Method:</th>             <td>Least Squares</td>  <th>  F-statistic:       </th> <td>   952.1</td>\n",
       "</tr>\n",
       "<tr>\n",
       "  <th>Date:</th>             <td>Sun, 06 May 2018</td> <th>  Prob (F-statistic):</th>  <td>  0.00</td> \n",
       "</tr>\n",
       "<tr>\n",
       "  <th>Time:</th>                 <td>20:34:50</td>     <th>  Log-Likelihood:    </th> <td>  20.897</td>\n",
       "</tr>\n",
       "<tr>\n",
       "  <th>No. Observations:</th>      <td>   774</td>      <th>  AIC:               </th> <td>  -27.79</td>\n",
       "</tr>\n",
       "<tr>\n",
       "  <th>Df Residuals:</th>          <td>   767</td>      <th>  BIC:               </th> <td>   4.768</td>\n",
       "</tr>\n",
       "<tr>\n",
       "  <th>Df Model:</th>              <td>     7</td>      <th>                     </th>     <td> </td>   \n",
       "</tr>\n",
       "<tr>\n",
       "  <th>Covariance Type:</th>      <td>nonrobust</td>    <th>                     </th>     <td> </td>   \n",
       "</tr>\n",
       "</table>\n",
       "<table class=\"simpletable\">\n",
       "<tr>\n",
       "            <td></td>               <th>coef</th>     <th>std err</th>      <th>t</th>      <th>P>|t|</th>  <th>[0.025</th>    <th>0.975]</th>  \n",
       "</tr>\n",
       "<tr>\n",
       "  <th>CRS_DEP_TIME</th>          <td>    0.0906</td> <td>    0.016</td> <td>    5.747</td> <td> 0.000</td> <td>    0.060</td> <td>    0.122</td>\n",
       "</tr>\n",
       "<tr>\n",
       "  <th>CRS_ARR_TIME</th>          <td>    0.1126</td> <td>    0.014</td> <td>    8.308</td> <td> 0.000</td> <td>    0.086</td> <td>    0.139</td>\n",
       "</tr>\n",
       "<tr>\n",
       "  <th>CARRIER_DELAY</th>         <td>    0.4003</td> <td>    0.021</td> <td>   19.041</td> <td> 0.000</td> <td>    0.359</td> <td>    0.442</td>\n",
       "</tr>\n",
       "<tr>\n",
       "  <th>NAS_DELAY</th>             <td>    0.6582</td> <td>    0.018</td> <td>   37.573</td> <td> 0.000</td> <td>    0.624</td> <td>    0.693</td>\n",
       "</tr>\n",
       "<tr>\n",
       "  <th>LATE_AIRCRAFT_DELAY</th>   <td>    0.3651</td> <td>    0.022</td> <td>   16.391</td> <td> 0.000</td> <td>    0.321</td> <td>    0.409</td>\n",
       "</tr>\n",
       "<tr>\n",
       "  <th>DelayedDepartureSFO</th>   <td>    0.1117</td> <td>    0.037</td> <td>    3.046</td> <td> 0.002</td> <td>    0.040</td> <td>    0.184</td>\n",
       "</tr>\n",
       "<tr>\n",
       "  <th>ScheduledDepartureSFO</th> <td>   -0.0099</td> <td>    0.006</td> <td>   -1.559</td> <td> 0.119</td> <td>   -0.022</td> <td>    0.003</td>\n",
       "</tr>\n",
       "</table>\n",
       "<table class=\"simpletable\">\n",
       "<tr>\n",
       "  <th>Omnibus:</th>       <td>39.280</td> <th>  Durbin-Watson:     </th> <td>   2.001</td>\n",
       "</tr>\n",
       "<tr>\n",
       "  <th>Prob(Omnibus):</th> <td> 0.000</td> <th>  Jarque-Bera (JB):  </th> <td>  44.094</td>\n",
       "</tr>\n",
       "<tr>\n",
       "  <th>Skew:</th>          <td> 0.554</td> <th>  Prob(JB):          </th> <td>2.66e-10</td>\n",
       "</tr>\n",
       "<tr>\n",
       "  <th>Kurtosis:</th>      <td> 3.373</td> <th>  Cond. No.          </th> <td>    7.74</td>\n",
       "</tr>\n",
       "</table>"
      ],
      "text/plain": [
       "<class 'statsmodels.iolib.summary.Summary'>\n",
       "\"\"\"\n",
       "                            OLS Regression Results                            \n",
       "==============================================================================\n",
       "Dep. Variable:              ARR_DEL15   R-squared:                       0.897\n",
       "Model:                            OLS   Adj. R-squared:                  0.896\n",
       "Method:                 Least Squares   F-statistic:                     952.1\n",
       "Date:                Sun, 06 May 2018   Prob (F-statistic):               0.00\n",
       "Time:                        20:34:50   Log-Likelihood:                 20.897\n",
       "No. Observations:                 774   AIC:                            -27.79\n",
       "Df Residuals:                     767   BIC:                             4.768\n",
       "Df Model:                           7                                         \n",
       "Covariance Type:            nonrobust                                         \n",
       "=========================================================================================\n",
       "                            coef    std err          t      P>|t|      [0.025      0.975]\n",
       "-----------------------------------------------------------------------------------------\n",
       "CRS_DEP_TIME              0.0906      0.016      5.747      0.000       0.060       0.122\n",
       "CRS_ARR_TIME              0.1126      0.014      8.308      0.000       0.086       0.139\n",
       "CARRIER_DELAY             0.4003      0.021     19.041      0.000       0.359       0.442\n",
       "NAS_DELAY                 0.6582      0.018     37.573      0.000       0.624       0.693\n",
       "LATE_AIRCRAFT_DELAY       0.3651      0.022     16.391      0.000       0.321       0.409\n",
       "DelayedDepartureSFO       0.1117      0.037      3.046      0.002       0.040       0.184\n",
       "ScheduledDepartureSFO    -0.0099      0.006     -1.559      0.119      -0.022       0.003\n",
       "==============================================================================\n",
       "Omnibus:                       39.280   Durbin-Watson:                   2.001\n",
       "Prob(Omnibus):                  0.000   Jarque-Bera (JB):               44.094\n",
       "Skew:                           0.554   Prob(JB):                     2.66e-10\n",
       "Kurtosis:                       3.373   Cond. No.                         7.74\n",
       "==============================================================================\n",
       "\n",
       "Warnings:\n",
       "[1] Standard Errors assume that the covariance matrix of the errors is correctly specified.\n",
       "\"\"\""
      ]
     },
     "execution_count": 7,
     "metadata": {},
     "output_type": "execute_result"
    }
   ],
   "source": [
    "arr_15_from = ['CRS_DEP_TIME', 'CRS_ARR_TIME', 'CARRIER_DELAY', 'NAS_DELAY', 'LATE_AIRCRAFT_DELAY', 'DelayedDepartureSFO', 'ScheduledDepartureSFO']\n",
    "gf.regression_model(train_df, arr_15_from, 'ARR_DEL15').summary()"
   ]
  },
  {
   "cell_type": "code",
   "execution_count": 8,
   "metadata": {},
   "outputs": [
    {
     "name": "stdout",
     "output_type": "stream",
     "text": [
      "No cycle found! You may proceed.\n"
     ]
    },
    {
     "data": {
      "image/png": "[encoded data removed]",
      "text/plain": [
       "<Figure size 432x288 with 1 Axes>"
      ]
     },
     "metadata": {},
     "output_type": "display_data"
    }
   ],
   "source": [
    "# update dataframe of edges and draw graph\n",
    "flight_edges_df, bn = gf.update_flights_edges_df(arr_15_from, 'ARR_DEL15',flight_edges_df)\n",
    "gf.draw_graph(flight_edges_df,'initial_bn.png')"
   ]
  },
  {
   "cell_type": "markdown",
   "metadata": {},
   "source": [
    "Using regressional analysis, we conclude that ARR_DEL15 is dependent on six factors. So far, we do not have any cycles (remember that a Bayesian network consists of a directed acyclic graph), so we may proceed by moving onto finding more dependencies by choosing an arbitrary parent of ARR_DEL15."
   ]
  },
  {
   "cell_type": "markdown",
   "metadata": {},
   "source": [
    "### NAS Delay"
   ]
  },
  {
   "cell_type": "code",
   "execution_count": 9,
   "metadata": {},
   "outputs": [
    {
     "data": {
      "text/html": [
       "<table class=\"simpletable\">\n",
       "<caption>OLS Regression Results</caption>\n",
       "<tr>\n",
       "  <th>Dep. Variable:</th>        <td>NAS_DELAY</td>    <th>  R-squared:         </th> <td>   0.507</td> \n",
       "</tr>\n",
       "<tr>\n",
       "  <th>Model:</th>                   <td>OLS</td>       <th>  Adj. R-squared:    </th> <td>   0.502</td> \n",
       "</tr>\n",
       "<tr>\n",
       "  <th>Method:</th>             <td>Least Squares</td>  <th>  F-statistic:       </th> <td>   112.5</td> \n",
       "</tr>\n",
       "<tr>\n",
       "  <th>Date:</th>             <td>Sun, 06 May 2018</td> <th>  Prob (F-statistic):</th> <td>3.74e-113</td>\n",
       "</tr>\n",
       "<tr>\n",
       "  <th>Time:</th>                 <td>20:34:51</td>     <th>  Log-Likelihood:    </th> <td> -442.33</td> \n",
       "</tr>\n",
       "<tr>\n",
       "  <th>No. Observations:</th>      <td>   774</td>      <th>  AIC:               </th> <td>   898.7</td> \n",
       "</tr>\n",
       "<tr>\n",
       "  <th>Df Residuals:</th>          <td>   767</td>      <th>  BIC:               </th> <td>   931.2</td> \n",
       "</tr>\n",
       "<tr>\n",
       "  <th>Df Model:</th>              <td>     7</td>      <th>                     </th>     <td> </td>    \n",
       "</tr>\n",
       "<tr>\n",
       "  <th>Covariance Type:</th>      <td>nonrobust</td>    <th>                     </th>     <td> </td>    \n",
       "</tr>\n",
       "</table>\n",
       "<table class=\"simpletable\">\n",
       "<tr>\n",
       "           <td></td>              <th>coef</th>     <th>std err</th>      <th>t</th>      <th>P>|t|</th>  <th>[0.025</th>    <th>0.975]</th>  \n",
       "</tr>\n",
       "<tr>\n",
       "  <th>CRS_DEP_TIME</th>        <td>   -0.0954</td> <td>    0.036</td> <td>   -2.674</td> <td> 0.008</td> <td>   -0.165</td> <td>   -0.025</td>\n",
       "</tr>\n",
       "<tr>\n",
       "  <th>TAXI_OUT</th>            <td>    0.2543</td> <td>    0.018</td> <td>   14.482</td> <td> 0.000</td> <td>    0.220</td> <td>    0.289</td>\n",
       "</tr>\n",
       "<tr>\n",
       "  <th>TAXI_IN</th>             <td>    0.0897</td> <td>    0.028</td> <td>    3.252</td> <td> 0.001</td> <td>    0.036</td> <td>    0.144</td>\n",
       "</tr>\n",
       "<tr>\n",
       "  <th>CRS_ARR_TIME</th>        <td>   -0.0600</td> <td>    0.032</td> <td>   -1.852</td> <td> 0.064</td> <td>   -0.124</td> <td>    0.004</td>\n",
       "</tr>\n",
       "<tr>\n",
       "  <th>CARRIER_DELAY</th>       <td>    0.1987</td> <td>    0.038</td> <td>    5.218</td> <td> 0.000</td> <td>    0.124</td> <td>    0.273</td>\n",
       "</tr>\n",
       "<tr>\n",
       "  <th>LATE_AIRCRAFT_DELAY</th> <td>    0.1327</td> <td>    0.041</td> <td>    3.269</td> <td> 0.001</td> <td>    0.053</td> <td>    0.212</td>\n",
       "</tr>\n",
       "<tr>\n",
       "  <th>DelayedDepartureSFO</th> <td>   -0.0559</td> <td>    0.061</td> <td>   -0.924</td> <td> 0.356</td> <td>   -0.175</td> <td>    0.063</td>\n",
       "</tr>\n",
       "</table>\n",
       "<table class=\"simpletable\">\n",
       "<tr>\n",
       "  <th>Omnibus:</th>       <td>197.428</td> <th>  Durbin-Watson:     </th> <td>   1.955</td>\n",
       "</tr>\n",
       "<tr>\n",
       "  <th>Prob(Omnibus):</th> <td> 0.000</td>  <th>  Jarque-Bera (JB):  </th> <td>  70.926</td>\n",
       "</tr>\n",
       "<tr>\n",
       "  <th>Skew:</th>          <td> 0.547</td>  <th>  Prob(JB):          </th> <td>3.97e-16</td>\n",
       "</tr>\n",
       "<tr>\n",
       "  <th>Kurtosis:</th>      <td> 1.999</td>  <th>  Cond. No.          </th> <td>    7.19</td>\n",
       "</tr>\n",
       "</table>"
      ],
      "text/plain": [
       "<class 'statsmodels.iolib.summary.Summary'>\n",
       "\"\"\"\n",
       "                            OLS Regression Results                            \n",
       "==============================================================================\n",
       "Dep. Variable:              NAS_DELAY   R-squared:                       0.507\n",
       "Model:                            OLS   Adj. R-squared:                  0.502\n",
       "Method:                 Least Squares   F-statistic:                     112.5\n",
       "Date:                Sun, 06 May 2018   Prob (F-statistic):          3.74e-113\n",
       "Time:                        20:34:51   Log-Likelihood:                -442.33\n",
       "No. Observations:                 774   AIC:                             898.7\n",
       "Df Residuals:                     767   BIC:                             931.2\n",
       "Df Model:                           7                                         \n",
       "Covariance Type:            nonrobust                                         \n",
       "=======================================================================================\n",
       "                          coef    std err          t      P>|t|      [0.025      0.975]\n",
       "---------------------------------------------------------------------------------------\n",
       "CRS_DEP_TIME           -0.0954      0.036     -2.674      0.008      -0.165      -0.025\n",
       "TAXI_OUT                0.2543      0.018     14.482      0.000       0.220       0.289\n",
       "TAXI_IN                 0.0897      0.028      3.252      0.001       0.036       0.144\n",
       "CRS_ARR_TIME           -0.0600      0.032     -1.852      0.064      -0.124       0.004\n",
       "CARRIER_DELAY           0.1987      0.038      5.218      0.000       0.124       0.273\n",
       "LATE_AIRCRAFT_DELAY     0.1327      0.041      3.269      0.001       0.053       0.212\n",
       "DelayedDepartureSFO    -0.0559      0.061     -0.924      0.356      -0.175       0.063\n",
       "==============================================================================\n",
       "Omnibus:                      197.428   Durbin-Watson:                   1.955\n",
       "Prob(Omnibus):                  0.000   Jarque-Bera (JB):               70.926\n",
       "Skew:                           0.547   Prob(JB):                     3.97e-16\n",
       "Kurtosis:                       1.999   Cond. No.                         7.19\n",
       "==============================================================================\n",
       "\n",
       "Warnings:\n",
       "[1] Standard Errors assume that the covariance matrix of the errors is correctly specified.\n",
       "\"\"\""
      ]
     },
     "execution_count": 9,
     "metadata": {},
     "output_type": "execute_result"
    }
   ],
   "source": [
    "nas_delay_from =['CRS_DEP_TIME', 'TAXI_OUT', 'TAXI_IN', 'CRS_ARR_TIME', 'CARRIER_DELAY', 'LATE_AIRCRAFT_DELAY', 'DelayedDepartureSFO']\n",
    "gf.regression_model(train_df,nas_delay_from, 'NAS_DELAY').summary()"
   ]
  },
  {
   "cell_type": "code",
   "execution_count": 10,
   "metadata": {},
   "outputs": [
    {
     "name": "stdout",
     "output_type": "stream",
     "text": [
      "No cycle found! You may proceed.\n"
     ]
    }
   ],
   "source": [
    "flight_edges_df, bn = gf.update_flights_edges_df(nas_delay_from, 'NAS_DELAY',flight_edges_df)"
   ]
  },
  {
   "cell_type": "code",
   "execution_count": 11,
   "metadata": {},
   "outputs": [
    {
     "data": {
      "image/png": "[encoded data removed]",
      "text/plain": [
       "<Figure size 432x288 with 1 Axes>"
      ]
     },
     "metadata": {},
     "output_type": "display_data"
    }
   ],
   "source": [
    "gf.draw_graph(flight_edges_df, 'nas-arr_del15.png')"
   ]
  },
  {
   "cell_type": "markdown",
   "metadata": {},
   "source": [
    "### Late Aircraft Delay"
   ]
  },
  {
   "cell_type": "markdown",
   "metadata": {},
   "source": [
    "Now, we took a look at the variables that LATE_AIRCRAFT_DELAY rely on. From this point on, we will not display the graph."
   ]
  },
  {
   "cell_type": "code",
   "execution_count": 12,
   "metadata": {},
   "outputs": [
    {
     "data": {
      "text/html": [
       "<table class=\"simpletable\">\n",
       "<caption>OLS Regression Results</caption>\n",
       "<tr>\n",
       "  <th>Dep. Variable:</th>    <td>LATE_AIRCRAFT_DELAY</td> <th>  R-squared:         </th> <td>   0.373</td>\n",
       "</tr>\n",
       "<tr>\n",
       "  <th>Model:</th>                    <td>OLS</td>         <th>  Adj. R-squared:    </th> <td>   0.369</td>\n",
       "</tr>\n",
       "<tr>\n",
       "  <th>Method:</th>              <td>Least Squares</td>    <th>  F-statistic:       </th> <td>   91.68</td>\n",
       "</tr>\n",
       "<tr>\n",
       "  <th>Date:</th>              <td>Sun, 06 May 2018</td>   <th>  Prob (F-statistic):</th> <td>1.11e-75</td>\n",
       "</tr>\n",
       "<tr>\n",
       "  <th>Time:</th>                  <td>20:34:51</td>       <th>  Log-Likelihood:    </th> <td> -309.66</td>\n",
       "</tr>\n",
       "<tr>\n",
       "  <th>No. Observations:</th>       <td>   774</td>        <th>  AIC:               </th> <td>   629.3</td>\n",
       "</tr>\n",
       "<tr>\n",
       "  <th>Df Residuals:</th>           <td>   769</td>        <th>  BIC:               </th> <td>   652.6</td>\n",
       "</tr>\n",
       "<tr>\n",
       "  <th>Df Model:</th>               <td>     5</td>        <th>                     </th>     <td> </td>   \n",
       "</tr>\n",
       "<tr>\n",
       "  <th>Covariance Type:</th>       <td>nonrobust</td>      <th>                     </th>     <td> </td>   \n",
       "</tr>\n",
       "</table>\n",
       "<table class=\"simpletable\">\n",
       "<tr>\n",
       "            <td></td>               <th>coef</th>     <th>std err</th>      <th>t</th>      <th>P>|t|</th>  <th>[0.025</th>    <th>0.975]</th>  \n",
       "</tr>\n",
       "<tr>\n",
       "  <th>CRS_DEP_TIME</th>          <td>    0.1486</td> <td>    0.023</td> <td>    6.485</td> <td> 0.000</td> <td>    0.104</td> <td>    0.194</td>\n",
       "</tr>\n",
       "<tr>\n",
       "  <th>DEP_DELAY</th>             <td>    0.1695</td> <td>    0.014</td> <td>   12.317</td> <td> 0.000</td> <td>    0.143</td> <td>    0.197</td>\n",
       "</tr>\n",
       "<tr>\n",
       "  <th>CRS_ARR_TIME</th>          <td>    0.1164</td> <td>    0.020</td> <td>    5.809</td> <td> 0.000</td> <td>    0.077</td> <td>    0.156</td>\n",
       "</tr>\n",
       "<tr>\n",
       "  <th>NAS_DELAY</th>             <td>    0.0683</td> <td>    0.026</td> <td>    2.579</td> <td> 0.010</td> <td>    0.016</td> <td>    0.120</td>\n",
       "</tr>\n",
       "<tr>\n",
       "  <th>ScheduledDepartureSFO</th> <td>    0.0157</td> <td>    0.009</td> <td>    1.800</td> <td> 0.072</td> <td>   -0.001</td> <td>    0.033</td>\n",
       "</tr>\n",
       "</table>\n",
       "<table class=\"simpletable\">\n",
       "<tr>\n",
       "  <th>Omnibus:</th>       <td>86.109</td> <th>  Durbin-Watson:     </th> <td>   2.018</td>\n",
       "</tr>\n",
       "<tr>\n",
       "  <th>Prob(Omnibus):</th> <td> 0.000</td> <th>  Jarque-Bera (JB):  </th> <td>  88.318</td>\n",
       "</tr>\n",
       "<tr>\n",
       "  <th>Skew:</th>          <td> 0.771</td> <th>  Prob(JB):          </th> <td>6.64e-20</td>\n",
       "</tr>\n",
       "<tr>\n",
       "  <th>Kurtosis:</th>      <td> 2.400</td> <th>  Cond. No.          </th> <td>    4.18</td>\n",
       "</tr>\n",
       "</table>"
      ],
      "text/plain": [
       "<class 'statsmodels.iolib.summary.Summary'>\n",
       "\"\"\"\n",
       "                             OLS Regression Results                            \n",
       "===============================================================================\n",
       "Dep. Variable:     LATE_AIRCRAFT_DELAY   R-squared:                       0.373\n",
       "Model:                             OLS   Adj. R-squared:                  0.369\n",
       "Method:                  Least Squares   F-statistic:                     91.68\n",
       "Date:                 Sun, 06 May 2018   Prob (F-statistic):           1.11e-75\n",
       "Time:                         20:34:51   Log-Likelihood:                -309.66\n",
       "No. Observations:                  774   AIC:                             629.3\n",
       "Df Residuals:                      769   BIC:                             652.6\n",
       "Df Model:                            5                                         \n",
       "Covariance Type:             nonrobust                                         \n",
       "=========================================================================================\n",
       "                            coef    std err          t      P>|t|      [0.025      0.975]\n",
       "-----------------------------------------------------------------------------------------\n",
       "CRS_DEP_TIME              0.1486      0.023      6.485      0.000       0.104       0.194\n",
       "DEP_DELAY                 0.1695      0.014     12.317      0.000       0.143       0.197\n",
       "CRS_ARR_TIME              0.1164      0.020      5.809      0.000       0.077       0.156\n",
       "NAS_DELAY                 0.0683      0.026      2.579      0.010       0.016       0.120\n",
       "ScheduledDepartureSFO     0.0157      0.009      1.800      0.072      -0.001       0.033\n",
       "==============================================================================\n",
       "Omnibus:                       86.109   Durbin-Watson:                   2.018\n",
       "Prob(Omnibus):                  0.000   Jarque-Bera (JB):               88.318\n",
       "Skew:                           0.771   Prob(JB):                     6.64e-20\n",
       "Kurtosis:                       2.400   Cond. No.                         4.18\n",
       "==============================================================================\n",
       "\n",
       "Warnings:\n",
       "[1] Standard Errors assume that the covariance matrix of the errors is correctly specified.\n",
       "\"\"\""
      ]
     },
     "execution_count": 12,
     "metadata": {},
     "output_type": "execute_result"
    }
   ],
   "source": [
    "late_aircraft_from = ['CRS_DEP_TIME', 'DEP_DELAY', 'CRS_ARR_TIME', 'NAS_DELAY', 'ScheduledDepartureSFO']\n",
    "gf.regression_model(train_df, late_aircraft_from, 'LATE_AIRCRAFT_DELAY').summary()"
   ]
  },
  {
   "cell_type": "code",
   "execution_count": 13,
   "metadata": {},
   "outputs": [
    {
     "name": "stdout",
     "output_type": "stream",
     "text": [
      "[('NAS_DELAY', 'LATE_AIRCRAFT_DELAY'), ('LATE_AIRCRAFT_DELAY', 'NAS_DELAY')]\n"
     ]
    }
   ],
   "source": [
    "flight_edges_df, bn = gf.update_flights_edges_df(late_aircraft_from, 'LATE_AIRCRAFT_DELAY',flight_edges_df)"
   ]
  },
  {
   "cell_type": "markdown",
   "metadata": {},
   "source": [
    "Since __NAS_DELAY__ and __LATE_AIRCRAFT_DELAY__ have edges pointing to each other, we must decide which edge we are going to get rid of. The FAA (http://aspmhelp.faa.gov/index.php/Types_of_Delay) defines __NAS_DELAY__ as delay that is \"within the control of the National Airspace System (NAS),\" including \"non-extreme weather conditions, airport operations, heavy traffic volume, air traffic control, etc.\" It goes on to state that delays at the destination airport that occur after Actual Gate Out time are attributed to the NAS (such as gate in delay and taxi in delay). On the other hand, FAA defines __LATE_AIRCRAFT_DELAY__ as arrival delay due to the ripple effect of an earlier delay at downstream airports is referred to as delay propagation. That is, the two seem to have no direct relationship with one another at all. Therefore, we remove both edges."
   ]
  },
  {
   "cell_type": "code",
   "execution_count": 14,
   "metadata": {},
   "outputs": [
    {
     "name": "stdout",
     "output_type": "stream",
     "text": [
      "No cycle found! You may proceed.\n",
      "No cycle found! You may proceed.\n"
     ]
    }
   ],
   "source": [
    "flight_edges_df, _ = gf.remove_edge('NAS_DELAY', 'LATE_AIRCRAFT_DELAY', flight_edges_df)\n",
    "flight_edges_df, bn = gf.remove_edge('LATE_AIRCRAFT_DELAY', 'NAS_DELAY', flight_edges_df)"
   ]
  },
  {
   "cell_type": "markdown",
   "metadata": {},
   "source": [
    "### Carrier Delay"
   ]
  },
  {
   "cell_type": "code",
   "execution_count": 15,
   "metadata": {},
   "outputs": [
    {
     "data": {
      "text/html": [
       "<table class=\"simpletable\">\n",
       "<caption>OLS Regression Results</caption>\n",
       "<tr>\n",
       "  <th>Dep. Variable:</th>      <td>CARRIER_DELAY</td>  <th>  R-squared:         </th> <td>   0.451</td>\n",
       "</tr>\n",
       "<tr>\n",
       "  <th>Model:</th>                   <td>OLS</td>       <th>  Adj. R-squared:    </th> <td>   0.447</td>\n",
       "</tr>\n",
       "<tr>\n",
       "  <th>Method:</th>             <td>Least Squares</td>  <th>  F-statistic:       </th> <td>   105.3</td>\n",
       "</tr>\n",
       "<tr>\n",
       "  <th>Date:</th>             <td>Sun, 06 May 2018</td> <th>  Prob (F-statistic):</th> <td>1.20e-96</td>\n",
       "</tr>\n",
       "<tr>\n",
       "  <th>Time:</th>                 <td>20:34:51</td>     <th>  Log-Likelihood:    </th> <td> -326.46</td>\n",
       "</tr>\n",
       "<tr>\n",
       "  <th>No. Observations:</th>      <td>   774</td>      <th>  AIC:               </th> <td>   664.9</td>\n",
       "</tr>\n",
       "<tr>\n",
       "  <th>Df Residuals:</th>          <td>   768</td>      <th>  BIC:               </th> <td>   692.8</td>\n",
       "</tr>\n",
       "<tr>\n",
       "  <th>Df Model:</th>              <td>     6</td>      <th>                     </th>     <td> </td>   \n",
       "</tr>\n",
       "<tr>\n",
       "  <th>Covariance Type:</th>      <td>nonrobust</td>    <th>                     </th>     <td> </td>   \n",
       "</tr>\n",
       "</table>\n",
       "<table class=\"simpletable\">\n",
       "<tr>\n",
       "        <td></td>           <th>coef</th>     <th>std err</th>      <th>t</th>      <th>P>|t|</th>  <th>[0.025</th>    <th>0.975]</th>  \n",
       "</tr>\n",
       "<tr>\n",
       "  <th>CRS_DEP_TIME</th>  <td>    0.2312</td> <td>    0.029</td> <td>    7.984</td> <td> 0.000</td> <td>    0.174</td> <td>    0.288</td>\n",
       "</tr>\n",
       "<tr>\n",
       "  <th>DEP_DELAY</th>     <td>    0.1939</td> <td>    0.014</td> <td>   13.393</td> <td> 0.000</td> <td>    0.166</td> <td>    0.222</td>\n",
       "</tr>\n",
       "<tr>\n",
       "  <th>TAXI_OUT</th>      <td>   -0.0488</td> <td>    0.017</td> <td>   -2.875</td> <td> 0.004</td> <td>   -0.082</td> <td>   -0.015</td>\n",
       "</tr>\n",
       "<tr>\n",
       "  <th>CRS_ARR_TIME</th>  <td>    0.1922</td> <td>    0.026</td> <td>    7.332</td> <td> 0.000</td> <td>    0.141</td> <td>    0.244</td>\n",
       "</tr>\n",
       "<tr>\n",
       "  <th>WEATHER_DELAY</th> <td>   -0.4922</td> <td>    0.186</td> <td>   -2.641</td> <td> 0.008</td> <td>   -0.858</td> <td>   -0.126</td>\n",
       "</tr>\n",
       "<tr>\n",
       "  <th>NAS_DELAY</th>     <td>    0.1522</td> <td>    0.030</td> <td>    5.032</td> <td> 0.000</td> <td>    0.093</td> <td>    0.212</td>\n",
       "</tr>\n",
       "</table>\n",
       "<table class=\"simpletable\">\n",
       "<tr>\n",
       "  <th>Omnibus:</th>       <td>135.650</td> <th>  Durbin-Watson:     </th> <td>   2.056</td>\n",
       "</tr>\n",
       "<tr>\n",
       "  <th>Prob(Omnibus):</th> <td> 0.000</td>  <th>  Jarque-Bera (JB):  </th> <td>  42.982</td>\n",
       "</tr>\n",
       "<tr>\n",
       "  <th>Skew:</th>          <td> 0.333</td>  <th>  Prob(JB):          </th> <td>4.64e-10</td>\n",
       "</tr>\n",
       "<tr>\n",
       "  <th>Kurtosis:</th>      <td> 2.057</td>  <th>  Cond. No.          </th> <td>    26.0</td>\n",
       "</tr>\n",
       "</table>"
      ],
      "text/plain": [
       "<class 'statsmodels.iolib.summary.Summary'>\n",
       "\"\"\"\n",
       "                            OLS Regression Results                            \n",
       "==============================================================================\n",
       "Dep. Variable:          CARRIER_DELAY   R-squared:                       0.451\n",
       "Model:                            OLS   Adj. R-squared:                  0.447\n",
       "Method:                 Least Squares   F-statistic:                     105.3\n",
       "Date:                Sun, 06 May 2018   Prob (F-statistic):           1.20e-96\n",
       "Time:                        20:34:51   Log-Likelihood:                -326.46\n",
       "No. Observations:                 774   AIC:                             664.9\n",
       "Df Residuals:                     768   BIC:                             692.8\n",
       "Df Model:                           6                                         \n",
       "Covariance Type:            nonrobust                                         \n",
       "=================================================================================\n",
       "                    coef    std err          t      P>|t|      [0.025      0.975]\n",
       "---------------------------------------------------------------------------------\n",
       "CRS_DEP_TIME      0.2312      0.029      7.984      0.000       0.174       0.288\n",
       "DEP_DELAY         0.1939      0.014     13.393      0.000       0.166       0.222\n",
       "TAXI_OUT         -0.0488      0.017     -2.875      0.004      -0.082      -0.015\n",
       "CRS_ARR_TIME      0.1922      0.026      7.332      0.000       0.141       0.244\n",
       "WEATHER_DELAY    -0.4922      0.186     -2.641      0.008      -0.858      -0.126\n",
       "NAS_DELAY         0.1522      0.030      5.032      0.000       0.093       0.212\n",
       "==============================================================================\n",
       "Omnibus:                      135.650   Durbin-Watson:                   2.056\n",
       "Prob(Omnibus):                  0.000   Jarque-Bera (JB):               42.982\n",
       "Skew:                           0.333   Prob(JB):                     4.64e-10\n",
       "Kurtosis:                       2.057   Cond. No.                         26.0\n",
       "==============================================================================\n",
       "\n",
       "Warnings:\n",
       "[1] Standard Errors assume that the covariance matrix of the errors is correctly specified.\n",
       "\"\"\""
      ]
     },
     "execution_count": 15,
     "metadata": {},
     "output_type": "execute_result"
    }
   ],
   "source": [
    "carrier_delay_from = ['CRS_DEP_TIME', 'DEP_DELAY', 'TAXI_OUT', 'CRS_ARR_TIME', 'WEATHER_DELAY', 'NAS_DELAY']\n",
    "gf.regression_model(train_df, carrier_delay_from, 'CARRIER_DELAY').summary()"
   ]
  },
  {
   "cell_type": "code",
   "execution_count": 16,
   "metadata": {},
   "outputs": [
    {
     "name": "stdout",
     "output_type": "stream",
     "text": [
      "[('NAS_DELAY', 'CARRIER_DELAY'), ('CARRIER_DELAY', 'NAS_DELAY')]\n"
     ]
    }
   ],
   "source": [
    "flight_edges_df, bn = gf.update_flights_edges_df(carrier_delay_from, 'CARRIER_DELAY',flight_edges_df)"
   ]
  },
  {
   "cell_type": "markdown",
   "metadata": {},
   "source": [
    "__CARRIER_DELAY__ is within the control of the air carrier, such as: aircraft cleaning, aircraft damage, awaiting the arrival of connecting passengers or crew, baggage, bird strike, cargo loading, catering, computer, outage-carrier equipment, crew legality (pilot or attendant rest), damage by hazardous goods, engineering inspection, fueling, handling disabled passengers, late crew, lavatory servicing, maintenance, oversales, potable water servicing, removal of unruly passenger, slow boarding or seating, stowing carry-on baggage, weight and balance delays. This seems to have little to do with __NAS_DELAY__ and vice versa. Thus, we remove both edges"
   ]
  },
  {
   "cell_type": "code",
   "execution_count": 17,
   "metadata": {},
   "outputs": [
    {
     "name": "stdout",
     "output_type": "stream",
     "text": [
      "No cycle found! You may proceed.\n",
      "No cycle found! You may proceed.\n"
     ]
    }
   ],
   "source": [
    "# remove both edges\n",
    "flight_edges_df, _ = gf.remove_edge('CARRIER_DELAY','NAS_DELAY', flight_edges_df)\n",
    "flight_edges_df, bn = gf.remove_edge('NAS_DELAY','CARRIER_DELAY', flight_edges_df)"
   ]
  },
  {
   "cell_type": "markdown",
   "metadata": {},
   "source": [
    "Recall that FAA defines __LATE_AIRCRAFT_DELAY__ as arrival delay due to the ripple effect of an earlier delay at downstream airports is referred to as delay propagation. It would seem probable that a late prior aircraft could cause carrier delay but not the other way around. Thus, we only remove the edge from CARRIER_DELAY to LATE_AIRCRAFT_DELAY."
   ]
  },
  {
   "cell_type": "markdown",
   "metadata": {},
   "source": [
    "### WEATHER_DELAY"
   ]
  },
  {
   "cell_type": "code",
   "execution_count": 18,
   "metadata": {},
   "outputs": [
    {
     "data": {
      "text/html": [
       "<table class=\"simpletable\">\n",
       "<caption>OLS Regression Results</caption>\n",
       "<tr>\n",
       "  <th>Dep. Variable:</th>      <td>WEATHER_DELAY</td>  <th>  R-squared:         </th> <td>   0.024</td>\n",
       "</tr>\n",
       "<tr>\n",
       "  <th>Model:</th>                   <td>OLS</td>       <th>  Adj. R-squared:    </th> <td>   0.019</td>\n",
       "</tr>\n",
       "<tr>\n",
       "  <th>Method:</th>             <td>Least Squares</td>  <th>  F-statistic:       </th> <td>   4.796</td>\n",
       "</tr>\n",
       "<tr>\n",
       "  <th>Date:</th>             <td>Sun, 06 May 2018</td> <th>  Prob (F-statistic):</th> <td>0.000795</td>\n",
       "</tr>\n",
       "<tr>\n",
       "  <th>Time:</th>                 <td>20:34:51</td>     <th>  Log-Likelihood:    </th> <td>  948.93</td>\n",
       "</tr>\n",
       "<tr>\n",
       "  <th>No. Observations:</th>      <td>   774</td>      <th>  AIC:               </th> <td>  -1890.</td>\n",
       "</tr>\n",
       "<tr>\n",
       "  <th>Df Residuals:</th>          <td>   770</td>      <th>  BIC:               </th> <td>  -1871.</td>\n",
       "</tr>\n",
       "<tr>\n",
       "  <th>Df Model:</th>              <td>     4</td>      <th>                     </th>     <td> </td>   \n",
       "</tr>\n",
       "<tr>\n",
       "  <th>Covariance Type:</th>      <td>nonrobust</td>    <th>                     </th>     <td> </td>   \n",
       "</tr>\n",
       "</table>\n",
       "<table class=\"simpletable\">\n",
       "<tr>\n",
       "          <td></td>             <th>coef</th>     <th>std err</th>      <th>t</th>      <th>P>|t|</th>  <th>[0.025</th>    <th>0.975]</th>  \n",
       "</tr>\n",
       "<tr>\n",
       "  <th>DEP_DELAY</th>         <td>    0.0079</td> <td>    0.003</td> <td>    2.626</td> <td> 0.009</td> <td>    0.002</td> <td>    0.014</td>\n",
       "</tr>\n",
       "<tr>\n",
       "  <th>CARRIER_DELAY</th>     <td>   -0.0157</td> <td>    0.006</td> <td>   -2.421</td> <td> 0.016</td> <td>   -0.028</td> <td>   -0.003</td>\n",
       "</tr>\n",
       "<tr>\n",
       "  <th>NAS_DELAY</th>         <td>    0.0126</td> <td>    0.005</td> <td>    2.730</td> <td> 0.006</td> <td>    0.004</td> <td>    0.022</td>\n",
       "</tr>\n",
       "<tr>\n",
       "  <th>DelayedArrivalPHL</th> <td>    0.0278</td> <td>    0.012</td> <td>    2.351</td> <td> 0.019</td> <td>    0.005</td> <td>    0.051</td>\n",
       "</tr>\n",
       "</table>\n",
       "<table class=\"simpletable\">\n",
       "<tr>\n",
       "  <th>Omnibus:</th>       <td>1457.144</td> <th>  Durbin-Watson:     </th>  <td>   2.009</td>  \n",
       "</tr>\n",
       "<tr>\n",
       "  <th>Prob(Omnibus):</th>  <td> 0.000</td>  <th>  Jarque-Bera (JB):  </th> <td>1071139.490</td>\n",
       "</tr>\n",
       "<tr>\n",
       "  <th>Skew:</th>           <td>13.347</td>  <th>  Prob(JB):          </th>  <td>    0.00</td>  \n",
       "</tr>\n",
       "<tr>\n",
       "  <th>Kurtosis:</th>       <td>183.280</td> <th>  Cond. No.          </th>  <td>    4.79</td>  \n",
       "</tr>\n",
       "</table>"
      ],
      "text/plain": [
       "<class 'statsmodels.iolib.summary.Summary'>\n",
       "\"\"\"\n",
       "                            OLS Regression Results                            \n",
       "==============================================================================\n",
       "Dep. Variable:          WEATHER_DELAY   R-squared:                       0.024\n",
       "Model:                            OLS   Adj. R-squared:                  0.019\n",
       "Method:                 Least Squares   F-statistic:                     4.796\n",
       "Date:                Sun, 06 May 2018   Prob (F-statistic):           0.000795\n",
       "Time:                        20:34:51   Log-Likelihood:                 948.93\n",
       "No. Observations:                 774   AIC:                            -1890.\n",
       "Df Residuals:                     770   BIC:                            -1871.\n",
       "Df Model:                           4                                         \n",
       "Covariance Type:            nonrobust                                         \n",
       "=====================================================================================\n",
       "                        coef    std err          t      P>|t|      [0.025      0.975]\n",
       "-------------------------------------------------------------------------------------\n",
       "DEP_DELAY             0.0079      0.003      2.626      0.009       0.002       0.014\n",
       "CARRIER_DELAY        -0.0157      0.006     -2.421      0.016      -0.028      -0.003\n",
       "NAS_DELAY             0.0126      0.005      2.730      0.006       0.004       0.022\n",
       "DelayedArrivalPHL     0.0278      0.012      2.351      0.019       0.005       0.051\n",
       "==============================================================================\n",
       "Omnibus:                     1457.144   Durbin-Watson:                   2.009\n",
       "Prob(Omnibus):                  0.000   Jarque-Bera (JB):          1071139.490\n",
       "Skew:                          13.347   Prob(JB):                         0.00\n",
       "Kurtosis:                     183.280   Cond. No.                         4.79\n",
       "==============================================================================\n",
       "\n",
       "Warnings:\n",
       "[1] Standard Errors assume that the covariance matrix of the errors is correctly specified.\n",
       "\"\"\""
      ]
     },
     "execution_count": 18,
     "metadata": {},
     "output_type": "execute_result"
    }
   ],
   "source": [
    "weather_delay_from = ['DEP_DELAY', 'CARRIER_DELAY', 'NAS_DELAY', 'DelayedArrivalPHL']\n",
    "gf.regression_model(train_df, weather_delay_from, 'WEATHER_DELAY').summary()"
   ]
  },
  {
   "cell_type": "code",
   "execution_count": 19,
   "metadata": {},
   "outputs": [
    {
     "name": "stdout",
     "output_type": "stream",
     "text": [
      "[('WEATHER_DELAY', 'CARRIER_DELAY'), ('CARRIER_DELAY', 'WEATHER_DELAY')]\n"
     ]
    }
   ],
   "source": [
    "flight_edges_df, bn = gf.update_flights_edges_df(weather_delay_from, 'WEATHER_DELAY',flight_edges_df)"
   ]
  },
  {
   "cell_type": "code",
   "execution_count": 20,
   "metadata": {},
   "outputs": [
    {
     "name": "stdout",
     "output_type": "stream",
     "text": [
      "No cycle found! You may proceed.\n"
     ]
    }
   ],
   "source": [
    "flight_edges_df, bn = gf.remove_edge('CARRIER_DELAY', 'WEATHER_DELAY', flight_edges_df)"
   ]
  },
  {
   "cell_type": "markdown",
   "metadata": {},
   "source": [
    "### CRS Arrival Time"
   ]
  },
  {
   "cell_type": "code",
   "execution_count": 21,
   "metadata": {},
   "outputs": [
    {
     "data": {
      "text/html": [
       "<table class=\"simpletable\">\n",
       "<caption>OLS Regression Results</caption>\n",
       "<tr>\n",
       "  <th>Dep. Variable:</th>      <td>CRS_ARR_TIME</td>   <th>  R-squared:         </th> <td>   0.776</td> \n",
       "</tr>\n",
       "<tr>\n",
       "  <th>Model:</th>                   <td>OLS</td>       <th>  Adj. R-squared:    </th> <td>   0.773</td> \n",
       "</tr>\n",
       "<tr>\n",
       "  <th>Method:</th>             <td>Least Squares</td>  <th>  F-statistic:       </th> <td>   378.5</td> \n",
       "</tr>\n",
       "<tr>\n",
       "  <th>Date:</th>             <td>Sun, 06 May 2018</td> <th>  Prob (F-statistic):</th> <td>7.19e-244</td>\n",
       "</tr>\n",
       "<tr>\n",
       "  <th>Time:</th>                 <td>20:34:51</td>     <th>  Log-Likelihood:    </th> <td> -336.02</td> \n",
       "</tr>\n",
       "<tr>\n",
       "  <th>No. Observations:</th>      <td>   774</td>      <th>  AIC:               </th> <td>   686.0</td> \n",
       "</tr>\n",
       "<tr>\n",
       "  <th>Df Residuals:</th>          <td>   767</td>      <th>  BIC:               </th> <td>   718.6</td> \n",
       "</tr>\n",
       "<tr>\n",
       "  <th>Df Model:</th>              <td>     7</td>      <th>                     </th>     <td> </td>    \n",
       "</tr>\n",
       "<tr>\n",
       "  <th>Covariance Type:</th>      <td>nonrobust</td>    <th>                     </th>     <td> </td>    \n",
       "</tr>\n",
       "</table>\n",
       "<table class=\"simpletable\">\n",
       "<tr>\n",
       "            <td></td>               <th>coef</th>     <th>std err</th>      <th>t</th>      <th>P>|t|</th>  <th>[0.025</th>    <th>0.975]</th>  \n",
       "</tr>\n",
       "<tr>\n",
       "  <th>MONTH</th>                 <td>    0.0366</td> <td>    0.004</td> <td>    9.830</td> <td> 0.000</td> <td>    0.029</td> <td>    0.044</td>\n",
       "</tr>\n",
       "<tr>\n",
       "  <th>DAY_OF_WEEK</th>           <td>    0.0740</td> <td>    0.006</td> <td>   12.935</td> <td> 0.000</td> <td>    0.063</td> <td>    0.085</td>\n",
       "</tr>\n",
       "<tr>\n",
       "  <th>CRS_DEP_TIME</th>          <td>   -0.7276</td> <td>    0.027</td> <td>  -26.471</td> <td> 0.000</td> <td>   -0.782</td> <td>   -0.674</td>\n",
       "</tr>\n",
       "<tr>\n",
       "  <th>TAXI_OUT</th>              <td>    0.1688</td> <td>    0.015</td> <td>   11.312</td> <td> 0.000</td> <td>    0.140</td> <td>    0.198</td>\n",
       "</tr>\n",
       "<tr>\n",
       "  <th>CARRIER_DELAY</th>         <td>    0.1491</td> <td>    0.033</td> <td>    4.554</td> <td> 0.000</td> <td>    0.085</td> <td>    0.213</td>\n",
       "</tr>\n",
       "<tr>\n",
       "  <th>LATE_AIRCRAFT_DELAY</th>   <td>    0.1694</td> <td>    0.035</td> <td>    4.865</td> <td> 0.000</td> <td>    0.101</td> <td>    0.238</td>\n",
       "</tr>\n",
       "<tr>\n",
       "  <th>ScheduledDepartureSFO</th> <td>    0.0199</td> <td>    0.009</td> <td>    2.175</td> <td> 0.030</td> <td>    0.002</td> <td>    0.038</td>\n",
       "</tr>\n",
       "</table>\n",
       "<table class=\"simpletable\">\n",
       "<tr>\n",
       "  <th>Omnibus:</th>       <td>14.539</td> <th>  Durbin-Watson:     </th> <td>   2.054</td>\n",
       "</tr>\n",
       "<tr>\n",
       "  <th>Prob(Omnibus):</th> <td> 0.001</td> <th>  Jarque-Bera (JB):  </th> <td>  17.409</td>\n",
       "</tr>\n",
       "<tr>\n",
       "  <th>Skew:</th>          <td> 0.242</td> <th>  Prob(JB):          </th> <td>0.000166</td>\n",
       "</tr>\n",
       "<tr>\n",
       "  <th>Kurtosis:</th>      <td> 3.553</td> <th>  Cond. No.          </th> <td>    24.9</td>\n",
       "</tr>\n",
       "</table>"
      ],
      "text/plain": [
       "<class 'statsmodels.iolib.summary.Summary'>\n",
       "\"\"\"\n",
       "                            OLS Regression Results                            \n",
       "==============================================================================\n",
       "Dep. Variable:           CRS_ARR_TIME   R-squared:                       0.776\n",
       "Model:                            OLS   Adj. R-squared:                  0.773\n",
       "Method:                 Least Squares   F-statistic:                     378.5\n",
       "Date:                Sun, 06 May 2018   Prob (F-statistic):          7.19e-244\n",
       "Time:                        20:34:51   Log-Likelihood:                -336.02\n",
       "No. Observations:                 774   AIC:                             686.0\n",
       "Df Residuals:                     767   BIC:                             718.6\n",
       "Df Model:                           7                                         \n",
       "Covariance Type:            nonrobust                                         \n",
       "=========================================================================================\n",
       "                            coef    std err          t      P>|t|      [0.025      0.975]\n",
       "-----------------------------------------------------------------------------------------\n",
       "MONTH                     0.0366      0.004      9.830      0.000       0.029       0.044\n",
       "DAY_OF_WEEK               0.0740      0.006     12.935      0.000       0.063       0.085\n",
       "CRS_DEP_TIME             -0.7276      0.027    -26.471      0.000      -0.782      -0.674\n",
       "TAXI_OUT                  0.1688      0.015     11.312      0.000       0.140       0.198\n",
       "CARRIER_DELAY             0.1491      0.033      4.554      0.000       0.085       0.213\n",
       "LATE_AIRCRAFT_DELAY       0.1694      0.035      4.865      0.000       0.101       0.238\n",
       "ScheduledDepartureSFO     0.0199      0.009      2.175      0.030       0.002       0.038\n",
       "==============================================================================\n",
       "Omnibus:                       14.539   Durbin-Watson:                   2.054\n",
       "Prob(Omnibus):                  0.001   Jarque-Bera (JB):               17.409\n",
       "Skew:                           0.242   Prob(JB):                     0.000166\n",
       "Kurtosis:                       3.553   Cond. No.                         24.9\n",
       "==============================================================================\n",
       "\n",
       "Warnings:\n",
       "[1] Standard Errors assume that the covariance matrix of the errors is correctly specified.\n",
       "\"\"\""
      ]
     },
     "execution_count": 21,
     "metadata": {},
     "output_type": "execute_result"
    }
   ],
   "source": [
    "crs_arrival_from = ['MONTH', 'DAY_OF_WEEK', 'CRS_DEP_TIME', 'TAXI_OUT', 'CARRIER_DELAY', 'LATE_AIRCRAFT_DELAY', 'ScheduledDepartureSFO']\n",
    "gf.regression_model(train_df, crs_arrival_from, 'CRS_ARR_TIME').summary()"
   ]
  },
  {
   "cell_type": "code",
   "execution_count": 22,
   "metadata": {},
   "outputs": [
    {
     "name": "stdout",
     "output_type": "stream",
     "text": [
      "[('NAS_DELAY', 'WEATHER_DELAY'), ('WEATHER_DELAY', 'CARRIER_DELAY'), ('CARRIER_DELAY', 'CRS_ARR_TIME'), ('CRS_ARR_TIME', 'NAS_DELAY')]\n"
     ]
    }
   ],
   "source": [
    "flight_edges_df, bn = gf.update_flights_edges_df(crs_arrival_from, 'CRS_ARR_TIME', flight_edges_df)"
   ]
  },
  {
   "cell_type": "code",
   "execution_count": 23,
   "metadata": {},
   "outputs": [
    {
     "name": "stdout",
     "output_type": "stream",
     "text": [
      "[('LATE_AIRCRAFT_DELAY', 'CRS_ARR_TIME'), ('CRS_ARR_TIME', 'LATE_AIRCRAFT_DELAY')]\n"
     ]
    }
   ],
   "source": [
    "flight_edges_df, bn = gf.remove_edge('CARRIER_DELAY', 'CRS_ARR_TIME', flight_edges_df)"
   ]
  },
  {
   "cell_type": "code",
   "execution_count": 24,
   "metadata": {},
   "outputs": [
    {
     "name": "stdout",
     "output_type": "stream",
     "text": [
      "No cycle found! You may proceed.\n"
     ]
    }
   ],
   "source": [
    "flight_edges_df, bn = gf.remove_edge('LATE_AIRCRAFT_DELAY', 'CRS_ARR_TIME', flight_edges_df)"
   ]
  },
  {
   "cell_type": "markdown",
   "metadata": {},
   "source": [
    "### CRS Departure Time"
   ]
  },
  {
   "cell_type": "code",
   "execution_count": 25,
   "metadata": {},
   "outputs": [
    {
     "data": {
      "text/html": [
       "<table class=\"simpletable\">\n",
       "<caption>OLS Regression Results</caption>\n",
       "<tr>\n",
       "  <th>Dep. Variable:</th>      <td>CRS_DEP_TIME</td>   <th>  R-squared:         </th> <td>   0.714</td> \n",
       "</tr>\n",
       "<tr>\n",
       "  <th>Model:</th>                   <td>OLS</td>       <th>  Adj. R-squared:    </th> <td>   0.712</td> \n",
       "</tr>\n",
       "<tr>\n",
       "  <th>Method:</th>             <td>Least Squares</td>  <th>  F-statistic:       </th> <td>   274.1</td> \n",
       "</tr>\n",
       "<tr>\n",
       "  <th>Date:</th>             <td>Sun, 06 May 2018</td> <th>  Prob (F-statistic):</th> <td>7.06e-204</td>\n",
       "</tr>\n",
       "<tr>\n",
       "  <th>Time:</th>                 <td>20:34:51</td>     <th>  Log-Likelihood:    </th> <td> -296.03</td> \n",
       "</tr>\n",
       "<tr>\n",
       "  <th>No. Observations:</th>      <td>   774</td>      <th>  AIC:               </th> <td>   606.1</td> \n",
       "</tr>\n",
       "<tr>\n",
       "  <th>Df Residuals:</th>          <td>   767</td>      <th>  BIC:               </th> <td>   638.6</td> \n",
       "</tr>\n",
       "<tr>\n",
       "  <th>Df Model:</th>              <td>     7</td>      <th>                     </th>     <td> </td>    \n",
       "</tr>\n",
       "<tr>\n",
       "  <th>Covariance Type:</th>      <td>nonrobust</td>    <th>                     </th>     <td> </td>    \n",
       "</tr>\n",
       "</table>\n",
       "<table class=\"simpletable\">\n",
       "<tr>\n",
       "            <td></td>               <th>coef</th>     <th>std err</th>      <th>t</th>      <th>P>|t|</th>  <th>[0.025</th>    <th>0.975]</th>  \n",
       "</tr>\n",
       "<tr>\n",
       "  <th>MONTH</th>                 <td>    0.0330</td> <td>    0.004</td> <td>    9.274</td> <td> 0.000</td> <td>    0.026</td> <td>    0.040</td>\n",
       "</tr>\n",
       "<tr>\n",
       "  <th>DAY_OF_WEEK</th>           <td>    0.0627</td> <td>    0.006</td> <td>   11.295</td> <td> 0.000</td> <td>    0.052</td> <td>    0.074</td>\n",
       "</tr>\n",
       "<tr>\n",
       "  <th>TAXI_OUT</th>              <td>    0.1516</td> <td>    0.014</td> <td>   10.599</td> <td> 0.000</td> <td>    0.123</td> <td>    0.180</td>\n",
       "</tr>\n",
       "<tr>\n",
       "  <th>CRS_ARR_TIME</th>          <td>   -0.6562</td> <td>    0.025</td> <td>  -26.471</td> <td> 0.000</td> <td>   -0.705</td> <td>   -0.607</td>\n",
       "</tr>\n",
       "<tr>\n",
       "  <th>CARRIER_DELAY</th>         <td>    0.1867</td> <td>    0.031</td> <td>    6.062</td> <td> 0.000</td> <td>    0.126</td> <td>    0.247</td>\n",
       "</tr>\n",
       "<tr>\n",
       "  <th>LATE_AIRCRAFT_DELAY</th>   <td>    0.2007</td> <td>    0.033</td> <td>    6.121</td> <td> 0.000</td> <td>    0.136</td> <td>    0.265</td>\n",
       "</tr>\n",
       "<tr>\n",
       "  <th>ScheduledDepartureSFO</th> <td>    0.0161</td> <td>    0.009</td> <td>    1.858</td> <td> 0.064</td> <td>   -0.001</td> <td>    0.033</td>\n",
       "</tr>\n",
       "</table>\n",
       "<table class=\"simpletable\">\n",
       "<tr>\n",
       "  <th>Omnibus:</th>       <td>41.257</td> <th>  Durbin-Watson:     </th> <td>   2.055</td>\n",
       "</tr>\n",
       "<tr>\n",
       "  <th>Prob(Omnibus):</th> <td> 0.000</td> <th>  Jarque-Bera (JB):  </th> <td>  48.705</td>\n",
       "</tr>\n",
       "<tr>\n",
       "  <th>Skew:</th>          <td> 0.531</td> <th>  Prob(JB):          </th> <td>2.65e-11</td>\n",
       "</tr>\n",
       "<tr>\n",
       "  <th>Kurtosis:</th>      <td> 3.617</td> <th>  Cond. No.          </th> <td>    24.9</td>\n",
       "</tr>\n",
       "</table>"
      ],
      "text/plain": [
       "<class 'statsmodels.iolib.summary.Summary'>\n",
       "\"\"\"\n",
       "                            OLS Regression Results                            \n",
       "==============================================================================\n",
       "Dep. Variable:           CRS_DEP_TIME   R-squared:                       0.714\n",
       "Model:                            OLS   Adj. R-squared:                  0.712\n",
       "Method:                 Least Squares   F-statistic:                     274.1\n",
       "Date:                Sun, 06 May 2018   Prob (F-statistic):          7.06e-204\n",
       "Time:                        20:34:51   Log-Likelihood:                -296.03\n",
       "No. Observations:                 774   AIC:                             606.1\n",
       "Df Residuals:                     767   BIC:                             638.6\n",
       "Df Model:                           7                                         \n",
       "Covariance Type:            nonrobust                                         \n",
       "=========================================================================================\n",
       "                            coef    std err          t      P>|t|      [0.025      0.975]\n",
       "-----------------------------------------------------------------------------------------\n",
       "MONTH                     0.0330      0.004      9.274      0.000       0.026       0.040\n",
       "DAY_OF_WEEK               0.0627      0.006     11.295      0.000       0.052       0.074\n",
       "TAXI_OUT                  0.1516      0.014     10.599      0.000       0.123       0.180\n",
       "CRS_ARR_TIME             -0.6562      0.025    -26.471      0.000      -0.705      -0.607\n",
       "CARRIER_DELAY             0.1867      0.031      6.062      0.000       0.126       0.247\n",
       "LATE_AIRCRAFT_DELAY       0.2007      0.033      6.121      0.000       0.136       0.265\n",
       "ScheduledDepartureSFO     0.0161      0.009      1.858      0.064      -0.001       0.033\n",
       "==============================================================================\n",
       "Omnibus:                       41.257   Durbin-Watson:                   2.055\n",
       "Prob(Omnibus):                  0.000   Jarque-Bera (JB):               48.705\n",
       "Skew:                           0.531   Prob(JB):                     2.65e-11\n",
       "Kurtosis:                       3.617   Cond. No.                         24.9\n",
       "==============================================================================\n",
       "\n",
       "Warnings:\n",
       "[1] Standard Errors assume that the covariance matrix of the errors is correctly specified.\n",
       "\"\"\""
      ]
     },
     "execution_count": 25,
     "metadata": {},
     "output_type": "execute_result"
    }
   ],
   "source": [
    "crs_departure_from = ['MONTH', 'DAY_OF_WEEK', 'TAXI_OUT', 'CRS_ARR_TIME', 'CARRIER_DELAY', 'LATE_AIRCRAFT_DELAY', 'ScheduledDepartureSFO'] \n",
    "gf.regression_model(train_df, crs_departure_from, 'CRS_DEP_TIME').summary()"
   ]
  },
  {
   "cell_type": "code",
   "execution_count": 26,
   "metadata": {},
   "outputs": [
    {
     "name": "stdout",
     "output_type": "stream",
     "text": [
      "[('CRS_DEP_TIME', 'NAS_DELAY'), ('NAS_DELAY', 'WEATHER_DELAY'), ('WEATHER_DELAY', 'CARRIER_DELAY'), ('CARRIER_DELAY', 'CRS_DEP_TIME')]\n"
     ]
    }
   ],
   "source": [
    "flight_edges_df, bn = gf.update_flights_edges_df(crs_departure_from, 'CRS_DEP_TIME', flight_edges_df)"
   ]
  },
  {
   "cell_type": "code",
   "execution_count": 27,
   "metadata": {},
   "outputs": [
    {
     "name": "stdout",
     "output_type": "stream",
     "text": [
      "[('CRS_DEP_TIME', 'LATE_AIRCRAFT_DELAY'), ('LATE_AIRCRAFT_DELAY', 'CRS_DEP_TIME')]\n"
     ]
    }
   ],
   "source": [
    "flight_edges_df, bn = gf.remove_edge('CARRIER_DELAY', 'CRS_DEP_TIME', flight_edges_df)"
   ]
  },
  {
   "cell_type": "code",
   "execution_count": 28,
   "metadata": {},
   "outputs": [
    {
     "name": "stdout",
     "output_type": "stream",
     "text": [
      "[('CRS_DEP_TIME', 'CRS_ARR_TIME'), ('CRS_ARR_TIME', 'CRS_DEP_TIME')]\n"
     ]
    }
   ],
   "source": [
    "flight_edges_df, bn = gf.remove_edge('LATE_AIRCRAFT_DELAY', 'CRS_DEP_TIME', flight_edges_df)"
   ]
  },
  {
   "cell_type": "code",
   "execution_count": 29,
   "metadata": {},
   "outputs": [
    {
     "name": "stdout",
     "output_type": "stream",
     "text": [
      "No cycle found! You may proceed.\n"
     ]
    }
   ],
   "source": [
    "flight_edges_df, bn = gf.remove_edge('CRS_DEP_TIME', 'CRS_ARR_TIME', flight_edges_df)"
   ]
  },
  {
   "cell_type": "markdown",
   "metadata": {},
   "source": [
    "### Taxi Out"
   ]
  },
  {
   "cell_type": "markdown",
   "metadata": {},
   "source": [
    "Taxi Out Time, in Minutes."
   ]
  },
  {
   "cell_type": "code",
   "execution_count": 30,
   "metadata": {},
   "outputs": [
    {
     "data": {
      "text/html": [
       "<table class=\"simpletable\">\n",
       "<caption>OLS Regression Results</caption>\n",
       "<tr>\n",
       "  <th>Dep. Variable:</th>        <td>TAXI_OUT</td>     <th>  R-squared:         </th> <td>   0.802</td> \n",
       "</tr>\n",
       "<tr>\n",
       "  <th>Model:</th>                   <td>OLS</td>       <th>  Adj. R-squared:    </th> <td>   0.800</td> \n",
       "</tr>\n",
       "<tr>\n",
       "  <th>Method:</th>             <td>Least Squares</td>  <th>  F-statistic:       </th> <td>   444.5</td> \n",
       "</tr>\n",
       "<tr>\n",
       "  <th>Date:</th>             <td>Sun, 06 May 2018</td> <th>  Prob (F-statistic):</th> <td>5.76e-265</td>\n",
       "</tr>\n",
       "<tr>\n",
       "  <th>Time:</th>                 <td>20:34:51</td>     <th>  Log-Likelihood:    </th> <td> -866.40</td> \n",
       "</tr>\n",
       "<tr>\n",
       "  <th>No. Observations:</th>      <td>   774</td>      <th>  AIC:               </th> <td>   1747.</td> \n",
       "</tr>\n",
       "<tr>\n",
       "  <th>Df Residuals:</th>          <td>   767</td>      <th>  BIC:               </th> <td>   1779.</td> \n",
       "</tr>\n",
       "<tr>\n",
       "  <th>Df Model:</th>              <td>     7</td>      <th>                     </th>     <td> </td>    \n",
       "</tr>\n",
       "<tr>\n",
       "  <th>Covariance Type:</th>      <td>nonrobust</td>    <th>                     </th>     <td> </td>    \n",
       "</tr>\n",
       "</table>\n",
       "<table class=\"simpletable\">\n",
       "<tr>\n",
       "        <td></td>           <th>coef</th>     <th>std err</th>      <th>t</th>      <th>P>|t|</th>  <th>[0.025</th>    <th>0.975]</th>  \n",
       "</tr>\n",
       "<tr>\n",
       "  <th>MONTH</th>         <td>    0.0631</td> <td>    0.007</td> <td>    8.689</td> <td> 0.000</td> <td>    0.049</td> <td>    0.077</td>\n",
       "</tr>\n",
       "<tr>\n",
       "  <th>CRS_DEP_TIME</th>  <td>    0.7378</td> <td>    0.064</td> <td>   11.607</td> <td> 0.000</td> <td>    0.613</td> <td>    0.863</td>\n",
       "</tr>\n",
       "<tr>\n",
       "  <th>DEP_DELAY</th>     <td>   -0.1237</td> <td>    0.032</td> <td>   -3.855</td> <td> 0.000</td> <td>   -0.187</td> <td>   -0.061</td>\n",
       "</tr>\n",
       "<tr>\n",
       "  <th>TAXI_IN</th>       <td>   -0.1368</td> <td>    0.048</td> <td>   -2.868</td> <td> 0.004</td> <td>   -0.230</td> <td>   -0.043</td>\n",
       "</tr>\n",
       "<tr>\n",
       "  <th>CRS_ARR_TIME</th>  <td>    0.7118</td> <td>    0.059</td> <td>   12.131</td> <td> 0.000</td> <td>    0.597</td> <td>    0.827</td>\n",
       "</tr>\n",
       "<tr>\n",
       "  <th>CARRIER_DELAY</th> <td>   -0.2295</td> <td>    0.072</td> <td>   -3.190</td> <td> 0.001</td> <td>   -0.371</td> <td>   -0.088</td>\n",
       "</tr>\n",
       "<tr>\n",
       "  <th>NAS_DELAY</th>     <td>    0.7853</td> <td>    0.055</td> <td>   14.169</td> <td> 0.000</td> <td>    0.677</td> <td>    0.894</td>\n",
       "</tr>\n",
       "</table>\n",
       "<table class=\"simpletable\">\n",
       "<tr>\n",
       "  <th>Omnibus:</th>       <td>104.909</td> <th>  Durbin-Watson:     </th> <td>   2.090</td>\n",
       "</tr>\n",
       "<tr>\n",
       "  <th>Prob(Omnibus):</th> <td> 0.000</td>  <th>  Jarque-Bera (JB):  </th> <td> 218.803</td>\n",
       "</tr>\n",
       "<tr>\n",
       "  <th>Skew:</th>          <td> 0.782</td>  <th>  Prob(JB):          </th> <td>3.07e-48</td>\n",
       "</tr>\n",
       "<tr>\n",
       "  <th>Kurtosis:</th>      <td> 5.083</td>  <th>  Cond. No.          </th> <td>    23.5</td>\n",
       "</tr>\n",
       "</table>"
      ],
      "text/plain": [
       "<class 'statsmodels.iolib.summary.Summary'>\n",
       "\"\"\"\n",
       "                            OLS Regression Results                            \n",
       "==============================================================================\n",
       "Dep. Variable:               TAXI_OUT   R-squared:                       0.802\n",
       "Model:                            OLS   Adj. R-squared:                  0.800\n",
       "Method:                 Least Squares   F-statistic:                     444.5\n",
       "Date:                Sun, 06 May 2018   Prob (F-statistic):          5.76e-265\n",
       "Time:                        20:34:51   Log-Likelihood:                -866.40\n",
       "No. Observations:                 774   AIC:                             1747.\n",
       "Df Residuals:                     767   BIC:                             1779.\n",
       "Df Model:                           7                                         \n",
       "Covariance Type:            nonrobust                                         \n",
       "=================================================================================\n",
       "                    coef    std err          t      P>|t|      [0.025      0.975]\n",
       "---------------------------------------------------------------------------------\n",
       "MONTH             0.0631      0.007      8.689      0.000       0.049       0.077\n",
       "CRS_DEP_TIME      0.7378      0.064     11.607      0.000       0.613       0.863\n",
       "DEP_DELAY        -0.1237      0.032     -3.855      0.000      -0.187      -0.061\n",
       "TAXI_IN          -0.1368      0.048     -2.868      0.004      -0.230      -0.043\n",
       "CRS_ARR_TIME      0.7118      0.059     12.131      0.000       0.597       0.827\n",
       "CARRIER_DELAY    -0.2295      0.072     -3.190      0.001      -0.371      -0.088\n",
       "NAS_DELAY         0.7853      0.055     14.169      0.000       0.677       0.894\n",
       "==============================================================================\n",
       "Omnibus:                      104.909   Durbin-Watson:                   2.090\n",
       "Prob(Omnibus):                  0.000   Jarque-Bera (JB):              218.803\n",
       "Skew:                           0.782   Prob(JB):                     3.07e-48\n",
       "Kurtosis:                       5.083   Cond. No.                         23.5\n",
       "==============================================================================\n",
       "\n",
       "Warnings:\n",
       "[1] Standard Errors assume that the covariance matrix of the errors is correctly specified.\n",
       "\"\"\""
      ]
     },
     "execution_count": 30,
     "metadata": {},
     "output_type": "execute_result"
    }
   ],
   "source": [
    "taxi_out_from = ['MONTH', 'CRS_DEP_TIME', 'DEP_DELAY', 'TAXI_IN', 'CRS_ARR_TIME', 'CARRIER_DELAY', 'NAS_DELAY']\n",
    "gf.regression_model(train_df, taxi_out_from, 'TAXI_OUT').summary()"
   ]
  },
  {
   "cell_type": "code",
   "execution_count": 31,
   "metadata": {},
   "outputs": [
    {
     "name": "stdout",
     "output_type": "stream",
     "text": [
      "[('NAS_DELAY', 'WEATHER_DELAY'), ('WEATHER_DELAY', 'CARRIER_DELAY'), ('CARRIER_DELAY', 'TAXI_OUT'), ('TAXI_OUT', 'NAS_DELAY')]\n"
     ]
    }
   ],
   "source": [
    "flight_edges_df, bn = gf.update_flights_edges_df(taxi_out_from,'TAXI_OUT',flight_edges_df)"
   ]
  },
  {
   "cell_type": "code",
   "execution_count": 32,
   "metadata": {},
   "outputs": [
    {
     "name": "stdout",
     "output_type": "stream",
     "text": [
      "[('CARRIER_DELAY', 'TAXI_OUT'), ('TAXI_OUT', 'CARRIER_DELAY')]\n"
     ]
    }
   ],
   "source": [
    "flight_edges_df, bn = gf.remove_edge('TAXI_OUT', 'NAS_DELAY', flight_edges_df)"
   ]
  },
  {
   "cell_type": "code",
   "execution_count": 33,
   "metadata": {},
   "outputs": [
    {
     "name": "stdout",
     "output_type": "stream",
     "text": [
      "[('NAS_DELAY', 'WEATHER_DELAY'), ('WEATHER_DELAY', 'CARRIER_DELAY'), ('CARRIER_DELAY', 'TAXI_OUT'), ('TAXI_OUT', 'CRS_ARR_TIME'), ('CRS_ARR_TIME', 'NAS_DELAY')]\n"
     ]
    }
   ],
   "source": [
    "flight_edges_df, bn = gf.remove_edge('TAXI_OUT', 'CARRIER_DELAY', flight_edges_df)"
   ]
  },
  {
   "cell_type": "code",
   "execution_count": 34,
   "metadata": {},
   "outputs": [
    {
     "name": "stdout",
     "output_type": "stream",
     "text": [
      "[('CRS_DEP_TIME', 'NAS_DELAY'), ('NAS_DELAY', 'WEATHER_DELAY'), ('WEATHER_DELAY', 'CARRIER_DELAY'), ('CARRIER_DELAY', 'TAXI_OUT'), ('TAXI_OUT', 'CRS_DEP_TIME')]\n"
     ]
    }
   ],
   "source": [
    "flight_edges_df, bn = gf.remove_edge('TAXI_OUT', 'CRS_ARR_TIME', flight_edges_df)"
   ]
  },
  {
   "cell_type": "code",
   "execution_count": 35,
   "metadata": {},
   "outputs": [
    {
     "name": "stdout",
     "output_type": "stream",
     "text": [
      "No cycle found! You may proceed.\n"
     ]
    }
   ],
   "source": [
    "flight_edges_df, bn = gf.remove_edge('TAXI_OUT', 'CRS_DEP_TIME', flight_edges_df)"
   ]
  },
  {
   "cell_type": "markdown",
   "metadata": {},
   "source": [
    "### Taxi In"
   ]
  },
  {
   "cell_type": "code",
   "execution_count": 36,
   "metadata": {},
   "outputs": [
    {
     "data": {
      "text/html": [
       "<table class=\"simpletable\">\n",
       "<caption>OLS Regression Results</caption>\n",
       "<tr>\n",
       "  <th>Dep. Variable:</th>         <td>TAXI_IN</td>     <th>  R-squared:         </th> <td>   0.054</td>\n",
       "</tr>\n",
       "<tr>\n",
       "  <th>Model:</th>                   <td>OLS</td>       <th>  Adj. R-squared:    </th> <td>   0.050</td>\n",
       "</tr>\n",
       "<tr>\n",
       "  <th>Method:</th>             <td>Least Squares</td>  <th>  F-statistic:       </th> <td>   14.55</td>\n",
       "</tr>\n",
       "<tr>\n",
       "  <th>Date:</th>             <td>Sun, 06 May 2018</td> <th>  Prob (F-statistic):</th> <td>3.17e-09</td>\n",
       "</tr>\n",
       "<tr>\n",
       "  <th>Time:</th>                 <td>20:34:51</td>     <th>  Log-Likelihood:    </th> <td> -648.77</td>\n",
       "</tr>\n",
       "<tr>\n",
       "  <th>No. Observations:</th>      <td>   774</td>      <th>  AIC:               </th> <td>   1304.</td>\n",
       "</tr>\n",
       "<tr>\n",
       "  <th>Df Residuals:</th>          <td>   771</td>      <th>  BIC:               </th> <td>   1318.</td>\n",
       "</tr>\n",
       "<tr>\n",
       "  <th>Df Model:</th>              <td>     3</td>      <th>                     </th>     <td> </td>   \n",
       "</tr>\n",
       "<tr>\n",
       "  <th>Covariance Type:</th>      <td>nonrobust</td>    <th>                     </th>     <td> </td>   \n",
       "</tr>\n",
       "</table>\n",
       "<table class=\"simpletable\">\n",
       "<tr>\n",
       "           <td></td>              <th>coef</th>     <th>std err</th>      <th>t</th>      <th>P>|t|</th>  <th>[0.025</th>    <th>0.975]</th>  \n",
       "</tr>\n",
       "<tr>\n",
       "  <th>CRS_ARR_TIME</th>        <td>    0.0840</td> <td>    0.030</td> <td>    2.835</td> <td> 0.005</td> <td>    0.026</td> <td>    0.142</td>\n",
       "</tr>\n",
       "<tr>\n",
       "  <th>NAS_DELAY</th>           <td>    0.0946</td> <td>    0.038</td> <td>    2.491</td> <td> 0.013</td> <td>    0.020</td> <td>    0.169</td>\n",
       "</tr>\n",
       "<tr>\n",
       "  <th>DelayedDepartureSFO</th> <td>    0.2243</td> <td>    0.077</td> <td>    2.899</td> <td> 0.004</td> <td>    0.072</td> <td>    0.376</td>\n",
       "</tr>\n",
       "</table>\n",
       "<table class=\"simpletable\">\n",
       "<tr>\n",
       "  <th>Omnibus:</th>       <td>1486.130</td> <th>  Durbin-Watson:     </th>  <td>   2.036</td>  \n",
       "</tr>\n",
       "<tr>\n",
       "  <th>Prob(Omnibus):</th>  <td> 0.000</td>  <th>  Jarque-Bera (JB):  </th> <td>2080393.914</td>\n",
       "</tr>\n",
       "<tr>\n",
       "  <th>Skew:</th>           <td>13.558</td>  <th>  Prob(JB):          </th>  <td>    0.00</td>  \n",
       "</tr>\n",
       "<tr>\n",
       "  <th>Kurtosis:</th>       <td>255.533</td> <th>  Cond. No.          </th>  <td>    3.37</td>  \n",
       "</tr>\n",
       "</table>"
      ],
      "text/plain": [
       "<class 'statsmodels.iolib.summary.Summary'>\n",
       "\"\"\"\n",
       "                            OLS Regression Results                            \n",
       "==============================================================================\n",
       "Dep. Variable:                TAXI_IN   R-squared:                       0.054\n",
       "Model:                            OLS   Adj. R-squared:                  0.050\n",
       "Method:                 Least Squares   F-statistic:                     14.55\n",
       "Date:                Sun, 06 May 2018   Prob (F-statistic):           3.17e-09\n",
       "Time:                        20:34:51   Log-Likelihood:                -648.77\n",
       "No. Observations:                 774   AIC:                             1304.\n",
       "Df Residuals:                     771   BIC:                             1318.\n",
       "Df Model:                           3                                         \n",
       "Covariance Type:            nonrobust                                         \n",
       "=======================================================================================\n",
       "                          coef    std err          t      P>|t|      [0.025      0.975]\n",
       "---------------------------------------------------------------------------------------\n",
       "CRS_ARR_TIME            0.0840      0.030      2.835      0.005       0.026       0.142\n",
       "NAS_DELAY               0.0946      0.038      2.491      0.013       0.020       0.169\n",
       "DelayedDepartureSFO     0.2243      0.077      2.899      0.004       0.072       0.376\n",
       "==============================================================================\n",
       "Omnibus:                     1486.130   Durbin-Watson:                   2.036\n",
       "Prob(Omnibus):                  0.000   Jarque-Bera (JB):          2080393.914\n",
       "Skew:                          13.558   Prob(JB):                         0.00\n",
       "Kurtosis:                     255.533   Cond. No.                         3.37\n",
       "==============================================================================\n",
       "\n",
       "Warnings:\n",
       "[1] Standard Errors assume that the covariance matrix of the errors is correctly specified.\n",
       "\"\"\""
      ]
     },
     "execution_count": 36,
     "metadata": {},
     "output_type": "execute_result"
    }
   ],
   "source": [
    "taxi_in_from = ['CRS_ARR_TIME', 'NAS_DELAY', 'DelayedDepartureSFO']\n",
    "gf.regression_model(train_df, taxi_in_from, 'TAXI_IN').summary()"
   ]
  },
  {
   "cell_type": "code",
   "execution_count": 37,
   "metadata": {},
   "outputs": [
    {
     "name": "stdout",
     "output_type": "stream",
     "text": [
      "[('NAS_DELAY', 'TAXI_IN'), ('TAXI_IN', 'NAS_DELAY')]\n"
     ]
    }
   ],
   "source": [
    "flight_edges_df, bn = gf.update_flights_edges_df(taxi_in_from,'TAXI_IN',flight_edges_df)"
   ]
  },
  {
   "cell_type": "code",
   "execution_count": 38,
   "metadata": {},
   "outputs": [
    {
     "name": "stdout",
     "output_type": "stream",
     "text": [
      "No cycle found! You may proceed.\n"
     ]
    }
   ],
   "source": [
    "flight_edges_df, bn = gf.remove_edge('TAXI_IN', 'NAS_DELAY', flight_edges_df)"
   ]
  },
  {
   "cell_type": "markdown",
   "metadata": {},
   "source": [
    "### Departure Delay"
   ]
  },
  {
   "cell_type": "markdown",
   "metadata": {},
   "source": [
    "This is the difference in minutes between scheduled and actual departure time. Early departures show negative numbers."
   ]
  },
  {
   "cell_type": "markdown",
   "metadata": {},
   "source": [
    "Departure time is the time recorded when the plane's parking brakes are released, which is after doors are closed and just prior to the plane beginning to taxi. That is, departure time starts right before a plan leaves its gate. Therefore, while it is likely that a difference in CRS departure time and actual departure time causes an NAS delay, it is impossible for NAS delay to influence the departure time difference. Thus, we remove the edge from NAS_DELAY to DEP_DELAY."
   ]
  },
  {
   "cell_type": "code",
   "execution_count": 39,
   "metadata": {},
   "outputs": [
    {
     "data": {
      "text/html": [
       "<table class=\"simpletable\">\n",
       "<caption>OLS Regression Results</caption>\n",
       "<tr>\n",
       "  <th>Dep. Variable:</th>        <td>DEP_DELAY</td>    <th>  R-squared:         </th> <td>   0.364</td>\n",
       "</tr>\n",
       "<tr>\n",
       "  <th>Model:</th>                   <td>OLS</td>       <th>  Adj. R-squared:    </th> <td>   0.359</td>\n",
       "</tr>\n",
       "<tr>\n",
       "  <th>Method:</th>             <td>Least Squares</td>  <th>  F-statistic:       </th> <td>   73.18</td>\n",
       "</tr>\n",
       "<tr>\n",
       "  <th>Date:</th>             <td>Sun, 06 May 2018</td> <th>  Prob (F-statistic):</th> <td>3.85e-72</td>\n",
       "</tr>\n",
       "<tr>\n",
       "  <th>Time:</th>                 <td>20:34:51</td>     <th>  Log-Likelihood:    </th> <td> -910.55</td>\n",
       "</tr>\n",
       "<tr>\n",
       "  <th>No. Observations:</th>      <td>   774</td>      <th>  AIC:               </th> <td>   1833.</td>\n",
       "</tr>\n",
       "<tr>\n",
       "  <th>Df Residuals:</th>          <td>   768</td>      <th>  BIC:               </th> <td>   1861.</td>\n",
       "</tr>\n",
       "<tr>\n",
       "  <th>Df Model:</th>              <td>     6</td>      <th>                     </th>     <td> </td>   \n",
       "</tr>\n",
       "<tr>\n",
       "  <th>Covariance Type:</th>      <td>nonrobust</td>    <th>                     </th>     <td> </td>   \n",
       "</tr>\n",
       "</table>\n",
       "<table class=\"simpletable\">\n",
       "<tr>\n",
       "           <td></td>              <th>coef</th>     <th>std err</th>      <th>t</th>      <th>P>|t|</th>  <th>[0.025</th>    <th>0.975]</th>  \n",
       "</tr>\n",
       "<tr>\n",
       "  <th>MONTH</th>               <td>   -0.0175</td> <td>    0.008</td> <td>   -2.247</td> <td> 0.025</td> <td>   -0.033</td> <td>   -0.002</td>\n",
       "</tr>\n",
       "<tr>\n",
       "  <th>DAY_OF_WEEK</th>         <td>    0.0307</td> <td>    0.012</td> <td>    2.507</td> <td> 0.012</td> <td>    0.007</td> <td>    0.055</td>\n",
       "</tr>\n",
       "<tr>\n",
       "  <th>TAXI_OUT</th>            <td>   -0.0761</td> <td>    0.032</td> <td>   -2.408</td> <td> 0.016</td> <td>   -0.138</td> <td>   -0.014</td>\n",
       "</tr>\n",
       "<tr>\n",
       "  <th>CRS_ARR_TIME</th>        <td>   -0.1043</td> <td>    0.055</td> <td>   -1.905</td> <td> 0.057</td> <td>   -0.212</td> <td>    0.003</td>\n",
       "</tr>\n",
       "<tr>\n",
       "  <th>CARRIER_DELAY</th>       <td>    0.8516</td> <td>    0.068</td> <td>   12.525</td> <td> 0.000</td> <td>    0.718</td> <td>    0.985</td>\n",
       "</tr>\n",
       "<tr>\n",
       "  <th>LATE_AIRCRAFT_DELAY</th> <td>    0.7408</td> <td>    0.072</td> <td>   10.241</td> <td> 0.000</td> <td>    0.599</td> <td>    0.883</td>\n",
       "</tr>\n",
       "</table>\n",
       "<table class=\"simpletable\">\n",
       "<tr>\n",
       "  <th>Omnibus:</th>       <td>11.918</td> <th>  Durbin-Watson:     </th> <td>   1.975</td>\n",
       "</tr>\n",
       "<tr>\n",
       "  <th>Prob(Omnibus):</th> <td> 0.003</td> <th>  Jarque-Bera (JB):  </th> <td>  74.627</td>\n",
       "</tr>\n",
       "<tr>\n",
       "  <th>Skew:</th>          <td> 0.308</td> <th>  Prob(JB):          </th> <td>6.24e-17</td>\n",
       "</tr>\n",
       "<tr>\n",
       "  <th>Kurtosis:</th>      <td> 1.609</td> <th>  Cond. No.          </th> <td>    24.8</td>\n",
       "</tr>\n",
       "</table>"
      ],
      "text/plain": [
       "<class 'statsmodels.iolib.summary.Summary'>\n",
       "\"\"\"\n",
       "                            OLS Regression Results                            \n",
       "==============================================================================\n",
       "Dep. Variable:              DEP_DELAY   R-squared:                       0.364\n",
       "Model:                            OLS   Adj. R-squared:                  0.359\n",
       "Method:                 Least Squares   F-statistic:                     73.18\n",
       "Date:                Sun, 06 May 2018   Prob (F-statistic):           3.85e-72\n",
       "Time:                        20:34:51   Log-Likelihood:                -910.55\n",
       "No. Observations:                 774   AIC:                             1833.\n",
       "Df Residuals:                     768   BIC:                             1861.\n",
       "Df Model:                           6                                         \n",
       "Covariance Type:            nonrobust                                         \n",
       "=======================================================================================\n",
       "                          coef    std err          t      P>|t|      [0.025      0.975]\n",
       "---------------------------------------------------------------------------------------\n",
       "MONTH                  -0.0175      0.008     -2.247      0.025      -0.033      -0.002\n",
       "DAY_OF_WEEK             0.0307      0.012      2.507      0.012       0.007       0.055\n",
       "TAXI_OUT               -0.0761      0.032     -2.408      0.016      -0.138      -0.014\n",
       "CRS_ARR_TIME           -0.1043      0.055     -1.905      0.057      -0.212       0.003\n",
       "CARRIER_DELAY           0.8516      0.068     12.525      0.000       0.718       0.985\n",
       "LATE_AIRCRAFT_DELAY     0.7408      0.072     10.241      0.000       0.599       0.883\n",
       "==============================================================================\n",
       "Omnibus:                       11.918   Durbin-Watson:                   1.975\n",
       "Prob(Omnibus):                  0.003   Jarque-Bera (JB):               74.627\n",
       "Skew:                           0.308   Prob(JB):                     6.24e-17\n",
       "Kurtosis:                       1.609   Cond. No.                         24.8\n",
       "==============================================================================\n",
       "\n",
       "Warnings:\n",
       "[1] Standard Errors assume that the covariance matrix of the errors is correctly specified.\n",
       "\"\"\""
      ]
     },
     "execution_count": 39,
     "metadata": {},
     "output_type": "execute_result"
    }
   ],
   "source": [
    "departure_delay_from = ['MONTH', 'DAY_OF_WEEK', 'TAXI_OUT', 'CRS_ARR_TIME', 'CARRIER_DELAY', 'LATE_AIRCRAFT_DELAY']\n",
    "gf.regression_model(train_df, departure_delay_from, 'DEP_DELAY').summary()"
   ]
  },
  {
   "cell_type": "code",
   "execution_count": 40,
   "metadata": {},
   "outputs": [
    {
     "name": "stdout",
     "output_type": "stream",
     "text": [
      "[('DEP_DELAY', 'LATE_AIRCRAFT_DELAY'), ('LATE_AIRCRAFT_DELAY', 'DEP_DELAY')]\n"
     ]
    }
   ],
   "source": [
    "flight_edges_df, bn = gf.update_flights_edges_df(departure_delay_from,'DEP_DELAY',flight_edges_df)"
   ]
  },
  {
   "cell_type": "code",
   "execution_count": 41,
   "metadata": {},
   "outputs": [
    {
     "name": "stdout",
     "output_type": "stream",
     "text": [
      "[('CARRIER_DELAY', 'TAXI_OUT'), ('TAXI_OUT', 'DEP_DELAY'), ('DEP_DELAY', 'CARRIER_DELAY')]\n"
     ]
    }
   ],
   "source": [
    "flight_edges_df, bn = gf.remove_edge('DEP_DELAY', 'LATE_AIRCRAFT_DELAY', flight_edges_df)"
   ]
  },
  {
   "cell_type": "code",
   "execution_count": 42,
   "metadata": {},
   "outputs": [
    {
     "name": "stdout",
     "output_type": "stream",
     "text": [
      "[('CARRIER_DELAY', 'DEP_DELAY'), ('DEP_DELAY', 'CARRIER_DELAY')]\n"
     ]
    }
   ],
   "source": [
    "flight_edges_df, bn = gf.remove_edge('TAXI_OUT', 'DEP_DELAY', flight_edges_df)"
   ]
  },
  {
   "cell_type": "code",
   "execution_count": 43,
   "metadata": {},
   "outputs": [
    {
     "name": "stdout",
     "output_type": "stream",
     "text": [
      "[('WEATHER_DELAY', 'CARRIER_DELAY'), ('CARRIER_DELAY', 'DEP_DELAY'), ('DEP_DELAY', 'WEATHER_DELAY')]\n"
     ]
    }
   ],
   "source": [
    "flight_edges_df, bn = gf.remove_edge('DEP_DELAY', 'CARRIER_DELAY', flight_edges_df)"
   ]
  },
  {
   "cell_type": "code",
   "execution_count": 44,
   "metadata": {},
   "outputs": [
    {
     "name": "stdout",
     "output_type": "stream",
     "text": [
      "No cycle found! You may proceed.\n"
     ]
    }
   ],
   "source": [
    "flight_edges_df, bn = gf.remove_edge('DEP_DELAY', 'WEATHER_DELAY', flight_edges_df)"
   ]
  },
  {
   "cell_type": "markdown",
   "metadata": {},
   "source": [
    "### DelayedDepartureSFO"
   ]
  },
  {
   "cell_type": "code",
   "execution_count": 45,
   "metadata": {},
   "outputs": [
    {
     "data": {
      "text/html": [
       "<table class=\"simpletable\">\n",
       "<caption>OLS Regression Results</caption>\n",
       "<tr>\n",
       "  <th>Dep. Variable:</th>    <td>DelayedDepartureSFO</td> <th>  R-squared:         </th> <td>   0.255</td>\n",
       "</tr>\n",
       "<tr>\n",
       "  <th>Model:</th>                    <td>OLS</td>         <th>  Adj. R-squared:    </th> <td>   0.252</td>\n",
       "</tr>\n",
       "<tr>\n",
       "  <th>Method:</th>              <td>Least Squares</td>    <th>  F-statistic:       </th> <td>   87.98</td>\n",
       "</tr>\n",
       "<tr>\n",
       "  <th>Date:</th>              <td>Sun, 06 May 2018</td>   <th>  Prob (F-statistic):</th> <td>5.77e-49</td>\n",
       "</tr>\n",
       "<tr>\n",
       "  <th>Time:</th>                  <td>20:34:51</td>       <th>  Log-Likelihood:    </th> <td>  38.998</td>\n",
       "</tr>\n",
       "<tr>\n",
       "  <th>No. Observations:</th>       <td>   774</td>        <th>  AIC:               </th> <td>  -72.00</td>\n",
       "</tr>\n",
       "<tr>\n",
       "  <th>Df Residuals:</th>           <td>   771</td>        <th>  BIC:               </th> <td>  -58.04</td>\n",
       "</tr>\n",
       "<tr>\n",
       "  <th>Df Model:</th>               <td>     3</td>        <th>                     </th>     <td> </td>   \n",
       "</tr>\n",
       "<tr>\n",
       "  <th>Covariance Type:</th>       <td>nonrobust</td>      <th>                     </th>     <td> </td>   \n",
       "</tr>\n",
       "</table>\n",
       "<table class=\"simpletable\">\n",
       "<tr>\n",
       "            <td></td>               <th>coef</th>     <th>std err</th>      <th>t</th>      <th>P>|t|</th>  <th>[0.025</th>    <th>0.975]</th>  \n",
       "</tr>\n",
       "<tr>\n",
       "  <th>TAXI_IN</th>               <td>    0.0392</td> <td>    0.015</td> <td>    2.697</td> <td> 0.007</td> <td>    0.011</td> <td>    0.068</td>\n",
       "</tr>\n",
       "<tr>\n",
       "  <th>ScheduledDepartureSFO</th> <td>    0.0679</td> <td>    0.005</td> <td>   12.471</td> <td> 0.000</td> <td>    0.057</td> <td>    0.079</td>\n",
       "</tr>\n",
       "<tr>\n",
       "  <th>ScheduledArrivalPHL</th>   <td>    0.0251</td> <td>    0.008</td> <td>    3.004</td> <td> 0.003</td> <td>    0.009</td> <td>    0.042</td>\n",
       "</tr>\n",
       "</table>\n",
       "<table class=\"simpletable\">\n",
       "<tr>\n",
       "  <th>Omnibus:</th>       <td>370.143</td> <th>  Durbin-Watson:     </th> <td>   2.057</td>\n",
       "</tr>\n",
       "<tr>\n",
       "  <th>Prob(Omnibus):</th> <td> 0.000</td>  <th>  Jarque-Bera (JB):  </th> <td>1677.009</td>\n",
       "</tr>\n",
       "<tr>\n",
       "  <th>Skew:</th>          <td> 2.254</td>  <th>  Prob(JB):          </th> <td>    0.00</td>\n",
       "</tr>\n",
       "<tr>\n",
       "  <th>Kurtosis:</th>      <td> 8.629</td>  <th>  Cond. No.          </th> <td>    3.16</td>\n",
       "</tr>\n",
       "</table>"
      ],
      "text/plain": [
       "<class 'statsmodels.iolib.summary.Summary'>\n",
       "\"\"\"\n",
       "                             OLS Regression Results                            \n",
       "===============================================================================\n",
       "Dep. Variable:     DelayedDepartureSFO   R-squared:                       0.255\n",
       "Model:                             OLS   Adj. R-squared:                  0.252\n",
       "Method:                  Least Squares   F-statistic:                     87.98\n",
       "Date:                 Sun, 06 May 2018   Prob (F-statistic):           5.77e-49\n",
       "Time:                         20:34:51   Log-Likelihood:                 38.998\n",
       "No. Observations:                  774   AIC:                            -72.00\n",
       "Df Residuals:                      771   BIC:                            -58.04\n",
       "Df Model:                            3                                         \n",
       "Covariance Type:             nonrobust                                         \n",
       "=========================================================================================\n",
       "                            coef    std err          t      P>|t|      [0.025      0.975]\n",
       "-----------------------------------------------------------------------------------------\n",
       "TAXI_IN                   0.0392      0.015      2.697      0.007       0.011       0.068\n",
       "ScheduledDepartureSFO     0.0679      0.005     12.471      0.000       0.057       0.079\n",
       "ScheduledArrivalPHL       0.0251      0.008      3.004      0.003       0.009       0.042\n",
       "==============================================================================\n",
       "Omnibus:                      370.143   Durbin-Watson:                   2.057\n",
       "Prob(Omnibus):                  0.000   Jarque-Bera (JB):             1677.009\n",
       "Skew:                           2.254   Prob(JB):                         0.00\n",
       "Kurtosis:                       8.629   Cond. No.                         3.16\n",
       "==============================================================================\n",
       "\n",
       "Warnings:\n",
       "[1] Standard Errors assume that the covariance matrix of the errors is correctly specified.\n",
       "\"\"\""
      ]
     },
     "execution_count": 45,
     "metadata": {},
     "output_type": "execute_result"
    }
   ],
   "source": [
    "delayed_SFO_from = ['TAXI_IN', 'ScheduledDepartureSFO', 'ScheduledArrivalPHL']\n",
    "gf.regression_model(train_df, delayed_SFO_from, 'DelayedDepartureSFO').summary()"
   ]
  },
  {
   "cell_type": "code",
   "execution_count": 46,
   "metadata": {},
   "outputs": [
    {
     "name": "stdout",
     "output_type": "stream",
     "text": [
      "[('NAS_DELAY', 'TAXI_IN'), ('TAXI_IN', 'DelayedDepartureSFO'), ('DelayedDepartureSFO', 'NAS_DELAY')]\n"
     ]
    }
   ],
   "source": [
    "flight_edges_df, bn = gf.update_flights_edges_df(delayed_SFO_from,'DelayedDepartureSFO',flight_edges_df)"
   ]
  },
  {
   "cell_type": "code",
   "execution_count": 47,
   "metadata": {},
   "outputs": [
    {
     "name": "stdout",
     "output_type": "stream",
     "text": [
      "No cycle found! You may proceed.\n"
     ]
    }
   ],
   "source": [
    "flight_edges_df, bn = gf.remove_edge('TAXI_IN', 'DelayedDepartureSFO', flight_edges_df)"
   ]
  },
  {
   "cell_type": "markdown",
   "metadata": {},
   "source": [
    "###   DelayedArrivalPHL"
   ]
  },
  {
   "cell_type": "code",
   "execution_count": 48,
   "metadata": {},
   "outputs": [
    {
     "data": {
      "text/html": [
       "<table class=\"simpletable\">\n",
       "<caption>OLS Regression Results</caption>\n",
       "<tr>\n",
       "  <th>Dep. Variable:</th>    <td>DelayedArrivalPHL</td> <th>  R-squared:         </th> <td>   0.530</td> \n",
       "</tr>\n",
       "<tr>\n",
       "  <th>Model:</th>                   <td>OLS</td>        <th>  Adj. R-squared:    </th> <td>   0.528</td> \n",
       "</tr>\n",
       "<tr>\n",
       "  <th>Method:</th>             <td>Least Squares</td>   <th>  F-statistic:       </th> <td>   289.9</td> \n",
       "</tr>\n",
       "<tr>\n",
       "  <th>Date:</th>             <td>Sun, 06 May 2018</td>  <th>  Prob (F-statistic):</th> <td>5.84e-126</td>\n",
       "</tr>\n",
       "<tr>\n",
       "  <th>Time:</th>                 <td>20:34:51</td>      <th>  Log-Likelihood:    </th> <td>  370.75</td> \n",
       "</tr>\n",
       "<tr>\n",
       "  <th>No. Observations:</th>      <td>   774</td>       <th>  AIC:               </th> <td>  -735.5</td> \n",
       "</tr>\n",
       "<tr>\n",
       "  <th>Df Residuals:</th>          <td>   771</td>       <th>  BIC:               </th> <td>  -721.5</td> \n",
       "</tr>\n",
       "<tr>\n",
       "  <th>Df Model:</th>              <td>     3</td>       <th>                     </th>     <td> </td>    \n",
       "</tr>\n",
       "<tr>\n",
       "  <th>Covariance Type:</th>      <td>nonrobust</td>     <th>                     </th>     <td> </td>    \n",
       "</tr>\n",
       "</table>\n",
       "<table class=\"simpletable\">\n",
       "<tr>\n",
       "            <td></td>               <th>coef</th>     <th>std err</th>      <th>t</th>      <th>P>|t|</th>  <th>[0.025</th>    <th>0.975]</th>  \n",
       "</tr>\n",
       "<tr>\n",
       "  <th>TAXI_OUT</th>              <td>   -0.0178</td> <td>    0.004</td> <td>   -4.752</td> <td> 0.000</td> <td>   -0.025</td> <td>   -0.010</td>\n",
       "</tr>\n",
       "<tr>\n",
       "  <th>ScheduledDepartureSFO</th> <td>   -0.0110</td> <td>    0.004</td> <td>   -2.981</td> <td> 0.003</td> <td>   -0.018</td> <td>   -0.004</td>\n",
       "</tr>\n",
       "<tr>\n",
       "  <th>ScheduledArrivalPHL</th>   <td>    0.1597</td> <td>    0.006</td> <td>   28.103</td> <td> 0.000</td> <td>    0.149</td> <td>    0.171</td>\n",
       "</tr>\n",
       "</table>\n",
       "<table class=\"simpletable\">\n",
       "<tr>\n",
       "  <th>Omnibus:</th>       <td>292.963</td> <th>  Durbin-Watson:     </th> <td>   2.034</td>\n",
       "</tr>\n",
       "<tr>\n",
       "  <th>Prob(Omnibus):</th> <td> 0.000</td>  <th>  Jarque-Bera (JB):  </th> <td>2454.382</td>\n",
       "</tr>\n",
       "<tr>\n",
       "  <th>Skew:</th>          <td> 1.475</td>  <th>  Prob(JB):          </th> <td>    0.00</td>\n",
       "</tr>\n",
       "<tr>\n",
       "  <th>Kurtosis:</th>      <td>11.210</td>  <th>  Cond. No.          </th> <td>    2.32</td>\n",
       "</tr>\n",
       "</table>"
      ],
      "text/plain": [
       "<class 'statsmodels.iolib.summary.Summary'>\n",
       "\"\"\"\n",
       "                            OLS Regression Results                            \n",
       "==============================================================================\n",
       "Dep. Variable:      DelayedArrivalPHL   R-squared:                       0.530\n",
       "Model:                            OLS   Adj. R-squared:                  0.528\n",
       "Method:                 Least Squares   F-statistic:                     289.9\n",
       "Date:                Sun, 06 May 2018   Prob (F-statistic):          5.84e-126\n",
       "Time:                        20:34:51   Log-Likelihood:                 370.75\n",
       "No. Observations:                 774   AIC:                            -735.5\n",
       "Df Residuals:                     771   BIC:                            -721.5\n",
       "Df Model:                           3                                         \n",
       "Covariance Type:            nonrobust                                         \n",
       "=========================================================================================\n",
       "                            coef    std err          t      P>|t|      [0.025      0.975]\n",
       "-----------------------------------------------------------------------------------------\n",
       "TAXI_OUT                 -0.0178      0.004     -4.752      0.000      -0.025      -0.010\n",
       "ScheduledDepartureSFO    -0.0110      0.004     -2.981      0.003      -0.018      -0.004\n",
       "ScheduledArrivalPHL       0.1597      0.006     28.103      0.000       0.149       0.171\n",
       "==============================================================================\n",
       "Omnibus:                      292.963   Durbin-Watson:                   2.034\n",
       "Prob(Omnibus):                  0.000   Jarque-Bera (JB):             2454.382\n",
       "Skew:                           1.475   Prob(JB):                         0.00\n",
       "Kurtosis:                      11.210   Cond. No.                         2.32\n",
       "==============================================================================\n",
       "\n",
       "Warnings:\n",
       "[1] Standard Errors assume that the covariance matrix of the errors is correctly specified.\n",
       "\"\"\""
      ]
     },
     "execution_count": 48,
     "metadata": {},
     "output_type": "execute_result"
    }
   ],
   "source": [
    "delayed_PHL_from = ['TAXI_OUT', 'ScheduledDepartureSFO', 'ScheduledArrivalPHL']\n",
    "gf.regression_model(train_df,delayed_PHL_from, 'DelayedArrivalPHL').summary()"
   ]
  },
  {
   "cell_type": "code",
   "execution_count": 49,
   "metadata": {},
   "outputs": [
    {
     "name": "stdout",
     "output_type": "stream",
     "text": [
      "[('WEATHER_DELAY', 'CARRIER_DELAY'), ('CARRIER_DELAY', 'TAXI_OUT'), ('TAXI_OUT', 'DelayedArrivalPHL'), ('DelayedArrivalPHL', 'WEATHER_DELAY')]\n"
     ]
    }
   ],
   "source": [
    "flight_edges_df, bn = gf.update_flights_edges_df(delayed_PHL_from,'DelayedArrivalPHL',flight_edges_df)"
   ]
  },
  {
   "cell_type": "code",
   "execution_count": 50,
   "metadata": {},
   "outputs": [
    {
     "name": "stdout",
     "output_type": "stream",
     "text": [
      "No cycle found! You may proceed.\n"
     ]
    }
   ],
   "source": [
    "flight_edges_df, bn = gf.remove_edge('DelayedArrivalPHL', 'WEATHER_DELAY', flight_edges_df)"
   ]
  },
  {
   "cell_type": "markdown",
   "metadata": {},
   "source": [
    "### Number of Scheduled Departures from SFO When Delayed Flight is scheduled to Depart"
   ]
  },
  {
   "cell_type": "code",
   "execution_count": 51,
   "metadata": {},
   "outputs": [
    {
     "data": {
      "text/html": [
       "<table class=\"simpletable\">\n",
       "<caption>OLS Regression Results</caption>\n",
       "<tr>\n",
       "  <th>Dep. Variable:</th>    <td>ScheduledDepartureSFO</td> <th>  R-squared:         </th> <td>   0.414</td>\n",
       "</tr>\n",
       "<tr>\n",
       "  <th>Model:</th>                     <td>OLS</td>          <th>  Adj. R-squared:    </th> <td>   0.409</td>\n",
       "</tr>\n",
       "<tr>\n",
       "  <th>Method:</th>               <td>Least Squares</td>     <th>  F-statistic:       </th> <td>   90.32</td>\n",
       "</tr>\n",
       "<tr>\n",
       "  <th>Date:</th>               <td>Sun, 06 May 2018</td>    <th>  Prob (F-statistic):</th> <td>1.16e-85</td>\n",
       "</tr>\n",
       "<tr>\n",
       "  <th>Time:</th>                   <td>20:34:52</td>        <th>  Log-Likelihood:    </th> <td> -1303.7</td>\n",
       "</tr>\n",
       "<tr>\n",
       "  <th>No. Observations:</th>        <td>   774</td>         <th>  AIC:               </th> <td>   2619.</td>\n",
       "</tr>\n",
       "<tr>\n",
       "  <th>Df Residuals:</th>            <td>   768</td>         <th>  BIC:               </th> <td>   2647.</td>\n",
       "</tr>\n",
       "<tr>\n",
       "  <th>Df Model:</th>                <td>     6</td>         <th>                     </th>     <td> </td>   \n",
       "</tr>\n",
       "<tr>\n",
       "  <th>Covariance Type:</th>        <td>nonrobust</td>       <th>                     </th>     <td> </td>   \n",
       "</tr>\n",
       "</table>\n",
       "<table class=\"simpletable\">\n",
       "<tr>\n",
       "           <td></td>              <th>coef</th>     <th>std err</th>      <th>t</th>      <th>P>|t|</th>  <th>[0.025</th>    <th>0.975]</th>  \n",
       "</tr>\n",
       "<tr>\n",
       "  <th>MONTH</th>               <td>    0.0275</td> <td>    0.013</td> <td>    2.150</td> <td> 0.032</td> <td>    0.002</td> <td>    0.053</td>\n",
       "</tr>\n",
       "<tr>\n",
       "  <th>CRS_DEP_TIME</th>        <td>    0.2652</td> <td>    0.105</td> <td>    2.519</td> <td> 0.012</td> <td>    0.059</td> <td>    0.472</td>\n",
       "</tr>\n",
       "<tr>\n",
       "  <th>CRS_ARR_TIME</th>        <td>    0.3008</td> <td>    0.099</td> <td>    3.053</td> <td> 0.002</td> <td>    0.107</td> <td>    0.494</td>\n",
       "</tr>\n",
       "<tr>\n",
       "  <th>DelayedDepartureSFO</th> <td>    2.2402</td> <td>    0.187</td> <td>   11.977</td> <td> 0.000</td> <td>    1.873</td> <td>    2.607</td>\n",
       "</tr>\n",
       "<tr>\n",
       "  <th>DelayedArrivalPHL</th>   <td>   -0.8714</td> <td>    0.312</td> <td>   -2.796</td> <td> 0.005</td> <td>   -1.483</td> <td>   -0.260</td>\n",
       "</tr>\n",
       "<tr>\n",
       "  <th>ScheduledArrivalPHL</th> <td>    0.4101</td> <td>    0.070</td> <td>    5.862</td> <td> 0.000</td> <td>    0.273</td> <td>    0.547</td>\n",
       "</tr>\n",
       "</table>\n",
       "<table class=\"simpletable\">\n",
       "<tr>\n",
       "  <th>Omnibus:</th>       <td>228.339</td> <th>  Durbin-Watson:     </th> <td>   1.967</td> \n",
       "</tr>\n",
       "<tr>\n",
       "  <th>Prob(Omnibus):</th> <td> 0.000</td>  <th>  Jarque-Bera (JB):  </th> <td> 471.516</td> \n",
       "</tr>\n",
       "<tr>\n",
       "  <th>Skew:</th>          <td> 1.710</td>  <th>  Prob(JB):          </th> <td>4.09e-103</td>\n",
       "</tr>\n",
       "<tr>\n",
       "  <th>Kurtosis:</th>      <td> 4.708</td>  <th>  Cond. No.          </th> <td>    51.9</td> \n",
       "</tr>\n",
       "</table>"
      ],
      "text/plain": [
       "<class 'statsmodels.iolib.summary.Summary'>\n",
       "\"\"\"\n",
       "                              OLS Regression Results                             \n",
       "=================================================================================\n",
       "Dep. Variable:     ScheduledDepartureSFO   R-squared:                       0.414\n",
       "Model:                               OLS   Adj. R-squared:                  0.409\n",
       "Method:                    Least Squares   F-statistic:                     90.32\n",
       "Date:                   Sun, 06 May 2018   Prob (F-statistic):           1.16e-85\n",
       "Time:                           20:34:52   Log-Likelihood:                -1303.7\n",
       "No. Observations:                    774   AIC:                             2619.\n",
       "Df Residuals:                        768   BIC:                             2647.\n",
       "Df Model:                              6                                         \n",
       "Covariance Type:               nonrobust                                         \n",
       "=======================================================================================\n",
       "                          coef    std err          t      P>|t|      [0.025      0.975]\n",
       "---------------------------------------------------------------------------------------\n",
       "MONTH                   0.0275      0.013      2.150      0.032       0.002       0.053\n",
       "CRS_DEP_TIME            0.2652      0.105      2.519      0.012       0.059       0.472\n",
       "CRS_ARR_TIME            0.3008      0.099      3.053      0.002       0.107       0.494\n",
       "DelayedDepartureSFO     2.2402      0.187     11.977      0.000       1.873       2.607\n",
       "DelayedArrivalPHL      -0.8714      0.312     -2.796      0.005      -1.483      -0.260\n",
       "ScheduledArrivalPHL     0.4101      0.070      5.862      0.000       0.273       0.547\n",
       "==============================================================================\n",
       "Omnibus:                      228.339   Durbin-Watson:                   1.967\n",
       "Prob(Omnibus):                  0.000   Jarque-Bera (JB):              471.516\n",
       "Skew:                           1.710   Prob(JB):                    4.09e-103\n",
       "Kurtosis:                       4.708   Cond. No.                         51.9\n",
       "==============================================================================\n",
       "\n",
       "Warnings:\n",
       "[1] Standard Errors assume that the covariance matrix of the errors is correctly specified.\n",
       "\"\"\""
      ]
     },
     "execution_count": 51,
     "metadata": {},
     "output_type": "execute_result"
    }
   ],
   "source": [
    "scheduled_SFO_from = ['MONTH',  'CRS_DEP_TIME', 'CRS_ARR_TIME', 'DelayedDepartureSFO', 'DelayedArrivalPHL', 'ScheduledArrivalPHL']\n",
    "gf.regression_model(train_df, scheduled_SFO_from, 'ScheduledDepartureSFO').summary()"
   ]
  },
  {
   "cell_type": "code",
   "execution_count": 52,
   "metadata": {},
   "outputs": [
    {
     "name": "stdout",
     "output_type": "stream",
     "text": [
      "[('TAXI_OUT', 'DelayedArrivalPHL'), ('DelayedArrivalPHL', 'ScheduledDepartureSFO'), ('ScheduledDepartureSFO', 'LATE_AIRCRAFT_DELAY'), ('LATE_AIRCRAFT_DELAY', 'DEP_DELAY'), ('DEP_DELAY', 'TAXI_OUT')]\n"
     ]
    }
   ],
   "source": [
    "flight_edges_df, bn = gf.update_flights_edges_df(scheduled_SFO_from,'ScheduledDepartureSFO',flight_edges_df)"
   ]
  },
  {
   "cell_type": "code",
   "execution_count": 53,
   "metadata": {},
   "outputs": [
    {
     "name": "stdout",
     "output_type": "stream",
     "text": [
      "[('CRS_DEP_TIME', 'ScheduledDepartureSFO'), ('ScheduledDepartureSFO', 'CRS_ARR_TIME'), ('CRS_ARR_TIME', 'CRS_DEP_TIME')]\n"
     ]
    }
   ],
   "source": [
    "flight_edges_df, bn = gf.remove_edge('DelayedArrivalPHL', 'ScheduledDepartureSFO', flight_edges_df)"
   ]
  },
  {
   "cell_type": "code",
   "execution_count": 54,
   "metadata": {},
   "outputs": [
    {
     "name": "stdout",
     "output_type": "stream",
     "text": [
      "[('CRS_DEP_TIME', 'ScheduledDepartureSFO'), ('ScheduledDepartureSFO', 'CRS_DEP_TIME')]\n"
     ]
    }
   ],
   "source": [
    "flight_edges_df, bn = gf.remove_edge('ScheduledDepartureSFO', 'CRS_ARR_TIME', flight_edges_df)"
   ]
  },
  {
   "cell_type": "code",
   "execution_count": 55,
   "metadata": {},
   "outputs": [
    {
     "name": "stdout",
     "output_type": "stream",
     "text": [
      "[('ScheduledDepartureSFO', 'DelayedDepartureSFO'), ('DelayedDepartureSFO', 'ScheduledDepartureSFO')]\n"
     ]
    }
   ],
   "source": [
    "flight_edges_df, bn = gf.remove_edge('ScheduledDepartureSFO', 'CRS_DEP_TIME', flight_edges_df)"
   ]
  },
  {
   "cell_type": "code",
   "execution_count": 56,
   "metadata": {},
   "outputs": [
    {
     "name": "stdout",
     "output_type": "stream",
     "text": [
      "No cycle found! You may proceed.\n"
     ]
    }
   ],
   "source": [
    "flight_edges_df, bn = gf.remove_edge('DelayedDepartureSFO', 'ScheduledDepartureSFO', flight_edges_df)"
   ]
  },
  {
   "cell_type": "markdown",
   "metadata": {},
   "source": [
    "### Number of Scheduled Arrivals at PHL When Delayed Flight is scheduled to Depart"
   ]
  },
  {
   "cell_type": "code",
   "execution_count": 57,
   "metadata": {},
   "outputs": [
    {
     "data": {
      "text/html": [
       "<table class=\"simpletable\">\n",
       "<caption>OLS Regression Results</caption>\n",
       "<tr>\n",
       "  <th>Dep. Variable:</th>    <td>ScheduledArrivalPHL</td> <th>  R-squared:         </th> <td>   0.642</td> \n",
       "</tr>\n",
       "<tr>\n",
       "  <th>Model:</th>                    <td>OLS</td>         <th>  Adj. R-squared:    </th> <td>   0.639</td> \n",
       "</tr>\n",
       "<tr>\n",
       "  <th>Method:</th>              <td>Least Squares</td>    <th>  F-statistic:       </th> <td>   275.4</td> \n",
       "</tr>\n",
       "<tr>\n",
       "  <th>Date:</th>              <td>Sun, 06 May 2018</td>   <th>  Prob (F-statistic):</th> <td>1.28e-168</td>\n",
       "</tr>\n",
       "<tr>\n",
       "  <th>Time:</th>                  <td>20:34:52</td>       <th>  Log-Likelihood:    </th> <td> -774.67</td> \n",
       "</tr>\n",
       "<tr>\n",
       "  <th>No. Observations:</th>       <td>   774</td>        <th>  AIC:               </th> <td>   1559.</td> \n",
       "</tr>\n",
       "<tr>\n",
       "  <th>Df Residuals:</th>           <td>   769</td>        <th>  BIC:               </th> <td>   1583.</td> \n",
       "</tr>\n",
       "<tr>\n",
       "  <th>Df Model:</th>               <td>     5</td>        <th>                     </th>     <td> </td>    \n",
       "</tr>\n",
       "<tr>\n",
       "  <th>Covariance Type:</th>       <td>nonrobust</td>      <th>                     </th>     <td> </td>    \n",
       "</tr>\n",
       "</table>\n",
       "<table class=\"simpletable\">\n",
       "<tr>\n",
       "            <td></td>               <th>coef</th>     <th>std err</th>      <th>t</th>      <th>P>|t|</th>  <th>[0.025</th>    <th>0.975]</th>  \n",
       "</tr>\n",
       "<tr>\n",
       "  <th>DAY_OF_WEEK</th>           <td>    0.0375</td> <td>    0.009</td> <td>    4.375</td> <td> 0.000</td> <td>    0.021</td> <td>    0.054</td>\n",
       "</tr>\n",
       "<tr>\n",
       "  <th>TAXI_OUT</th>              <td>    0.0793</td> <td>    0.022</td> <td>    3.547</td> <td> 0.000</td> <td>    0.035</td> <td>    0.123</td>\n",
       "</tr>\n",
       "<tr>\n",
       "  <th>DelayedDepartureSFO</th>   <td>    0.1588</td> <td>    0.103</td> <td>    1.548</td> <td> 0.122</td> <td>   -0.043</td> <td>    0.360</td>\n",
       "</tr>\n",
       "<tr>\n",
       "  <th>ScheduledDepartureSFO</th> <td>    0.1108</td> <td>    0.018</td> <td>    6.312</td> <td> 0.000</td> <td>    0.076</td> <td>    0.145</td>\n",
       "</tr>\n",
       "<tr>\n",
       "  <th>DelayedArrivalPHL</th>     <td>    3.1201</td> <td>    0.112</td> <td>   27.856</td> <td> 0.000</td> <td>    2.900</td> <td>    3.340</td>\n",
       "</tr>\n",
       "</table>\n",
       "<table class=\"simpletable\">\n",
       "<tr>\n",
       "  <th>Omnibus:</th>       <td>93.247</td> <th>  Durbin-Watson:     </th> <td>   1.936</td>\n",
       "</tr>\n",
       "<tr>\n",
       "  <th>Prob(Omnibus):</th> <td> 0.000</td> <th>  Jarque-Bera (JB):  </th> <td> 291.276</td>\n",
       "</tr>\n",
       "<tr>\n",
       "  <th>Skew:</th>          <td> 0.575</td> <th>  Prob(JB):          </th> <td>5.63e-64</td>\n",
       "</tr>\n",
       "<tr>\n",
       "  <th>Kurtosis:</th>      <td> 5.776</td> <th>  Cond. No.          </th> <td>    22.2</td>\n",
       "</tr>\n",
       "</table>"
      ],
      "text/plain": [
       "<class 'statsmodels.iolib.summary.Summary'>\n",
       "\"\"\"\n",
       "                             OLS Regression Results                            \n",
       "===============================================================================\n",
       "Dep. Variable:     ScheduledArrivalPHL   R-squared:                       0.642\n",
       "Model:                             OLS   Adj. R-squared:                  0.639\n",
       "Method:                  Least Squares   F-statistic:                     275.4\n",
       "Date:                 Sun, 06 May 2018   Prob (F-statistic):          1.28e-168\n",
       "Time:                         20:34:52   Log-Likelihood:                -774.67\n",
       "No. Observations:                  774   AIC:                             1559.\n",
       "Df Residuals:                      769   BIC:                             1583.\n",
       "Df Model:                            5                                         \n",
       "Covariance Type:             nonrobust                                         \n",
       "=========================================================================================\n",
       "                            coef    std err          t      P>|t|      [0.025      0.975]\n",
       "-----------------------------------------------------------------------------------------\n",
       "DAY_OF_WEEK               0.0375      0.009      4.375      0.000       0.021       0.054\n",
       "TAXI_OUT                  0.0793      0.022      3.547      0.000       0.035       0.123\n",
       "DelayedDepartureSFO       0.1588      0.103      1.548      0.122      -0.043       0.360\n",
       "ScheduledDepartureSFO     0.1108      0.018      6.312      0.000       0.076       0.145\n",
       "DelayedArrivalPHL         3.1201      0.112     27.856      0.000       2.900       3.340\n",
       "==============================================================================\n",
       "Omnibus:                       93.247   Durbin-Watson:                   1.936\n",
       "Prob(Omnibus):                  0.000   Jarque-Bera (JB):              291.276\n",
       "Skew:                           0.575   Prob(JB):                     5.63e-64\n",
       "Kurtosis:                       5.776   Cond. No.                         22.2\n",
       "==============================================================================\n",
       "\n",
       "Warnings:\n",
       "[1] Standard Errors assume that the covariance matrix of the errors is correctly specified.\n",
       "\"\"\""
      ]
     },
     "execution_count": 57,
     "metadata": {},
     "output_type": "execute_result"
    }
   ],
   "source": [
    "scheduled_PHL_from = ['DAY_OF_WEEK', 'TAXI_OUT', 'DelayedDepartureSFO', 'ScheduledDepartureSFO', 'DelayedArrivalPHL']\n",
    "gf.regression_model(train_df, scheduled_PHL_from, 'ScheduledArrivalPHL').summary()"
   ]
  },
  {
   "cell_type": "code",
   "execution_count": 58,
   "metadata": {},
   "outputs": [
    {
     "name": "stdout",
     "output_type": "stream",
     "text": [
      "[('NAS_DELAY', 'WEATHER_DELAY'), ('WEATHER_DELAY', 'CARRIER_DELAY'), ('CARRIER_DELAY', 'TAXI_OUT'), ('TAXI_OUT', 'DelayedArrivalPHL'), ('DelayedArrivalPHL', 'ScheduledArrivalPHL'), ('ScheduledArrivalPHL', 'DelayedDepartureSFO'), ('DelayedDepartureSFO', 'NAS_DELAY')]\n"
     ]
    }
   ],
   "source": [
    "flight_edges_df, bn = gf.update_flights_edges_df(scheduled_PHL_from,'ScheduledArrivalPHL',flight_edges_df)"
   ]
  },
  {
   "cell_type": "code",
   "execution_count": 59,
   "metadata": {},
   "outputs": [
    {
     "name": "stdout",
     "output_type": "stream",
     "text": [
      "[('NAS_DELAY', 'WEATHER_DELAY'), ('WEATHER_DELAY', 'CARRIER_DELAY'), ('CARRIER_DELAY', 'TAXI_OUT'), ('TAXI_OUT', 'ScheduledArrivalPHL'), ('ScheduledArrivalPHL', 'DelayedDepartureSFO'), ('DelayedDepartureSFO', 'NAS_DELAY')]\n"
     ]
    }
   ],
   "source": [
    "flight_edges_df, bn = gf.remove_edge('DelayedArrivalPHL', 'ScheduledArrivalPHL', flight_edges_df)"
   ]
  },
  {
   "cell_type": "code",
   "execution_count": 60,
   "metadata": {},
   "outputs": [
    {
     "name": "stdout",
     "output_type": "stream",
     "text": [
      "[('DelayedDepartureSFO', 'ScheduledArrivalPHL'), ('ScheduledArrivalPHL', 'DelayedDepartureSFO')]\n"
     ]
    }
   ],
   "source": [
    "flight_edges_df, bn = gf.remove_edge('TAXI_OUT', 'ScheduledArrivalPHL', flight_edges_df)"
   ]
  },
  {
   "cell_type": "code",
   "execution_count": 61,
   "metadata": {},
   "outputs": [
    {
     "name": "stdout",
     "output_type": "stream",
     "text": [
      "[('ScheduledDepartureSFO', 'ScheduledArrivalPHL'), ('ScheduledArrivalPHL', 'ScheduledDepartureSFO')]\n"
     ]
    }
   ],
   "source": [
    "flight_edges_df, bn = gf.remove_edge('DelayedDepartureSFO', 'ScheduledArrivalPHL', flight_edges_df)"
   ]
  },
  {
   "cell_type": "code",
   "execution_count": 62,
   "metadata": {},
   "outputs": [
    {
     "name": "stdout",
     "output_type": "stream",
     "text": [
      "No cycle found! You may proceed.\n"
     ]
    }
   ],
   "source": [
    "flight_edges_df, bn = gf.remove_edge('ScheduledDepartureSFO', 'ScheduledArrivalPHL', flight_edges_df)"
   ]
  },
  {
   "cell_type": "code",
   "execution_count": 63,
   "metadata": {},
   "outputs": [
    {
     "data": {
      "image/png": "[encoded data removed]",
      "text/plain": [
       "<Figure size 432x288 with 1 Axes>"
      ]
     },
     "metadata": {},
     "output_type": "display_data"
    }
   ],
   "source": [
    "gf.draw_graph(flight_edges_df,'final_bn.png')"
   ]
  },
  {
   "cell_type": "code",
   "execution_count": 64,
   "metadata": {},
   "outputs": [
    {
     "name": "stdout",
     "output_type": "stream",
     "text": [
      "This graph is a DAG : True \n",
      "This edge is a tree : False\n"
     ]
    }
   ],
   "source": [
    "print('This graph is a DAG :', nx.is_directed_acyclic_graph(bn),'\\nThis edge is a tree :', nx.is_tree(bn))"
   ]
  },
  {
   "cell_type": "code",
   "execution_count": 65,
   "metadata": {},
   "outputs": [
    {
     "name": "stdout",
     "output_type": "stream",
     "text": [
      "There are 16 nodes and 47 edges in this graph.\n"
     ]
    }
   ],
   "source": [
    "# nodes\n",
    "nodes_li = list(set(list(flight_edges_df['from_node'])+list(flight_edges_df['to_node'])))\n",
    "nodes_df = pd.DataFrame(nodes_li)\n",
    "nodes_df.columns = ['nodes']\n",
    "flight_edges_df.columns=['Source','Target']\n",
    "# save as csv\n",
    "flight_edges_df.to_csv('edges.csv',index=False)\n",
    "nodes_df.to_csv('nodes.csv',index=False)\n",
    "# numbers to print\n",
    "print('There are', nodes_df.shape[0], 'nodes and', flight_edges_df.shape[0], 'edges in this graph.')"
   ]
  },
  {
   "cell_type": "code",
   "execution_count": null,
   "metadata": {},
   "outputs": [],
   "source": []
  }
 ],
 "metadata": {
  "kernelspec": {
   "display_name": "Python 3",
   "language": "python",
   "name": "python3"
  },
  "language_info": {
   "codemirror_mode": {
    "name": "ipython",
    "version": 3
   },
   "file_extension": ".py",
   "mimetype": "text/x-python",
   "name": "python",
   "nbconvert_exporter": "python",
   "pygments_lexer": "ipython3",
   "version": "3.6.3"
  }
 },
 "nbformat": 4,
 "nbformat_minor": 2
}
