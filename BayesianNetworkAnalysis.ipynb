{
 "cells": [
  {
   "cell_type": "code",
   "execution_count": 1,
   "metadata": {},
   "outputs": [],
   "source": [
    "import pandas as pd\n",
    "import numpy as np\n",
    "import matplotlib.pyplot as plt\n",
    "\n",
    "# helper functions\n",
    "import cpt_calculator as cpt"
   ]
  },
  {
   "cell_type": "markdown",
   "metadata": {},
   "source": [
    "To compute the conditional probability tables, we will obesrve each node in a BFS-like fashion, starting with nodes that do not have parents and then working our way through nodes whose parents we have already observed."
   ]
  },
  {
   "cell_type": "markdown",
   "metadata": {},
   "source": [
    "# Depth 0 Nodes Without Parents"
   ]
  },
  {
   "cell_type": "code",
   "execution_count": 2,
   "metadata": {},
   "outputs": [
    {
     "name": "stdout",
     "output_type": "stream",
     "text": [
      "These are the list of parentless nodes : ['MONTH', 'DAY_OF_WEEK'] . We start by defining a function to reduce redundancy.\n"
     ]
    }
   ],
   "source": [
    "print(\"These are the list of parentless nodes :\", cpt.get_parentless_nodes(),\". We start by defining a function to reduce redundancy.\")"
   ]
  },
  {
   "cell_type": "markdown",
   "metadata": {},
   "source": [
    "## 1. Month"
   ]
  },
  {
   "cell_type": "code",
   "execution_count": 3,
   "metadata": {},
   "outputs": [
    {
     "data": {
      "text/html": [
       "<div>\n",
       "<table border=\"1\" class=\"dataframe\">\n",
       "  <thead>\n",
       "    <tr style=\"text-align: right;\">\n",
       "      <th></th>\n",
       "      <th>MONTH</th>\n",
       "      <th>prob</th>\n",
       "      <th>log_p</th>\n",
       "    </tr>\n",
       "  </thead>\n",
       "  <tbody>\n",
       "    <tr>\n",
       "      <th>0</th>\n",
       "      <td>1</td>\n",
       "      <td>0.060724</td>\n",
       "      <td>-2.801424</td>\n",
       "    </tr>\n",
       "    <tr>\n",
       "      <th>1</th>\n",
       "      <td>2</td>\n",
       "      <td>0.032300</td>\n",
       "      <td>-3.432696</td>\n",
       "    </tr>\n",
       "    <tr>\n",
       "      <th>2</th>\n",
       "      <td>3</td>\n",
       "      <td>0.054264</td>\n",
       "      <td>-2.913902</td>\n",
       "    </tr>\n",
       "    <tr>\n",
       "      <th>3</th>\n",
       "      <td>4</td>\n",
       "      <td>0.063307</td>\n",
       "      <td>-2.759752</td>\n",
       "    </tr>\n",
       "    <tr>\n",
       "      <th>4</th>\n",
       "      <td>5</td>\n",
       "      <td>0.091731</td>\n",
       "      <td>-2.388892</td>\n",
       "    </tr>\n",
       "    <tr>\n",
       "      <th>5</th>\n",
       "      <td>6</td>\n",
       "      <td>0.104651</td>\n",
       "      <td>-2.257123</td>\n",
       "    </tr>\n",
       "    <tr>\n",
       "      <th>6</th>\n",
       "      <td>7</td>\n",
       "      <td>0.130491</td>\n",
       "      <td>-2.036451</td>\n",
       "    </tr>\n",
       "    <tr>\n",
       "      <th>7</th>\n",
       "      <td>8</td>\n",
       "      <td>0.112403</td>\n",
       "      <td>-2.185664</td>\n",
       "    </tr>\n",
       "    <tr>\n",
       "      <th>8</th>\n",
       "      <td>9</td>\n",
       "      <td>0.111111</td>\n",
       "      <td>-2.197225</td>\n",
       "    </tr>\n",
       "    <tr>\n",
       "      <th>9</th>\n",
       "      <td>10</td>\n",
       "      <td>0.093023</td>\n",
       "      <td>-2.374906</td>\n",
       "    </tr>\n",
       "    <tr>\n",
       "      <th>10</th>\n",
       "      <td>11</td>\n",
       "      <td>0.069767</td>\n",
       "      <td>-2.662588</td>\n",
       "    </tr>\n",
       "    <tr>\n",
       "      <th>11</th>\n",
       "      <td>12</td>\n",
       "      <td>0.076227</td>\n",
       "      <td>-2.574034</td>\n",
       "    </tr>\n",
       "  </tbody>\n",
       "</table>\n",
       "</div>"
      ],
      "text/plain": [
       "    MONTH      prob     log_p\n",
       "0       1  0.060724 -2.801424\n",
       "1       2  0.032300 -3.432696\n",
       "2       3  0.054264 -2.913902\n",
       "3       4  0.063307 -2.759752\n",
       "4       5  0.091731 -2.388892\n",
       "5       6  0.104651 -2.257123\n",
       "6       7  0.130491 -2.036451\n",
       "7       8  0.112403 -2.185664\n",
       "8       9  0.111111 -2.197225\n",
       "9      10  0.093023 -2.374906\n",
       "10     11  0.069767 -2.662588\n",
       "11     12  0.076227 -2.574034"
      ]
     },
     "execution_count": 3,
     "metadata": {},
     "output_type": "execute_result"
    }
   ],
   "source": [
    "month_df = cpt.parentless_CPT('MONTH')\n",
    "month_df"
   ]
  },
  {
   "cell_type": "markdown",
   "metadata": {},
   "source": [
    "## 2. Day of Week"
   ]
  },
  {
   "cell_type": "code",
   "execution_count": 4,
   "metadata": {},
   "outputs": [
    {
     "data": {
      "text/html": [
       "<div>\n",
       "<table border=\"1\" class=\"dataframe\">\n",
       "  <thead>\n",
       "    <tr style=\"text-align: right;\">\n",
       "      <th></th>\n",
       "      <th>DAY_OF_WEEK</th>\n",
       "      <th>prob</th>\n",
       "      <th>log_p</th>\n",
       "    </tr>\n",
       "  </thead>\n",
       "  <tbody>\n",
       "    <tr>\n",
       "      <th>0</th>\n",
       "      <td>1</td>\n",
       "      <td>0.158915</td>\n",
       "      <td>-1.839388</td>\n",
       "    </tr>\n",
       "    <tr>\n",
       "      <th>1</th>\n",
       "      <td>2</td>\n",
       "      <td>0.130491</td>\n",
       "      <td>-2.036451</td>\n",
       "    </tr>\n",
       "    <tr>\n",
       "      <th>2</th>\n",
       "      <td>3</td>\n",
       "      <td>0.127907</td>\n",
       "      <td>-2.056452</td>\n",
       "    </tr>\n",
       "    <tr>\n",
       "      <th>3</th>\n",
       "      <td>4</td>\n",
       "      <td>0.179587</td>\n",
       "      <td>-1.717098</td>\n",
       "    </tr>\n",
       "    <tr>\n",
       "      <th>4</th>\n",
       "      <td>5</td>\n",
       "      <td>0.170543</td>\n",
       "      <td>-1.768770</td>\n",
       "    </tr>\n",
       "    <tr>\n",
       "      <th>5</th>\n",
       "      <td>6</td>\n",
       "      <td>0.098191</td>\n",
       "      <td>-2.320839</td>\n",
       "    </tr>\n",
       "    <tr>\n",
       "      <th>6</th>\n",
       "      <td>7</td>\n",
       "      <td>0.134367</td>\n",
       "      <td>-2.007181</td>\n",
       "    </tr>\n",
       "  </tbody>\n",
       "</table>\n",
       "</div>"
      ],
      "text/plain": [
       "   DAY_OF_WEEK      prob     log_p\n",
       "0            1  0.158915 -1.839388\n",
       "1            2  0.130491 -2.036451\n",
       "2            3  0.127907 -2.056452\n",
       "3            4  0.179587 -1.717098\n",
       "4            5  0.170543 -1.768770\n",
       "5            6  0.098191 -2.320839\n",
       "6            7  0.134367 -2.007181"
      ]
     },
     "execution_count": 4,
     "metadata": {},
     "output_type": "execute_result"
    }
   ],
   "source": [
    "day_of_week_df = cpt.parentless_CPT('DAY_OF_WEEK')\n",
    "day_of_week_df"
   ]
  },
  {
   "cell_type": "markdown",
   "metadata": {},
   "source": [
    "# Depth 1: Nodes with Parents"
   ]
  },
  {
   "cell_type": "markdown",
   "metadata": {},
   "source": [
    "First, we find all the nodes whose values we can compute based on those nodes whose conditional probability tables we have already computed."
   ]
  },
  {
   "cell_type": "code",
   "execution_count": 5,
   "metadata": {},
   "outputs": [
    {
     "data": {
      "text/plain": [
       "['ScheduledArrivalPHL', 'CRS_ARR_TIME']"
      ]
     },
     "execution_count": 5,
     "metadata": {},
     "output_type": "execute_result"
    }
   ],
   "source": [
    "cpt.available_nodes()"
   ]
  },
  {
   "cell_type": "markdown",
   "metadata": {},
   "source": [
    "## 3. CRS Arrival Time"
   ]
  },
  {
   "cell_type": "code",
   "execution_count": 6,
   "metadata": {},
   "outputs": [
    {
     "name": "stdout",
     "output_type": "stream",
     "text": [
      "Note: There are 162 rows in the above table, but we should have 168 , which means that 6 row(s) missing values have been replaced with to occur with probability 2.2250738585072014e-308 .\n"
     ]
    },
    {
     "data": {
      "text/html": [
       "<div>\n",
       "<table border=\"1\" class=\"dataframe\">\n",
       "  <thead>\n",
       "    <tr style=\"text-align: right;\">\n",
       "      <th></th>\n",
       "      <th>MONTH</th>\n",
       "      <th>DAY_OF_WEEK</th>\n",
       "      <th>CRS_ARR_TIME</th>\n",
       "      <th>prob</th>\n",
       "      <th>log_p</th>\n",
       "    </tr>\n",
       "  </thead>\n",
       "  <tbody>\n",
       "    <tr>\n",
       "      <th>0</th>\n",
       "      <td>1</td>\n",
       "      <td>1</td>\n",
       "      <td>0</td>\n",
       "      <td>0.200000</td>\n",
       "      <td>-1.609438</td>\n",
       "    </tr>\n",
       "    <tr>\n",
       "      <th>1</th>\n",
       "      <td>1</td>\n",
       "      <td>1</td>\n",
       "      <td>1</td>\n",
       "      <td>0.800000</td>\n",
       "      <td>-0.223144</td>\n",
       "    </tr>\n",
       "    <tr>\n",
       "      <th>2</th>\n",
       "      <td>2</td>\n",
       "      <td>1</td>\n",
       "      <td>0</td>\n",
       "      <td>0.500000</td>\n",
       "      <td>-0.693147</td>\n",
       "    </tr>\n",
       "    <tr>\n",
       "      <th>3</th>\n",
       "      <td>2</td>\n",
       "      <td>1</td>\n",
       "      <td>1</td>\n",
       "      <td>0.500000</td>\n",
       "      <td>-0.693147</td>\n",
       "    </tr>\n",
       "    <tr>\n",
       "      <th>4</th>\n",
       "      <td>3</td>\n",
       "      <td>1</td>\n",
       "      <td>0</td>\n",
       "      <td>0.800000</td>\n",
       "      <td>-0.223144</td>\n",
       "    </tr>\n",
       "    <tr>\n",
       "      <th>5</th>\n",
       "      <td>3</td>\n",
       "      <td>1</td>\n",
       "      <td>1</td>\n",
       "      <td>0.200000</td>\n",
       "      <td>-1.609438</td>\n",
       "    </tr>\n",
       "    <tr>\n",
       "      <th>6</th>\n",
       "      <td>4</td>\n",
       "      <td>1</td>\n",
       "      <td>0</td>\n",
       "      <td>0.428571</td>\n",
       "      <td>-0.847298</td>\n",
       "    </tr>\n",
       "    <tr>\n",
       "      <th>7</th>\n",
       "      <td>4</td>\n",
       "      <td>1</td>\n",
       "      <td>1</td>\n",
       "      <td>0.571429</td>\n",
       "      <td>-0.559616</td>\n",
       "    </tr>\n",
       "    <tr>\n",
       "      <th>8</th>\n",
       "      <td>5</td>\n",
       "      <td>1</td>\n",
       "      <td>0</td>\n",
       "      <td>0.250000</td>\n",
       "      <td>-1.386294</td>\n",
       "    </tr>\n",
       "    <tr>\n",
       "      <th>9</th>\n",
       "      <td>5</td>\n",
       "      <td>1</td>\n",
       "      <td>1</td>\n",
       "      <td>0.750000</td>\n",
       "      <td>-0.287682</td>\n",
       "    </tr>\n",
       "  </tbody>\n",
       "</table>\n",
       "</div>"
      ],
      "text/plain": [
       "   MONTH  DAY_OF_WEEK  CRS_ARR_TIME      prob     log_p\n",
       "0      1            1             0  0.200000 -1.609438\n",
       "1      1            1             1  0.800000 -0.223144\n",
       "2      2            1             0  0.500000 -0.693147\n",
       "3      2            1             1  0.500000 -0.693147\n",
       "4      3            1             0  0.800000 -0.223144\n",
       "5      3            1             1  0.200000 -1.609438\n",
       "6      4            1             0  0.428571 -0.847298\n",
       "7      4            1             1  0.571429 -0.559616\n",
       "8      5            1             0  0.250000 -1.386294\n",
       "9      5            1             1  0.750000 -0.287682"
      ]
     },
     "execution_count": 6,
     "metadata": {},
     "output_type": "execute_result"
    }
   ],
   "source": [
    "arr_time_df = cpt.nonparentless_CPT('CRS_ARR_TIME')\n",
    "arr_time_df.head(10)"
   ]
  },
  {
   "cell_type": "code",
   "execution_count": 7,
   "metadata": {},
   "outputs": [
    {
     "data": {
      "image/png": "[encoded data removed]",
      "text/plain": [
       "<Figure size 432x288 with 1 Axes>"
      ]
     },
     "metadata": {},
     "output_type": "display_data"
    }
   ],
   "source": [
    "# draw graph of probabilities\n",
    "arr_am = arr_time_df[arr_time_df.CRS_ARR_TIME == 0]\n",
    "arr_pm = arr_time_df[arr_time_df.CRS_ARR_TIME == 1]\n",
    "\n",
    "months = ['Jan', 'Feb', 'Mar', 'Apr', 'May', 'Jun', 'Jul', 'Aug', 'Sep', 'Oct', 'Nov','Dec']\n",
    "legend = ['AM', 'PM']\n",
    "X = np.arange(84)\n",
    "plt.bar(X, arr_am.prob, color=['orange'], width = 0.5)\n",
    "plt.bar(X+0.5, arr_pm.prob, color=['blue'], width = 0.5)\n",
    "plt.xlabel('Month and Day of Week')\n",
    "plt.ylabel('Probability of Flight Departure')\n",
    "plt.legend(legend)\n",
    "plt.xticks(np.arange(0, 85, 7), months)\n",
    "plt.title('Probability of CRS Departure in the AM vs PM on a given month, given day')\n",
    "plt.savefig('CRS_DEP_TIME.png')\n",
    "plt.show()"
   ]
  },
  {
   "cell_type": "markdown",
   "metadata": {},
   "source": [
    "## 4. ScheduledArrivalPHL"
   ]
  },
  {
   "cell_type": "markdown",
   "metadata": {},
   "source": [
    "0 represents less than 10, 1 represents less than 20, 2 represents less than 30, 3 represents less than 40, 4 represents less than 50."
   ]
  },
  {
   "cell_type": "code",
   "execution_count": 8,
   "metadata": {},
   "outputs": [
    {
     "name": "stdout",
     "output_type": "stream",
     "text": [
      "Note: There are 33 rows in the above table, but we should have 35 , which means that 2 row(s) missing values have been replaced with to occur with probability 2.2250738585072014e-308 .\n"
     ]
    },
    {
     "data": {
      "text/html": [
       "<div>\n",
       "<table border=\"1\" class=\"dataframe\">\n",
       "  <thead>\n",
       "    <tr style=\"text-align: right;\">\n",
       "      <th></th>\n",
       "      <th>DAY_OF_WEEK</th>\n",
       "      <th>ScheduledArrivalPHL</th>\n",
       "      <th>prob</th>\n",
       "      <th>log_p</th>\n",
       "    </tr>\n",
       "  </thead>\n",
       "  <tbody>\n",
       "    <tr>\n",
       "      <th>0</th>\n",
       "      <td>1</td>\n",
       "      <td>0</td>\n",
       "      <td>0.626016</td>\n",
       "      <td>-0.468379</td>\n",
       "    </tr>\n",
       "    <tr>\n",
       "      <th>1</th>\n",
       "      <td>2</td>\n",
       "      <td>0</td>\n",
       "      <td>0.673267</td>\n",
       "      <td>-0.395613</td>\n",
       "    </tr>\n",
       "    <tr>\n",
       "      <th>2</th>\n",
       "      <td>3</td>\n",
       "      <td>0</td>\n",
       "      <td>0.656566</td>\n",
       "      <td>-0.420733</td>\n",
       "    </tr>\n",
       "    <tr>\n",
       "      <th>3</th>\n",
       "      <td>4</td>\n",
       "      <td>0</td>\n",
       "      <td>0.661871</td>\n",
       "      <td>-0.412685</td>\n",
       "    </tr>\n",
       "    <tr>\n",
       "      <th>4</th>\n",
       "      <td>5</td>\n",
       "      <td>0</td>\n",
       "      <td>0.636364</td>\n",
       "      <td>-0.451985</td>\n",
       "    </tr>\n",
       "    <tr>\n",
       "      <th>5</th>\n",
       "      <td>6</td>\n",
       "      <td>0</td>\n",
       "      <td>0.657895</td>\n",
       "      <td>-0.418710</td>\n",
       "    </tr>\n",
       "    <tr>\n",
       "      <th>6</th>\n",
       "      <td>7</td>\n",
       "      <td>0</td>\n",
       "      <td>0.644231</td>\n",
       "      <td>-0.439698</td>\n",
       "    </tr>\n",
       "    <tr>\n",
       "      <th>7</th>\n",
       "      <td>1</td>\n",
       "      <td>1</td>\n",
       "      <td>0.260163</td>\n",
       "      <td>-1.346448</td>\n",
       "    </tr>\n",
       "    <tr>\n",
       "      <th>8</th>\n",
       "      <td>2</td>\n",
       "      <td>1</td>\n",
       "      <td>0.168317</td>\n",
       "      <td>-1.781907</td>\n",
       "    </tr>\n",
       "    <tr>\n",
       "      <th>9</th>\n",
       "      <td>3</td>\n",
       "      <td>1</td>\n",
       "      <td>0.252525</td>\n",
       "      <td>-1.376244</td>\n",
       "    </tr>\n",
       "  </tbody>\n",
       "</table>\n",
       "</div>"
      ],
      "text/plain": [
       "   DAY_OF_WEEK  ScheduledArrivalPHL      prob     log_p\n",
       "0            1                    0  0.626016 -0.468379\n",
       "1            2                    0  0.673267 -0.395613\n",
       "2            3                    0  0.656566 -0.420733\n",
       "3            4                    0  0.661871 -0.412685\n",
       "4            5                    0  0.636364 -0.451985\n",
       "5            6                    0  0.657895 -0.418710\n",
       "6            7                    0  0.644231 -0.439698\n",
       "7            1                    1  0.260163 -1.346448\n",
       "8            2                    1  0.168317 -1.781907\n",
       "9            3                    1  0.252525 -1.376244"
      ]
     },
     "execution_count": 8,
     "metadata": {},
     "output_type": "execute_result"
    }
   ],
   "source": [
    "scheduled_PHL_df = cpt.nonparentless_CPT('ScheduledArrivalPHL')\n",
    "scheduled_PHL_df.head(10)"
   ]
  },
  {
   "cell_type": "markdown",
   "metadata": {},
   "source": [
    "# Depth 2"
   ]
  },
  {
   "cell_type": "code",
   "execution_count": 9,
   "metadata": {},
   "outputs": [
    {
     "data": {
      "text/plain": [
       "['CRS_DEP_TIME']"
      ]
     },
     "execution_count": 9,
     "metadata": {},
     "output_type": "execute_result"
    }
   ],
   "source": [
    "cpt.available_nodes()"
   ]
  },
  {
   "cell_type": "markdown",
   "metadata": {},
   "source": [
    "## 5. CRS Departure Time"
   ]
  },
  {
   "cell_type": "code",
   "execution_count": 10,
   "metadata": {},
   "outputs": [
    {
     "name": "stdout",
     "output_type": "stream",
     "text": [
      "Note: There are 218 rows in the above table, but we should have 336 , which means that 118 row(s) missing values have been replaced with to occur with probability 2.2250738585072014e-308 .\n"
     ]
    },
    {
     "data": {
      "text/html": [
       "<div>\n",
       "<table border=\"1\" class=\"dataframe\">\n",
       "  <thead>\n",
       "    <tr style=\"text-align: right;\">\n",
       "      <th></th>\n",
       "      <th>MONTH</th>\n",
       "      <th>CRS_ARR_TIME</th>\n",
       "      <th>DAY_OF_WEEK</th>\n",
       "      <th>CRS_DEP_TIME</th>\n",
       "      <th>prob</th>\n",
       "      <th>log_p</th>\n",
       "    </tr>\n",
       "  </thead>\n",
       "  <tbody>\n",
       "    <tr>\n",
       "      <th>0</th>\n",
       "      <td>1</td>\n",
       "      <td>0</td>\n",
       "      <td>1</td>\n",
       "      <td>0</td>\n",
       "      <td>2.225074e-308</td>\n",
       "      <td>-708.396419</td>\n",
       "    </tr>\n",
       "    <tr>\n",
       "      <th>1</th>\n",
       "      <td>1</td>\n",
       "      <td>0</td>\n",
       "      <td>1</td>\n",
       "      <td>1</td>\n",
       "      <td>1.000000e+00</td>\n",
       "      <td>0.000000</td>\n",
       "    </tr>\n",
       "    <tr>\n",
       "      <th>2</th>\n",
       "      <td>1</td>\n",
       "      <td>0</td>\n",
       "      <td>2</td>\n",
       "      <td>0</td>\n",
       "      <td>2.225074e-308</td>\n",
       "      <td>-708.396419</td>\n",
       "    </tr>\n",
       "    <tr>\n",
       "      <th>3</th>\n",
       "      <td>1</td>\n",
       "      <td>0</td>\n",
       "      <td>2</td>\n",
       "      <td>1</td>\n",
       "      <td>1.000000e+00</td>\n",
       "      <td>0.000000</td>\n",
       "    </tr>\n",
       "    <tr>\n",
       "      <th>4</th>\n",
       "      <td>1</td>\n",
       "      <td>0</td>\n",
       "      <td>3</td>\n",
       "      <td>0</td>\n",
       "      <td>2.225074e-308</td>\n",
       "      <td>-708.396419</td>\n",
       "    </tr>\n",
       "    <tr>\n",
       "      <th>5</th>\n",
       "      <td>1</td>\n",
       "      <td>0</td>\n",
       "      <td>3</td>\n",
       "      <td>1</td>\n",
       "      <td>2.225074e-308</td>\n",
       "      <td>-708.396419</td>\n",
       "    </tr>\n",
       "    <tr>\n",
       "      <th>6</th>\n",
       "      <td>1</td>\n",
       "      <td>0</td>\n",
       "      <td>4</td>\n",
       "      <td>0</td>\n",
       "      <td>2.225074e-308</td>\n",
       "      <td>-708.396419</td>\n",
       "    </tr>\n",
       "    <tr>\n",
       "      <th>7</th>\n",
       "      <td>1</td>\n",
       "      <td>0</td>\n",
       "      <td>4</td>\n",
       "      <td>1</td>\n",
       "      <td>1.000000e+00</td>\n",
       "      <td>0.000000</td>\n",
       "    </tr>\n",
       "    <tr>\n",
       "      <th>8</th>\n",
       "      <td>1</td>\n",
       "      <td>0</td>\n",
       "      <td>5</td>\n",
       "      <td>0</td>\n",
       "      <td>2.225074e-308</td>\n",
       "      <td>-708.396419</td>\n",
       "    </tr>\n",
       "    <tr>\n",
       "      <th>9</th>\n",
       "      <td>1</td>\n",
       "      <td>0</td>\n",
       "      <td>5</td>\n",
       "      <td>1</td>\n",
       "      <td>1.000000e+00</td>\n",
       "      <td>0.000000</td>\n",
       "    </tr>\n",
       "  </tbody>\n",
       "</table>\n",
       "</div>"
      ],
      "text/plain": [
       "   MONTH  CRS_ARR_TIME  DAY_OF_WEEK  CRS_DEP_TIME           prob       log_p\n",
       "0      1             0            1             0  2.225074e-308 -708.396419\n",
       "1      1             0            1             1   1.000000e+00    0.000000\n",
       "2      1             0            2             0  2.225074e-308 -708.396419\n",
       "3      1             0            2             1   1.000000e+00    0.000000\n",
       "4      1             0            3             0  2.225074e-308 -708.396419\n",
       "5      1             0            3             1  2.225074e-308 -708.396419\n",
       "6      1             0            4             0  2.225074e-308 -708.396419\n",
       "7      1             0            4             1   1.000000e+00    0.000000\n",
       "8      1             0            5             0  2.225074e-308 -708.396419\n",
       "9      1             0            5             1   1.000000e+00    0.000000"
      ]
     },
     "execution_count": 10,
     "metadata": {},
     "output_type": "execute_result"
    }
   ],
   "source": [
    "departure_time_df = cpt.nonparentless_CPT('CRS_DEP_TIME')\n",
    "departure_time_df.head(10)"
   ]
  },
  {
   "cell_type": "markdown",
   "metadata": {},
   "source": [
    "# Depth 3"
   ]
  },
  {
   "cell_type": "code",
   "execution_count": 11,
   "metadata": {},
   "outputs": [
    {
     "data": {
      "text/plain": [
       "['ScheduledDepartureSFO']"
      ]
     },
     "execution_count": 11,
     "metadata": {},
     "output_type": "execute_result"
    }
   ],
   "source": [
    "cpt.available_nodes()"
   ]
  },
  {
   "cell_type": "markdown",
   "metadata": {},
   "source": [
    "## 6. Number of Scheduled Departures from SFO"
   ]
  },
  {
   "cell_type": "code",
   "execution_count": 12,
   "metadata": {},
   "outputs": [
    {
     "name": "stdout",
     "output_type": "stream",
     "text": [
      "Note: There are 167 rows in the above table, but we should have 1200 , which means that 1033 row(s) missing values have been replaced with to occur with probability 2.2250738585072014e-308 .\n"
     ]
    },
    {
     "data": {
      "text/html": [
       "<div>\n",
       "<table border=\"1\" class=\"dataframe\">\n",
       "  <thead>\n",
       "    <tr style=\"text-align: right;\">\n",
       "      <th></th>\n",
       "      <th>MONTH</th>\n",
       "      <th>CRS_ARR_TIME</th>\n",
       "      <th>CRS_DEP_TIME</th>\n",
       "      <th>ScheduledArrivalPHL</th>\n",
       "      <th>ScheduledDepartureSFO</th>\n",
       "      <th>prob</th>\n",
       "      <th>log_p</th>\n",
       "    </tr>\n",
       "  </thead>\n",
       "  <tbody>\n",
       "    <tr>\n",
       "      <th>0</th>\n",
       "      <td>1</td>\n",
       "      <td>0</td>\n",
       "      <td>0</td>\n",
       "      <td>0</td>\n",
       "      <td>0</td>\n",
       "      <td>2.225074e-308</td>\n",
       "      <td>-708.396419</td>\n",
       "    </tr>\n",
       "    <tr>\n",
       "      <th>1</th>\n",
       "      <td>1</td>\n",
       "      <td>0</td>\n",
       "      <td>0</td>\n",
       "      <td>0</td>\n",
       "      <td>1</td>\n",
       "      <td>2.225074e-308</td>\n",
       "      <td>-708.396419</td>\n",
       "    </tr>\n",
       "    <tr>\n",
       "      <th>2</th>\n",
       "      <td>1</td>\n",
       "      <td>0</td>\n",
       "      <td>0</td>\n",
       "      <td>0</td>\n",
       "      <td>2</td>\n",
       "      <td>2.225074e-308</td>\n",
       "      <td>-708.396419</td>\n",
       "    </tr>\n",
       "    <tr>\n",
       "      <th>3</th>\n",
       "      <td>1</td>\n",
       "      <td>0</td>\n",
       "      <td>0</td>\n",
       "      <td>0</td>\n",
       "      <td>3</td>\n",
       "      <td>2.225074e-308</td>\n",
       "      <td>-708.396419</td>\n",
       "    </tr>\n",
       "    <tr>\n",
       "      <th>4</th>\n",
       "      <td>1</td>\n",
       "      <td>0</td>\n",
       "      <td>0</td>\n",
       "      <td>0</td>\n",
       "      <td>4</td>\n",
       "      <td>2.225074e-308</td>\n",
       "      <td>-708.396419</td>\n",
       "    </tr>\n",
       "    <tr>\n",
       "      <th>5</th>\n",
       "      <td>1</td>\n",
       "      <td>0</td>\n",
       "      <td>0</td>\n",
       "      <td>1</td>\n",
       "      <td>0</td>\n",
       "      <td>2.225074e-308</td>\n",
       "      <td>-708.396419</td>\n",
       "    </tr>\n",
       "    <tr>\n",
       "      <th>6</th>\n",
       "      <td>1</td>\n",
       "      <td>0</td>\n",
       "      <td>0</td>\n",
       "      <td>1</td>\n",
       "      <td>1</td>\n",
       "      <td>2.225074e-308</td>\n",
       "      <td>-708.396419</td>\n",
       "    </tr>\n",
       "    <tr>\n",
       "      <th>7</th>\n",
       "      <td>1</td>\n",
       "      <td>0</td>\n",
       "      <td>0</td>\n",
       "      <td>1</td>\n",
       "      <td>2</td>\n",
       "      <td>2.225074e-308</td>\n",
       "      <td>-708.396419</td>\n",
       "    </tr>\n",
       "    <tr>\n",
       "      <th>8</th>\n",
       "      <td>1</td>\n",
       "      <td>0</td>\n",
       "      <td>0</td>\n",
       "      <td>1</td>\n",
       "      <td>3</td>\n",
       "      <td>2.225074e-308</td>\n",
       "      <td>-708.396419</td>\n",
       "    </tr>\n",
       "    <tr>\n",
       "      <th>9</th>\n",
       "      <td>1</td>\n",
       "      <td>0</td>\n",
       "      <td>0</td>\n",
       "      <td>1</td>\n",
       "      <td>4</td>\n",
       "      <td>2.225074e-308</td>\n",
       "      <td>-708.396419</td>\n",
       "    </tr>\n",
       "  </tbody>\n",
       "</table>\n",
       "</div>"
      ],
      "text/plain": [
       "   MONTH  CRS_ARR_TIME  CRS_DEP_TIME  ScheduledArrivalPHL  \\\n",
       "0      1             0             0                    0   \n",
       "1      1             0             0                    0   \n",
       "2      1             0             0                    0   \n",
       "3      1             0             0                    0   \n",
       "4      1             0             0                    0   \n",
       "5      1             0             0                    1   \n",
       "6      1             0             0                    1   \n",
       "7      1             0             0                    1   \n",
       "8      1             0             0                    1   \n",
       "9      1             0             0                    1   \n",
       "\n",
       "   ScheduledDepartureSFO           prob       log_p  \n",
       "0                      0  2.225074e-308 -708.396419  \n",
       "1                      1  2.225074e-308 -708.396419  \n",
       "2                      2  2.225074e-308 -708.396419  \n",
       "3                      3  2.225074e-308 -708.396419  \n",
       "4                      4  2.225074e-308 -708.396419  \n",
       "5                      0  2.225074e-308 -708.396419  \n",
       "6                      1  2.225074e-308 -708.396419  \n",
       "7                      2  2.225074e-308 -708.396419  \n",
       "8                      3  2.225074e-308 -708.396419  \n",
       "9                      4  2.225074e-308 -708.396419  "
      ]
     },
     "execution_count": 12,
     "metadata": {},
     "output_type": "execute_result"
    }
   ],
   "source": [
    "scheduled_SFO_df = cpt.nonparentless_CPT('ScheduledDepartureSFO')\n",
    "scheduled_SFO_df.head(10)"
   ]
  },
  {
   "cell_type": "markdown",
   "metadata": {},
   "source": [
    "# Depth 4"
   ]
  },
  {
   "cell_type": "code",
   "execution_count": 13,
   "metadata": {},
   "outputs": [
    {
     "data": {
      "text/plain": [
       "['LATE_AIRCRAFT_DELAY', 'DelayedDepartureSFO']"
      ]
     },
     "execution_count": 13,
     "metadata": {},
     "output_type": "execute_result"
    }
   ],
   "source": [
    "cpt.available_nodes()"
   ]
  },
  {
   "cell_type": "markdown",
   "metadata": {},
   "source": [
    "## 7. Delayed Departure SFO"
   ]
  },
  {
   "cell_type": "code",
   "execution_count": 14,
   "metadata": {},
   "outputs": [
    {
     "name": "stdout",
     "output_type": "stream",
     "text": [
      "Note: There are 13 rows in the above table, but we should have 50 , which means that 37 row(s) missing values have been replaced with to occur with probability 2.2250738585072014e-308 .\n"
     ]
    },
    {
     "data": {
      "text/html": [
       "<div>\n",
       "<table border=\"1\" class=\"dataframe\">\n",
       "  <thead>\n",
       "    <tr style=\"text-align: right;\">\n",
       "      <th></th>\n",
       "      <th>ScheduledDepartureSFO</th>\n",
       "      <th>ScheduledArrivalPHL</th>\n",
       "      <th>DelayedDepartureSFO</th>\n",
       "      <th>prob</th>\n",
       "      <th>log_p</th>\n",
       "    </tr>\n",
       "  </thead>\n",
       "  <tbody>\n",
       "    <tr>\n",
       "      <th>0</th>\n",
       "      <td>0</td>\n",
       "      <td>0</td>\n",
       "      <td>0</td>\n",
       "      <td>1.000000e+00</td>\n",
       "      <td>0.000000</td>\n",
       "    </tr>\n",
       "    <tr>\n",
       "      <th>1</th>\n",
       "      <td>0</td>\n",
       "      <td>0</td>\n",
       "      <td>1</td>\n",
       "      <td>2.225074e-308</td>\n",
       "      <td>-708.396419</td>\n",
       "    </tr>\n",
       "    <tr>\n",
       "      <th>2</th>\n",
       "      <td>1</td>\n",
       "      <td>0</td>\n",
       "      <td>0</td>\n",
       "      <td>2.225074e-308</td>\n",
       "      <td>-708.396419</td>\n",
       "    </tr>\n",
       "    <tr>\n",
       "      <th>3</th>\n",
       "      <td>1</td>\n",
       "      <td>0</td>\n",
       "      <td>1</td>\n",
       "      <td>2.225074e-308</td>\n",
       "      <td>-708.396419</td>\n",
       "    </tr>\n",
       "    <tr>\n",
       "      <th>4</th>\n",
       "      <td>2</td>\n",
       "      <td>0</td>\n",
       "      <td>0</td>\n",
       "      <td>2.225074e-308</td>\n",
       "      <td>-708.396419</td>\n",
       "    </tr>\n",
       "    <tr>\n",
       "      <th>5</th>\n",
       "      <td>2</td>\n",
       "      <td>0</td>\n",
       "      <td>1</td>\n",
       "      <td>2.225074e-308</td>\n",
       "      <td>-708.396419</td>\n",
       "    </tr>\n",
       "    <tr>\n",
       "      <th>6</th>\n",
       "      <td>3</td>\n",
       "      <td>0</td>\n",
       "      <td>0</td>\n",
       "      <td>2.225074e-308</td>\n",
       "      <td>-708.396419</td>\n",
       "    </tr>\n",
       "    <tr>\n",
       "      <th>7</th>\n",
       "      <td>3</td>\n",
       "      <td>0</td>\n",
       "      <td>1</td>\n",
       "      <td>2.225074e-308</td>\n",
       "      <td>-708.396419</td>\n",
       "    </tr>\n",
       "    <tr>\n",
       "      <th>8</th>\n",
       "      <td>4</td>\n",
       "      <td>0</td>\n",
       "      <td>0</td>\n",
       "      <td>7.250000e-01</td>\n",
       "      <td>-0.321584</td>\n",
       "    </tr>\n",
       "    <tr>\n",
       "      <th>9</th>\n",
       "      <td>4</td>\n",
       "      <td>0</td>\n",
       "      <td>1</td>\n",
       "      <td>2.750000e-01</td>\n",
       "      <td>-1.290984</td>\n",
       "    </tr>\n",
       "  </tbody>\n",
       "</table>\n",
       "</div>"
      ],
      "text/plain": [
       "   ScheduledDepartureSFO  ScheduledArrivalPHL  DelayedDepartureSFO  \\\n",
       "0                      0                    0                    0   \n",
       "1                      0                    0                    1   \n",
       "2                      1                    0                    0   \n",
       "3                      1                    0                    1   \n",
       "4                      2                    0                    0   \n",
       "5                      2                    0                    1   \n",
       "6                      3                    0                    0   \n",
       "7                      3                    0                    1   \n",
       "8                      4                    0                    0   \n",
       "9                      4                    0                    1   \n",
       "\n",
       "            prob       log_p  \n",
       "0   1.000000e+00    0.000000  \n",
       "1  2.225074e-308 -708.396419  \n",
       "2  2.225074e-308 -708.396419  \n",
       "3  2.225074e-308 -708.396419  \n",
       "4  2.225074e-308 -708.396419  \n",
       "5  2.225074e-308 -708.396419  \n",
       "6  2.225074e-308 -708.396419  \n",
       "7  2.225074e-308 -708.396419  \n",
       "8   7.250000e-01   -0.321584  \n",
       "9   2.750000e-01   -1.290984  "
      ]
     },
     "execution_count": 14,
     "metadata": {},
     "output_type": "execute_result"
    }
   ],
   "source": [
    "delayed_SFO_df = cpt.nonparentless_CPT('DelayedDepartureSFO')\n",
    "delayed_SFO_df.head(10)"
   ]
  },
  {
   "cell_type": "markdown",
   "metadata": {},
   "source": [
    "## 8. Late Aircraft Delay"
   ]
  },
  {
   "cell_type": "code",
   "execution_count": 15,
   "metadata": {},
   "outputs": [
    {
     "name": "stdout",
     "output_type": "stream",
     "text": [
      "Note: There are 33 rows in the above table, but we should have 40 , which means that 7 row(s) missing values have been replaced with to occur with probability 2.2250738585072014e-308 .\n"
     ]
    },
    {
     "data": {
      "text/html": [
       "<div>\n",
       "<table border=\"1\" class=\"dataframe\">\n",
       "  <thead>\n",
       "    <tr style=\"text-align: right;\">\n",
       "      <th></th>\n",
       "      <th>CRS_DEP_TIME</th>\n",
       "      <th>ScheduledDepartureSFO</th>\n",
       "      <th>CRS_ARR_TIME</th>\n",
       "      <th>LATE_AIRCRAFT_DELAY</th>\n",
       "      <th>prob</th>\n",
       "      <th>log_p</th>\n",
       "    </tr>\n",
       "  </thead>\n",
       "  <tbody>\n",
       "    <tr>\n",
       "      <th>0</th>\n",
       "      <td>0</td>\n",
       "      <td>0</td>\n",
       "      <td>0</td>\n",
       "      <td>0</td>\n",
       "      <td>1.000000e+00</td>\n",
       "      <td>0.000000</td>\n",
       "    </tr>\n",
       "    <tr>\n",
       "      <th>1</th>\n",
       "      <td>0</td>\n",
       "      <td>0</td>\n",
       "      <td>0</td>\n",
       "      <td>1</td>\n",
       "      <td>2.225074e-308</td>\n",
       "      <td>-708.396419</td>\n",
       "    </tr>\n",
       "    <tr>\n",
       "      <th>2</th>\n",
       "      <td>0</td>\n",
       "      <td>0</td>\n",
       "      <td>1</td>\n",
       "      <td>0</td>\n",
       "      <td>8.543689e-01</td>\n",
       "      <td>-0.157392</td>\n",
       "    </tr>\n",
       "    <tr>\n",
       "      <th>3</th>\n",
       "      <td>0</td>\n",
       "      <td>0</td>\n",
       "      <td>1</td>\n",
       "      <td>1</td>\n",
       "      <td>1.456311e-01</td>\n",
       "      <td>-1.926679</td>\n",
       "    </tr>\n",
       "    <tr>\n",
       "      <th>4</th>\n",
       "      <td>1</td>\n",
       "      <td>0</td>\n",
       "      <td>0</td>\n",
       "      <td>0</td>\n",
       "      <td>7.722772e-01</td>\n",
       "      <td>-0.258412</td>\n",
       "    </tr>\n",
       "    <tr>\n",
       "      <th>5</th>\n",
       "      <td>1</td>\n",
       "      <td>0</td>\n",
       "      <td>0</td>\n",
       "      <td>1</td>\n",
       "      <td>2.277228e-01</td>\n",
       "      <td>-1.479626</td>\n",
       "    </tr>\n",
       "    <tr>\n",
       "      <th>6</th>\n",
       "      <td>1</td>\n",
       "      <td>0</td>\n",
       "      <td>1</td>\n",
       "      <td>0</td>\n",
       "      <td>5.116279e-01</td>\n",
       "      <td>-0.670158</td>\n",
       "    </tr>\n",
       "    <tr>\n",
       "      <th>7</th>\n",
       "      <td>1</td>\n",
       "      <td>0</td>\n",
       "      <td>1</td>\n",
       "      <td>1</td>\n",
       "      <td>4.883721e-01</td>\n",
       "      <td>-0.716678</td>\n",
       "    </tr>\n",
       "    <tr>\n",
       "      <th>8</th>\n",
       "      <td>0</td>\n",
       "      <td>1</td>\n",
       "      <td>0</td>\n",
       "      <td>0</td>\n",
       "      <td>1.000000e+00</td>\n",
       "      <td>0.000000</td>\n",
       "    </tr>\n",
       "    <tr>\n",
       "      <th>9</th>\n",
       "      <td>0</td>\n",
       "      <td>1</td>\n",
       "      <td>0</td>\n",
       "      <td>1</td>\n",
       "      <td>2.225074e-308</td>\n",
       "      <td>-708.396419</td>\n",
       "    </tr>\n",
       "  </tbody>\n",
       "</table>\n",
       "</div>"
      ],
      "text/plain": [
       "   CRS_DEP_TIME  ScheduledDepartureSFO  CRS_ARR_TIME  LATE_AIRCRAFT_DELAY  \\\n",
       "0             0                      0             0                    0   \n",
       "1             0                      0             0                    1   \n",
       "2             0                      0             1                    0   \n",
       "3             0                      0             1                    1   \n",
       "4             1                      0             0                    0   \n",
       "5             1                      0             0                    1   \n",
       "6             1                      0             1                    0   \n",
       "7             1                      0             1                    1   \n",
       "8             0                      1             0                    0   \n",
       "9             0                      1             0                    1   \n",
       "\n",
       "            prob       log_p  \n",
       "0   1.000000e+00    0.000000  \n",
       "1  2.225074e-308 -708.396419  \n",
       "2   8.543689e-01   -0.157392  \n",
       "3   1.456311e-01   -1.926679  \n",
       "4   7.722772e-01   -0.258412  \n",
       "5   2.277228e-01   -1.479626  \n",
       "6   5.116279e-01   -0.670158  \n",
       "7   4.883721e-01   -0.716678  \n",
       "8   1.000000e+00    0.000000  \n",
       "9  2.225074e-308 -708.396419  "
      ]
     },
     "execution_count": 15,
     "metadata": {},
     "output_type": "execute_result"
    }
   ],
   "source": [
    "late_aircraft_delay_df = cpt.nonparentless_CPT('LATE_AIRCRAFT_DELAY')\n",
    "late_aircraft_delay_df.head(10)"
   ]
  },
  {
   "cell_type": "markdown",
   "metadata": {},
   "source": [
    "# Depth 5"
   ]
  },
  {
   "cell_type": "code",
   "execution_count": 16,
   "metadata": {},
   "outputs": [
    {
     "data": {
      "text/plain": [
       "['NAS_DELAY']"
      ]
     },
     "execution_count": 16,
     "metadata": {},
     "output_type": "execute_result"
    }
   ],
   "source": [
    "cpt.available_nodes()"
   ]
  },
  {
   "cell_type": "markdown",
   "metadata": {},
   "source": [
    "## 9. NAS Delay"
   ]
  },
  {
   "cell_type": "code",
   "execution_count": 17,
   "metadata": {},
   "outputs": [
    {
     "name": "stdout",
     "output_type": "stream",
     "text": [
      "Note: There are 15 rows in the above table, but we should have 16 , which means that 1 row(s) missing values have been replaced with to occur with probability 2.2250738585072014e-308 .\n"
     ]
    },
    {
     "data": {
      "text/html": [
       "<div>\n",
       "<table border=\"1\" class=\"dataframe\">\n",
       "  <thead>\n",
       "    <tr style=\"text-align: right;\">\n",
       "      <th></th>\n",
       "      <th>CRS_DEP_TIME</th>\n",
       "      <th>DelayedDepartureSFO</th>\n",
       "      <th>CRS_ARR_TIME</th>\n",
       "      <th>NAS_DELAY</th>\n",
       "      <th>prob</th>\n",
       "      <th>log_p</th>\n",
       "    </tr>\n",
       "  </thead>\n",
       "  <tbody>\n",
       "    <tr>\n",
       "      <th>0</th>\n",
       "      <td>0</td>\n",
       "      <td>0</td>\n",
       "      <td>0</td>\n",
       "      <td>0</td>\n",
       "      <td>7.692308e-01</td>\n",
       "      <td>-0.262364</td>\n",
       "    </tr>\n",
       "    <tr>\n",
       "      <th>1</th>\n",
       "      <td>0</td>\n",
       "      <td>0</td>\n",
       "      <td>0</td>\n",
       "      <td>1</td>\n",
       "      <td>2.307692e-01</td>\n",
       "      <td>-1.466337</td>\n",
       "    </tr>\n",
       "    <tr>\n",
       "      <th>2</th>\n",
       "      <td>0</td>\n",
       "      <td>0</td>\n",
       "      <td>1</td>\n",
       "      <td>0</td>\n",
       "      <td>6.230769e-01</td>\n",
       "      <td>-0.473085</td>\n",
       "    </tr>\n",
       "    <tr>\n",
       "      <th>3</th>\n",
       "      <td>0</td>\n",
       "      <td>0</td>\n",
       "      <td>1</td>\n",
       "      <td>1</td>\n",
       "      <td>3.769231e-01</td>\n",
       "      <td>-0.975714</td>\n",
       "    </tr>\n",
       "    <tr>\n",
       "      <th>4</th>\n",
       "      <td>1</td>\n",
       "      <td>0</td>\n",
       "      <td>0</td>\n",
       "      <td>0</td>\n",
       "      <td>6.279070e-01</td>\n",
       "      <td>-0.465363</td>\n",
       "    </tr>\n",
       "    <tr>\n",
       "      <th>5</th>\n",
       "      <td>1</td>\n",
       "      <td>0</td>\n",
       "      <td>0</td>\n",
       "      <td>1</td>\n",
       "      <td>3.720930e-01</td>\n",
       "      <td>-0.988611</td>\n",
       "    </tr>\n",
       "    <tr>\n",
       "      <th>6</th>\n",
       "      <td>1</td>\n",
       "      <td>0</td>\n",
       "      <td>1</td>\n",
       "      <td>0</td>\n",
       "      <td>6.206897e-01</td>\n",
       "      <td>-0.476924</td>\n",
       "    </tr>\n",
       "    <tr>\n",
       "      <th>7</th>\n",
       "      <td>1</td>\n",
       "      <td>0</td>\n",
       "      <td>1</td>\n",
       "      <td>1</td>\n",
       "      <td>3.793103e-01</td>\n",
       "      <td>-0.969401</td>\n",
       "    </tr>\n",
       "    <tr>\n",
       "      <th>8</th>\n",
       "      <td>0</td>\n",
       "      <td>1</td>\n",
       "      <td>0</td>\n",
       "      <td>0</td>\n",
       "      <td>1.000000e+00</td>\n",
       "      <td>0.000000</td>\n",
       "    </tr>\n",
       "    <tr>\n",
       "      <th>9</th>\n",
       "      <td>0</td>\n",
       "      <td>1</td>\n",
       "      <td>0</td>\n",
       "      <td>1</td>\n",
       "      <td>2.225074e-308</td>\n",
       "      <td>-708.396419</td>\n",
       "    </tr>\n",
       "  </tbody>\n",
       "</table>\n",
       "</div>"
      ],
      "text/plain": [
       "   CRS_DEP_TIME  DelayedDepartureSFO  CRS_ARR_TIME  NAS_DELAY           prob  \\\n",
       "0             0                    0             0          0   7.692308e-01   \n",
       "1             0                    0             0          1   2.307692e-01   \n",
       "2             0                    0             1          0   6.230769e-01   \n",
       "3             0                    0             1          1   3.769231e-01   \n",
       "4             1                    0             0          0   6.279070e-01   \n",
       "5             1                    0             0          1   3.720930e-01   \n",
       "6             1                    0             1          0   6.206897e-01   \n",
       "7             1                    0             1          1   3.793103e-01   \n",
       "8             0                    1             0          0   1.000000e+00   \n",
       "9             0                    1             0          1  2.225074e-308   \n",
       "\n",
       "        log_p  \n",
       "0   -0.262364  \n",
       "1   -1.466337  \n",
       "2   -0.473085  \n",
       "3   -0.975714  \n",
       "4   -0.465363  \n",
       "5   -0.988611  \n",
       "6   -0.476924  \n",
       "7   -0.969401  \n",
       "8    0.000000  \n",
       "9 -708.396419  "
      ]
     },
     "execution_count": 17,
     "metadata": {},
     "output_type": "execute_result"
    }
   ],
   "source": [
    "nas_delay_df = cpt.nonparentless_CPT('NAS_DELAY')\n",
    "nas_delay_df.head(10)"
   ]
  },
  {
   "cell_type": "markdown",
   "metadata": {},
   "source": [
    "# Depth 6"
   ]
  },
  {
   "cell_type": "code",
   "execution_count": 18,
   "metadata": {},
   "outputs": [
    {
     "data": {
      "text/plain": [
       "['WEATHER_DELAY', 'TAXI_IN']"
      ]
     },
     "execution_count": 18,
     "metadata": {},
     "output_type": "execute_result"
    }
   ],
   "source": [
    "cpt.available_nodes()"
   ]
  },
  {
   "cell_type": "markdown",
   "metadata": {},
   "source": [
    "## 10. Taxi In"
   ]
  },
  {
   "cell_type": "code",
   "execution_count": 19,
   "metadata": {},
   "outputs": [
    {
     "name": "stdout",
     "output_type": "stream",
     "text": [
      "Note: There are 22 rows in the above table, but we should have 104 , which means that 82 row(s) missing values have been replaced with to occur with probability 2.2250738585072014e-308 .\n"
     ]
    },
    {
     "data": {
      "text/html": [
       "<div>\n",
       "<table border=\"1\" class=\"dataframe\">\n",
       "  <thead>\n",
       "    <tr style=\"text-align: right;\">\n",
       "      <th></th>\n",
       "      <th>DelayedDepartureSFO</th>\n",
       "      <th>NAS_DELAY</th>\n",
       "      <th>CRS_ARR_TIME</th>\n",
       "      <th>TAXI_IN</th>\n",
       "      <th>prob</th>\n",
       "      <th>log_p</th>\n",
       "    </tr>\n",
       "  </thead>\n",
       "  <tbody>\n",
       "    <tr>\n",
       "      <th>0</th>\n",
       "      <td>0</td>\n",
       "      <td>0</td>\n",
       "      <td>0</td>\n",
       "      <td>0</td>\n",
       "      <td>9.418605e-01</td>\n",
       "      <td>-0.059898</td>\n",
       "    </tr>\n",
       "    <tr>\n",
       "      <th>1</th>\n",
       "      <td>0</td>\n",
       "      <td>0</td>\n",
       "      <td>0</td>\n",
       "      <td>1</td>\n",
       "      <td>5.232558e-02</td>\n",
       "      <td>-2.950270</td>\n",
       "    </tr>\n",
       "    <tr>\n",
       "      <th>2</th>\n",
       "      <td>0</td>\n",
       "      <td>0</td>\n",
       "      <td>0</td>\n",
       "      <td>2</td>\n",
       "      <td>5.813953e-03</td>\n",
       "      <td>-5.147494</td>\n",
       "    </tr>\n",
       "    <tr>\n",
       "      <th>3</th>\n",
       "      <td>0</td>\n",
       "      <td>0</td>\n",
       "      <td>0</td>\n",
       "      <td>3</td>\n",
       "      <td>2.225074e-308</td>\n",
       "      <td>-708.396419</td>\n",
       "    </tr>\n",
       "    <tr>\n",
       "      <th>4</th>\n",
       "      <td>0</td>\n",
       "      <td>0</td>\n",
       "      <td>0</td>\n",
       "      <td>4</td>\n",
       "      <td>2.225074e-308</td>\n",
       "      <td>-708.396419</td>\n",
       "    </tr>\n",
       "    <tr>\n",
       "      <th>5</th>\n",
       "      <td>0</td>\n",
       "      <td>0</td>\n",
       "      <td>0</td>\n",
       "      <td>5</td>\n",
       "      <td>2.225074e-308</td>\n",
       "      <td>-708.396419</td>\n",
       "    </tr>\n",
       "    <tr>\n",
       "      <th>6</th>\n",
       "      <td>0</td>\n",
       "      <td>0</td>\n",
       "      <td>0</td>\n",
       "      <td>6</td>\n",
       "      <td>2.225074e-308</td>\n",
       "      <td>-708.396419</td>\n",
       "    </tr>\n",
       "    <tr>\n",
       "      <th>7</th>\n",
       "      <td>0</td>\n",
       "      <td>0</td>\n",
       "      <td>0</td>\n",
       "      <td>7</td>\n",
       "      <td>2.225074e-308</td>\n",
       "      <td>-708.396419</td>\n",
       "    </tr>\n",
       "    <tr>\n",
       "      <th>8</th>\n",
       "      <td>0</td>\n",
       "      <td>0</td>\n",
       "      <td>0</td>\n",
       "      <td>8</td>\n",
       "      <td>2.225074e-308</td>\n",
       "      <td>-708.396419</td>\n",
       "    </tr>\n",
       "    <tr>\n",
       "      <th>9</th>\n",
       "      <td>0</td>\n",
       "      <td>0</td>\n",
       "      <td>0</td>\n",
       "      <td>9</td>\n",
       "      <td>2.225074e-308</td>\n",
       "      <td>-708.396419</td>\n",
       "    </tr>\n",
       "  </tbody>\n",
       "</table>\n",
       "</div>"
      ],
      "text/plain": [
       "   DelayedDepartureSFO  NAS_DELAY  CRS_ARR_TIME  TAXI_IN           prob  \\\n",
       "0                    0          0             0        0   9.418605e-01   \n",
       "1                    0          0             0        1   5.232558e-02   \n",
       "2                    0          0             0        2   5.813953e-03   \n",
       "3                    0          0             0        3  2.225074e-308   \n",
       "4                    0          0             0        4  2.225074e-308   \n",
       "5                    0          0             0        5  2.225074e-308   \n",
       "6                    0          0             0        6  2.225074e-308   \n",
       "7                    0          0             0        7  2.225074e-308   \n",
       "8                    0          0             0        8  2.225074e-308   \n",
       "9                    0          0             0        9  2.225074e-308   \n",
       "\n",
       "        log_p  \n",
       "0   -0.059898  \n",
       "1   -2.950270  \n",
       "2   -5.147494  \n",
       "3 -708.396419  \n",
       "4 -708.396419  \n",
       "5 -708.396419  \n",
       "6 -708.396419  \n",
       "7 -708.396419  \n",
       "8 -708.396419  \n",
       "9 -708.396419  "
      ]
     },
     "execution_count": 19,
     "metadata": {},
     "output_type": "execute_result"
    }
   ],
   "source": [
    "taxi_in_df = cpt.nonparentless_CPT('TAXI_IN')\n",
    "taxi_in_df.head(10)"
   ]
  },
  {
   "cell_type": "markdown",
   "metadata": {},
   "source": [
    "## 11. Weather Delay"
   ]
  },
  {
   "cell_type": "code",
   "execution_count": 20,
   "metadata": {},
   "outputs": [
    {
     "data": {
      "text/html": [
       "<div>\n",
       "<table border=\"1\" class=\"dataframe\">\n",
       "  <thead>\n",
       "    <tr style=\"text-align: right;\">\n",
       "      <th></th>\n",
       "      <th>NAS_DELAY</th>\n",
       "      <th>WEATHER_DELAY</th>\n",
       "      <th>prob</th>\n",
       "      <th>log_p</th>\n",
       "    </tr>\n",
       "  </thead>\n",
       "  <tbody>\n",
       "    <tr>\n",
       "      <th>0</th>\n",
       "      <td>0</td>\n",
       "      <td>0</td>\n",
       "      <td>0.997942</td>\n",
       "      <td>-0.002060</td>\n",
       "    </tr>\n",
       "    <tr>\n",
       "      <th>1</th>\n",
       "      <td>0</td>\n",
       "      <td>1</td>\n",
       "      <td>0.002058</td>\n",
       "      <td>-6.186209</td>\n",
       "    </tr>\n",
       "    <tr>\n",
       "      <th>2</th>\n",
       "      <td>1</td>\n",
       "      <td>0</td>\n",
       "      <td>0.989583</td>\n",
       "      <td>-0.010471</td>\n",
       "    </tr>\n",
       "    <tr>\n",
       "      <th>3</th>\n",
       "      <td>1</td>\n",
       "      <td>1</td>\n",
       "      <td>0.010417</td>\n",
       "      <td>-4.564348</td>\n",
       "    </tr>\n",
       "  </tbody>\n",
       "</table>\n",
       "</div>"
      ],
      "text/plain": [
       "   NAS_DELAY  WEATHER_DELAY      prob     log_p\n",
       "0          0              0  0.997942 -0.002060\n",
       "1          0              1  0.002058 -6.186209\n",
       "2          1              0  0.989583 -0.010471\n",
       "3          1              1  0.010417 -4.564348"
      ]
     },
     "execution_count": 20,
     "metadata": {},
     "output_type": "execute_result"
    }
   ],
   "source": [
    "weather_delay_df = cpt.nonparentless_CPT('WEATHER_DELAY')\n",
    "weather_delay_df.head(10)"
   ]
  },
  {
   "cell_type": "markdown",
   "metadata": {},
   "source": [
    "# Depth 7"
   ]
  },
  {
   "cell_type": "code",
   "execution_count": 21,
   "metadata": {},
   "outputs": [
    {
     "data": {
      "text/plain": [
       "['CARRIER_DELAY']"
      ]
     },
     "execution_count": 21,
     "metadata": {},
     "output_type": "execute_result"
    }
   ],
   "source": [
    "cpt.available_nodes()"
   ]
  },
  {
   "cell_type": "markdown",
   "metadata": {},
   "source": [
    "## 12. Carrier Delay"
   ]
  },
  {
   "cell_type": "code",
   "execution_count": 22,
   "metadata": {},
   "outputs": [
    {
     "name": "stdout",
     "output_type": "stream",
     "text": [
      "Note: There are 11 rows in the above table, but we should have 16 , which means that 5 row(s) missing values have been replaced with to occur with probability 2.2250738585072014e-308 .\n"
     ]
    },
    {
     "data": {
      "text/html": [
       "<div>\n",
       "<table border=\"1\" class=\"dataframe\">\n",
       "  <thead>\n",
       "    <tr style=\"text-align: right;\">\n",
       "      <th></th>\n",
       "      <th>CRS_DEP_TIME</th>\n",
       "      <th>CRS_ARR_TIME</th>\n",
       "      <th>WEATHER_DELAY</th>\n",
       "      <th>CARRIER_DELAY</th>\n",
       "      <th>prob</th>\n",
       "      <th>log_p</th>\n",
       "    </tr>\n",
       "  </thead>\n",
       "  <tbody>\n",
       "    <tr>\n",
       "      <th>0</th>\n",
       "      <td>0</td>\n",
       "      <td>0</td>\n",
       "      <td>0</td>\n",
       "      <td>0</td>\n",
       "      <td>9.411765e-01</td>\n",
       "      <td>-0.060625</td>\n",
       "    </tr>\n",
       "    <tr>\n",
       "      <th>1</th>\n",
       "      <td>0</td>\n",
       "      <td>0</td>\n",
       "      <td>0</td>\n",
       "      <td>1</td>\n",
       "      <td>5.882353e-02</td>\n",
       "      <td>-2.833213</td>\n",
       "    </tr>\n",
       "    <tr>\n",
       "      <th>2</th>\n",
       "      <td>0</td>\n",
       "      <td>0</td>\n",
       "      <td>1</td>\n",
       "      <td>0</td>\n",
       "      <td>2.225074e-308</td>\n",
       "      <td>-708.396419</td>\n",
       "    </tr>\n",
       "    <tr>\n",
       "      <th>3</th>\n",
       "      <td>0</td>\n",
       "      <td>0</td>\n",
       "      <td>1</td>\n",
       "      <td>1</td>\n",
       "      <td>2.225074e-308</td>\n",
       "      <td>-708.396419</td>\n",
       "    </tr>\n",
       "    <tr>\n",
       "      <th>4</th>\n",
       "      <td>1</td>\n",
       "      <td>0</td>\n",
       "      <td>0</td>\n",
       "      <td>0</td>\n",
       "      <td>7.116788e-01</td>\n",
       "      <td>-0.340129</td>\n",
       "    </tr>\n",
       "    <tr>\n",
       "      <th>5</th>\n",
       "      <td>1</td>\n",
       "      <td>0</td>\n",
       "      <td>0</td>\n",
       "      <td>1</td>\n",
       "      <td>2.883212e-01</td>\n",
       "      <td>-1.243680</td>\n",
       "    </tr>\n",
       "    <tr>\n",
       "      <th>6</th>\n",
       "      <td>1</td>\n",
       "      <td>0</td>\n",
       "      <td>1</td>\n",
       "      <td>0</td>\n",
       "      <td>1.000000e+00</td>\n",
       "      <td>0.000000</td>\n",
       "    </tr>\n",
       "    <tr>\n",
       "      <th>7</th>\n",
       "      <td>1</td>\n",
       "      <td>0</td>\n",
       "      <td>1</td>\n",
       "      <td>1</td>\n",
       "      <td>2.225074e-308</td>\n",
       "      <td>-708.396419</td>\n",
       "    </tr>\n",
       "    <tr>\n",
       "      <th>8</th>\n",
       "      <td>0</td>\n",
       "      <td>1</td>\n",
       "      <td>0</td>\n",
       "      <td>0</td>\n",
       "      <td>8.048193e-01</td>\n",
       "      <td>-0.217138</td>\n",
       "    </tr>\n",
       "    <tr>\n",
       "      <th>9</th>\n",
       "      <td>0</td>\n",
       "      <td>1</td>\n",
       "      <td>0</td>\n",
       "      <td>1</td>\n",
       "      <td>1.951807e-01</td>\n",
       "      <td>-1.633829</td>\n",
       "    </tr>\n",
       "  </tbody>\n",
       "</table>\n",
       "</div>"
      ],
      "text/plain": [
       "   CRS_DEP_TIME  CRS_ARR_TIME  WEATHER_DELAY  CARRIER_DELAY           prob  \\\n",
       "0             0             0              0              0   9.411765e-01   \n",
       "1             0             0              0              1   5.882353e-02   \n",
       "2             0             0              1              0  2.225074e-308   \n",
       "3             0             0              1              1  2.225074e-308   \n",
       "4             1             0              0              0   7.116788e-01   \n",
       "5             1             0              0              1   2.883212e-01   \n",
       "6             1             0              1              0   1.000000e+00   \n",
       "7             1             0              1              1  2.225074e-308   \n",
       "8             0             1              0              0   8.048193e-01   \n",
       "9             0             1              0              1   1.951807e-01   \n",
       "\n",
       "        log_p  \n",
       "0   -0.060625  \n",
       "1   -2.833213  \n",
       "2 -708.396419  \n",
       "3 -708.396419  \n",
       "4   -0.340129  \n",
       "5   -1.243680  \n",
       "6    0.000000  \n",
       "7 -708.396419  \n",
       "8   -0.217138  \n",
       "9   -1.633829  "
      ]
     },
     "execution_count": 22,
     "metadata": {},
     "output_type": "execute_result"
    }
   ],
   "source": [
    "carrier_delay_df = cpt.nonparentless_CPT('CARRIER_DELAY')\n",
    "carrier_delay_df.head(10)"
   ]
  },
  {
   "cell_type": "markdown",
   "metadata": {},
   "source": [
    "# Depth 8"
   ]
  },
  {
   "cell_type": "code",
   "execution_count": 23,
   "metadata": {},
   "outputs": [
    {
     "data": {
      "text/plain": [
       "['ARR_DEL15', 'DEP_DELAY']"
      ]
     },
     "execution_count": 23,
     "metadata": {},
     "output_type": "execute_result"
    }
   ],
   "source": [
    "cpt.available_nodes()"
   ]
  },
  {
   "cell_type": "markdown",
   "metadata": {},
   "source": [
    "## 13. Departure Delay"
   ]
  },
  {
   "cell_type": "code",
   "execution_count": 24,
   "metadata": {},
   "outputs": [
    {
     "name": "stdout",
     "output_type": "stream",
     "text": [
      "Note: There are 460 rows in the above table, but we should have 2016 , which means that 1556 row(s) missing values have been replaced with to occur with probability 2.2250738585072014e-308 .\n"
     ]
    },
    {
     "data": {
      "text/html": [
       "<div>\n",
       "<table border=\"1\" class=\"dataframe\">\n",
       "  <thead>\n",
       "    <tr style=\"text-align: right;\">\n",
       "      <th></th>\n",
       "      <th>LATE_AIRCRAFT_DELAY</th>\n",
       "      <th>CRS_ARR_TIME</th>\n",
       "      <th>DAY_OF_WEEK</th>\n",
       "      <th>MONTH</th>\n",
       "      <th>CARRIER_DELAY</th>\n",
       "      <th>DEP_DELAY</th>\n",
       "      <th>prob</th>\n",
       "      <th>log_p</th>\n",
       "    </tr>\n",
       "  </thead>\n",
       "  <tbody>\n",
       "    <tr>\n",
       "      <th>0</th>\n",
       "      <td>0</td>\n",
       "      <td>0</td>\n",
       "      <td>1</td>\n",
       "      <td>1</td>\n",
       "      <td>0</td>\n",
       "      <td>0</td>\n",
       "      <td>5.000000e-01</td>\n",
       "      <td>-0.693147</td>\n",
       "    </tr>\n",
       "    <tr>\n",
       "      <th>1</th>\n",
       "      <td>0</td>\n",
       "      <td>0</td>\n",
       "      <td>1</td>\n",
       "      <td>1</td>\n",
       "      <td>0</td>\n",
       "      <td>1</td>\n",
       "      <td>2.225074e-308</td>\n",
       "      <td>-708.396419</td>\n",
       "    </tr>\n",
       "    <tr>\n",
       "      <th>2</th>\n",
       "      <td>0</td>\n",
       "      <td>0</td>\n",
       "      <td>1</td>\n",
       "      <td>1</td>\n",
       "      <td>0</td>\n",
       "      <td>-1</td>\n",
       "      <td>5.000000e-01</td>\n",
       "      <td>-0.693147</td>\n",
       "    </tr>\n",
       "    <tr>\n",
       "      <th>3</th>\n",
       "      <td>0</td>\n",
       "      <td>0</td>\n",
       "      <td>1</td>\n",
       "      <td>1</td>\n",
       "      <td>1</td>\n",
       "      <td>0</td>\n",
       "      <td>2.225074e-308</td>\n",
       "      <td>-708.396419</td>\n",
       "    </tr>\n",
       "    <tr>\n",
       "      <th>4</th>\n",
       "      <td>0</td>\n",
       "      <td>0</td>\n",
       "      <td>1</td>\n",
       "      <td>1</td>\n",
       "      <td>1</td>\n",
       "      <td>1</td>\n",
       "      <td>2.225074e-308</td>\n",
       "      <td>-708.396419</td>\n",
       "    </tr>\n",
       "    <tr>\n",
       "      <th>5</th>\n",
       "      <td>0</td>\n",
       "      <td>0</td>\n",
       "      <td>1</td>\n",
       "      <td>1</td>\n",
       "      <td>1</td>\n",
       "      <td>-1</td>\n",
       "      <td>2.225074e-308</td>\n",
       "      <td>-708.396419</td>\n",
       "    </tr>\n",
       "    <tr>\n",
       "      <th>6</th>\n",
       "      <td>0</td>\n",
       "      <td>0</td>\n",
       "      <td>1</td>\n",
       "      <td>2</td>\n",
       "      <td>0</td>\n",
       "      <td>0</td>\n",
       "      <td>2.225074e-308</td>\n",
       "      <td>-708.396419</td>\n",
       "    </tr>\n",
       "    <tr>\n",
       "      <th>7</th>\n",
       "      <td>0</td>\n",
       "      <td>0</td>\n",
       "      <td>1</td>\n",
       "      <td>2</td>\n",
       "      <td>0</td>\n",
       "      <td>1</td>\n",
       "      <td>1.000000e+00</td>\n",
       "      <td>0.000000</td>\n",
       "    </tr>\n",
       "    <tr>\n",
       "      <th>8</th>\n",
       "      <td>0</td>\n",
       "      <td>0</td>\n",
       "      <td>1</td>\n",
       "      <td>2</td>\n",
       "      <td>0</td>\n",
       "      <td>-1</td>\n",
       "      <td>2.225074e-308</td>\n",
       "      <td>-708.396419</td>\n",
       "    </tr>\n",
       "    <tr>\n",
       "      <th>9</th>\n",
       "      <td>0</td>\n",
       "      <td>0</td>\n",
       "      <td>1</td>\n",
       "      <td>2</td>\n",
       "      <td>1</td>\n",
       "      <td>0</td>\n",
       "      <td>2.225074e-308</td>\n",
       "      <td>-708.396419</td>\n",
       "    </tr>\n",
       "  </tbody>\n",
       "</table>\n",
       "</div>"
      ],
      "text/plain": [
       "   LATE_AIRCRAFT_DELAY  CRS_ARR_TIME  DAY_OF_WEEK  MONTH  CARRIER_DELAY  \\\n",
       "0                    0             0            1      1              0   \n",
       "1                    0             0            1      1              0   \n",
       "2                    0             0            1      1              0   \n",
       "3                    0             0            1      1              1   \n",
       "4                    0             0            1      1              1   \n",
       "5                    0             0            1      1              1   \n",
       "6                    0             0            1      2              0   \n",
       "7                    0             0            1      2              0   \n",
       "8                    0             0            1      2              0   \n",
       "9                    0             0            1      2              1   \n",
       "\n",
       "   DEP_DELAY           prob       log_p  \n",
       "0          0   5.000000e-01   -0.693147  \n",
       "1          1  2.225074e-308 -708.396419  \n",
       "2         -1   5.000000e-01   -0.693147  \n",
       "3          0  2.225074e-308 -708.396419  \n",
       "4          1  2.225074e-308 -708.396419  \n",
       "5         -1  2.225074e-308 -708.396419  \n",
       "6          0  2.225074e-308 -708.396419  \n",
       "7          1   1.000000e+00    0.000000  \n",
       "8         -1  2.225074e-308 -708.396419  \n",
       "9          0  2.225074e-308 -708.396419  "
      ]
     },
     "execution_count": 24,
     "metadata": {},
     "output_type": "execute_result"
    }
   ],
   "source": [
    "dep_delay_df = cpt.nonparentless_CPT('DEP_DELAY')\n",
    "dep_delay_df.head(10)"
   ]
  },
  {
   "cell_type": "markdown",
   "metadata": {},
   "source": [
    "## 14. Arrival Delay"
   ]
  },
  {
   "cell_type": "code",
   "execution_count": 25,
   "metadata": {},
   "outputs": [
    {
     "name": "stdout",
     "output_type": "stream",
     "text": [
      "Note: There are 114 rows in the above table, but we should have 640 , which means that 526 row(s) missing values have been replaced with to occur with probability 2.2250738585072014e-308 .\n"
     ]
    },
    {
     "data": {
      "text/html": [
       "<div>\n",
       "<table border=\"1\" class=\"dataframe\">\n",
       "  <thead>\n",
       "    <tr style=\"text-align: right;\">\n",
       "      <th></th>\n",
       "      <th>NAS_DELAY</th>\n",
       "      <th>LATE_AIRCRAFT_DELAY</th>\n",
       "      <th>CRS_DEP_TIME</th>\n",
       "      <th>ScheduledDepartureSFO</th>\n",
       "      <th>DelayedDepartureSFO</th>\n",
       "      <th>CRS_ARR_TIME</th>\n",
       "      <th>CARRIER_DELAY</th>\n",
       "      <th>ARR_DEL15</th>\n",
       "      <th>prob</th>\n",
       "      <th>log_p</th>\n",
       "    </tr>\n",
       "  </thead>\n",
       "  <tbody>\n",
       "    <tr>\n",
       "      <th>0</th>\n",
       "      <td>0</td>\n",
       "      <td>0</td>\n",
       "      <td>0</td>\n",
       "      <td>0</td>\n",
       "      <td>0</td>\n",
       "      <td>0</td>\n",
       "      <td>0</td>\n",
       "      <td>0</td>\n",
       "      <td>1.000000e+00</td>\n",
       "      <td>0.000000</td>\n",
       "    </tr>\n",
       "    <tr>\n",
       "      <th>1</th>\n",
       "      <td>0</td>\n",
       "      <td>0</td>\n",
       "      <td>0</td>\n",
       "      <td>0</td>\n",
       "      <td>0</td>\n",
       "      <td>0</td>\n",
       "      <td>0</td>\n",
       "      <td>1</td>\n",
       "      <td>2.225074e-308</td>\n",
       "      <td>-708.396419</td>\n",
       "    </tr>\n",
       "    <tr>\n",
       "      <th>2</th>\n",
       "      <td>0</td>\n",
       "      <td>0</td>\n",
       "      <td>0</td>\n",
       "      <td>0</td>\n",
       "      <td>0</td>\n",
       "      <td>0</td>\n",
       "      <td>1</td>\n",
       "      <td>0</td>\n",
       "      <td>2.225074e-308</td>\n",
       "      <td>-708.396419</td>\n",
       "    </tr>\n",
       "    <tr>\n",
       "      <th>3</th>\n",
       "      <td>0</td>\n",
       "      <td>0</td>\n",
       "      <td>0</td>\n",
       "      <td>0</td>\n",
       "      <td>0</td>\n",
       "      <td>0</td>\n",
       "      <td>1</td>\n",
       "      <td>1</td>\n",
       "      <td>2.225074e-308</td>\n",
       "      <td>-708.396419</td>\n",
       "    </tr>\n",
       "    <tr>\n",
       "      <th>4</th>\n",
       "      <td>0</td>\n",
       "      <td>0</td>\n",
       "      <td>0</td>\n",
       "      <td>0</td>\n",
       "      <td>0</td>\n",
       "      <td>1</td>\n",
       "      <td>0</td>\n",
       "      <td>0</td>\n",
       "      <td>1.000000e+00</td>\n",
       "      <td>0.000000</td>\n",
       "    </tr>\n",
       "    <tr>\n",
       "      <th>5</th>\n",
       "      <td>0</td>\n",
       "      <td>0</td>\n",
       "      <td>0</td>\n",
       "      <td>0</td>\n",
       "      <td>0</td>\n",
       "      <td>1</td>\n",
       "      <td>0</td>\n",
       "      <td>1</td>\n",
       "      <td>2.225074e-308</td>\n",
       "      <td>-708.396419</td>\n",
       "    </tr>\n",
       "    <tr>\n",
       "      <th>6</th>\n",
       "      <td>0</td>\n",
       "      <td>0</td>\n",
       "      <td>0</td>\n",
       "      <td>0</td>\n",
       "      <td>0</td>\n",
       "      <td>1</td>\n",
       "      <td>1</td>\n",
       "      <td>0</td>\n",
       "      <td>2.225074e-308</td>\n",
       "      <td>-708.396419</td>\n",
       "    </tr>\n",
       "    <tr>\n",
       "      <th>7</th>\n",
       "      <td>0</td>\n",
       "      <td>0</td>\n",
       "      <td>0</td>\n",
       "      <td>0</td>\n",
       "      <td>0</td>\n",
       "      <td>1</td>\n",
       "      <td>1</td>\n",
       "      <td>1</td>\n",
       "      <td>1.000000e+00</td>\n",
       "      <td>0.000000</td>\n",
       "    </tr>\n",
       "    <tr>\n",
       "      <th>8</th>\n",
       "      <td>0</td>\n",
       "      <td>0</td>\n",
       "      <td>0</td>\n",
       "      <td>0</td>\n",
       "      <td>1</td>\n",
       "      <td>0</td>\n",
       "      <td>0</td>\n",
       "      <td>0</td>\n",
       "      <td>2.225074e-308</td>\n",
       "      <td>-708.396419</td>\n",
       "    </tr>\n",
       "    <tr>\n",
       "      <th>9</th>\n",
       "      <td>0</td>\n",
       "      <td>0</td>\n",
       "      <td>0</td>\n",
       "      <td>0</td>\n",
       "      <td>1</td>\n",
       "      <td>0</td>\n",
       "      <td>0</td>\n",
       "      <td>1</td>\n",
       "      <td>2.225074e-308</td>\n",
       "      <td>-708.396419</td>\n",
       "    </tr>\n",
       "  </tbody>\n",
       "</table>\n",
       "</div>"
      ],
      "text/plain": [
       "   NAS_DELAY  LATE_AIRCRAFT_DELAY  CRS_DEP_TIME  ScheduledDepartureSFO  \\\n",
       "0          0                    0             0                      0   \n",
       "1          0                    0             0                      0   \n",
       "2          0                    0             0                      0   \n",
       "3          0                    0             0                      0   \n",
       "4          0                    0             0                      0   \n",
       "5          0                    0             0                      0   \n",
       "6          0                    0             0                      0   \n",
       "7          0                    0             0                      0   \n",
       "8          0                    0             0                      0   \n",
       "9          0                    0             0                      0   \n",
       "\n",
       "   DelayedDepartureSFO  CRS_ARR_TIME  CARRIER_DELAY  ARR_DEL15           prob  \\\n",
       "0                    0             0              0          0   1.000000e+00   \n",
       "1                    0             0              0          1  2.225074e-308   \n",
       "2                    0             0              1          0  2.225074e-308   \n",
       "3                    0             0              1          1  2.225074e-308   \n",
       "4                    0             1              0          0   1.000000e+00   \n",
       "5                    0             1              0          1  2.225074e-308   \n",
       "6                    0             1              1          0  2.225074e-308   \n",
       "7                    0             1              1          1   1.000000e+00   \n",
       "8                    1             0              0          0  2.225074e-308   \n",
       "9                    1             0              0          1  2.225074e-308   \n",
       "\n",
       "        log_p  \n",
       "0    0.000000  \n",
       "1 -708.396419  \n",
       "2 -708.396419  \n",
       "3 -708.396419  \n",
       "4    0.000000  \n",
       "5 -708.396419  \n",
       "6 -708.396419  \n",
       "7    0.000000  \n",
       "8 -708.396419  \n",
       "9 -708.396419  "
      ]
     },
     "execution_count": 25,
     "metadata": {},
     "output_type": "execute_result"
    }
   ],
   "source": [
    "arr_del15_df = cpt.nonparentless_CPT('ARR_DEL15')\n",
    "arr_del15_df.head(10)"
   ]
  },
  {
   "cell_type": "markdown",
   "metadata": {},
   "source": [
    "# Testing Some Values"
   ]
  },
  {
   "cell_type": "code",
   "execution_count": 26,
   "metadata": {},
   "outputs": [],
   "source": [
    "def find_logp(obs, df):\n",
    "    on_li = df.columns.tolist()[:-2]\n",
    "    return pd.merge(df, obs, on=on_li, how='inner').iloc[0].log_p\n",
    "\n",
    "def compute_probability(obs):\n",
    "    dfs = [month_df, day_of_week_df, arr_time_df, scheduled_PHL_df, departure_time_df, scheduled_SFO_df, \\\n",
    "          delayed_SFO_df, late_aircraft_delay_df, nas_delay_df, taxi_in_df, weather_delay_df, carrier_delay_df, \\\n",
    "          dep_delay_df,arr_del15_df]\n",
    "    vals = [find_logp(obs, df) for df in dfs]\n",
    "    return np.exp(sum(vals))"
   ]
  },
  {
   "cell_type": "code",
   "execution_count": 27,
   "metadata": {},
   "outputs": [],
   "source": [
    "test_df = pd.read_csv('./test_data.csv')\n",
    "y_test = pd.DataFrame(test_df.ARR_DEL15.astype('int', copy=False)).astype(int)\n",
    "y_test['probability'] = [compute_probability(pd.DataFrame(test_df.iloc[i].transpose()).transpose()) \\\n",
    "                         for i in range(test_df.shape[0])]"
   ]
  },
  {
   "cell_type": "code",
   "execution_count": 28,
   "metadata": {},
   "outputs": [
    {
     "data": {
      "image/png": "[encoded data removed]",
      "text/plain": [
       "<Figure size 432x288 with 1 Axes>"
      ]
     },
     "metadata": {},
     "output_type": "display_data"
    }
   ],
   "source": [
    "plt.hist(y_test.probability)\n",
    "plt.xlabel('probability')\n",
    "plt.ylabel('frequency')\n",
    "plt.title('Test Label Probability of Occurrence')\n",
    "plt.savefig('probability_histogram.png')\n",
    "plt.show()"
   ]
  },
  {
   "cell_type": "code",
   "execution_count": 29,
   "metadata": {},
   "outputs": [],
   "source": [
    "y_test0 = y_test[y_test.ARR_DEL15 == 0]\n",
    "y_test1 = y_test[y_test.ARR_DEL15 == 1]"
   ]
  },
  {
   "cell_type": "code",
   "execution_count": 30,
   "metadata": {},
   "outputs": [
    {
     "data": {
      "image/png": "[encoded data removed]",
      "text/plain": [
       "<Figure size 432x288 with 1 Axes>"
      ]
     },
     "metadata": {},
     "output_type": "display_data"
    }
   ],
   "source": [
    "plt.hist(y_test0.probability)\n",
    "plt.xlabel('probability')\n",
    "plt.ylabel('frequency')\n",
    "plt.title('Test Label 0 (No Delay) :  Probability of Occurrence')\n",
    "plt.savefig('label0_probability.png')\n",
    "plt.show()"
   ]
  },
  {
   "cell_type": "code",
   "execution_count": 31,
   "metadata": {},
   "outputs": [
    {
     "data": {
      "image/png": "[encoded data removed]",
      "text/plain": [
       "<Figure size 432x288 with 1 Axes>"
      ]
     },
     "metadata": {},
     "output_type": "display_data"
    }
   ],
   "source": [
    "plt.hist(y_test1.probability)\n",
    "plt.xlabel('probability')\n",
    "plt.ylabel('frequency')\n",
    "plt.title('Test Label 1 (Delay) :  Probability of Occurrence')\n",
    "plt.savefig('label1_probability.png')\n",
    "plt.show()"
   ]
  },
  {
   "cell_type": "code",
   "execution_count": 32,
   "metadata": {},
   "outputs": [
    {
     "data": {
      "text/plain": [
       "count     9.200000e+01\n",
       "mean      3.953393e-04\n",
       "std       5.369724e-04\n",
       "min       0.000000e+00\n",
       "25%      1.592654e-311\n",
       "50%       1.350086e-04\n",
       "75%       6.336540e-04\n",
       "max       2.383024e-03\n",
       "Name: probability, dtype: float64"
      ]
     },
     "execution_count": 32,
     "metadata": {},
     "output_type": "execute_result"
    }
   ],
   "source": [
    "y_test0.probability.describe()"
   ]
  },
  {
   "cell_type": "code",
   "execution_count": 33,
   "metadata": {},
   "outputs": [
    {
     "data": {
      "text/plain": [
       "count     1.020000e+02\n",
       "mean      1.151955e-04\n",
       "std       1.916807e-04\n",
       "min       0.000000e+00\n",
       "25%      1.062539e-312\n",
       "50%       2.522886e-07\n",
       "75%       1.703659e-04\n",
       "max       8.895899e-04\n",
       "Name: probability, dtype: float64"
      ]
     },
     "execution_count": 33,
     "metadata": {},
     "output_type": "execute_result"
    }
   ],
   "source": [
    "y_test1.probability.describe()"
   ]
  },
  {
   "cell_type": "code",
   "execution_count": null,
   "metadata": {},
   "outputs": [],
   "source": []
  }
 ],
 "metadata": {
  "kernelspec": {
   "display_name": "Python 3",
   "language": "python",
   "name": "python3"
  },
  "language_info": {
   "codemirror_mode": {
    "name": "ipython",
    "version": 3
   },
   "file_extension": ".py",
   "mimetype": "text/x-python",
   "name": "python",
   "nbconvert_exporter": "python",
   "pygments_lexer": "ipython3",
   "version": "3.6.3"
  }
 },
 "nbformat": 4,
 "nbformat_minor": 2
}
