{
 "cells": [
  {
   "cell_type": "code",
   "execution_count": 1,
   "metadata": {},
   "outputs": [],
   "source": [
    "import pandas as pd\n",
    "import numpy as np\n",
    "import matplotlib.pyplot as plt\n",
    "\n",
    "# helper functions\n",
    "import cpt_calculator as cpt"
   ]
  },
  {
   "cell_type": "markdown",
   "metadata": {},
   "source": [
    "To compute the conditional probability tables, we will obesrve each node in a BFS-like fashion, starting with nodes that do not have parents and then working our way through nodes whose parents we have already observed."
   ]
  },
  {
   "cell_type": "markdown",
   "metadata": {},
   "source": [
    "# Depth 0 Nodes Without Parents"
   ]
  },
  {
   "cell_type": "code",
   "execution_count": 2,
   "metadata": {},
   "outputs": [
    {
     "name": "stdout",
     "output_type": "stream",
     "text": [
      "These are the list of parentless nodes : ['DAY_OF_WEEK', 'MONTH'] . We start by defining a function to reduce redundancy.\n"
     ]
    }
   ],
   "source": [
    "print(\"These are the list of parentless nodes :\", cpt.get_parentless_nodes(),\". We start by defining a function to reduce redundancy.\")"
   ]
  },
  {
   "cell_type": "markdown",
   "metadata": {},
   "source": [
    "## 1. Month"
   ]
  },
  {
   "cell_type": "code",
   "execution_count": 3,
   "metadata": {},
   "outputs": [
    {
     "data": {
      "text/html": [
       "<div>\n",
       "<table border=\"1\" class=\"dataframe\">\n",
       "  <thead>\n",
       "    <tr style=\"text-align: right;\">\n",
       "      <th></th>\n",
       "      <th>MONTH</th>\n",
       "      <th>prob</th>\n",
       "      <th>log_p</th>\n",
       "    </tr>\n",
       "  </thead>\n",
       "  <tbody>\n",
       "    <tr>\n",
       "      <th>0</th>\n",
       "      <td>1</td>\n",
       "      <td>0.064599</td>\n",
       "      <td>-2.739549</td>\n",
       "    </tr>\n",
       "    <tr>\n",
       "      <th>1</th>\n",
       "      <td>2</td>\n",
       "      <td>0.037468</td>\n",
       "      <td>-3.284276</td>\n",
       "    </tr>\n",
       "    <tr>\n",
       "      <th>2</th>\n",
       "      <td>3</td>\n",
       "      <td>0.046512</td>\n",
       "      <td>-3.068053</td>\n",
       "    </tr>\n",
       "    <tr>\n",
       "      <th>3</th>\n",
       "      <td>4</td>\n",
       "      <td>0.063307</td>\n",
       "      <td>-2.759752</td>\n",
       "    </tr>\n",
       "    <tr>\n",
       "      <th>4</th>\n",
       "      <td>5</td>\n",
       "      <td>0.082687</td>\n",
       "      <td>-2.492689</td>\n",
       "    </tr>\n",
       "    <tr>\n",
       "      <th>5</th>\n",
       "      <td>6</td>\n",
       "      <td>0.108527</td>\n",
       "      <td>-2.220755</td>\n",
       "    </tr>\n",
       "    <tr>\n",
       "      <th>6</th>\n",
       "      <td>7</td>\n",
       "      <td>0.127907</td>\n",
       "      <td>-2.056452</td>\n",
       "    </tr>\n",
       "    <tr>\n",
       "      <th>7</th>\n",
       "      <td>8</td>\n",
       "      <td>0.120155</td>\n",
       "      <td>-2.118972</td>\n",
       "    </tr>\n",
       "    <tr>\n",
       "      <th>8</th>\n",
       "      <td>9</td>\n",
       "      <td>0.118863</td>\n",
       "      <td>-2.129783</td>\n",
       "    </tr>\n",
       "    <tr>\n",
       "      <th>9</th>\n",
       "      <td>10</td>\n",
       "      <td>0.093023</td>\n",
       "      <td>-2.374906</td>\n",
       "    </tr>\n",
       "    <tr>\n",
       "      <th>10</th>\n",
       "      <td>11</td>\n",
       "      <td>0.056848</td>\n",
       "      <td>-2.867382</td>\n",
       "    </tr>\n",
       "    <tr>\n",
       "      <th>11</th>\n",
       "      <td>12</td>\n",
       "      <td>0.080103</td>\n",
       "      <td>-2.524437</td>\n",
       "    </tr>\n",
       "  </tbody>\n",
       "</table>\n",
       "</div>"
      ],
      "text/plain": [
       "    MONTH      prob     log_p\n",
       "0       1  0.064599 -2.739549\n",
       "1       2  0.037468 -3.284276\n",
       "2       3  0.046512 -3.068053\n",
       "3       4  0.063307 -2.759752\n",
       "4       5  0.082687 -2.492689\n",
       "5       6  0.108527 -2.220755\n",
       "6       7  0.127907 -2.056452\n",
       "7       8  0.120155 -2.118972\n",
       "8       9  0.118863 -2.129783\n",
       "9      10  0.093023 -2.374906\n",
       "10     11  0.056848 -2.867382\n",
       "11     12  0.080103 -2.524437"
      ]
     },
     "execution_count": 3,
     "metadata": {},
     "output_type": "execute_result"
    }
   ],
   "source": [
    "month_df = cpt.parentless_CPT('MONTH')\n",
    "month_df"
   ]
  },
  {
   "cell_type": "markdown",
   "metadata": {},
   "source": [
    "## 2. Day of Week"
   ]
  },
  {
   "cell_type": "code",
   "execution_count": 4,
   "metadata": {},
   "outputs": [
    {
     "data": {
      "text/html": [
       "<div>\n",
       "<table border=\"1\" class=\"dataframe\">\n",
       "  <thead>\n",
       "    <tr style=\"text-align: right;\">\n",
       "      <th></th>\n",
       "      <th>DAY_OF_WEEK</th>\n",
       "      <th>prob</th>\n",
       "      <th>log_p</th>\n",
       "    </tr>\n",
       "  </thead>\n",
       "  <tbody>\n",
       "    <tr>\n",
       "      <th>0</th>\n",
       "      <td>1</td>\n",
       "      <td>0.153747</td>\n",
       "      <td>-1.872448</td>\n",
       "    </tr>\n",
       "    <tr>\n",
       "      <th>1</th>\n",
       "      <td>2</td>\n",
       "      <td>0.130491</td>\n",
       "      <td>-2.036451</td>\n",
       "    </tr>\n",
       "    <tr>\n",
       "      <th>2</th>\n",
       "      <td>3</td>\n",
       "      <td>0.121447</td>\n",
       "      <td>-2.108277</td>\n",
       "    </tr>\n",
       "    <tr>\n",
       "      <th>3</th>\n",
       "      <td>4</td>\n",
       "      <td>0.178295</td>\n",
       "      <td>-1.724318</td>\n",
       "    </tr>\n",
       "    <tr>\n",
       "      <th>4</th>\n",
       "      <td>5</td>\n",
       "      <td>0.174419</td>\n",
       "      <td>-1.746297</td>\n",
       "    </tr>\n",
       "    <tr>\n",
       "      <th>5</th>\n",
       "      <td>6</td>\n",
       "      <td>0.094315</td>\n",
       "      <td>-2.361112</td>\n",
       "    </tr>\n",
       "    <tr>\n",
       "      <th>6</th>\n",
       "      <td>7</td>\n",
       "      <td>0.147287</td>\n",
       "      <td>-1.915373</td>\n",
       "    </tr>\n",
       "  </tbody>\n",
       "</table>\n",
       "</div>"
      ],
      "text/plain": [
       "   DAY_OF_WEEK      prob     log_p\n",
       "0            1  0.153747 -1.872448\n",
       "1            2  0.130491 -2.036451\n",
       "2            3  0.121447 -2.108277\n",
       "3            4  0.178295 -1.724318\n",
       "4            5  0.174419 -1.746297\n",
       "5            6  0.094315 -2.361112\n",
       "6            7  0.147287 -1.915373"
      ]
     },
     "execution_count": 4,
     "metadata": {},
     "output_type": "execute_result"
    }
   ],
   "source": [
    "day_of_week_df = cpt.parentless_CPT('DAY_OF_WEEK')\n",
    "day_of_week_df"
   ]
  },
  {
   "cell_type": "markdown",
   "metadata": {},
   "source": [
    "# Depth 1: Nodes with Parents"
   ]
  },
  {
   "cell_type": "markdown",
   "metadata": {},
   "source": [
    "First, we find all the nodes whose values we can compute based on those nodes whose conditional probability tables we have already computed."
   ]
  },
  {
   "cell_type": "code",
   "execution_count": 5,
   "metadata": {},
   "outputs": [
    {
     "data": {
      "text/plain": [
       "['CRS_ARR_TIME', 'ScheduledArrivalPHL']"
      ]
     },
     "execution_count": 5,
     "metadata": {},
     "output_type": "execute_result"
    }
   ],
   "source": [
    "cpt.available_nodes()"
   ]
  },
  {
   "cell_type": "markdown",
   "metadata": {},
   "source": [
    "## 3. CRS Arrival Time"
   ]
  },
  {
   "cell_type": "code",
   "execution_count": 6,
   "metadata": {},
   "outputs": [
    {
     "name": "stdout",
     "output_type": "stream",
     "text": [
      "Note: There are 158 rows in the above table, but we should have 168 , which means that 10 row(s) missing values have been replaced with to occur with probability 2.2250738585072014e-308 .\n"
     ]
    },
    {
     "data": {
      "text/html": [
       "<div>\n",
       "<table border=\"1\" class=\"dataframe\">\n",
       "  <thead>\n",
       "    <tr style=\"text-align: right;\">\n",
       "      <th></th>\n",
       "      <th>DAY_OF_WEEK</th>\n",
       "      <th>MONTH</th>\n",
       "      <th>CRS_ARR_TIME</th>\n",
       "      <th>prob</th>\n",
       "      <th>log_p</th>\n",
       "    </tr>\n",
       "  </thead>\n",
       "  <tbody>\n",
       "    <tr>\n",
       "      <th>0</th>\n",
       "      <td>1</td>\n",
       "      <td>1</td>\n",
       "      <td>0</td>\n",
       "      <td>0.125000</td>\n",
       "      <td>-2.079442</td>\n",
       "    </tr>\n",
       "    <tr>\n",
       "      <th>1</th>\n",
       "      <td>1</td>\n",
       "      <td>1</td>\n",
       "      <td>1</td>\n",
       "      <td>0.875000</td>\n",
       "      <td>-0.133531</td>\n",
       "    </tr>\n",
       "    <tr>\n",
       "      <th>2</th>\n",
       "      <td>2</td>\n",
       "      <td>1</td>\n",
       "      <td>0</td>\n",
       "      <td>0.500000</td>\n",
       "      <td>-0.693147</td>\n",
       "    </tr>\n",
       "    <tr>\n",
       "      <th>3</th>\n",
       "      <td>2</td>\n",
       "      <td>1</td>\n",
       "      <td>1</td>\n",
       "      <td>0.500000</td>\n",
       "      <td>-0.693147</td>\n",
       "    </tr>\n",
       "    <tr>\n",
       "      <th>4</th>\n",
       "      <td>3</td>\n",
       "      <td>1</td>\n",
       "      <td>0</td>\n",
       "      <td>0.142857</td>\n",
       "      <td>-1.945910</td>\n",
       "    </tr>\n",
       "    <tr>\n",
       "      <th>5</th>\n",
       "      <td>3</td>\n",
       "      <td>1</td>\n",
       "      <td>1</td>\n",
       "      <td>0.857143</td>\n",
       "      <td>-0.154151</td>\n",
       "    </tr>\n",
       "    <tr>\n",
       "      <th>6</th>\n",
       "      <td>4</td>\n",
       "      <td>1</td>\n",
       "      <td>0</td>\n",
       "      <td>0.545455</td>\n",
       "      <td>-0.606136</td>\n",
       "    </tr>\n",
       "    <tr>\n",
       "      <th>7</th>\n",
       "      <td>4</td>\n",
       "      <td>1</td>\n",
       "      <td>1</td>\n",
       "      <td>0.454545</td>\n",
       "      <td>-0.788457</td>\n",
       "    </tr>\n",
       "    <tr>\n",
       "      <th>8</th>\n",
       "      <td>5</td>\n",
       "      <td>1</td>\n",
       "      <td>0</td>\n",
       "      <td>0.428571</td>\n",
       "      <td>-0.847298</td>\n",
       "    </tr>\n",
       "    <tr>\n",
       "      <th>9</th>\n",
       "      <td>5</td>\n",
       "      <td>1</td>\n",
       "      <td>1</td>\n",
       "      <td>0.571429</td>\n",
       "      <td>-0.559616</td>\n",
       "    </tr>\n",
       "  </tbody>\n",
       "</table>\n",
       "</div>"
      ],
      "text/plain": [
       "   DAY_OF_WEEK  MONTH  CRS_ARR_TIME      prob     log_p\n",
       "0            1      1             0  0.125000 -2.079442\n",
       "1            1      1             1  0.875000 -0.133531\n",
       "2            2      1             0  0.500000 -0.693147\n",
       "3            2      1             1  0.500000 -0.693147\n",
       "4            3      1             0  0.142857 -1.945910\n",
       "5            3      1             1  0.857143 -0.154151\n",
       "6            4      1             0  0.545455 -0.606136\n",
       "7            4      1             1  0.454545 -0.788457\n",
       "8            5      1             0  0.428571 -0.847298\n",
       "9            5      1             1  0.571429 -0.559616"
      ]
     },
     "execution_count": 6,
     "metadata": {},
     "output_type": "execute_result"
    }
   ],
   "source": [
    "arr_time_df = cpt.nonparentless_CPT('CRS_ARR_TIME')\n",
    "arr_time_df.head(10)"
   ]
  },
  {
   "cell_type": "markdown",
   "metadata": {},
   "source": [
    "## 4. ScheduledArrivalPHL"
   ]
  },
  {
   "cell_type": "markdown",
   "metadata": {},
   "source": [
    "0 represents less than 10, 1 represents less than 20, 2 represents less than 30, 3 represents less than 40, 4 represents less than 50."
   ]
  },
  {
   "cell_type": "code",
   "execution_count": 7,
   "metadata": {},
   "outputs": [
    {
     "name": "stdout",
     "output_type": "stream",
     "text": [
      "Note: There are 32 rows in the above table, but we should have 35 , which means that 3 row(s) missing values have been replaced with to occur with probability 2.2250738585072014e-308 .\n"
     ]
    },
    {
     "data": {
      "text/html": [
       "<div>\n",
       "<table border=\"1\" class=\"dataframe\">\n",
       "  <thead>\n",
       "    <tr style=\"text-align: right;\">\n",
       "      <th></th>\n",
       "      <th>DAY_OF_WEEK</th>\n",
       "      <th>ScheduledArrivalPHL</th>\n",
       "      <th>prob</th>\n",
       "      <th>log_p</th>\n",
       "    </tr>\n",
       "  </thead>\n",
       "  <tbody>\n",
       "    <tr>\n",
       "      <th>0</th>\n",
       "      <td>1</td>\n",
       "      <td>0</td>\n",
       "      <td>0.655462</td>\n",
       "      <td>-0.422415</td>\n",
       "    </tr>\n",
       "    <tr>\n",
       "      <th>1</th>\n",
       "      <td>2</td>\n",
       "      <td>0</td>\n",
       "      <td>0.663366</td>\n",
       "      <td>-0.410428</td>\n",
       "    </tr>\n",
       "    <tr>\n",
       "      <th>2</th>\n",
       "      <td>3</td>\n",
       "      <td>0</td>\n",
       "      <td>0.702128</td>\n",
       "      <td>-0.353640</td>\n",
       "    </tr>\n",
       "    <tr>\n",
       "      <th>3</th>\n",
       "      <td>4</td>\n",
       "      <td>0</td>\n",
       "      <td>0.659420</td>\n",
       "      <td>-0.416394</td>\n",
       "    </tr>\n",
       "    <tr>\n",
       "      <th>4</th>\n",
       "      <td>5</td>\n",
       "      <td>0</td>\n",
       "      <td>0.674074</td>\n",
       "      <td>-0.394415</td>\n",
       "    </tr>\n",
       "    <tr>\n",
       "      <th>5</th>\n",
       "      <td>6</td>\n",
       "      <td>0</td>\n",
       "      <td>0.684932</td>\n",
       "      <td>-0.378436</td>\n",
       "    </tr>\n",
       "    <tr>\n",
       "      <th>6</th>\n",
       "      <td>7</td>\n",
       "      <td>0</td>\n",
       "      <td>0.666667</td>\n",
       "      <td>-0.405465</td>\n",
       "    </tr>\n",
       "    <tr>\n",
       "      <th>7</th>\n",
       "      <td>1</td>\n",
       "      <td>1</td>\n",
       "      <td>0.226891</td>\n",
       "      <td>-1.483287</td>\n",
       "    </tr>\n",
       "    <tr>\n",
       "      <th>8</th>\n",
       "      <td>2</td>\n",
       "      <td>1</td>\n",
       "      <td>0.158416</td>\n",
       "      <td>-1.842532</td>\n",
       "    </tr>\n",
       "    <tr>\n",
       "      <th>9</th>\n",
       "      <td>3</td>\n",
       "      <td>1</td>\n",
       "      <td>0.234043</td>\n",
       "      <td>-1.452252</td>\n",
       "    </tr>\n",
       "  </tbody>\n",
       "</table>\n",
       "</div>"
      ],
      "text/plain": [
       "   DAY_OF_WEEK  ScheduledArrivalPHL      prob     log_p\n",
       "0            1                    0  0.655462 -0.422415\n",
       "1            2                    0  0.663366 -0.410428\n",
       "2            3                    0  0.702128 -0.353640\n",
       "3            4                    0  0.659420 -0.416394\n",
       "4            5                    0  0.674074 -0.394415\n",
       "5            6                    0  0.684932 -0.378436\n",
       "6            7                    0  0.666667 -0.405465\n",
       "7            1                    1  0.226891 -1.483287\n",
       "8            2                    1  0.158416 -1.842532\n",
       "9            3                    1  0.234043 -1.452252"
      ]
     },
     "execution_count": 7,
     "metadata": {},
     "output_type": "execute_result"
    }
   ],
   "source": [
    "scheduled_PHL_df = cpt.nonparentless_CPT('ScheduledArrivalPHL')\n",
    "scheduled_PHL_df.head(10)"
   ]
  },
  {
   "cell_type": "markdown",
   "metadata": {},
   "source": [
    "# Depth 2"
   ]
  },
  {
   "cell_type": "code",
   "execution_count": 8,
   "metadata": {},
   "outputs": [
    {
     "data": {
      "text/plain": [
       "['CRS_DEP_TIME']"
      ]
     },
     "execution_count": 8,
     "metadata": {},
     "output_type": "execute_result"
    }
   ],
   "source": [
    "cpt.available_nodes()"
   ]
  },
  {
   "cell_type": "markdown",
   "metadata": {},
   "source": [
    "## 5. CRS Departure Time"
   ]
  },
  {
   "cell_type": "code",
   "execution_count": 9,
   "metadata": {},
   "outputs": [
    {
     "name": "stdout",
     "output_type": "stream",
     "text": [
      "Note: There are 214 rows in the above table, but we should have 336 , which means that 122 row(s) missing values have been replaced with to occur with probability 2.2250738585072014e-308 .\n"
     ]
    },
    {
     "data": {
      "text/html": [
       "<div>\n",
       "<table border=\"1\" class=\"dataframe\">\n",
       "  <thead>\n",
       "    <tr style=\"text-align: right;\">\n",
       "      <th></th>\n",
       "      <th>DAY_OF_WEEK</th>\n",
       "      <th>MONTH</th>\n",
       "      <th>CRS_ARR_TIME</th>\n",
       "      <th>CRS_DEP_TIME</th>\n",
       "      <th>prob</th>\n",
       "      <th>log_p</th>\n",
       "    </tr>\n",
       "  </thead>\n",
       "  <tbody>\n",
       "    <tr>\n",
       "      <th>0</th>\n",
       "      <td>1</td>\n",
       "      <td>1</td>\n",
       "      <td>0</td>\n",
       "      <td>0</td>\n",
       "      <td>2.225074e-308</td>\n",
       "      <td>-708.396419</td>\n",
       "    </tr>\n",
       "    <tr>\n",
       "      <th>1</th>\n",
       "      <td>1</td>\n",
       "      <td>1</td>\n",
       "      <td>0</td>\n",
       "      <td>1</td>\n",
       "      <td>1.000000e+00</td>\n",
       "      <td>0.000000</td>\n",
       "    </tr>\n",
       "    <tr>\n",
       "      <th>2</th>\n",
       "      <td>1</td>\n",
       "      <td>1</td>\n",
       "      <td>1</td>\n",
       "      <td>0</td>\n",
       "      <td>8.571429e-01</td>\n",
       "      <td>-0.154151</td>\n",
       "    </tr>\n",
       "    <tr>\n",
       "      <th>3</th>\n",
       "      <td>1</td>\n",
       "      <td>1</td>\n",
       "      <td>1</td>\n",
       "      <td>1</td>\n",
       "      <td>1.428571e-01</td>\n",
       "      <td>-1.945910</td>\n",
       "    </tr>\n",
       "    <tr>\n",
       "      <th>4</th>\n",
       "      <td>2</td>\n",
       "      <td>1</td>\n",
       "      <td>0</td>\n",
       "      <td>0</td>\n",
       "      <td>2.225074e-308</td>\n",
       "      <td>-708.396419</td>\n",
       "    </tr>\n",
       "    <tr>\n",
       "      <th>5</th>\n",
       "      <td>2</td>\n",
       "      <td>1</td>\n",
       "      <td>0</td>\n",
       "      <td>1</td>\n",
       "      <td>1.000000e+00</td>\n",
       "      <td>0.000000</td>\n",
       "    </tr>\n",
       "    <tr>\n",
       "      <th>6</th>\n",
       "      <td>2</td>\n",
       "      <td>1</td>\n",
       "      <td>1</td>\n",
       "      <td>0</td>\n",
       "      <td>1.000000e+00</td>\n",
       "      <td>0.000000</td>\n",
       "    </tr>\n",
       "    <tr>\n",
       "      <th>7</th>\n",
       "      <td>2</td>\n",
       "      <td>1</td>\n",
       "      <td>1</td>\n",
       "      <td>1</td>\n",
       "      <td>2.225074e-308</td>\n",
       "      <td>-708.396419</td>\n",
       "    </tr>\n",
       "    <tr>\n",
       "      <th>8</th>\n",
       "      <td>3</td>\n",
       "      <td>1</td>\n",
       "      <td>0</td>\n",
       "      <td>0</td>\n",
       "      <td>2.225074e-308</td>\n",
       "      <td>-708.396419</td>\n",
       "    </tr>\n",
       "    <tr>\n",
       "      <th>9</th>\n",
       "      <td>3</td>\n",
       "      <td>1</td>\n",
       "      <td>0</td>\n",
       "      <td>1</td>\n",
       "      <td>1.000000e+00</td>\n",
       "      <td>0.000000</td>\n",
       "    </tr>\n",
       "  </tbody>\n",
       "</table>\n",
       "</div>"
      ],
      "text/plain": [
       "   DAY_OF_WEEK  MONTH  CRS_ARR_TIME  CRS_DEP_TIME           prob       log_p\n",
       "0            1      1             0             0  2.225074e-308 -708.396419\n",
       "1            1      1             0             1   1.000000e+00    0.000000\n",
       "2            1      1             1             0   8.571429e-01   -0.154151\n",
       "3            1      1             1             1   1.428571e-01   -1.945910\n",
       "4            2      1             0             0  2.225074e-308 -708.396419\n",
       "5            2      1             0             1   1.000000e+00    0.000000\n",
       "6            2      1             1             0   1.000000e+00    0.000000\n",
       "7            2      1             1             1  2.225074e-308 -708.396419\n",
       "8            3      1             0             0  2.225074e-308 -708.396419\n",
       "9            3      1             0             1   1.000000e+00    0.000000"
      ]
     },
     "execution_count": 9,
     "metadata": {},
     "output_type": "execute_result"
    }
   ],
   "source": [
    "departure_time_df = cpt.nonparentless_CPT('CRS_DEP_TIME')\n",
    "departure_time_df.head(10)"
   ]
  },
  {
   "cell_type": "markdown",
   "metadata": {},
   "source": [
    "# Depth 3"
   ]
  },
  {
   "cell_type": "code",
   "execution_count": 10,
   "metadata": {},
   "outputs": [
    {
     "data": {
      "text/plain": [
       "['ScheduledDepartureSFO']"
      ]
     },
     "execution_count": 10,
     "metadata": {},
     "output_type": "execute_result"
    }
   ],
   "source": [
    "cpt.available_nodes()"
   ]
  },
  {
   "cell_type": "markdown",
   "metadata": {},
   "source": [
    "## 6. Number of Scheduled Departures from SFO"
   ]
  },
  {
   "cell_type": "code",
   "execution_count": 11,
   "metadata": {},
   "outputs": [
    {
     "name": "stdout",
     "output_type": "stream",
     "text": [
      "Note: There are 169 rows in the above table, but we should have 1200 , which means that 1031 row(s) missing values have been replaced with to occur with probability 2.2250738585072014e-308 .\n"
     ]
    },
    {
     "data": {
      "text/html": [
       "<div>\n",
       "<table border=\"1\" class=\"dataframe\">\n",
       "  <thead>\n",
       "    <tr style=\"text-align: right;\">\n",
       "      <th></th>\n",
       "      <th>CRS_DEP_TIME</th>\n",
       "      <th>ScheduledArrivalPHL</th>\n",
       "      <th>MONTH</th>\n",
       "      <th>CRS_ARR_TIME</th>\n",
       "      <th>ScheduledDepartureSFO</th>\n",
       "      <th>prob</th>\n",
       "      <th>log_p</th>\n",
       "    </tr>\n",
       "  </thead>\n",
       "  <tbody>\n",
       "    <tr>\n",
       "      <th>0</th>\n",
       "      <td>0</td>\n",
       "      <td>0</td>\n",
       "      <td>1</td>\n",
       "      <td>0</td>\n",
       "      <td>0</td>\n",
       "      <td>2.225074e-308</td>\n",
       "      <td>-708.396419</td>\n",
       "    </tr>\n",
       "    <tr>\n",
       "      <th>1</th>\n",
       "      <td>0</td>\n",
       "      <td>0</td>\n",
       "      <td>1</td>\n",
       "      <td>0</td>\n",
       "      <td>1</td>\n",
       "      <td>2.225074e-308</td>\n",
       "      <td>-708.396419</td>\n",
       "    </tr>\n",
       "    <tr>\n",
       "      <th>2</th>\n",
       "      <td>0</td>\n",
       "      <td>0</td>\n",
       "      <td>1</td>\n",
       "      <td>0</td>\n",
       "      <td>2</td>\n",
       "      <td>2.225074e-308</td>\n",
       "      <td>-708.396419</td>\n",
       "    </tr>\n",
       "    <tr>\n",
       "      <th>3</th>\n",
       "      <td>0</td>\n",
       "      <td>0</td>\n",
       "      <td>1</td>\n",
       "      <td>0</td>\n",
       "      <td>3</td>\n",
       "      <td>2.225074e-308</td>\n",
       "      <td>-708.396419</td>\n",
       "    </tr>\n",
       "    <tr>\n",
       "      <th>4</th>\n",
       "      <td>0</td>\n",
       "      <td>0</td>\n",
       "      <td>1</td>\n",
       "      <td>0</td>\n",
       "      <td>4</td>\n",
       "      <td>2.225074e-308</td>\n",
       "      <td>-708.396419</td>\n",
       "    </tr>\n",
       "    <tr>\n",
       "      <th>5</th>\n",
       "      <td>0</td>\n",
       "      <td>0</td>\n",
       "      <td>1</td>\n",
       "      <td>1</td>\n",
       "      <td>0</td>\n",
       "      <td>9.523810e-01</td>\n",
       "      <td>-0.048790</td>\n",
       "    </tr>\n",
       "    <tr>\n",
       "      <th>6</th>\n",
       "      <td>0</td>\n",
       "      <td>0</td>\n",
       "      <td>1</td>\n",
       "      <td>1</td>\n",
       "      <td>1</td>\n",
       "      <td>2.225074e-308</td>\n",
       "      <td>-708.396419</td>\n",
       "    </tr>\n",
       "    <tr>\n",
       "      <th>7</th>\n",
       "      <td>0</td>\n",
       "      <td>0</td>\n",
       "      <td>1</td>\n",
       "      <td>1</td>\n",
       "      <td>2</td>\n",
       "      <td>2.225074e-308</td>\n",
       "      <td>-708.396419</td>\n",
       "    </tr>\n",
       "    <tr>\n",
       "      <th>8</th>\n",
       "      <td>0</td>\n",
       "      <td>0</td>\n",
       "      <td>1</td>\n",
       "      <td>1</td>\n",
       "      <td>3</td>\n",
       "      <td>2.225074e-308</td>\n",
       "      <td>-708.396419</td>\n",
       "    </tr>\n",
       "    <tr>\n",
       "      <th>9</th>\n",
       "      <td>0</td>\n",
       "      <td>0</td>\n",
       "      <td>1</td>\n",
       "      <td>1</td>\n",
       "      <td>4</td>\n",
       "      <td>4.761905e-02</td>\n",
       "      <td>-3.044522</td>\n",
       "    </tr>\n",
       "  </tbody>\n",
       "</table>\n",
       "</div>"
      ],
      "text/plain": [
       "   CRS_DEP_TIME  ScheduledArrivalPHL  MONTH  CRS_ARR_TIME  \\\n",
       "0             0                    0      1             0   \n",
       "1             0                    0      1             0   \n",
       "2             0                    0      1             0   \n",
       "3             0                    0      1             0   \n",
       "4             0                    0      1             0   \n",
       "5             0                    0      1             1   \n",
       "6             0                    0      1             1   \n",
       "7             0                    0      1             1   \n",
       "8             0                    0      1             1   \n",
       "9             0                    0      1             1   \n",
       "\n",
       "   ScheduledDepartureSFO           prob       log_p  \n",
       "0                      0  2.225074e-308 -708.396419  \n",
       "1                      1  2.225074e-308 -708.396419  \n",
       "2                      2  2.225074e-308 -708.396419  \n",
       "3                      3  2.225074e-308 -708.396419  \n",
       "4                      4  2.225074e-308 -708.396419  \n",
       "5                      0   9.523810e-01   -0.048790  \n",
       "6                      1  2.225074e-308 -708.396419  \n",
       "7                      2  2.225074e-308 -708.396419  \n",
       "8                      3  2.225074e-308 -708.396419  \n",
       "9                      4   4.761905e-02   -3.044522  "
      ]
     },
     "execution_count": 11,
     "metadata": {},
     "output_type": "execute_result"
    }
   ],
   "source": [
    "scheduled_SFO_df = cpt.nonparentless_CPT('ScheduledDepartureSFO')\n",
    "scheduled_SFO_df.head(10)"
   ]
  },
  {
   "cell_type": "markdown",
   "metadata": {},
   "source": [
    "# Depth 4"
   ]
  },
  {
   "cell_type": "code",
   "execution_count": 12,
   "metadata": {},
   "outputs": [
    {
     "data": {
      "text/plain": [
       "['LATE_AIRCRAFT_DELAY', 'DelayedDepartureSFO']"
      ]
     },
     "execution_count": 12,
     "metadata": {},
     "output_type": "execute_result"
    }
   ],
   "source": [
    "cpt.available_nodes()"
   ]
  },
  {
   "cell_type": "markdown",
   "metadata": {},
   "source": [
    "## 7. Delayed Departure SFO"
   ]
  },
  {
   "cell_type": "code",
   "execution_count": 13,
   "metadata": {},
   "outputs": [
    {
     "name": "stdout",
     "output_type": "stream",
     "text": [
      "Note: There are 13 rows in the above table, but we should have 50 , which means that 37 row(s) missing values have been replaced with to occur with probability 2.2250738585072014e-308 .\n"
     ]
    },
    {
     "data": {
      "text/html": [
       "<div>\n",
       "<table border=\"1\" class=\"dataframe\">\n",
       "  <thead>\n",
       "    <tr style=\"text-align: right;\">\n",
       "      <th></th>\n",
       "      <th>ScheduledDepartureSFO</th>\n",
       "      <th>ScheduledArrivalPHL</th>\n",
       "      <th>DelayedDepartureSFO</th>\n",
       "      <th>prob</th>\n",
       "      <th>log_p</th>\n",
       "    </tr>\n",
       "  </thead>\n",
       "  <tbody>\n",
       "    <tr>\n",
       "      <th>0</th>\n",
       "      <td>0</td>\n",
       "      <td>0</td>\n",
       "      <td>0</td>\n",
       "      <td>1.000000e+00</td>\n",
       "      <td>0.000000</td>\n",
       "    </tr>\n",
       "    <tr>\n",
       "      <th>1</th>\n",
       "      <td>0</td>\n",
       "      <td>0</td>\n",
       "      <td>1</td>\n",
       "      <td>2.225074e-308</td>\n",
       "      <td>-708.396419</td>\n",
       "    </tr>\n",
       "    <tr>\n",
       "      <th>2</th>\n",
       "      <td>1</td>\n",
       "      <td>0</td>\n",
       "      <td>0</td>\n",
       "      <td>2.225074e-308</td>\n",
       "      <td>-708.396419</td>\n",
       "    </tr>\n",
       "    <tr>\n",
       "      <th>3</th>\n",
       "      <td>1</td>\n",
       "      <td>0</td>\n",
       "      <td>1</td>\n",
       "      <td>2.225074e-308</td>\n",
       "      <td>-708.396419</td>\n",
       "    </tr>\n",
       "    <tr>\n",
       "      <th>4</th>\n",
       "      <td>2</td>\n",
       "      <td>0</td>\n",
       "      <td>0</td>\n",
       "      <td>2.225074e-308</td>\n",
       "      <td>-708.396419</td>\n",
       "    </tr>\n",
       "    <tr>\n",
       "      <th>5</th>\n",
       "      <td>2</td>\n",
       "      <td>0</td>\n",
       "      <td>1</td>\n",
       "      <td>2.225074e-308</td>\n",
       "      <td>-708.396419</td>\n",
       "    </tr>\n",
       "    <tr>\n",
       "      <th>6</th>\n",
       "      <td>3</td>\n",
       "      <td>0</td>\n",
       "      <td>0</td>\n",
       "      <td>2.225074e-308</td>\n",
       "      <td>-708.396419</td>\n",
       "    </tr>\n",
       "    <tr>\n",
       "      <th>7</th>\n",
       "      <td>3</td>\n",
       "      <td>0</td>\n",
       "      <td>1</td>\n",
       "      <td>2.225074e-308</td>\n",
       "      <td>-708.396419</td>\n",
       "    </tr>\n",
       "    <tr>\n",
       "      <th>8</th>\n",
       "      <td>4</td>\n",
       "      <td>0</td>\n",
       "      <td>0</td>\n",
       "      <td>6.790123e-01</td>\n",
       "      <td>-0.387116</td>\n",
       "    </tr>\n",
       "    <tr>\n",
       "      <th>9</th>\n",
       "      <td>4</td>\n",
       "      <td>0</td>\n",
       "      <td>1</td>\n",
       "      <td>3.209877e-01</td>\n",
       "      <td>-1.136353</td>\n",
       "    </tr>\n",
       "  </tbody>\n",
       "</table>\n",
       "</div>"
      ],
      "text/plain": [
       "   ScheduledDepartureSFO  ScheduledArrivalPHL  DelayedDepartureSFO  \\\n",
       "0                      0                    0                    0   \n",
       "1                      0                    0                    1   \n",
       "2                      1                    0                    0   \n",
       "3                      1                    0                    1   \n",
       "4                      2                    0                    0   \n",
       "5                      2                    0                    1   \n",
       "6                      3                    0                    0   \n",
       "7                      3                    0                    1   \n",
       "8                      4                    0                    0   \n",
       "9                      4                    0                    1   \n",
       "\n",
       "            prob       log_p  \n",
       "0   1.000000e+00    0.000000  \n",
       "1  2.225074e-308 -708.396419  \n",
       "2  2.225074e-308 -708.396419  \n",
       "3  2.225074e-308 -708.396419  \n",
       "4  2.225074e-308 -708.396419  \n",
       "5  2.225074e-308 -708.396419  \n",
       "6  2.225074e-308 -708.396419  \n",
       "7  2.225074e-308 -708.396419  \n",
       "8   6.790123e-01   -0.387116  \n",
       "9   3.209877e-01   -1.136353  "
      ]
     },
     "execution_count": 13,
     "metadata": {},
     "output_type": "execute_result"
    }
   ],
   "source": [
    "delayed_SFO_df = cpt.nonparentless_CPT('DelayedDepartureSFO')\n",
    "delayed_SFO_df.head(10)"
   ]
  },
  {
   "cell_type": "markdown",
   "metadata": {},
   "source": [
    "## 8. Late Aircraft Delay"
   ]
  },
  {
   "cell_type": "code",
   "execution_count": 14,
   "metadata": {},
   "outputs": [
    {
     "name": "stdout",
     "output_type": "stream",
     "text": [
      "Note: There are 32 rows in the above table, but we should have 40 , which means that 8 row(s) missing values have been replaced with to occur with probability 2.2250738585072014e-308 .\n"
     ]
    },
    {
     "data": {
      "text/html": [
       "<div>\n",
       "<table border=\"1\" class=\"dataframe\">\n",
       "  <thead>\n",
       "    <tr style=\"text-align: right;\">\n",
       "      <th></th>\n",
       "      <th>CRS_DEP_TIME</th>\n",
       "      <th>ScheduledDepartureSFO</th>\n",
       "      <th>CRS_ARR_TIME</th>\n",
       "      <th>LATE_AIRCRAFT_DELAY</th>\n",
       "      <th>prob</th>\n",
       "      <th>log_p</th>\n",
       "    </tr>\n",
       "  </thead>\n",
       "  <tbody>\n",
       "    <tr>\n",
       "      <th>0</th>\n",
       "      <td>0</td>\n",
       "      <td>0</td>\n",
       "      <td>0</td>\n",
       "      <td>0</td>\n",
       "      <td>9.375000e-01</td>\n",
       "      <td>-0.064539</td>\n",
       "    </tr>\n",
       "    <tr>\n",
       "      <th>1</th>\n",
       "      <td>0</td>\n",
       "      <td>0</td>\n",
       "      <td>0</td>\n",
       "      <td>1</td>\n",
       "      <td>6.250000e-02</td>\n",
       "      <td>-2.772589</td>\n",
       "    </tr>\n",
       "    <tr>\n",
       "      <th>2</th>\n",
       "      <td>0</td>\n",
       "      <td>0</td>\n",
       "      <td>1</td>\n",
       "      <td>0</td>\n",
       "      <td>8.575949e-01</td>\n",
       "      <td>-0.153623</td>\n",
       "    </tr>\n",
       "    <tr>\n",
       "      <th>3</th>\n",
       "      <td>0</td>\n",
       "      <td>0</td>\n",
       "      <td>1</td>\n",
       "      <td>1</td>\n",
       "      <td>1.424051e-01</td>\n",
       "      <td>-1.949080</td>\n",
       "    </tr>\n",
       "    <tr>\n",
       "      <th>4</th>\n",
       "      <td>1</td>\n",
       "      <td>0</td>\n",
       "      <td>0</td>\n",
       "      <td>0</td>\n",
       "      <td>7.968750e-01</td>\n",
       "      <td>-0.227057</td>\n",
       "    </tr>\n",
       "    <tr>\n",
       "      <th>5</th>\n",
       "      <td>1</td>\n",
       "      <td>0</td>\n",
       "      <td>0</td>\n",
       "      <td>1</td>\n",
       "      <td>2.031250e-01</td>\n",
       "      <td>-1.593934</td>\n",
       "    </tr>\n",
       "    <tr>\n",
       "      <th>6</th>\n",
       "      <td>1</td>\n",
       "      <td>0</td>\n",
       "      <td>1</td>\n",
       "      <td>0</td>\n",
       "      <td>5.500000e-01</td>\n",
       "      <td>-0.597837</td>\n",
       "    </tr>\n",
       "    <tr>\n",
       "      <th>7</th>\n",
       "      <td>1</td>\n",
       "      <td>0</td>\n",
       "      <td>1</td>\n",
       "      <td>1</td>\n",
       "      <td>4.500000e-01</td>\n",
       "      <td>-0.798508</td>\n",
       "    </tr>\n",
       "    <tr>\n",
       "      <th>8</th>\n",
       "      <td>0</td>\n",
       "      <td>1</td>\n",
       "      <td>0</td>\n",
       "      <td>0</td>\n",
       "      <td>1.000000e+00</td>\n",
       "      <td>0.000000</td>\n",
       "    </tr>\n",
       "    <tr>\n",
       "      <th>9</th>\n",
       "      <td>0</td>\n",
       "      <td>1</td>\n",
       "      <td>0</td>\n",
       "      <td>1</td>\n",
       "      <td>2.225074e-308</td>\n",
       "      <td>-708.396419</td>\n",
       "    </tr>\n",
       "  </tbody>\n",
       "</table>\n",
       "</div>"
      ],
      "text/plain": [
       "   CRS_DEP_TIME  ScheduledDepartureSFO  CRS_ARR_TIME  LATE_AIRCRAFT_DELAY  \\\n",
       "0             0                      0             0                    0   \n",
       "1             0                      0             0                    1   \n",
       "2             0                      0             1                    0   \n",
       "3             0                      0             1                    1   \n",
       "4             1                      0             0                    0   \n",
       "5             1                      0             0                    1   \n",
       "6             1                      0             1                    0   \n",
       "7             1                      0             1                    1   \n",
       "8             0                      1             0                    0   \n",
       "9             0                      1             0                    1   \n",
       "\n",
       "            prob       log_p  \n",
       "0   9.375000e-01   -0.064539  \n",
       "1   6.250000e-02   -2.772589  \n",
       "2   8.575949e-01   -0.153623  \n",
       "3   1.424051e-01   -1.949080  \n",
       "4   7.968750e-01   -0.227057  \n",
       "5   2.031250e-01   -1.593934  \n",
       "6   5.500000e-01   -0.597837  \n",
       "7   4.500000e-01   -0.798508  \n",
       "8   1.000000e+00    0.000000  \n",
       "9  2.225074e-308 -708.396419  "
      ]
     },
     "execution_count": 14,
     "metadata": {},
     "output_type": "execute_result"
    }
   ],
   "source": [
    "late_aircraft_delay_df = cpt.nonparentless_CPT('LATE_AIRCRAFT_DELAY')\n",
    "late_aircraft_delay_df.head(10)"
   ]
  },
  {
   "cell_type": "markdown",
   "metadata": {},
   "source": [
    "# Depth 5"
   ]
  },
  {
   "cell_type": "code",
   "execution_count": 15,
   "metadata": {},
   "outputs": [
    {
     "data": {
      "text/plain": [
       "['NAS_DELAY']"
      ]
     },
     "execution_count": 15,
     "metadata": {},
     "output_type": "execute_result"
    }
   ],
   "source": [
    "cpt.available_nodes()"
   ]
  },
  {
   "cell_type": "markdown",
   "metadata": {},
   "source": [
    "## 9. NAS Delay"
   ]
  },
  {
   "cell_type": "code",
   "execution_count": 16,
   "metadata": {},
   "outputs": [
    {
     "name": "stdout",
     "output_type": "stream",
     "text": [
      "Note: There are 15 rows in the above table, but we should have 16 , which means that 1 row(s) missing values have been replaced with to occur with probability 2.2250738585072014e-308 .\n"
     ]
    },
    {
     "data": {
      "text/html": [
       "<div>\n",
       "<table border=\"1\" class=\"dataframe\">\n",
       "  <thead>\n",
       "    <tr style=\"text-align: right;\">\n",
       "      <th></th>\n",
       "      <th>CRS_DEP_TIME</th>\n",
       "      <th>CRS_ARR_TIME</th>\n",
       "      <th>DelayedDepartureSFO</th>\n",
       "      <th>NAS_DELAY</th>\n",
       "      <th>prob</th>\n",
       "      <th>log_p</th>\n",
       "    </tr>\n",
       "  </thead>\n",
       "  <tbody>\n",
       "    <tr>\n",
       "      <th>0</th>\n",
       "      <td>0</td>\n",
       "      <td>0</td>\n",
       "      <td>0</td>\n",
       "      <td>0</td>\n",
       "      <td>7.894737e-01</td>\n",
       "      <td>-0.236389</td>\n",
       "    </tr>\n",
       "    <tr>\n",
       "      <th>1</th>\n",
       "      <td>0</td>\n",
       "      <td>0</td>\n",
       "      <td>0</td>\n",
       "      <td>1</td>\n",
       "      <td>2.105263e-01</td>\n",
       "      <td>-1.558145</td>\n",
       "    </tr>\n",
       "    <tr>\n",
       "      <th>2</th>\n",
       "      <td>0</td>\n",
       "      <td>0</td>\n",
       "      <td>1</td>\n",
       "      <td>0</td>\n",
       "      <td>1.000000e+00</td>\n",
       "      <td>0.000000</td>\n",
       "    </tr>\n",
       "    <tr>\n",
       "      <th>3</th>\n",
       "      <td>0</td>\n",
       "      <td>0</td>\n",
       "      <td>1</td>\n",
       "      <td>1</td>\n",
       "      <td>2.225074e-308</td>\n",
       "      <td>-708.396419</td>\n",
       "    </tr>\n",
       "    <tr>\n",
       "      <th>4</th>\n",
       "      <td>1</td>\n",
       "      <td>0</td>\n",
       "      <td>0</td>\n",
       "      <td>0</td>\n",
       "      <td>6.131687e-01</td>\n",
       "      <td>-0.489115</td>\n",
       "    </tr>\n",
       "    <tr>\n",
       "      <th>5</th>\n",
       "      <td>1</td>\n",
       "      <td>0</td>\n",
       "      <td>0</td>\n",
       "      <td>1</td>\n",
       "      <td>3.868313e-01</td>\n",
       "      <td>-0.949767</td>\n",
       "    </tr>\n",
       "    <tr>\n",
       "      <th>6</th>\n",
       "      <td>1</td>\n",
       "      <td>0</td>\n",
       "      <td>1</td>\n",
       "      <td>0</td>\n",
       "      <td>6.842105e-01</td>\n",
       "      <td>-0.379490</td>\n",
       "    </tr>\n",
       "    <tr>\n",
       "      <th>7</th>\n",
       "      <td>1</td>\n",
       "      <td>0</td>\n",
       "      <td>1</td>\n",
       "      <td>1</td>\n",
       "      <td>3.157895e-01</td>\n",
       "      <td>-1.152680</td>\n",
       "    </tr>\n",
       "    <tr>\n",
       "      <th>8</th>\n",
       "      <td>0</td>\n",
       "      <td>1</td>\n",
       "      <td>0</td>\n",
       "      <td>0</td>\n",
       "      <td>6.356784e-01</td>\n",
       "      <td>-0.453063</td>\n",
       "    </tr>\n",
       "    <tr>\n",
       "      <th>9</th>\n",
       "      <td>0</td>\n",
       "      <td>1</td>\n",
       "      <td>0</td>\n",
       "      <td>1</td>\n",
       "      <td>3.643216e-01</td>\n",
       "      <td>-1.009718</td>\n",
       "    </tr>\n",
       "  </tbody>\n",
       "</table>\n",
       "</div>"
      ],
      "text/plain": [
       "   CRS_DEP_TIME  CRS_ARR_TIME  DelayedDepartureSFO  NAS_DELAY           prob  \\\n",
       "0             0             0                    0          0   7.894737e-01   \n",
       "1             0             0                    0          1   2.105263e-01   \n",
       "2             0             0                    1          0   1.000000e+00   \n",
       "3             0             0                    1          1  2.225074e-308   \n",
       "4             1             0                    0          0   6.131687e-01   \n",
       "5             1             0                    0          1   3.868313e-01   \n",
       "6             1             0                    1          0   6.842105e-01   \n",
       "7             1             0                    1          1   3.157895e-01   \n",
       "8             0             1                    0          0   6.356784e-01   \n",
       "9             0             1                    0          1   3.643216e-01   \n",
       "\n",
       "        log_p  \n",
       "0   -0.236389  \n",
       "1   -1.558145  \n",
       "2    0.000000  \n",
       "3 -708.396419  \n",
       "4   -0.489115  \n",
       "5   -0.949767  \n",
       "6   -0.379490  \n",
       "7   -1.152680  \n",
       "8   -0.453063  \n",
       "9   -1.009718  "
      ]
     },
     "execution_count": 16,
     "metadata": {},
     "output_type": "execute_result"
    }
   ],
   "source": [
    "nas_delay_df = cpt.nonparentless_CPT('NAS_DELAY')\n",
    "nas_delay_df.head(10)"
   ]
  },
  {
   "cell_type": "markdown",
   "metadata": {},
   "source": [
    "# Depth 6"
   ]
  },
  {
   "cell_type": "code",
   "execution_count": 17,
   "metadata": {},
   "outputs": [
    {
     "data": {
      "text/plain": [
       "['WEATHER_DELAY', 'TAXI_IN']"
      ]
     },
     "execution_count": 17,
     "metadata": {},
     "output_type": "execute_result"
    }
   ],
   "source": [
    "cpt.available_nodes()"
   ]
  },
  {
   "cell_type": "markdown",
   "metadata": {},
   "source": [
    "## 10. Taxi In"
   ]
  },
  {
   "cell_type": "code",
   "execution_count": 18,
   "metadata": {},
   "outputs": [
    {
     "name": "stdout",
     "output_type": "stream",
     "text": [
      "Note: There are 21 rows in the above table, but we should have 104 , which means that 83 row(s) missing values have been replaced with to occur with probability 2.2250738585072014e-308 .\n"
     ]
    },
    {
     "data": {
      "text/html": [
       "<div>\n",
       "<table border=\"1\" class=\"dataframe\">\n",
       "  <thead>\n",
       "    <tr style=\"text-align: right;\">\n",
       "      <th></th>\n",
       "      <th>NAS_DELAY</th>\n",
       "      <th>CRS_ARR_TIME</th>\n",
       "      <th>DelayedDepartureSFO</th>\n",
       "      <th>TAXI_IN</th>\n",
       "      <th>prob</th>\n",
       "      <th>log_p</th>\n",
       "    </tr>\n",
       "  </thead>\n",
       "  <tbody>\n",
       "    <tr>\n",
       "      <th>0</th>\n",
       "      <td>0</td>\n",
       "      <td>0</td>\n",
       "      <td>0</td>\n",
       "      <td>0</td>\n",
       "      <td>9.390244e-01</td>\n",
       "      <td>-0.062914</td>\n",
       "    </tr>\n",
       "    <tr>\n",
       "      <th>1</th>\n",
       "      <td>0</td>\n",
       "      <td>0</td>\n",
       "      <td>0</td>\n",
       "      <td>1</td>\n",
       "      <td>5.487805e-02</td>\n",
       "      <td>-2.902642</td>\n",
       "    </tr>\n",
       "    <tr>\n",
       "      <th>2</th>\n",
       "      <td>0</td>\n",
       "      <td>0</td>\n",
       "      <td>0</td>\n",
       "      <td>2</td>\n",
       "      <td>6.097561e-03</td>\n",
       "      <td>-5.099866</td>\n",
       "    </tr>\n",
       "    <tr>\n",
       "      <th>3</th>\n",
       "      <td>0</td>\n",
       "      <td>0</td>\n",
       "      <td>0</td>\n",
       "      <td>3</td>\n",
       "      <td>2.225074e-308</td>\n",
       "      <td>-708.396419</td>\n",
       "    </tr>\n",
       "    <tr>\n",
       "      <th>4</th>\n",
       "      <td>0</td>\n",
       "      <td>0</td>\n",
       "      <td>0</td>\n",
       "      <td>4</td>\n",
       "      <td>2.225074e-308</td>\n",
       "      <td>-708.396419</td>\n",
       "    </tr>\n",
       "    <tr>\n",
       "      <th>5</th>\n",
       "      <td>0</td>\n",
       "      <td>0</td>\n",
       "      <td>0</td>\n",
       "      <td>5</td>\n",
       "      <td>2.225074e-308</td>\n",
       "      <td>-708.396419</td>\n",
       "    </tr>\n",
       "    <tr>\n",
       "      <th>6</th>\n",
       "      <td>0</td>\n",
       "      <td>0</td>\n",
       "      <td>0</td>\n",
       "      <td>6</td>\n",
       "      <td>2.225074e-308</td>\n",
       "      <td>-708.396419</td>\n",
       "    </tr>\n",
       "    <tr>\n",
       "      <th>7</th>\n",
       "      <td>0</td>\n",
       "      <td>0</td>\n",
       "      <td>0</td>\n",
       "      <td>7</td>\n",
       "      <td>2.225074e-308</td>\n",
       "      <td>-708.396419</td>\n",
       "    </tr>\n",
       "    <tr>\n",
       "      <th>8</th>\n",
       "      <td>0</td>\n",
       "      <td>0</td>\n",
       "      <td>0</td>\n",
       "      <td>8</td>\n",
       "      <td>2.225074e-308</td>\n",
       "      <td>-708.396419</td>\n",
       "    </tr>\n",
       "    <tr>\n",
       "      <th>9</th>\n",
       "      <td>0</td>\n",
       "      <td>0</td>\n",
       "      <td>0</td>\n",
       "      <td>9</td>\n",
       "      <td>2.225074e-308</td>\n",
       "      <td>-708.396419</td>\n",
       "    </tr>\n",
       "  </tbody>\n",
       "</table>\n",
       "</div>"
      ],
      "text/plain": [
       "   NAS_DELAY  CRS_ARR_TIME  DelayedDepartureSFO  TAXI_IN           prob  \\\n",
       "0          0             0                    0        0   9.390244e-01   \n",
       "1          0             0                    0        1   5.487805e-02   \n",
       "2          0             0                    0        2   6.097561e-03   \n",
       "3          0             0                    0        3  2.225074e-308   \n",
       "4          0             0                    0        4  2.225074e-308   \n",
       "5          0             0                    0        5  2.225074e-308   \n",
       "6          0             0                    0        6  2.225074e-308   \n",
       "7          0             0                    0        7  2.225074e-308   \n",
       "8          0             0                    0        8  2.225074e-308   \n",
       "9          0             0                    0        9  2.225074e-308   \n",
       "\n",
       "        log_p  \n",
       "0   -0.062914  \n",
       "1   -2.902642  \n",
       "2   -5.099866  \n",
       "3 -708.396419  \n",
       "4 -708.396419  \n",
       "5 -708.396419  \n",
       "6 -708.396419  \n",
       "7 -708.396419  \n",
       "8 -708.396419  \n",
       "9 -708.396419  "
      ]
     },
     "execution_count": 18,
     "metadata": {},
     "output_type": "execute_result"
    }
   ],
   "source": [
    "taxi_in_df = cpt.nonparentless_CPT('TAXI_IN')\n",
    "taxi_in_df.head(10)"
   ]
  },
  {
   "cell_type": "markdown",
   "metadata": {},
   "source": [
    "## 11. Weather Delay"
   ]
  },
  {
   "cell_type": "code",
   "execution_count": 19,
   "metadata": {},
   "outputs": [
    {
     "data": {
      "text/html": [
       "<div>\n",
       "<table border=\"1\" class=\"dataframe\">\n",
       "  <thead>\n",
       "    <tr style=\"text-align: right;\">\n",
       "      <th></th>\n",
       "      <th>NAS_DELAY</th>\n",
       "      <th>WEATHER_DELAY</th>\n",
       "      <th>prob</th>\n",
       "      <th>log_p</th>\n",
       "    </tr>\n",
       "  </thead>\n",
       "  <tbody>\n",
       "    <tr>\n",
       "      <th>0</th>\n",
       "      <td>0</td>\n",
       "      <td>0</td>\n",
       "      <td>0.997967</td>\n",
       "      <td>-0.002035</td>\n",
       "    </tr>\n",
       "    <tr>\n",
       "      <th>1</th>\n",
       "      <td>0</td>\n",
       "      <td>1</td>\n",
       "      <td>0.002033</td>\n",
       "      <td>-6.198479</td>\n",
       "    </tr>\n",
       "    <tr>\n",
       "      <th>2</th>\n",
       "      <td>1</td>\n",
       "      <td>0</td>\n",
       "      <td>0.985816</td>\n",
       "      <td>-0.014286</td>\n",
       "    </tr>\n",
       "    <tr>\n",
       "      <th>3</th>\n",
       "      <td>1</td>\n",
       "      <td>1</td>\n",
       "      <td>0.014184</td>\n",
       "      <td>-4.255613</td>\n",
       "    </tr>\n",
       "  </tbody>\n",
       "</table>\n",
       "</div>"
      ],
      "text/plain": [
       "   NAS_DELAY  WEATHER_DELAY      prob     log_p\n",
       "0          0              0  0.997967 -0.002035\n",
       "1          0              1  0.002033 -6.198479\n",
       "2          1              0  0.985816 -0.014286\n",
       "3          1              1  0.014184 -4.255613"
      ]
     },
     "execution_count": 19,
     "metadata": {},
     "output_type": "execute_result"
    }
   ],
   "source": [
    "weather_delay_df = cpt.nonparentless_CPT('WEATHER_DELAY')\n",
    "weather_delay_df.head(10)"
   ]
  },
  {
   "cell_type": "markdown",
   "metadata": {},
   "source": [
    "# Depth 7"
   ]
  },
  {
   "cell_type": "code",
   "execution_count": 20,
   "metadata": {},
   "outputs": [
    {
     "data": {
      "text/plain": [
       "['CARRIER_DELAY']"
      ]
     },
     "execution_count": 20,
     "metadata": {},
     "output_type": "execute_result"
    }
   ],
   "source": [
    "cpt.available_nodes()"
   ]
  },
  {
   "cell_type": "markdown",
   "metadata": {},
   "source": [
    "## 12. Carrier Delay"
   ]
  },
  {
   "cell_type": "code",
   "execution_count": 21,
   "metadata": {},
   "outputs": [
    {
     "name": "stdout",
     "output_type": "stream",
     "text": [
      "Note: There are 11 rows in the above table, but we should have 16 , which means that 5 row(s) missing values have been replaced with to occur with probability 2.2250738585072014e-308 .\n"
     ]
    },
    {
     "data": {
      "text/html": [
       "<div>\n",
       "<table border=\"1\" class=\"dataframe\">\n",
       "  <thead>\n",
       "    <tr style=\"text-align: right;\">\n",
       "      <th></th>\n",
       "      <th>CRS_DEP_TIME</th>\n",
       "      <th>CRS_ARR_TIME</th>\n",
       "      <th>WEATHER_DELAY</th>\n",
       "      <th>CARRIER_DELAY</th>\n",
       "      <th>prob</th>\n",
       "      <th>log_p</th>\n",
       "    </tr>\n",
       "  </thead>\n",
       "  <tbody>\n",
       "    <tr>\n",
       "      <th>0</th>\n",
       "      <td>0</td>\n",
       "      <td>0</td>\n",
       "      <td>0</td>\n",
       "      <td>0</td>\n",
       "      <td>8.636364e-01</td>\n",
       "      <td>-0.146603</td>\n",
       "    </tr>\n",
       "    <tr>\n",
       "      <th>1</th>\n",
       "      <td>0</td>\n",
       "      <td>0</td>\n",
       "      <td>0</td>\n",
       "      <td>1</td>\n",
       "      <td>1.363636e-01</td>\n",
       "      <td>-1.992430</td>\n",
       "    </tr>\n",
       "    <tr>\n",
       "      <th>2</th>\n",
       "      <td>0</td>\n",
       "      <td>0</td>\n",
       "      <td>1</td>\n",
       "      <td>0</td>\n",
       "      <td>2.225074e-308</td>\n",
       "      <td>-708.396419</td>\n",
       "    </tr>\n",
       "    <tr>\n",
       "      <th>3</th>\n",
       "      <td>0</td>\n",
       "      <td>0</td>\n",
       "      <td>1</td>\n",
       "      <td>1</td>\n",
       "      <td>2.225074e-308</td>\n",
       "      <td>-708.396419</td>\n",
       "    </tr>\n",
       "    <tr>\n",
       "      <th>4</th>\n",
       "      <td>1</td>\n",
       "      <td>0</td>\n",
       "      <td>0</td>\n",
       "      <td>0</td>\n",
       "      <td>6.911197e-01</td>\n",
       "      <td>-0.369442</td>\n",
       "    </tr>\n",
       "    <tr>\n",
       "      <th>5</th>\n",
       "      <td>1</td>\n",
       "      <td>0</td>\n",
       "      <td>0</td>\n",
       "      <td>1</td>\n",
       "      <td>3.088803e-01</td>\n",
       "      <td>-1.174801</td>\n",
       "    </tr>\n",
       "    <tr>\n",
       "      <th>6</th>\n",
       "      <td>1</td>\n",
       "      <td>0</td>\n",
       "      <td>1</td>\n",
       "      <td>0</td>\n",
       "      <td>1.000000e+00</td>\n",
       "      <td>0.000000</td>\n",
       "    </tr>\n",
       "    <tr>\n",
       "      <th>7</th>\n",
       "      <td>1</td>\n",
       "      <td>0</td>\n",
       "      <td>1</td>\n",
       "      <td>1</td>\n",
       "      <td>2.225074e-308</td>\n",
       "      <td>-708.396419</td>\n",
       "    </tr>\n",
       "    <tr>\n",
       "      <th>8</th>\n",
       "      <td>0</td>\n",
       "      <td>1</td>\n",
       "      <td>0</td>\n",
       "      <td>0</td>\n",
       "      <td>8.065268e-01</td>\n",
       "      <td>-0.215018</td>\n",
       "    </tr>\n",
       "    <tr>\n",
       "      <th>9</th>\n",
       "      <td>0</td>\n",
       "      <td>1</td>\n",
       "      <td>0</td>\n",
       "      <td>1</td>\n",
       "      <td>1.934732e-01</td>\n",
       "      <td>-1.642616</td>\n",
       "    </tr>\n",
       "  </tbody>\n",
       "</table>\n",
       "</div>"
      ],
      "text/plain": [
       "   CRS_DEP_TIME  CRS_ARR_TIME  WEATHER_DELAY  CARRIER_DELAY           prob  \\\n",
       "0             0             0              0              0   8.636364e-01   \n",
       "1             0             0              0              1   1.363636e-01   \n",
       "2             0             0              1              0  2.225074e-308   \n",
       "3             0             0              1              1  2.225074e-308   \n",
       "4             1             0              0              0   6.911197e-01   \n",
       "5             1             0              0              1   3.088803e-01   \n",
       "6             1             0              1              0   1.000000e+00   \n",
       "7             1             0              1              1  2.225074e-308   \n",
       "8             0             1              0              0   8.065268e-01   \n",
       "9             0             1              0              1   1.934732e-01   \n",
       "\n",
       "        log_p  \n",
       "0   -0.146603  \n",
       "1   -1.992430  \n",
       "2 -708.396419  \n",
       "3 -708.396419  \n",
       "4   -0.369442  \n",
       "5   -1.174801  \n",
       "6    0.000000  \n",
       "7 -708.396419  \n",
       "8   -0.215018  \n",
       "9   -1.642616  "
      ]
     },
     "execution_count": 21,
     "metadata": {},
     "output_type": "execute_result"
    }
   ],
   "source": [
    "carrier_delay_df = cpt.nonparentless_CPT('CARRIER_DELAY')\n",
    "carrier_delay_df.head(10)"
   ]
  },
  {
   "cell_type": "markdown",
   "metadata": {},
   "source": [
    "# Depth 8"
   ]
  },
  {
   "cell_type": "code",
   "execution_count": 22,
   "metadata": {},
   "outputs": [
    {
     "data": {
      "text/plain": [
       "['DEP_DELAY', 'ARR_DEL15']"
      ]
     },
     "execution_count": 22,
     "metadata": {},
     "output_type": "execute_result"
    }
   ],
   "source": [
    "cpt.available_nodes()"
   ]
  },
  {
   "cell_type": "markdown",
   "metadata": {},
   "source": [
    "## 13. Departure Delay"
   ]
  },
  {
   "cell_type": "code",
   "execution_count": 23,
   "metadata": {},
   "outputs": [
    {
     "name": "stdout",
     "output_type": "stream",
     "text": [
      "Note: There are 447 rows in the above table, but we should have 2016 , which means that 1569 row(s) missing values have been replaced with to occur with probability 2.2250738585072014e-308 .\n"
     ]
    },
    {
     "data": {
      "text/html": [
       "<div>\n",
       "<table border=\"1\" class=\"dataframe\">\n",
       "  <thead>\n",
       "    <tr style=\"text-align: right;\">\n",
       "      <th></th>\n",
       "      <th>CRS_ARR_TIME</th>\n",
       "      <th>DAY_OF_WEEK</th>\n",
       "      <th>CARRIER_DELAY</th>\n",
       "      <th>MONTH</th>\n",
       "      <th>LATE_AIRCRAFT_DELAY</th>\n",
       "      <th>DEP_DELAY</th>\n",
       "      <th>prob</th>\n",
       "      <th>log_p</th>\n",
       "    </tr>\n",
       "  </thead>\n",
       "  <tbody>\n",
       "    <tr>\n",
       "      <th>0</th>\n",
       "      <td>0</td>\n",
       "      <td>1</td>\n",
       "      <td>0</td>\n",
       "      <td>1</td>\n",
       "      <td>0</td>\n",
       "      <td>0</td>\n",
       "      <td>2.225074e-308</td>\n",
       "      <td>-708.396419</td>\n",
       "    </tr>\n",
       "    <tr>\n",
       "      <th>1</th>\n",
       "      <td>0</td>\n",
       "      <td>1</td>\n",
       "      <td>0</td>\n",
       "      <td>1</td>\n",
       "      <td>0</td>\n",
       "      <td>1</td>\n",
       "      <td>2.225074e-308</td>\n",
       "      <td>-708.396419</td>\n",
       "    </tr>\n",
       "    <tr>\n",
       "      <th>2</th>\n",
       "      <td>0</td>\n",
       "      <td>1</td>\n",
       "      <td>0</td>\n",
       "      <td>1</td>\n",
       "      <td>0</td>\n",
       "      <td>-1</td>\n",
       "      <td>1.000000e+00</td>\n",
       "      <td>0.000000</td>\n",
       "    </tr>\n",
       "    <tr>\n",
       "      <th>3</th>\n",
       "      <td>0</td>\n",
       "      <td>1</td>\n",
       "      <td>0</td>\n",
       "      <td>1</td>\n",
       "      <td>1</td>\n",
       "      <td>0</td>\n",
       "      <td>2.225074e-308</td>\n",
       "      <td>-708.396419</td>\n",
       "    </tr>\n",
       "    <tr>\n",
       "      <th>4</th>\n",
       "      <td>0</td>\n",
       "      <td>1</td>\n",
       "      <td>0</td>\n",
       "      <td>1</td>\n",
       "      <td>1</td>\n",
       "      <td>1</td>\n",
       "      <td>2.225074e-308</td>\n",
       "      <td>-708.396419</td>\n",
       "    </tr>\n",
       "    <tr>\n",
       "      <th>5</th>\n",
       "      <td>0</td>\n",
       "      <td>1</td>\n",
       "      <td>0</td>\n",
       "      <td>1</td>\n",
       "      <td>1</td>\n",
       "      <td>-1</td>\n",
       "      <td>2.225074e-308</td>\n",
       "      <td>-708.396419</td>\n",
       "    </tr>\n",
       "    <tr>\n",
       "      <th>6</th>\n",
       "      <td>0</td>\n",
       "      <td>1</td>\n",
       "      <td>0</td>\n",
       "      <td>2</td>\n",
       "      <td>0</td>\n",
       "      <td>0</td>\n",
       "      <td>2.225074e-308</td>\n",
       "      <td>-708.396419</td>\n",
       "    </tr>\n",
       "    <tr>\n",
       "      <th>7</th>\n",
       "      <td>0</td>\n",
       "      <td>1</td>\n",
       "      <td>0</td>\n",
       "      <td>2</td>\n",
       "      <td>0</td>\n",
       "      <td>1</td>\n",
       "      <td>1.000000e+00</td>\n",
       "      <td>0.000000</td>\n",
       "    </tr>\n",
       "    <tr>\n",
       "      <th>8</th>\n",
       "      <td>0</td>\n",
       "      <td>1</td>\n",
       "      <td>0</td>\n",
       "      <td>2</td>\n",
       "      <td>0</td>\n",
       "      <td>-1</td>\n",
       "      <td>2.225074e-308</td>\n",
       "      <td>-708.396419</td>\n",
       "    </tr>\n",
       "    <tr>\n",
       "      <th>9</th>\n",
       "      <td>0</td>\n",
       "      <td>1</td>\n",
       "      <td>0</td>\n",
       "      <td>2</td>\n",
       "      <td>1</td>\n",
       "      <td>0</td>\n",
       "      <td>2.225074e-308</td>\n",
       "      <td>-708.396419</td>\n",
       "    </tr>\n",
       "  </tbody>\n",
       "</table>\n",
       "</div>"
      ],
      "text/plain": [
       "   CRS_ARR_TIME  DAY_OF_WEEK  CARRIER_DELAY  MONTH  LATE_AIRCRAFT_DELAY  \\\n",
       "0             0            1              0      1                    0   \n",
       "1             0            1              0      1                    0   \n",
       "2             0            1              0      1                    0   \n",
       "3             0            1              0      1                    1   \n",
       "4             0            1              0      1                    1   \n",
       "5             0            1              0      1                    1   \n",
       "6             0            1              0      2                    0   \n",
       "7             0            1              0      2                    0   \n",
       "8             0            1              0      2                    0   \n",
       "9             0            1              0      2                    1   \n",
       "\n",
       "   DEP_DELAY           prob       log_p  \n",
       "0          0  2.225074e-308 -708.396419  \n",
       "1          1  2.225074e-308 -708.396419  \n",
       "2         -1   1.000000e+00    0.000000  \n",
       "3          0  2.225074e-308 -708.396419  \n",
       "4          1  2.225074e-308 -708.396419  \n",
       "5         -1  2.225074e-308 -708.396419  \n",
       "6          0  2.225074e-308 -708.396419  \n",
       "7          1   1.000000e+00    0.000000  \n",
       "8         -1  2.225074e-308 -708.396419  \n",
       "9          0  2.225074e-308 -708.396419  "
      ]
     },
     "execution_count": 23,
     "metadata": {},
     "output_type": "execute_result"
    }
   ],
   "source": [
    "dep_delay_df = cpt.nonparentless_CPT('DEP_DELAY')\n",
    "dep_delay_df.head(10)"
   ]
  },
  {
   "cell_type": "markdown",
   "metadata": {},
   "source": [
    "## 14. Arrival Delay"
   ]
  },
  {
   "cell_type": "code",
   "execution_count": 24,
   "metadata": {},
   "outputs": [
    {
     "name": "stdout",
     "output_type": "stream",
     "text": [
      "Note: There are 118 rows in the above table, but we should have 640 , which means that 522 row(s) missing values have been replaced with to occur with probability 2.2250738585072014e-308 .\n"
     ]
    },
    {
     "data": {
      "text/html": [
       "<div>\n",
       "<table border=\"1\" class=\"dataframe\">\n",
       "  <thead>\n",
       "    <tr style=\"text-align: right;\">\n",
       "      <th></th>\n",
       "      <th>CRS_ARR_TIME</th>\n",
       "      <th>CRS_DEP_TIME</th>\n",
       "      <th>ScheduledDepartureSFO</th>\n",
       "      <th>CARRIER_DELAY</th>\n",
       "      <th>LATE_AIRCRAFT_DELAY</th>\n",
       "      <th>NAS_DELAY</th>\n",
       "      <th>DelayedDepartureSFO</th>\n",
       "      <th>ARR_DEL15</th>\n",
       "      <th>prob</th>\n",
       "      <th>log_p</th>\n",
       "    </tr>\n",
       "  </thead>\n",
       "  <tbody>\n",
       "    <tr>\n",
       "      <th>0</th>\n",
       "      <td>0</td>\n",
       "      <td>0</td>\n",
       "      <td>0</td>\n",
       "      <td>0</td>\n",
       "      <td>0</td>\n",
       "      <td>0</td>\n",
       "      <td>0</td>\n",
       "      <td>0</td>\n",
       "      <td>1.000000e+00</td>\n",
       "      <td>0.000000</td>\n",
       "    </tr>\n",
       "    <tr>\n",
       "      <th>1</th>\n",
       "      <td>0</td>\n",
       "      <td>0</td>\n",
       "      <td>0</td>\n",
       "      <td>0</td>\n",
       "      <td>0</td>\n",
       "      <td>0</td>\n",
       "      <td>0</td>\n",
       "      <td>1</td>\n",
       "      <td>2.225074e-308</td>\n",
       "      <td>-708.396419</td>\n",
       "    </tr>\n",
       "    <tr>\n",
       "      <th>2</th>\n",
       "      <td>0</td>\n",
       "      <td>0</td>\n",
       "      <td>0</td>\n",
       "      <td>0</td>\n",
       "      <td>0</td>\n",
       "      <td>0</td>\n",
       "      <td>1</td>\n",
       "      <td>0</td>\n",
       "      <td>2.225074e-308</td>\n",
       "      <td>-708.396419</td>\n",
       "    </tr>\n",
       "    <tr>\n",
       "      <th>3</th>\n",
       "      <td>0</td>\n",
       "      <td>0</td>\n",
       "      <td>0</td>\n",
       "      <td>0</td>\n",
       "      <td>0</td>\n",
       "      <td>0</td>\n",
       "      <td>1</td>\n",
       "      <td>1</td>\n",
       "      <td>2.225074e-308</td>\n",
       "      <td>-708.396419</td>\n",
       "    </tr>\n",
       "    <tr>\n",
       "      <th>4</th>\n",
       "      <td>0</td>\n",
       "      <td>0</td>\n",
       "      <td>0</td>\n",
       "      <td>0</td>\n",
       "      <td>0</td>\n",
       "      <td>1</td>\n",
       "      <td>0</td>\n",
       "      <td>0</td>\n",
       "      <td>2.225074e-308</td>\n",
       "      <td>-708.396419</td>\n",
       "    </tr>\n",
       "    <tr>\n",
       "      <th>5</th>\n",
       "      <td>0</td>\n",
       "      <td>0</td>\n",
       "      <td>0</td>\n",
       "      <td>0</td>\n",
       "      <td>0</td>\n",
       "      <td>1</td>\n",
       "      <td>0</td>\n",
       "      <td>1</td>\n",
       "      <td>1.000000e+00</td>\n",
       "      <td>0.000000</td>\n",
       "    </tr>\n",
       "    <tr>\n",
       "      <th>6</th>\n",
       "      <td>0</td>\n",
       "      <td>0</td>\n",
       "      <td>0</td>\n",
       "      <td>0</td>\n",
       "      <td>0</td>\n",
       "      <td>1</td>\n",
       "      <td>1</td>\n",
       "      <td>0</td>\n",
       "      <td>2.225074e-308</td>\n",
       "      <td>-708.396419</td>\n",
       "    </tr>\n",
       "    <tr>\n",
       "      <th>7</th>\n",
       "      <td>0</td>\n",
       "      <td>0</td>\n",
       "      <td>0</td>\n",
       "      <td>0</td>\n",
       "      <td>0</td>\n",
       "      <td>1</td>\n",
       "      <td>1</td>\n",
       "      <td>1</td>\n",
       "      <td>2.225074e-308</td>\n",
       "      <td>-708.396419</td>\n",
       "    </tr>\n",
       "    <tr>\n",
       "      <th>8</th>\n",
       "      <td>0</td>\n",
       "      <td>0</td>\n",
       "      <td>0</td>\n",
       "      <td>0</td>\n",
       "      <td>1</td>\n",
       "      <td>0</td>\n",
       "      <td>0</td>\n",
       "      <td>0</td>\n",
       "      <td>2.225074e-308</td>\n",
       "      <td>-708.396419</td>\n",
       "    </tr>\n",
       "    <tr>\n",
       "      <th>9</th>\n",
       "      <td>0</td>\n",
       "      <td>0</td>\n",
       "      <td>0</td>\n",
       "      <td>0</td>\n",
       "      <td>1</td>\n",
       "      <td>0</td>\n",
       "      <td>0</td>\n",
       "      <td>1</td>\n",
       "      <td>1.000000e+00</td>\n",
       "      <td>0.000000</td>\n",
       "    </tr>\n",
       "  </tbody>\n",
       "</table>\n",
       "</div>"
      ],
      "text/plain": [
       "   CRS_ARR_TIME  CRS_DEP_TIME  ScheduledDepartureSFO  CARRIER_DELAY  \\\n",
       "0             0             0                      0              0   \n",
       "1             0             0                      0              0   \n",
       "2             0             0                      0              0   \n",
       "3             0             0                      0              0   \n",
       "4             0             0                      0              0   \n",
       "5             0             0                      0              0   \n",
       "6             0             0                      0              0   \n",
       "7             0             0                      0              0   \n",
       "8             0             0                      0              0   \n",
       "9             0             0                      0              0   \n",
       "\n",
       "   LATE_AIRCRAFT_DELAY  NAS_DELAY  DelayedDepartureSFO  ARR_DEL15  \\\n",
       "0                    0          0                    0          0   \n",
       "1                    0          0                    0          1   \n",
       "2                    0          0                    1          0   \n",
       "3                    0          0                    1          1   \n",
       "4                    0          1                    0          0   \n",
       "5                    0          1                    0          1   \n",
       "6                    0          1                    1          0   \n",
       "7                    0          1                    1          1   \n",
       "8                    1          0                    0          0   \n",
       "9                    1          0                    0          1   \n",
       "\n",
       "            prob       log_p  \n",
       "0   1.000000e+00    0.000000  \n",
       "1  2.225074e-308 -708.396419  \n",
       "2  2.225074e-308 -708.396419  \n",
       "3  2.225074e-308 -708.396419  \n",
       "4  2.225074e-308 -708.396419  \n",
       "5   1.000000e+00    0.000000  \n",
       "6  2.225074e-308 -708.396419  \n",
       "7  2.225074e-308 -708.396419  \n",
       "8  2.225074e-308 -708.396419  \n",
       "9   1.000000e+00    0.000000  "
      ]
     },
     "execution_count": 24,
     "metadata": {},
     "output_type": "execute_result"
    }
   ],
   "source": [
    "arr_del15_df = cpt.nonparentless_CPT('ARR_DEL15')\n",
    "arr_del15_df.head(10)"
   ]
  },
  {
   "cell_type": "markdown",
   "metadata": {},
   "source": [
    "# Testing Some Values"
   ]
  },
  {
   "cell_type": "code",
   "execution_count": 25,
   "metadata": {},
   "outputs": [],
   "source": [
    "def find_logp(obs, df):\n",
    "    on_li = df.columns.tolist()[:-2]\n",
    "    return pd.merge(df, obs, on=on_li, how='inner').iloc[0].log_p\n",
    "\n",
    "def compute_probability(obs):\n",
    "    dfs = [month_df, day_of_week_df, arr_time_df, scheduled_PHL_df, departure_time_df, scheduled_SFO_df, \\\n",
    "          delayed_SFO_df, late_aircraft_delay_df, nas_delay_df, taxi_in_df, weather_delay_df, carrier_delay_df, \\\n",
    "          dep_delay_df,arr_del15_df]\n",
    "    vals = [find_logp(obs, df) for df in dfs]\n",
    "    return np.exp(sum(vals))"
   ]
  },
  {
   "cell_type": "code",
   "execution_count": 26,
   "metadata": {},
   "outputs": [],
   "source": [
    "test_df = pd.read_csv('./test_data.csv')\n",
    "y_test = pd.DataFrame(test_df.ARR_DEL15.astype('int', copy=False)).astype(int)\n",
    "y_test['probability'] = [compute_probability(pd.DataFrame(test_df.iloc[i].transpose()).transpose()) \\\n",
    "                         for i in range(test_df.shape[0])]"
   ]
  },
  {
   "cell_type": "code",
   "execution_count": 27,
   "metadata": {},
   "outputs": [
    {
     "data": {
      "image/png": "[encoded data removed]",
      "text/plain": [
       "<Figure size 432x288 with 1 Axes>"
      ]
     },
     "metadata": {},
     "output_type": "display_data"
    }
   ],
   "source": [
    "plt.hist(y_test.probability)\n",
    "plt.xlabel('probability')\n",
    "plt.ylabel('frequency')\n",
    "plt.title('Test Label Probability of Occurrence')\n",
    "plt.savefig('probability_histogram.png')\n",
    "plt.show()"
   ]
  },
  {
   "cell_type": "code",
   "execution_count": 28,
   "metadata": {},
   "outputs": [
    {
     "data": {
      "image/png": "[encoded data removed]",
      "text/plain": [
       "<Figure size 432x288 with 1 Axes>"
      ]
     },
     "metadata": {},
     "output_type": "display_data"
    }
   ],
   "source": [
    "plt.hist(y_test.probability,cumulative=True)\n",
    "plt.xlabel('probability')\n",
    "plt.ylabel('cumulative frequency')\n",
    "plt.title('Cumulative: Test Label Frequency vs. Probability of Occurrence')\n",
    "plt.savefig('probability_histogram_cumulative.png')\n",
    "plt.show()"
   ]
  },
  {
   "cell_type": "code",
   "execution_count": 29,
   "metadata": {},
   "outputs": [
    {
     "data": {
      "image/png": "[encoded data removed]",
      "text/plain": [
       "<Figure size 432x288 with 1 Axes>"
      ]
     },
     "metadata": {},
     "output_type": "display_data"
    }
   ],
   "source": [
    "plt.hist(y_test.ARR_DEL15)\n",
    "plt.xlabel('label: 0 or 1')\n",
    "plt.ylabel('number of occurrence')\n",
    "plt.title('Number of Labels in Test Data')\n",
    "plt.savefig('label_histogram.png')\n",
    "plt.show()"
   ]
  },
  {
   "cell_type": "code",
   "execution_count": null,
   "metadata": {},
   "outputs": [],
   "source": []
  }
 ],
 "metadata": {
  "kernelspec": {
   "display_name": "Python 3",
   "language": "python",
   "name": "python3"
  },
  "language_info": {
   "codemirror_mode": {
    "name": "ipython",
    "version": 3
   },
   "file_extension": ".py",
   "mimetype": "text/x-python",
   "name": "python",
   "nbconvert_exporter": "python",
   "pygments_lexer": "ipython3",
   "version": "3.6.3"
  }
 },
 "nbformat": 4,
 "nbformat_minor": 2
}
