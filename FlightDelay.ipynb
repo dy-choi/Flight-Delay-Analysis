{
 "cells": [
  {
   "cell_type": "markdown",
   "metadata": {},
   "source": [
    "# Bayesian Networks and Flight Delay : SFO to PHL"
   ]
  },
  {
   "cell_type": "markdown",
   "metadata": {},
   "source": [
    "Flight delay is a costly problem to consumers, airlines, and industrial experts. Delays provoke complaints from passengers, create high costs to airlines, and result in difficulties for airport operations. It is therefore important for the Federal Aviation Administration (FAA) to understand the causes of delay as a means to reduce the total cost that delays can cause.\n",
    "\n",
    "Known factors that cause flight delays include weather at the origin airport, congestion at the origin airport, and air traffic management (ATM) decisions such as Ground Delay Programs (GDP). Each component interacts with other components in complex ways, which is why flight delays are an inherently stochastic phenomenon. Simply examining the marginal distributions of such factor does not truly reveal the effects that such factors have or the relationship between any two of such factors.\n",
    "\n",
    "Here, we will perform a case study of the use of Bayesian networks to model the relationship between different components of aircraft delay and the causal factors that affect delays. Bayesian networks allow us to simultaneously examine multiple components of delay and their relationships in a single analysis, an advantage that the use of Bayesian networks has over linear and nonlinear regression models. Moreover, Bayesian network models provide not only just predictions of future delays that incorporate the interrelationships among causal factors, but also a means of assessing the ultimate influence each causal factors has on arrival delay.\n",
    "\n",
    "In particular, we will examine delays in flight from San Francisco International Airport (SFO) to Philadelphia International Airport (PHL)."
   ]
  },
  {
   "cell_type": "code",
   "execution_count": 1,
   "metadata": {},
   "outputs": [],
   "source": [
    "import pandas as pd\n",
    "import numpy as np\n",
    "import statsmodels.api as sm\n",
    "import time\n",
    "import calendar\n",
    "import networkx as nx\n",
    "import matplotlib.pyplot as plt"
   ]
  },
  {
   "cell_type": "code",
   "execution_count": 2,
   "metadata": {},
   "outputs": [],
   "source": [
    "def filterRoutes(df):\n",
    "    '''\n",
    "    filter df to contain delayed fligths from SFO to PHL routes only.\n",
    "    '''\n",
    "    df = df[(df['ORIGIN'] == 'SFO') & (df['DEST'] == 'PHL') & (df['ARR_DELAY'] > 0)]\n",
    "    df = df.reset_index()\n",
    "    return df.drop(['index','YEAR','ORIGIN','DEST', 'UNIQUE_CARRIER','DEP_TIME','DEP_TIME_BLK','DEP_DELAY_GROUP', 'DEP_DELAY_NEW', 'DEP_DEL15','WHEELS_OFF','WHEELS_ON','ARR_DELAY','ARR_DELAY_NEW','Unnamed: 29'],axis=1)\n",
    "\n",
    "def dateColumns(df):\n",
    "    '''\n",
    "    Given a column with mm/dd/yyyy, create a MONTH and DAY column.\n",
    "    '''\n",
    "    dates = [str(d).replace('/','') for d in list(df['Date'])]\n",
    "    dates = [time.strptime(d,'%m%d%Y') for d in dates]\n",
    "    df['MONTH'] = [d.tm_mon for d in dates]\n",
    "    df['DAY'] = [d.tm_mday for d in dates]"
   ]
  },
  {
   "cell_type": "markdown",
   "metadata": {},
   "source": [
    "## The Nitty-Gritty: Preparing the Data"
   ]
  },
  {
   "cell_type": "markdown",
   "metadata": {},
   "source": [
    "### Read and Merge"
   ]
  },
  {
   "cell_type": "markdown",
   "metadata": {},
   "source": [
    "We are working with two datasets. The first is provided by the Bureau of Transportation Statistics and contains flight information, including Common Reporting Standard (CRS) arrival and departure times, causes of delay, and time spend taxiing in and out. We will start by reading in twelve months' worth of data and filtering for just the SFO to PHL routes."
   ]
  },
  {
   "cell_type": "code",
   "execution_count": 3,
   "metadata": {},
   "outputs": [],
   "source": [
    "# read data and filter for relevant delayed flights\n",
    "jan_df = filterRoutes(pd.read_csv('./month/jan2017.csv'))\n",
    "feb_df = filterRoutes(pd.read_csv('./month/feb2017.csv'))\n",
    "mar_df = filterRoutes(pd.read_csv('./month/mar2017.csv'))\n",
    "apr_df = filterRoutes(pd.read_csv('./month/apr2017.csv'))\n",
    "may_df = filterRoutes(pd.read_csv('./month/may2017.csv'))\n",
    "jun_df = filterRoutes(pd.read_csv('./month/jun2017.csv'))\n",
    "jul_df = filterRoutes(pd.read_csv('./month/jul2017.csv'))\n",
    "aug_df = filterRoutes(pd.read_csv('./month/aug2017.csv'))\n",
    "sep_df = filterRoutes(pd.read_csv('./month/sep2017.csv'))\n",
    "oct_df = filterRoutes(pd.read_csv('./month/oct2017.csv'))\n",
    "nov_df = filterRoutes(pd.read_csv('./month/nov2017.csv'))\n",
    "dec_df = filterRoutes(pd.read_csv('./month/dec2017.csv'))\n",
    "\n",
    "# concatenate dataframes by quarter\n",
    "flights_df = pd.concat([jan_df, feb_df,mar_df,apr_df, may_df, jun_df, jul_df, aug_df, sep_df, oct_df, nov_df, dec_df])\n",
    "\n",
    "# keep hour information from CRS but not minutes\n",
    "flights_df['CRS_DEP_TIME'] = flights_df['CRS_DEP_TIME'] // 100\n",
    "flights_df['CRS_ARR_TIME'] = flights_df['CRS_ARR_TIME'] // 100"
   ]
  },
  {
   "cell_type": "markdown",
   "metadata": {},
   "source": [
    "Secondly, we will read in the data provided by the Federal Aviation Administration (FAA) on airport situations in SFO and PHL in 2017 in 'ASPM : Airport Analysis : Delayed Flights Report.' After reading in the data, we will merge the two dataframes to create one flights_df dataframe."
   ]
  },
  {
   "cell_type": "code",
   "execution_count": 4,
   "metadata": {},
   "outputs": [],
   "source": [
    "airports_df = pd.read_csv('./faa-aspm/airports.csv').dropna(axis=0,how='all')\n",
    "\n",
    "# split Date into MONTH and DAY\n",
    "airports_df['Facility'] = airports_df['Facility'].str.strip()\n",
    "dateColumns(airports_df)\n",
    "airports_df = airports_df.drop(['Date','% DelayedGateDepartures','% DelayedGateArrivals','Date'],axis=1)\n",
    "airports_df = airports_df.drop(['DeparturesFor MetricComputation','ArrivalsFor MetricComputation','AverageMinutesOf DelayPer DelayedGateDeparture','AverageMinutesOf DelayPer DelayedGateArrival'],axis=1)\n",
    "\n",
    "# find departure and arrival informations at airport at time of departure/arrival\n",
    "# SFO (departure)\n",
    "flights_SFO_df = pd.merge(flights_df, airports_df, how='inner', left_on=['MONTH','DAY_OF_MONTH','CRS_DEP_TIME'], right_on=['MONTH','DAY','Hour'])\n",
    "flights_SFO_df = flights_SFO_df[flights_SFO_df['Facility'] == 'SFO']\n",
    "# PHL (arrival)\n",
    "flights_PHL_df = pd.merge(flights_df, airports_df, how='inner', left_on=['MONTH','DAY_OF_MONTH','CRS_DEP_TIME'], right_on=['MONTH','DAY','Hour'])\n",
    "flights_PHL_df = flights_PHL_df[flights_PHL_df['Facility'] == 'PHL']\n",
    "# set departure/arrival information as fields of flights_df\n",
    "flights_df['DelayedDepartureSFO'] = flights_PHL_df['DelayedGateDepartures']\n",
    "flights_df['ScheduledDepartureSFO'] = flights_PHL_df['ScheduledDepartures']\n",
    "flights_df['DelayedArrivalPHL'] = flights_PHL_df['DelayedGateArrivals']\n",
    "flights_df['ScheduledArrivalPHL'] = flights_PHL_df['ScheduledArrivals']\n",
    "flights_df.fillna(0,inplace=True)\n",
    "flights_df = flights_df.reset_index()\n",
    "flights_df = flights_df.drop(['index'],axis=1)"
   ]
  },
  {
   "cell_type": "markdown",
   "metadata": {},
   "source": [
    "We no longer need information about DAY_OF_MONTH, so we will drop that column. The compiled data is as below. Due to the length of each field name, we transpose the dataframe for readability."
   ]
  },
  {
   "cell_type": "code",
   "execution_count": 5,
   "metadata": {},
   "outputs": [
    {
     "data": {
      "text/html": [
       "<div>\n",
       "<table border=\"1\" class=\"dataframe\">\n",
       "  <thead>\n",
       "    <tr style=\"text-align: right;\">\n",
       "      <th></th>\n",
       "      <th>0</th>\n",
       "      <th>1</th>\n",
       "      <th>2</th>\n",
       "      <th>3</th>\n",
       "      <th>4</th>\n",
       "      <th>5</th>\n",
       "      <th>6</th>\n",
       "      <th>7</th>\n",
       "      <th>8</th>\n",
       "      <th>9</th>\n",
       "      <th>...</th>\n",
       "      <th>958</th>\n",
       "      <th>959</th>\n",
       "      <th>960</th>\n",
       "      <th>961</th>\n",
       "      <th>962</th>\n",
       "      <th>963</th>\n",
       "      <th>964</th>\n",
       "      <th>965</th>\n",
       "      <th>966</th>\n",
       "      <th>967</th>\n",
       "    </tr>\n",
       "  </thead>\n",
       "  <tbody>\n",
       "    <tr>\n",
       "      <th>QUARTER</th>\n",
       "      <td>1.0</td>\n",
       "      <td>1.0</td>\n",
       "      <td>1.0</td>\n",
       "      <td>1.0</td>\n",
       "      <td>1.0</td>\n",
       "      <td>1.0</td>\n",
       "      <td>1.0</td>\n",
       "      <td>1.0</td>\n",
       "      <td>1.0</td>\n",
       "      <td>1.0</td>\n",
       "      <td>...</td>\n",
       "      <td>4.0</td>\n",
       "      <td>4.0</td>\n",
       "      <td>4.0</td>\n",
       "      <td>4.0</td>\n",
       "      <td>4.0</td>\n",
       "      <td>4.0</td>\n",
       "      <td>4.0</td>\n",
       "      <td>4.0</td>\n",
       "      <td>4.0</td>\n",
       "      <td>4.0</td>\n",
       "    </tr>\n",
       "    <tr>\n",
       "      <th>MONTH</th>\n",
       "      <td>1.0</td>\n",
       "      <td>1.0</td>\n",
       "      <td>1.0</td>\n",
       "      <td>1.0</td>\n",
       "      <td>1.0</td>\n",
       "      <td>1.0</td>\n",
       "      <td>1.0</td>\n",
       "      <td>1.0</td>\n",
       "      <td>1.0</td>\n",
       "      <td>1.0</td>\n",
       "      <td>...</td>\n",
       "      <td>12.0</td>\n",
       "      <td>12.0</td>\n",
       "      <td>12.0</td>\n",
       "      <td>12.0</td>\n",
       "      <td>12.0</td>\n",
       "      <td>12.0</td>\n",
       "      <td>12.0</td>\n",
       "      <td>12.0</td>\n",
       "      <td>12.0</td>\n",
       "      <td>12.0</td>\n",
       "    </tr>\n",
       "    <tr>\n",
       "      <th>DAY_OF_WEEK</th>\n",
       "      <td>3.0</td>\n",
       "      <td>6.0</td>\n",
       "      <td>4.0</td>\n",
       "      <td>6.0</td>\n",
       "      <td>7.0</td>\n",
       "      <td>1.0</td>\n",
       "      <td>2.0</td>\n",
       "      <td>4.0</td>\n",
       "      <td>5.0</td>\n",
       "      <td>4.0</td>\n",
       "      <td>...</td>\n",
       "      <td>4.0</td>\n",
       "      <td>4.0</td>\n",
       "      <td>3.0</td>\n",
       "      <td>2.0</td>\n",
       "      <td>1.0</td>\n",
       "      <td>2.0</td>\n",
       "      <td>1.0</td>\n",
       "      <td>7.0</td>\n",
       "      <td>5.0</td>\n",
       "      <td>4.0</td>\n",
       "    </tr>\n",
       "    <tr>\n",
       "      <th>CRS_DEP_TIME</th>\n",
       "      <td>22.0</td>\n",
       "      <td>22.0</td>\n",
       "      <td>22.0</td>\n",
       "      <td>22.0</td>\n",
       "      <td>22.0</td>\n",
       "      <td>22.0</td>\n",
       "      <td>22.0</td>\n",
       "      <td>22.0</td>\n",
       "      <td>22.0</td>\n",
       "      <td>22.0</td>\n",
       "      <td>...</td>\n",
       "      <td>15.0</td>\n",
       "      <td>8.0</td>\n",
       "      <td>8.0</td>\n",
       "      <td>8.0</td>\n",
       "      <td>8.0</td>\n",
       "      <td>8.0</td>\n",
       "      <td>22.0</td>\n",
       "      <td>22.0</td>\n",
       "      <td>8.0</td>\n",
       "      <td>22.0</td>\n",
       "    </tr>\n",
       "    <tr>\n",
       "      <th>DEP_DELAY</th>\n",
       "      <td>28.0</td>\n",
       "      <td>90.0</td>\n",
       "      <td>32.0</td>\n",
       "      <td>24.0</td>\n",
       "      <td>-1.0</td>\n",
       "      <td>0.0</td>\n",
       "      <td>-9.0</td>\n",
       "      <td>17.0</td>\n",
       "      <td>2.0</td>\n",
       "      <td>1.0</td>\n",
       "      <td>...</td>\n",
       "      <td>81.0</td>\n",
       "      <td>23.0</td>\n",
       "      <td>-1.0</td>\n",
       "      <td>-6.0</td>\n",
       "      <td>14.0</td>\n",
       "      <td>10.0</td>\n",
       "      <td>-5.0</td>\n",
       "      <td>0.0</td>\n",
       "      <td>35.0</td>\n",
       "      <td>0.0</td>\n",
       "    </tr>\n",
       "    <tr>\n",
       "      <th>TAXI_OUT</th>\n",
       "      <td>26.0</td>\n",
       "      <td>12.0</td>\n",
       "      <td>17.0</td>\n",
       "      <td>16.0</td>\n",
       "      <td>29.0</td>\n",
       "      <td>16.0</td>\n",
       "      <td>19.0</td>\n",
       "      <td>24.0</td>\n",
       "      <td>23.0</td>\n",
       "      <td>31.0</td>\n",
       "      <td>...</td>\n",
       "      <td>20.0</td>\n",
       "      <td>29.0</td>\n",
       "      <td>39.0</td>\n",
       "      <td>36.0</td>\n",
       "      <td>45.0</td>\n",
       "      <td>21.0</td>\n",
       "      <td>29.0</td>\n",
       "      <td>27.0</td>\n",
       "      <td>29.0</td>\n",
       "      <td>27.0</td>\n",
       "    </tr>\n",
       "    <tr>\n",
       "      <th>TAXI_IN</th>\n",
       "      <td>3.0</td>\n",
       "      <td>5.0</td>\n",
       "      <td>4.0</td>\n",
       "      <td>6.0</td>\n",
       "      <td>4.0</td>\n",
       "      <td>6.0</td>\n",
       "      <td>5.0</td>\n",
       "      <td>3.0</td>\n",
       "      <td>3.0</td>\n",
       "      <td>7.0</td>\n",
       "      <td>...</td>\n",
       "      <td>5.0</td>\n",
       "      <td>6.0</td>\n",
       "      <td>5.0</td>\n",
       "      <td>5.0</td>\n",
       "      <td>8.0</td>\n",
       "      <td>11.0</td>\n",
       "      <td>11.0</td>\n",
       "      <td>7.0</td>\n",
       "      <td>10.0</td>\n",
       "      <td>5.0</td>\n",
       "    </tr>\n",
       "    <tr>\n",
       "      <th>CRS_ARR_TIME</th>\n",
       "      <td>6.0</td>\n",
       "      <td>6.0</td>\n",
       "      <td>7.0</td>\n",
       "      <td>7.0</td>\n",
       "      <td>7.0</td>\n",
       "      <td>7.0</td>\n",
       "      <td>7.0</td>\n",
       "      <td>7.0</td>\n",
       "      <td>7.0</td>\n",
       "      <td>7.0</td>\n",
       "      <td>...</td>\n",
       "      <td>0.0</td>\n",
       "      <td>17.0</td>\n",
       "      <td>16.0</td>\n",
       "      <td>16.0</td>\n",
       "      <td>16.0</td>\n",
       "      <td>16.0</td>\n",
       "      <td>7.0</td>\n",
       "      <td>7.0</td>\n",
       "      <td>16.0</td>\n",
       "      <td>7.0</td>\n",
       "    </tr>\n",
       "    <tr>\n",
       "      <th>ARR_DEL15</th>\n",
       "      <td>0.0</td>\n",
       "      <td>1.0</td>\n",
       "      <td>0.0</td>\n",
       "      <td>0.0</td>\n",
       "      <td>1.0</td>\n",
       "      <td>0.0</td>\n",
       "      <td>0.0</td>\n",
       "      <td>1.0</td>\n",
       "      <td>0.0</td>\n",
       "      <td>1.0</td>\n",
       "      <td>...</td>\n",
       "      <td>1.0</td>\n",
       "      <td>1.0</td>\n",
       "      <td>1.0</td>\n",
       "      <td>0.0</td>\n",
       "      <td>1.0</td>\n",
       "      <td>0.0</td>\n",
       "      <td>0.0</td>\n",
       "      <td>0.0</td>\n",
       "      <td>1.0</td>\n",
       "      <td>1.0</td>\n",
       "    </tr>\n",
       "    <tr>\n",
       "      <th>DIVERTED</th>\n",
       "      <td>0.0</td>\n",
       "      <td>0.0</td>\n",
       "      <td>0.0</td>\n",
       "      <td>0.0</td>\n",
       "      <td>0.0</td>\n",
       "      <td>0.0</td>\n",
       "      <td>0.0</td>\n",
       "      <td>0.0</td>\n",
       "      <td>0.0</td>\n",
       "      <td>0.0</td>\n",
       "      <td>...</td>\n",
       "      <td>0.0</td>\n",
       "      <td>0.0</td>\n",
       "      <td>0.0</td>\n",
       "      <td>0.0</td>\n",
       "      <td>0.0</td>\n",
       "      <td>0.0</td>\n",
       "      <td>0.0</td>\n",
       "      <td>0.0</td>\n",
       "      <td>0.0</td>\n",
       "      <td>0.0</td>\n",
       "    </tr>\n",
       "    <tr>\n",
       "      <th>CARRIER_DELAY</th>\n",
       "      <td>0.0</td>\n",
       "      <td>30.0</td>\n",
       "      <td>0.0</td>\n",
       "      <td>0.0</td>\n",
       "      <td>0.0</td>\n",
       "      <td>0.0</td>\n",
       "      <td>0.0</td>\n",
       "      <td>8.0</td>\n",
       "      <td>0.0</td>\n",
       "      <td>1.0</td>\n",
       "      <td>...</td>\n",
       "      <td>5.0</td>\n",
       "      <td>20.0</td>\n",
       "      <td>0.0</td>\n",
       "      <td>0.0</td>\n",
       "      <td>14.0</td>\n",
       "      <td>0.0</td>\n",
       "      <td>0.0</td>\n",
       "      <td>0.0</td>\n",
       "      <td>35.0</td>\n",
       "      <td>0.0</td>\n",
       "    </tr>\n",
       "    <tr>\n",
       "      <th>WEATHER_DELAY</th>\n",
       "      <td>0.0</td>\n",
       "      <td>0.0</td>\n",
       "      <td>0.0</td>\n",
       "      <td>0.0</td>\n",
       "      <td>0.0</td>\n",
       "      <td>0.0</td>\n",
       "      <td>0.0</td>\n",
       "      <td>0.0</td>\n",
       "      <td>0.0</td>\n",
       "      <td>0.0</td>\n",
       "      <td>...</td>\n",
       "      <td>0.0</td>\n",
       "      <td>0.0</td>\n",
       "      <td>0.0</td>\n",
       "      <td>0.0</td>\n",
       "      <td>0.0</td>\n",
       "      <td>0.0</td>\n",
       "      <td>0.0</td>\n",
       "      <td>0.0</td>\n",
       "      <td>0.0</td>\n",
       "      <td>0.0</td>\n",
       "    </tr>\n",
       "    <tr>\n",
       "      <th>NAS_DELAY</th>\n",
       "      <td>0.0</td>\n",
       "      <td>0.0</td>\n",
       "      <td>0.0</td>\n",
       "      <td>0.0</td>\n",
       "      <td>16.0</td>\n",
       "      <td>0.0</td>\n",
       "      <td>0.0</td>\n",
       "      <td>13.0</td>\n",
       "      <td>0.0</td>\n",
       "      <td>22.0</td>\n",
       "      <td>...</td>\n",
       "      <td>0.0</td>\n",
       "      <td>0.0</td>\n",
       "      <td>24.0</td>\n",
       "      <td>0.0</td>\n",
       "      <td>4.0</td>\n",
       "      <td>0.0</td>\n",
       "      <td>0.0</td>\n",
       "      <td>0.0</td>\n",
       "      <td>13.0</td>\n",
       "      <td>20.0</td>\n",
       "    </tr>\n",
       "    <tr>\n",
       "      <th>SECURITY_DELAY</th>\n",
       "      <td>0.0</td>\n",
       "      <td>0.0</td>\n",
       "      <td>0.0</td>\n",
       "      <td>0.0</td>\n",
       "      <td>0.0</td>\n",
       "      <td>0.0</td>\n",
       "      <td>0.0</td>\n",
       "      <td>0.0</td>\n",
       "      <td>0.0</td>\n",
       "      <td>0.0</td>\n",
       "      <td>...</td>\n",
       "      <td>0.0</td>\n",
       "      <td>0.0</td>\n",
       "      <td>0.0</td>\n",
       "      <td>0.0</td>\n",
       "      <td>0.0</td>\n",
       "      <td>0.0</td>\n",
       "      <td>0.0</td>\n",
       "      <td>0.0</td>\n",
       "      <td>0.0</td>\n",
       "      <td>0.0</td>\n",
       "    </tr>\n",
       "    <tr>\n",
       "      <th>LATE_AIRCRAFT_DELAY</th>\n",
       "      <td>0.0</td>\n",
       "      <td>36.0</td>\n",
       "      <td>0.0</td>\n",
       "      <td>0.0</td>\n",
       "      <td>0.0</td>\n",
       "      <td>0.0</td>\n",
       "      <td>0.0</td>\n",
       "      <td>9.0</td>\n",
       "      <td>0.0</td>\n",
       "      <td>0.0</td>\n",
       "      <td>...</td>\n",
       "      <td>48.0</td>\n",
       "      <td>0.0</td>\n",
       "      <td>0.0</td>\n",
       "      <td>0.0</td>\n",
       "      <td>0.0</td>\n",
       "      <td>0.0</td>\n",
       "      <td>0.0</td>\n",
       "      <td>0.0</td>\n",
       "      <td>0.0</td>\n",
       "      <td>0.0</td>\n",
       "    </tr>\n",
       "    <tr>\n",
       "      <th>DelayedDepartureSFO</th>\n",
       "      <td>1.0</td>\n",
       "      <td>0.0</td>\n",
       "      <td>0.0</td>\n",
       "      <td>0.0</td>\n",
       "      <td>1.0</td>\n",
       "      <td>0.0</td>\n",
       "      <td>0.0</td>\n",
       "      <td>0.0</td>\n",
       "      <td>0.0</td>\n",
       "      <td>0.0</td>\n",
       "      <td>...</td>\n",
       "      <td>0.0</td>\n",
       "      <td>13.0</td>\n",
       "      <td>0.0</td>\n",
       "      <td>13.0</td>\n",
       "      <td>0.0</td>\n",
       "      <td>5.0</td>\n",
       "      <td>0.0</td>\n",
       "      <td>15.0</td>\n",
       "      <td>0.0</td>\n",
       "      <td>11.0</td>\n",
       "    </tr>\n",
       "    <tr>\n",
       "      <th>ScheduledDepartureSFO</th>\n",
       "      <td>6.0</td>\n",
       "      <td>0.0</td>\n",
       "      <td>3.0</td>\n",
       "      <td>0.0</td>\n",
       "      <td>1.0</td>\n",
       "      <td>0.0</td>\n",
       "      <td>1.0</td>\n",
       "      <td>0.0</td>\n",
       "      <td>1.0</td>\n",
       "      <td>0.0</td>\n",
       "      <td>...</td>\n",
       "      <td>0.0</td>\n",
       "      <td>32.0</td>\n",
       "      <td>0.0</td>\n",
       "      <td>32.0</td>\n",
       "      <td>0.0</td>\n",
       "      <td>31.0</td>\n",
       "      <td>0.0</td>\n",
       "      <td>29.0</td>\n",
       "      <td>0.0</td>\n",
       "      <td>20.0</td>\n",
       "    </tr>\n",
       "    <tr>\n",
       "      <th>DelayedArrivalPHL</th>\n",
       "      <td>2.0</td>\n",
       "      <td>0.0</td>\n",
       "      <td>5.0</td>\n",
       "      <td>0.0</td>\n",
       "      <td>2.0</td>\n",
       "      <td>0.0</td>\n",
       "      <td>3.0</td>\n",
       "      <td>0.0</td>\n",
       "      <td>1.0</td>\n",
       "      <td>0.0</td>\n",
       "      <td>...</td>\n",
       "      <td>0.0</td>\n",
       "      <td>7.0</td>\n",
       "      <td>0.0</td>\n",
       "      <td>7.0</td>\n",
       "      <td>0.0</td>\n",
       "      <td>2.0</td>\n",
       "      <td>0.0</td>\n",
       "      <td>6.0</td>\n",
       "      <td>0.0</td>\n",
       "      <td>8.0</td>\n",
       "    </tr>\n",
       "    <tr>\n",
       "      <th>ScheduledArrivalPHL</th>\n",
       "      <td>15.0</td>\n",
       "      <td>0.0</td>\n",
       "      <td>15.0</td>\n",
       "      <td>0.0</td>\n",
       "      <td>10.0</td>\n",
       "      <td>0.0</td>\n",
       "      <td>10.0</td>\n",
       "      <td>0.0</td>\n",
       "      <td>10.0</td>\n",
       "      <td>0.0</td>\n",
       "      <td>...</td>\n",
       "      <td>0.0</td>\n",
       "      <td>21.0</td>\n",
       "      <td>0.0</td>\n",
       "      <td>21.0</td>\n",
       "      <td>0.0</td>\n",
       "      <td>20.0</td>\n",
       "      <td>0.0</td>\n",
       "      <td>22.0</td>\n",
       "      <td>0.0</td>\n",
       "      <td>39.0</td>\n",
       "    </tr>\n",
       "  </tbody>\n",
       "</table>\n",
       "<p>19 rows × 968 columns</p>\n",
       "</div>"
      ],
      "text/plain": [
       "                        0     1     2     3     4     5     6     7     8    \\\n",
       "QUARTER                 1.0   1.0   1.0   1.0   1.0   1.0   1.0   1.0   1.0   \n",
       "MONTH                   1.0   1.0   1.0   1.0   1.0   1.0   1.0   1.0   1.0   \n",
       "DAY_OF_WEEK             3.0   6.0   4.0   6.0   7.0   1.0   2.0   4.0   5.0   \n",
       "CRS_DEP_TIME           22.0  22.0  22.0  22.0  22.0  22.0  22.0  22.0  22.0   \n",
       "DEP_DELAY              28.0  90.0  32.0  24.0  -1.0   0.0  -9.0  17.0   2.0   \n",
       "TAXI_OUT               26.0  12.0  17.0  16.0  29.0  16.0  19.0  24.0  23.0   \n",
       "TAXI_IN                 3.0   5.0   4.0   6.0   4.0   6.0   5.0   3.0   3.0   \n",
       "CRS_ARR_TIME            6.0   6.0   7.0   7.0   7.0   7.0   7.0   7.0   7.0   \n",
       "ARR_DEL15               0.0   1.0   0.0   0.0   1.0   0.0   0.0   1.0   0.0   \n",
       "DIVERTED                0.0   0.0   0.0   0.0   0.0   0.0   0.0   0.0   0.0   \n",
       "CARRIER_DELAY           0.0  30.0   0.0   0.0   0.0   0.0   0.0   8.0   0.0   \n",
       "WEATHER_DELAY           0.0   0.0   0.0   0.0   0.0   0.0   0.0   0.0   0.0   \n",
       "NAS_DELAY               0.0   0.0   0.0   0.0  16.0   0.0   0.0  13.0   0.0   \n",
       "SECURITY_DELAY          0.0   0.0   0.0   0.0   0.0   0.0   0.0   0.0   0.0   \n",
       "LATE_AIRCRAFT_DELAY     0.0  36.0   0.0   0.0   0.0   0.0   0.0   9.0   0.0   \n",
       "DelayedDepartureSFO     1.0   0.0   0.0   0.0   1.0   0.0   0.0   0.0   0.0   \n",
       "ScheduledDepartureSFO   6.0   0.0   3.0   0.0   1.0   0.0   1.0   0.0   1.0   \n",
       "DelayedArrivalPHL       2.0   0.0   5.0   0.0   2.0   0.0   3.0   0.0   1.0   \n",
       "ScheduledArrivalPHL    15.0   0.0  15.0   0.0  10.0   0.0  10.0   0.0  10.0   \n",
       "\n",
       "                        9    ...    958   959   960   961   962   963   964  \\\n",
       "QUARTER                 1.0  ...    4.0   4.0   4.0   4.0   4.0   4.0   4.0   \n",
       "MONTH                   1.0  ...   12.0  12.0  12.0  12.0  12.0  12.0  12.0   \n",
       "DAY_OF_WEEK             4.0  ...    4.0   4.0   3.0   2.0   1.0   2.0   1.0   \n",
       "CRS_DEP_TIME           22.0  ...   15.0   8.0   8.0   8.0   8.0   8.0  22.0   \n",
       "DEP_DELAY               1.0  ...   81.0  23.0  -1.0  -6.0  14.0  10.0  -5.0   \n",
       "TAXI_OUT               31.0  ...   20.0  29.0  39.0  36.0  45.0  21.0  29.0   \n",
       "TAXI_IN                 7.0  ...    5.0   6.0   5.0   5.0   8.0  11.0  11.0   \n",
       "CRS_ARR_TIME            7.0  ...    0.0  17.0  16.0  16.0  16.0  16.0   7.0   \n",
       "ARR_DEL15               1.0  ...    1.0   1.0   1.0   0.0   1.0   0.0   0.0   \n",
       "DIVERTED                0.0  ...    0.0   0.0   0.0   0.0   0.0   0.0   0.0   \n",
       "CARRIER_DELAY           1.0  ...    5.0  20.0   0.0   0.0  14.0   0.0   0.0   \n",
       "WEATHER_DELAY           0.0  ...    0.0   0.0   0.0   0.0   0.0   0.0   0.0   \n",
       "NAS_DELAY              22.0  ...    0.0   0.0  24.0   0.0   4.0   0.0   0.0   \n",
       "SECURITY_DELAY          0.0  ...    0.0   0.0   0.0   0.0   0.0   0.0   0.0   \n",
       "LATE_AIRCRAFT_DELAY     0.0  ...   48.0   0.0   0.0   0.0   0.0   0.0   0.0   \n",
       "DelayedDepartureSFO     0.0  ...    0.0  13.0   0.0  13.0   0.0   5.0   0.0   \n",
       "ScheduledDepartureSFO   0.0  ...    0.0  32.0   0.0  32.0   0.0  31.0   0.0   \n",
       "DelayedArrivalPHL       0.0  ...    0.0   7.0   0.0   7.0   0.0   2.0   0.0   \n",
       "ScheduledArrivalPHL     0.0  ...    0.0  21.0   0.0  21.0   0.0  20.0   0.0   \n",
       "\n",
       "                        965   966   967  \n",
       "QUARTER                 4.0   4.0   4.0  \n",
       "MONTH                  12.0  12.0  12.0  \n",
       "DAY_OF_WEEK             7.0   5.0   4.0  \n",
       "CRS_DEP_TIME           22.0   8.0  22.0  \n",
       "DEP_DELAY               0.0  35.0   0.0  \n",
       "TAXI_OUT               27.0  29.0  27.0  \n",
       "TAXI_IN                 7.0  10.0   5.0  \n",
       "CRS_ARR_TIME            7.0  16.0   7.0  \n",
       "ARR_DEL15               0.0   1.0   1.0  \n",
       "DIVERTED                0.0   0.0   0.0  \n",
       "CARRIER_DELAY           0.0  35.0   0.0  \n",
       "WEATHER_DELAY           0.0   0.0   0.0  \n",
       "NAS_DELAY               0.0  13.0  20.0  \n",
       "SECURITY_DELAY          0.0   0.0   0.0  \n",
       "LATE_AIRCRAFT_DELAY     0.0   0.0   0.0  \n",
       "DelayedDepartureSFO    15.0   0.0  11.0  \n",
       "ScheduledDepartureSFO  29.0   0.0  20.0  \n",
       "DelayedArrivalPHL       6.0   0.0   8.0  \n",
       "ScheduledArrivalPHL    22.0   0.0  39.0  \n",
       "\n",
       "[19 rows x 968 columns]"
      ]
     },
     "execution_count": 5,
     "metadata": {},
     "output_type": "execute_result"
    }
   ],
   "source": [
    "flights_df = flights_df.drop(['DAY_OF_MONTH'],axis=1)\n",
    "flights_df.transpose()"
   ]
  },
  {
   "cell_type": "markdown",
   "metadata": {},
   "source": [
    "### Train and Test Data"
   ]
  },
  {
   "cell_type": "markdown",
   "metadata": {},
   "source": [
    "Let the five delay causes (CARRIER_DELAY, WEATHER_DELAY, NAS_DELAY, SECURITY_DELAY, LATE_AIRCRAFT_DELAY) and the variable we are looking to explain (ARR_DEL15) be nodes. We must perform regression analysis to determine dependency relationships."
   ]
  },
  {
   "cell_type": "code",
   "execution_count": 6,
   "metadata": {},
   "outputs": [],
   "source": [
    "# 20% test data\n",
    "from sklearn.model_selection import train_test_split\n",
    "# 774 train data, 194 test data\n",
    "train_df,test_df = train_test_split(flights_df, test_size=0.2)"
   ]
  },
  {
   "cell_type": "markdown",
   "metadata": {},
   "source": [
    "## Finding Dependencies: Regression Analysis"
   ]
  },
  {
   "cell_type": "markdown",
   "metadata": {},
   "source": [
    "We use the Ordinary Least Squares (OLS) method to find dependencies, starting with what we know to be the final outcome: ARR_DEL15 (which is 0 if the flight does not arrive more than 15 minutes late, 1 otherwise). As we find dependencies, we will also be making sure that we are not creating any accidental cycles."
   ]
  },
  {
   "cell_type": "markdown",
   "metadata": {},
   "source": [
    "### ARR_DEL15"
   ]
  },
  {
   "cell_type": "code",
   "execution_count": 7,
   "metadata": {},
   "outputs": [
    {
     "data": {
      "text/html": [
       "<table class=\"simpletable\">\n",
       "<caption>OLS Regression Results</caption>\n",
       "<tr>\n",
       "  <th>Dep. Variable:</th>        <td>ARR_DEL15</td>    <th>  R-squared:         </th> <td>   0.746</td> \n",
       "</tr>\n",
       "<tr>\n",
       "  <th>Model:</th>                   <td>OLS</td>       <th>  Adj. R-squared:    </th> <td>   0.744</td> \n",
       "</tr>\n",
       "<tr>\n",
       "  <th>Method:</th>             <td>Least Squares</td>  <th>  F-statistic:       </th> <td>   375.2</td> \n",
       "</tr>\n",
       "<tr>\n",
       "  <th>Date:</th>             <td>Thu, 29 Mar 2018</td> <th>  Prob (F-statistic):</th> <td>2.09e-224</td>\n",
       "</tr>\n",
       "<tr>\n",
       "  <th>Time:</th>                 <td>04:37:34</td>     <th>  Log-Likelihood:    </th> <td> -330.98</td> \n",
       "</tr>\n",
       "<tr>\n",
       "  <th>No. Observations:</th>      <td>   774</td>      <th>  AIC:               </th> <td>   674.0</td> \n",
       "</tr>\n",
       "<tr>\n",
       "  <th>Df Residuals:</th>          <td>   768</td>      <th>  BIC:               </th> <td>   701.9</td> \n",
       "</tr>\n",
       "<tr>\n",
       "  <th>Df Model:</th>              <td>     6</td>      <th>                     </th>     <td> </td>    \n",
       "</tr>\n",
       "<tr>\n",
       "  <th>Covariance Type:</th>      <td>nonrobust</td>    <th>                     </th>     <td> </td>    \n",
       "</tr>\n",
       "</table>\n",
       "<table class=\"simpletable\">\n",
       "<tr>\n",
       "           <td></td>              <th>coef</th>     <th>std err</th>      <th>t</th>      <th>P>|t|</th>  <th>[0.025</th>    <th>0.975]</th>  \n",
       "</tr>\n",
       "<tr>\n",
       "  <th>CRS_DEP_TIME</th>        <td>    0.0151</td> <td>    0.001</td> <td>   11.662</td> <td> 0.000</td> <td>    0.013</td> <td>    0.018</td>\n",
       "</tr>\n",
       "<tr>\n",
       "  <th>DEP_DELAY</th>           <td>   -0.0038</td> <td>    0.001</td> <td>   -4.667</td> <td> 0.000</td> <td>   -0.005</td> <td>   -0.002</td>\n",
       "</tr>\n",
       "<tr>\n",
       "  <th>CRS_ARR_TIME</th>        <td>    0.0081</td> <td>    0.001</td> <td>    5.738</td> <td> 0.000</td> <td>    0.005</td> <td>    0.011</td>\n",
       "</tr>\n",
       "<tr>\n",
       "  <th>CARRIER_DELAY</th>       <td>    0.0112</td> <td>    0.001</td> <td>   10.603</td> <td> 0.000</td> <td>    0.009</td> <td>    0.013</td>\n",
       "</tr>\n",
       "<tr>\n",
       "  <th>NAS_DELAY</th>           <td>    0.0135</td> <td>    0.001</td> <td>   17.825</td> <td> 0.000</td> <td>    0.012</td> <td>    0.015</td>\n",
       "</tr>\n",
       "<tr>\n",
       "  <th>LATE_AIRCRAFT_DELAY</th> <td>    0.0120</td> <td>    0.001</td> <td>   10.550</td> <td> 0.000</td> <td>    0.010</td> <td>    0.014</td>\n",
       "</tr>\n",
       "</table>\n",
       "<table class=\"simpletable\">\n",
       "<tr>\n",
       "  <th>Omnibus:</th>       <td> 4.015</td> <th>  Durbin-Watson:     </th> <td>   2.066</td>\n",
       "</tr>\n",
       "<tr>\n",
       "  <th>Prob(Omnibus):</th> <td> 0.134</td> <th>  Jarque-Bera (JB):  </th> <td>   3.883</td>\n",
       "</tr>\n",
       "<tr>\n",
       "  <th>Skew:</th>          <td>-0.170</td> <th>  Prob(JB):          </th> <td>   0.144</td>\n",
       "</tr>\n",
       "<tr>\n",
       "  <th>Kurtosis:</th>      <td> 3.073</td> <th>  Cond. No.          </th> <td>    6.66</td>\n",
       "</tr>\n",
       "</table>"
      ],
      "text/plain": [
       "<class 'statsmodels.iolib.summary.Summary'>\n",
       "\"\"\"\n",
       "                            OLS Regression Results                            \n",
       "==============================================================================\n",
       "Dep. Variable:              ARR_DEL15   R-squared:                       0.746\n",
       "Model:                            OLS   Adj. R-squared:                  0.744\n",
       "Method:                 Least Squares   F-statistic:                     375.2\n",
       "Date:                Thu, 29 Mar 2018   Prob (F-statistic):          2.09e-224\n",
       "Time:                        04:37:34   Log-Likelihood:                -330.98\n",
       "No. Observations:                 774   AIC:                             674.0\n",
       "Df Residuals:                     768   BIC:                             701.9\n",
       "Df Model:                           6                                         \n",
       "Covariance Type:            nonrobust                                         \n",
       "=======================================================================================\n",
       "                          coef    std err          t      P>|t|      [0.025      0.975]\n",
       "---------------------------------------------------------------------------------------\n",
       "CRS_DEP_TIME            0.0151      0.001     11.662      0.000       0.013       0.018\n",
       "DEP_DELAY              -0.0038      0.001     -4.667      0.000      -0.005      -0.002\n",
       "CRS_ARR_TIME            0.0081      0.001      5.738      0.000       0.005       0.011\n",
       "CARRIER_DELAY           0.0112      0.001     10.603      0.000       0.009       0.013\n",
       "NAS_DELAY               0.0135      0.001     17.825      0.000       0.012       0.015\n",
       "LATE_AIRCRAFT_DELAY     0.0120      0.001     10.550      0.000       0.010       0.014\n",
       "==============================================================================\n",
       "Omnibus:                        4.015   Durbin-Watson:                   2.066\n",
       "Prob(Omnibus):                  0.134   Jarque-Bera (JB):                3.883\n",
       "Skew:                          -0.170   Prob(JB):                        0.144\n",
       "Kurtosis:                       3.073   Cond. No.                         6.66\n",
       "==============================================================================\n",
       "\n",
       "Warnings:\n",
       "[1] Standard Errors assume that the covariance matrix of the errors is correctly specified.\n",
       "\"\"\""
      ]
     },
     "execution_count": 7,
     "metadata": {},
     "output_type": "execute_result"
    }
   ],
   "source": [
    "arr_15_from = ['CRS_DEP_TIME','DEP_DELAY','CRS_ARR_TIME','CARRIER_DELAY','NAS_DELAY','LATE_AIRCRAFT_DELAY']\n",
    "X = train_df[arr_15_from]\n",
    "y = train_df['ARR_DEL15']\n",
    "\n",
    "model = sm.OLS(y, X).fit()\n",
    "predictions = model.predict(X) # make the predictions by the model\n",
    "\n",
    "# Print out the statistics\n",
    "model.summary()"
   ]
  },
  {
   "cell_type": "code",
   "execution_count": 8,
   "metadata": {},
   "outputs": [
    {
     "data": {
      "image/png": "[encoded data removed]",
      "text/plain": [
       "<matplotlib.figure.Figure at 0x7f046cfa24a8>"
      ]
     },
     "metadata": {},
     "output_type": "display_data"
    }
   ],
   "source": [
    "# update flights_edges_df with from_node to to_node entries\n",
    "flights_edges_dict = dict()\n",
    "for node in arr_15_from:\n",
    "    flights_edges_dict[node] = 'ARR_DEL15'\n",
    "flight_edges_df = pd.DataFrame(list(flights_edges_dict.items()), columns=['from_node', 'to_node'])\n",
    "\n",
    "# create network\n",
    "bn = nx.from_pandas_edgelist(flight_edges_df,source='from_node',target='to_node',create_using=nx.DiGraph())\n",
    "# draw graph\n",
    "bn_edges = [edge for edge in bn.edges()]\n",
    "pos = nx.spring_layout(bn)\n",
    "nx.draw_networkx_nodes(bn, pos, cmap=plt.get_cmap('jet'), node_size = 200,alpha=0.3)\n",
    "nx.draw_networkx_labels(bn, pos,font_size='10')\n",
    "nx.draw_networkx_edges(bn, pos, edgelist=bn_edges, edge_color='b',style='dot', arrows=True,arrow_size = 15,alpha=0.5)\n",
    "plt.show()"
   ]
  },
  {
   "cell_type": "markdown",
   "metadata": {},
   "source": [
    "Using regressional analysis, we conclude that ARR_DEL15 is dependent on six factors. So far, we do not have any cycles (remember that a Bayesian network consists of a directed acyclic graph), so we may proceed by moving onto finding more dependencies by choosing an arbitrary parent of ARR_DEL15."
   ]
  },
  {
   "cell_type": "markdown",
   "metadata": {},
   "source": [
    "### NAS Delay"
   ]
  },
  {
   "cell_type": "markdown",
   "metadata": {},
   "source": [
    "Carrier Delay depends on"
   ]
  },
  {
   "cell_type": "code",
   "execution_count": 9,
   "metadata": {},
   "outputs": [
    {
     "data": {
      "text/html": [
       "<table class=\"simpletable\">\n",
       "<caption>OLS Regression Results</caption>\n",
       "<tr>\n",
       "  <th>Dep. Variable:</th>        <td>NAS_DELAY</td>    <th>  R-squared:         </th> <td>   0.653</td> \n",
       "</tr>\n",
       "<tr>\n",
       "  <th>Model:</th>                   <td>OLS</td>       <th>  Adj. R-squared:    </th> <td>   0.649</td> \n",
       "</tr>\n",
       "<tr>\n",
       "  <th>Method:</th>             <td>Least Squares</td>  <th>  F-statistic:       </th> <td>   160.1</td> \n",
       "</tr>\n",
       "<tr>\n",
       "  <th>Date:</th>             <td>Thu, 29 Mar 2018</td> <th>  Prob (F-statistic):</th> <td>2.57e-169</td>\n",
       "</tr>\n",
       "<tr>\n",
       "  <th>Time:</th>                 <td>04:37:34</td>     <th>  Log-Likelihood:    </th> <td> -3067.5</td> \n",
       "</tr>\n",
       "<tr>\n",
       "  <th>No. Observations:</th>      <td>   774</td>      <th>  AIC:               </th> <td>   6153.</td> \n",
       "</tr>\n",
       "<tr>\n",
       "  <th>Df Residuals:</th>          <td>   765</td>      <th>  BIC:               </th> <td>   6195.</td> \n",
       "</tr>\n",
       "<tr>\n",
       "  <th>Df Model:</th>              <td>     9</td>      <th>                     </th>     <td> </td>    \n",
       "</tr>\n",
       "<tr>\n",
       "  <th>Covariance Type:</th>      <td>nonrobust</td>    <th>                     </th>     <td> </td>    \n",
       "</tr>\n",
       "</table>\n",
       "<table class=\"simpletable\">\n",
       "<tr>\n",
       "           <td></td>              <th>coef</th>     <th>std err</th>      <th>t</th>      <th>P>|t|</th>  <th>[0.025</th>    <th>0.975]</th>  \n",
       "</tr>\n",
       "<tr>\n",
       "  <th>QUARTER</th>             <td>   -1.6679</td> <td>    0.417</td> <td>   -4.002</td> <td> 0.000</td> <td>   -2.486</td> <td>   -0.850</td>\n",
       "</tr>\n",
       "<tr>\n",
       "  <th>CRS_DEP_TIME</th>        <td>   -0.6837</td> <td>    0.067</td> <td>  -10.252</td> <td> 0.000</td> <td>   -0.815</td> <td>   -0.553</td>\n",
       "</tr>\n",
       "<tr>\n",
       "  <th>DEP_DELAY</th>           <td>    0.6636</td> <td>    0.028</td> <td>   23.729</td> <td> 0.000</td> <td>    0.609</td> <td>    0.719</td>\n",
       "</tr>\n",
       "<tr>\n",
       "  <th>TAXI_OUT</th>            <td>    0.8510</td> <td>    0.041</td> <td>   20.767</td> <td> 0.000</td> <td>    0.771</td> <td>    0.931</td>\n",
       "</tr>\n",
       "<tr>\n",
       "  <th>TAXI_IN</th>             <td>    0.8638</td> <td>    0.053</td> <td>   16.244</td> <td> 0.000</td> <td>    0.759</td> <td>    0.968</td>\n",
       "</tr>\n",
       "<tr>\n",
       "  <th>CRS_ARR_TIME</th>        <td>   -0.7735</td> <td>    0.076</td> <td>  -10.123</td> <td> 0.000</td> <td>   -0.923</td> <td>   -0.623</td>\n",
       "</tr>\n",
       "<tr>\n",
       "  <th>DIVERTED</th>            <td>-2.772e-16</td> <td> 7.03e-17</td> <td>   -3.944</td> <td> 0.000</td> <td>-4.15e-16</td> <td>-1.39e-16</td>\n",
       "</tr>\n",
       "<tr>\n",
       "  <th>CARRIER_DELAY</th>       <td>   -0.6998</td> <td>    0.036</td> <td>  -19.617</td> <td> 0.000</td> <td>   -0.770</td> <td>   -0.630</td>\n",
       "</tr>\n",
       "<tr>\n",
       "  <th>WEATHER_DELAY</th>       <td>   -0.6107</td> <td>    0.081</td> <td>   -7.541</td> <td> 0.000</td> <td>   -0.770</td> <td>   -0.452</td>\n",
       "</tr>\n",
       "<tr>\n",
       "  <th>LATE_AIRCRAFT_DELAY</th> <td>   -0.7300</td> <td>    0.038</td> <td>  -19.121</td> <td> 0.000</td> <td>   -0.805</td> <td>   -0.655</td>\n",
       "</tr>\n",
       "</table>\n",
       "<table class=\"simpletable\">\n",
       "<tr>\n",
       "  <th>Omnibus:</th>       <td>117.269</td> <th>  Durbin-Watson:     </th> <td>   1.987</td>\n",
       "</tr>\n",
       "<tr>\n",
       "  <th>Prob(Omnibus):</th> <td> 0.000</td>  <th>  Jarque-Bera (JB):  </th> <td> 248.478</td>\n",
       "</tr>\n",
       "<tr>\n",
       "  <th>Skew:</th>          <td> 0.858</td>  <th>  Prob(JB):          </th> <td>1.11e-54</td>\n",
       "</tr>\n",
       "<tr>\n",
       "  <th>Kurtosis:</th>      <td> 5.182</td>  <th>  Cond. No.          </th> <td>7.31e+17</td>\n",
       "</tr>\n",
       "</table>"
      ],
      "text/plain": [
       "<class 'statsmodels.iolib.summary.Summary'>\n",
       "\"\"\"\n",
       "                            OLS Regression Results                            \n",
       "==============================================================================\n",
       "Dep. Variable:              NAS_DELAY   R-squared:                       0.653\n",
       "Model:                            OLS   Adj. R-squared:                  0.649\n",
       "Method:                 Least Squares   F-statistic:                     160.1\n",
       "Date:                Thu, 29 Mar 2018   Prob (F-statistic):          2.57e-169\n",
       "Time:                        04:37:34   Log-Likelihood:                -3067.5\n",
       "No. Observations:                 774   AIC:                             6153.\n",
       "Df Residuals:                     765   BIC:                             6195.\n",
       "Df Model:                           9                                         \n",
       "Covariance Type:            nonrobust                                         \n",
       "=======================================================================================\n",
       "                          coef    std err          t      P>|t|      [0.025      0.975]\n",
       "---------------------------------------------------------------------------------------\n",
       "QUARTER                -1.6679      0.417     -4.002      0.000      -2.486      -0.850\n",
       "CRS_DEP_TIME           -0.6837      0.067    -10.252      0.000      -0.815      -0.553\n",
       "DEP_DELAY               0.6636      0.028     23.729      0.000       0.609       0.719\n",
       "TAXI_OUT                0.8510      0.041     20.767      0.000       0.771       0.931\n",
       "TAXI_IN                 0.8638      0.053     16.244      0.000       0.759       0.968\n",
       "CRS_ARR_TIME           -0.7735      0.076    -10.123      0.000      -0.923      -0.623\n",
       "DIVERTED            -2.772e-16   7.03e-17     -3.944      0.000   -4.15e-16   -1.39e-16\n",
       "CARRIER_DELAY          -0.6998      0.036    -19.617      0.000      -0.770      -0.630\n",
       "WEATHER_DELAY          -0.6107      0.081     -7.541      0.000      -0.770      -0.452\n",
       "LATE_AIRCRAFT_DELAY    -0.7300      0.038    -19.121      0.000      -0.805      -0.655\n",
       "==============================================================================\n",
       "Omnibus:                      117.269   Durbin-Watson:                   1.987\n",
       "Prob(Omnibus):                  0.000   Jarque-Bera (JB):              248.478\n",
       "Skew:                           0.858   Prob(JB):                     1.11e-54\n",
       "Kurtosis:                       5.182   Cond. No.                     7.31e+17\n",
       "==============================================================================\n",
       "\n",
       "Warnings:\n",
       "[1] Standard Errors assume that the covariance matrix of the errors is correctly specified.\n",
       "[2] The smallest eigenvalue is 4.11e-30. This might indicate that there are\n",
       "strong multicollinearity problems or that the design matrix is singular.\n",
       "\"\"\""
      ]
     },
     "execution_count": 9,
     "metadata": {},
     "output_type": "execute_result"
    }
   ],
   "source": [
    "nas_delay_from = ['QUARTER','CRS_DEP_TIME','DEP_DELAY','TAXI_OUT','TAXI_IN','CRS_ARR_TIME','DIVERTED','CARRIER_DELAY','WEATHER_DELAY','LATE_AIRCRAFT_DELAY',]\n",
    "\n",
    "X = train_df[nas_delay_from]\n",
    "y = train_df['NAS_DELAY']\n",
    "\n",
    "model = sm.OLS(y, X).fit()\n",
    "predictions = model.predict(X) # make the predictions by the model\n",
    "\n",
    "# Print out the statistics\n",
    "model.summary()"
   ]
  },
  {
   "cell_type": "code",
   "execution_count": 10,
   "metadata": {},
   "outputs": [
    {
     "data": {
      "image/png": "[encoded data removed]",
      "text/plain": [
       "<matplotlib.figure.Figure at 0x7f04695f47b8>"
      ]
     },
     "metadata": {},
     "output_type": "display_data"
    }
   ],
   "source": [
    "# update flights_edges_df with from_node to to_node entries\n",
    "flights_edges_dict = dict()\n",
    "for node in nas_delay_from:\n",
    "    flights_edges_dict[node] = 'NAS_DELAY'\n",
    "temp_df = pd.DataFrame(list(flights_edges_dict.items()), columns=['from_node', 'to_node'])\n",
    "flight_edges_df = pd.concat([flight_edges_df, temp_df]).reset_index()\n",
    "flight_edges_df = flight_edges_df.drop(['index'], axis=1)\n",
    "\n",
    "# create network\n",
    "bn = nx.from_pandas_edgelist(flight_edges_df,source='from_node',target='to_node',create_using=nx.DiGraph())\n",
    "# draw graph\n",
    "bn_edges = [edge for edge in bn.edges()]\n",
    "pos = nx.spring_layout(bn)\n",
    "nx.draw_networkx_nodes(bn, pos, cmap=plt.get_cmap('jet'), node_size = 200,alpha=0.3)\n",
    "nx.draw_networkx_labels(bn, pos,font_size='10')\n",
    "nx.draw_networkx_edges(bn, pos, edgelist=bn_edges, edge_color='b',style='dot', arrows=True,arrow_size = 15,alpha=0.5)\n",
    "plt.show()"
   ]
  },
  {
   "cell_type": "markdown",
   "metadata": {},
   "source": [
    "Now, we check to make sure there are no cycles. The find_cycle function in networkx will return a list of edges for an existing cycle."
   ]
  },
  {
   "cell_type": "code",
   "execution_count": 11,
   "metadata": {},
   "outputs": [
    {
     "name": "stdout",
     "output_type": "stream",
     "text": [
      "No cycle found! You may proceed.\n"
     ]
    }
   ],
   "source": [
    "try:\n",
    "    nx.find_cycle(bn, source=None, orientation='original')\n",
    "except:\n",
    "    print('No cycle found! You may proceed.')"
   ]
  },
  {
   "cell_type": "markdown",
   "metadata": {},
   "source": [
    "### Late Aircraft Delay"
   ]
  },
  {
   "cell_type": "markdown",
   "metadata": {},
   "source": [
    "Now, we took a look at the variables that LATE_AIRCRAFT_DELAY rely on."
   ]
  },
  {
   "cell_type": "code",
   "execution_count": 12,
   "metadata": {},
   "outputs": [
    {
     "data": {
      "text/html": [
       "<table class=\"simpletable\">\n",
       "<caption>OLS Regression Results</caption>\n",
       "<tr>\n",
       "  <th>Dep. Variable:</th>    <td>LATE_AIRCRAFT_DELAY</td> <th>  R-squared:         </th> <td>   0.767</td> \n",
       "</tr>\n",
       "<tr>\n",
       "  <th>Model:</th>                    <td>OLS</td>         <th>  Adj. R-squared:    </th> <td>   0.766</td> \n",
       "</tr>\n",
       "<tr>\n",
       "  <th>Method:</th>              <td>Least Squares</td>    <th>  F-statistic:       </th> <td>   507.2</td> \n",
       "</tr>\n",
       "<tr>\n",
       "  <th>Date:</th>              <td>Thu, 29 Mar 2018</td>   <th>  Prob (F-statistic):</th> <td>1.26e-240</td>\n",
       "</tr>\n",
       "<tr>\n",
       "  <th>Time:</th>                  <td>04:37:35</td>       <th>  Log-Likelihood:    </th> <td> -2962.6</td> \n",
       "</tr>\n",
       "<tr>\n",
       "  <th>No. Observations:</th>       <td>   774</td>        <th>  AIC:               </th> <td>   5935.</td> \n",
       "</tr>\n",
       "<tr>\n",
       "  <th>Df Residuals:</th>           <td>   769</td>        <th>  BIC:               </th> <td>   5958.</td> \n",
       "</tr>\n",
       "<tr>\n",
       "  <th>Df Model:</th>               <td>     5</td>        <th>                     </th>     <td> </td>    \n",
       "</tr>\n",
       "<tr>\n",
       "  <th>Covariance Type:</th>       <td>nonrobust</td>      <th>                     </th>     <td> </td>    \n",
       "</tr>\n",
       "</table>\n",
       "<table class=\"simpletable\">\n",
       "<tr>\n",
       "        <td></td>           <th>coef</th>     <th>std err</th>      <th>t</th>      <th>P>|t|</th>  <th>[0.025</th>    <th>0.975]</th>  \n",
       "</tr>\n",
       "<tr>\n",
       "  <th>MONTH</th>         <td>    0.3366</td> <td>    0.060</td> <td>    5.642</td> <td> 0.000</td> <td>    0.220</td> <td>    0.454</td>\n",
       "</tr>\n",
       "<tr>\n",
       "  <th>DEP_DELAY</th>     <td>    0.6304</td> <td>    0.013</td> <td>   47.327</td> <td> 0.000</td> <td>    0.604</td> <td>    0.657</td>\n",
       "</tr>\n",
       "<tr>\n",
       "  <th>CARRIER_DELAY</th> <td>   -0.6880</td> <td>    0.023</td> <td>  -30.277</td> <td> 0.000</td> <td>   -0.733</td> <td>   -0.643</td>\n",
       "</tr>\n",
       "<tr>\n",
       "  <th>WEATHER_DELAY</th> <td>   -0.6432</td> <td>    0.068</td> <td>   -9.508</td> <td> 0.000</td> <td>   -0.776</td> <td>   -0.510</td>\n",
       "</tr>\n",
       "<tr>\n",
       "  <th>NAS_DELAY</th>     <td>   -0.2509</td> <td>    0.021</td> <td>  -12.034</td> <td> 0.000</td> <td>   -0.292</td> <td>   -0.210</td>\n",
       "</tr>\n",
       "</table>\n",
       "<table class=\"simpletable\">\n",
       "<tr>\n",
       "  <th>Omnibus:</th>       <td>277.191</td> <th>  Durbin-Watson:     </th> <td>   2.091</td> \n",
       "</tr>\n",
       "<tr>\n",
       "  <th>Prob(Omnibus):</th> <td> 0.000</td>  <th>  Jarque-Bera (JB):  </th> <td>10818.400</td>\n",
       "</tr>\n",
       "<tr>\n",
       "  <th>Skew:</th>          <td>-0.894</td>  <th>  Prob(JB):          </th> <td>    0.00</td> \n",
       "</tr>\n",
       "<tr>\n",
       "  <th>Kurtosis:</th>      <td>21.228</td>  <th>  Cond. No.          </th> <td>    8.10</td> \n",
       "</tr>\n",
       "</table>"
      ],
      "text/plain": [
       "<class 'statsmodels.iolib.summary.Summary'>\n",
       "\"\"\"\n",
       "                             OLS Regression Results                            \n",
       "===============================================================================\n",
       "Dep. Variable:     LATE_AIRCRAFT_DELAY   R-squared:                       0.767\n",
       "Model:                             OLS   Adj. R-squared:                  0.766\n",
       "Method:                  Least Squares   F-statistic:                     507.2\n",
       "Date:                 Thu, 29 Mar 2018   Prob (F-statistic):          1.26e-240\n",
       "Time:                         04:37:35   Log-Likelihood:                -2962.6\n",
       "No. Observations:                  774   AIC:                             5935.\n",
       "Df Residuals:                      769   BIC:                             5958.\n",
       "Df Model:                            5                                         \n",
       "Covariance Type:             nonrobust                                         \n",
       "=================================================================================\n",
       "                    coef    std err          t      P>|t|      [0.025      0.975]\n",
       "---------------------------------------------------------------------------------\n",
       "MONTH             0.3366      0.060      5.642      0.000       0.220       0.454\n",
       "DEP_DELAY         0.6304      0.013     47.327      0.000       0.604       0.657\n",
       "CARRIER_DELAY    -0.6880      0.023    -30.277      0.000      -0.733      -0.643\n",
       "WEATHER_DELAY    -0.6432      0.068     -9.508      0.000      -0.776      -0.510\n",
       "NAS_DELAY        -0.2509      0.021    -12.034      0.000      -0.292      -0.210\n",
       "==============================================================================\n",
       "Omnibus:                      277.191   Durbin-Watson:                   2.091\n",
       "Prob(Omnibus):                  0.000   Jarque-Bera (JB):            10818.400\n",
       "Skew:                          -0.894   Prob(JB):                         0.00\n",
       "Kurtosis:                      21.228   Cond. No.                         8.10\n",
       "==============================================================================\n",
       "\n",
       "Warnings:\n",
       "[1] Standard Errors assume that the covariance matrix of the errors is correctly specified.\n",
       "\"\"\""
      ]
     },
     "execution_count": 12,
     "metadata": {},
     "output_type": "execute_result"
    }
   ],
   "source": [
    "late_aircraft_from = ['MONTH','DEP_DELAY','CARRIER_DELAY','WEATHER_DELAY','NAS_DELAY']\n",
    "X = train_df[late_aircraft_from]\n",
    "y = train_df['LATE_AIRCRAFT_DELAY']\n",
    "\n",
    "model = sm.OLS(y, X).fit()\n",
    "predictions = model.predict(X) # make the predictions by the model\n",
    "\n",
    "# Print out the statistics\n",
    "model.summary()"
   ]
  },
  {
   "cell_type": "code",
   "execution_count": 13,
   "metadata": {},
   "outputs": [
    {
     "data": {
      "image/png": "[encoded data removed]",
      "text/plain": [
       "<matplotlib.figure.Figure at 0x7f0469559358>"
      ]
     },
     "metadata": {},
     "output_type": "display_data"
    }
   ],
   "source": [
    "# update flights_edges_df with from_node to to_node entries\n",
    "flights_edges_dict = dict()\n",
    "for node in late_aircraft_from:\n",
    "    flights_edges_dict[node] = 'LATE_AIRCRAFT_DELAY'\n",
    "temp_df = pd.DataFrame(list(flights_edges_dict.items()), columns=['from_node', 'to_node'])\n",
    "flight_edges_df = pd.concat([flight_edges_df, temp_df]).reset_index()\n",
    "flight_edges_df = flight_edges_df.drop(['index'], axis=1)\n",
    "\n",
    "# create network\n",
    "bn = nx.from_pandas_edgelist(flight_edges_df,source='from_node',target='to_node',create_using=nx.DiGraph())\n",
    "\n",
    "# draw graph\n",
    "bn_edges = [edge for edge in bn.edges()]\n",
    "pos = nx.spring_layout(bn)\n",
    "nx.draw_networkx_nodes(bn, pos, cmap=plt.get_cmap('jet'), node_size = 200,alpha=0.3)\n",
    "nx.draw_networkx_labels(bn, pos,font_size='10')\n",
    "nx.draw_networkx_edges(bn, pos, edgelist=bn_edges, edge_color='b',style='dot', arrows=True,arrow_size = 15,alpha=0.5)\n",
    "plt.show()"
   ]
  },
  {
   "cell_type": "markdown",
   "metadata": {},
   "source": [
    "Again, we check for cycles:"
   ]
  },
  {
   "cell_type": "code",
   "execution_count": 14,
   "metadata": {},
   "outputs": [
    {
     "name": "stdout",
     "output_type": "stream",
     "text": [
      "[('NAS_DELAY', 'LATE_AIRCRAFT_DELAY'), ('LATE_AIRCRAFT_DELAY', 'NAS_DELAY')]\n"
     ]
    }
   ],
   "source": [
    "try:\n",
    "    print(nx.find_cycle(bn, source=None, orientation='original'))\n",
    "except:\n",
    "    print('No cycle found! You may proceed.')"
   ]
  },
  {
   "cell_type": "markdown",
   "metadata": {},
   "source": [
    "Since __NAS_DELAY__ and __LATE_AIRCRAFT_DELAY__ have edges pointing to each other, we must decide which edge we are going to get rid of. The FAA (http://aspmhelp.faa.gov/index.php/Types_of_Delay) defines __NAS_DELAY__ as delay that is \"within the control of the National Airspace System (NAS),\" including \"non-extreme weather conditions, airport operations, heavy traffic volume, air traffic control, etc.\" It goes on to state that delays at the destination airport that occur after Actual Gate Out time are attributed to the NAS (such as gate in delay and taxi in delay). On the other hand, FAA defines __LATE_AIRCRAFT_DELAY__ as arrival delay due to the ripple effect of an earlier delay at downstream airports is referred to as delay propagation. That is, the two seem to have no direct relationship with one another at all. Therefore, we remove both edges."
   ]
  },
  {
   "cell_type": "code",
   "execution_count": 15,
   "metadata": {},
   "outputs": [
    {
     "data": {
      "image/png": "[encoded data removed]",
      "text/plain": [
       "<matplotlib.figure.Figure at 0x7f04694fbcc0>"
      ]
     },
     "metadata": {},
     "output_type": "display_data"
    }
   ],
   "source": [
    "# remove both edges\n",
    "flight_edges_df = flight_edges_df[(flight_edges_df.from_node != 'NAS_DELAY') | (flight_edges_df.to_node != 'LATE_AIRCRAFT_DELAY')]\n",
    "flight_edges_df = flight_edges_df[(flight_edges_df.from_node != 'LATE_AIRCRAFT_DELAY') | (flight_edges_df.to_node != 'NAS_DELAY')]\n",
    "\n",
    "# create network\n",
    "bn = nx.from_pandas_edgelist(flight_edges_df,source='from_node',target='to_node',create_using=nx.DiGraph())\n",
    "\n",
    "# draw graph\n",
    "bn_edges = [edge for edge in bn.edges()]\n",
    "pos = nx.spring_layout(bn)\n",
    "nx.draw_networkx_nodes(bn, pos, cmap=plt.get_cmap('jet'), node_size = 200,alpha=0.3)\n",
    "nx.draw_networkx_labels(bn, pos,font_size='10')\n",
    "nx.draw_networkx_edges(bn, pos, edgelist=bn_edges, edge_color='b',style='dot', arrows=True,arrow_size = 15,alpha=0.5)\n",
    "plt.show()"
   ]
  },
  {
   "cell_type": "code",
   "execution_count": 16,
   "metadata": {},
   "outputs": [
    {
     "name": "stdout",
     "output_type": "stream",
     "text": [
      "No cycle found! You may proceed.\n"
     ]
    }
   ],
   "source": [
    "try:\n",
    "    print(nx.find_cycle(bn, source=None, orientation='original'))\n",
    "except:\n",
    "    print('No cycle found! You may proceed.')"
   ]
  },
  {
   "cell_type": "markdown",
   "metadata": {},
   "source": [
    "### Carrier Delay"
   ]
  },
  {
   "cell_type": "code",
   "execution_count": 17,
   "metadata": {},
   "outputs": [
    {
     "data": {
      "text/html": [
       "<table class=\"simpletable\">\n",
       "<caption>OLS Regression Results</caption>\n",
       "<tr>\n",
       "  <th>Dep. Variable:</th>      <td>CARRIER_DELAY</td>  <th>  R-squared:         </th> <td>   0.807</td> \n",
       "</tr>\n",
       "<tr>\n",
       "  <th>Model:</th>                   <td>OLS</td>       <th>  Adj. R-squared:    </th> <td>   0.805</td> \n",
       "</tr>\n",
       "<tr>\n",
       "  <th>Method:</th>             <td>Least Squares</td>  <th>  F-statistic:       </th> <td>   401.0</td> \n",
       "</tr>\n",
       "<tr>\n",
       "  <th>Date:</th>             <td>Thu, 29 Mar 2018</td> <th>  Prob (F-statistic):</th> <td>7.45e-268</td>\n",
       "</tr>\n",
       "<tr>\n",
       "  <th>Time:</th>                 <td>04:37:35</td>     <th>  Log-Likelihood:    </th> <td> -2920.6</td> \n",
       "</tr>\n",
       "<tr>\n",
       "  <th>No. Observations:</th>      <td>   774</td>      <th>  AIC:               </th> <td>   5857.</td> \n",
       "</tr>\n",
       "<tr>\n",
       "  <th>Df Residuals:</th>          <td>   766</td>      <th>  BIC:               </th> <td>   5894.</td> \n",
       "</tr>\n",
       "<tr>\n",
       "  <th>Df Model:</th>              <td>     8</td>      <th>                     </th>     <td> </td>    \n",
       "</tr>\n",
       "<tr>\n",
       "  <th>Covariance Type:</th>      <td>nonrobust</td>    <th>                     </th>     <td> </td>    \n",
       "</tr>\n",
       "</table>\n",
       "<table class=\"simpletable\">\n",
       "<tr>\n",
       "           <td></td>              <th>coef</th>     <th>std err</th>      <th>t</th>      <th>P>|t|</th>  <th>[0.025</th>    <th>0.975]</th>  \n",
       "</tr>\n",
       "<tr>\n",
       "  <th>CRS_DEP_TIME</th>        <td>   -0.4741</td> <td>    0.052</td> <td>   -9.034</td> <td> 0.000</td> <td>   -0.577</td> <td>   -0.371</td>\n",
       "</tr>\n",
       "<tr>\n",
       "  <th>DEP_DELAY</th>           <td>    0.7456</td> <td>    0.014</td> <td>   53.092</td> <td> 0.000</td> <td>    0.718</td> <td>    0.773</td>\n",
       "</tr>\n",
       "<tr>\n",
       "  <th>TAXI_OUT</th>            <td>    0.4764</td> <td>    0.037</td> <td>   12.891</td> <td> 0.000</td> <td>    0.404</td> <td>    0.549</td>\n",
       "</tr>\n",
       "<tr>\n",
       "  <th>TAXI_IN</th>             <td>    0.4888</td> <td>    0.047</td> <td>   10.348</td> <td> 0.000</td> <td>    0.396</td> <td>    0.582</td>\n",
       "</tr>\n",
       "<tr>\n",
       "  <th>CRS_ARR_TIME</th>        <td>   -0.5737</td> <td>    0.061</td> <td>   -9.431</td> <td> 0.000</td> <td>   -0.693</td> <td>   -0.454</td>\n",
       "</tr>\n",
       "<tr>\n",
       "  <th>DIVERTED</th>            <td> 6.703e-16</td> <td> 5.05e-17</td> <td>   13.282</td> <td> 0.000</td> <td> 5.71e-16</td> <td> 7.69e-16</td>\n",
       "</tr>\n",
       "<tr>\n",
       "  <th>WEATHER_DELAY</th>       <td>   -0.7148</td> <td>    0.064</td> <td>  -11.102</td> <td> 0.000</td> <td>   -0.841</td> <td>   -0.588</td>\n",
       "</tr>\n",
       "<tr>\n",
       "  <th>NAS_DELAY</th>           <td>   -0.4750</td> <td>    0.024</td> <td>  -19.716</td> <td> 0.000</td> <td>   -0.522</td> <td>   -0.428</td>\n",
       "</tr>\n",
       "<tr>\n",
       "  <th>LATE_AIRCRAFT_DELAY</th> <td>   -0.8364</td> <td>    0.023</td> <td>  -35.738</td> <td> 0.000</td> <td>   -0.882</td> <td>   -0.790</td>\n",
       "</tr>\n",
       "</table>\n",
       "<table class=\"simpletable\">\n",
       "<tr>\n",
       "  <th>Omnibus:</th>       <td>160.411</td> <th>  Durbin-Watson:     </th> <td>   1.982</td>\n",
       "</tr>\n",
       "<tr>\n",
       "  <th>Prob(Omnibus):</th> <td> 0.000</td>  <th>  Jarque-Bera (JB):  </th> <td>1806.740</td>\n",
       "</tr>\n",
       "<tr>\n",
       "  <th>Skew:</th>          <td>-0.576</td>  <th>  Prob(JB):          </th> <td>    0.00</td>\n",
       "</tr>\n",
       "<tr>\n",
       "  <th>Kurtosis:</th>      <td>10.396</td>  <th>  Cond. No.          </th> <td>6.28e+17</td>\n",
       "</tr>\n",
       "</table>"
      ],
      "text/plain": [
       "<class 'statsmodels.iolib.summary.Summary'>\n",
       "\"\"\"\n",
       "                            OLS Regression Results                            \n",
       "==============================================================================\n",
       "Dep. Variable:          CARRIER_DELAY   R-squared:                       0.807\n",
       "Model:                            OLS   Adj. R-squared:                  0.805\n",
       "Method:                 Least Squares   F-statistic:                     401.0\n",
       "Date:                Thu, 29 Mar 2018   Prob (F-statistic):          7.45e-268\n",
       "Time:                        04:37:35   Log-Likelihood:                -2920.6\n",
       "No. Observations:                 774   AIC:                             5857.\n",
       "Df Residuals:                     766   BIC:                             5894.\n",
       "Df Model:                           8                                         \n",
       "Covariance Type:            nonrobust                                         \n",
       "=======================================================================================\n",
       "                          coef    std err          t      P>|t|      [0.025      0.975]\n",
       "---------------------------------------------------------------------------------------\n",
       "CRS_DEP_TIME           -0.4741      0.052     -9.034      0.000      -0.577      -0.371\n",
       "DEP_DELAY               0.7456      0.014     53.092      0.000       0.718       0.773\n",
       "TAXI_OUT                0.4764      0.037     12.891      0.000       0.404       0.549\n",
       "TAXI_IN                 0.4888      0.047     10.348      0.000       0.396       0.582\n",
       "CRS_ARR_TIME           -0.5737      0.061     -9.431      0.000      -0.693      -0.454\n",
       "DIVERTED             6.703e-16   5.05e-17     13.282      0.000    5.71e-16    7.69e-16\n",
       "WEATHER_DELAY          -0.7148      0.064    -11.102      0.000      -0.841      -0.588\n",
       "NAS_DELAY              -0.4750      0.024    -19.716      0.000      -0.522      -0.428\n",
       "LATE_AIRCRAFT_DELAY    -0.8364      0.023    -35.738      0.000      -0.882      -0.790\n",
       "==============================================================================\n",
       "Omnibus:                      160.411   Durbin-Watson:                   1.982\n",
       "Prob(Omnibus):                  0.000   Jarque-Bera (JB):             1806.740\n",
       "Skew:                          -0.576   Prob(JB):                         0.00\n",
       "Kurtosis:                      10.396   Cond. No.                     6.28e+17\n",
       "==============================================================================\n",
       "\n",
       "Warnings:\n",
       "[1] Standard Errors assume that the covariance matrix of the errors is correctly specified.\n",
       "[2] The smallest eigenvalue is 5.33e-30. This might indicate that there are\n",
       "strong multicollinearity problems or that the design matrix is singular.\n",
       "\"\"\""
      ]
     },
     "execution_count": 17,
     "metadata": {},
     "output_type": "execute_result"
    }
   ],
   "source": [
    "carrier_delay_from = ['CRS_DEP_TIME','DEP_DELAY','TAXI_OUT','TAXI_IN','CRS_ARR_TIME','DIVERTED','WEATHER_DELAY','NAS_DELAY','LATE_AIRCRAFT_DELAY']\n",
    "X = train_df[carrier_delay_from]\n",
    "y = train_df['CARRIER_DELAY']\n",
    "\n",
    "model = sm.OLS(y, X).fit()\n",
    "predictions = model.predict(X) # make the predictions by the model\n",
    "\n",
    "# Print out the statistics\n",
    "model.summary()"
   ]
  },
  {
   "cell_type": "code",
   "execution_count": 18,
   "metadata": {},
   "outputs": [],
   "source": [
    "flights_edges_dict = dict()\n",
    "for node in carrier_delay_from:\n",
    "    flights_edges_dict[node] = 'CARRIER_DELAY'\n",
    "temp_df = pd.DataFrame(list(flights_edges_dict.items()), columns=['from_node', 'to_node'])\n",
    "flight_edges_df = pd.concat([flight_edges_df, temp_df]).reset_index()\n",
    "flight_edges_df = flight_edges_df.drop(['index'], axis=1)"
   ]
  },
  {
   "cell_type": "code",
   "execution_count": 19,
   "metadata": {},
   "outputs": [
    {
     "data": {
      "image/png": "[encoded data removed]",
      "text/plain": [
       "<matplotlib.figure.Figure at 0x7f04694a47b8>"
      ]
     },
     "metadata": {},
     "output_type": "display_data"
    }
   ],
   "source": [
    "bn = nx.from_pandas_edgelist(flight_edges_df,source='from_node',target='to_node',create_using=nx.DiGraph())\n",
    "# draw graph\n",
    "bn_edges = [edge for edge in bn.edges()]\n",
    "pos = nx.spring_layout(bn)\n",
    "nx.draw_networkx_nodes(bn, pos, cmap=plt.get_cmap('jet'), node_size = 200,alpha=0.5)\n",
    "nx.draw_networkx_labels(bn, pos,font_size='10')\n",
    "nx.draw_networkx_edges(bn, pos, edgelist=bn_edges, edge_color='b',style='dot', arrows=True,arrow_size = 15,alpha=0.7)\n",
    "# nx.draw_networkx_edges(bn, pos, edgelist=black_edges, arrows=False)\n",
    "plt.show()"
   ]
  },
  {
   "cell_type": "code",
   "execution_count": 20,
   "metadata": {},
   "outputs": [
    {
     "name": "stdout",
     "output_type": "stream",
     "text": [
      "[('NAS_DELAY', 'CARRIER_DELAY'), ('CARRIER_DELAY', 'NAS_DELAY')]\n"
     ]
    }
   ],
   "source": [
    "try:\n",
    "    print(nx.find_cycle(bn, source=None, orientation='original'))\n",
    "except:\n",
    "    print('No cycle found! You may proceed.')"
   ]
  },
  {
   "cell_type": "markdown",
   "metadata": {},
   "source": [
    "__CARRIER_DELAY__ is within the control of the air carrier, such as: aircraft cleaning, aircraft damage, awaiting the arrival of connecting passengers or crew, baggage, bird strike, cargo loading, catering, computer, outage-carrier equipment, crew legality (pilot or attendant rest), damage by hazardous goods, engineering inspection, fueling, handling disabled passengers, late crew, lavatory servicing, maintenance, oversales, potable water servicing, removal of unruly passenger, slow boarding or seating, stowing carry-on baggage, weight and balance delays. This seems to have little to do with __NAS_DELAY__ and vice versa. Thus, we remove both edges"
   ]
  },
  {
   "cell_type": "code",
   "execution_count": 21,
   "metadata": {},
   "outputs": [
    {
     "data": {
      "image/png": "[encoded data removed]",
      "text/plain": [
       "<matplotlib.figure.Figure at 0x7f046936ef98>"
      ]
     },
     "metadata": {},
     "output_type": "display_data"
    }
   ],
   "source": [
    "# remove both edges\n",
    "flight_edges_df = flight_edges_df[(flight_edges_df.from_node != 'NAS_DELAY') | (flight_edges_df.to_node != 'CARRIER_DELAY')]\n",
    "flight_edges_df = flight_edges_df[(flight_edges_df.from_node != 'CARRIER_DELAY') | (flight_edges_df.to_node != 'NAS_DELAY')]\n",
    "\n",
    "# create network\n",
    "bn = nx.from_pandas_edgelist(flight_edges_df,source='from_node',target='to_node',create_using=nx.DiGraph())\n",
    "\n",
    "# draw graph\n",
    "bn_edges = [edge for edge in bn.edges()]\n",
    "pos = nx.spring_layout(bn)\n",
    "nx.draw_networkx_nodes(bn, pos, cmap=plt.get_cmap('jet'), node_size = 200,alpha=0.3)\n",
    "nx.draw_networkx_labels(bn, pos,font_size='10')\n",
    "nx.draw_networkx_edges(bn, pos, edgelist=bn_edges, edge_color='b',style='dot', arrows=True,arrow_size = 15,alpha=0.5)\n",
    "plt.show()"
   ]
  },
  {
   "cell_type": "code",
   "execution_count": 22,
   "metadata": {},
   "outputs": [
    {
     "name": "stdout",
     "output_type": "stream",
     "text": [
      "[('CARRIER_DELAY', 'LATE_AIRCRAFT_DELAY'), ('LATE_AIRCRAFT_DELAY', 'CARRIER_DELAY')]\n"
     ]
    }
   ],
   "source": [
    "try:\n",
    "    print(nx.find_cycle(bn, source=None, orientation='original'))\n",
    "except:\n",
    "    print('No cycle found! You may proceed.')"
   ]
  },
  {
   "cell_type": "markdown",
   "metadata": {},
   "source": [
    "Recall that FAA defines __LATE_AIRCRAFT_DELAY__ as arrival delay due to the ripple effect of an earlier delay at downstream airports is referred to as delay propagation. It would seem probable that a late prior aircraft could cause carrier delay but not the other way around. Thus, we only remove the edge from CARRIER_DELAY to LATE_AIRCRAFT_DELAY."
   ]
  },
  {
   "cell_type": "code",
   "execution_count": 23,
   "metadata": {},
   "outputs": [
    {
     "data": {
      "image/png": "[encoded data removed]",
      "text/plain": [
       "<matplotlib.figure.Figure at 0x7f046936eef0>"
      ]
     },
     "metadata": {},
     "output_type": "display_data"
    }
   ],
   "source": [
    "# remove both edges\n",
    "flight_edges_df = flight_edges_df[(flight_edges_df.from_node != 'CARRIER_DELAY') | (flight_edges_df.to_node != 'LATE_AIRCRAFT_DELAY')]\n",
    "\n",
    "# create network\n",
    "bn = nx.from_pandas_edgelist(flight_edges_df,source='from_node',target='to_node',create_using=nx.DiGraph())\n",
    "\n",
    "# draw graph\n",
    "bn_edges = [edge for edge in bn.edges()]\n",
    "pos = nx.spring_layout(bn)\n",
    "nx.draw_networkx_nodes(bn, pos, cmap=plt.get_cmap('jet'), node_size = 200,alpha=0.3)\n",
    "nx.draw_networkx_labels(bn, pos,font_size='10')\n",
    "nx.draw_networkx_edges(bn, pos, edgelist=bn_edges, edge_color='b',style='dot', arrows=True,arrow_size = 15,alpha=0.5)\n",
    "plt.show()"
   ]
  },
  {
   "cell_type": "code",
   "execution_count": 24,
   "metadata": {},
   "outputs": [
    {
     "name": "stdout",
     "output_type": "stream",
     "text": [
      "No cycle found! You may proceed.\n"
     ]
    }
   ],
   "source": [
    "try:\n",
    "    print(nx.find_cycle(bn, source=None, orientation='original'))\n",
    "except:\n",
    "    print('No cycle found! You may proceed.')"
   ]
  },
  {
   "cell_type": "markdown",
   "metadata": {},
   "source": [
    "### WEATHER_DELAY"
   ]
  },
  {
   "cell_type": "markdown",
   "metadata": {},
   "source": [
    "Though not ideal in p-value, CRS_DEP_TIME seems like the only likely variable which WEATHER_DELAY may be dependent on."
   ]
  },
  {
   "cell_type": "code",
   "execution_count": 25,
   "metadata": {},
   "outputs": [
    {
     "data": {
      "text/html": [
       "<table class=\"simpletable\">\n",
       "<caption>OLS Regression Results</caption>\n",
       "<tr>\n",
       "  <th>Dep. Variable:</th>      <td>WEATHER_DELAY</td>  <th>  R-squared:         </th> <td>   0.003</td>\n",
       "</tr>\n",
       "<tr>\n",
       "  <th>Model:</th>                   <td>OLS</td>       <th>  Adj. R-squared:    </th> <td>   0.002</td>\n",
       "</tr>\n",
       "<tr>\n",
       "  <th>Method:</th>             <td>Least Squares</td>  <th>  F-statistic:       </th> <td>   2.715</td>\n",
       "</tr>\n",
       "<tr>\n",
       "  <th>Date:</th>             <td>Thu, 29 Mar 2018</td> <th>  Prob (F-statistic):</th>  <td>0.0998</td> \n",
       "</tr>\n",
       "<tr>\n",
       "  <th>Time:</th>                 <td>04:37:36</td>     <th>  Log-Likelihood:    </th> <td> -2489.1</td>\n",
       "</tr>\n",
       "<tr>\n",
       "  <th>No. Observations:</th>      <td>   774</td>      <th>  AIC:               </th> <td>   4980.</td>\n",
       "</tr>\n",
       "<tr>\n",
       "  <th>Df Residuals:</th>          <td>   773</td>      <th>  BIC:               </th> <td>   4985.</td>\n",
       "</tr>\n",
       "<tr>\n",
       "  <th>Df Model:</th>              <td>     1</td>      <th>                     </th>     <td> </td>   \n",
       "</tr>\n",
       "<tr>\n",
       "  <th>Covariance Type:</th>      <td>nonrobust</td>    <th>                     </th>     <td> </td>   \n",
       "</tr>\n",
       "</table>\n",
       "<table class=\"simpletable\">\n",
       "<tr>\n",
       "        <td></td>          <th>coef</th>     <th>std err</th>      <th>t</th>      <th>P>|t|</th>  <th>[0.025</th>    <th>0.975]</th>  \n",
       "</tr>\n",
       "<tr>\n",
       "  <th>CRS_DEP_TIME</th> <td>    0.0238</td> <td>    0.014</td> <td>    1.648</td> <td> 0.100</td> <td>   -0.005</td> <td>    0.052</td>\n",
       "</tr>\n",
       "</table>\n",
       "<table class=\"simpletable\">\n",
       "<tr>\n",
       "  <th>Omnibus:</th>       <td>2020.177</td> <th>  Durbin-Watson:     </th>   <td>   2.001</td>  \n",
       "</tr>\n",
       "<tr>\n",
       "  <th>Prob(Omnibus):</th>  <td> 0.000</td>  <th>  Jarque-Bera (JB):  </th> <td>18169971.885</td>\n",
       "</tr>\n",
       "<tr>\n",
       "  <th>Skew:</th>           <td>27.246</td>  <th>  Prob(JB):          </th>   <td>    0.00</td>  \n",
       "</tr>\n",
       "<tr>\n",
       "  <th>Kurtosis:</th>       <td>751.626</td> <th>  Cond. No.          </th>   <td>    1.00</td>  \n",
       "</tr>\n",
       "</table>"
      ],
      "text/plain": [
       "<class 'statsmodels.iolib.summary.Summary'>\n",
       "\"\"\"\n",
       "                            OLS Regression Results                            \n",
       "==============================================================================\n",
       "Dep. Variable:          WEATHER_DELAY   R-squared:                       0.003\n",
       "Model:                            OLS   Adj. R-squared:                  0.002\n",
       "Method:                 Least Squares   F-statistic:                     2.715\n",
       "Date:                Thu, 29 Mar 2018   Prob (F-statistic):             0.0998\n",
       "Time:                        04:37:36   Log-Likelihood:                -2489.1\n",
       "No. Observations:                 774   AIC:                             4980.\n",
       "Df Residuals:                     773   BIC:                             4985.\n",
       "Df Model:                           1                                         \n",
       "Covariance Type:            nonrobust                                         \n",
       "================================================================================\n",
       "                   coef    std err          t      P>|t|      [0.025      0.975]\n",
       "--------------------------------------------------------------------------------\n",
       "CRS_DEP_TIME     0.0238      0.014      1.648      0.100      -0.005       0.052\n",
       "==============================================================================\n",
       "Omnibus:                     2020.177   Durbin-Watson:                   2.001\n",
       "Prob(Omnibus):                  0.000   Jarque-Bera (JB):         18169971.885\n",
       "Skew:                          27.246   Prob(JB):                         0.00\n",
       "Kurtosis:                     751.626   Cond. No.                         1.00\n",
       "==============================================================================\n",
       "\n",
       "Warnings:\n",
       "[1] Standard Errors assume that the covariance matrix of the errors is correctly specified.\n",
       "\"\"\""
      ]
     },
     "execution_count": 25,
     "metadata": {},
     "output_type": "execute_result"
    }
   ],
   "source": [
    "weather_delay_from = ['CRS_DEP_TIME']\n",
    "X = train_df[weather_delay_from]\n",
    "y = train_df['WEATHER_DELAY']\n",
    "\n",
    "model = sm.OLS(y, X).fit()\n",
    "predictions = model.predict(X) # make the predictions by the model\n",
    "\n",
    "# Print out the statistics\n",
    "model.summary()"
   ]
  },
  {
   "cell_type": "code",
   "execution_count": 26,
   "metadata": {},
   "outputs": [
    {
     "data": {
      "image/png": "[encoded data removed]",
      "text/plain": [
       "<matplotlib.figure.Figure at 0x7f04690e60b8>"
      ]
     },
     "metadata": {},
     "output_type": "display_data"
    }
   ],
   "source": [
    "flights_edges_dict = dict()\n",
    "for node in weather_delay_from:\n",
    "    flights_edges_dict[node] = 'WEATHER_DELAY'\n",
    "temp_df = pd.DataFrame(list(flights_edges_dict.items()), columns=['from_node', 'to_node'])\n",
    "flight_edges_df = pd.concat([flight_edges_df, temp_df]).reset_index()\n",
    "flight_edges_df = flight_edges_df.drop(['index'], axis=1)\n",
    "\n",
    "# create network\n",
    "bn = nx.from_pandas_edgelist(flight_edges_df,source='from_node',target='to_node',create_using=nx.DiGraph())\n",
    "# draw graph\n",
    "bn_edges = [edge for edge in bn.edges()]\n",
    "pos = nx.spring_layout(bn)\n",
    "nx.draw_networkx_nodes(bn, pos, cmap=plt.get_cmap('jet'), node_size = 200,alpha=0.5)\n",
    "nx.draw_networkx_labels(bn, pos,font_size='10')\n",
    "nx.draw_networkx_edges(bn, pos, edgelist=bn_edges, edge_color='b',style='dot', arrows=True,arrow_size = 15,alpha=0.7)\n",
    "# nx.draw_networkx_edges(bn, pos, edgelist=black_edges, arrows=False)\n",
    "plt.show()"
   ]
  },
  {
   "cell_type": "code",
   "execution_count": 27,
   "metadata": {},
   "outputs": [
    {
     "name": "stdout",
     "output_type": "stream",
     "text": [
      "No cycle found! You may proceed.\n"
     ]
    }
   ],
   "source": [
    "try:\n",
    "    print(nx.find_cycle(bn, source=None, orientation='original'))\n",
    "except:\n",
    "    print('No cycle found! You may proceed.')"
   ]
  },
  {
   "cell_type": "markdown",
   "metadata": {},
   "source": [
    "### Security Delay"
   ]
  },
  {
   "cell_type": "markdown",
   "metadata": {},
   "source": [
    "Security delay is caused by evacuation of a terminal or concourse, re-boarding of aircraft because of security breach, inoperative screening equipment and/or long lines in excess of 29 minutes at screening areas."
   ]
  },
  {
   "cell_type": "code",
   "execution_count": 29,
   "metadata": {},
   "outputs": [
    {
     "data": {
      "text/html": [
       "<table class=\"simpletable\">\n",
       "<caption>OLS Regression Results</caption>\n",
       "<tr>\n",
       "  <th>Dep. Variable:</th>     <td>SECURITY_DELAY</td>  <th>  R-squared:         </th> <td>   0.024</td>\n",
       "</tr>\n",
       "<tr>\n",
       "  <th>Model:</th>                   <td>OLS</td>       <th>  Adj. R-squared:    </th> <td>   0.016</td>\n",
       "</tr>\n",
       "<tr>\n",
       "  <th>Method:</th>             <td>Least Squares</td>  <th>  F-statistic:       </th> <td>   3.143</td>\n",
       "</tr>\n",
       "<tr>\n",
       "  <th>Date:</th>             <td>Thu, 29 Mar 2018</td> <th>  Prob (F-statistic):</th>  <td>0.00475</td>\n",
       "</tr>\n",
       "<tr>\n",
       "  <th>Time:</th>                 <td>04:37:37</td>     <th>  Log-Likelihood:    </th> <td> -1644.0</td>\n",
       "</tr>\n",
       "<tr>\n",
       "  <th>No. Observations:</th>      <td>   774</td>      <th>  AIC:               </th> <td>   3300.</td>\n",
       "</tr>\n",
       "<tr>\n",
       "  <th>Df Residuals:</th>          <td>   768</td>      <th>  BIC:               </th> <td>   3328.</td>\n",
       "</tr>\n",
       "<tr>\n",
       "  <th>Df Model:</th>              <td>     6</td>      <th>                     </th>     <td> </td>   \n",
       "</tr>\n",
       "<tr>\n",
       "  <th>Covariance Type:</th>      <td>nonrobust</td>    <th>                     </th>     <td> </td>   \n",
       "</tr>\n",
       "</table>\n",
       "<table class=\"simpletable\">\n",
       "<tr>\n",
       "           <td></td>              <th>coef</th>     <th>std err</th>      <th>t</th>      <th>P>|t|</th>  <th>[0.025</th>    <th>0.975]</th>  \n",
       "</tr>\n",
       "<tr>\n",
       "  <th>DAY_OF_WEEK</th>         <td>   -0.0621</td> <td>    0.031</td> <td>   -2.014</td> <td> 0.044</td> <td>   -0.123</td> <td>   -0.002</td>\n",
       "</tr>\n",
       "<tr>\n",
       "  <th>DEP_DELAY</th>           <td>    0.0169</td> <td>    0.005</td> <td>    3.611</td> <td> 0.000</td> <td>    0.008</td> <td>    0.026</td>\n",
       "</tr>\n",
       "<tr>\n",
       "  <th>TAXI_OUT</th>            <td>    0.0111</td> <td>    0.005</td> <td>    2.330</td> <td> 0.020</td> <td>    0.002</td> <td>    0.020</td>\n",
       "</tr>\n",
       "<tr>\n",
       "  <th>CARRIER_DELAY</th>       <td>   -0.0186</td> <td>    0.006</td> <td>   -3.120</td> <td> 0.002</td> <td>   -0.030</td> <td>   -0.007</td>\n",
       "</tr>\n",
       "<tr>\n",
       "  <th>NAS_DELAY</th>           <td>   -0.0109</td> <td>    0.005</td> <td>   -2.350</td> <td> 0.019</td> <td>   -0.020</td> <td>   -0.002</td>\n",
       "</tr>\n",
       "<tr>\n",
       "  <th>LATE_AIRCRAFT_DELAY</th> <td>   -0.0136</td> <td>    0.006</td> <td>   -2.108</td> <td> 0.035</td> <td>   -0.026</td> <td>   -0.001</td>\n",
       "</tr>\n",
       "</table>\n",
       "<table class=\"simpletable\">\n",
       "<tr>\n",
       "  <th>Omnibus:</th>       <td>2007.722</td> <th>  Durbin-Watson:     </th>   <td>   2.001</td>  \n",
       "</tr>\n",
       "<tr>\n",
       "  <th>Prob(Omnibus):</th>  <td> 0.000</td>  <th>  Jarque-Bera (JB):  </th> <td>17496602.151</td>\n",
       "</tr>\n",
       "<tr>\n",
       "  <th>Skew:</th>           <td>26.826</td>  <th>  Prob(JB):          </th>   <td>    0.00</td>  \n",
       "</tr>\n",
       "<tr>\n",
       "  <th>Kurtosis:</th>       <td>737.610</td> <th>  Cond. No.          </th>   <td>    22.2</td>  \n",
       "</tr>\n",
       "</table>"
      ],
      "text/plain": [
       "<class 'statsmodels.iolib.summary.Summary'>\n",
       "\"\"\"\n",
       "                            OLS Regression Results                            \n",
       "==============================================================================\n",
       "Dep. Variable:         SECURITY_DELAY   R-squared:                       0.024\n",
       "Model:                            OLS   Adj. R-squared:                  0.016\n",
       "Method:                 Least Squares   F-statistic:                     3.143\n",
       "Date:                Thu, 29 Mar 2018   Prob (F-statistic):            0.00475\n",
       "Time:                        04:37:37   Log-Likelihood:                -1644.0\n",
       "No. Observations:                 774   AIC:                             3300.\n",
       "Df Residuals:                     768   BIC:                             3328.\n",
       "Df Model:                           6                                         \n",
       "Covariance Type:            nonrobust                                         \n",
       "=======================================================================================\n",
       "                          coef    std err          t      P>|t|      [0.025      0.975]\n",
       "---------------------------------------------------------------------------------------\n",
       "DAY_OF_WEEK            -0.0621      0.031     -2.014      0.044      -0.123      -0.002\n",
       "DEP_DELAY               0.0169      0.005      3.611      0.000       0.008       0.026\n",
       "TAXI_OUT                0.0111      0.005      2.330      0.020       0.002       0.020\n",
       "CARRIER_DELAY          -0.0186      0.006     -3.120      0.002      -0.030      -0.007\n",
       "NAS_DELAY              -0.0109      0.005     -2.350      0.019      -0.020      -0.002\n",
       "LATE_AIRCRAFT_DELAY    -0.0136      0.006     -2.108      0.035      -0.026      -0.001\n",
       "==============================================================================\n",
       "Omnibus:                     2007.722   Durbin-Watson:                   2.001\n",
       "Prob(Omnibus):                  0.000   Jarque-Bera (JB):         17496602.151\n",
       "Skew:                          26.826   Prob(JB):                         0.00\n",
       "Kurtosis:                     737.610   Cond. No.                         22.2\n",
       "==============================================================================\n",
       "\n",
       "Warnings:\n",
       "[1] Standard Errors assume that the covariance matrix of the errors is correctly specified.\n",
       "\"\"\""
      ]
     },
     "execution_count": 29,
     "metadata": {},
     "output_type": "execute_result"
    }
   ],
   "source": [
    "security_delay_from = ['DAY_OF_WEEK','DEP_DELAY','TAXI_OUT','CARRIER_DELAY','NAS_DELAY','LATE_AIRCRAFT_DELAY']\n",
    "X = train_df[security_delay_from]\n",
    "y = train_df['SECURITY_DELAY']\n",
    "\n",
    "model = sm.OLS(y, X).fit()\n",
    "predictions = model.predict(X) # make the predictions by the model\n",
    "\n",
    "# Print out the statistics\n",
    "model.summary()"
   ]
  },
  {
   "cell_type": "code",
   "execution_count": 30,
   "metadata": {},
   "outputs": [
    {
     "data": {
      "image/png": "[encoded data removed]",
      "text/plain": [
       "<matplotlib.figure.Figure at 0x7f04690de8d0>"
      ]
     },
     "metadata": {},
     "output_type": "display_data"
    }
   ],
   "source": [
    "flights_edges_dict = dict()\n",
    "for node in security_delay_from:\n",
    "    flights_edges_dict[node] = 'SECURITY_DELAY'\n",
    "temp_df = pd.DataFrame(list(flights_edges_dict.items()), columns=['from_node', 'to_node'])\n",
    "flight_edges_df = pd.concat([flight_edges_df, temp_df]).reset_index()\n",
    "flight_edges_df = flight_edges_df.drop(['index'], axis=1)\n",
    "\n",
    "# create network\n",
    "bn = nx.from_pandas_edgelist(flight_edges_df,source='from_node',target='to_node',create_using=nx.DiGraph())\n",
    "# draw graph\n",
    "bn_edges = [edge for edge in bn.edges()]\n",
    "pos = nx.spring_layout(bn)\n",
    "nx.draw_networkx_nodes(bn, pos, cmap=plt.get_cmap('jet'), node_size = 200,alpha=0.5)\n",
    "nx.draw_networkx_labels(bn, pos,font_size='10')\n",
    "nx.draw_networkx_edges(bn, pos, edgelist=bn_edges, edge_color='b',style='dot', arrows=True,arrow_size = 15,alpha=0.7)\n",
    "# nx.draw_networkx_edges(bn, pos, edgelist=black_edges, arrows=False)\n",
    "plt.show()"
   ]
  },
  {
   "cell_type": "code",
   "execution_count": 31,
   "metadata": {},
   "outputs": [
    {
     "name": "stdout",
     "output_type": "stream",
     "text": [
      "No cycle found! You may proceed.\n"
     ]
    }
   ],
   "source": [
    "try:\n",
    "    print(nx.find_cycle(bn, source=None, orientation='original'))\n",
    "except:\n",
    "    print('No cycle found! You may proceed.')"
   ]
  },
  {
   "cell_type": "markdown",
   "metadata": {},
   "source": [
    "### QUARTER"
   ]
  },
  {
   "cell_type": "markdown",
   "metadata": {},
   "source": [
    "We come to a rather odd conclusion that CRS_DEP_TIME and CRS_ARR_TIME may directly influence QUARTER."
   ]
  },
  {
   "cell_type": "code",
   "execution_count": 48,
   "metadata": {},
   "outputs": [
    {
     "data": {
      "text/html": [
       "<table class=\"simpletable\">\n",
       "<caption>OLS Regression Results</caption>\n",
       "<tr>\n",
       "  <th>Dep. Variable:</th>         <td>QUARTER</td>     <th>  R-squared:         </th> <td>   0.990</td> \n",
       "</tr>\n",
       "<tr>\n",
       "  <th>Model:</th>                   <td>OLS</td>       <th>  Adj. R-squared:    </th> <td>   0.990</td> \n",
       "</tr>\n",
       "<tr>\n",
       "  <th>Method:</th>             <td>Least Squares</td>  <th>  F-statistic:       </th> <td>2.636e+04</td>\n",
       "</tr>\n",
       "<tr>\n",
       "  <th>Date:</th>             <td>Thu, 29 Mar 2018</td> <th>  Prob (F-statistic):</th>  <td>  0.00</td>  \n",
       "</tr>\n",
       "<tr>\n",
       "  <th>Time:</th>                 <td>04:43:23</td>     <th>  Log-Likelihood:    </th> <td> -114.98</td> \n",
       "</tr>\n",
       "<tr>\n",
       "  <th>No. Observations:</th>      <td>   774</td>      <th>  AIC:               </th> <td>   236.0</td> \n",
       "</tr>\n",
       "<tr>\n",
       "  <th>Df Residuals:</th>          <td>   771</td>      <th>  BIC:               </th> <td>   249.9</td> \n",
       "</tr>\n",
       "<tr>\n",
       "  <th>Df Model:</th>              <td>     3</td>      <th>                     </th>     <td> </td>    \n",
       "</tr>\n",
       "<tr>\n",
       "  <th>Covariance Type:</th>      <td>nonrobust</td>    <th>                     </th>     <td> </td>    \n",
       "</tr>\n",
       "</table>\n",
       "<table class=\"simpletable\">\n",
       "<tr>\n",
       "        <td></td>          <th>coef</th>     <th>std err</th>      <th>t</th>      <th>P>|t|</th>  <th>[0.025</th>    <th>0.975]</th>  \n",
       "</tr>\n",
       "<tr>\n",
       "  <th>MONTH</th>        <td>    0.3218</td> <td>    0.003</td> <td>  110.292</td> <td> 0.000</td> <td>    0.316</td> <td>    0.328</td>\n",
       "</tr>\n",
       "<tr>\n",
       "  <th>CRS_DEP_TIME</th> <td>    0.0111</td> <td>    0.001</td> <td>    9.138</td> <td> 0.000</td> <td>    0.009</td> <td>    0.013</td>\n",
       "</tr>\n",
       "<tr>\n",
       "  <th>CRS_ARR_TIME</th> <td>    0.0178</td> <td>    0.001</td> <td>   14.596</td> <td> 0.000</td> <td>    0.015</td> <td>    0.020</td>\n",
       "</tr>\n",
       "</table>\n",
       "<table class=\"simpletable\">\n",
       "<tr>\n",
       "  <th>Omnibus:</th>       <td>1343.006</td> <th>  Durbin-Watson:     </th> <td>   1.977</td>\n",
       "</tr>\n",
       "<tr>\n",
       "  <th>Prob(Omnibus):</th>  <td> 0.000</td>  <th>  Jarque-Bera (JB):  </th> <td>  54.742</td>\n",
       "</tr>\n",
       "<tr>\n",
       "  <th>Skew:</th>           <td> 0.083</td>  <th>  Prob(JB):          </th> <td>1.30e-12</td>\n",
       "</tr>\n",
       "<tr>\n",
       "  <th>Kurtosis:</th>       <td> 1.708</td>  <th>  Cond. No.          </th> <td>    6.37</td>\n",
       "</tr>\n",
       "</table>"
      ],
      "text/plain": [
       "<class 'statsmodels.iolib.summary.Summary'>\n",
       "\"\"\"\n",
       "                            OLS Regression Results                            \n",
       "==============================================================================\n",
       "Dep. Variable:                QUARTER   R-squared:                       0.990\n",
       "Model:                            OLS   Adj. R-squared:                  0.990\n",
       "Method:                 Least Squares   F-statistic:                 2.636e+04\n",
       "Date:                Thu, 29 Mar 2018   Prob (F-statistic):               0.00\n",
       "Time:                        04:43:23   Log-Likelihood:                -114.98\n",
       "No. Observations:                 774   AIC:                             236.0\n",
       "Df Residuals:                     771   BIC:                             249.9\n",
       "Df Model:                           3                                         \n",
       "Covariance Type:            nonrobust                                         \n",
       "================================================================================\n",
       "                   coef    std err          t      P>|t|      [0.025      0.975]\n",
       "--------------------------------------------------------------------------------\n",
       "MONTH            0.3218      0.003    110.292      0.000       0.316       0.328\n",
       "CRS_DEP_TIME     0.0111      0.001      9.138      0.000       0.009       0.013\n",
       "CRS_ARR_TIME     0.0178      0.001     14.596      0.000       0.015       0.020\n",
       "==============================================================================\n",
       "Omnibus:                     1343.006   Durbin-Watson:                   1.977\n",
       "Prob(Omnibus):                  0.000   Jarque-Bera (JB):               54.742\n",
       "Skew:                           0.083   Prob(JB):                     1.30e-12\n",
       "Kurtosis:                       1.708   Cond. No.                         6.37\n",
       "==============================================================================\n",
       "\n",
       "Warnings:\n",
       "[1] Standard Errors assume that the covariance matrix of the errors is correctly specified.\n",
       "\"\"\""
      ]
     },
     "execution_count": 48,
     "metadata": {},
     "output_type": "execute_result"
    }
   ],
   "source": [
    "quarter_from = [\n",
    " 'MONTH',\n",
    " 'CRS_DEP_TIME',\n",
    " 'CRS_ARR_TIME',\n",
    "]\n",
    "X = train_df[quarter_from]\n",
    "y = train_df['QUARTER']\n",
    "\n",
    "model = sm.OLS(y, X).fit()\n",
    "predictions = model.predict(X) # make the predictions by the model\n",
    "\n",
    "# Print out the statistics\n",
    "model.summary()"
   ]
  },
  {
   "cell_type": "code",
   "execution_count": 49,
   "metadata": {},
   "outputs": [
    {
     "data": {
      "image/png": "[encoded data removed]",
      "text/plain": [
       "<matplotlib.figure.Figure at 0x7f04690de6d8>"
      ]
     },
     "metadata": {},
     "output_type": "display_data"
    }
   ],
   "source": [
    "flights_edges_dict = dict()\n",
    "for node in quarter_from:\n",
    "    flights_edges_dict[node] = 'QUARTER_DELAY'\n",
    "temp_df = pd.DataFrame(list(flights_edges_dict.items()), columns=['from_node', 'to_node'])\n",
    "flight_edges_df = pd.concat([flight_edges_df, temp_df]).reset_index()\n",
    "flight_edges_df = flight_edges_df.drop(['index'], axis=1)\n",
    "\n",
    "# create network\n",
    "bn = nx.from_pandas_edgelist(flight_edges_df,source='from_node',target='to_node',create_using=nx.DiGraph())\n",
    "# draw graph\n",
    "bn_edges = [edge for edge in bn.edges()]\n",
    "pos = nx.spring_layout(bn)\n",
    "nx.draw_networkx_nodes(bn, pos, cmap=plt.get_cmap('jet'), node_size = 200,alpha=0.5)\n",
    "nx.draw_networkx_labels(bn, pos,font_size='10')\n",
    "nx.draw_networkx_edges(bn, pos, edgelist=bn_edges, edge_color='b',style='dot', arrows=True,arrow_size = 15,alpha=0.7)\n",
    "# nx.draw_networkx_edges(bn, pos, edgelist=black_edges, arrows=False)\n",
    "plt.show()"
   ]
  },
  {
   "cell_type": "code",
   "execution_count": 50,
   "metadata": {},
   "outputs": [
    {
     "name": "stdout",
     "output_type": "stream",
     "text": [
      "No cycle found! You may proceed.\n"
     ]
    }
   ],
   "source": [
    "try:\n",
    "    print(nx.find_cycle(bn, source=None, orientation='original'))\n",
    "except:\n",
    "    print('No cycle found! You may proceed.')"
   ]
  },
  {
   "cell_type": "code",
   "execution_count": 28,
   "metadata": {},
   "outputs": [
    {
     "data": {
      "text/plain": [
       "['QUARTER',\n",
       " 'MONTH',\n",
       " 'DAY_OF_WEEK',\n",
       " 'CRS_DEP_TIME',\n",
       " 'DEP_DELAY',\n",
       " 'TAXI_OUT',\n",
       " 'TAXI_IN',\n",
       " 'CRS_ARR_TIME',\n",
       " 'ARR_DEL15',\n",
       " 'DIVERTED',\n",
       " 'CARRIER_DELAY',\n",
       " 'WEATHER_DELAY',\n",
       " 'NAS_DELAY',\n",
       " 'SECURITY_DELAY',\n",
       " 'LATE_AIRCRAFT_DELAY',\n",
       " 'DelayedDepartureSFO',\n",
       " 'ScheduledDepartureSFO',\n",
       " 'DelayedArrivalPHL',\n",
       " 'ScheduledArrivalPHL']"
      ]
     },
     "execution_count": 28,
     "metadata": {},
     "output_type": "execute_result"
    }
   ],
   "source": [
    "[\n",
    "'QUARTER',\n",
    " 'MONTH',\n",
    " 'DAY_OF_WEEK',\n",
    " 'CRS_DEP_TIME',\n",
    " 'DEP_DELAY',\n",
    " 'TAXI_OUT',\n",
    " 'TAXI_IN',\n",
    " 'CRS_ARR_TIME',\n",
    " 'ARR_DEL15',\n",
    " 'DIVERTED',\n",
    " 'CARRIER_DELAY',\n",
    " 'WEATHER_DELAY',\n",
    " 'NAS_DELAY',\n",
    " 'SECURITY_DELAY',\n",
    " 'LATE_AIRCRAFT_DELAY',\n",
    " 'DelayedDepartureSFO',\n",
    " 'ScheduledDepartureSFO',\n",
    " 'DelayedArrivalPHL',\n",
    " 'ScheduledArrivalPHL'\n",
    "]"
   ]
  },
  {
   "cell_type": "markdown",
   "metadata": {},
   "source": [
    "[\n",
    " 'MONTH',\n",
    " 'DAY_OF_WEEK',\n",
    " 'CRS_DEP_TIME',\n",
    " 'DEP_DELAY',\n",
    " 'TAXI_OUT',\n",
    " 'TAXI_IN',\n",
    " 'CRS_ARR_TIME',\n",
    " 'DIVERTED',\n",
    " 'DelayedDepartureSFO',\n",
    " 'ScheduledDepartureSFO',\n",
    " 'DelayedArrivalPHL',\n",
    " 'ScheduledArrivalPHL'\n",
    "]"
   ]
  },
  {
   "cell_type": "code",
   "execution_count": null,
   "metadata": {},
   "outputs": [],
   "source": []
  }
 ],
 "metadata": {
  "kernelspec": {
   "display_name": "Python 3",
   "language": "python",
   "name": "python3"
  },
  "language_info": {
   "codemirror_mode": {
    "name": "ipython",
    "version": 3
   },
   "file_extension": ".py",
   "mimetype": "text/x-python",
   "name": "python",
   "nbconvert_exporter": "python",
   "pygments_lexer": "ipython3",
   "version": "3.6.3"
  }
 },
 "nbformat": 4,
 "nbformat_minor": 2
}
