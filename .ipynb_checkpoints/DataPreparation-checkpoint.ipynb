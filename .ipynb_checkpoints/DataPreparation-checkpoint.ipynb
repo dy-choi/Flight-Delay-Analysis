{
 "cells": [
  {
   "cell_type": "markdown",
   "metadata": {},
   "source": [
    "# Bayesian Networks and Flight Delay : SFO to PHL"
   ]
  },
  {
   "cell_type": "markdown",
   "metadata": {},
   "source": [
    "Flight delay is a costly problem to consumers, airlines, and industrial experts. Delays provoke complaints from passengers, create high costs to airlines, and result in difficulties for airport operations. It is therefore important for the Federal Aviation Administration (FAA) to understand the causes of delay as a means to reduce the total cost that delays can cause.\n",
    "\n",
    "Known factors that cause flight delays include weather at the origin airport, congestion at the origin airport, and air traffic management (ATM) decisions such as Ground Delay Programs (GDP). Each component interacts with other components in complex ways, which is why flight delays are an inherently stochastic phenomenon. Simply examining the marginal distributions of such factor does not truly reveal the effects that such factors have or the relationship between any two of such factors.\n",
    "\n",
    "Here, we will perform a case study of the use of Bayesian networks to model the relationship between different components of aircraft delay and the causal factors that affect delays. Bayesian networks allow us to simultaneously examine multiple components of delay and their relationships in a single analysis, an advantage that the use of Bayesian networks has over linear and nonlinear regression models. Moreover, Bayesian network models provide not only just predictions of future delays that incorporate the interrelationships among causal factors, but also a means of assessing the ultimate influence each causal factors has on arrival delay.\n",
    "\n",
    "In particular, we will examine delays in flight from San Francisco International Airport (SFO) to Philadelphia International Airport (PHL)."
   ]
  },
  {
   "cell_type": "code",
   "execution_count": 86,
   "metadata": {},
   "outputs": [],
   "source": [
    "import pandas as pd\n",
    "import numpy as np\n",
    "import statsmodels.api as sm\n",
    "import time\n",
    "import calendar\n",
    "import networkx as nx\n",
    "import matplotlib.pyplot as plt"
   ]
  },
  {
   "cell_type": "code",
   "execution_count": 87,
   "metadata": {},
   "outputs": [],
   "source": [
    "def filterRoutes(df):\n",
    "    '''\n",
    "    filter df to contain delayed fligths from SFO to PHL routes only.\n",
    "    '''\n",
    "    df = df[(df['ORIGIN'] == 'SFO') & (df['DEST'] == 'PHL') & (df['ARR_DELAY'] > 0)]\n",
    "    df = df.reset_index()\n",
    "    return df.drop(['index','YEAR','ORIGIN','DEST', 'UNIQUE_CARRIER','DEP_TIME','DEP_TIME_BLK','DEP_DELAY_GROUP', 'DEP_DELAY_NEW', 'DEP_DEL15','WHEELS_OFF','WHEELS_ON','ARR_DELAY','ARR_DELAY_NEW','DIVERTED','Unnamed: 29'],axis=1)\n",
    "\n",
    "def dateColumns(df):\n",
    "    '''\n",
    "    Given a column with mm/dd/yyyy, create a MONTH and DAY column.\n",
    "    '''\n",
    "    dates = [str(d).replace('/','') for d in list(df['Date'])]\n",
    "    dates = [time.strptime(d,'%m%d%Y') for d in dates]\n",
    "    df['MONTH'] = [d.tm_mon for d in dates]\n",
    "    df['DAY'] = [d.tm_mday for d in dates]\n",
    "    \n",
    "def changeTimetoBinary(df, col):\n",
    "    '''\n",
    "    change all times in df[col] to binary variable AM (0) or PM (1)\n",
    "    '''\n",
    "    mask = df[col] < 12.0\n",
    "    df.loc[mask, col] = 0\n",
    "    mask = df[col] >= 12.0\n",
    "    df.loc[mask, col] = 1"
   ]
  },
  {
   "cell_type": "markdown",
   "metadata": {},
   "source": [
    "## The Nitty-Gritty: Preparing the Data"
   ]
  },
  {
   "cell_type": "markdown",
   "metadata": {},
   "source": [
    "### Read and Merge"
   ]
  },
  {
   "cell_type": "markdown",
   "metadata": {},
   "source": [
    "We are working with two datasets. The first is provided by the Bureau of Transportation Statistics and contains flight information, including Common Reporting Standard (CRS) arrival and departure times, causes of delay, and time spend taxiing in and out. We will start by reading in twelve months' worth of data and filtering for just the SFO to PHL routes."
   ]
  },
  {
   "cell_type": "code",
   "execution_count": 88,
   "metadata": {},
   "outputs": [],
   "source": [
    "# read data and filter for relevant delayed flights\n",
    "jan_df = filterRoutes(pd.read_csv('./month/jan2017.csv'))\n",
    "feb_df = filterRoutes(pd.read_csv('./month/feb2017.csv'))\n",
    "mar_df = filterRoutes(pd.read_csv('./month/mar2017.csv'))\n",
    "apr_df = filterRoutes(pd.read_csv('./month/apr2017.csv'))\n",
    "may_df = filterRoutes(pd.read_csv('./month/may2017.csv'))\n",
    "jun_df = filterRoutes(pd.read_csv('./month/jun2017.csv'))\n",
    "jul_df = filterRoutes(pd.read_csv('./month/jul2017.csv'))\n",
    "aug_df = filterRoutes(pd.read_csv('./month/aug2017.csv'))\n",
    "sep_df = filterRoutes(pd.read_csv('./month/sep2017.csv'))\n",
    "oct_df = filterRoutes(pd.read_csv('./month/oct2017.csv'))\n",
    "nov_df = filterRoutes(pd.read_csv('./month/nov2017.csv'))\n",
    "dec_df = filterRoutes(pd.read_csv('./month/dec2017.csv'))\n",
    "\n",
    "# concatenate dataframes by quarter\n",
    "flights_df = pd.concat([jan_df, feb_df,mar_df,apr_df, may_df, jun_df, jul_df, aug_df, sep_df, oct_df, nov_df, dec_df])\n",
    "\n",
    "# keep hour information from CRS but not minutes\n",
    "flights_df['CRS_DEP_TIME'] = flights_df['CRS_DEP_TIME'] // 100\n",
    "flights_df['CRS_ARR_TIME'] = flights_df['CRS_ARR_TIME'] // 100"
   ]
  },
  {
   "cell_type": "markdown",
   "metadata": {},
   "source": [
    "Secondly, we will read in the data provided by the Federal Aviation Administration (FAA) on airport situations in SFO and PHL in 2017 in 'ASPM : Airport Analysis : Delayed Flights Report.' After reading in the data, we will merge the two dataframes to create one flights_df dataframe."
   ]
  },
  {
   "cell_type": "code",
   "execution_count": 89,
   "metadata": {},
   "outputs": [],
   "source": [
    "airports_df = pd.read_csv('./faa-aspm/airports.csv').dropna(axis=0,how='all')\n",
    "\n",
    "# split Date into MONTH and DAY\n",
    "airports_df['Facility'] = airports_df['Facility'].str.strip()\n",
    "dateColumns(airports_df)\n",
    "airports_df = airports_df.drop(['Date','% DelayedGateDepartures','% DelayedGateArrivals','Date'],axis=1)\n",
    "airports_df = airports_df.drop(['DeparturesFor MetricComputation','ArrivalsFor MetricComputation','AverageMinutesOf DelayPer DelayedGateDeparture','AverageMinutesOf DelayPer DelayedGateArrival'],axis=1)\n",
    "\n",
    "# find departure and arrival informations at airport at time of departure/arrival\n",
    "# SFO (departure)\n",
    "flights_SFO_df = pd.merge(flights_df, airports_df, how='inner', left_on=['MONTH','DAY_OF_MONTH','CRS_DEP_TIME'], right_on=['MONTH','DAY','Hour'])\n",
    "flights_SFO_df = flights_SFO_df[flights_SFO_df['Facility'] == 'SFO']\n",
    "# PHL (arrival)\n",
    "flights_PHL_df = pd.merge(flights_df, airports_df, how='inner', left_on=['MONTH','DAY_OF_MONTH','CRS_DEP_TIME'], right_on=['MONTH','DAY','Hour'])\n",
    "flights_PHL_df = flights_PHL_df[flights_PHL_df['Facility'] == 'PHL']\n",
    "# set departure/arrival information as fields of flights_df\n",
    "flights_df['DelayedDepartureSFO'] = flights_PHL_df['DelayedGateDepartures']\n",
    "flights_df['ScheduledDepartureSFO'] = flights_PHL_df['ScheduledDepartures']\n",
    "flights_df['DelayedArrivalPHL'] = flights_PHL_df['DelayedGateArrivals']\n",
    "flights_df['ScheduledArrivalPHL'] = flights_PHL_df['ScheduledArrivals']\n",
    "flights_df.fillna(0,inplace=True)\n",
    "flights_df = flights_df.reset_index()\n",
    "flights_df = flights_df.drop(['index'],axis=1)"
   ]
  },
  {
   "cell_type": "code",
   "execution_count": 92,
   "metadata": {},
   "outputs": [],
   "source": [
    "# change all times to binary variable AM (0) or PM (1)\n",
    "changeTimetoBinary(flights_df, 'CRS_DEP_TIME')\n",
    "changeTimetoBinary(flights_df, 'CRS_ARR_TIME')"
   ]
  },
  {
   "cell_type": "markdown",
   "metadata": {},
   "source": [
    "We no longer need information about DAY_OF_MONTH, so we will drop that column. The compiled data is as below. Due to the length of each field name, we transpose the dataframe for readability."
   ]
  },
  {
   "cell_type": "code",
   "execution_count": 93,
   "metadata": {},
   "outputs": [
    {
     "data": {
      "text/html": [
       "<div>\n",
       "<table border=\"1\" class=\"dataframe\">\n",
       "  <thead>\n",
       "    <tr style=\"text-align: right;\">\n",
       "      <th></th>\n",
       "      <th>0</th>\n",
       "      <th>1</th>\n",
       "      <th>2</th>\n",
       "      <th>3</th>\n",
       "      <th>4</th>\n",
       "      <th>5</th>\n",
       "      <th>6</th>\n",
       "      <th>7</th>\n",
       "      <th>8</th>\n",
       "      <th>9</th>\n",
       "      <th>...</th>\n",
       "      <th>958</th>\n",
       "      <th>959</th>\n",
       "      <th>960</th>\n",
       "      <th>961</th>\n",
       "      <th>962</th>\n",
       "      <th>963</th>\n",
       "      <th>964</th>\n",
       "      <th>965</th>\n",
       "      <th>966</th>\n",
       "      <th>967</th>\n",
       "    </tr>\n",
       "  </thead>\n",
       "  <tbody>\n",
       "    <tr>\n",
       "      <th>QUARTER</th>\n",
       "      <td>1.0</td>\n",
       "      <td>1.0</td>\n",
       "      <td>1.0</td>\n",
       "      <td>1.0</td>\n",
       "      <td>1.0</td>\n",
       "      <td>1.0</td>\n",
       "      <td>1.0</td>\n",
       "      <td>1.0</td>\n",
       "      <td>1.0</td>\n",
       "      <td>1.0</td>\n",
       "      <td>...</td>\n",
       "      <td>4.0</td>\n",
       "      <td>4.0</td>\n",
       "      <td>4.0</td>\n",
       "      <td>4.0</td>\n",
       "      <td>4.0</td>\n",
       "      <td>4.0</td>\n",
       "      <td>4.0</td>\n",
       "      <td>4.0</td>\n",
       "      <td>4.0</td>\n",
       "      <td>4.0</td>\n",
       "    </tr>\n",
       "    <tr>\n",
       "      <th>MONTH</th>\n",
       "      <td>1.0</td>\n",
       "      <td>1.0</td>\n",
       "      <td>1.0</td>\n",
       "      <td>1.0</td>\n",
       "      <td>1.0</td>\n",
       "      <td>1.0</td>\n",
       "      <td>1.0</td>\n",
       "      <td>1.0</td>\n",
       "      <td>1.0</td>\n",
       "      <td>1.0</td>\n",
       "      <td>...</td>\n",
       "      <td>12.0</td>\n",
       "      <td>12.0</td>\n",
       "      <td>12.0</td>\n",
       "      <td>12.0</td>\n",
       "      <td>12.0</td>\n",
       "      <td>12.0</td>\n",
       "      <td>12.0</td>\n",
       "      <td>12.0</td>\n",
       "      <td>12.0</td>\n",
       "      <td>12.0</td>\n",
       "    </tr>\n",
       "    <tr>\n",
       "      <th>DAY_OF_MONTH</th>\n",
       "      <td>4.0</td>\n",
       "      <td>7.0</td>\n",
       "      <td>12.0</td>\n",
       "      <td>14.0</td>\n",
       "      <td>15.0</td>\n",
       "      <td>16.0</td>\n",
       "      <td>17.0</td>\n",
       "      <td>19.0</td>\n",
       "      <td>20.0</td>\n",
       "      <td>26.0</td>\n",
       "      <td>...</td>\n",
       "      <td>21.0</td>\n",
       "      <td>21.0</td>\n",
       "      <td>6.0</td>\n",
       "      <td>5.0</td>\n",
       "      <td>4.0</td>\n",
       "      <td>19.0</td>\n",
       "      <td>18.0</td>\n",
       "      <td>17.0</td>\n",
       "      <td>15.0</td>\n",
       "      <td>14.0</td>\n",
       "    </tr>\n",
       "    <tr>\n",
       "      <th>DAY_OF_WEEK</th>\n",
       "      <td>3.0</td>\n",
       "      <td>6.0</td>\n",
       "      <td>4.0</td>\n",
       "      <td>6.0</td>\n",
       "      <td>7.0</td>\n",
       "      <td>1.0</td>\n",
       "      <td>2.0</td>\n",
       "      <td>4.0</td>\n",
       "      <td>5.0</td>\n",
       "      <td>4.0</td>\n",
       "      <td>...</td>\n",
       "      <td>4.0</td>\n",
       "      <td>4.0</td>\n",
       "      <td>3.0</td>\n",
       "      <td>2.0</td>\n",
       "      <td>1.0</td>\n",
       "      <td>2.0</td>\n",
       "      <td>1.0</td>\n",
       "      <td>7.0</td>\n",
       "      <td>5.0</td>\n",
       "      <td>4.0</td>\n",
       "    </tr>\n",
       "    <tr>\n",
       "      <th>CRS_DEP_TIME</th>\n",
       "      <td>1.0</td>\n",
       "      <td>1.0</td>\n",
       "      <td>1.0</td>\n",
       "      <td>1.0</td>\n",
       "      <td>1.0</td>\n",
       "      <td>1.0</td>\n",
       "      <td>1.0</td>\n",
       "      <td>1.0</td>\n",
       "      <td>1.0</td>\n",
       "      <td>1.0</td>\n",
       "      <td>...</td>\n",
       "      <td>1.0</td>\n",
       "      <td>0.0</td>\n",
       "      <td>0.0</td>\n",
       "      <td>0.0</td>\n",
       "      <td>0.0</td>\n",
       "      <td>0.0</td>\n",
       "      <td>1.0</td>\n",
       "      <td>1.0</td>\n",
       "      <td>0.0</td>\n",
       "      <td>1.0</td>\n",
       "    </tr>\n",
       "    <tr>\n",
       "      <th>DEP_DELAY</th>\n",
       "      <td>28.0</td>\n",
       "      <td>90.0</td>\n",
       "      <td>32.0</td>\n",
       "      <td>24.0</td>\n",
       "      <td>-1.0</td>\n",
       "      <td>0.0</td>\n",
       "      <td>-9.0</td>\n",
       "      <td>17.0</td>\n",
       "      <td>2.0</td>\n",
       "      <td>1.0</td>\n",
       "      <td>...</td>\n",
       "      <td>81.0</td>\n",
       "      <td>23.0</td>\n",
       "      <td>-1.0</td>\n",
       "      <td>-6.0</td>\n",
       "      <td>14.0</td>\n",
       "      <td>10.0</td>\n",
       "      <td>-5.0</td>\n",
       "      <td>0.0</td>\n",
       "      <td>35.0</td>\n",
       "      <td>0.0</td>\n",
       "    </tr>\n",
       "    <tr>\n",
       "      <th>TAXI_OUT</th>\n",
       "      <td>26.0</td>\n",
       "      <td>12.0</td>\n",
       "      <td>17.0</td>\n",
       "      <td>16.0</td>\n",
       "      <td>29.0</td>\n",
       "      <td>16.0</td>\n",
       "      <td>19.0</td>\n",
       "      <td>24.0</td>\n",
       "      <td>23.0</td>\n",
       "      <td>31.0</td>\n",
       "      <td>...</td>\n",
       "      <td>20.0</td>\n",
       "      <td>29.0</td>\n",
       "      <td>39.0</td>\n",
       "      <td>36.0</td>\n",
       "      <td>45.0</td>\n",
       "      <td>21.0</td>\n",
       "      <td>29.0</td>\n",
       "      <td>27.0</td>\n",
       "      <td>29.0</td>\n",
       "      <td>27.0</td>\n",
       "    </tr>\n",
       "    <tr>\n",
       "      <th>TAXI_IN</th>\n",
       "      <td>3.0</td>\n",
       "      <td>5.0</td>\n",
       "      <td>4.0</td>\n",
       "      <td>6.0</td>\n",
       "      <td>4.0</td>\n",
       "      <td>6.0</td>\n",
       "      <td>5.0</td>\n",
       "      <td>3.0</td>\n",
       "      <td>3.0</td>\n",
       "      <td>7.0</td>\n",
       "      <td>...</td>\n",
       "      <td>5.0</td>\n",
       "      <td>6.0</td>\n",
       "      <td>5.0</td>\n",
       "      <td>5.0</td>\n",
       "      <td>8.0</td>\n",
       "      <td>11.0</td>\n",
       "      <td>11.0</td>\n",
       "      <td>7.0</td>\n",
       "      <td>10.0</td>\n",
       "      <td>5.0</td>\n",
       "    </tr>\n",
       "    <tr>\n",
       "      <th>CRS_ARR_TIME</th>\n",
       "      <td>0.0</td>\n",
       "      <td>0.0</td>\n",
       "      <td>0.0</td>\n",
       "      <td>0.0</td>\n",
       "      <td>0.0</td>\n",
       "      <td>0.0</td>\n",
       "      <td>0.0</td>\n",
       "      <td>0.0</td>\n",
       "      <td>0.0</td>\n",
       "      <td>0.0</td>\n",
       "      <td>...</td>\n",
       "      <td>0.0</td>\n",
       "      <td>1.0</td>\n",
       "      <td>1.0</td>\n",
       "      <td>1.0</td>\n",
       "      <td>1.0</td>\n",
       "      <td>1.0</td>\n",
       "      <td>0.0</td>\n",
       "      <td>0.0</td>\n",
       "      <td>1.0</td>\n",
       "      <td>0.0</td>\n",
       "    </tr>\n",
       "    <tr>\n",
       "      <th>ARR_DEL15</th>\n",
       "      <td>0.0</td>\n",
       "      <td>1.0</td>\n",
       "      <td>0.0</td>\n",
       "      <td>0.0</td>\n",
       "      <td>1.0</td>\n",
       "      <td>0.0</td>\n",
       "      <td>0.0</td>\n",
       "      <td>1.0</td>\n",
       "      <td>0.0</td>\n",
       "      <td>1.0</td>\n",
       "      <td>...</td>\n",
       "      <td>1.0</td>\n",
       "      <td>1.0</td>\n",
       "      <td>1.0</td>\n",
       "      <td>0.0</td>\n",
       "      <td>1.0</td>\n",
       "      <td>0.0</td>\n",
       "      <td>0.0</td>\n",
       "      <td>0.0</td>\n",
       "      <td>1.0</td>\n",
       "      <td>1.0</td>\n",
       "    </tr>\n",
       "    <tr>\n",
       "      <th>CARRIER_DELAY</th>\n",
       "      <td>0.0</td>\n",
       "      <td>30.0</td>\n",
       "      <td>0.0</td>\n",
       "      <td>0.0</td>\n",
       "      <td>0.0</td>\n",
       "      <td>0.0</td>\n",
       "      <td>0.0</td>\n",
       "      <td>8.0</td>\n",
       "      <td>0.0</td>\n",
       "      <td>1.0</td>\n",
       "      <td>...</td>\n",
       "      <td>5.0</td>\n",
       "      <td>20.0</td>\n",
       "      <td>0.0</td>\n",
       "      <td>0.0</td>\n",
       "      <td>14.0</td>\n",
       "      <td>0.0</td>\n",
       "      <td>0.0</td>\n",
       "      <td>0.0</td>\n",
       "      <td>35.0</td>\n",
       "      <td>0.0</td>\n",
       "    </tr>\n",
       "    <tr>\n",
       "      <th>WEATHER_DELAY</th>\n",
       "      <td>0.0</td>\n",
       "      <td>0.0</td>\n",
       "      <td>0.0</td>\n",
       "      <td>0.0</td>\n",
       "      <td>0.0</td>\n",
       "      <td>0.0</td>\n",
       "      <td>0.0</td>\n",
       "      <td>0.0</td>\n",
       "      <td>0.0</td>\n",
       "      <td>0.0</td>\n",
       "      <td>...</td>\n",
       "      <td>0.0</td>\n",
       "      <td>0.0</td>\n",
       "      <td>0.0</td>\n",
       "      <td>0.0</td>\n",
       "      <td>0.0</td>\n",
       "      <td>0.0</td>\n",
       "      <td>0.0</td>\n",
       "      <td>0.0</td>\n",
       "      <td>0.0</td>\n",
       "      <td>0.0</td>\n",
       "    </tr>\n",
       "    <tr>\n",
       "      <th>NAS_DELAY</th>\n",
       "      <td>0.0</td>\n",
       "      <td>0.0</td>\n",
       "      <td>0.0</td>\n",
       "      <td>0.0</td>\n",
       "      <td>16.0</td>\n",
       "      <td>0.0</td>\n",
       "      <td>0.0</td>\n",
       "      <td>13.0</td>\n",
       "      <td>0.0</td>\n",
       "      <td>22.0</td>\n",
       "      <td>...</td>\n",
       "      <td>0.0</td>\n",
       "      <td>0.0</td>\n",
       "      <td>24.0</td>\n",
       "      <td>0.0</td>\n",
       "      <td>4.0</td>\n",
       "      <td>0.0</td>\n",
       "      <td>0.0</td>\n",
       "      <td>0.0</td>\n",
       "      <td>13.0</td>\n",
       "      <td>20.0</td>\n",
       "    </tr>\n",
       "    <tr>\n",
       "      <th>SECURITY_DELAY</th>\n",
       "      <td>0.0</td>\n",
       "      <td>0.0</td>\n",
       "      <td>0.0</td>\n",
       "      <td>0.0</td>\n",
       "      <td>0.0</td>\n",
       "      <td>0.0</td>\n",
       "      <td>0.0</td>\n",
       "      <td>0.0</td>\n",
       "      <td>0.0</td>\n",
       "      <td>0.0</td>\n",
       "      <td>...</td>\n",
       "      <td>0.0</td>\n",
       "      <td>0.0</td>\n",
       "      <td>0.0</td>\n",
       "      <td>0.0</td>\n",
       "      <td>0.0</td>\n",
       "      <td>0.0</td>\n",
       "      <td>0.0</td>\n",
       "      <td>0.0</td>\n",
       "      <td>0.0</td>\n",
       "      <td>0.0</td>\n",
       "    </tr>\n",
       "    <tr>\n",
       "      <th>LATE_AIRCRAFT_DELAY</th>\n",
       "      <td>0.0</td>\n",
       "      <td>36.0</td>\n",
       "      <td>0.0</td>\n",
       "      <td>0.0</td>\n",
       "      <td>0.0</td>\n",
       "      <td>0.0</td>\n",
       "      <td>0.0</td>\n",
       "      <td>9.0</td>\n",
       "      <td>0.0</td>\n",
       "      <td>0.0</td>\n",
       "      <td>...</td>\n",
       "      <td>48.0</td>\n",
       "      <td>0.0</td>\n",
       "      <td>0.0</td>\n",
       "      <td>0.0</td>\n",
       "      <td>0.0</td>\n",
       "      <td>0.0</td>\n",
       "      <td>0.0</td>\n",
       "      <td>0.0</td>\n",
       "      <td>0.0</td>\n",
       "      <td>0.0</td>\n",
       "    </tr>\n",
       "    <tr>\n",
       "      <th>DelayedDepartureSFO</th>\n",
       "      <td>1.0</td>\n",
       "      <td>0.0</td>\n",
       "      <td>0.0</td>\n",
       "      <td>0.0</td>\n",
       "      <td>1.0</td>\n",
       "      <td>0.0</td>\n",
       "      <td>0.0</td>\n",
       "      <td>0.0</td>\n",
       "      <td>0.0</td>\n",
       "      <td>0.0</td>\n",
       "      <td>...</td>\n",
       "      <td>0.0</td>\n",
       "      <td>13.0</td>\n",
       "      <td>0.0</td>\n",
       "      <td>13.0</td>\n",
       "      <td>0.0</td>\n",
       "      <td>5.0</td>\n",
       "      <td>0.0</td>\n",
       "      <td>15.0</td>\n",
       "      <td>0.0</td>\n",
       "      <td>11.0</td>\n",
       "    </tr>\n",
       "    <tr>\n",
       "      <th>ScheduledDepartureSFO</th>\n",
       "      <td>6.0</td>\n",
       "      <td>0.0</td>\n",
       "      <td>3.0</td>\n",
       "      <td>0.0</td>\n",
       "      <td>1.0</td>\n",
       "      <td>0.0</td>\n",
       "      <td>1.0</td>\n",
       "      <td>0.0</td>\n",
       "      <td>1.0</td>\n",
       "      <td>0.0</td>\n",
       "      <td>...</td>\n",
       "      <td>0.0</td>\n",
       "      <td>32.0</td>\n",
       "      <td>0.0</td>\n",
       "      <td>32.0</td>\n",
       "      <td>0.0</td>\n",
       "      <td>31.0</td>\n",
       "      <td>0.0</td>\n",
       "      <td>29.0</td>\n",
       "      <td>0.0</td>\n",
       "      <td>20.0</td>\n",
       "    </tr>\n",
       "    <tr>\n",
       "      <th>DelayedArrivalPHL</th>\n",
       "      <td>2.0</td>\n",
       "      <td>0.0</td>\n",
       "      <td>5.0</td>\n",
       "      <td>0.0</td>\n",
       "      <td>2.0</td>\n",
       "      <td>0.0</td>\n",
       "      <td>3.0</td>\n",
       "      <td>0.0</td>\n",
       "      <td>1.0</td>\n",
       "      <td>0.0</td>\n",
       "      <td>...</td>\n",
       "      <td>0.0</td>\n",
       "      <td>7.0</td>\n",
       "      <td>0.0</td>\n",
       "      <td>7.0</td>\n",
       "      <td>0.0</td>\n",
       "      <td>2.0</td>\n",
       "      <td>0.0</td>\n",
       "      <td>6.0</td>\n",
       "      <td>0.0</td>\n",
       "      <td>8.0</td>\n",
       "    </tr>\n",
       "    <tr>\n",
       "      <th>ScheduledArrivalPHL</th>\n",
       "      <td>15.0</td>\n",
       "      <td>0.0</td>\n",
       "      <td>15.0</td>\n",
       "      <td>0.0</td>\n",
       "      <td>10.0</td>\n",
       "      <td>0.0</td>\n",
       "      <td>10.0</td>\n",
       "      <td>0.0</td>\n",
       "      <td>10.0</td>\n",
       "      <td>0.0</td>\n",
       "      <td>...</td>\n",
       "      <td>0.0</td>\n",
       "      <td>21.0</td>\n",
       "      <td>0.0</td>\n",
       "      <td>21.0</td>\n",
       "      <td>0.0</td>\n",
       "      <td>20.0</td>\n",
       "      <td>0.0</td>\n",
       "      <td>22.0</td>\n",
       "      <td>0.0</td>\n",
       "      <td>39.0</td>\n",
       "    </tr>\n",
       "  </tbody>\n",
       "</table>\n",
       "<p>19 rows × 968 columns</p>\n",
       "</div>"
      ],
      "text/plain": [
       "                        0     1     2     3     4     5     6     7     8    \\\n",
       "QUARTER                 1.0   1.0   1.0   1.0   1.0   1.0   1.0   1.0   1.0   \n",
       "MONTH                   1.0   1.0   1.0   1.0   1.0   1.0   1.0   1.0   1.0   \n",
       "DAY_OF_MONTH            4.0   7.0  12.0  14.0  15.0  16.0  17.0  19.0  20.0   \n",
       "DAY_OF_WEEK             3.0   6.0   4.0   6.0   7.0   1.0   2.0   4.0   5.0   \n",
       "CRS_DEP_TIME            1.0   1.0   1.0   1.0   1.0   1.0   1.0   1.0   1.0   \n",
       "DEP_DELAY              28.0  90.0  32.0  24.0  -1.0   0.0  -9.0  17.0   2.0   \n",
       "TAXI_OUT               26.0  12.0  17.0  16.0  29.0  16.0  19.0  24.0  23.0   \n",
       "TAXI_IN                 3.0   5.0   4.0   6.0   4.0   6.0   5.0   3.0   3.0   \n",
       "CRS_ARR_TIME            0.0   0.0   0.0   0.0   0.0   0.0   0.0   0.0   0.0   \n",
       "ARR_DEL15               0.0   1.0   0.0   0.0   1.0   0.0   0.0   1.0   0.0   \n",
       "CARRIER_DELAY           0.0  30.0   0.0   0.0   0.0   0.0   0.0   8.0   0.0   \n",
       "WEATHER_DELAY           0.0   0.0   0.0   0.0   0.0   0.0   0.0   0.0   0.0   \n",
       "NAS_DELAY               0.0   0.0   0.0   0.0  16.0   0.0   0.0  13.0   0.0   \n",
       "SECURITY_DELAY          0.0   0.0   0.0   0.0   0.0   0.0   0.0   0.0   0.0   \n",
       "LATE_AIRCRAFT_DELAY     0.0  36.0   0.0   0.0   0.0   0.0   0.0   9.0   0.0   \n",
       "DelayedDepartureSFO     1.0   0.0   0.0   0.0   1.0   0.0   0.0   0.0   0.0   \n",
       "ScheduledDepartureSFO   6.0   0.0   3.0   0.0   1.0   0.0   1.0   0.0   1.0   \n",
       "DelayedArrivalPHL       2.0   0.0   5.0   0.0   2.0   0.0   3.0   0.0   1.0   \n",
       "ScheduledArrivalPHL    15.0   0.0  15.0   0.0  10.0   0.0  10.0   0.0  10.0   \n",
       "\n",
       "                        9    ...    958   959   960   961   962   963   964  \\\n",
       "QUARTER                 1.0  ...    4.0   4.0   4.0   4.0   4.0   4.0   4.0   \n",
       "MONTH                   1.0  ...   12.0  12.0  12.0  12.0  12.0  12.0  12.0   \n",
       "DAY_OF_MONTH           26.0  ...   21.0  21.0   6.0   5.0   4.0  19.0  18.0   \n",
       "DAY_OF_WEEK             4.0  ...    4.0   4.0   3.0   2.0   1.0   2.0   1.0   \n",
       "CRS_DEP_TIME            1.0  ...    1.0   0.0   0.0   0.0   0.0   0.0   1.0   \n",
       "DEP_DELAY               1.0  ...   81.0  23.0  -1.0  -6.0  14.0  10.0  -5.0   \n",
       "TAXI_OUT               31.0  ...   20.0  29.0  39.0  36.0  45.0  21.0  29.0   \n",
       "TAXI_IN                 7.0  ...    5.0   6.0   5.0   5.0   8.0  11.0  11.0   \n",
       "CRS_ARR_TIME            0.0  ...    0.0   1.0   1.0   1.0   1.0   1.0   0.0   \n",
       "ARR_DEL15               1.0  ...    1.0   1.0   1.0   0.0   1.0   0.0   0.0   \n",
       "CARRIER_DELAY           1.0  ...    5.0  20.0   0.0   0.0  14.0   0.0   0.0   \n",
       "WEATHER_DELAY           0.0  ...    0.0   0.0   0.0   0.0   0.0   0.0   0.0   \n",
       "NAS_DELAY              22.0  ...    0.0   0.0  24.0   0.0   4.0   0.0   0.0   \n",
       "SECURITY_DELAY          0.0  ...    0.0   0.0   0.0   0.0   0.0   0.0   0.0   \n",
       "LATE_AIRCRAFT_DELAY     0.0  ...   48.0   0.0   0.0   0.0   0.0   0.0   0.0   \n",
       "DelayedDepartureSFO     0.0  ...    0.0  13.0   0.0  13.0   0.0   5.0   0.0   \n",
       "ScheduledDepartureSFO   0.0  ...    0.0  32.0   0.0  32.0   0.0  31.0   0.0   \n",
       "DelayedArrivalPHL       0.0  ...    0.0   7.0   0.0   7.0   0.0   2.0   0.0   \n",
       "ScheduledArrivalPHL     0.0  ...    0.0  21.0   0.0  21.0   0.0  20.0   0.0   \n",
       "\n",
       "                        965   966   967  \n",
       "QUARTER                 4.0   4.0   4.0  \n",
       "MONTH                  12.0  12.0  12.0  \n",
       "DAY_OF_MONTH           17.0  15.0  14.0  \n",
       "DAY_OF_WEEK             7.0   5.0   4.0  \n",
       "CRS_DEP_TIME            1.0   0.0   1.0  \n",
       "DEP_DELAY               0.0  35.0   0.0  \n",
       "TAXI_OUT               27.0  29.0  27.0  \n",
       "TAXI_IN                 7.0  10.0   5.0  \n",
       "CRS_ARR_TIME            0.0   1.0   0.0  \n",
       "ARR_DEL15               0.0   1.0   1.0  \n",
       "CARRIER_DELAY           0.0  35.0   0.0  \n",
       "WEATHER_DELAY           0.0   0.0   0.0  \n",
       "NAS_DELAY               0.0  13.0  20.0  \n",
       "SECURITY_DELAY          0.0   0.0   0.0  \n",
       "LATE_AIRCRAFT_DELAY     0.0   0.0   0.0  \n",
       "DelayedDepartureSFO    15.0   0.0  11.0  \n",
       "ScheduledDepartureSFO  29.0   0.0  20.0  \n",
       "DelayedArrivalPHL       6.0   0.0   8.0  \n",
       "ScheduledArrivalPHL    22.0   0.0  39.0  \n",
       "\n",
       "[19 rows x 968 columns]"
      ]
     },
     "execution_count": 93,
     "metadata": {},
     "output_type": "execute_result"
    }
   ],
   "source": [
    "flights_df = flights_df.drop(['DAY_OF_MONTH'],axis=1)\n",
    "# save as CSV\n",
    "flights_df.to_csv('full_data.csv',index=False)\n",
    "flights_df.transpose()"
   ]
  },
  {
   "cell_type": "markdown",
   "metadata": {},
   "source": [
    "### Train and Test Data"
   ]
  },
  {
   "cell_type": "markdown",
   "metadata": {},
   "source": [
    "Let the five delay causes (CARRIER_DELAY, WEATHER_DELAY, NAS_DELAY, SECURITY_DELAY, LATE_AIRCRAFT_DELAY) and the variable we are looking to explain (ARR_DEL15) be nodes. We must perform regression analysis to determine dependency relationships."
   ]
  },
  {
   "cell_type": "code",
   "execution_count": 6,
   "metadata": {},
   "outputs": [],
   "source": [
    "# 20% test data\n",
    "from sklearn.model_selection import train_test_split\n",
    "# 774 train data, 194 test data\n",
    "train_df,test_df = train_test_split(flights_df, test_size=0.2)\n",
    "# save as CSV\n",
    "train_df.to_csv('train_data.csv',index=False)\n",
    "test_df.to_csv('test_data.csv',index=False)"
   ]
  },
  {
   "cell_type": "markdown",
   "metadata": {},
   "source": [
    "## Finding Dependencies: Regression Analysis"
   ]
  },
  {
   "cell_type": "markdown",
   "metadata": {},
   "source": [
    "We use the Ordinary Least Squares (OLS) method to find dependencies, starting with what we know to be the final outcome: ARR_DEL15 (which is 0 if the flight does not arrive more than 15 minutes late, 1 otherwise). As we find dependencies, we will also be making sure that we are not creating any accidental cycles."
   ]
  },
  {
   "cell_type": "code",
   "execution_count": 7,
   "metadata": {},
   "outputs": [],
   "source": [
    "bn = nx.DiGraph()\n",
    "flight_edges_df = pd.DataFrame(columns=['from_node', 'to_node'])"
   ]
  },
  {
   "cell_type": "code",
   "execution_count": 8,
   "metadata": {},
   "outputs": [],
   "source": [
    "def regression_model(from_li, to_node):\n",
    "    '''\n",
    "    return OLS regression model, given list from_li of nodes and singular to_node\n",
    "    '''\n",
    "    X = train_df[from_li]\n",
    "    y = train_df[to_node]\n",
    "    model = sm.OLS(y, X).fit()\n",
    "    return model\n",
    "\n",
    "def update_flights_edges_df(from_li, str_var, flight_edges_df):\n",
    "    '''\n",
    "    update dataframe of edges using a list of from nodes, the string value of the node,\n",
    "    and the current dataframe of edges.\n",
    "    '''\n",
    "    # update flights_edges_df with from_node to to_node entries\n",
    "    flights_edges_dict = dict()\n",
    "    for node in from_li:\n",
    "        flights_edges_dict[node] = str_var\n",
    "    temp_df = pd.DataFrame(list(flights_edges_dict.items()), columns=['from_node', 'to_node'])\n",
    "    flight_edges_df = pd.concat([flight_edges_df, temp_df]).reset_index()\n",
    "    flight_edges_df = flight_edges_df.drop(['index'], axis=1)\n",
    "\n",
    "    # create network\n",
    "    bn = nx.from_pandas_edgelist(flight_edges_df,source='from_node',target='to_node',create_using=nx.DiGraph())\n",
    "    \n",
    "    # check to see if there are cycles, print one cycle if there exists at least one\n",
    "    try:\n",
    "        print(nx.find_cycle(bn, source=None, orientation='original'))\n",
    "    except:\n",
    "        print('No cycle found! You may proceed.')\n",
    "        \n",
    "    return flight_edges_df, bn\n",
    "\n",
    "def draw_graph(df,name):\n",
    "    '''\n",
    "    takes in dataframe of edges (from_node, to_node) and plots directed graph\n",
    "    saves to name\n",
    "    '''\n",
    "    # create network\n",
    "    G = nx.from_pandas_edgelist(df,source='from_node',target='to_node',create_using=nx.DiGraph())\n",
    "\n",
    "    G_edges = [edge for edge in G.edges()]\n",
    "    pos = nx.spring_layout(G)\n",
    "    nx.draw_networkx_nodes(G, pos, cmap=plt.get_cmap('jet'), node_size = 200,alpha=0.3)\n",
    "    nx.draw_networkx_labels(G, pos,font_size='10')\n",
    "    nx.draw_networkx_edges(G, pos, edgelist=G_edges, edge_color='b',style='dot', arrows=True,arrow_size = 15,alpha=0.5)\n",
    "    plt.savefig('./images/'+ name)\n",
    "    plt.show()\n",
    "    \n",
    "def remove_edge(from_edge,to_edge,df):\n",
    "    '''\n",
    "    remove from_edge to to_edge directed edge from df\n",
    "    '''\n",
    "    # remove edge from df\n",
    "    df = df[(flight_edges_df.from_node != from_edge) | (flight_edges_df.to_node != to_edge)]\n",
    "    \n",
    "    # create network\n",
    "    G = nx.from_pandas_edgelist(df,source='from_node',target='to_node',create_using=nx.DiGraph())\n",
    "    # check for cycles\n",
    "    try:\n",
    "        print(nx.find_cycle(G, source=None, orientation='original'))\n",
    "    except:\n",
    "        print('No cycle found! You may proceed.')\n",
    "    return df, G"
   ]
  },
  {
   "cell_type": "markdown",
   "metadata": {},
   "source": [
    "### ARR_DEL15"
   ]
  },
  {
   "cell_type": "code",
   "execution_count": 9,
   "metadata": {},
   "outputs": [
    {
     "data": {
      "text/html": [
       "<table class=\"simpletable\">\n",
       "<caption>OLS Regression Results</caption>\n",
       "<tr>\n",
       "  <th>Dep. Variable:</th>        <td>ARR_DEL15</td>    <th>  R-squared:         </th> <td>   0.729</td> \n",
       "</tr>\n",
       "<tr>\n",
       "  <th>Model:</th>                   <td>OLS</td>       <th>  Adj. R-squared:    </th> <td>   0.727</td> \n",
       "</tr>\n",
       "<tr>\n",
       "  <th>Method:</th>             <td>Least Squares</td>  <th>  F-statistic:       </th> <td>   344.9</td> \n",
       "</tr>\n",
       "<tr>\n",
       "  <th>Date:</th>             <td>Sun, 08 Apr 2018</td> <th>  Prob (F-statistic):</th> <td>4.34e-214</td>\n",
       "</tr>\n",
       "<tr>\n",
       "  <th>Time:</th>                 <td>03:13:16</td>     <th>  Log-Likelihood:    </th> <td> -341.81</td> \n",
       "</tr>\n",
       "<tr>\n",
       "  <th>No. Observations:</th>      <td>   774</td>      <th>  AIC:               </th> <td>   695.6</td> \n",
       "</tr>\n",
       "<tr>\n",
       "  <th>Df Residuals:</th>          <td>   768</td>      <th>  BIC:               </th> <td>   723.5</td> \n",
       "</tr>\n",
       "<tr>\n",
       "  <th>Df Model:</th>              <td>     6</td>      <th>                     </th>     <td> </td>    \n",
       "</tr>\n",
       "<tr>\n",
       "  <th>Covariance Type:</th>      <td>nonrobust</td>    <th>                     </th>     <td> </td>    \n",
       "</tr>\n",
       "</table>\n",
       "<table class=\"simpletable\">\n",
       "<tr>\n",
       "           <td></td>              <th>coef</th>     <th>std err</th>      <th>t</th>      <th>P>|t|</th>  <th>[0.025</th>    <th>0.975]</th>  \n",
       "</tr>\n",
       "<tr>\n",
       "  <th>CRS_DEP_TIME</th>        <td>    0.0144</td> <td>    0.001</td> <td>   11.152</td> <td> 0.000</td> <td>    0.012</td> <td>    0.017</td>\n",
       "</tr>\n",
       "<tr>\n",
       "  <th>DEP_DELAY</th>           <td>   -0.0028</td> <td>    0.001</td> <td>   -3.058</td> <td> 0.002</td> <td>   -0.005</td> <td>   -0.001</td>\n",
       "</tr>\n",
       "<tr>\n",
       "  <th>CRS_ARR_TIME</th>        <td>    0.0078</td> <td>    0.001</td> <td>    5.491</td> <td> 0.000</td> <td>    0.005</td> <td>    0.011</td>\n",
       "</tr>\n",
       "<tr>\n",
       "  <th>CARRIER_DELAY</th>       <td>    0.0058</td> <td>    0.001</td> <td>    5.743</td> <td> 0.000</td> <td>    0.004</td> <td>    0.008</td>\n",
       "</tr>\n",
       "<tr>\n",
       "  <th>NAS_DELAY</th>           <td>    0.0161</td> <td>    0.001</td> <td>   18.837</td> <td> 0.000</td> <td>    0.014</td> <td>    0.018</td>\n",
       "</tr>\n",
       "<tr>\n",
       "  <th>LATE_AIRCRAFT_DELAY</th> <td>    0.0112</td> <td>    0.001</td> <td>    8.930</td> <td> 0.000</td> <td>    0.009</td> <td>    0.014</td>\n",
       "</tr>\n",
       "</table>\n",
       "<table class=\"simpletable\">\n",
       "<tr>\n",
       "  <th>Omnibus:</th>       <td>32.238</td> <th>  Durbin-Watson:     </th> <td>   1.960</td>\n",
       "</tr>\n",
       "<tr>\n",
       "  <th>Prob(Omnibus):</th> <td> 0.000</td> <th>  Jarque-Bera (JB):  </th> <td>  66.998</td>\n",
       "</tr>\n",
       "<tr>\n",
       "  <th>Skew:</th>          <td>-0.240</td> <th>  Prob(JB):          </th> <td>2.83e-15</td>\n",
       "</tr>\n",
       "<tr>\n",
       "  <th>Kurtosis:</th>      <td> 4.359</td> <th>  Cond. No.          </th> <td>    8.51</td>\n",
       "</tr>\n",
       "</table>"
      ],
      "text/plain": [
       "<class 'statsmodels.iolib.summary.Summary'>\n",
       "\"\"\"\n",
       "                            OLS Regression Results                            \n",
       "==============================================================================\n",
       "Dep. Variable:              ARR_DEL15   R-squared:                       0.729\n",
       "Model:                            OLS   Adj. R-squared:                  0.727\n",
       "Method:                 Least Squares   F-statistic:                     344.9\n",
       "Date:                Sun, 08 Apr 2018   Prob (F-statistic):          4.34e-214\n",
       "Time:                        03:13:16   Log-Likelihood:                -341.81\n",
       "No. Observations:                 774   AIC:                             695.6\n",
       "Df Residuals:                     768   BIC:                             723.5\n",
       "Df Model:                           6                                         \n",
       "Covariance Type:            nonrobust                                         \n",
       "=======================================================================================\n",
       "                          coef    std err          t      P>|t|      [0.025      0.975]\n",
       "---------------------------------------------------------------------------------------\n",
       "CRS_DEP_TIME            0.0144      0.001     11.152      0.000       0.012       0.017\n",
       "DEP_DELAY              -0.0028      0.001     -3.058      0.002      -0.005      -0.001\n",
       "CRS_ARR_TIME            0.0078      0.001      5.491      0.000       0.005       0.011\n",
       "CARRIER_DELAY           0.0058      0.001      5.743      0.000       0.004       0.008\n",
       "NAS_DELAY               0.0161      0.001     18.837      0.000       0.014       0.018\n",
       "LATE_AIRCRAFT_DELAY     0.0112      0.001      8.930      0.000       0.009       0.014\n",
       "==============================================================================\n",
       "Omnibus:                       32.238   Durbin-Watson:                   1.960\n",
       "Prob(Omnibus):                  0.000   Jarque-Bera (JB):               66.998\n",
       "Skew:                          -0.240   Prob(JB):                     2.83e-15\n",
       "Kurtosis:                       4.359   Cond. No.                         8.51\n",
       "==============================================================================\n",
       "\n",
       "Warnings:\n",
       "[1] Standard Errors assume that the covariance matrix of the errors is correctly specified.\n",
       "\"\"\""
      ]
     },
     "execution_count": 9,
     "metadata": {},
     "output_type": "execute_result"
    }
   ],
   "source": [
    "arr_15_from = ['CRS_DEP_TIME','DEP_DELAY','CRS_ARR_TIME','CARRIER_DELAY','NAS_DELAY','LATE_AIRCRAFT_DELAY']\n",
    "regression_model(arr_15_from, 'ARR_DEL15').summary()"
   ]
  },
  {
   "cell_type": "code",
   "execution_count": 10,
   "metadata": {},
   "outputs": [
    {
     "name": "stdout",
     "output_type": "stream",
     "text": [
      "No cycle found! You may proceed.\n"
     ]
    },
    {
     "data": {
      "image/png": "[encoded data removed]",
      "text/plain": [
       "<matplotlib.figure.Figure at 0x7fa2d68516d8>"
      ]
     },
     "metadata": {},
     "output_type": "display_data"
    }
   ],
   "source": [
    "# update dataframe of edges and draw graph\n",
    "flight_edges_df, bn = update_flights_edges_df(arr_15_from, 'ARR_DEL15',flight_edges_df)\n",
    "draw_graph(flight_edges_df,'initial_bn.png')"
   ]
  },
  {
   "cell_type": "markdown",
   "metadata": {},
   "source": [
    "Using regressional analysis, we conclude that ARR_DEL15 is dependent on six factors. So far, we do not have any cycles (remember that a Bayesian network consists of a directed acyclic graph), so we may proceed by moving onto finding more dependencies by choosing an arbitrary parent of ARR_DEL15."
   ]
  },
  {
   "cell_type": "markdown",
   "metadata": {},
   "source": [
    "### NAS Delay"
   ]
  },
  {
   "cell_type": "markdown",
   "metadata": {},
   "source": [
    "Carrier Delay depends on"
   ]
  },
  {
   "cell_type": "code",
   "execution_count": 11,
   "metadata": {},
   "outputs": [
    {
     "data": {
      "text/html": [
       "<table class=\"simpletable\">\n",
       "<caption>OLS Regression Results</caption>\n",
       "<tr>\n",
       "  <th>Dep. Variable:</th>        <td>NAS_DELAY</td>    <th>  R-squared:         </th> <td>   0.573</td> \n",
       "</tr>\n",
       "<tr>\n",
       "  <th>Model:</th>                   <td>OLS</td>       <th>  Adj. R-squared:    </th> <td>   0.568</td> \n",
       "</tr>\n",
       "<tr>\n",
       "  <th>Method:</th>             <td>Least Squares</td>  <th>  F-statistic:       </th> <td>   114.0</td> \n",
       "</tr>\n",
       "<tr>\n",
       "  <th>Date:</th>             <td>Sun, 08 Apr 2018</td> <th>  Prob (F-statistic):</th> <td>6.42e-135</td>\n",
       "</tr>\n",
       "<tr>\n",
       "  <th>Time:</th>                 <td>03:13:16</td>     <th>  Log-Likelihood:    </th> <td> -3051.5</td> \n",
       "</tr>\n",
       "<tr>\n",
       "  <th>No. Observations:</th>      <td>   774</td>      <th>  AIC:               </th> <td>   6121.</td> \n",
       "</tr>\n",
       "<tr>\n",
       "  <th>Df Residuals:</th>          <td>   765</td>      <th>  BIC:               </th> <td>   6163.</td> \n",
       "</tr>\n",
       "<tr>\n",
       "  <th>Df Model:</th>              <td>     9</td>      <th>                     </th>     <td> </td>    \n",
       "</tr>\n",
       "<tr>\n",
       "  <th>Covariance Type:</th>      <td>nonrobust</td>    <th>                     </th>     <td> </td>    \n",
       "</tr>\n",
       "</table>\n",
       "<table class=\"simpletable\">\n",
       "<tr>\n",
       "           <td></td>              <th>coef</th>     <th>std err</th>      <th>t</th>      <th>P>|t|</th>  <th>[0.025</th>    <th>0.975]</th>  \n",
       "</tr>\n",
       "<tr>\n",
       "  <th>QUARTER</th>             <td>   -2.0433</td> <td>    0.411</td> <td>   -4.971</td> <td> 0.000</td> <td>   -2.850</td> <td>   -1.236</td>\n",
       "</tr>\n",
       "<tr>\n",
       "  <th>CRS_DEP_TIME</th>        <td>   -0.5784</td> <td>    0.065</td> <td>   -8.859</td> <td> 0.000</td> <td>   -0.707</td> <td>   -0.450</td>\n",
       "</tr>\n",
       "<tr>\n",
       "  <th>DEP_DELAY</th>           <td>    0.6036</td> <td>    0.032</td> <td>   18.844</td> <td> 0.000</td> <td>    0.541</td> <td>    0.667</td>\n",
       "</tr>\n",
       "<tr>\n",
       "  <th>TAXI_OUT</th>            <td>    0.8236</td> <td>    0.041</td> <td>   20.107</td> <td> 0.000</td> <td>    0.743</td> <td>    0.904</td>\n",
       "</tr>\n",
       "<tr>\n",
       "  <th>TAXI_IN</th>             <td>    0.6331</td> <td>    0.088</td> <td>    7.198</td> <td> 0.000</td> <td>    0.460</td> <td>    0.806</td>\n",
       "</tr>\n",
       "<tr>\n",
       "  <th>CRS_ARR_TIME</th>        <td>   -0.6131</td> <td>    0.078</td> <td>   -7.902</td> <td> 0.000</td> <td>   -0.765</td> <td>   -0.461</td>\n",
       "</tr>\n",
       "<tr>\n",
       "  <th>CARRIER_DELAY</th>       <td>   -0.6187</td> <td>    0.035</td> <td>  -17.782</td> <td> 0.000</td> <td>   -0.687</td> <td>   -0.550</td>\n",
       "</tr>\n",
       "<tr>\n",
       "  <th>WEATHER_DELAY</th>       <td>   -0.5542</td> <td>    0.081</td> <td>   -6.854</td> <td> 0.000</td> <td>   -0.713</td> <td>   -0.395</td>\n",
       "</tr>\n",
       "<tr>\n",
       "  <th>LATE_AIRCRAFT_DELAY</th> <td>   -0.6725</td> <td>    0.042</td> <td>  -15.912</td> <td> 0.000</td> <td>   -0.755</td> <td>   -0.590</td>\n",
       "</tr>\n",
       "</table>\n",
       "<table class=\"simpletable\">\n",
       "<tr>\n",
       "  <th>Omnibus:</th>       <td>183.000</td> <th>  Durbin-Watson:     </th> <td>   2.020</td> \n",
       "</tr>\n",
       "<tr>\n",
       "  <th>Prob(Omnibus):</th> <td> 0.000</td>  <th>  Jarque-Bera (JB):  </th> <td> 525.450</td> \n",
       "</tr>\n",
       "<tr>\n",
       "  <th>Skew:</th>          <td> 1.167</td>  <th>  Prob(JB):          </th> <td>7.94e-115</td>\n",
       "</tr>\n",
       "<tr>\n",
       "  <th>Kurtosis:</th>      <td> 6.293</td>  <th>  Cond. No.          </th> <td>    59.6</td> \n",
       "</tr>\n",
       "</table>"
      ],
      "text/plain": [
       "<class 'statsmodels.iolib.summary.Summary'>\n",
       "\"\"\"\n",
       "                            OLS Regression Results                            \n",
       "==============================================================================\n",
       "Dep. Variable:              NAS_DELAY   R-squared:                       0.573\n",
       "Model:                            OLS   Adj. R-squared:                  0.568\n",
       "Method:                 Least Squares   F-statistic:                     114.0\n",
       "Date:                Sun, 08 Apr 2018   Prob (F-statistic):          6.42e-135\n",
       "Time:                        03:13:16   Log-Likelihood:                -3051.5\n",
       "No. Observations:                 774   AIC:                             6121.\n",
       "Df Residuals:                     765   BIC:                             6163.\n",
       "Df Model:                           9                                         \n",
       "Covariance Type:            nonrobust                                         \n",
       "=======================================================================================\n",
       "                          coef    std err          t      P>|t|      [0.025      0.975]\n",
       "---------------------------------------------------------------------------------------\n",
       "QUARTER                -2.0433      0.411     -4.971      0.000      -2.850      -1.236\n",
       "CRS_DEP_TIME           -0.5784      0.065     -8.859      0.000      -0.707      -0.450\n",
       "DEP_DELAY               0.6036      0.032     18.844      0.000       0.541       0.667\n",
       "TAXI_OUT                0.8236      0.041     20.107      0.000       0.743       0.904\n",
       "TAXI_IN                 0.6331      0.088      7.198      0.000       0.460       0.806\n",
       "CRS_ARR_TIME           -0.6131      0.078     -7.902      0.000      -0.765      -0.461\n",
       "CARRIER_DELAY          -0.6187      0.035    -17.782      0.000      -0.687      -0.550\n",
       "WEATHER_DELAY          -0.5542      0.081     -6.854      0.000      -0.713      -0.395\n",
       "LATE_AIRCRAFT_DELAY    -0.6725      0.042    -15.912      0.000      -0.755      -0.590\n",
       "==============================================================================\n",
       "Omnibus:                      183.000   Durbin-Watson:                   2.020\n",
       "Prob(Omnibus):                  0.000   Jarque-Bera (JB):              525.450\n",
       "Skew:                           1.167   Prob(JB):                    7.94e-115\n",
       "Kurtosis:                       6.293   Cond. No.                         59.6\n",
       "==============================================================================\n",
       "\n",
       "Warnings:\n",
       "[1] Standard Errors assume that the covariance matrix of the errors is correctly specified.\n",
       "\"\"\""
      ]
     },
     "execution_count": 11,
     "metadata": {},
     "output_type": "execute_result"
    }
   ],
   "source": [
    "nas_delay_from = ['QUARTER','CRS_DEP_TIME','DEP_DELAY','TAXI_OUT','TAXI_IN','CRS_ARR_TIME','CARRIER_DELAY','WEATHER_DELAY','LATE_AIRCRAFT_DELAY']\n",
    "regression_model(nas_delay_from, 'NAS_DELAY').summary()"
   ]
  },
  {
   "cell_type": "code",
   "execution_count": 12,
   "metadata": {},
   "outputs": [
    {
     "name": "stdout",
     "output_type": "stream",
     "text": [
      "No cycle found! You may proceed.\n"
     ]
    }
   ],
   "source": [
    "flight_edges_df, bn = update_flights_edges_df(nas_delay_from, 'NAS_DELAY',flight_edges_df)"
   ]
  },
  {
   "cell_type": "code",
   "execution_count": 13,
   "metadata": {},
   "outputs": [
    {
     "data": {
      "image/png": "[encoded data removed]",
      "text/plain": [
       "<matplotlib.figure.Figure at 0x7fa2d68518d0>"
      ]
     },
     "metadata": {},
     "output_type": "display_data"
    }
   ],
   "source": [
    "draw_graph(flight_edges_df, 'nas-arr_del15.png')"
   ]
  },
  {
   "cell_type": "markdown",
   "metadata": {},
   "source": [
    "### Late Aircraft Delay"
   ]
  },
  {
   "cell_type": "markdown",
   "metadata": {},
   "source": [
    "Now, we took a look at the variables that LATE_AIRCRAFT_DELAY rely on. From this point on, we will not display the graph."
   ]
  },
  {
   "cell_type": "code",
   "execution_count": 14,
   "metadata": {},
   "outputs": [
    {
     "data": {
      "text/html": [
       "<table class=\"simpletable\">\n",
       "<caption>OLS Regression Results</caption>\n",
       "<tr>\n",
       "  <th>Dep. Variable:</th>    <td>LATE_AIRCRAFT_DELAY</td> <th>  R-squared:         </th> <td>   0.797</td> \n",
       "</tr>\n",
       "<tr>\n",
       "  <th>Model:</th>                    <td>OLS</td>         <th>  Adj. R-squared:    </th> <td>   0.796</td> \n",
       "</tr>\n",
       "<tr>\n",
       "  <th>Method:</th>              <td>Least Squares</td>    <th>  F-statistic:       </th> <td>   603.9</td> \n",
       "</tr>\n",
       "<tr>\n",
       "  <th>Date:</th>              <td>Sun, 08 Apr 2018</td>   <th>  Prob (F-statistic):</th> <td>2.16e-263</td>\n",
       "</tr>\n",
       "<tr>\n",
       "  <th>Time:</th>                  <td>03:13:16</td>       <th>  Log-Likelihood:    </th> <td> -2893.4</td> \n",
       "</tr>\n",
       "<tr>\n",
       "  <th>No. Observations:</th>       <td>   774</td>        <th>  AIC:               </th> <td>   5797.</td> \n",
       "</tr>\n",
       "<tr>\n",
       "  <th>Df Residuals:</th>           <td>   769</td>        <th>  BIC:               </th> <td>   5820.</td> \n",
       "</tr>\n",
       "<tr>\n",
       "  <th>Df Model:</th>               <td>     5</td>        <th>                     </th>     <td> </td>    \n",
       "</tr>\n",
       "<tr>\n",
       "  <th>Covariance Type:</th>       <td>nonrobust</td>      <th>                     </th>     <td> </td>    \n",
       "</tr>\n",
       "</table>\n",
       "<table class=\"simpletable\">\n",
       "<tr>\n",
       "        <td></td>           <th>coef</th>     <th>std err</th>      <th>t</th>      <th>P>|t|</th>  <th>[0.025</th>    <th>0.975]</th>  \n",
       "</tr>\n",
       "<tr>\n",
       "  <th>MONTH</th>         <td>    0.2062</td> <td>    0.055</td> <td>    3.758</td> <td> 0.000</td> <td>    0.098</td> <td>    0.314</td>\n",
       "</tr>\n",
       "<tr>\n",
       "  <th>DEP_DELAY</th>     <td>    0.6565</td> <td>    0.013</td> <td>   51.483</td> <td> 0.000</td> <td>    0.631</td> <td>    0.682</td>\n",
       "</tr>\n",
       "<tr>\n",
       "  <th>CARRIER_DELAY</th> <td>   -0.6708</td> <td>    0.017</td> <td>  -39.530</td> <td> 0.000</td> <td>   -0.704</td> <td>   -0.638</td>\n",
       "</tr>\n",
       "<tr>\n",
       "  <th>WEATHER_DELAY</th> <td>   -0.6623</td> <td>    0.062</td> <td>  -10.690</td> <td> 0.000</td> <td>   -0.784</td> <td>   -0.541</td>\n",
       "</tr>\n",
       "<tr>\n",
       "  <th>NAS_DELAY</th>     <td>   -0.2181</td> <td>    0.021</td> <td>  -10.146</td> <td> 0.000</td> <td>   -0.260</td> <td>   -0.176</td>\n",
       "</tr>\n",
       "</table>\n",
       "<table class=\"simpletable\">\n",
       "<tr>\n",
       "  <th>Omnibus:</th>       <td>265.649</td> <th>  Durbin-Watson:     </th> <td>   2.064</td>\n",
       "</tr>\n",
       "<tr>\n",
       "  <th>Prob(Omnibus):</th> <td> 0.000</td>  <th>  Jarque-Bera (JB):  </th> <td>5028.370</td>\n",
       "</tr>\n",
       "<tr>\n",
       "  <th>Skew:</th>          <td>-1.050</td>  <th>  Prob(JB):          </th> <td>    0.00</td>\n",
       "</tr>\n",
       "<tr>\n",
       "  <th>Kurtosis:</th>      <td>15.309</td>  <th>  Cond. No.          </th> <td>    10.6</td>\n",
       "</tr>\n",
       "</table>"
      ],
      "text/plain": [
       "<class 'statsmodels.iolib.summary.Summary'>\n",
       "\"\"\"\n",
       "                             OLS Regression Results                            \n",
       "===============================================================================\n",
       "Dep. Variable:     LATE_AIRCRAFT_DELAY   R-squared:                       0.797\n",
       "Model:                             OLS   Adj. R-squared:                  0.796\n",
       "Method:                  Least Squares   F-statistic:                     603.9\n",
       "Date:                 Sun, 08 Apr 2018   Prob (F-statistic):          2.16e-263\n",
       "Time:                         03:13:16   Log-Likelihood:                -2893.4\n",
       "No. Observations:                  774   AIC:                             5797.\n",
       "Df Residuals:                      769   BIC:                             5820.\n",
       "Df Model:                            5                                         \n",
       "Covariance Type:             nonrobust                                         \n",
       "=================================================================================\n",
       "                    coef    std err          t      P>|t|      [0.025      0.975]\n",
       "---------------------------------------------------------------------------------\n",
       "MONTH             0.2062      0.055      3.758      0.000       0.098       0.314\n",
       "DEP_DELAY         0.6565      0.013     51.483      0.000       0.631       0.682\n",
       "CARRIER_DELAY    -0.6708      0.017    -39.530      0.000      -0.704      -0.638\n",
       "WEATHER_DELAY    -0.6623      0.062    -10.690      0.000      -0.784      -0.541\n",
       "NAS_DELAY        -0.2181      0.021    -10.146      0.000      -0.260      -0.176\n",
       "==============================================================================\n",
       "Omnibus:                      265.649   Durbin-Watson:                   2.064\n",
       "Prob(Omnibus):                  0.000   Jarque-Bera (JB):             5028.370\n",
       "Skew:                          -1.050   Prob(JB):                         0.00\n",
       "Kurtosis:                      15.309   Cond. No.                         10.6\n",
       "==============================================================================\n",
       "\n",
       "Warnings:\n",
       "[1] Standard Errors assume that the covariance matrix of the errors is correctly specified.\n",
       "\"\"\""
      ]
     },
     "execution_count": 14,
     "metadata": {},
     "output_type": "execute_result"
    }
   ],
   "source": [
    "late_aircraft_from = ['MONTH','DEP_DELAY','CARRIER_DELAY','WEATHER_DELAY','NAS_DELAY']\n",
    "regression_model(late_aircraft_from, 'LATE_AIRCRAFT_DELAY').summary()"
   ]
  },
  {
   "cell_type": "code",
   "execution_count": 15,
   "metadata": {},
   "outputs": [
    {
     "name": "stdout",
     "output_type": "stream",
     "text": [
      "[('NAS_DELAY', 'LATE_AIRCRAFT_DELAY'), ('LATE_AIRCRAFT_DELAY', 'NAS_DELAY')]\n"
     ]
    }
   ],
   "source": [
    "flight_edges_df, bn = update_flights_edges_df(late_aircraft_from, 'LATE_AIRCRAFT_DELAY',flight_edges_df)"
   ]
  },
  {
   "cell_type": "markdown",
   "metadata": {},
   "source": [
    "Since __NAS_DELAY__ and __LATE_AIRCRAFT_DELAY__ have edges pointing to each other, we must decide which edge we are going to get rid of. The FAA (http://aspmhelp.faa.gov/index.php/Types_of_Delay) defines __NAS_DELAY__ as delay that is \"within the control of the National Airspace System (NAS),\" including \"non-extreme weather conditions, airport operations, heavy traffic volume, air traffic control, etc.\" It goes on to state that delays at the destination airport that occur after Actual Gate Out time are attributed to the NAS (such as gate in delay and taxi in delay). On the other hand, FAA defines __LATE_AIRCRAFT_DELAY__ as arrival delay due to the ripple effect of an earlier delay at downstream airports is referred to as delay propagation. That is, the two seem to have no direct relationship with one another at all. Therefore, we remove both edges."
   ]
  },
  {
   "cell_type": "code",
   "execution_count": 16,
   "metadata": {},
   "outputs": [
    {
     "name": "stdout",
     "output_type": "stream",
     "text": [
      "No cycle found! You may proceed.\n",
      "No cycle found! You may proceed.\n"
     ]
    }
   ],
   "source": [
    "# remove both edges\n",
    "flight_edges_df, _ = remove_edge('NAS_DELAY','LATE_AIRCRAFT_DELAY', flight_edges_df)\n",
    "flight_edges_df, bn = remove_edge('LATE_AIRCRAFT_DELAY','NAS_DELAY', flight_edges_df)"
   ]
  },
  {
   "cell_type": "markdown",
   "metadata": {},
   "source": [
    "### Carrier Delay"
   ]
  },
  {
   "cell_type": "code",
   "execution_count": 17,
   "metadata": {},
   "outputs": [
    {
     "data": {
      "text/html": [
       "<table class=\"simpletable\">\n",
       "<caption>OLS Regression Results</caption>\n",
       "<tr>\n",
       "  <th>Dep. Variable:</th>      <td>CARRIER_DELAY</td>  <th>  R-squared:         </th> <td>   0.916</td>\n",
       "</tr>\n",
       "<tr>\n",
       "  <th>Model:</th>                   <td>OLS</td>       <th>  Adj. R-squared:    </th> <td>   0.916</td>\n",
       "</tr>\n",
       "<tr>\n",
       "  <th>Method:</th>             <td>Least Squares</td>  <th>  F-statistic:       </th> <td>   1051.</td>\n",
       "</tr>\n",
       "<tr>\n",
       "  <th>Date:</th>             <td>Sun, 08 Apr 2018</td> <th>  Prob (F-statistic):</th>  <td>  0.00</td> \n",
       "</tr>\n",
       "<tr>\n",
       "  <th>Time:</th>                 <td>03:13:17</td>     <th>  Log-Likelihood:    </th> <td> -2954.1</td>\n",
       "</tr>\n",
       "<tr>\n",
       "  <th>No. Observations:</th>      <td>   774</td>      <th>  AIC:               </th> <td>   5924.</td>\n",
       "</tr>\n",
       "<tr>\n",
       "  <th>Df Residuals:</th>          <td>   766</td>      <th>  BIC:               </th> <td>   5961.</td>\n",
       "</tr>\n",
       "<tr>\n",
       "  <th>Df Model:</th>              <td>     8</td>      <th>                     </th>     <td> </td>   \n",
       "</tr>\n",
       "<tr>\n",
       "  <th>Covariance Type:</th>      <td>nonrobust</td>    <th>                     </th>     <td> </td>   \n",
       "</tr>\n",
       "</table>\n",
       "<table class=\"simpletable\">\n",
       "<tr>\n",
       "           <td></td>              <th>coef</th>     <th>std err</th>      <th>t</th>      <th>P>|t|</th>  <th>[0.025</th>    <th>0.975]</th>  \n",
       "</tr>\n",
       "<tr>\n",
       "  <th>CRS_DEP_TIME</th>        <td>   -0.5404</td> <td>    0.054</td> <td>   -9.944</td> <td> 0.000</td> <td>   -0.647</td> <td>   -0.434</td>\n",
       "</tr>\n",
       "<tr>\n",
       "  <th>DEP_DELAY</th>           <td>    0.8942</td> <td>    0.010</td> <td>   88.829</td> <td> 0.000</td> <td>    0.874</td> <td>    0.914</td>\n",
       "</tr>\n",
       "<tr>\n",
       "  <th>TAXI_OUT</th>            <td>    0.5047</td> <td>    0.039</td> <td>   13.063</td> <td> 0.000</td> <td>    0.429</td> <td>    0.581</td>\n",
       "</tr>\n",
       "<tr>\n",
       "  <th>TAXI_IN</th>             <td>    0.5179</td> <td>    0.076</td> <td>    6.799</td> <td> 0.000</td> <td>    0.368</td> <td>    0.667</td>\n",
       "</tr>\n",
       "<tr>\n",
       "  <th>CRS_ARR_TIME</th>        <td>   -0.6918</td> <td>    0.064</td> <td>  -10.827</td> <td> 0.000</td> <td>   -0.817</td> <td>   -0.566</td>\n",
       "</tr>\n",
       "<tr>\n",
       "  <th>WEATHER_DELAY</th>       <td>   -0.8523</td> <td>    0.067</td> <td>  -12.803</td> <td> 0.000</td> <td>   -0.983</td> <td>   -0.722</td>\n",
       "</tr>\n",
       "<tr>\n",
       "  <th>NAS_DELAY</th>           <td>   -0.4604</td> <td>    0.027</td> <td>  -17.321</td> <td> 0.000</td> <td>   -0.513</td> <td>   -0.408</td>\n",
       "</tr>\n",
       "<tr>\n",
       "  <th>LATE_AIRCRAFT_DELAY</th> <td>   -0.9965</td> <td>    0.023</td> <td>  -43.961</td> <td> 0.000</td> <td>   -1.041</td> <td>   -0.952</td>\n",
       "</tr>\n",
       "</table>\n",
       "<table class=\"simpletable\">\n",
       "<tr>\n",
       "  <th>Omnibus:</th>       <td>192.835</td> <th>  Durbin-Watson:     </th> <td>   2.050</td>\n",
       "</tr>\n",
       "<tr>\n",
       "  <th>Prob(Omnibus):</th> <td> 0.000</td>  <th>  Jarque-Bera (JB):  </th> <td>6905.227</td>\n",
       "</tr>\n",
       "<tr>\n",
       "  <th>Skew:</th>          <td>-0.330</td>  <th>  Prob(JB):          </th> <td>    0.00</td>\n",
       "</tr>\n",
       "<tr>\n",
       "  <th>Kurtosis:</th>      <td>17.618</td>  <th>  Cond. No.          </th> <td>    13.1</td>\n",
       "</tr>\n",
       "</table>"
      ],
      "text/plain": [
       "<class 'statsmodels.iolib.summary.Summary'>\n",
       "\"\"\"\n",
       "                            OLS Regression Results                            \n",
       "==============================================================================\n",
       "Dep. Variable:          CARRIER_DELAY   R-squared:                       0.916\n",
       "Model:                            OLS   Adj. R-squared:                  0.916\n",
       "Method:                 Least Squares   F-statistic:                     1051.\n",
       "Date:                Sun, 08 Apr 2018   Prob (F-statistic):               0.00\n",
       "Time:                        03:13:17   Log-Likelihood:                -2954.1\n",
       "No. Observations:                 774   AIC:                             5924.\n",
       "Df Residuals:                     766   BIC:                             5961.\n",
       "Df Model:                           8                                         \n",
       "Covariance Type:            nonrobust                                         \n",
       "=======================================================================================\n",
       "                          coef    std err          t      P>|t|      [0.025      0.975]\n",
       "---------------------------------------------------------------------------------------\n",
       "CRS_DEP_TIME           -0.5404      0.054     -9.944      0.000      -0.647      -0.434\n",
       "DEP_DELAY               0.8942      0.010     88.829      0.000       0.874       0.914\n",
       "TAXI_OUT                0.5047      0.039     13.063      0.000       0.429       0.581\n",
       "TAXI_IN                 0.5179      0.076      6.799      0.000       0.368       0.667\n",
       "CRS_ARR_TIME           -0.6918      0.064    -10.827      0.000      -0.817      -0.566\n",
       "WEATHER_DELAY          -0.8523      0.067    -12.803      0.000      -0.983      -0.722\n",
       "NAS_DELAY              -0.4604      0.027    -17.321      0.000      -0.513      -0.408\n",
       "LATE_AIRCRAFT_DELAY    -0.9965      0.023    -43.961      0.000      -1.041      -0.952\n",
       "==============================================================================\n",
       "Omnibus:                      192.835   Durbin-Watson:                   2.050\n",
       "Prob(Omnibus):                  0.000   Jarque-Bera (JB):             6905.227\n",
       "Skew:                          -0.330   Prob(JB):                         0.00\n",
       "Kurtosis:                      17.618   Cond. No.                         13.1\n",
       "==============================================================================\n",
       "\n",
       "Warnings:\n",
       "[1] Standard Errors assume that the covariance matrix of the errors is correctly specified.\n",
       "\"\"\""
      ]
     },
     "execution_count": 17,
     "metadata": {},
     "output_type": "execute_result"
    }
   ],
   "source": [
    "carrier_delay_from = ['CRS_DEP_TIME','DEP_DELAY','TAXI_OUT','TAXI_IN','CRS_ARR_TIME','WEATHER_DELAY','NAS_DELAY','LATE_AIRCRAFT_DELAY']\n",
    "regression_model(carrier_delay_from, 'CARRIER_DELAY').summary()"
   ]
  },
  {
   "cell_type": "code",
   "execution_count": 18,
   "metadata": {},
   "outputs": [
    {
     "name": "stdout",
     "output_type": "stream",
     "text": [
      "[('NAS_DELAY', 'CARRIER_DELAY'), ('CARRIER_DELAY', 'NAS_DELAY')]\n"
     ]
    }
   ],
   "source": [
    "flight_edges_df, bn = update_flights_edges_df(carrier_delay_from, 'CARRIER_DELAY',flight_edges_df)"
   ]
  },
  {
   "cell_type": "markdown",
   "metadata": {},
   "source": [
    "__CARRIER_DELAY__ is within the control of the air carrier, such as: aircraft cleaning, aircraft damage, awaiting the arrival of connecting passengers or crew, baggage, bird strike, cargo loading, catering, computer, outage-carrier equipment, crew legality (pilot or attendant rest), damage by hazardous goods, engineering inspection, fueling, handling disabled passengers, late crew, lavatory servicing, maintenance, oversales, potable water servicing, removal of unruly passenger, slow boarding or seating, stowing carry-on baggage, weight and balance delays. This seems to have little to do with __NAS_DELAY__ and vice versa. Thus, we remove both edges"
   ]
  },
  {
   "cell_type": "code",
   "execution_count": 19,
   "metadata": {},
   "outputs": [
    {
     "name": "stdout",
     "output_type": "stream",
     "text": [
      "[('CARRIER_DELAY', 'LATE_AIRCRAFT_DELAY'), ('LATE_AIRCRAFT_DELAY', 'CARRIER_DELAY')]\n",
      "[('CARRIER_DELAY', 'LATE_AIRCRAFT_DELAY'), ('LATE_AIRCRAFT_DELAY', 'CARRIER_DELAY')]\n"
     ]
    }
   ],
   "source": [
    "# remove both edges\n",
    "flight_edges_df, _ = remove_edge('CARRIER_DELAY','NAS_DELAY', flight_edges_df)\n",
    "flight_edges_df, bn = remove_edge('NAS_DELAY','CARRIER_DELAY', flight_edges_df)"
   ]
  },
  {
   "cell_type": "markdown",
   "metadata": {},
   "source": [
    "Recall that FAA defines __LATE_AIRCRAFT_DELAY__ as arrival delay due to the ripple effect of an earlier delay at downstream airports is referred to as delay propagation. It would seem probable that a late prior aircraft could cause carrier delay but not the other way around. Thus, we only remove the edge from CARRIER_DELAY to LATE_AIRCRAFT_DELAY."
   ]
  },
  {
   "cell_type": "code",
   "execution_count": 20,
   "metadata": {},
   "outputs": [
    {
     "name": "stdout",
     "output_type": "stream",
     "text": [
      "No cycle found! You may proceed.\n"
     ]
    }
   ],
   "source": [
    "flight_edges_df, bn = remove_edge('CARRIER_DELAY','LATE_AIRCRAFT_DELAY', flight_edges_df)"
   ]
  },
  {
   "cell_type": "markdown",
   "metadata": {},
   "source": [
    "### WEATHER_DELAY"
   ]
  },
  {
   "cell_type": "markdown",
   "metadata": {},
   "source": [
    "Though not ideal in p-value, CRS_DEP_TIME seems like the only likely variable which WEATHER_DELAY may be dependent on."
   ]
  },
  {
   "cell_type": "code",
   "execution_count": 21,
   "metadata": {},
   "outputs": [
    {
     "data": {
      "text/html": [
       "<table class=\"simpletable\">\n",
       "<caption>OLS Regression Results</caption>\n",
       "<tr>\n",
       "  <th>Dep. Variable:</th>      <td>WEATHER_DELAY</td>  <th>  R-squared:         </th> <td>   0.003</td>\n",
       "</tr>\n",
       "<tr>\n",
       "  <th>Model:</th>                   <td>OLS</td>       <th>  Adj. R-squared:    </th> <td>   0.002</td>\n",
       "</tr>\n",
       "<tr>\n",
       "  <th>Method:</th>             <td>Least Squares</td>  <th>  F-statistic:       </th> <td>   2.640</td>\n",
       "</tr>\n",
       "<tr>\n",
       "  <th>Date:</th>             <td>Sun, 08 Apr 2018</td> <th>  Prob (F-statistic):</th>  <td> 0.105</td> \n",
       "</tr>\n",
       "<tr>\n",
       "  <th>Time:</th>                 <td>03:13:17</td>     <th>  Log-Likelihood:    </th> <td> -2489.1</td>\n",
       "</tr>\n",
       "<tr>\n",
       "  <th>No. Observations:</th>      <td>   774</td>      <th>  AIC:               </th> <td>   4980.</td>\n",
       "</tr>\n",
       "<tr>\n",
       "  <th>Df Residuals:</th>          <td>   773</td>      <th>  BIC:               </th> <td>   4985.</td>\n",
       "</tr>\n",
       "<tr>\n",
       "  <th>Df Model:</th>              <td>     1</td>      <th>                     </th>     <td> </td>   \n",
       "</tr>\n",
       "<tr>\n",
       "  <th>Covariance Type:</th>      <td>nonrobust</td>    <th>                     </th>     <td> </td>   \n",
       "</tr>\n",
       "</table>\n",
       "<table class=\"simpletable\">\n",
       "<tr>\n",
       "        <td></td>          <th>coef</th>     <th>std err</th>      <th>t</th>      <th>P>|t|</th>  <th>[0.025</th>    <th>0.975]</th>  \n",
       "</tr>\n",
       "<tr>\n",
       "  <th>CRS_DEP_TIME</th> <td>    0.0231</td> <td>    0.014</td> <td>    1.625</td> <td> 0.105</td> <td>   -0.005</td> <td>    0.051</td>\n",
       "</tr>\n",
       "</table>\n",
       "<table class=\"simpletable\">\n",
       "<tr>\n",
       "  <th>Omnibus:</th>       <td>2020.201</td> <th>  Durbin-Watson:     </th>   <td>   2.004</td>  \n",
       "</tr>\n",
       "<tr>\n",
       "  <th>Prob(Omnibus):</th>  <td> 0.000</td>  <th>  Jarque-Bera (JB):  </th> <td>18171315.451</td>\n",
       "</tr>\n",
       "<tr>\n",
       "  <th>Skew:</th>           <td>27.247</td>  <th>  Prob(JB):          </th>   <td>    0.00</td>  \n",
       "</tr>\n",
       "<tr>\n",
       "  <th>Kurtosis:</th>       <td>751.654</td> <th>  Cond. No.          </th>   <td>    1.00</td>  \n",
       "</tr>\n",
       "</table>"
      ],
      "text/plain": [
       "<class 'statsmodels.iolib.summary.Summary'>\n",
       "\"\"\"\n",
       "                            OLS Regression Results                            \n",
       "==============================================================================\n",
       "Dep. Variable:          WEATHER_DELAY   R-squared:                       0.003\n",
       "Model:                            OLS   Adj. R-squared:                  0.002\n",
       "Method:                 Least Squares   F-statistic:                     2.640\n",
       "Date:                Sun, 08 Apr 2018   Prob (F-statistic):              0.105\n",
       "Time:                        03:13:17   Log-Likelihood:                -2489.1\n",
       "No. Observations:                 774   AIC:                             4980.\n",
       "Df Residuals:                     773   BIC:                             4985.\n",
       "Df Model:                           1                                         \n",
       "Covariance Type:            nonrobust                                         \n",
       "================================================================================\n",
       "                   coef    std err          t      P>|t|      [0.025      0.975]\n",
       "--------------------------------------------------------------------------------\n",
       "CRS_DEP_TIME     0.0231      0.014      1.625      0.105      -0.005       0.051\n",
       "==============================================================================\n",
       "Omnibus:                     2020.201   Durbin-Watson:                   2.004\n",
       "Prob(Omnibus):                  0.000   Jarque-Bera (JB):         18171315.451\n",
       "Skew:                          27.247   Prob(JB):                         0.00\n",
       "Kurtosis:                     751.654   Cond. No.                         1.00\n",
       "==============================================================================\n",
       "\n",
       "Warnings:\n",
       "[1] Standard Errors assume that the covariance matrix of the errors is correctly specified.\n",
       "\"\"\""
      ]
     },
     "execution_count": 21,
     "metadata": {},
     "output_type": "execute_result"
    }
   ],
   "source": [
    "weather_delay_from = ['CRS_DEP_TIME']\n",
    "regression_model(weather_delay_from, 'WEATHER_DELAY').summary()"
   ]
  },
  {
   "cell_type": "code",
   "execution_count": 22,
   "metadata": {},
   "outputs": [
    {
     "name": "stdout",
     "output_type": "stream",
     "text": [
      "No cycle found! You may proceed.\n"
     ]
    }
   ],
   "source": [
    "flight_edges_df, bn = update_flights_edges_df(weather_delay_from, 'WEATHER_DELAY',flight_edges_df)"
   ]
  },
  {
   "cell_type": "markdown",
   "metadata": {},
   "source": [
    "### Calendar Quarter"
   ]
  },
  {
   "cell_type": "markdown",
   "metadata": {},
   "source": [
    "We come to a rather interesting (not entirely unlikely) conclusion that CRS_DEP_TIME and CRS_ARR_TIME may directly influence QUARTER."
   ]
  },
  {
   "cell_type": "code",
   "execution_count": 23,
   "metadata": {},
   "outputs": [
    {
     "data": {
      "text/html": [
       "<table class=\"simpletable\">\n",
       "<caption>OLS Regression Results</caption>\n",
       "<tr>\n",
       "  <th>Dep. Variable:</th>         <td>QUARTER</td>     <th>  R-squared:         </th> <td>   0.991</td> \n",
       "</tr>\n",
       "<tr>\n",
       "  <th>Model:</th>                   <td>OLS</td>       <th>  Adj. R-squared:    </th> <td>   0.991</td> \n",
       "</tr>\n",
       "<tr>\n",
       "  <th>Method:</th>             <td>Least Squares</td>  <th>  F-statistic:       </th> <td>2.692e+04</td>\n",
       "</tr>\n",
       "<tr>\n",
       "  <th>Date:</th>             <td>Sun, 08 Apr 2018</td> <th>  Prob (F-statistic):</th>  <td>  0.00</td>  \n",
       "</tr>\n",
       "<tr>\n",
       "  <th>Time:</th>                 <td>03:13:17</td>     <th>  Log-Likelihood:    </th> <td> -102.28</td> \n",
       "</tr>\n",
       "<tr>\n",
       "  <th>No. Observations:</th>      <td>   774</td>      <th>  AIC:               </th> <td>   210.6</td> \n",
       "</tr>\n",
       "<tr>\n",
       "  <th>Df Residuals:</th>          <td>   771</td>      <th>  BIC:               </th> <td>   224.5</td> \n",
       "</tr>\n",
       "<tr>\n",
       "  <th>Df Model:</th>              <td>     3</td>      <th>                     </th>     <td> </td>    \n",
       "</tr>\n",
       "<tr>\n",
       "  <th>Covariance Type:</th>      <td>nonrobust</td>    <th>                     </th>     <td> </td>    \n",
       "</tr>\n",
       "</table>\n",
       "<table class=\"simpletable\">\n",
       "<tr>\n",
       "        <td></td>          <th>coef</th>     <th>std err</th>      <th>t</th>      <th>P>|t|</th>  <th>[0.025</th>    <th>0.975]</th>  \n",
       "</tr>\n",
       "<tr>\n",
       "  <th>MONTH</th>        <td>    0.3218</td> <td>    0.003</td> <td>  112.037</td> <td> 0.000</td> <td>    0.316</td> <td>    0.327</td>\n",
       "</tr>\n",
       "<tr>\n",
       "  <th>CRS_DEP_TIME</th> <td>    0.0111</td> <td>    0.001</td> <td>    9.515</td> <td> 0.000</td> <td>    0.009</td> <td>    0.013</td>\n",
       "</tr>\n",
       "<tr>\n",
       "  <th>CRS_ARR_TIME</th> <td>    0.0183</td> <td>    0.001</td> <td>   15.120</td> <td> 0.000</td> <td>    0.016</td> <td>    0.021</td>\n",
       "</tr>\n",
       "</table>\n",
       "<table class=\"simpletable\">\n",
       "<tr>\n",
       "  <th>Omnibus:</th>       <td>1024.760</td> <th>  Durbin-Watson:     </th> <td>   2.034</td>\n",
       "</tr>\n",
       "<tr>\n",
       "  <th>Prob(Omnibus):</th>  <td> 0.000</td>  <th>  Jarque-Bera (JB):  </th> <td>  52.486</td>\n",
       "</tr>\n",
       "<tr>\n",
       "  <th>Skew:</th>           <td> 0.061</td>  <th>  Prob(JB):          </th> <td>4.01e-12</td>\n",
       "</tr>\n",
       "<tr>\n",
       "  <th>Kurtosis:</th>       <td> 1.730</td>  <th>  Cond. No.          </th> <td>    6.37</td>\n",
       "</tr>\n",
       "</table>"
      ],
      "text/plain": [
       "<class 'statsmodels.iolib.summary.Summary'>\n",
       "\"\"\"\n",
       "                            OLS Regression Results                            \n",
       "==============================================================================\n",
       "Dep. Variable:                QUARTER   R-squared:                       0.991\n",
       "Model:                            OLS   Adj. R-squared:                  0.991\n",
       "Method:                 Least Squares   F-statistic:                 2.692e+04\n",
       "Date:                Sun, 08 Apr 2018   Prob (F-statistic):               0.00\n",
       "Time:                        03:13:17   Log-Likelihood:                -102.28\n",
       "No. Observations:                 774   AIC:                             210.6\n",
       "Df Residuals:                     771   BIC:                             224.5\n",
       "Df Model:                           3                                         \n",
       "Covariance Type:            nonrobust                                         \n",
       "================================================================================\n",
       "                   coef    std err          t      P>|t|      [0.025      0.975]\n",
       "--------------------------------------------------------------------------------\n",
       "MONTH            0.3218      0.003    112.037      0.000       0.316       0.327\n",
       "CRS_DEP_TIME     0.0111      0.001      9.515      0.000       0.009       0.013\n",
       "CRS_ARR_TIME     0.0183      0.001     15.120      0.000       0.016       0.021\n",
       "==============================================================================\n",
       "Omnibus:                     1024.760   Durbin-Watson:                   2.034\n",
       "Prob(Omnibus):                  0.000   Jarque-Bera (JB):               52.486\n",
       "Skew:                           0.061   Prob(JB):                     4.01e-12\n",
       "Kurtosis:                       1.730   Cond. No.                         6.37\n",
       "==============================================================================\n",
       "\n",
       "Warnings:\n",
       "[1] Standard Errors assume that the covariance matrix of the errors is correctly specified.\n",
       "\"\"\""
      ]
     },
     "execution_count": 23,
     "metadata": {},
     "output_type": "execute_result"
    }
   ],
   "source": [
    "quarter_from = ['MONTH','CRS_DEP_TIME','CRS_ARR_TIME']\n",
    "regression_model(quarter_from, 'QUARTER').summary()"
   ]
  },
  {
   "cell_type": "code",
   "execution_count": 24,
   "metadata": {},
   "outputs": [
    {
     "name": "stdout",
     "output_type": "stream",
     "text": [
      "No cycle found! You may proceed.\n"
     ]
    }
   ],
   "source": [
    "flight_edges_df, bn = update_flights_edges_df(quarter_from, 'QUARTER',flight_edges_df)"
   ]
  },
  {
   "cell_type": "markdown",
   "metadata": {},
   "source": [
    "### Departure Delay"
   ]
  },
  {
   "cell_type": "markdown",
   "metadata": {},
   "source": [
    "This is the difference in minutes between scheduled and actual departure time. Early departures show negative numbers."
   ]
  },
  {
   "cell_type": "code",
   "execution_count": 25,
   "metadata": {},
   "outputs": [
    {
     "data": {
      "text/html": [
       "<table class=\"simpletable\">\n",
       "<caption>OLS Regression Results</caption>\n",
       "<tr>\n",
       "  <th>Dep. Variable:</th>        <td>DEP_DELAY</td>    <th>  R-squared:         </th> <td>   0.953</td>\n",
       "</tr>\n",
       "<tr>\n",
       "  <th>Model:</th>                   <td>OLS</td>       <th>  Adj. R-squared:    </th> <td>   0.953</td>\n",
       "</tr>\n",
       "<tr>\n",
       "  <th>Method:</th>             <td>Least Squares</td>  <th>  F-statistic:       </th> <td>   1419.</td>\n",
       "</tr>\n",
       "<tr>\n",
       "  <th>Date:</th>             <td>Sun, 08 Apr 2018</td> <th>  Prob (F-statistic):</th>  <td>  0.00</td> \n",
       "</tr>\n",
       "<tr>\n",
       "  <th>Time:</th>                 <td>03:13:17</td>     <th>  Log-Likelihood:    </th> <td> -2990.4</td>\n",
       "</tr>\n",
       "<tr>\n",
       "  <th>No. Observations:</th>      <td>   774</td>      <th>  AIC:               </th> <td>   6003.</td>\n",
       "</tr>\n",
       "<tr>\n",
       "  <th>Df Residuals:</th>          <td>   763</td>      <th>  BIC:               </th> <td>   6054.</td>\n",
       "</tr>\n",
       "<tr>\n",
       "  <th>Df Model:</th>              <td>    11</td>      <th>                     </th>     <td> </td>   \n",
       "</tr>\n",
       "<tr>\n",
       "  <th>Covariance Type:</th>      <td>nonrobust</td>    <th>                     </th>     <td> </td>   \n",
       "</tr>\n",
       "</table>\n",
       "<table class=\"simpletable\">\n",
       "<tr>\n",
       "           <td></td>              <th>coef</th>     <th>std err</th>      <th>t</th>      <th>P>|t|</th>  <th>[0.025</th>    <th>0.975]</th>  \n",
       "</tr>\n",
       "<tr>\n",
       "  <th>QUARTER</th>             <td>    5.1331</td> <td>    1.519</td> <td>    3.378</td> <td> 0.001</td> <td>    2.150</td> <td>    8.116</td>\n",
       "</tr>\n",
       "<tr>\n",
       "  <th>MONTH</th>               <td>   -1.3188</td> <td>    0.503</td> <td>   -2.623</td> <td> 0.009</td> <td>   -2.306</td> <td>   -0.332</td>\n",
       "</tr>\n",
       "<tr>\n",
       "  <th>DAY_OF_WEEK</th>         <td>    0.5499</td> <td>    0.202</td> <td>    2.724</td> <td> 0.007</td> <td>    0.154</td> <td>    0.946</td>\n",
       "</tr>\n",
       "<tr>\n",
       "  <th>CRS_DEP_TIME</th>        <td>    0.4838</td> <td>    0.064</td> <td>    7.561</td> <td> 0.000</td> <td>    0.358</td> <td>    0.609</td>\n",
       "</tr>\n",
       "<tr>\n",
       "  <th>TAXI_OUT</th>            <td>   -0.6289</td> <td>    0.041</td> <td>  -15.330</td> <td> 0.000</td> <td>   -0.709</td> <td>   -0.548</td>\n",
       "</tr>\n",
       "<tr>\n",
       "  <th>TAXI_IN</th>             <td>   -0.6483</td> <td>    0.081</td> <td>   -7.988</td> <td> 0.000</td> <td>   -0.808</td> <td>   -0.489</td>\n",
       "</tr>\n",
       "<tr>\n",
       "  <th>CRS_ARR_TIME</th>        <td>    0.6422</td> <td>    0.076</td> <td>    8.456</td> <td> 0.000</td> <td>    0.493</td> <td>    0.791</td>\n",
       "</tr>\n",
       "<tr>\n",
       "  <th>CARRIER_DELAY</th>       <td>    1.0186</td> <td>    0.011</td> <td>   90.114</td> <td> 0.000</td> <td>    0.996</td> <td>    1.041</td>\n",
       "</tr>\n",
       "<tr>\n",
       "  <th>WEATHER_DELAY</th>       <td>    0.9588</td> <td>    0.069</td> <td>   13.803</td> <td> 0.000</td> <td>    0.822</td> <td>    1.095</td>\n",
       "</tr>\n",
       "<tr>\n",
       "  <th>NAS_DELAY</th>           <td>    0.5251</td> <td>    0.028</td> <td>   18.958</td> <td> 0.000</td> <td>    0.471</td> <td>    0.580</td>\n",
       "</tr>\n",
       "<tr>\n",
       "  <th>LATE_AIRCRAFT_DELAY</th> <td>    1.1267</td> <td>    0.020</td> <td>   55.321</td> <td> 0.000</td> <td>    1.087</td> <td>    1.167</td>\n",
       "</tr>\n",
       "</table>\n",
       "<table class=\"simpletable\">\n",
       "<tr>\n",
       "  <th>Omnibus:</th>       <td>267.285</td> <th>  Durbin-Watson:     </th> <td>   2.116</td>\n",
       "</tr>\n",
       "<tr>\n",
       "  <th>Prob(Omnibus):</th> <td> 0.000</td>  <th>  Jarque-Bera (JB):  </th> <td>2085.406</td>\n",
       "</tr>\n",
       "<tr>\n",
       "  <th>Skew:</th>          <td> 1.340</td>  <th>  Prob(JB):          </th> <td>    0.00</td>\n",
       "</tr>\n",
       "<tr>\n",
       "  <th>Kurtosis:</th>      <td>10.581</td>  <th>  Cond. No.          </th> <td>    162.</td>\n",
       "</tr>\n",
       "</table>"
      ],
      "text/plain": [
       "<class 'statsmodels.iolib.summary.Summary'>\n",
       "\"\"\"\n",
       "                            OLS Regression Results                            \n",
       "==============================================================================\n",
       "Dep. Variable:              DEP_DELAY   R-squared:                       0.953\n",
       "Model:                            OLS   Adj. R-squared:                  0.953\n",
       "Method:                 Least Squares   F-statistic:                     1419.\n",
       "Date:                Sun, 08 Apr 2018   Prob (F-statistic):               0.00\n",
       "Time:                        03:13:17   Log-Likelihood:                -2990.4\n",
       "No. Observations:                 774   AIC:                             6003.\n",
       "Df Residuals:                     763   BIC:                             6054.\n",
       "Df Model:                          11                                         \n",
       "Covariance Type:            nonrobust                                         \n",
       "=======================================================================================\n",
       "                          coef    std err          t      P>|t|      [0.025      0.975]\n",
       "---------------------------------------------------------------------------------------\n",
       "QUARTER                 5.1331      1.519      3.378      0.001       2.150       8.116\n",
       "MONTH                  -1.3188      0.503     -2.623      0.009      -2.306      -0.332\n",
       "DAY_OF_WEEK             0.5499      0.202      2.724      0.007       0.154       0.946\n",
       "CRS_DEP_TIME            0.4838      0.064      7.561      0.000       0.358       0.609\n",
       "TAXI_OUT               -0.6289      0.041    -15.330      0.000      -0.709      -0.548\n",
       "TAXI_IN                -0.6483      0.081     -7.988      0.000      -0.808      -0.489\n",
       "CRS_ARR_TIME            0.6422      0.076      8.456      0.000       0.493       0.791\n",
       "CARRIER_DELAY           1.0186      0.011     90.114      0.000       0.996       1.041\n",
       "WEATHER_DELAY           0.9588      0.069     13.803      0.000       0.822       1.095\n",
       "NAS_DELAY               0.5251      0.028     18.958      0.000       0.471       0.580\n",
       "LATE_AIRCRAFT_DELAY     1.1267      0.020     55.321      0.000       1.087       1.167\n",
       "==============================================================================\n",
       "Omnibus:                      267.285   Durbin-Watson:                   2.116\n",
       "Prob(Omnibus):                  0.000   Jarque-Bera (JB):             2085.406\n",
       "Skew:                           1.340   Prob(JB):                         0.00\n",
       "Kurtosis:                      10.581   Cond. No.                         162.\n",
       "==============================================================================\n",
       "\n",
       "Warnings:\n",
       "[1] Standard Errors assume that the covariance matrix of the errors is correctly specified.\n",
       "\"\"\""
      ]
     },
     "execution_count": 25,
     "metadata": {},
     "output_type": "execute_result"
    }
   ],
   "source": [
    "departure_delay_from = ['QUARTER','MONTH','DAY_OF_WEEK','CRS_DEP_TIME','TAXI_OUT','TAXI_IN','CRS_ARR_TIME','CARRIER_DELAY','WEATHER_DELAY','NAS_DELAY','LATE_AIRCRAFT_DELAY']\n",
    "regression_model(departure_delay_from, 'DEP_DELAY').summary()"
   ]
  },
  {
   "cell_type": "code",
   "execution_count": 26,
   "metadata": {},
   "outputs": [
    {
     "name": "stdout",
     "output_type": "stream",
     "text": [
      "[('NAS_DELAY', 'DEP_DELAY'), ('DEP_DELAY', 'NAS_DELAY')]\n"
     ]
    }
   ],
   "source": [
    "flight_edges_df, bn = update_flights_edges_df(departure_delay_from,'DEP_DELAY',flight_edges_df)"
   ]
  },
  {
   "cell_type": "markdown",
   "metadata": {},
   "source": [
    "It is not very likely that an NAS-related delay causes a security-related delay. Therefore, we will remove the edge from NAS_DELAY to SECURITY_DELAY."
   ]
  },
  {
   "cell_type": "code",
   "execution_count": 27,
   "metadata": {},
   "outputs": [
    {
     "name": "stdout",
     "output_type": "stream",
     "text": [
      "[('NAS_DELAY', 'DEP_DELAY'), ('DEP_DELAY', 'NAS_DELAY')]\n"
     ]
    }
   ],
   "source": [
    "flight_edges_df, bn = remove_edge('NAS_DELAY','SECURITY_DELAY', flight_edges_df)"
   ]
  },
  {
   "cell_type": "markdown",
   "metadata": {},
   "source": [
    "Departure time is the time recorded when the plane's parking brakes are released, which is after doors are closed and just prior to the plane beginning to taxi. That is, departure time starts right before a plan leaves its gate. Therefore, while it is likely that a difference in CRS departure time and actual departure time causes an NAS delay, it is impossible for NAS delay to influence the departure time difference. Thus, we remove the edge from NAS_DELAY to DEP_DELAY."
   ]
  },
  {
   "cell_type": "code",
   "execution_count": 28,
   "metadata": {},
   "outputs": [
    {
     "name": "stdout",
     "output_type": "stream",
     "text": [
      "[('CARRIER_DELAY', 'DEP_DELAY'), ('DEP_DELAY', 'LATE_AIRCRAFT_DELAY'), ('LATE_AIRCRAFT_DELAY', 'CARRIER_DELAY')]\n"
     ]
    }
   ],
   "source": [
    "flight_edges_df, bn = remove_edge('NAS_DELAY','DEP_DELAY', flight_edges_df)"
   ]
  },
  {
   "cell_type": "markdown",
   "metadata": {},
   "source": [
    "Departure delay cannot lead to a late aircraft delay: this is temporally impossible, so we get rid of that directed edge."
   ]
  },
  {
   "cell_type": "code",
   "execution_count": 29,
   "metadata": {},
   "outputs": [
    {
     "name": "stdout",
     "output_type": "stream",
     "text": [
      "[('CARRIER_DELAY', 'DEP_DELAY'), ('DEP_DELAY', 'CARRIER_DELAY')]\n"
     ]
    }
   ],
   "source": [
    "flight_edges_df, bn = remove_edge('DEP_DELAY', 'LATE_AIRCRAFT_DELAY', flight_edges_df)"
   ]
  },
  {
   "cell_type": "markdown",
   "metadata": {},
   "source": [
    "Again, temporally, departure delay cannot lead to a carrier delay. Therefore, we remove that directed edge."
   ]
  },
  {
   "cell_type": "code",
   "execution_count": 30,
   "metadata": {},
   "outputs": [
    {
     "name": "stdout",
     "output_type": "stream",
     "text": [
      "No cycle found! You may proceed.\n"
     ]
    }
   ],
   "source": [
    "flight_edges_df, bn = remove_edge('DEP_DELAY', 'CARRIER_DELAY', flight_edges_df)"
   ]
  },
  {
   "cell_type": "markdown",
   "metadata": {},
   "source": [
    "By the same reasoning as above, we remove the edge from DEP_DELAY to SECURITY_DELAY."
   ]
  },
  {
   "cell_type": "code",
   "execution_count": 31,
   "metadata": {},
   "outputs": [
    {
     "name": "stdout",
     "output_type": "stream",
     "text": [
      "No cycle found! You may proceed.\n"
     ]
    }
   ],
   "source": [
    "flight_edges_df, bn = remove_edge('DEP_DELAY', 'SECURITY_DELAY', flight_edges_df)"
   ]
  },
  {
   "cell_type": "markdown",
   "metadata": {},
   "source": [
    "### Taxi Out"
   ]
  },
  {
   "cell_type": "markdown",
   "metadata": {},
   "source": [
    "Taxi Out Time, in Minutes."
   ]
  },
  {
   "cell_type": "code",
   "execution_count": 32,
   "metadata": {},
   "outputs": [
    {
     "data": {
      "text/html": [
       "<table class=\"simpletable\">\n",
       "<caption>OLS Regression Results</caption>\n",
       "<tr>\n",
       "  <th>Dep. Variable:</th>        <td>TAXI_OUT</td>     <th>  R-squared:         </th> <td>   0.916</td>\n",
       "</tr>\n",
       "<tr>\n",
       "  <th>Model:</th>                   <td>OLS</td>       <th>  Adj. R-squared:    </th> <td>   0.915</td>\n",
       "</tr>\n",
       "<tr>\n",
       "  <th>Method:</th>             <td>Least Squares</td>  <th>  F-statistic:       </th> <td>   921.1</td>\n",
       "</tr>\n",
       "<tr>\n",
       "  <th>Date:</th>             <td>Sun, 08 Apr 2018</td> <th>  Prob (F-statistic):</th>  <td>  0.00</td> \n",
       "</tr>\n",
       "<tr>\n",
       "  <th>Time:</th>                 <td>03:13:17</td>     <th>  Log-Likelihood:    </th> <td> -2790.7</td>\n",
       "</tr>\n",
       "<tr>\n",
       "  <th>No. Observations:</th>      <td>   774</td>      <th>  AIC:               </th> <td>   5599.</td>\n",
       "</tr>\n",
       "<tr>\n",
       "  <th>Df Residuals:</th>          <td>   765</td>      <th>  BIC:               </th> <td>   5641.</td>\n",
       "</tr>\n",
       "<tr>\n",
       "  <th>Df Model:</th>              <td>     9</td>      <th>                     </th>     <td> </td>   \n",
       "</tr>\n",
       "<tr>\n",
       "  <th>Covariance Type:</th>      <td>nonrobust</td>    <th>                     </th>     <td> </td>   \n",
       "</tr>\n",
       "</table>\n",
       "<table class=\"simpletable\">\n",
       "<tr>\n",
       "           <td></td>              <th>coef</th>     <th>std err</th>      <th>t</th>      <th>P>|t|</th>  <th>[0.025</th>    <th>0.975]</th>  \n",
       "</tr>\n",
       "<tr>\n",
       "  <th>QUARTER</th>             <td>    2.3795</td> <td>    0.285</td> <td>    8.335</td> <td> 0.000</td> <td>    1.819</td> <td>    2.940</td>\n",
       "</tr>\n",
       "<tr>\n",
       "  <th>CRS_DEP_TIME</th>        <td>    0.7415</td> <td>    0.041</td> <td>   18.108</td> <td> 0.000</td> <td>    0.661</td> <td>    0.822</td>\n",
       "</tr>\n",
       "<tr>\n",
       "  <th>DEP_DELAY</th>           <td>   -0.3718</td> <td>    0.024</td> <td>  -15.369</td> <td> 0.000</td> <td>   -0.419</td> <td>   -0.324</td>\n",
       "</tr>\n",
       "<tr>\n",
       "  <th>TAXI_IN</th>             <td>   -0.3241</td> <td>    0.064</td> <td>   -5.078</td> <td> 0.000</td> <td>   -0.449</td> <td>   -0.199</td>\n",
       "</tr>\n",
       "<tr>\n",
       "  <th>CRS_ARR_TIME</th>        <td>    0.9151</td> <td>    0.047</td> <td>   19.405</td> <td> 0.000</td> <td>    0.823</td> <td>    1.008</td>\n",
       "</tr>\n",
       "<tr>\n",
       "  <th>CARRIER_DELAY</th>       <td>    0.3617</td> <td>    0.026</td> <td>   13.663</td> <td> 0.000</td> <td>    0.310</td> <td>    0.414</td>\n",
       "</tr>\n",
       "<tr>\n",
       "  <th>WEATHER_DELAY</th>       <td>    0.2932</td> <td>    0.059</td> <td>    5.011</td> <td> 0.000</td> <td>    0.178</td> <td>    0.408</td>\n",
       "</tr>\n",
       "<tr>\n",
       "  <th>NAS_DELAY</th>           <td>    0.4198</td> <td>    0.021</td> <td>   20.107</td> <td> 0.000</td> <td>    0.379</td> <td>    0.461</td>\n",
       "</tr>\n",
       "<tr>\n",
       "  <th>LATE_AIRCRAFT_DELAY</th> <td>    0.3646</td> <td>    0.032</td> <td>   11.317</td> <td> 0.000</td> <td>    0.301</td> <td>    0.428</td>\n",
       "</tr>\n",
       "</table>\n",
       "<table class=\"simpletable\">\n",
       "<tr>\n",
       "  <th>Omnibus:</th>       <td>56.456</td> <th>  Durbin-Watson:     </th> <td>   1.939</td>\n",
       "</tr>\n",
       "<tr>\n",
       "  <th>Prob(Omnibus):</th> <td> 0.000</td> <th>  Jarque-Bera (JB):  </th> <td>  83.761</td>\n",
       "</tr>\n",
       "<tr>\n",
       "  <th>Skew:</th>          <td> 0.561</td> <th>  Prob(JB):          </th> <td>6.48e-19</td>\n",
       "</tr>\n",
       "<tr>\n",
       "  <th>Kurtosis:</th>      <td> 4.158</td> <th>  Cond. No.          </th> <td>    57.5</td>\n",
       "</tr>\n",
       "</table>"
      ],
      "text/plain": [
       "<class 'statsmodels.iolib.summary.Summary'>\n",
       "\"\"\"\n",
       "                            OLS Regression Results                            \n",
       "==============================================================================\n",
       "Dep. Variable:               TAXI_OUT   R-squared:                       0.916\n",
       "Model:                            OLS   Adj. R-squared:                  0.915\n",
       "Method:                 Least Squares   F-statistic:                     921.1\n",
       "Date:                Sun, 08 Apr 2018   Prob (F-statistic):               0.00\n",
       "Time:                        03:13:17   Log-Likelihood:                -2790.7\n",
       "No. Observations:                 774   AIC:                             5599.\n",
       "Df Residuals:                     765   BIC:                             5641.\n",
       "Df Model:                           9                                         \n",
       "Covariance Type:            nonrobust                                         \n",
       "=======================================================================================\n",
       "                          coef    std err          t      P>|t|      [0.025      0.975]\n",
       "---------------------------------------------------------------------------------------\n",
       "QUARTER                 2.3795      0.285      8.335      0.000       1.819       2.940\n",
       "CRS_DEP_TIME            0.7415      0.041     18.108      0.000       0.661       0.822\n",
       "DEP_DELAY              -0.3718      0.024    -15.369      0.000      -0.419      -0.324\n",
       "TAXI_IN                -0.3241      0.064     -5.078      0.000      -0.449      -0.199\n",
       "CRS_ARR_TIME            0.9151      0.047     19.405      0.000       0.823       1.008\n",
       "CARRIER_DELAY           0.3617      0.026     13.663      0.000       0.310       0.414\n",
       "WEATHER_DELAY           0.2932      0.059      5.011      0.000       0.178       0.408\n",
       "NAS_DELAY               0.4198      0.021     20.107      0.000       0.379       0.461\n",
       "LATE_AIRCRAFT_DELAY     0.3646      0.032     11.317      0.000       0.301       0.428\n",
       "==============================================================================\n",
       "Omnibus:                       56.456   Durbin-Watson:                   1.939\n",
       "Prob(Omnibus):                  0.000   Jarque-Bera (JB):               83.761\n",
       "Skew:                           0.561   Prob(JB):                     6.48e-19\n",
       "Kurtosis:                       4.158   Cond. No.                         57.5\n",
       "==============================================================================\n",
       "\n",
       "Warnings:\n",
       "[1] Standard Errors assume that the covariance matrix of the errors is correctly specified.\n",
       "\"\"\""
      ]
     },
     "execution_count": 32,
     "metadata": {},
     "output_type": "execute_result"
    }
   ],
   "source": [
    "taxi_out_from = ['QUARTER','CRS_DEP_TIME','DEP_DELAY','TAXI_IN','CRS_ARR_TIME','CARRIER_DELAY','WEATHER_DELAY','NAS_DELAY','LATE_AIRCRAFT_DELAY']\n",
    "regression_model(taxi_out_from, 'TAXI_OUT').summary()"
   ]
  },
  {
   "cell_type": "code",
   "execution_count": 33,
   "metadata": {},
   "outputs": [
    {
     "name": "stdout",
     "output_type": "stream",
     "text": [
      "[('NAS_DELAY', 'TAXI_OUT'), ('TAXI_OUT', 'NAS_DELAY')]\n"
     ]
    }
   ],
   "source": [
    "flight_edges_df, bn = update_flights_edges_df(taxi_out_from,'TAXI_OUT',flight_edges_df)"
   ]
  },
  {
   "cell_type": "code",
   "execution_count": 34,
   "metadata": {},
   "outputs": [
    {
     "name": "stdout",
     "output_type": "stream",
     "text": [
      "[('NAS_DELAY', 'TAXI_OUT'), ('TAXI_OUT', 'CARRIER_DELAY'), ('CARRIER_DELAY', 'DEP_DELAY'), ('DEP_DELAY', 'NAS_DELAY')]\n"
     ]
    }
   ],
   "source": [
    "flight_edges_df, bn = remove_edge('TAXI_OUT', 'NAS_DELAY', flight_edges_df)"
   ]
  },
  {
   "cell_type": "code",
   "execution_count": 35,
   "metadata": {},
   "outputs": [
    {
     "name": "stdout",
     "output_type": "stream",
     "text": [
      "[('NAS_DELAY', 'TAXI_OUT'), ('TAXI_OUT', 'DEP_DELAY'), ('DEP_DELAY', 'NAS_DELAY')]\n"
     ]
    }
   ],
   "source": [
    "flight_edges_df, bn = remove_edge('TAXI_OUT', 'CARRIER_DELAY', flight_edges_df)"
   ]
  },
  {
   "cell_type": "code",
   "execution_count": 36,
   "metadata": {},
   "outputs": [
    {
     "name": "stdout",
     "output_type": "stream",
     "text": [
      "[('NAS_DELAY', 'TAXI_OUT'), ('TAXI_OUT', 'DEP_DELAY'), ('DEP_DELAY', 'NAS_DELAY')]\n"
     ]
    }
   ],
   "source": [
    "flight_edges_df, bn = remove_edge('TAXI_OUT', 'SECURITY_DELAY', flight_edges_df)"
   ]
  },
  {
   "cell_type": "code",
   "execution_count": 37,
   "metadata": {},
   "outputs": [
    {
     "name": "stdout",
     "output_type": "stream",
     "text": [
      "[('TAXI_OUT', 'DEP_DELAY'), ('DEP_DELAY', 'TAXI_OUT')]\n"
     ]
    }
   ],
   "source": [
    "flight_edges_df, bn = remove_edge('DEP_DELAY', 'NAS_DELAY', flight_edges_df)"
   ]
  },
  {
   "cell_type": "code",
   "execution_count": 38,
   "metadata": {},
   "outputs": [
    {
     "name": "stdout",
     "output_type": "stream",
     "text": [
      "No cycle found! You may proceed.\n"
     ]
    }
   ],
   "source": [
    "flight_edges_df, bn = remove_edge('DEP_DELAY', 'TAXI_OUT', flight_edges_df)"
   ]
  },
  {
   "cell_type": "markdown",
   "metadata": {},
   "source": [
    "### Taxi In"
   ]
  },
  {
   "cell_type": "code",
   "execution_count": 39,
   "metadata": {},
   "outputs": [
    {
     "data": {
      "text/html": [
       "<table class=\"simpletable\">\n",
       "<caption>OLS Regression Results</caption>\n",
       "<tr>\n",
       "  <th>Dep. Variable:</th>         <td>TAXI_IN</td>     <th>  R-squared:         </th> <td>   0.725</td> \n",
       "</tr>\n",
       "<tr>\n",
       "  <th>Model:</th>                   <td>OLS</td>       <th>  Adj. R-squared:    </th> <td>   0.722</td> \n",
       "</tr>\n",
       "<tr>\n",
       "  <th>Method:</th>             <td>Least Squares</td>  <th>  F-statistic:       </th> <td>   223.9</td> \n",
       "</tr>\n",
       "<tr>\n",
       "  <th>Date:</th>             <td>Sun, 08 Apr 2018</td> <th>  Prob (F-statistic):</th> <td>1.35e-207</td>\n",
       "</tr>\n",
       "<tr>\n",
       "  <th>Time:</th>                 <td>03:13:17</td>     <th>  Log-Likelihood:    </th> <td> -2338.0</td> \n",
       "</tr>\n",
       "<tr>\n",
       "  <th>No. Observations:</th>      <td>   774</td>      <th>  AIC:               </th> <td>   4694.</td> \n",
       "</tr>\n",
       "<tr>\n",
       "  <th>Df Residuals:</th>          <td>   765</td>      <th>  BIC:               </th> <td>   4736.</td> \n",
       "</tr>\n",
       "<tr>\n",
       "  <th>Df Model:</th>              <td>     9</td>      <th>                     </th>     <td> </td>    \n",
       "</tr>\n",
       "<tr>\n",
       "  <th>Covariance Type:</th>      <td>nonrobust</td>    <th>                     </th>     <td> </td>    \n",
       "</tr>\n",
       "</table>\n",
       "<table class=\"simpletable\">\n",
       "<tr>\n",
       "           <td></td>              <th>coef</th>     <th>std err</th>      <th>t</th>      <th>P>|t|</th>  <th>[0.025</th>    <th>0.975]</th>  \n",
       "</tr>\n",
       "<tr>\n",
       "  <th>QUARTER</th>             <td>    0.9255</td> <td>    0.163</td> <td>    5.687</td> <td> 0.000</td> <td>    0.606</td> <td>    1.245</td>\n",
       "</tr>\n",
       "<tr>\n",
       "  <th>CRS_DEP_TIME</th>        <td>    0.2297</td> <td>    0.026</td> <td>    8.841</td> <td> 0.000</td> <td>    0.179</td> <td>    0.281</td>\n",
       "</tr>\n",
       "<tr>\n",
       "  <th>DEP_DELAY</th>           <td>   -0.1149</td> <td>    0.015</td> <td>   -7.737</td> <td> 0.000</td> <td>   -0.144</td> <td>   -0.086</td>\n",
       "</tr>\n",
       "<tr>\n",
       "  <th>TAXI_OUT</th>            <td>   -0.1006</td> <td>    0.020</td> <td>   -5.078</td> <td> 0.000</td> <td>   -0.140</td> <td>   -0.062</td>\n",
       "</tr>\n",
       "<tr>\n",
       "  <th>CRS_ARR_TIME</th>        <td>    0.3409</td> <td>    0.030</td> <td>   11.502</td> <td> 0.000</td> <td>    0.283</td> <td>    0.399</td>\n",
       "</tr>\n",
       "<tr>\n",
       "  <th>CARRIER_DELAY</th>       <td>    0.1174</td> <td>    0.016</td> <td>    7.386</td> <td> 0.000</td> <td>    0.086</td> <td>    0.149</td>\n",
       "</tr>\n",
       "<tr>\n",
       "  <th>WEATHER_DELAY</th>       <td>    0.0964</td> <td>    0.033</td> <td>    2.926</td> <td> 0.004</td> <td>    0.032</td> <td>    0.161</td>\n",
       "</tr>\n",
       "<tr>\n",
       "  <th>NAS_DELAY</th>           <td>    0.1002</td> <td>    0.014</td> <td>    7.198</td> <td> 0.000</td> <td>    0.073</td> <td>    0.128</td>\n",
       "</tr>\n",
       "<tr>\n",
       "  <th>LATE_AIRCRAFT_DELAY</th> <td>    0.1227</td> <td>    0.019</td> <td>    6.498</td> <td> 0.000</td> <td>    0.086</td> <td>    0.160</td>\n",
       "</tr>\n",
       "</table>\n",
       "<table class=\"simpletable\">\n",
       "<tr>\n",
       "  <th>Omnibus:</th>       <td>438.824</td> <th>  Durbin-Watson:     </th> <td>   2.081</td>\n",
       "</tr>\n",
       "<tr>\n",
       "  <th>Prob(Omnibus):</th> <td> 0.000</td>  <th>  Jarque-Bera (JB):  </th> <td>4633.441</td>\n",
       "</tr>\n",
       "<tr>\n",
       "  <th>Skew:</th>          <td> 2.370</td>  <th>  Prob(JB):          </th> <td>    0.00</td>\n",
       "</tr>\n",
       "<tr>\n",
       "  <th>Kurtosis:</th>      <td>14.010</td>  <th>  Cond. No.          </th> <td>    59.4</td>\n",
       "</tr>\n",
       "</table>"
      ],
      "text/plain": [
       "<class 'statsmodels.iolib.summary.Summary'>\n",
       "\"\"\"\n",
       "                            OLS Regression Results                            \n",
       "==============================================================================\n",
       "Dep. Variable:                TAXI_IN   R-squared:                       0.725\n",
       "Model:                            OLS   Adj. R-squared:                  0.722\n",
       "Method:                 Least Squares   F-statistic:                     223.9\n",
       "Date:                Sun, 08 Apr 2018   Prob (F-statistic):          1.35e-207\n",
       "Time:                        03:13:17   Log-Likelihood:                -2338.0\n",
       "No. Observations:                 774   AIC:                             4694.\n",
       "Df Residuals:                     765   BIC:                             4736.\n",
       "Df Model:                           9                                         \n",
       "Covariance Type:            nonrobust                                         \n",
       "=======================================================================================\n",
       "                          coef    std err          t      P>|t|      [0.025      0.975]\n",
       "---------------------------------------------------------------------------------------\n",
       "QUARTER                 0.9255      0.163      5.687      0.000       0.606       1.245\n",
       "CRS_DEP_TIME            0.2297      0.026      8.841      0.000       0.179       0.281\n",
       "DEP_DELAY              -0.1149      0.015     -7.737      0.000      -0.144      -0.086\n",
       "TAXI_OUT               -0.1006      0.020     -5.078      0.000      -0.140      -0.062\n",
       "CRS_ARR_TIME            0.3409      0.030     11.502      0.000       0.283       0.399\n",
       "CARRIER_DELAY           0.1174      0.016      7.386      0.000       0.086       0.149\n",
       "WEATHER_DELAY           0.0964      0.033      2.926      0.004       0.032       0.161\n",
       "NAS_DELAY               0.1002      0.014      7.198      0.000       0.073       0.128\n",
       "LATE_AIRCRAFT_DELAY     0.1227      0.019      6.498      0.000       0.086       0.160\n",
       "==============================================================================\n",
       "Omnibus:                      438.824   Durbin-Watson:                   2.081\n",
       "Prob(Omnibus):                  0.000   Jarque-Bera (JB):             4633.441\n",
       "Skew:                           2.370   Prob(JB):                         0.00\n",
       "Kurtosis:                      14.010   Cond. No.                         59.4\n",
       "==============================================================================\n",
       "\n",
       "Warnings:\n",
       "[1] Standard Errors assume that the covariance matrix of the errors is correctly specified.\n",
       "\"\"\""
      ]
     },
     "execution_count": 39,
     "metadata": {},
     "output_type": "execute_result"
    }
   ],
   "source": [
    "taxi_in_from = ['QUARTER','CRS_DEP_TIME','DEP_DELAY','TAXI_OUT','CRS_ARR_TIME','CARRIER_DELAY','WEATHER_DELAY','NAS_DELAY','LATE_AIRCRAFT_DELAY']\n",
    "regression_model(taxi_in_from, 'TAXI_IN').summary()"
   ]
  },
  {
   "cell_type": "code",
   "execution_count": 40,
   "metadata": {},
   "outputs": [
    {
     "name": "stdout",
     "output_type": "stream",
     "text": [
      "[('NAS_DELAY', 'TAXI_OUT'), ('TAXI_OUT', 'DEP_DELAY'), ('DEP_DELAY', 'TAXI_IN'), ('TAXI_IN', 'NAS_DELAY')]\n"
     ]
    }
   ],
   "source": [
    "flight_edges_df, bn = update_flights_edges_df(taxi_in_from,'TAXI_IN',flight_edges_df)"
   ]
  },
  {
   "cell_type": "code",
   "execution_count": 41,
   "metadata": {},
   "outputs": [
    {
     "name": "stdout",
     "output_type": "stream",
     "text": [
      "[('NAS_DELAY', 'TAXI_OUT'), ('TAXI_OUT', 'TAXI_IN'), ('TAXI_IN', 'NAS_DELAY')]\n"
     ]
    }
   ],
   "source": [
    "flight_edges_df, bn = remove_edge('TAXI_OUT','DEP_DELAY', flight_edges_df)"
   ]
  },
  {
   "cell_type": "code",
   "execution_count": 42,
   "metadata": {},
   "outputs": [
    {
     "name": "stdout",
     "output_type": "stream",
     "text": [
      "[('TAXI_IN', 'CARRIER_DELAY'), ('CARRIER_DELAY', 'DEP_DELAY'), ('DEP_DELAY', 'TAXI_IN')]\n"
     ]
    }
   ],
   "source": [
    "flight_edges_df, bn = remove_edge('TAXI_IN','NAS_DELAY', flight_edges_df)"
   ]
  },
  {
   "cell_type": "code",
   "execution_count": 43,
   "metadata": {},
   "outputs": [
    {
     "name": "stdout",
     "output_type": "stream",
     "text": [
      "[('TAXI_IN', 'DEP_DELAY'), ('DEP_DELAY', 'TAXI_IN')]\n"
     ]
    }
   ],
   "source": [
    "flight_edges_df, bn = remove_edge('TAXI_IN','CARRIER_DELAY', flight_edges_df)"
   ]
  },
  {
   "cell_type": "code",
   "execution_count": 44,
   "metadata": {},
   "outputs": [
    {
     "name": "stdout",
     "output_type": "stream",
     "text": [
      "[('TAXI_OUT', 'TAXI_IN'), ('TAXI_IN', 'TAXI_OUT')]\n"
     ]
    }
   ],
   "source": [
    "flight_edges_df, bn = remove_edge('TAXI_IN','DEP_DELAY', flight_edges_df)"
   ]
  },
  {
   "cell_type": "code",
   "execution_count": 45,
   "metadata": {},
   "outputs": [
    {
     "name": "stdout",
     "output_type": "stream",
     "text": [
      "No cycle found! You may proceed.\n"
     ]
    }
   ],
   "source": [
    "flight_edges_df, bn = remove_edge('TAXI_IN','TAXI_OUT', flight_edges_df)"
   ]
  },
  {
   "cell_type": "markdown",
   "metadata": {},
   "source": [
    "### DelayedDepartureSFO"
   ]
  },
  {
   "cell_type": "code",
   "execution_count": 46,
   "metadata": {},
   "outputs": [
    {
     "data": {
      "text/html": [
       "<table class=\"simpletable\">\n",
       "<caption>OLS Regression Results</caption>\n",
       "<tr>\n",
       "  <th>Dep. Variable:</th>    <td>DelayedDepartureSFO</td> <th>  R-squared:         </th> <td>   0.719</td> \n",
       "</tr>\n",
       "<tr>\n",
       "  <th>Model:</th>                    <td>OLS</td>         <th>  Adj. R-squared:    </th> <td>   0.718</td> \n",
       "</tr>\n",
       "<tr>\n",
       "  <th>Method:</th>              <td>Least Squares</td>    <th>  F-statistic:       </th> <td>   492.9</td> \n",
       "</tr>\n",
       "<tr>\n",
       "  <th>Date:</th>              <td>Sun, 08 Apr 2018</td>   <th>  Prob (F-statistic):</th> <td>1.30e-210</td>\n",
       "</tr>\n",
       "<tr>\n",
       "  <th>Time:</th>                  <td>03:13:17</td>       <th>  Log-Likelihood:    </th> <td> -1628.2</td> \n",
       "</tr>\n",
       "<tr>\n",
       "  <th>No. Observations:</th>       <td>   774</td>        <th>  AIC:               </th> <td>   3264.</td> \n",
       "</tr>\n",
       "<tr>\n",
       "  <th>Df Residuals:</th>           <td>   770</td>        <th>  BIC:               </th> <td>   3283.</td> \n",
       "</tr>\n",
       "<tr>\n",
       "  <th>Df Model:</th>               <td>     4</td>        <th>                     </th>     <td> </td>    \n",
       "</tr>\n",
       "<tr>\n",
       "  <th>Covariance Type:</th>       <td>nonrobust</td>      <th>                     </th>     <td> </td>    \n",
       "</tr>\n",
       "</table>\n",
       "<table class=\"simpletable\">\n",
       "<tr>\n",
       "            <td></td>               <th>coef</th>     <th>std err</th>      <th>t</th>      <th>P>|t|</th>  <th>[0.025</th>    <th>0.975]</th>  \n",
       "</tr>\n",
       "<tr>\n",
       "  <th>WEATHER_DELAY</th>         <td>    0.0259</td> <td>    0.012</td> <td>    2.117</td> <td> 0.035</td> <td>    0.002</td> <td>    0.050</td>\n",
       "</tr>\n",
       "<tr>\n",
       "  <th>ScheduledDepartureSFO</th> <td>    0.1376</td> <td>    0.004</td> <td>   31.597</td> <td> 0.000</td> <td>    0.129</td> <td>    0.146</td>\n",
       "</tr>\n",
       "<tr>\n",
       "  <th>DelayedArrivalPHL</th>     <td>    0.4647</td> <td>    0.049</td> <td>    9.429</td> <td> 0.000</td> <td>    0.368</td> <td>    0.561</td>\n",
       "</tr>\n",
       "<tr>\n",
       "  <th>ScheduledArrivalPHL</th>   <td>   -0.0554</td> <td>    0.014</td> <td>   -3.955</td> <td> 0.000</td> <td>   -0.083</td> <td>   -0.028</td>\n",
       "</tr>\n",
       "</table>\n",
       "<table class=\"simpletable\">\n",
       "<tr>\n",
       "  <th>Omnibus:</th>       <td>253.249</td> <th>  Durbin-Watson:     </th> <td>   2.068</td> \n",
       "</tr>\n",
       "<tr>\n",
       "  <th>Prob(Omnibus):</th> <td> 0.000</td>  <th>  Jarque-Bera (JB):  </th> <td>1304.331</td> \n",
       "</tr>\n",
       "<tr>\n",
       "  <th>Skew:</th>          <td> 1.395</td>  <th>  Prob(JB):          </th> <td>5.86e-284</td>\n",
       "</tr>\n",
       "<tr>\n",
       "  <th>Kurtosis:</th>      <td> 8.715</td>  <th>  Cond. No.          </th> <td>    15.3</td> \n",
       "</tr>\n",
       "</table>"
      ],
      "text/plain": [
       "<class 'statsmodels.iolib.summary.Summary'>\n",
       "\"\"\"\n",
       "                             OLS Regression Results                            \n",
       "===============================================================================\n",
       "Dep. Variable:     DelayedDepartureSFO   R-squared:                       0.719\n",
       "Model:                             OLS   Adj. R-squared:                  0.718\n",
       "Method:                  Least Squares   F-statistic:                     492.9\n",
       "Date:                 Sun, 08 Apr 2018   Prob (F-statistic):          1.30e-210\n",
       "Time:                         03:13:17   Log-Likelihood:                -1628.2\n",
       "No. Observations:                  774   AIC:                             3264.\n",
       "Df Residuals:                      770   BIC:                             3283.\n",
       "Df Model:                            4                                         \n",
       "Covariance Type:             nonrobust                                         \n",
       "=========================================================================================\n",
       "                            coef    std err          t      P>|t|      [0.025      0.975]\n",
       "-----------------------------------------------------------------------------------------\n",
       "WEATHER_DELAY             0.0259      0.012      2.117      0.035       0.002       0.050\n",
       "ScheduledDepartureSFO     0.1376      0.004     31.597      0.000       0.129       0.146\n",
       "DelayedArrivalPHL         0.4647      0.049      9.429      0.000       0.368       0.561\n",
       "ScheduledArrivalPHL      -0.0554      0.014     -3.955      0.000      -0.083      -0.028\n",
       "==============================================================================\n",
       "Omnibus:                      253.249   Durbin-Watson:                   2.068\n",
       "Prob(Omnibus):                  0.000   Jarque-Bera (JB):             1304.331\n",
       "Skew:                           1.395   Prob(JB):                    5.86e-284\n",
       "Kurtosis:                       8.715   Cond. No.                         15.3\n",
       "==============================================================================\n",
       "\n",
       "Warnings:\n",
       "[1] Standard Errors assume that the covariance matrix of the errors is correctly specified.\n",
       "\"\"\""
      ]
     },
     "execution_count": 46,
     "metadata": {},
     "output_type": "execute_result"
    }
   ],
   "source": [
    "delayed_SFO_from = ['WEATHER_DELAY','ScheduledDepartureSFO','DelayedArrivalPHL','ScheduledArrivalPHL']\n",
    "regression_model(delayed_SFO_from, 'DelayedDepartureSFO').summary()"
   ]
  },
  {
   "cell_type": "code",
   "execution_count": 47,
   "metadata": {},
   "outputs": [
    {
     "name": "stdout",
     "output_type": "stream",
     "text": [
      "No cycle found! You may proceed.\n"
     ]
    }
   ],
   "source": [
    "flight_edges_df, bn = update_flights_edges_df(delayed_SFO_from,'DelayedDepartureSFO',flight_edges_df)"
   ]
  },
  {
   "cell_type": "markdown",
   "metadata": {},
   "source": [
    "###   DelayedArrivalPHL"
   ]
  },
  {
   "cell_type": "code",
   "execution_count": 48,
   "metadata": {},
   "outputs": [
    {
     "data": {
      "text/html": [
       "<table class=\"simpletable\">\n",
       "<caption>OLS Regression Results</caption>\n",
       "<tr>\n",
       "  <th>Dep. Variable:</th>    <td>DelayedArrivalPHL</td> <th>  R-squared:         </th> <td>   0.818</td> \n",
       "</tr>\n",
       "<tr>\n",
       "  <th>Model:</th>                   <td>OLS</td>        <th>  Adj. R-squared:    </th> <td>   0.817</td> \n",
       "</tr>\n",
       "<tr>\n",
       "  <th>Method:</th>             <td>Least Squares</td>   <th>  F-statistic:       </th> <td>   690.2</td> \n",
       "</tr>\n",
       "<tr>\n",
       "  <th>Date:</th>             <td>Sun, 08 Apr 2018</td>  <th>  Prob (F-statistic):</th> <td>2.17e-281</td>\n",
       "</tr>\n",
       "<tr>\n",
       "  <th>Time:</th>                 <td>03:13:17</td>      <th>  Log-Likelihood:    </th> <td> -1339.8</td> \n",
       "</tr>\n",
       "<tr>\n",
       "  <th>No. Observations:</th>      <td>   774</td>       <th>  AIC:               </th> <td>   2690.</td> \n",
       "</tr>\n",
       "<tr>\n",
       "  <th>Df Residuals:</th>          <td>   769</td>       <th>  BIC:               </th> <td>   2713.</td> \n",
       "</tr>\n",
       "<tr>\n",
       "  <th>Df Model:</th>              <td>     5</td>       <th>                     </th>     <td> </td>    \n",
       "</tr>\n",
       "<tr>\n",
       "  <th>Covariance Type:</th>      <td>nonrobust</td>     <th>                     </th>     <td> </td>    \n",
       "</tr>\n",
       "</table>\n",
       "<table class=\"simpletable\">\n",
       "<tr>\n",
       "            <td></td>               <th>coef</th>     <th>std err</th>      <th>t</th>      <th>P>|t|</th>  <th>[0.025</th>    <th>0.975]</th>  \n",
       "</tr>\n",
       "<tr>\n",
       "  <th>CRS_DEP_TIME</th>          <td>   -0.0107</td> <td>    0.004</td> <td>   -2.752</td> <td> 0.006</td> <td>   -0.018</td> <td>   -0.003</td>\n",
       "</tr>\n",
       "<tr>\n",
       "  <th>WEATHER_DELAY</th>         <td>    0.0508</td> <td>    0.008</td> <td>    6.138</td> <td> 0.000</td> <td>    0.035</td> <td>    0.067</td>\n",
       "</tr>\n",
       "<tr>\n",
       "  <th>DelayedDepartureSFO</th>   <td>    0.2193</td> <td>    0.024</td> <td>    9.311</td> <td> 0.000</td> <td>    0.173</td> <td>    0.266</td>\n",
       "</tr>\n",
       "<tr>\n",
       "  <th>ScheduledDepartureSFO</th> <td>   -0.0426</td> <td>    0.004</td> <td>   -9.789</td> <td> 0.000</td> <td>   -0.051</td> <td>   -0.034</td>\n",
       "</tr>\n",
       "<tr>\n",
       "  <th>ScheduledArrivalPHL</th>   <td>    0.2375</td> <td>    0.005</td> <td>   44.279</td> <td> 0.000</td> <td>    0.227</td> <td>    0.248</td>\n",
       "</tr>\n",
       "</table>\n",
       "<table class=\"simpletable\">\n",
       "<tr>\n",
       "  <th>Omnibus:</th>       <td>498.074</td> <th>  Durbin-Watson:     </th> <td>   1.975</td> \n",
       "</tr>\n",
       "<tr>\n",
       "  <th>Prob(Omnibus):</th> <td> 0.000</td>  <th>  Jarque-Bera (JB):  </th> <td>10239.898</td>\n",
       "</tr>\n",
       "<tr>\n",
       "  <th>Skew:</th>          <td> 2.544</td>  <th>  Prob(JB):          </th> <td>    0.00</td> \n",
       "</tr>\n",
       "<tr>\n",
       "  <th>Kurtosis:</th>      <td>20.077</td>  <th>  Cond. No.          </th> <td>    11.5</td> \n",
       "</tr>\n",
       "</table>"
      ],
      "text/plain": [
       "<class 'statsmodels.iolib.summary.Summary'>\n",
       "\"\"\"\n",
       "                            OLS Regression Results                            \n",
       "==============================================================================\n",
       "Dep. Variable:      DelayedArrivalPHL   R-squared:                       0.818\n",
       "Model:                            OLS   Adj. R-squared:                  0.817\n",
       "Method:                 Least Squares   F-statistic:                     690.2\n",
       "Date:                Sun, 08 Apr 2018   Prob (F-statistic):          2.17e-281\n",
       "Time:                        03:13:17   Log-Likelihood:                -1339.8\n",
       "No. Observations:                 774   AIC:                             2690.\n",
       "Df Residuals:                     769   BIC:                             2713.\n",
       "Df Model:                           5                                         \n",
       "Covariance Type:            nonrobust                                         \n",
       "=========================================================================================\n",
       "                            coef    std err          t      P>|t|      [0.025      0.975]\n",
       "-----------------------------------------------------------------------------------------\n",
       "CRS_DEP_TIME             -0.0107      0.004     -2.752      0.006      -0.018      -0.003\n",
       "WEATHER_DELAY             0.0508      0.008      6.138      0.000       0.035       0.067\n",
       "DelayedDepartureSFO       0.2193      0.024      9.311      0.000       0.173       0.266\n",
       "ScheduledDepartureSFO    -0.0426      0.004     -9.789      0.000      -0.051      -0.034\n",
       "ScheduledArrivalPHL       0.2375      0.005     44.279      0.000       0.227       0.248\n",
       "==============================================================================\n",
       "Omnibus:                      498.074   Durbin-Watson:                   1.975\n",
       "Prob(Omnibus):                  0.000   Jarque-Bera (JB):            10239.898\n",
       "Skew:                           2.544   Prob(JB):                         0.00\n",
       "Kurtosis:                      20.077   Cond. No.                         11.5\n",
       "==============================================================================\n",
       "\n",
       "Warnings:\n",
       "[1] Standard Errors assume that the covariance matrix of the errors is correctly specified.\n",
       "\"\"\""
      ]
     },
     "execution_count": 48,
     "metadata": {},
     "output_type": "execute_result"
    }
   ],
   "source": [
    "delayed_PHL_from = ['CRS_DEP_TIME','WEATHER_DELAY','DelayedDepartureSFO','ScheduledDepartureSFO','ScheduledArrivalPHL']\n",
    "regression_model(delayed_PHL_from, 'DelayedArrivalPHL').summary()"
   ]
  },
  {
   "cell_type": "code",
   "execution_count": 49,
   "metadata": {},
   "outputs": [
    {
     "name": "stdout",
     "output_type": "stream",
     "text": [
      "[('DelayedDepartureSFO', 'DelayedArrivalPHL'), ('DelayedArrivalPHL', 'DelayedDepartureSFO')]\n"
     ]
    }
   ],
   "source": [
    "flight_edges_df, bn = update_flights_edges_df(delayed_PHL_from,'DelayedArrivalPHL',flight_edges_df)"
   ]
  },
  {
   "cell_type": "code",
   "execution_count": 50,
   "metadata": {},
   "outputs": [
    {
     "name": "stdout",
     "output_type": "stream",
     "text": [
      "No cycle found! You may proceed.\n"
     ]
    }
   ],
   "source": [
    "flight_edges_df, bn = remove_edge('DelayedArrivalPHL','DelayedDepartureSFO', flight_edges_df)"
   ]
  },
  {
   "cell_type": "code",
   "execution_count": 51,
   "metadata": {},
   "outputs": [
    {
     "data": {
      "image/png": "[encoded data removed]",
      "text/plain": [
       "<matplotlib.figure.Figure at 0x7fa2d25cc4e0>"
      ]
     },
     "metadata": {},
     "output_type": "display_data"
    }
   ],
   "source": [
    "draw_graph(flight_edges_df,'final_bn.png')"
   ]
  },
  {
   "cell_type": "code",
   "execution_count": 52,
   "metadata": {},
   "outputs": [
    {
     "name": "stdout",
     "output_type": "stream",
     "text": [
      "This graph is a DAG : True \n",
      "This edge is a tree : False\n"
     ]
    }
   ],
   "source": [
    "print('This graph is a DAG :', nx.is_directed_acyclic_graph(bn),'\\nThis edge is a tree :', nx.is_tree(bn))"
   ]
  },
  {
   "cell_type": "code",
   "execution_count": 53,
   "metadata": {},
   "outputs": [
    {
     "name": "stdout",
     "output_type": "stream",
     "text": [
      "There are 17 nodes and 52 edges in this graph.\n"
     ]
    }
   ],
   "source": [
    "# nodes\n",
    "nodes_li = list(set(list(flight_edges_df['from_node'])+list(flight_edges_df['to_node'])))\n",
    "nodes_df = pd.DataFrame(nodes_li)\n",
    "nodes_df.columns = ['nodes']\n",
    "flight_edges_df.columns=['Source','Target']\n",
    "# save as csv\n",
    "flight_edges_df.to_csv('edges.csv',index=False)\n",
    "nodes_df.to_csv('nodes.csv',index=False)\n",
    "# numbers to print\n",
    "print('There are', nodes_df.shape[0], 'nodes and', flight_edges_df.shape[0], 'edges in this graph.')"
   ]
  },
  {
   "cell_type": "code",
   "execution_count": null,
   "metadata": {},
   "outputs": [],
   "source": []
  }
 ],
 "metadata": {
  "kernelspec": {
   "display_name": "Python 3",
   "language": "python",
   "name": "python3"
  },
  "language_info": {
   "codemirror_mode": {
    "name": "ipython",
    "version": 3
   },
   "file_extension": ".py",
   "mimetype": "text/x-python",
   "name": "python",
   "nbconvert_exporter": "python",
   "pygments_lexer": "ipython3",
   "version": "3.6.3"
  }
 },
 "nbformat": 4,
 "nbformat_minor": 2
}
