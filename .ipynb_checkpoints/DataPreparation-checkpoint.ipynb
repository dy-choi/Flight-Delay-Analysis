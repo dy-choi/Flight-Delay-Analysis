{
 "cells": [
  {
   "cell_type": "markdown",
   "metadata": {},
   "source": [
    "# Bayesian Networks and Flight Delay : SFO to PHL"
   ]
  },
  {
   "cell_type": "markdown",
   "metadata": {},
   "source": [
    "Flight delay is a costly problem to consumers, airlines, and industrial experts. Delays provoke complaints from passengers, create high costs to airlines, and result in difficulties for airport operations. It is therefore important for the Federal Aviation Administration (FAA) to understand the causes of delay as a means to reduce the total cost that delays can cause.\n",
    "\n",
    "Known factors that cause flight delays include weather at the origin airport, congestion at the origin airport, and air traffic management (ATM) decisions such as Ground Delay Programs (GDP). Each component interacts with other components in complex ways, which is why flight delays are an inherently stochastic phenomenon. Simply examining the marginal distributions of such factor does not truly reveal the effects that such factors have or the relationship between any two of such factors.\n",
    "\n",
    "Here, we will perform a case study of the use of Bayesian networks to model the relationship between different components of aircraft delay and the causal factors that affect delays. Bayesian networks allow us to simultaneously examine multiple components of delay and their relationships in a single analysis, an advantage that the use of Bayesian networks has over linear and nonlinear regression models. Moreover, Bayesian network models provide not only just predictions of future delays that incorporate the interrelationships among causal factors, but also a means of assessing the ultimate influence each causal factors has on arrival delay.\n",
    "\n",
    "In particular, we will examine delays in flight from San Francisco International Airport (SFO) to Philadelphia International Airport (PHL)."
   ]
  },
  {
   "cell_type": "code",
   "execution_count": 1,
   "metadata": {},
   "outputs": [],
   "source": [
    "import pandas as pd\n",
    "import numpy as np\n",
    "import statsmodels.api as sm\n",
    "import time\n",
    "import calendar\n",
    "import networkx as nx\n",
    "import matplotlib.pyplot as plt"
   ]
  },
  {
   "cell_type": "code",
   "execution_count": 2,
   "metadata": {},
   "outputs": [],
   "source": [
    "def filterRoutes(df):\n",
    "    '''\n",
    "    filter df to contain delayed fligths from SFO to PHL routes only.\n",
    "    '''\n",
    "    df = df[(df['ORIGIN'] == 'SFO') & (df['DEST'] == 'PHL') & (df['ARR_DELAY'] > 0)]\n",
    "    df = df.reset_index()\n",
    "    return df.drop(['index','YEAR','ORIGIN','DEST', 'UNIQUE_CARRIER','DEP_TIME','DEP_TIME_BLK','DEP_DELAY_GROUP', 'DEP_DELAY_NEW', 'DEP_DEL15','WHEELS_OFF','WHEELS_ON','ARR_DELAY','ARR_DELAY_NEW','DIVERTED','Unnamed: 29'],axis=1)\n",
    "\n",
    "def dateColumns(df):\n",
    "    '''\n",
    "    Given a column with mm/dd/yyyy, create a MONTH and DAY column.\n",
    "    '''\n",
    "    dates = [str(d).replace('/','') for d in list(df['Date'])]\n",
    "    dates = [time.strptime(d,'%m%d%Y') for d in dates]\n",
    "    df['MONTH'] = [d.tm_mon for d in dates]\n",
    "    df['DAY'] = [d.tm_mday for d in dates]\n",
    "    \n",
    "def changeTimetoBinary(df, col):\n",
    "    '''\n",
    "    change all times in df[col] to binary variable AM (0) or PM (1)\n",
    "    '''\n",
    "    mask = df[col] < 12.0\n",
    "    df.loc[mask, col] = 0\n",
    "    mask = df[col] >= 12.0\n",
    "    df.loc[mask, col] = 1"
   ]
  },
  {
   "cell_type": "markdown",
   "metadata": {},
   "source": [
    "## The Nitty-Gritty: Preparing the Data"
   ]
  },
  {
   "cell_type": "markdown",
   "metadata": {},
   "source": [
    "### Read and Merge"
   ]
  },
  {
   "cell_type": "markdown",
   "metadata": {},
   "source": [
    "We are working with two datasets. The first is provided by the Bureau of Transportation Statistics and contains flight information, including Common Reporting Standard (CRS) arrival and departure times, causes of delay, and time spend taxiing in and out. We will start by reading in twelve months' worth of data and filtering for just the SFO to PHL routes."
   ]
  },
  {
   "cell_type": "code",
   "execution_count": 3,
   "metadata": {},
   "outputs": [],
   "source": [
    "# read data and filter for relevant delayed flights\n",
    "jan_df = filterRoutes(pd.read_csv('./month/jan2017.csv'))\n",
    "feb_df = filterRoutes(pd.read_csv('./month/feb2017.csv'))\n",
    "mar_df = filterRoutes(pd.read_csv('./month/mar2017.csv'))\n",
    "apr_df = filterRoutes(pd.read_csv('./month/apr2017.csv'))\n",
    "may_df = filterRoutes(pd.read_csv('./month/may2017.csv'))\n",
    "jun_df = filterRoutes(pd.read_csv('./month/jun2017.csv'))\n",
    "jul_df = filterRoutes(pd.read_csv('./month/jul2017.csv'))\n",
    "aug_df = filterRoutes(pd.read_csv('./month/aug2017.csv'))\n",
    "sep_df = filterRoutes(pd.read_csv('./month/sep2017.csv'))\n",
    "oct_df = filterRoutes(pd.read_csv('./month/oct2017.csv'))\n",
    "nov_df = filterRoutes(pd.read_csv('./month/nov2017.csv'))\n",
    "dec_df = filterRoutes(pd.read_csv('./month/dec2017.csv'))\n",
    "\n",
    "# concatenate dataframes by quarter\n",
    "flights_df = pd.concat([jan_df, feb_df,mar_df,apr_df, may_df, jun_df, jul_df, aug_df, sep_df, oct_df, nov_df, dec_df])\n",
    "\n",
    "# keep hour information from CRS but not minutes\n",
    "flights_df['CRS_DEP_TIME'] = flights_df['CRS_DEP_TIME'] // 100\n",
    "flights_df['CRS_ARR_TIME'] = flights_df['CRS_ARR_TIME'] // 100"
   ]
  },
  {
   "cell_type": "markdown",
   "metadata": {},
   "source": [
    "Secondly, we will read in the data provided by the Federal Aviation Administration (FAA) on airport situations in SFO and PHL in 2017 in 'ASPM : Airport Analysis : Delayed Flights Report.' After reading in the data, we will merge the two dataframes to create one flights_df dataframe."
   ]
  },
  {
   "cell_type": "code",
   "execution_count": 4,
   "metadata": {},
   "outputs": [],
   "source": [
    "airports_df = pd.read_csv('./faa-aspm/airports.csv').dropna(axis=0,how='all')\n",
    "\n",
    "# split Date into MONTH and DAY\n",
    "airports_df['Facility'] = airports_df['Facility'].str.strip()\n",
    "dateColumns(airports_df)\n",
    "airports_df = airports_df.drop(['Date','% DelayedGateDepartures','% DelayedGateArrivals','Date'],axis=1)\n",
    "airports_df = airports_df.drop(['DeparturesFor MetricComputation','ArrivalsFor MetricComputation','AverageMinutesOf DelayPer DelayedGateDeparture','AverageMinutesOf DelayPer DelayedGateArrival'],axis=1)\n",
    "\n",
    "# find departure and arrival informations at airport at time of departure/arrival\n",
    "# SFO (departure)\n",
    "flights_SFO_df = pd.merge(flights_df, airports_df, how='inner', left_on=['MONTH','DAY_OF_MONTH','CRS_DEP_TIME'], right_on=['MONTH','DAY','Hour'])\n",
    "flights_SFO_df = flights_SFO_df[flights_SFO_df['Facility'] == 'SFO']\n",
    "# PHL (arrival)\n",
    "flights_PHL_df = pd.merge(flights_df, airports_df, how='inner', left_on=['MONTH','DAY_OF_MONTH','CRS_DEP_TIME'], right_on=['MONTH','DAY','Hour'])\n",
    "flights_PHL_df = flights_PHL_df[flights_PHL_df['Facility'] == 'PHL']\n",
    "# set departure/arrival information as fields of flights_df in intervals of 10\n",
    "flights_df['DelayedDepartureSFO'] = flights_PHL_df['DelayedGateDepartures'] // 10\n",
    "flights_df['ScheduledDepartureSFO'] = flights_PHL_df['ScheduledDepartures'] // 10\n",
    "flights_df['DelayedArrivalPHL'] = flights_PHL_df['DelayedGateArrivals'] // 10\n",
    "flights_df['ScheduledArrivalPHL'] = flights_PHL_df['ScheduledArrivals'] // 10\n",
    "flights_df.fillna(0,inplace=True)\n",
    "flights_df = flights_df.reset_index()\n",
    "flights_df = flights_df.drop(['index'],axis=1)"
   ]
  },
  {
   "cell_type": "code",
   "execution_count": 5,
   "metadata": {},
   "outputs": [],
   "source": [
    "# change all times to binary variable AM (0) or PM (1)\n",
    "changeTimetoBinary(flights_df, 'CRS_DEP_TIME')\n",
    "changeTimetoBinary(flights_df, 'CRS_ARR_TIME')"
   ]
  },
  {
   "cell_type": "markdown",
   "metadata": {},
   "source": [
    "We no longer need information about DAY_OF_MONTH, so we will drop that column. The compiled data is as below. Due to the length of each field name, we transpose the dataframe for readability."
   ]
  },
  {
   "cell_type": "code",
   "execution_count": 6,
   "metadata": {},
   "outputs": [
    {
     "data": {
      "text/html": [
       "<div>\n",
       "<table border=\"1\" class=\"dataframe\">\n",
       "  <thead>\n",
       "    <tr style=\"text-align: right;\">\n",
       "      <th></th>\n",
       "      <th>0</th>\n",
       "      <th>1</th>\n",
       "      <th>2</th>\n",
       "      <th>3</th>\n",
       "      <th>4</th>\n",
       "      <th>5</th>\n",
       "      <th>6</th>\n",
       "      <th>7</th>\n",
       "      <th>8</th>\n",
       "      <th>9</th>\n",
       "      <th>...</th>\n",
       "      <th>958</th>\n",
       "      <th>959</th>\n",
       "      <th>960</th>\n",
       "      <th>961</th>\n",
       "      <th>962</th>\n",
       "      <th>963</th>\n",
       "      <th>964</th>\n",
       "      <th>965</th>\n",
       "      <th>966</th>\n",
       "      <th>967</th>\n",
       "    </tr>\n",
       "  </thead>\n",
       "  <tbody>\n",
       "    <tr>\n",
       "      <th>QUARTER</th>\n",
       "      <td>1.0</td>\n",
       "      <td>1.0</td>\n",
       "      <td>1.0</td>\n",
       "      <td>1.0</td>\n",
       "      <td>1.0</td>\n",
       "      <td>1.0</td>\n",
       "      <td>1.0</td>\n",
       "      <td>1.0</td>\n",
       "      <td>1.0</td>\n",
       "      <td>1.0</td>\n",
       "      <td>...</td>\n",
       "      <td>4.0</td>\n",
       "      <td>4.0</td>\n",
       "      <td>4.0</td>\n",
       "      <td>4.0</td>\n",
       "      <td>4.0</td>\n",
       "      <td>4.0</td>\n",
       "      <td>4.0</td>\n",
       "      <td>4.0</td>\n",
       "      <td>4.0</td>\n",
       "      <td>4.0</td>\n",
       "    </tr>\n",
       "    <tr>\n",
       "      <th>MONTH</th>\n",
       "      <td>1.0</td>\n",
       "      <td>1.0</td>\n",
       "      <td>1.0</td>\n",
       "      <td>1.0</td>\n",
       "      <td>1.0</td>\n",
       "      <td>1.0</td>\n",
       "      <td>1.0</td>\n",
       "      <td>1.0</td>\n",
       "      <td>1.0</td>\n",
       "      <td>1.0</td>\n",
       "      <td>...</td>\n",
       "      <td>12.0</td>\n",
       "      <td>12.0</td>\n",
       "      <td>12.0</td>\n",
       "      <td>12.0</td>\n",
       "      <td>12.0</td>\n",
       "      <td>12.0</td>\n",
       "      <td>12.0</td>\n",
       "      <td>12.0</td>\n",
       "      <td>12.0</td>\n",
       "      <td>12.0</td>\n",
       "    </tr>\n",
       "    <tr>\n",
       "      <th>DAY_OF_WEEK</th>\n",
       "      <td>3.0</td>\n",
       "      <td>6.0</td>\n",
       "      <td>4.0</td>\n",
       "      <td>6.0</td>\n",
       "      <td>7.0</td>\n",
       "      <td>1.0</td>\n",
       "      <td>2.0</td>\n",
       "      <td>4.0</td>\n",
       "      <td>5.0</td>\n",
       "      <td>4.0</td>\n",
       "      <td>...</td>\n",
       "      <td>4.0</td>\n",
       "      <td>4.0</td>\n",
       "      <td>3.0</td>\n",
       "      <td>2.0</td>\n",
       "      <td>1.0</td>\n",
       "      <td>2.0</td>\n",
       "      <td>1.0</td>\n",
       "      <td>7.0</td>\n",
       "      <td>5.0</td>\n",
       "      <td>4.0</td>\n",
       "    </tr>\n",
       "    <tr>\n",
       "      <th>CRS_DEP_TIME</th>\n",
       "      <td>1.0</td>\n",
       "      <td>1.0</td>\n",
       "      <td>1.0</td>\n",
       "      <td>1.0</td>\n",
       "      <td>1.0</td>\n",
       "      <td>1.0</td>\n",
       "      <td>1.0</td>\n",
       "      <td>1.0</td>\n",
       "      <td>1.0</td>\n",
       "      <td>1.0</td>\n",
       "      <td>...</td>\n",
       "      <td>1.0</td>\n",
       "      <td>0.0</td>\n",
       "      <td>0.0</td>\n",
       "      <td>0.0</td>\n",
       "      <td>0.0</td>\n",
       "      <td>0.0</td>\n",
       "      <td>1.0</td>\n",
       "      <td>1.0</td>\n",
       "      <td>0.0</td>\n",
       "      <td>1.0</td>\n",
       "    </tr>\n",
       "    <tr>\n",
       "      <th>DEP_DELAY</th>\n",
       "      <td>28.0</td>\n",
       "      <td>90.0</td>\n",
       "      <td>32.0</td>\n",
       "      <td>24.0</td>\n",
       "      <td>-1.0</td>\n",
       "      <td>0.0</td>\n",
       "      <td>-9.0</td>\n",
       "      <td>17.0</td>\n",
       "      <td>2.0</td>\n",
       "      <td>1.0</td>\n",
       "      <td>...</td>\n",
       "      <td>81.0</td>\n",
       "      <td>23.0</td>\n",
       "      <td>-1.0</td>\n",
       "      <td>-6.0</td>\n",
       "      <td>14.0</td>\n",
       "      <td>10.0</td>\n",
       "      <td>-5.0</td>\n",
       "      <td>0.0</td>\n",
       "      <td>35.0</td>\n",
       "      <td>0.0</td>\n",
       "    </tr>\n",
       "    <tr>\n",
       "      <th>TAXI_OUT</th>\n",
       "      <td>26.0</td>\n",
       "      <td>12.0</td>\n",
       "      <td>17.0</td>\n",
       "      <td>16.0</td>\n",
       "      <td>29.0</td>\n",
       "      <td>16.0</td>\n",
       "      <td>19.0</td>\n",
       "      <td>24.0</td>\n",
       "      <td>23.0</td>\n",
       "      <td>31.0</td>\n",
       "      <td>...</td>\n",
       "      <td>20.0</td>\n",
       "      <td>29.0</td>\n",
       "      <td>39.0</td>\n",
       "      <td>36.0</td>\n",
       "      <td>45.0</td>\n",
       "      <td>21.0</td>\n",
       "      <td>29.0</td>\n",
       "      <td>27.0</td>\n",
       "      <td>29.0</td>\n",
       "      <td>27.0</td>\n",
       "    </tr>\n",
       "    <tr>\n",
       "      <th>TAXI_IN</th>\n",
       "      <td>3.0</td>\n",
       "      <td>5.0</td>\n",
       "      <td>4.0</td>\n",
       "      <td>6.0</td>\n",
       "      <td>4.0</td>\n",
       "      <td>6.0</td>\n",
       "      <td>5.0</td>\n",
       "      <td>3.0</td>\n",
       "      <td>3.0</td>\n",
       "      <td>7.0</td>\n",
       "      <td>...</td>\n",
       "      <td>5.0</td>\n",
       "      <td>6.0</td>\n",
       "      <td>5.0</td>\n",
       "      <td>5.0</td>\n",
       "      <td>8.0</td>\n",
       "      <td>11.0</td>\n",
       "      <td>11.0</td>\n",
       "      <td>7.0</td>\n",
       "      <td>10.0</td>\n",
       "      <td>5.0</td>\n",
       "    </tr>\n",
       "    <tr>\n",
       "      <th>CRS_ARR_TIME</th>\n",
       "      <td>0.0</td>\n",
       "      <td>0.0</td>\n",
       "      <td>0.0</td>\n",
       "      <td>0.0</td>\n",
       "      <td>0.0</td>\n",
       "      <td>0.0</td>\n",
       "      <td>0.0</td>\n",
       "      <td>0.0</td>\n",
       "      <td>0.0</td>\n",
       "      <td>0.0</td>\n",
       "      <td>...</td>\n",
       "      <td>0.0</td>\n",
       "      <td>1.0</td>\n",
       "      <td>1.0</td>\n",
       "      <td>1.0</td>\n",
       "      <td>1.0</td>\n",
       "      <td>1.0</td>\n",
       "      <td>0.0</td>\n",
       "      <td>0.0</td>\n",
       "      <td>1.0</td>\n",
       "      <td>0.0</td>\n",
       "    </tr>\n",
       "    <tr>\n",
       "      <th>ARR_DEL15</th>\n",
       "      <td>0.0</td>\n",
       "      <td>1.0</td>\n",
       "      <td>0.0</td>\n",
       "      <td>0.0</td>\n",
       "      <td>1.0</td>\n",
       "      <td>0.0</td>\n",
       "      <td>0.0</td>\n",
       "      <td>1.0</td>\n",
       "      <td>0.0</td>\n",
       "      <td>1.0</td>\n",
       "      <td>...</td>\n",
       "      <td>1.0</td>\n",
       "      <td>1.0</td>\n",
       "      <td>1.0</td>\n",
       "      <td>0.0</td>\n",
       "      <td>1.0</td>\n",
       "      <td>0.0</td>\n",
       "      <td>0.0</td>\n",
       "      <td>0.0</td>\n",
       "      <td>1.0</td>\n",
       "      <td>1.0</td>\n",
       "    </tr>\n",
       "    <tr>\n",
       "      <th>CARRIER_DELAY</th>\n",
       "      <td>0.0</td>\n",
       "      <td>30.0</td>\n",
       "      <td>0.0</td>\n",
       "      <td>0.0</td>\n",
       "      <td>0.0</td>\n",
       "      <td>0.0</td>\n",
       "      <td>0.0</td>\n",
       "      <td>8.0</td>\n",
       "      <td>0.0</td>\n",
       "      <td>1.0</td>\n",
       "      <td>...</td>\n",
       "      <td>5.0</td>\n",
       "      <td>20.0</td>\n",
       "      <td>0.0</td>\n",
       "      <td>0.0</td>\n",
       "      <td>14.0</td>\n",
       "      <td>0.0</td>\n",
       "      <td>0.0</td>\n",
       "      <td>0.0</td>\n",
       "      <td>35.0</td>\n",
       "      <td>0.0</td>\n",
       "    </tr>\n",
       "    <tr>\n",
       "      <th>WEATHER_DELAY</th>\n",
       "      <td>0.0</td>\n",
       "      <td>0.0</td>\n",
       "      <td>0.0</td>\n",
       "      <td>0.0</td>\n",
       "      <td>0.0</td>\n",
       "      <td>0.0</td>\n",
       "      <td>0.0</td>\n",
       "      <td>0.0</td>\n",
       "      <td>0.0</td>\n",
       "      <td>0.0</td>\n",
       "      <td>...</td>\n",
       "      <td>0.0</td>\n",
       "      <td>0.0</td>\n",
       "      <td>0.0</td>\n",
       "      <td>0.0</td>\n",
       "      <td>0.0</td>\n",
       "      <td>0.0</td>\n",
       "      <td>0.0</td>\n",
       "      <td>0.0</td>\n",
       "      <td>0.0</td>\n",
       "      <td>0.0</td>\n",
       "    </tr>\n",
       "    <tr>\n",
       "      <th>NAS_DELAY</th>\n",
       "      <td>0.0</td>\n",
       "      <td>0.0</td>\n",
       "      <td>0.0</td>\n",
       "      <td>0.0</td>\n",
       "      <td>16.0</td>\n",
       "      <td>0.0</td>\n",
       "      <td>0.0</td>\n",
       "      <td>13.0</td>\n",
       "      <td>0.0</td>\n",
       "      <td>22.0</td>\n",
       "      <td>...</td>\n",
       "      <td>0.0</td>\n",
       "      <td>0.0</td>\n",
       "      <td>24.0</td>\n",
       "      <td>0.0</td>\n",
       "      <td>4.0</td>\n",
       "      <td>0.0</td>\n",
       "      <td>0.0</td>\n",
       "      <td>0.0</td>\n",
       "      <td>13.0</td>\n",
       "      <td>20.0</td>\n",
       "    </tr>\n",
       "    <tr>\n",
       "      <th>SECURITY_DELAY</th>\n",
       "      <td>0.0</td>\n",
       "      <td>0.0</td>\n",
       "      <td>0.0</td>\n",
       "      <td>0.0</td>\n",
       "      <td>0.0</td>\n",
       "      <td>0.0</td>\n",
       "      <td>0.0</td>\n",
       "      <td>0.0</td>\n",
       "      <td>0.0</td>\n",
       "      <td>0.0</td>\n",
       "      <td>...</td>\n",
       "      <td>0.0</td>\n",
       "      <td>0.0</td>\n",
       "      <td>0.0</td>\n",
       "      <td>0.0</td>\n",
       "      <td>0.0</td>\n",
       "      <td>0.0</td>\n",
       "      <td>0.0</td>\n",
       "      <td>0.0</td>\n",
       "      <td>0.0</td>\n",
       "      <td>0.0</td>\n",
       "    </tr>\n",
       "    <tr>\n",
       "      <th>LATE_AIRCRAFT_DELAY</th>\n",
       "      <td>0.0</td>\n",
       "      <td>36.0</td>\n",
       "      <td>0.0</td>\n",
       "      <td>0.0</td>\n",
       "      <td>0.0</td>\n",
       "      <td>0.0</td>\n",
       "      <td>0.0</td>\n",
       "      <td>9.0</td>\n",
       "      <td>0.0</td>\n",
       "      <td>0.0</td>\n",
       "      <td>...</td>\n",
       "      <td>48.0</td>\n",
       "      <td>0.0</td>\n",
       "      <td>0.0</td>\n",
       "      <td>0.0</td>\n",
       "      <td>0.0</td>\n",
       "      <td>0.0</td>\n",
       "      <td>0.0</td>\n",
       "      <td>0.0</td>\n",
       "      <td>0.0</td>\n",
       "      <td>0.0</td>\n",
       "    </tr>\n",
       "    <tr>\n",
       "      <th>DelayedDepartureSFO</th>\n",
       "      <td>0.0</td>\n",
       "      <td>0.0</td>\n",
       "      <td>0.0</td>\n",
       "      <td>0.0</td>\n",
       "      <td>0.0</td>\n",
       "      <td>0.0</td>\n",
       "      <td>0.0</td>\n",
       "      <td>0.0</td>\n",
       "      <td>0.0</td>\n",
       "      <td>0.0</td>\n",
       "      <td>...</td>\n",
       "      <td>0.0</td>\n",
       "      <td>1.0</td>\n",
       "      <td>0.0</td>\n",
       "      <td>1.0</td>\n",
       "      <td>0.0</td>\n",
       "      <td>0.0</td>\n",
       "      <td>0.0</td>\n",
       "      <td>1.0</td>\n",
       "      <td>0.0</td>\n",
       "      <td>1.0</td>\n",
       "    </tr>\n",
       "    <tr>\n",
       "      <th>ScheduledDepartureSFO</th>\n",
       "      <td>0.0</td>\n",
       "      <td>0.0</td>\n",
       "      <td>0.0</td>\n",
       "      <td>0.0</td>\n",
       "      <td>0.0</td>\n",
       "      <td>0.0</td>\n",
       "      <td>0.0</td>\n",
       "      <td>0.0</td>\n",
       "      <td>0.0</td>\n",
       "      <td>0.0</td>\n",
       "      <td>...</td>\n",
       "      <td>0.0</td>\n",
       "      <td>3.0</td>\n",
       "      <td>0.0</td>\n",
       "      <td>3.0</td>\n",
       "      <td>0.0</td>\n",
       "      <td>3.0</td>\n",
       "      <td>0.0</td>\n",
       "      <td>2.0</td>\n",
       "      <td>0.0</td>\n",
       "      <td>2.0</td>\n",
       "    </tr>\n",
       "    <tr>\n",
       "      <th>DelayedArrivalPHL</th>\n",
       "      <td>0.0</td>\n",
       "      <td>0.0</td>\n",
       "      <td>0.0</td>\n",
       "      <td>0.0</td>\n",
       "      <td>0.0</td>\n",
       "      <td>0.0</td>\n",
       "      <td>0.0</td>\n",
       "      <td>0.0</td>\n",
       "      <td>0.0</td>\n",
       "      <td>0.0</td>\n",
       "      <td>...</td>\n",
       "      <td>0.0</td>\n",
       "      <td>0.0</td>\n",
       "      <td>0.0</td>\n",
       "      <td>0.0</td>\n",
       "      <td>0.0</td>\n",
       "      <td>0.0</td>\n",
       "      <td>0.0</td>\n",
       "      <td>0.0</td>\n",
       "      <td>0.0</td>\n",
       "      <td>0.0</td>\n",
       "    </tr>\n",
       "    <tr>\n",
       "      <th>ScheduledArrivalPHL</th>\n",
       "      <td>1.0</td>\n",
       "      <td>0.0</td>\n",
       "      <td>1.0</td>\n",
       "      <td>0.0</td>\n",
       "      <td>1.0</td>\n",
       "      <td>0.0</td>\n",
       "      <td>1.0</td>\n",
       "      <td>0.0</td>\n",
       "      <td>1.0</td>\n",
       "      <td>0.0</td>\n",
       "      <td>...</td>\n",
       "      <td>0.0</td>\n",
       "      <td>2.0</td>\n",
       "      <td>0.0</td>\n",
       "      <td>2.0</td>\n",
       "      <td>0.0</td>\n",
       "      <td>2.0</td>\n",
       "      <td>0.0</td>\n",
       "      <td>2.0</td>\n",
       "      <td>0.0</td>\n",
       "      <td>3.0</td>\n",
       "    </tr>\n",
       "  </tbody>\n",
       "</table>\n",
       "<p>18 rows × 968 columns</p>\n",
       "</div>"
      ],
      "text/plain": [
       "                        0     1     2     3     4     5     6     7     8    \\\n",
       "QUARTER                 1.0   1.0   1.0   1.0   1.0   1.0   1.0   1.0   1.0   \n",
       "MONTH                   1.0   1.0   1.0   1.0   1.0   1.0   1.0   1.0   1.0   \n",
       "DAY_OF_WEEK             3.0   6.0   4.0   6.0   7.0   1.0   2.0   4.0   5.0   \n",
       "CRS_DEP_TIME            1.0   1.0   1.0   1.0   1.0   1.0   1.0   1.0   1.0   \n",
       "DEP_DELAY              28.0  90.0  32.0  24.0  -1.0   0.0  -9.0  17.0   2.0   \n",
       "TAXI_OUT               26.0  12.0  17.0  16.0  29.0  16.0  19.0  24.0  23.0   \n",
       "TAXI_IN                 3.0   5.0   4.0   6.0   4.0   6.0   5.0   3.0   3.0   \n",
       "CRS_ARR_TIME            0.0   0.0   0.0   0.0   0.0   0.0   0.0   0.0   0.0   \n",
       "ARR_DEL15               0.0   1.0   0.0   0.0   1.0   0.0   0.0   1.0   0.0   \n",
       "CARRIER_DELAY           0.0  30.0   0.0   0.0   0.0   0.0   0.0   8.0   0.0   \n",
       "WEATHER_DELAY           0.0   0.0   0.0   0.0   0.0   0.0   0.0   0.0   0.0   \n",
       "NAS_DELAY               0.0   0.0   0.0   0.0  16.0   0.0   0.0  13.0   0.0   \n",
       "SECURITY_DELAY          0.0   0.0   0.0   0.0   0.0   0.0   0.0   0.0   0.0   \n",
       "LATE_AIRCRAFT_DELAY     0.0  36.0   0.0   0.0   0.0   0.0   0.0   9.0   0.0   \n",
       "DelayedDepartureSFO     0.0   0.0   0.0   0.0   0.0   0.0   0.0   0.0   0.0   \n",
       "ScheduledDepartureSFO   0.0   0.0   0.0   0.0   0.0   0.0   0.0   0.0   0.0   \n",
       "DelayedArrivalPHL       0.0   0.0   0.0   0.0   0.0   0.0   0.0   0.0   0.0   \n",
       "ScheduledArrivalPHL     1.0   0.0   1.0   0.0   1.0   0.0   1.0   0.0   1.0   \n",
       "\n",
       "                        9    ...    958   959   960   961   962   963   964  \\\n",
       "QUARTER                 1.0  ...    4.0   4.0   4.0   4.0   4.0   4.0   4.0   \n",
       "MONTH                   1.0  ...   12.0  12.0  12.0  12.0  12.0  12.0  12.0   \n",
       "DAY_OF_WEEK             4.0  ...    4.0   4.0   3.0   2.0   1.0   2.0   1.0   \n",
       "CRS_DEP_TIME            1.0  ...    1.0   0.0   0.0   0.0   0.0   0.0   1.0   \n",
       "DEP_DELAY               1.0  ...   81.0  23.0  -1.0  -6.0  14.0  10.0  -5.0   \n",
       "TAXI_OUT               31.0  ...   20.0  29.0  39.0  36.0  45.0  21.0  29.0   \n",
       "TAXI_IN                 7.0  ...    5.0   6.0   5.0   5.0   8.0  11.0  11.0   \n",
       "CRS_ARR_TIME            0.0  ...    0.0   1.0   1.0   1.0   1.0   1.0   0.0   \n",
       "ARR_DEL15               1.0  ...    1.0   1.0   1.0   0.0   1.0   0.0   0.0   \n",
       "CARRIER_DELAY           1.0  ...    5.0  20.0   0.0   0.0  14.0   0.0   0.0   \n",
       "WEATHER_DELAY           0.0  ...    0.0   0.0   0.0   0.0   0.0   0.0   0.0   \n",
       "NAS_DELAY              22.0  ...    0.0   0.0  24.0   0.0   4.0   0.0   0.0   \n",
       "SECURITY_DELAY          0.0  ...    0.0   0.0   0.0   0.0   0.0   0.0   0.0   \n",
       "LATE_AIRCRAFT_DELAY     0.0  ...   48.0   0.0   0.0   0.0   0.0   0.0   0.0   \n",
       "DelayedDepartureSFO     0.0  ...    0.0   1.0   0.0   1.0   0.0   0.0   0.0   \n",
       "ScheduledDepartureSFO   0.0  ...    0.0   3.0   0.0   3.0   0.0   3.0   0.0   \n",
       "DelayedArrivalPHL       0.0  ...    0.0   0.0   0.0   0.0   0.0   0.0   0.0   \n",
       "ScheduledArrivalPHL     0.0  ...    0.0   2.0   0.0   2.0   0.0   2.0   0.0   \n",
       "\n",
       "                        965   966   967  \n",
       "QUARTER                 4.0   4.0   4.0  \n",
       "MONTH                  12.0  12.0  12.0  \n",
       "DAY_OF_WEEK             7.0   5.0   4.0  \n",
       "CRS_DEP_TIME            1.0   0.0   1.0  \n",
       "DEP_DELAY               0.0  35.0   0.0  \n",
       "TAXI_OUT               27.0  29.0  27.0  \n",
       "TAXI_IN                 7.0  10.0   5.0  \n",
       "CRS_ARR_TIME            0.0   1.0   0.0  \n",
       "ARR_DEL15               0.0   1.0   1.0  \n",
       "CARRIER_DELAY           0.0  35.0   0.0  \n",
       "WEATHER_DELAY           0.0   0.0   0.0  \n",
       "NAS_DELAY               0.0  13.0  20.0  \n",
       "SECURITY_DELAY          0.0   0.0   0.0  \n",
       "LATE_AIRCRAFT_DELAY     0.0   0.0   0.0  \n",
       "DelayedDepartureSFO     1.0   0.0   1.0  \n",
       "ScheduledDepartureSFO   2.0   0.0   2.0  \n",
       "DelayedArrivalPHL       0.0   0.0   0.0  \n",
       "ScheduledArrivalPHL     2.0   0.0   3.0  \n",
       "\n",
       "[18 rows x 968 columns]"
      ]
     },
     "execution_count": 6,
     "metadata": {},
     "output_type": "execute_result"
    }
   ],
   "source": [
    "flights_df = flights_df.drop(['DAY_OF_MONTH'],axis=1)\n",
    "# save as CSV\n",
    "flights_df.to_csv('full_data.csv',index=False)\n",
    "flights_df.transpose()"
   ]
  },
  {
   "cell_type": "markdown",
   "metadata": {},
   "source": [
    "### Train and Test Data"
   ]
  },
  {
   "cell_type": "markdown",
   "metadata": {},
   "source": [
    "Let the five delay causes (CARRIER_DELAY, WEATHER_DELAY, NAS_DELAY, SECURITY_DELAY, LATE_AIRCRAFT_DELAY) and the variable we are looking to explain (ARR_DEL15) be nodes. We must perform regression analysis to determine dependency relationships."
   ]
  },
  {
   "cell_type": "code",
   "execution_count": 7,
   "metadata": {},
   "outputs": [],
   "source": [
    "# 20% test data\n",
    "from sklearn.model_selection import train_test_split\n",
    "# 774 train data, 194 test data\n",
    "train_df,test_df = train_test_split(flights_df, test_size=0.2)\n",
    "# save as CSV\n",
    "train_df.to_csv('train_data.csv',index=False)\n",
    "test_df.to_csv('test_data.csv',index=False)"
   ]
  },
  {
   "cell_type": "markdown",
   "metadata": {},
   "source": [
    "## Finding Dependencies: Regression Analysis"
   ]
  },
  {
   "cell_type": "markdown",
   "metadata": {},
   "source": [
    "We use the Ordinary Least Squares (OLS) method to find dependencies, starting with what we know to be the final outcome: ARR_DEL15 (which is 0 if the flight does not arrive more than 15 minutes late, 1 otherwise). As we find dependencies, we will also be making sure that we are not creating any accidental cycles."
   ]
  },
  {
   "cell_type": "code",
   "execution_count": 8,
   "metadata": {},
   "outputs": [],
   "source": [
    "bn = nx.DiGraph()\n",
    "flight_edges_df = pd.DataFrame(columns=['from_node', 'to_node'])"
   ]
  },
  {
   "cell_type": "code",
   "execution_count": 9,
   "metadata": {},
   "outputs": [],
   "source": [
    "def regression_model(from_li, to_node):\n",
    "    '''\n",
    "    return OLS regression model, given list from_li of nodes and singular to_node\n",
    "    '''\n",
    "    X = train_df[from_li]\n",
    "    y = train_df[to_node]\n",
    "    model = sm.OLS(y, X).fit()\n",
    "    return model\n",
    "\n",
    "def update_flights_edges_df(from_li, str_var, flight_edges_df):\n",
    "    '''\n",
    "    update dataframe of edges using a list of from nodes, the string value of the node,\n",
    "    and the current dataframe of edges.\n",
    "    '''\n",
    "    # update flights_edges_df with from_node to to_node entries\n",
    "    flights_edges_dict = dict()\n",
    "    for node in from_li:\n",
    "        flights_edges_dict[node] = str_var\n",
    "    temp_df = pd.DataFrame(list(flights_edges_dict.items()), columns=['from_node', 'to_node'])\n",
    "    flight_edges_df = pd.concat([flight_edges_df, temp_df]).reset_index()\n",
    "    flight_edges_df = flight_edges_df.drop(['index'], axis=1)\n",
    "\n",
    "    # create network\n",
    "    bn = nx.from_pandas_edgelist(flight_edges_df,source='from_node',target='to_node',create_using=nx.DiGraph())\n",
    "    \n",
    "    # check to see if there are cycles, print one cycle if there exists at least one\n",
    "    try:\n",
    "        print(nx.find_cycle(bn, source=None, orientation='original'))\n",
    "    except:\n",
    "        print('No cycle found! You may proceed.')\n",
    "        \n",
    "    return flight_edges_df, bn\n",
    "\n",
    "def draw_graph(df,name):\n",
    "    '''\n",
    "    takes in dataframe of edges (from_node, to_node) and plots directed graph\n",
    "    saves to name\n",
    "    '''\n",
    "    # create network\n",
    "    G = nx.from_pandas_edgelist(df,source='from_node',target='to_node',create_using=nx.DiGraph())\n",
    "\n",
    "    G_edges = [edge for edge in G.edges()]\n",
    "    pos = nx.spring_layout(G)\n",
    "    nx.draw_networkx_nodes(G, pos, cmap=plt.get_cmap('jet'), node_size = 200,alpha=0.3)\n",
    "    nx.draw_networkx_labels(G, pos,font_size='10')\n",
    "    nx.draw_networkx_edges(G, pos, edgelist=G_edges, edge_color='b',style='dot', arrows=True,arrow_size = 15,alpha=0.5)\n",
    "    plt.savefig('./images/'+ name)\n",
    "    plt.show()\n",
    "    \n",
    "def remove_edge(from_edge,to_edge,df):\n",
    "    '''\n",
    "    remove from_edge to to_edge directed edge from df\n",
    "    '''\n",
    "    # remove edge from df\n",
    "    df = df[(flight_edges_df.from_node != from_edge) | (flight_edges_df.to_node != to_edge)]\n",
    "    \n",
    "    # create network\n",
    "    G = nx.from_pandas_edgelist(df,source='from_node',target='to_node',create_using=nx.DiGraph())\n",
    "    # check for cycles\n",
    "    try:\n",
    "        print(nx.find_cycle(G, source=None, orientation='original'))\n",
    "    except:\n",
    "        print('No cycle found! You may proceed.')\n",
    "    return df, G"
   ]
  },
  {
   "cell_type": "markdown",
   "metadata": {},
   "source": [
    "### ARR_DEL15"
   ]
  },
  {
   "cell_type": "code",
   "execution_count": 10,
   "metadata": {},
   "outputs": [
    {
     "data": {
      "text/html": [
       "<table class=\"simpletable\">\n",
       "<caption>OLS Regression Results</caption>\n",
       "<tr>\n",
       "  <th>Dep. Variable:</th>        <td>ARR_DEL15</td>    <th>  R-squared:         </th> <td>   0.645</td> \n",
       "</tr>\n",
       "<tr>\n",
       "  <th>Model:</th>                   <td>OLS</td>       <th>  Adj. R-squared:    </th> <td>   0.641</td> \n",
       "</tr>\n",
       "<tr>\n",
       "  <th>Method:</th>             <td>Least Squares</td>  <th>  F-statistic:       </th> <td>   173.6</td> \n",
       "</tr>\n",
       "<tr>\n",
       "  <th>Date:</th>             <td>Mon, 09 Apr 2018</td> <th>  Prob (F-statistic):</th> <td>2.22e-166</td>\n",
       "</tr>\n",
       "<tr>\n",
       "  <th>Time:</th>                 <td>03:24:37</td>     <th>  Log-Likelihood:    </th> <td> -450.14</td> \n",
       "</tr>\n",
       "<tr>\n",
       "  <th>No. Observations:</th>      <td>   774</td>      <th>  AIC:               </th> <td>   916.3</td> \n",
       "</tr>\n",
       "<tr>\n",
       "  <th>Df Residuals:</th>          <td>   766</td>      <th>  BIC:               </th> <td>   953.5</td> \n",
       "</tr>\n",
       "<tr>\n",
       "  <th>Df Model:</th>              <td>     8</td>      <th>                     </th>     <td> </td>    \n",
       "</tr>\n",
       "<tr>\n",
       "  <th>Covariance Type:</th>      <td>nonrobust</td>    <th>                     </th>     <td> </td>    \n",
       "</tr>\n",
       "</table>\n",
       "<table class=\"simpletable\">\n",
       "<tr>\n",
       "           <td></td>              <th>coef</th>     <th>std err</th>      <th>t</th>      <th>P>|t|</th>  <th>[0.025</th>    <th>0.975]</th>  \n",
       "</tr>\n",
       "<tr>\n",
       "  <th>CRS_DEP_TIME</th>        <td>    0.0897</td> <td>    0.039</td> <td>    2.311</td> <td> 0.021</td> <td>    0.014</td> <td>    0.166</td>\n",
       "</tr>\n",
       "<tr>\n",
       "  <th>TAXI_OUT</th>            <td>    0.0109</td> <td>    0.001</td> <td>    9.157</td> <td> 0.000</td> <td>    0.009</td> <td>    0.013</td>\n",
       "</tr>\n",
       "<tr>\n",
       "  <th>TAXI_IN</th>             <td>    0.0039</td> <td>    0.002</td> <td>    2.237</td> <td> 0.026</td> <td>    0.000</td> <td>    0.007</td>\n",
       "</tr>\n",
       "<tr>\n",
       "  <th>CRS_ARR_TIME</th>        <td>    0.0502</td> <td>    0.038</td> <td>    1.310</td> <td> 0.191</td> <td>   -0.025</td> <td>    0.125</td>\n",
       "</tr>\n",
       "<tr>\n",
       "  <th>CARRIER_DELAY</th>       <td>    0.0080</td> <td>    0.001</td> <td>   10.653</td> <td> 0.000</td> <td>    0.007</td> <td>    0.009</td>\n",
       "</tr>\n",
       "<tr>\n",
       "  <th>WEATHER_DELAY</th>       <td>    0.0048</td> <td>    0.003</td> <td>    1.839</td> <td> 0.066</td> <td>   -0.000</td> <td>    0.010</td>\n",
       "</tr>\n",
       "<tr>\n",
       "  <th>SECURITY_DELAY</th>      <td>    0.0050</td> <td>    0.008</td> <td>    0.647</td> <td> 0.518</td> <td>   -0.010</td> <td>    0.020</td>\n",
       "</tr>\n",
       "<tr>\n",
       "  <th>LATE_AIRCRAFT_DELAY</th> <td>    0.0075</td> <td>    0.001</td> <td>   10.696</td> <td> 0.000</td> <td>    0.006</td> <td>    0.009</td>\n",
       "</tr>\n",
       "</table>\n",
       "<table class=\"simpletable\">\n",
       "<tr>\n",
       "  <th>Omnibus:</th>       <td>5025.430</td> <th>  Durbin-Watson:     </th> <td>   1.920</td>\n",
       "</tr>\n",
       "<tr>\n",
       "  <th>Prob(Omnibus):</th>  <td> 0.000</td>  <th>  Jarque-Bera (JB):  </th> <td>  59.581</td>\n",
       "</tr>\n",
       "<tr>\n",
       "  <th>Skew:</th>           <td> 0.061</td>  <th>  Prob(JB):          </th> <td>1.15e-13</td>\n",
       "</tr>\n",
       "<tr>\n",
       "  <th>Kurtosis:</th>       <td> 1.646</td>  <th>  Cond. No.          </th> <td>    104.</td>\n",
       "</tr>\n",
       "</table>"
      ],
      "text/plain": [
       "<class 'statsmodels.iolib.summary.Summary'>\n",
       "\"\"\"\n",
       "                            OLS Regression Results                            \n",
       "==============================================================================\n",
       "Dep. Variable:              ARR_DEL15   R-squared:                       0.645\n",
       "Model:                            OLS   Adj. R-squared:                  0.641\n",
       "Method:                 Least Squares   F-statistic:                     173.6\n",
       "Date:                Mon, 09 Apr 2018   Prob (F-statistic):          2.22e-166\n",
       "Time:                        03:24:37   Log-Likelihood:                -450.14\n",
       "No. Observations:                 774   AIC:                             916.3\n",
       "Df Residuals:                     766   BIC:                             953.5\n",
       "Df Model:                           8                                         \n",
       "Covariance Type:            nonrobust                                         \n",
       "=======================================================================================\n",
       "                          coef    std err          t      P>|t|      [0.025      0.975]\n",
       "---------------------------------------------------------------------------------------\n",
       "CRS_DEP_TIME            0.0897      0.039      2.311      0.021       0.014       0.166\n",
       "TAXI_OUT                0.0109      0.001      9.157      0.000       0.009       0.013\n",
       "TAXI_IN                 0.0039      0.002      2.237      0.026       0.000       0.007\n",
       "CRS_ARR_TIME            0.0502      0.038      1.310      0.191      -0.025       0.125\n",
       "CARRIER_DELAY           0.0080      0.001     10.653      0.000       0.007       0.009\n",
       "WEATHER_DELAY           0.0048      0.003      1.839      0.066      -0.000       0.010\n",
       "SECURITY_DELAY          0.0050      0.008      0.647      0.518      -0.010       0.020\n",
       "LATE_AIRCRAFT_DELAY     0.0075      0.001     10.696      0.000       0.006       0.009\n",
       "==============================================================================\n",
       "Omnibus:                     5025.430   Durbin-Watson:                   1.920\n",
       "Prob(Omnibus):                  0.000   Jarque-Bera (JB):               59.581\n",
       "Skew:                           0.061   Prob(JB):                     1.15e-13\n",
       "Kurtosis:                       1.646   Cond. No.                         104.\n",
       "==============================================================================\n",
       "\n",
       "Warnings:\n",
       "[1] Standard Errors assume that the covariance matrix of the errors is correctly specified.\n",
       "\"\"\""
      ]
     },
     "execution_count": 10,
     "metadata": {},
     "output_type": "execute_result"
    }
   ],
   "source": [
    "arr_15_from = ['CRS_DEP_TIME', 'TAXI_OUT', 'TAXI_IN', 'CRS_ARR_TIME', 'CARRIER_DELAY', 'WEATHER_DELAY', 'SECURITY_DELAY', 'LATE_AIRCRAFT_DELAY']\n",
    "regression_model(arr_15_from, 'ARR_DEL15').summary()"
   ]
  },
  {
   "cell_type": "code",
   "execution_count": 11,
   "metadata": {},
   "outputs": [
    {
     "name": "stdout",
     "output_type": "stream",
     "text": [
      "No cycle found! You may proceed.\n"
     ]
    },
    {
     "data": {
      "image/png": "[encoded data removed]",
      "text/plain": [
       "<matplotlib.figure.Figure at 0x7f471fd914e0>"
      ]
     },
     "metadata": {},
     "output_type": "display_data"
    }
   ],
   "source": [
    "# update dataframe of edges and draw graph\n",
    "flight_edges_df, bn = update_flights_edges_df(arr_15_from, 'ARR_DEL15',flight_edges_df)\n",
    "draw_graph(flight_edges_df,'initial_bn.png')"
   ]
  },
  {
   "cell_type": "markdown",
   "metadata": {},
   "source": [
    "Using regressional analysis, we conclude that ARR_DEL15 is dependent on six factors. So far, we do not have any cycles (remember that a Bayesian network consists of a directed acyclic graph), so we may proceed by moving onto finding more dependencies by choosing an arbitrary parent of ARR_DEL15."
   ]
  },
  {
   "cell_type": "markdown",
   "metadata": {},
   "source": [
    "### NAS Delay"
   ]
  },
  {
   "cell_type": "markdown",
   "metadata": {},
   "source": [
    "Carrier Delay depends on"
   ]
  },
  {
   "cell_type": "code",
   "execution_count": 12,
   "metadata": {},
   "outputs": [
    {
     "data": {
      "text/html": [
       "<table class=\"simpletable\">\n",
       "<caption>OLS Regression Results</caption>\n",
       "<tr>\n",
       "  <th>Dep. Variable:</th>        <td>NAS_DELAY</td>    <th>  R-squared:         </th> <td>   0.602</td> \n",
       "</tr>\n",
       "<tr>\n",
       "  <th>Model:</th>                   <td>OLS</td>       <th>  Adj. R-squared:    </th> <td>   0.597</td> \n",
       "</tr>\n",
       "<tr>\n",
       "  <th>Method:</th>             <td>Least Squares</td>  <th>  F-statistic:       </th> <td>   115.4</td> \n",
       "</tr>\n",
       "<tr>\n",
       "  <th>Date:</th>             <td>Mon, 09 Apr 2018</td> <th>  Prob (F-statistic):</th> <td>2.16e-145</td>\n",
       "</tr>\n",
       "<tr>\n",
       "  <th>Time:</th>                 <td>03:24:37</td>     <th>  Log-Likelihood:    </th> <td> -3127.4</td> \n",
       "</tr>\n",
       "<tr>\n",
       "  <th>No. Observations:</th>      <td>   774</td>      <th>  AIC:               </th> <td>   6275.</td> \n",
       "</tr>\n",
       "<tr>\n",
       "  <th>Df Residuals:</th>          <td>   764</td>      <th>  BIC:               </th> <td>   6321.</td> \n",
       "</tr>\n",
       "<tr>\n",
       "  <th>Df Model:</th>              <td>    10</td>      <th>                     </th>     <td> </td>    \n",
       "</tr>\n",
       "<tr>\n",
       "  <th>Covariance Type:</th>      <td>nonrobust</td>    <th>                     </th>     <td> </td>    \n",
       "</tr>\n",
       "</table>\n",
       "<table class=\"simpletable\">\n",
       "<tr>\n",
       "           <td></td>              <th>coef</th>     <th>std err</th>      <th>t</th>      <th>P>|t|</th>  <th>[0.025</th>    <th>0.975]</th>  \n",
       "</tr>\n",
       "<tr>\n",
       "  <th>QUARTER</th>             <td>   -3.2183</td> <td>    0.426</td> <td>   -7.554</td> <td> 0.000</td> <td>   -4.055</td> <td>   -2.382</td>\n",
       "</tr>\n",
       "<tr>\n",
       "  <th>DAY_OF_WEEK</th>         <td>   -1.2169</td> <td>    0.225</td> <td>   -5.413</td> <td> 0.000</td> <td>   -1.658</td> <td>   -0.776</td>\n",
       "</tr>\n",
       "<tr>\n",
       "  <th>CRS_DEP_TIME</th>        <td>   -4.8042</td> <td>    0.997</td> <td>   -4.818</td> <td> 0.000</td> <td>   -6.762</td> <td>   -2.847</td>\n",
       "</tr>\n",
       "<tr>\n",
       "  <th>DEP_DELAY</th>           <td>    0.6214</td> <td>    0.029</td> <td>   21.604</td> <td> 0.000</td> <td>    0.565</td> <td>    0.678</td>\n",
       "</tr>\n",
       "<tr>\n",
       "  <th>TAXI_OUT</th>            <td>    0.6329</td> <td>    0.039</td> <td>   16.306</td> <td> 0.000</td> <td>    0.557</td> <td>    0.709</td>\n",
       "</tr>\n",
       "<tr>\n",
       "  <th>TAXI_IN</th>             <td>    0.7250</td> <td>    0.057</td> <td>   12.804</td> <td> 0.000</td> <td>    0.614</td> <td>    0.836</td>\n",
       "</tr>\n",
       "<tr>\n",
       "  <th>CARRIER_DELAY</th>       <td>   -0.6882</td> <td>    0.039</td> <td>  -17.521</td> <td> 0.000</td> <td>   -0.765</td> <td>   -0.611</td>\n",
       "</tr>\n",
       "<tr>\n",
       "  <th>WEATHER_DELAY</th>       <td>   -0.6024</td> <td>    0.087</td> <td>   -6.888</td> <td> 0.000</td> <td>   -0.774</td> <td>   -0.431</td>\n",
       "</tr>\n",
       "<tr>\n",
       "  <th>SECURITY_DELAY</th>      <td>   -0.7161</td> <td>    0.245</td> <td>   -2.919</td> <td> 0.004</td> <td>   -1.198</td> <td>   -0.234</td>\n",
       "</tr>\n",
       "<tr>\n",
       "  <th>LATE_AIRCRAFT_DELAY</th> <td>   -0.7160</td> <td>    0.040</td> <td>  -18.008</td> <td> 0.000</td> <td>   -0.794</td> <td>   -0.638</td>\n",
       "</tr>\n",
       "</table>\n",
       "<table class=\"simpletable\">\n",
       "<tr>\n",
       "  <th>Omnibus:</th>       <td>150.582</td> <th>  Durbin-Watson:     </th> <td>   2.000</td>\n",
       "</tr>\n",
       "<tr>\n",
       "  <th>Prob(Omnibus):</th> <td> 0.000</td>  <th>  Jarque-Bera (JB):  </th> <td> 367.091</td>\n",
       "</tr>\n",
       "<tr>\n",
       "  <th>Skew:</th>          <td> 1.022</td>  <th>  Prob(JB):          </th> <td>1.94e-80</td>\n",
       "</tr>\n",
       "<tr>\n",
       "  <th>Kurtosis:</th>      <td> 5.685</td>  <th>  Cond. No.          </th> <td>    103.</td>\n",
       "</tr>\n",
       "</table>"
      ],
      "text/plain": [
       "<class 'statsmodels.iolib.summary.Summary'>\n",
       "\"\"\"\n",
       "                            OLS Regression Results                            \n",
       "==============================================================================\n",
       "Dep. Variable:              NAS_DELAY   R-squared:                       0.602\n",
       "Model:                            OLS   Adj. R-squared:                  0.597\n",
       "Method:                 Least Squares   F-statistic:                     115.4\n",
       "Date:                Mon, 09 Apr 2018   Prob (F-statistic):          2.16e-145\n",
       "Time:                        03:24:37   Log-Likelihood:                -3127.4\n",
       "No. Observations:                 774   AIC:                             6275.\n",
       "Df Residuals:                     764   BIC:                             6321.\n",
       "Df Model:                          10                                         \n",
       "Covariance Type:            nonrobust                                         \n",
       "=======================================================================================\n",
       "                          coef    std err          t      P>|t|      [0.025      0.975]\n",
       "---------------------------------------------------------------------------------------\n",
       "QUARTER                -3.2183      0.426     -7.554      0.000      -4.055      -2.382\n",
       "DAY_OF_WEEK            -1.2169      0.225     -5.413      0.000      -1.658      -0.776\n",
       "CRS_DEP_TIME           -4.8042      0.997     -4.818      0.000      -6.762      -2.847\n",
       "DEP_DELAY               0.6214      0.029     21.604      0.000       0.565       0.678\n",
       "TAXI_OUT                0.6329      0.039     16.306      0.000       0.557       0.709\n",
       "TAXI_IN                 0.7250      0.057     12.804      0.000       0.614       0.836\n",
       "CARRIER_DELAY          -0.6882      0.039    -17.521      0.000      -0.765      -0.611\n",
       "WEATHER_DELAY          -0.6024      0.087     -6.888      0.000      -0.774      -0.431\n",
       "SECURITY_DELAY         -0.7161      0.245     -2.919      0.004      -1.198      -0.234\n",
       "LATE_AIRCRAFT_DELAY    -0.7160      0.040    -18.008      0.000      -0.794      -0.638\n",
       "==============================================================================\n",
       "Omnibus:                      150.582   Durbin-Watson:                   2.000\n",
       "Prob(Omnibus):                  0.000   Jarque-Bera (JB):              367.091\n",
       "Skew:                           1.022   Prob(JB):                     1.94e-80\n",
       "Kurtosis:                       5.685   Cond. No.                         103.\n",
       "==============================================================================\n",
       "\n",
       "Warnings:\n",
       "[1] Standard Errors assume that the covariance matrix of the errors is correctly specified.\n",
       "\"\"\""
      ]
     },
     "execution_count": 12,
     "metadata": {},
     "output_type": "execute_result"
    }
   ],
   "source": [
    "nas_delay_from =['QUARTER', 'DAY_OF_WEEK', 'CRS_DEP_TIME', 'DEP_DELAY', 'TAXI_OUT', 'TAXI_IN', 'CARRIER_DELAY', 'WEATHER_DELAY', 'SECURITY_DELAY', 'LATE_AIRCRAFT_DELAY'] \n",
    "regression_model(nas_delay_from, 'NAS_DELAY').summary()"
   ]
  },
  {
   "cell_type": "code",
   "execution_count": 13,
   "metadata": {},
   "outputs": [
    {
     "name": "stdout",
     "output_type": "stream",
     "text": [
      "No cycle found! You may proceed.\n"
     ]
    }
   ],
   "source": [
    "flight_edges_df, bn = update_flights_edges_df(nas_delay_from, 'NAS_DELAY',flight_edges_df)"
   ]
  },
  {
   "cell_type": "code",
   "execution_count": 14,
   "metadata": {},
   "outputs": [
    {
     "data": {
      "image/png": "[encoded data removed]",
      "text/plain": [
       "<matplotlib.figure.Figure at 0x7f471fd91358>"
      ]
     },
     "metadata": {},
     "output_type": "display_data"
    }
   ],
   "source": [
    "draw_graph(flight_edges_df, 'nas-arr_del15.png')"
   ]
  },
  {
   "cell_type": "markdown",
   "metadata": {},
   "source": [
    "### Late Aircraft Delay"
   ]
  },
  {
   "cell_type": "markdown",
   "metadata": {},
   "source": [
    "Now, we took a look at the variables that LATE_AIRCRAFT_DELAY rely on. From this point on, we will not display the graph."
   ]
  },
  {
   "cell_type": "code",
   "execution_count": 15,
   "metadata": {},
   "outputs": [
    {
     "data": {
      "text/html": [
       "<table class=\"simpletable\">\n",
       "<caption>OLS Regression Results</caption>\n",
       "<tr>\n",
       "  <th>Dep. Variable:</th>    <td>LATE_AIRCRAFT_DELAY</td> <th>  R-squared:         </th> <td>   0.818</td> \n",
       "</tr>\n",
       "<tr>\n",
       "  <th>Model:</th>                    <td>OLS</td>         <th>  Adj. R-squared:    </th> <td>   0.815</td> \n",
       "</tr>\n",
       "<tr>\n",
       "  <th>Method:</th>              <td>Least Squares</td>    <th>  F-statistic:       </th> <td>   284.7</td> \n",
       "</tr>\n",
       "<tr>\n",
       "  <th>Date:</th>              <td>Mon, 09 Apr 2018</td>   <th>  Prob (F-statistic):</th> <td>6.88e-272</td>\n",
       "</tr>\n",
       "<tr>\n",
       "  <th>Time:</th>                  <td>03:24:38</td>       <th>  Log-Likelihood:    </th> <td> -2904.3</td> \n",
       "</tr>\n",
       "<tr>\n",
       "  <th>No. Observations:</th>       <td>   774</td>        <th>  AIC:               </th> <td>   5833.</td> \n",
       "</tr>\n",
       "<tr>\n",
       "  <th>Df Residuals:</th>           <td>   762</td>        <th>  BIC:               </th> <td>   5888.</td> \n",
       "</tr>\n",
       "<tr>\n",
       "  <th>Df Model:</th>               <td>    12</td>        <th>                     </th>     <td> </td>    \n",
       "</tr>\n",
       "<tr>\n",
       "  <th>Covariance Type:</th>       <td>nonrobust</td>      <th>                     </th>     <td> </td>    \n",
       "</tr>\n",
       "</table>\n",
       "<table class=\"simpletable\">\n",
       "<tr>\n",
       "         <td></td>           <th>coef</th>     <th>std err</th>      <th>t</th>      <th>P>|t|</th>  <th>[0.025</th>    <th>0.975]</th>  \n",
       "</tr>\n",
       "<tr>\n",
       "  <th>QUARTER</th>        <td>   -5.1988</td> <td>    1.331</td> <td>   -3.906</td> <td> 0.000</td> <td>   -7.811</td> <td>   -2.586</td>\n",
       "</tr>\n",
       "<tr>\n",
       "  <th>MONTH</th>          <td>    1.4371</td> <td>    0.448</td> <td>    3.206</td> <td> 0.001</td> <td>    0.557</td> <td>    2.317</td>\n",
       "</tr>\n",
       "<tr>\n",
       "  <th>DAY_OF_WEEK</th>    <td>   -0.7032</td> <td>    0.175</td> <td>   -4.015</td> <td> 0.000</td> <td>   -1.047</td> <td>   -0.359</td>\n",
       "</tr>\n",
       "<tr>\n",
       "  <th>CRS_DEP_TIME</th>   <td>   -3.4947</td> <td>    1.078</td> <td>   -3.241</td> <td> 0.001</td> <td>   -5.611</td> <td>   -1.378</td>\n",
       "</tr>\n",
       "<tr>\n",
       "  <th>DEP_DELAY</th>      <td>    0.7011</td> <td>    0.013</td> <td>   52.720</td> <td> 0.000</td> <td>    0.675</td> <td>    0.727</td>\n",
       "</tr>\n",
       "<tr>\n",
       "  <th>TAXI_OUT</th>       <td>    0.3725</td> <td>    0.036</td> <td>   10.271</td> <td> 0.000</td> <td>    0.301</td> <td>    0.444</td>\n",
       "</tr>\n",
       "<tr>\n",
       "  <th>TAXI_IN</th>        <td>    0.4157</td> <td>    0.046</td> <td>    9.085</td> <td> 0.000</td> <td>    0.326</td> <td>    0.505</td>\n",
       "</tr>\n",
       "<tr>\n",
       "  <th>CRS_ARR_TIME</th>   <td>   -3.5598</td> <td>    1.078</td> <td>   -3.302</td> <td> 0.001</td> <td>   -5.676</td> <td>   -1.443</td>\n",
       "</tr>\n",
       "<tr>\n",
       "  <th>CARRIER_DELAY</th>  <td>   -0.7574</td> <td>    0.023</td> <td>  -33.084</td> <td> 0.000</td> <td>   -0.802</td> <td>   -0.712</td>\n",
       "</tr>\n",
       "<tr>\n",
       "  <th>WEATHER_DELAY</th>  <td>   -0.7031</td> <td>    0.063</td> <td>  -11.110</td> <td> 0.000</td> <td>   -0.827</td> <td>   -0.579</td>\n",
       "</tr>\n",
       "<tr>\n",
       "  <th>NAS_DELAY</th>      <td>   -0.4313</td> <td>    0.023</td> <td>  -18.560</td> <td> 0.000</td> <td>   -0.477</td> <td>   -0.386</td>\n",
       "</tr>\n",
       "<tr>\n",
       "  <th>SECURITY_DELAY</th> <td>   -0.5001</td> <td>    0.184</td> <td>   -2.712</td> <td> 0.007</td> <td>   -0.862</td> <td>   -0.138</td>\n",
       "</tr>\n",
       "</table>\n",
       "<table class=\"simpletable\">\n",
       "<tr>\n",
       "  <th>Omnibus:</th>       <td>159.550</td> <th>  Durbin-Watson:     </th> <td>   1.932</td>\n",
       "</tr>\n",
       "<tr>\n",
       "  <th>Prob(Omnibus):</th> <td> 0.000</td>  <th>  Jarque-Bera (JB):  </th> <td>2597.022</td>\n",
       "</tr>\n",
       "<tr>\n",
       "  <th>Skew:</th>          <td>-0.424</td>  <th>  Prob(JB):          </th> <td>    0.00</td>\n",
       "</tr>\n",
       "<tr>\n",
       "  <th>Kurtosis:</th>      <td>11.934</td>  <th>  Cond. No.          </th> <td>    205.</td>\n",
       "</tr>\n",
       "</table>"
      ],
      "text/plain": [
       "<class 'statsmodels.iolib.summary.Summary'>\n",
       "\"\"\"\n",
       "                             OLS Regression Results                            \n",
       "===============================================================================\n",
       "Dep. Variable:     LATE_AIRCRAFT_DELAY   R-squared:                       0.818\n",
       "Model:                             OLS   Adj. R-squared:                  0.815\n",
       "Method:                  Least Squares   F-statistic:                     284.7\n",
       "Date:                 Mon, 09 Apr 2018   Prob (F-statistic):          6.88e-272\n",
       "Time:                         03:24:38   Log-Likelihood:                -2904.3\n",
       "No. Observations:                  774   AIC:                             5833.\n",
       "Df Residuals:                      762   BIC:                             5888.\n",
       "Df Model:                           12                                         \n",
       "Covariance Type:             nonrobust                                         \n",
       "==================================================================================\n",
       "                     coef    std err          t      P>|t|      [0.025      0.975]\n",
       "----------------------------------------------------------------------------------\n",
       "QUARTER           -5.1988      1.331     -3.906      0.000      -7.811      -2.586\n",
       "MONTH              1.4371      0.448      3.206      0.001       0.557       2.317\n",
       "DAY_OF_WEEK       -0.7032      0.175     -4.015      0.000      -1.047      -0.359\n",
       "CRS_DEP_TIME      -3.4947      1.078     -3.241      0.001      -5.611      -1.378\n",
       "DEP_DELAY          0.7011      0.013     52.720      0.000       0.675       0.727\n",
       "TAXI_OUT           0.3725      0.036     10.271      0.000       0.301       0.444\n",
       "TAXI_IN            0.4157      0.046      9.085      0.000       0.326       0.505\n",
       "CRS_ARR_TIME      -3.5598      1.078     -3.302      0.001      -5.676      -1.443\n",
       "CARRIER_DELAY     -0.7574      0.023    -33.084      0.000      -0.802      -0.712\n",
       "WEATHER_DELAY     -0.7031      0.063    -11.110      0.000      -0.827      -0.579\n",
       "NAS_DELAY         -0.4313      0.023    -18.560      0.000      -0.477      -0.386\n",
       "SECURITY_DELAY    -0.5001      0.184     -2.712      0.007      -0.862      -0.138\n",
       "==============================================================================\n",
       "Omnibus:                      159.550   Durbin-Watson:                   1.932\n",
       "Prob(Omnibus):                  0.000   Jarque-Bera (JB):             2597.022\n",
       "Skew:                          -0.424   Prob(JB):                         0.00\n",
       "Kurtosis:                      11.934   Cond. No.                         205.\n",
       "==============================================================================\n",
       "\n",
       "Warnings:\n",
       "[1] Standard Errors assume that the covariance matrix of the errors is correctly specified.\n",
       "\"\"\""
      ]
     },
     "execution_count": 15,
     "metadata": {},
     "output_type": "execute_result"
    }
   ],
   "source": [
    "late_aircraft_from = ['QUARTER', 'MONTH', 'DAY_OF_WEEK', 'CRS_DEP_TIME', 'DEP_DELAY', 'TAXI_OUT', 'TAXI_IN', 'CRS_ARR_TIME', 'CARRIER_DELAY', 'WEATHER_DELAY', 'NAS_DELAY', 'SECURITY_DELAY'] \n",
    "regression_model(late_aircraft_from, 'LATE_AIRCRAFT_DELAY').summary()"
   ]
  },
  {
   "cell_type": "code",
   "execution_count": 16,
   "metadata": {},
   "outputs": [
    {
     "name": "stdout",
     "output_type": "stream",
     "text": [
      "[('NAS_DELAY', 'LATE_AIRCRAFT_DELAY'), ('LATE_AIRCRAFT_DELAY', 'NAS_DELAY')]\n"
     ]
    }
   ],
   "source": [
    "flight_edges_df, bn = update_flights_edges_df(late_aircraft_from, 'LATE_AIRCRAFT_DELAY',flight_edges_df)"
   ]
  },
  {
   "cell_type": "markdown",
   "metadata": {},
   "source": [
    "Since __NAS_DELAY__ and __LATE_AIRCRAFT_DELAY__ have edges pointing to each other, we must decide which edge we are going to get rid of. The FAA (http://aspmhelp.faa.gov/index.php/Types_of_Delay) defines __NAS_DELAY__ as delay that is \"within the control of the National Airspace System (NAS),\" including \"non-extreme weather conditions, airport operations, heavy traffic volume, air traffic control, etc.\" It goes on to state that delays at the destination airport that occur after Actual Gate Out time are attributed to the NAS (such as gate in delay and taxi in delay). On the other hand, FAA defines __LATE_AIRCRAFT_DELAY__ as arrival delay due to the ripple effect of an earlier delay at downstream airports is referred to as delay propagation. That is, the two seem to have no direct relationship with one another at all. Therefore, we remove both edges."
   ]
  },
  {
   "cell_type": "code",
   "execution_count": 17,
   "metadata": {},
   "outputs": [
    {
     "name": "stdout",
     "output_type": "stream",
     "text": [
      "No cycle found! You may proceed.\n",
      "No cycle found! You may proceed.\n"
     ]
    }
   ],
   "source": [
    "# remove both edges\n",
    "flight_edges_df, _ = remove_edge('NAS_DELAY','LATE_AIRCRAFT_DELAY', flight_edges_df)\n",
    "flight_edges_df, bn = remove_edge('LATE_AIRCRAFT_DELAY','NAS_DELAY', flight_edges_df)"
   ]
  },
  {
   "cell_type": "markdown",
   "metadata": {},
   "source": [
    "### Carrier Delay"
   ]
  },
  {
   "cell_type": "code",
   "execution_count": 18,
   "metadata": {},
   "outputs": [
    {
     "data": {
      "text/html": [
       "<table class=\"simpletable\">\n",
       "<caption>OLS Regression Results</caption>\n",
       "<tr>\n",
       "  <th>Dep. Variable:</th>      <td>CARRIER_DELAY</td>  <th>  R-squared:         </th> <td>   0.769</td> \n",
       "</tr>\n",
       "<tr>\n",
       "  <th>Model:</th>                   <td>OLS</td>       <th>  Adj. R-squared:    </th> <td>   0.766</td> \n",
       "</tr>\n",
       "<tr>\n",
       "  <th>Method:</th>             <td>Least Squares</td>  <th>  F-statistic:       </th> <td>   211.7</td> \n",
       "</tr>\n",
       "<tr>\n",
       "  <th>Date:</th>             <td>Mon, 09 Apr 2018</td> <th>  Prob (F-statistic):</th> <td>4.01e-233</td>\n",
       "</tr>\n",
       "<tr>\n",
       "  <th>Time:</th>                 <td>03:24:38</td>     <th>  Log-Likelihood:    </th> <td> -2914.9</td> \n",
       "</tr>\n",
       "<tr>\n",
       "  <th>No. Observations:</th>      <td>   774</td>      <th>  AIC:               </th> <td>   5854.</td> \n",
       "</tr>\n",
       "<tr>\n",
       "  <th>Df Residuals:</th>          <td>   762</td>      <th>  BIC:               </th> <td>   5910.</td> \n",
       "</tr>\n",
       "<tr>\n",
       "  <th>Df Model:</th>              <td>    12</td>      <th>                     </th>     <td> </td>    \n",
       "</tr>\n",
       "<tr>\n",
       "  <th>Covariance Type:</th>      <td>nonrobust</td>    <th>                     </th>     <td> </td>    \n",
       "</tr>\n",
       "</table>\n",
       "<table class=\"simpletable\">\n",
       "<tr>\n",
       "           <td></td>              <th>coef</th>     <th>std err</th>      <th>t</th>      <th>P>|t|</th>  <th>[0.025</th>    <th>0.975]</th>  \n",
       "</tr>\n",
       "<tr>\n",
       "  <th>QUARTER</th>             <td>   -4.5085</td> <td>    1.353</td> <td>   -3.333</td> <td> 0.001</td> <td>   -7.164</td> <td>   -1.853</td>\n",
       "</tr>\n",
       "<tr>\n",
       "  <th>MONTH</th>               <td>    1.2959</td> <td>    0.455</td> <td>    2.848</td> <td> 0.005</td> <td>    0.403</td> <td>    2.189</td>\n",
       "</tr>\n",
       "<tr>\n",
       "  <th>DAY_OF_WEEK</th>         <td>   -0.4542</td> <td>    0.179</td> <td>   -2.542</td> <td> 0.011</td> <td>   -0.805</td> <td>   -0.103</td>\n",
       "</tr>\n",
       "<tr>\n",
       "  <th>CRS_DEP_TIME</th>        <td>   -5.2519</td> <td>    1.084</td> <td>   -4.844</td> <td> 0.000</td> <td>   -7.380</td> <td>   -3.124</td>\n",
       "</tr>\n",
       "<tr>\n",
       "  <th>DEP_DELAY</th>           <td>    0.6918</td> <td>    0.015</td> <td>   47.003</td> <td> 0.000</td> <td>    0.663</td> <td>    0.721</td>\n",
       "</tr>\n",
       "<tr>\n",
       "  <th>TAXI_OUT</th>            <td>    0.3693</td> <td>    0.037</td> <td>   10.014</td> <td> 0.000</td> <td>    0.297</td> <td>    0.442</td>\n",
       "</tr>\n",
       "<tr>\n",
       "  <th>TAXI_IN</th>             <td>    0.4054</td> <td>    0.047</td> <td>    8.705</td> <td> 0.000</td> <td>    0.314</td> <td>    0.497</td>\n",
       "</tr>\n",
       "<tr>\n",
       "  <th>CRS_ARR_TIME</th>        <td>   -5.0786</td> <td>    1.085</td> <td>   -4.679</td> <td> 0.000</td> <td>   -7.209</td> <td>   -2.948</td>\n",
       "</tr>\n",
       "<tr>\n",
       "  <th>WEATHER_DELAY</th>       <td>   -0.6913</td> <td>    0.064</td> <td>  -10.724</td> <td> 0.000</td> <td>   -0.818</td> <td>   -0.565</td>\n",
       "</tr>\n",
       "<tr>\n",
       "  <th>NAS_DELAY</th>           <td>   -0.4354</td> <td>    0.024</td> <td>  -18.446</td> <td> 0.000</td> <td>   -0.482</td> <td>   -0.389</td>\n",
       "</tr>\n",
       "<tr>\n",
       "  <th>SECURITY_DELAY</th>      <td>   -0.6566</td> <td>    0.186</td> <td>   -3.523</td> <td> 0.000</td> <td>   -1.022</td> <td>   -0.291</td>\n",
       "</tr>\n",
       "<tr>\n",
       "  <th>LATE_AIRCRAFT_DELAY</th> <td>   -0.7785</td> <td>    0.024</td> <td>  -33.084</td> <td> 0.000</td> <td>   -0.825</td> <td>   -0.732</td>\n",
       "</tr>\n",
       "</table>\n",
       "<table class=\"simpletable\">\n",
       "<tr>\n",
       "  <th>Omnibus:</th>       <td>135.420</td> <th>  Durbin-Watson:     </th> <td>   1.966</td>\n",
       "</tr>\n",
       "<tr>\n",
       "  <th>Prob(Omnibus):</th> <td> 0.000</td>  <th>  Jarque-Bera (JB):  </th> <td>2147.156</td>\n",
       "</tr>\n",
       "<tr>\n",
       "  <th>Skew:</th>          <td>-0.201</td>  <th>  Prob(JB):          </th> <td>    0.00</td>\n",
       "</tr>\n",
       "<tr>\n",
       "  <th>Kurtosis:</th>      <td>11.150</td>  <th>  Cond. No.          </th> <td>    210.</td>\n",
       "</tr>\n",
       "</table>"
      ],
      "text/plain": [
       "<class 'statsmodels.iolib.summary.Summary'>\n",
       "\"\"\"\n",
       "                            OLS Regression Results                            \n",
       "==============================================================================\n",
       "Dep. Variable:          CARRIER_DELAY   R-squared:                       0.769\n",
       "Model:                            OLS   Adj. R-squared:                  0.766\n",
       "Method:                 Least Squares   F-statistic:                     211.7\n",
       "Date:                Mon, 09 Apr 2018   Prob (F-statistic):          4.01e-233\n",
       "Time:                        03:24:38   Log-Likelihood:                -2914.9\n",
       "No. Observations:                 774   AIC:                             5854.\n",
       "Df Residuals:                     762   BIC:                             5910.\n",
       "Df Model:                          12                                         \n",
       "Covariance Type:            nonrobust                                         \n",
       "=======================================================================================\n",
       "                          coef    std err          t      P>|t|      [0.025      0.975]\n",
       "---------------------------------------------------------------------------------------\n",
       "QUARTER                -4.5085      1.353     -3.333      0.001      -7.164      -1.853\n",
       "MONTH                   1.2959      0.455      2.848      0.005       0.403       2.189\n",
       "DAY_OF_WEEK            -0.4542      0.179     -2.542      0.011      -0.805      -0.103\n",
       "CRS_DEP_TIME           -5.2519      1.084     -4.844      0.000      -7.380      -3.124\n",
       "DEP_DELAY               0.6918      0.015     47.003      0.000       0.663       0.721\n",
       "TAXI_OUT                0.3693      0.037     10.014      0.000       0.297       0.442\n",
       "TAXI_IN                 0.4054      0.047      8.705      0.000       0.314       0.497\n",
       "CRS_ARR_TIME           -5.0786      1.085     -4.679      0.000      -7.209      -2.948\n",
       "WEATHER_DELAY          -0.6913      0.064    -10.724      0.000      -0.818      -0.565\n",
       "NAS_DELAY              -0.4354      0.024    -18.446      0.000      -0.482      -0.389\n",
       "SECURITY_DELAY         -0.6566      0.186     -3.523      0.000      -1.022      -0.291\n",
       "LATE_AIRCRAFT_DELAY    -0.7785      0.024    -33.084      0.000      -0.825      -0.732\n",
       "==============================================================================\n",
       "Omnibus:                      135.420   Durbin-Watson:                   1.966\n",
       "Prob(Omnibus):                  0.000   Jarque-Bera (JB):             2147.156\n",
       "Skew:                          -0.201   Prob(JB):                         0.00\n",
       "Kurtosis:                      11.150   Cond. No.                         210.\n",
       "==============================================================================\n",
       "\n",
       "Warnings:\n",
       "[1] Standard Errors assume that the covariance matrix of the errors is correctly specified.\n",
       "\"\"\""
      ]
     },
     "execution_count": 18,
     "metadata": {},
     "output_type": "execute_result"
    }
   ],
   "source": [
    "carrier_delay_from = ['QUARTER', 'MONTH', 'DAY_OF_WEEK', 'CRS_DEP_TIME', 'DEP_DELAY', 'TAXI_OUT', 'TAXI_IN', 'CRS_ARR_TIME', 'WEATHER_DELAY', 'NAS_DELAY', 'SECURITY_DELAY', 'LATE_AIRCRAFT_DELAY',] \n",
    "regression_model(carrier_delay_from, 'CARRIER_DELAY').summary()"
   ]
  },
  {
   "cell_type": "code",
   "execution_count": 19,
   "metadata": {},
   "outputs": [
    {
     "name": "stdout",
     "output_type": "stream",
     "text": [
      "[('NAS_DELAY', 'CARRIER_DELAY'), ('CARRIER_DELAY', 'NAS_DELAY')]\n"
     ]
    }
   ],
   "source": [
    "flight_edges_df, bn = update_flights_edges_df(carrier_delay_from, 'CARRIER_DELAY',flight_edges_df)"
   ]
  },
  {
   "cell_type": "markdown",
   "metadata": {},
   "source": [
    "__CARRIER_DELAY__ is within the control of the air carrier, such as: aircraft cleaning, aircraft damage, awaiting the arrival of connecting passengers or crew, baggage, bird strike, cargo loading, catering, computer, outage-carrier equipment, crew legality (pilot or attendant rest), damage by hazardous goods, engineering inspection, fueling, handling disabled passengers, late crew, lavatory servicing, maintenance, oversales, potable water servicing, removal of unruly passenger, slow boarding or seating, stowing carry-on baggage, weight and balance delays. This seems to have little to do with __NAS_DELAY__ and vice versa. Thus, we remove both edges"
   ]
  },
  {
   "cell_type": "code",
   "execution_count": 20,
   "metadata": {},
   "outputs": [
    {
     "name": "stdout",
     "output_type": "stream",
     "text": [
      "[('CARRIER_DELAY', 'LATE_AIRCRAFT_DELAY'), ('LATE_AIRCRAFT_DELAY', 'CARRIER_DELAY')]\n",
      "[('LATE_AIRCRAFT_DELAY', 'CARRIER_DELAY'), ('CARRIER_DELAY', 'LATE_AIRCRAFT_DELAY')]\n"
     ]
    }
   ],
   "source": [
    "# remove both edges\n",
    "flight_edges_df, _ = remove_edge('CARRIER_DELAY','NAS_DELAY', flight_edges_df)\n",
    "flight_edges_df, bn = remove_edge('NAS_DELAY','CARRIER_DELAY', flight_edges_df)"
   ]
  },
  {
   "cell_type": "markdown",
   "metadata": {},
   "source": [
    "Recall that FAA defines __LATE_AIRCRAFT_DELAY__ as arrival delay due to the ripple effect of an earlier delay at downstream airports is referred to as delay propagation. It would seem probable that a late prior aircraft could cause carrier delay but not the other way around. Thus, we only remove the edge from CARRIER_DELAY to LATE_AIRCRAFT_DELAY."
   ]
  },
  {
   "cell_type": "code",
   "execution_count": 21,
   "metadata": {},
   "outputs": [
    {
     "name": "stdout",
     "output_type": "stream",
     "text": [
      "No cycle found! You may proceed.\n"
     ]
    }
   ],
   "source": [
    "flight_edges_df, bn = remove_edge('CARRIER_DELAY','LATE_AIRCRAFT_DELAY', flight_edges_df)"
   ]
  },
  {
   "cell_type": "markdown",
   "metadata": {},
   "source": [
    "### WEATHER_DELAY"
   ]
  },
  {
   "cell_type": "code",
   "execution_count": 22,
   "metadata": {},
   "outputs": [
    {
     "data": {
      "text/html": [
       "<table class=\"simpletable\">\n",
       "<caption>OLS Regression Results</caption>\n",
       "<tr>\n",
       "  <th>Dep. Variable:</th>      <td>WEATHER_DELAY</td>  <th>  R-squared:         </th> <td>   0.217</td>\n",
       "</tr>\n",
       "<tr>\n",
       "  <th>Model:</th>                   <td>OLS</td>       <th>  Adj. R-squared:    </th> <td>   0.203</td>\n",
       "</tr>\n",
       "<tr>\n",
       "  <th>Method:</th>             <td>Least Squares</td>  <th>  F-statistic:       </th> <td>   16.18</td>\n",
       "</tr>\n",
       "<tr>\n",
       "  <th>Date:</th>             <td>Mon, 09 Apr 2018</td> <th>  Prob (F-statistic):</th> <td>6.22e-33</td>\n",
       "</tr>\n",
       "<tr>\n",
       "  <th>Time:</th>                 <td>03:24:38</td>     <th>  Log-Likelihood:    </th> <td> -2396.3</td>\n",
       "</tr>\n",
       "<tr>\n",
       "  <th>No. Observations:</th>      <td>   774</td>      <th>  AIC:               </th> <td>   4819.</td>\n",
       "</tr>\n",
       "<tr>\n",
       "  <th>Df Residuals:</th>          <td>   761</td>      <th>  BIC:               </th> <td>   4879.</td>\n",
       "</tr>\n",
       "<tr>\n",
       "  <th>Df Model:</th>              <td>    13</td>      <th>                     </th>     <td> </td>   \n",
       "</tr>\n",
       "<tr>\n",
       "  <th>Covariance Type:</th>      <td>nonrobust</td>    <th>                     </th>     <td> </td>   \n",
       "</tr>\n",
       "</table>\n",
       "<table class=\"simpletable\">\n",
       "<tr>\n",
       "           <td></td>              <th>coef</th>     <th>std err</th>      <th>t</th>      <th>P>|t|</th>  <th>[0.025</th>    <th>0.975]</th>  \n",
       "</tr>\n",
       "<tr>\n",
       "  <th>QUARTER</th>             <td>   -1.8062</td> <td>    0.686</td> <td>   -2.634</td> <td> 0.009</td> <td>   -3.152</td> <td>   -0.460</td>\n",
       "</tr>\n",
       "<tr>\n",
       "  <th>MONTH</th>               <td>    0.5860</td> <td>    0.232</td> <td>    2.531</td> <td> 0.012</td> <td>    0.132</td> <td>    1.040</td>\n",
       "</tr>\n",
       "<tr>\n",
       "  <th>DAY_OF_WEEK</th>         <td>   -0.2569</td> <td>    0.089</td> <td>   -2.875</td> <td> 0.004</td> <td>   -0.432</td> <td>   -0.082</td>\n",
       "</tr>\n",
       "<tr>\n",
       "  <th>DEP_DELAY</th>           <td>    0.1589</td> <td>    0.013</td> <td>   12.140</td> <td> 0.000</td> <td>    0.133</td> <td>    0.185</td>\n",
       "</tr>\n",
       "<tr>\n",
       "  <th>TAXI_OUT</th>            <td>    0.0819</td> <td>    0.018</td> <td>    4.664</td> <td> 0.000</td> <td>    0.047</td> <td>    0.116</td>\n",
       "</tr>\n",
       "<tr>\n",
       "  <th>TAXI_IN</th>             <td>    0.0775</td> <td>    0.024</td> <td>    3.177</td> <td> 0.002</td> <td>    0.030</td> <td>    0.125</td>\n",
       "</tr>\n",
       "<tr>\n",
       "  <th>CRS_ARR_TIME</th>        <td>   -0.7757</td> <td>    0.394</td> <td>   -1.969</td> <td> 0.049</td> <td>   -1.549</td> <td>   -0.002</td>\n",
       "</tr>\n",
       "<tr>\n",
       "  <th>CARRIER_DELAY</th>       <td>   -0.1717</td> <td>    0.017</td> <td>  -10.064</td> <td> 0.000</td> <td>   -0.205</td> <td>   -0.138</td>\n",
       "</tr>\n",
       "<tr>\n",
       "  <th>NAS_DELAY</th>           <td>   -0.0927</td> <td>    0.013</td> <td>   -6.872</td> <td> 0.000</td> <td>   -0.119</td> <td>   -0.066</td>\n",
       "</tr>\n",
       "<tr>\n",
       "  <th>LATE_AIRCRAFT_DELAY</th> <td>   -0.1868</td> <td>    0.017</td> <td>  -10.747</td> <td> 0.000</td> <td>   -0.221</td> <td>   -0.153</td>\n",
       "</tr>\n",
       "<tr>\n",
       "  <th>DelayedDepartureSFO</th> <td>    2.6908</td> <td>    0.753</td> <td>    3.572</td> <td> 0.000</td> <td>    1.212</td> <td>    4.169</td>\n",
       "</tr>\n",
       "<tr>\n",
       "  <th>DelayedArrivalPHL</th>   <td>    7.2264</td> <td>    1.326</td> <td>    5.449</td> <td> 0.000</td> <td>    4.623</td> <td>    9.830</td>\n",
       "</tr>\n",
       "<tr>\n",
       "  <th>ScheduledArrivalPHL</th> <td>   -1.3020</td> <td>    0.303</td> <td>   -4.304</td> <td> 0.000</td> <td>   -1.896</td> <td>   -0.708</td>\n",
       "</tr>\n",
       "</table>\n",
       "<table class=\"simpletable\">\n",
       "<tr>\n",
       "  <th>Omnibus:</th>       <td>1727.373</td> <th>  Durbin-Watson:     </th>  <td>   2.043</td>  \n",
       "</tr>\n",
       "<tr>\n",
       "  <th>Prob(Omnibus):</th>  <td> 0.000</td>  <th>  Jarque-Bera (JB):  </th> <td>6766409.243</td>\n",
       "</tr>\n",
       "<tr>\n",
       "  <th>Skew:</th>           <td>18.700</td>  <th>  Prob(JB):          </th>  <td>    0.00</td>  \n",
       "</tr>\n",
       "<tr>\n",
       "  <th>Kurtosis:</th>       <td>459.522</td> <th>  Cond. No.          </th>  <td>    361.</td>  \n",
       "</tr>\n",
       "</table>"
      ],
      "text/plain": [
       "<class 'statsmodels.iolib.summary.Summary'>\n",
       "\"\"\"\n",
       "                            OLS Regression Results                            \n",
       "==============================================================================\n",
       "Dep. Variable:          WEATHER_DELAY   R-squared:                       0.217\n",
       "Model:                            OLS   Adj. R-squared:                  0.203\n",
       "Method:                 Least Squares   F-statistic:                     16.18\n",
       "Date:                Mon, 09 Apr 2018   Prob (F-statistic):           6.22e-33\n",
       "Time:                        03:24:38   Log-Likelihood:                -2396.3\n",
       "No. Observations:                 774   AIC:                             4819.\n",
       "Df Residuals:                     761   BIC:                             4879.\n",
       "Df Model:                          13                                         \n",
       "Covariance Type:            nonrobust                                         \n",
       "=======================================================================================\n",
       "                          coef    std err          t      P>|t|      [0.025      0.975]\n",
       "---------------------------------------------------------------------------------------\n",
       "QUARTER                -1.8062      0.686     -2.634      0.009      -3.152      -0.460\n",
       "MONTH                   0.5860      0.232      2.531      0.012       0.132       1.040\n",
       "DAY_OF_WEEK            -0.2569      0.089     -2.875      0.004      -0.432      -0.082\n",
       "DEP_DELAY               0.1589      0.013     12.140      0.000       0.133       0.185\n",
       "TAXI_OUT                0.0819      0.018      4.664      0.000       0.047       0.116\n",
       "TAXI_IN                 0.0775      0.024      3.177      0.002       0.030       0.125\n",
       "CRS_ARR_TIME           -0.7757      0.394     -1.969      0.049      -1.549      -0.002\n",
       "CARRIER_DELAY          -0.1717      0.017    -10.064      0.000      -0.205      -0.138\n",
       "NAS_DELAY              -0.0927      0.013     -6.872      0.000      -0.119      -0.066\n",
       "LATE_AIRCRAFT_DELAY    -0.1868      0.017    -10.747      0.000      -0.221      -0.153\n",
       "DelayedDepartureSFO     2.6908      0.753      3.572      0.000       1.212       4.169\n",
       "DelayedArrivalPHL       7.2264      1.326      5.449      0.000       4.623       9.830\n",
       "ScheduledArrivalPHL    -1.3020      0.303     -4.304      0.000      -1.896      -0.708\n",
       "==============================================================================\n",
       "Omnibus:                     1727.373   Durbin-Watson:                   2.043\n",
       "Prob(Omnibus):                  0.000   Jarque-Bera (JB):          6766409.243\n",
       "Skew:                          18.700   Prob(JB):                         0.00\n",
       "Kurtosis:                     459.522   Cond. No.                         361.\n",
       "==============================================================================\n",
       "\n",
       "Warnings:\n",
       "[1] Standard Errors assume that the covariance matrix of the errors is correctly specified.\n",
       "\"\"\""
      ]
     },
     "execution_count": 22,
     "metadata": {},
     "output_type": "execute_result"
    }
   ],
   "source": [
    "weather_delay_from = ['QUARTER', 'MONTH', 'DAY_OF_WEEK', 'DEP_DELAY', 'TAXI_OUT', 'TAXI_IN', 'CRS_ARR_TIME', 'CARRIER_DELAY', 'NAS_DELAY', 'LATE_AIRCRAFT_DELAY', 'DelayedDepartureSFO', 'DelayedArrivalPHL', 'ScheduledArrivalPHL'] \n",
    "regression_model(weather_delay_from, 'WEATHER_DELAY').summary()"
   ]
  },
  {
   "cell_type": "markdown",
   "metadata": {},
   "source": [
    "Though not ideal in p-value, CRS_DEP_TIME seems like the only likely variable which WEATHER_DELAY may be dependent on."
   ]
  },
  {
   "cell_type": "code",
   "execution_count": 23,
   "metadata": {},
   "outputs": [
    {
     "name": "stdout",
     "output_type": "stream",
     "text": [
      "[('NAS_DELAY', 'WEATHER_DELAY'), ('WEATHER_DELAY', 'NAS_DELAY')]\n"
     ]
    }
   ],
   "source": [
    "flight_edges_df, bn = update_flights_edges_df(weather_delay_from, 'WEATHER_DELAY',flight_edges_df)"
   ]
  },
  {
   "cell_type": "code",
   "execution_count": 24,
   "metadata": {},
   "outputs": [
    {
     "name": "stdout",
     "output_type": "stream",
     "text": [
      "[('LATE_AIRCRAFT_DELAY', 'CARRIER_DELAY'), ('CARRIER_DELAY', 'WEATHER_DELAY'), ('WEATHER_DELAY', 'LATE_AIRCRAFT_DELAY')]\n"
     ]
    }
   ],
   "source": [
    "flight_edges_df, bn = remove_edge('NAS_DELAY','WEATHER_DELAY', flight_edges_df)"
   ]
  },
  {
   "cell_type": "code",
   "execution_count": 25,
   "metadata": {},
   "outputs": [
    {
     "name": "stdout",
     "output_type": "stream",
     "text": [
      "[('LATE_AIRCRAFT_DELAY', 'WEATHER_DELAY'), ('WEATHER_DELAY', 'LATE_AIRCRAFT_DELAY')]\n"
     ]
    }
   ],
   "source": [
    "flight_edges_df, bn = remove_edge('CARRIER_DELAY','WEATHER_DELAY', flight_edges_df)"
   ]
  },
  {
   "cell_type": "code",
   "execution_count": 26,
   "metadata": {},
   "outputs": [
    {
     "name": "stdout",
     "output_type": "stream",
     "text": [
      "No cycle found! You may proceed.\n"
     ]
    }
   ],
   "source": [
    "flight_edges_df, bn = remove_edge('LATE_AIRCRAFT_DELAY','WEATHER_DELAY', flight_edges_df)"
   ]
  },
  {
   "cell_type": "markdown",
   "metadata": {},
   "source": [
    "### Security Delay"
   ]
  },
  {
   "cell_type": "code",
   "execution_count": 27,
   "metadata": {},
   "outputs": [
    {
     "data": {
      "text/html": [
       "<table class=\"simpletable\">\n",
       "<caption>OLS Regression Results</caption>\n",
       "<tr>\n",
       "  <th>Dep. Variable:</th>     <td>SECURITY_DELAY</td>  <th>  R-squared:         </th> <td>   0.012</td>\n",
       "</tr>\n",
       "<tr>\n",
       "  <th>Model:</th>                   <td>OLS</td>       <th>  Adj. R-squared:    </th> <td>   0.009</td>\n",
       "</tr>\n",
       "<tr>\n",
       "  <th>Method:</th>             <td>Least Squares</td>  <th>  F-statistic:       </th> <td>   4.552</td>\n",
       "</tr>\n",
       "<tr>\n",
       "  <th>Date:</th>             <td>Mon, 09 Apr 2018</td> <th>  Prob (F-statistic):</th>  <td>0.0108</td> \n",
       "</tr>\n",
       "<tr>\n",
       "  <th>Time:</th>                 <td>03:24:38</td>     <th>  Log-Likelihood:    </th> <td> -1648.9</td>\n",
       "</tr>\n",
       "<tr>\n",
       "  <th>No. Observations:</th>      <td>   774</td>      <th>  AIC:               </th> <td>   3302.</td>\n",
       "</tr>\n",
       "<tr>\n",
       "  <th>Df Residuals:</th>          <td>   772</td>      <th>  BIC:               </th> <td>   3311.</td>\n",
       "</tr>\n",
       "<tr>\n",
       "  <th>Df Model:</th>              <td>     2</td>      <th>                     </th>     <td> </td>   \n",
       "</tr>\n",
       "<tr>\n",
       "  <th>Covariance Type:</th>      <td>nonrobust</td>    <th>                     </th>     <td> </td>   \n",
       "</tr>\n",
       "</table>\n",
       "<table class=\"simpletable\">\n",
       "<tr>\n",
       "        <td></td>           <th>coef</th>     <th>std err</th>      <th>t</th>      <th>P>|t|</th>  <th>[0.025</th>    <th>0.975]</th>  \n",
       "</tr>\n",
       "<tr>\n",
       "  <th>DEP_DELAY</th>     <td>    0.0065</td> <td>    0.002</td> <td>    3.017</td> <td> 0.003</td> <td>    0.002</td> <td>    0.011</td>\n",
       "</tr>\n",
       "<tr>\n",
       "  <th>CARRIER_DELAY</th> <td>   -0.0081</td> <td>    0.004</td> <td>   -1.877</td> <td> 0.061</td> <td>   -0.017</td> <td>    0.000</td>\n",
       "</tr>\n",
       "</table>\n",
       "<table class=\"simpletable\">\n",
       "<tr>\n",
       "  <th>Omnibus:</th>       <td>2022.804</td> <th>  Durbin-Watson:     </th>   <td>   2.005</td>  \n",
       "</tr>\n",
       "<tr>\n",
       "  <th>Prob(Omnibus):</th>  <td> 0.000</td>  <th>  Jarque-Bera (JB):  </th> <td>18387412.988</td>\n",
       "</tr>\n",
       "<tr>\n",
       "  <th>Skew:</th>           <td>27.332</td>  <th>  Prob(JB):          </th>   <td>    0.00</td>  \n",
       "</tr>\n",
       "<tr>\n",
       "  <th>Kurtosis:</th>       <td>756.103</td> <th>  Cond. No.          </th>   <td>    2.85</td>  \n",
       "</tr>\n",
       "</table>"
      ],
      "text/plain": [
       "<class 'statsmodels.iolib.summary.Summary'>\n",
       "\"\"\"\n",
       "                            OLS Regression Results                            \n",
       "==============================================================================\n",
       "Dep. Variable:         SECURITY_DELAY   R-squared:                       0.012\n",
       "Model:                            OLS   Adj. R-squared:                  0.009\n",
       "Method:                 Least Squares   F-statistic:                     4.552\n",
       "Date:                Mon, 09 Apr 2018   Prob (F-statistic):             0.0108\n",
       "Time:                        03:24:38   Log-Likelihood:                -1648.9\n",
       "No. Observations:                 774   AIC:                             3302.\n",
       "Df Residuals:                     772   BIC:                             3311.\n",
       "Df Model:                           2                                         \n",
       "Covariance Type:            nonrobust                                         \n",
       "=================================================================================\n",
       "                    coef    std err          t      P>|t|      [0.025      0.975]\n",
       "---------------------------------------------------------------------------------\n",
       "DEP_DELAY         0.0065      0.002      3.017      0.003       0.002       0.011\n",
       "CARRIER_DELAY    -0.0081      0.004     -1.877      0.061      -0.017       0.000\n",
       "==============================================================================\n",
       "Omnibus:                     2022.804   Durbin-Watson:                   2.005\n",
       "Prob(Omnibus):                  0.000   Jarque-Bera (JB):         18387412.988\n",
       "Skew:                          27.332   Prob(JB):                         0.00\n",
       "Kurtosis:                     756.103   Cond. No.                         2.85\n",
       "==============================================================================\n",
       "\n",
       "Warnings:\n",
       "[1] Standard Errors assume that the covariance matrix of the errors is correctly specified.\n",
       "\"\"\""
      ]
     },
     "execution_count": 27,
     "metadata": {},
     "output_type": "execute_result"
    }
   ],
   "source": [
    "security_delay_from = ['DEP_DELAY', 'CARRIER_DELAY'] \n",
    "regression_model(security_delay_from, 'SECURITY_DELAY').summary()"
   ]
  },
  {
   "cell_type": "code",
   "execution_count": 28,
   "metadata": {},
   "outputs": [
    {
     "name": "stdout",
     "output_type": "stream",
     "text": [
      "[('LATE_AIRCRAFT_DELAY', 'CARRIER_DELAY'), ('CARRIER_DELAY', 'SECURITY_DELAY'), ('SECURITY_DELAY', 'LATE_AIRCRAFT_DELAY')]\n"
     ]
    }
   ],
   "source": [
    "flight_edges_df, bn = update_flights_edges_df(security_delay_from, 'SECURITY_DELAY',flight_edges_df)"
   ]
  },
  {
   "cell_type": "code",
   "execution_count": 29,
   "metadata": {},
   "outputs": [
    {
     "name": "stdout",
     "output_type": "stream",
     "text": [
      "[('CARRIER_DELAY', 'SECURITY_DELAY'), ('SECURITY_DELAY', 'CARRIER_DELAY')]\n"
     ]
    }
   ],
   "source": [
    "flight_edges_df, bn = remove_edge('SECURITY_DELAY', 'LATE_AIRCRAFT_DELAY',flight_edges_df)"
   ]
  },
  {
   "cell_type": "code",
   "execution_count": 30,
   "metadata": {},
   "outputs": [
    {
     "name": "stdout",
     "output_type": "stream",
     "text": [
      "No cycle found! You may proceed.\n"
     ]
    }
   ],
   "source": [
    "flight_edges_df, bn = remove_edge('CARRIER_DELAY', 'SECURITY_DELAY', flight_edges_df)"
   ]
  },
  {
   "cell_type": "markdown",
   "metadata": {},
   "source": [
    "### CRS Arrival Time"
   ]
  },
  {
   "cell_type": "code",
   "execution_count": 31,
   "metadata": {},
   "outputs": [
    {
     "data": {
      "text/html": [
       "<table class=\"simpletable\">\n",
       "<caption>OLS Regression Results</caption>\n",
       "<tr>\n",
       "  <th>Dep. Variable:</th>      <td>CRS_ARR_TIME</td>   <th>  R-squared:         </th> <td>   0.811</td> \n",
       "</tr>\n",
       "<tr>\n",
       "  <th>Model:</th>                   <td>OLS</td>       <th>  Adj. R-squared:    </th> <td>   0.809</td> \n",
       "</tr>\n",
       "<tr>\n",
       "  <th>Method:</th>             <td>Least Squares</td>  <th>  F-statistic:       </th> <td>   298.2</td> \n",
       "</tr>\n",
       "<tr>\n",
       "  <th>Date:</th>             <td>Mon, 09 Apr 2018</td> <th>  Prob (F-statistic):</th> <td>1.65e-267</td>\n",
       "</tr>\n",
       "<tr>\n",
       "  <th>Time:</th>                 <td>03:24:38</td>     <th>  Log-Likelihood:    </th> <td> -272.82</td> \n",
       "</tr>\n",
       "<tr>\n",
       "  <th>No. Observations:</th>      <td>   774</td>      <th>  AIC:               </th> <td>   567.6</td> \n",
       "</tr>\n",
       "<tr>\n",
       "  <th>Df Residuals:</th>          <td>   763</td>      <th>  BIC:               </th> <td>   618.8</td> \n",
       "</tr>\n",
       "<tr>\n",
       "  <th>Df Model:</th>              <td>    11</td>      <th>                     </th>     <td> </td>    \n",
       "</tr>\n",
       "<tr>\n",
       "  <th>Covariance Type:</th>      <td>nonrobust</td>    <th>                     </th>     <td> </td>    \n",
       "</tr>\n",
       "</table>\n",
       "<table class=\"simpletable\">\n",
       "<tr>\n",
       "           <td></td>              <th>coef</th>     <th>std err</th>      <th>t</th>      <th>P>|t|</th>  <th>[0.025</th>    <th>0.975]</th>  \n",
       "</tr>\n",
       "<tr>\n",
       "  <th>QUARTER</th>             <td>    0.2676</td> <td>    0.044</td> <td>    6.115</td> <td> 0.000</td> <td>    0.182</td> <td>    0.353</td>\n",
       "</tr>\n",
       "<tr>\n",
       "  <th>MONTH</th>               <td>   -0.0710</td> <td>    0.015</td> <td>   -4.792</td> <td> 0.000</td> <td>   -0.100</td> <td>   -0.042</td>\n",
       "</tr>\n",
       "<tr>\n",
       "  <th>DAY_OF_WEEK</th>         <td>    0.0363</td> <td>    0.006</td> <td>    6.327</td> <td> 0.000</td> <td>    0.025</td> <td>    0.048</td>\n",
       "</tr>\n",
       "<tr>\n",
       "  <th>CRS_DEP_TIME</th>        <td>   -0.7131</td> <td>    0.025</td> <td>  -28.173</td> <td> 0.000</td> <td>   -0.763</td> <td>   -0.663</td>\n",
       "</tr>\n",
       "<tr>\n",
       "  <th>DEP_DELAY</th>           <td>    0.0062</td> <td>    0.001</td> <td>    6.717</td> <td> 0.000</td> <td>    0.004</td> <td>    0.008</td>\n",
       "</tr>\n",
       "<tr>\n",
       "  <th>TAXI_OUT</th>            <td>    0.0165</td> <td>    0.001</td> <td>   14.490</td> <td> 0.000</td> <td>    0.014</td> <td>    0.019</td>\n",
       "</tr>\n",
       "<tr>\n",
       "  <th>TAXI_IN</th>             <td>    0.0096</td> <td>    0.002</td> <td>    6.150</td> <td> 0.000</td> <td>    0.007</td> <td>    0.013</td>\n",
       "</tr>\n",
       "<tr>\n",
       "  <th>CARRIER_DELAY</th>       <td>   -0.0054</td> <td>    0.001</td> <td>   -4.606</td> <td> 0.000</td> <td>   -0.008</td> <td>   -0.003</td>\n",
       "</tr>\n",
       "<tr>\n",
       "  <th>WEATHER_DELAY</th>       <td>   -0.0049</td> <td>    0.002</td> <td>   -2.183</td> <td> 0.029</td> <td>   -0.009</td> <td>   -0.000</td>\n",
       "</tr>\n",
       "<tr>\n",
       "  <th>NAS_DELAY</th>           <td>   -0.0059</td> <td>    0.001</td> <td>   -6.574</td> <td> 0.000</td> <td>   -0.008</td> <td>   -0.004</td>\n",
       "</tr>\n",
       "<tr>\n",
       "  <th>LATE_AIRCRAFT_DELAY</th> <td>   -0.0039</td> <td>    0.001</td> <td>   -3.233</td> <td> 0.001</td> <td>   -0.006</td> <td>   -0.002</td>\n",
       "</tr>\n",
       "</table>\n",
       "<table class=\"simpletable\">\n",
       "<tr>\n",
       "  <th>Omnibus:</th>       <td>24.891</td> <th>  Durbin-Watson:     </th> <td>   1.969</td>\n",
       "</tr>\n",
       "<tr>\n",
       "  <th>Prob(Omnibus):</th> <td> 0.000</td> <th>  Jarque-Bera (JB):  </th> <td>  46.878</td>\n",
       "</tr>\n",
       "<tr>\n",
       "  <th>Skew:</th>          <td> 0.198</td> <th>  Prob(JB):          </th> <td>6.62e-11</td>\n",
       "</tr>\n",
       "<tr>\n",
       "  <th>Kurtosis:</th>      <td> 4.139</td> <th>  Cond. No.          </th> <td>    192.</td>\n",
       "</tr>\n",
       "</table>"
      ],
      "text/plain": [
       "<class 'statsmodels.iolib.summary.Summary'>\n",
       "\"\"\"\n",
       "                            OLS Regression Results                            \n",
       "==============================================================================\n",
       "Dep. Variable:           CRS_ARR_TIME   R-squared:                       0.811\n",
       "Model:                            OLS   Adj. R-squared:                  0.809\n",
       "Method:                 Least Squares   F-statistic:                     298.2\n",
       "Date:                Mon, 09 Apr 2018   Prob (F-statistic):          1.65e-267\n",
       "Time:                        03:24:38   Log-Likelihood:                -272.82\n",
       "No. Observations:                 774   AIC:                             567.6\n",
       "Df Residuals:                     763   BIC:                             618.8\n",
       "Df Model:                          11                                         \n",
       "Covariance Type:            nonrobust                                         \n",
       "=======================================================================================\n",
       "                          coef    std err          t      P>|t|      [0.025      0.975]\n",
       "---------------------------------------------------------------------------------------\n",
       "QUARTER                 0.2676      0.044      6.115      0.000       0.182       0.353\n",
       "MONTH                  -0.0710      0.015     -4.792      0.000      -0.100      -0.042\n",
       "DAY_OF_WEEK             0.0363      0.006      6.327      0.000       0.025       0.048\n",
       "CRS_DEP_TIME           -0.7131      0.025    -28.173      0.000      -0.763      -0.663\n",
       "DEP_DELAY               0.0062      0.001      6.717      0.000       0.004       0.008\n",
       "TAXI_OUT                0.0165      0.001     14.490      0.000       0.014       0.019\n",
       "TAXI_IN                 0.0096      0.002      6.150      0.000       0.007       0.013\n",
       "CARRIER_DELAY          -0.0054      0.001     -4.606      0.000      -0.008      -0.003\n",
       "WEATHER_DELAY          -0.0049      0.002     -2.183      0.029      -0.009      -0.000\n",
       "NAS_DELAY              -0.0059      0.001     -6.574      0.000      -0.008      -0.004\n",
       "LATE_AIRCRAFT_DELAY    -0.0039      0.001     -3.233      0.001      -0.006      -0.002\n",
       "==============================================================================\n",
       "Omnibus:                       24.891   Durbin-Watson:                   1.969\n",
       "Prob(Omnibus):                  0.000   Jarque-Bera (JB):               46.878\n",
       "Skew:                           0.198   Prob(JB):                     6.62e-11\n",
       "Kurtosis:                       4.139   Cond. No.                         192.\n",
       "==============================================================================\n",
       "\n",
       "Warnings:\n",
       "[1] Standard Errors assume that the covariance matrix of the errors is correctly specified.\n",
       "\"\"\""
      ]
     },
     "execution_count": 31,
     "metadata": {},
     "output_type": "execute_result"
    }
   ],
   "source": [
    "crs_arrival_from = ['QUARTER', 'MONTH', 'DAY_OF_WEEK', 'CRS_DEP_TIME', 'DEP_DELAY', 'TAXI_OUT', 'TAXI_IN', 'CARRIER_DELAY', 'WEATHER_DELAY', 'NAS_DELAY', 'LATE_AIRCRAFT_DELAY'] \n",
    "regression_model(crs_arrival_from, 'CRS_ARR_TIME').summary()"
   ]
  },
  {
   "cell_type": "code",
   "execution_count": 32,
   "metadata": {},
   "outputs": [
    {
     "name": "stdout",
     "output_type": "stream",
     "text": [
      "[('CRS_ARR_TIME', 'LATE_AIRCRAFT_DELAY'), ('LATE_AIRCRAFT_DELAY', 'CARRIER_DELAY'), ('CARRIER_DELAY', 'CRS_ARR_TIME')]\n"
     ]
    }
   ],
   "source": [
    "flight_edges_df, bn = update_flights_edges_df(crs_arrival_from, 'CRS_ARR_TIME', flight_edges_df)"
   ]
  },
  {
   "cell_type": "code",
   "execution_count": 33,
   "metadata": {},
   "outputs": [
    {
     "name": "stdout",
     "output_type": "stream",
     "text": [
      "[('CRS_ARR_TIME', 'LATE_AIRCRAFT_DELAY'), ('LATE_AIRCRAFT_DELAY', 'CRS_ARR_TIME')]\n"
     ]
    }
   ],
   "source": [
    "flight_edges_df, bn = remove_edge('CARRIER_DELAY', 'CRS_ARR_TIME', flight_edges_df)"
   ]
  },
  {
   "cell_type": "code",
   "execution_count": 34,
   "metadata": {},
   "outputs": [
    {
     "name": "stdout",
     "output_type": "stream",
     "text": [
      "[('NAS_DELAY', 'CRS_ARR_TIME'), ('CRS_ARR_TIME', 'WEATHER_DELAY'), ('WEATHER_DELAY', 'NAS_DELAY')]\n"
     ]
    }
   ],
   "source": [
    "flight_edges_df, bn = remove_edge('LATE_AIRCRAFT_DELAY', 'CRS_ARR_TIME', flight_edges_df)"
   ]
  },
  {
   "cell_type": "code",
   "execution_count": 35,
   "metadata": {},
   "outputs": [
    {
     "name": "stdout",
     "output_type": "stream",
     "text": [
      "[('CRS_ARR_TIME', 'WEATHER_DELAY'), ('WEATHER_DELAY', 'CRS_ARR_TIME')]\n"
     ]
    }
   ],
   "source": [
    "flight_edges_df, bn = remove_edge('NAS_DELAY', 'CRS_ARR_TIME', flight_edges_df)"
   ]
  },
  {
   "cell_type": "code",
   "execution_count": 36,
   "metadata": {},
   "outputs": [
    {
     "name": "stdout",
     "output_type": "stream",
     "text": [
      "No cycle found! You may proceed.\n"
     ]
    }
   ],
   "source": [
    "flight_edges_df, bn = remove_edge('WEATHER_DELAY', 'CRS_ARR_TIME', flight_edges_df)"
   ]
  },
  {
   "cell_type": "markdown",
   "metadata": {},
   "source": [
    "### CRS Departure Time"
   ]
  },
  {
   "cell_type": "code",
   "execution_count": 37,
   "metadata": {},
   "outputs": [
    {
     "data": {
      "text/html": [
       "<table class=\"simpletable\">\n",
       "<caption>OLS Regression Results</caption>\n",
       "<tr>\n",
       "  <th>Dep. Variable:</th>      <td>CRS_DEP_TIME</td>   <th>  R-squared:         </th> <td>   0.724</td> \n",
       "</tr>\n",
       "<tr>\n",
       "  <th>Model:</th>                   <td>OLS</td>       <th>  Adj. R-squared:    </th> <td>   0.720</td> \n",
       "</tr>\n",
       "<tr>\n",
       "  <th>Method:</th>             <td>Least Squares</td>  <th>  F-statistic:       </th> <td>   200.4</td> \n",
       "</tr>\n",
       "<tr>\n",
       "  <th>Date:</th>             <td>Mon, 09 Apr 2018</td> <th>  Prob (F-statistic):</th> <td>6.58e-206</td>\n",
       "</tr>\n",
       "<tr>\n",
       "  <th>Time:</th>                 <td>03:24:38</td>     <th>  Log-Likelihood:    </th> <td> -274.78</td> \n",
       "</tr>\n",
       "<tr>\n",
       "  <th>No. Observations:</th>      <td>   774</td>      <th>  AIC:               </th> <td>   569.6</td> \n",
       "</tr>\n",
       "<tr>\n",
       "  <th>Df Residuals:</th>          <td>   764</td>      <th>  BIC:               </th> <td>   616.1</td> \n",
       "</tr>\n",
       "<tr>\n",
       "  <th>Df Model:</th>              <td>    10</td>      <th>                     </th>     <td> </td>    \n",
       "</tr>\n",
       "<tr>\n",
       "  <th>Covariance Type:</th>      <td>nonrobust</td>    <th>                     </th>     <td> </td>    \n",
       "</tr>\n",
       "</table>\n",
       "<table class=\"simpletable\">\n",
       "<tr>\n",
       "           <td></td>              <th>coef</th>     <th>std err</th>      <th>t</th>      <th>P>|t|</th>  <th>[0.025</th>    <th>0.975]</th>  \n",
       "</tr>\n",
       "<tr>\n",
       "  <th>QUARTER</th>             <td>    0.2044</td> <td>    0.044</td> <td>    4.634</td> <td> 0.000</td> <td>    0.118</td> <td>    0.291</td>\n",
       "</tr>\n",
       "<tr>\n",
       "  <th>MONTH</th>               <td>   -0.0516</td> <td>    0.015</td> <td>   -3.463</td> <td> 0.001</td> <td>   -0.081</td> <td>   -0.022</td>\n",
       "</tr>\n",
       "<tr>\n",
       "  <th>DAY_OF_WEEK</th>         <td>    0.0351</td> <td>    0.006</td> <td>    6.128</td> <td> 0.000</td> <td>    0.024</td> <td>    0.046</td>\n",
       "</tr>\n",
       "<tr>\n",
       "  <th>DEP_DELAY</th>           <td>    0.0058</td> <td>    0.001</td> <td>    6.916</td> <td> 0.000</td> <td>    0.004</td> <td>    0.007</td>\n",
       "</tr>\n",
       "<tr>\n",
       "  <th>TAXI_OUT</th>            <td>    0.0164</td> <td>    0.001</td> <td>   14.595</td> <td> 0.000</td> <td>    0.014</td> <td>    0.019</td>\n",
       "</tr>\n",
       "<tr>\n",
       "  <th>TAXI_IN</th>             <td>    0.0085</td> <td>    0.002</td> <td>    5.425</td> <td> 0.000</td> <td>    0.005</td> <td>    0.012</td>\n",
       "</tr>\n",
       "<tr>\n",
       "  <th>CRS_ARR_TIME</th>        <td>   -0.7129</td> <td>    0.025</td> <td>  -28.129</td> <td> 0.000</td> <td>   -0.763</td> <td>   -0.663</td>\n",
       "</tr>\n",
       "<tr>\n",
       "  <th>CARRIER_DELAY</th>       <td>   -0.0049</td> <td>    0.001</td> <td>   -4.497</td> <td> 0.000</td> <td>   -0.007</td> <td>   -0.003</td>\n",
       "</tr>\n",
       "<tr>\n",
       "  <th>NAS_DELAY</th>           <td>   -0.0069</td> <td>    0.001</td> <td>   -7.949</td> <td> 0.000</td> <td>   -0.009</td> <td>   -0.005</td>\n",
       "</tr>\n",
       "<tr>\n",
       "  <th>LATE_AIRCRAFT_DELAY</th> <td>   -0.0031</td> <td>    0.001</td> <td>   -2.806</td> <td> 0.005</td> <td>   -0.005</td> <td>   -0.001</td>\n",
       "</tr>\n",
       "</table>\n",
       "<table class=\"simpletable\">\n",
       "<tr>\n",
       "  <th>Omnibus:</th>       <td>55.642</td> <th>  Durbin-Watson:     </th> <td>   2.087</td>\n",
       "</tr>\n",
       "<tr>\n",
       "  <th>Prob(Omnibus):</th> <td> 0.000</td> <th>  Jarque-Bera (JB):  </th> <td>  88.620</td>\n",
       "</tr>\n",
       "<tr>\n",
       "  <th>Skew:</th>          <td> 0.529</td> <th>  Prob(JB):          </th> <td>5.71e-20</td>\n",
       "</tr>\n",
       "<tr>\n",
       "  <th>Kurtosis:</th>      <td> 4.276</td> <th>  Cond. No.          </th> <td>    194.</td>\n",
       "</tr>\n",
       "</table>"
      ],
      "text/plain": [
       "<class 'statsmodels.iolib.summary.Summary'>\n",
       "\"\"\"\n",
       "                            OLS Regression Results                            \n",
       "==============================================================================\n",
       "Dep. Variable:           CRS_DEP_TIME   R-squared:                       0.724\n",
       "Model:                            OLS   Adj. R-squared:                  0.720\n",
       "Method:                 Least Squares   F-statistic:                     200.4\n",
       "Date:                Mon, 09 Apr 2018   Prob (F-statistic):          6.58e-206\n",
       "Time:                        03:24:38   Log-Likelihood:                -274.78\n",
       "No. Observations:                 774   AIC:                             569.6\n",
       "Df Residuals:                     764   BIC:                             616.1\n",
       "Df Model:                          10                                         \n",
       "Covariance Type:            nonrobust                                         \n",
       "=======================================================================================\n",
       "                          coef    std err          t      P>|t|      [0.025      0.975]\n",
       "---------------------------------------------------------------------------------------\n",
       "QUARTER                 0.2044      0.044      4.634      0.000       0.118       0.291\n",
       "MONTH                  -0.0516      0.015     -3.463      0.001      -0.081      -0.022\n",
       "DAY_OF_WEEK             0.0351      0.006      6.128      0.000       0.024       0.046\n",
       "DEP_DELAY               0.0058      0.001      6.916      0.000       0.004       0.007\n",
       "TAXI_OUT                0.0164      0.001     14.595      0.000       0.014       0.019\n",
       "TAXI_IN                 0.0085      0.002      5.425      0.000       0.005       0.012\n",
       "CRS_ARR_TIME           -0.7129      0.025    -28.129      0.000      -0.763      -0.663\n",
       "CARRIER_DELAY          -0.0049      0.001     -4.497      0.000      -0.007      -0.003\n",
       "NAS_DELAY              -0.0069      0.001     -7.949      0.000      -0.009      -0.005\n",
       "LATE_AIRCRAFT_DELAY    -0.0031      0.001     -2.806      0.005      -0.005      -0.001\n",
       "==============================================================================\n",
       "Omnibus:                       55.642   Durbin-Watson:                   2.087\n",
       "Prob(Omnibus):                  0.000   Jarque-Bera (JB):               88.620\n",
       "Skew:                           0.529   Prob(JB):                     5.71e-20\n",
       "Kurtosis:                       4.276   Cond. No.                         194.\n",
       "==============================================================================\n",
       "\n",
       "Warnings:\n",
       "[1] Standard Errors assume that the covariance matrix of the errors is correctly specified.\n",
       "\"\"\""
      ]
     },
     "execution_count": 37,
     "metadata": {},
     "output_type": "execute_result"
    }
   ],
   "source": [
    "crs_departure_from = ['QUARTER', 'MONTH', 'DAY_OF_WEEK', 'DEP_DELAY', 'TAXI_OUT', 'TAXI_IN', 'CRS_ARR_TIME', 'CARRIER_DELAY', 'NAS_DELAY', 'LATE_AIRCRAFT_DELAY'] \n",
    "regression_model(crs_departure_from, 'CRS_DEP_TIME').summary()"
   ]
  },
  {
   "cell_type": "code",
   "execution_count": 38,
   "metadata": {},
   "outputs": [
    {
     "name": "stdout",
     "output_type": "stream",
     "text": [
      "[('CRS_DEP_TIME', 'NAS_DELAY'), ('NAS_DELAY', 'CRS_DEP_TIME')]\n"
     ]
    }
   ],
   "source": [
    "flight_edges_df, bn = update_flights_edges_df(crs_departure_from, 'CRS_DEP_TIME', flight_edges_df)"
   ]
  },
  {
   "cell_type": "code",
   "execution_count": 39,
   "metadata": {},
   "outputs": [
    {
     "name": "stdout",
     "output_type": "stream",
     "text": [
      "[('CRS_DEP_TIME', 'LATE_AIRCRAFT_DELAY'), ('LATE_AIRCRAFT_DELAY', 'CARRIER_DELAY'), ('CARRIER_DELAY', 'CRS_DEP_TIME')]\n"
     ]
    }
   ],
   "source": [
    "flight_edges_df, bn = remove_edge('NAS_DELAY', 'CRS_DEP_TIME', flight_edges_df)"
   ]
  },
  {
   "cell_type": "code",
   "execution_count": 40,
   "metadata": {},
   "outputs": [
    {
     "name": "stdout",
     "output_type": "stream",
     "text": [
      "[('CRS_DEP_TIME', 'LATE_AIRCRAFT_DELAY'), ('LATE_AIRCRAFT_DELAY', 'CRS_DEP_TIME')]\n"
     ]
    }
   ],
   "source": [
    "flight_edges_df, bn = remove_edge('CARRIER_DELAY', 'CRS_DEP_TIME', flight_edges_df)"
   ]
  },
  {
   "cell_type": "code",
   "execution_count": 41,
   "metadata": {},
   "outputs": [
    {
     "name": "stdout",
     "output_type": "stream",
     "text": [
      "[('CRS_DEP_TIME', 'CRS_ARR_TIME'), ('CRS_ARR_TIME', 'CRS_DEP_TIME')]\n"
     ]
    }
   ],
   "source": [
    "flight_edges_df, bn = remove_edge('LATE_AIRCRAFT_DELAY', 'CRS_DEP_TIME', flight_edges_df)"
   ]
  },
  {
   "cell_type": "code",
   "execution_count": 42,
   "metadata": {},
   "outputs": [
    {
     "name": "stdout",
     "output_type": "stream",
     "text": [
      "No cycle found! You may proceed.\n"
     ]
    }
   ],
   "source": [
    "flight_edges_df, bn = remove_edge('CRS_DEP_TIME', 'CRS_ARR_TIME', flight_edges_df)"
   ]
  },
  {
   "cell_type": "markdown",
   "metadata": {},
   "source": [
    "### Taxi Out"
   ]
  },
  {
   "cell_type": "markdown",
   "metadata": {},
   "source": [
    "Taxi Out Time, in Minutes."
   ]
  },
  {
   "cell_type": "code",
   "execution_count": 43,
   "metadata": {},
   "outputs": [
    {
     "data": {
      "text/html": [
       "<table class=\"simpletable\">\n",
       "<caption>OLS Regression Results</caption>\n",
       "<tr>\n",
       "  <th>Dep. Variable:</th>        <td>TAXI_OUT</td>     <th>  R-squared:         </th> <td>   0.898</td>\n",
       "</tr>\n",
       "<tr>\n",
       "  <th>Model:</th>                   <td>OLS</td>       <th>  Adj. R-squared:    </th> <td>   0.897</td>\n",
       "</tr>\n",
       "<tr>\n",
       "  <th>Method:</th>             <td>Least Squares</td>  <th>  F-statistic:       </th> <td>   611.1</td>\n",
       "</tr>\n",
       "<tr>\n",
       "  <th>Date:</th>             <td>Mon, 09 Apr 2018</td> <th>  Prob (F-statistic):</th>  <td>  0.00</td> \n",
       "</tr>\n",
       "<tr>\n",
       "  <th>Time:</th>                 <td>03:24:38</td>     <th>  Log-Likelihood:    </th> <td> -2854.6</td>\n",
       "</tr>\n",
       "<tr>\n",
       "  <th>No. Observations:</th>      <td>   774</td>      <th>  AIC:               </th> <td>   5731.</td>\n",
       "</tr>\n",
       "<tr>\n",
       "  <th>Df Residuals:</th>          <td>   763</td>      <th>  BIC:               </th> <td>   5782.</td>\n",
       "</tr>\n",
       "<tr>\n",
       "  <th>Df Model:</th>              <td>    11</td>      <th>                     </th>     <td> </td>   \n",
       "</tr>\n",
       "<tr>\n",
       "  <th>Covariance Type:</th>      <td>nonrobust</td>    <th>                     </th>     <td> </td>   \n",
       "</tr>\n",
       "</table>\n",
       "<table class=\"simpletable\">\n",
       "<tr>\n",
       "           <td></td>              <th>coef</th>     <th>std err</th>      <th>t</th>      <th>P>|t|</th>  <th>[0.025</th>    <th>0.975]</th>  \n",
       "</tr>\n",
       "<tr>\n",
       "  <th>QUARTER</th>             <td>    3.8155</td> <td>    0.286</td> <td>   13.354</td> <td> 0.000</td> <td>    3.255</td> <td>    4.376</td>\n",
       "</tr>\n",
       "<tr>\n",
       "  <th>DAY_OF_WEEK</th>         <td>    0.8351</td> <td>    0.163</td> <td>    5.127</td> <td> 0.000</td> <td>    0.515</td> <td>    1.155</td>\n",
       "</tr>\n",
       "<tr>\n",
       "  <th>CRS_DEP_TIME</th>        <td>   13.4406</td> <td>    0.885</td> <td>   15.187</td> <td> 0.000</td> <td>   11.703</td> <td>   15.178</td>\n",
       "</tr>\n",
       "<tr>\n",
       "  <th>DEP_DELAY</th>           <td>   -0.3262</td> <td>    0.024</td> <td>  -13.656</td> <td> 0.000</td> <td>   -0.373</td> <td>   -0.279</td>\n",
       "</tr>\n",
       "<tr>\n",
       "  <th>TAXI_IN</th>             <td>   -0.2888</td> <td>    0.044</td> <td>   -6.583</td> <td> 0.000</td> <td>   -0.375</td> <td>   -0.203</td>\n",
       "</tr>\n",
       "<tr>\n",
       "  <th>CRS_ARR_TIME</th>        <td>   13.3767</td> <td>    0.878</td> <td>   15.239</td> <td> 0.000</td> <td>   11.654</td> <td>   15.100</td>\n",
       "</tr>\n",
       "<tr>\n",
       "  <th>CARRIER_DELAY</th>       <td>    0.3105</td> <td>    0.031</td> <td>    9.904</td> <td> 0.000</td> <td>    0.249</td> <td>    0.372</td>\n",
       "</tr>\n",
       "<tr>\n",
       "  <th>WEATHER_DELAY</th>       <td>    0.2723</td> <td>    0.063</td> <td>    4.328</td> <td> 0.000</td> <td>    0.149</td> <td>    0.396</td>\n",
       "</tr>\n",
       "<tr>\n",
       "  <th>NAS_DELAY</th>           <td>    0.3975</td> <td>    0.022</td> <td>   18.126</td> <td> 0.000</td> <td>    0.354</td> <td>    0.441</td>\n",
       "</tr>\n",
       "<tr>\n",
       "  <th>SECURITY_DELAY</th>      <td>    0.3914</td> <td>    0.173</td> <td>    2.262</td> <td> 0.024</td> <td>    0.052</td> <td>    0.731</td>\n",
       "</tr>\n",
       "<tr>\n",
       "  <th>LATE_AIRCRAFT_DELAY</th> <td>    0.3214</td> <td>    0.032</td> <td>   10.154</td> <td> 0.000</td> <td>    0.259</td> <td>    0.384</td>\n",
       "</tr>\n",
       "</table>\n",
       "<table class=\"simpletable\">\n",
       "<tr>\n",
       "  <th>Omnibus:</th>       <td>15.247</td> <th>  Durbin-Watson:     </th> <td>   2.073</td>\n",
       "</tr>\n",
       "<tr>\n",
       "  <th>Prob(Omnibus):</th> <td> 0.000</td> <th>  Jarque-Bera (JB):  </th> <td>  19.045</td>\n",
       "</tr>\n",
       "<tr>\n",
       "  <th>Skew:</th>          <td> 0.236</td> <th>  Prob(JB):          </th> <td>7.32e-05</td>\n",
       "</tr>\n",
       "<tr>\n",
       "  <th>Kurtosis:</th>      <td> 3.607</td> <th>  Cond. No.          </th> <td>    162.</td>\n",
       "</tr>\n",
       "</table>"
      ],
      "text/plain": [
       "<class 'statsmodels.iolib.summary.Summary'>\n",
       "\"\"\"\n",
       "                            OLS Regression Results                            \n",
       "==============================================================================\n",
       "Dep. Variable:               TAXI_OUT   R-squared:                       0.898\n",
       "Model:                            OLS   Adj. R-squared:                  0.897\n",
       "Method:                 Least Squares   F-statistic:                     611.1\n",
       "Date:                Mon, 09 Apr 2018   Prob (F-statistic):               0.00\n",
       "Time:                        03:24:38   Log-Likelihood:                -2854.6\n",
       "No. Observations:                 774   AIC:                             5731.\n",
       "Df Residuals:                     763   BIC:                             5782.\n",
       "Df Model:                          11                                         \n",
       "Covariance Type:            nonrobust                                         \n",
       "=======================================================================================\n",
       "                          coef    std err          t      P>|t|      [0.025      0.975]\n",
       "---------------------------------------------------------------------------------------\n",
       "QUARTER                 3.8155      0.286     13.354      0.000       3.255       4.376\n",
       "DAY_OF_WEEK             0.8351      0.163      5.127      0.000       0.515       1.155\n",
       "CRS_DEP_TIME           13.4406      0.885     15.187      0.000      11.703      15.178\n",
       "DEP_DELAY              -0.3262      0.024    -13.656      0.000      -0.373      -0.279\n",
       "TAXI_IN                -0.2888      0.044     -6.583      0.000      -0.375      -0.203\n",
       "CRS_ARR_TIME           13.3767      0.878     15.239      0.000      11.654      15.100\n",
       "CARRIER_DELAY           0.3105      0.031      9.904      0.000       0.249       0.372\n",
       "WEATHER_DELAY           0.2723      0.063      4.328      0.000       0.149       0.396\n",
       "NAS_DELAY               0.3975      0.022     18.126      0.000       0.354       0.441\n",
       "SECURITY_DELAY          0.3914      0.173      2.262      0.024       0.052       0.731\n",
       "LATE_AIRCRAFT_DELAY     0.3214      0.032     10.154      0.000       0.259       0.384\n",
       "==============================================================================\n",
       "Omnibus:                       15.247   Durbin-Watson:                   2.073\n",
       "Prob(Omnibus):                  0.000   Jarque-Bera (JB):               19.045\n",
       "Skew:                           0.236   Prob(JB):                     7.32e-05\n",
       "Kurtosis:                       3.607   Cond. No.                         162.\n",
       "==============================================================================\n",
       "\n",
       "Warnings:\n",
       "[1] Standard Errors assume that the covariance matrix of the errors is correctly specified.\n",
       "\"\"\""
      ]
     },
     "execution_count": 43,
     "metadata": {},
     "output_type": "execute_result"
    }
   ],
   "source": [
    "taxi_out_from = ['QUARTER', 'DAY_OF_WEEK', 'CRS_DEP_TIME', 'DEP_DELAY', 'TAXI_IN', 'CRS_ARR_TIME', 'CARRIER_DELAY', 'WEATHER_DELAY', 'NAS_DELAY', 'SECURITY_DELAY', 'LATE_AIRCRAFT_DELAY']\n",
    "regression_model(taxi_out_from, 'TAXI_OUT').summary()"
   ]
  },
  {
   "cell_type": "code",
   "execution_count": 44,
   "metadata": {},
   "outputs": [
    {
     "name": "stdout",
     "output_type": "stream",
     "text": [
      "[('NAS_DELAY', 'TAXI_OUT'), ('TAXI_OUT', 'NAS_DELAY')]\n"
     ]
    }
   ],
   "source": [
    "flight_edges_df, bn = update_flights_edges_df(taxi_out_from,'TAXI_OUT',flight_edges_df)"
   ]
  },
  {
   "cell_type": "code",
   "execution_count": 45,
   "metadata": {},
   "outputs": [
    {
     "name": "stdout",
     "output_type": "stream",
     "text": [
      "[('LATE_AIRCRAFT_DELAY', 'CARRIER_DELAY'), ('CARRIER_DELAY', 'TAXI_OUT'), ('TAXI_OUT', 'LATE_AIRCRAFT_DELAY')]\n"
     ]
    }
   ],
   "source": [
    "flight_edges_df, bn = remove_edge('NAS_DELAY', 'TAXI_OUT', flight_edges_df)"
   ]
  },
  {
   "cell_type": "code",
   "execution_count": 46,
   "metadata": {},
   "outputs": [
    {
     "name": "stdout",
     "output_type": "stream",
     "text": [
      "[('CARRIER_DELAY', 'TAXI_OUT'), ('TAXI_OUT', 'CARRIER_DELAY')]\n"
     ]
    }
   ],
   "source": [
    "flight_edges_df, bn = remove_edge('TAXI_OUT', 'LATE_AIRCRAFT_DELAY', flight_edges_df)"
   ]
  },
  {
   "cell_type": "code",
   "execution_count": 47,
   "metadata": {},
   "outputs": [
    {
     "name": "stdout",
     "output_type": "stream",
     "text": [
      "[('LATE_AIRCRAFT_DELAY', 'CARRIER_DELAY'), ('CARRIER_DELAY', 'TAXI_OUT'), ('TAXI_OUT', 'WEATHER_DELAY'), ('WEATHER_DELAY', 'LATE_AIRCRAFT_DELAY')]\n"
     ]
    }
   ],
   "source": [
    "flight_edges_df, bn = remove_edge('TAXI_OUT', 'CARRIER_DELAY', flight_edges_df)"
   ]
  },
  {
   "cell_type": "code",
   "execution_count": 48,
   "metadata": {},
   "outputs": [
    {
     "name": "stdout",
     "output_type": "stream",
     "text": [
      "[('LATE_AIRCRAFT_DELAY', 'CARRIER_DELAY'), ('CARRIER_DELAY', 'TAXI_OUT'), ('TAXI_OUT', 'CRS_ARR_TIME'), ('CRS_ARR_TIME', 'LATE_AIRCRAFT_DELAY')]\n"
     ]
    }
   ],
   "source": [
    "flight_edges_df, bn = remove_edge('TAXI_OUT', 'WEATHER_DELAY', flight_edges_df)"
   ]
  },
  {
   "cell_type": "code",
   "execution_count": 49,
   "metadata": {},
   "outputs": [
    {
     "name": "stdout",
     "output_type": "stream",
     "text": [
      "[('CRS_DEP_TIME', 'LATE_AIRCRAFT_DELAY'), ('LATE_AIRCRAFT_DELAY', 'CARRIER_DELAY'), ('CARRIER_DELAY', 'TAXI_OUT'), ('TAXI_OUT', 'CRS_DEP_TIME')]\n"
     ]
    }
   ],
   "source": [
    "flight_edges_df, bn = remove_edge('TAXI_OUT', 'CRS_ARR_TIME', flight_edges_df)"
   ]
  },
  {
   "cell_type": "code",
   "execution_count": 50,
   "metadata": {},
   "outputs": [
    {
     "name": "stdout",
     "output_type": "stream",
     "text": [
      "No cycle found! You may proceed.\n"
     ]
    }
   ],
   "source": [
    "flight_edges_df, bn = remove_edge('TAXI_OUT', 'CRS_DEP_TIME', flight_edges_df)"
   ]
  },
  {
   "cell_type": "markdown",
   "metadata": {},
   "source": [
    "### Taxi In"
   ]
  },
  {
   "cell_type": "code",
   "execution_count": 51,
   "metadata": {},
   "outputs": [
    {
     "data": {
      "text/html": [
       "<table class=\"simpletable\">\n",
       "<caption>OLS Regression Results</caption>\n",
       "<tr>\n",
       "  <th>Dep. Variable:</th>         <td>TAXI_IN</td>     <th>  R-squared:         </th> <td>   0.567</td> \n",
       "</tr>\n",
       "<tr>\n",
       "  <th>Model:</th>                   <td>OLS</td>       <th>  Adj. R-squared:    </th> <td>   0.561</td> \n",
       "</tr>\n",
       "<tr>\n",
       "  <th>Method:</th>             <td>Least Squares</td>  <th>  F-statistic:       </th> <td>   99.98</td> \n",
       "</tr>\n",
       "<tr>\n",
       "  <th>Date:</th>             <td>Mon, 09 Apr 2018</td> <th>  Prob (F-statistic):</th> <td>1.50e-131</td>\n",
       "</tr>\n",
       "<tr>\n",
       "  <th>Time:</th>                 <td>03:24:38</td>     <th>  Log-Likelihood:    </th> <td> -2685.2</td> \n",
       "</tr>\n",
       "<tr>\n",
       "  <th>No. Observations:</th>      <td>   774</td>      <th>  AIC:               </th> <td>   5390.</td> \n",
       "</tr>\n",
       "<tr>\n",
       "  <th>Df Residuals:</th>          <td>   764</td>      <th>  BIC:               </th> <td>   5437.</td> \n",
       "</tr>\n",
       "<tr>\n",
       "  <th>Df Model:</th>              <td>    10</td>      <th>                     </th>     <td> </td>    \n",
       "</tr>\n",
       "<tr>\n",
       "  <th>Covariance Type:</th>      <td>nonrobust</td>    <th>                     </th>     <td> </td>    \n",
       "</tr>\n",
       "</table>\n",
       "<table class=\"simpletable\">\n",
       "<tr>\n",
       "           <td></td>              <th>coef</th>     <th>std err</th>      <th>t</th>      <th>P>|t|</th>  <th>[0.025</th>    <th>0.975]</th>  \n",
       "</tr>\n",
       "<tr>\n",
       "  <th>QUARTER</th>             <td>    1.5309</td> <td>    0.249</td> <td>    6.155</td> <td> 0.000</td> <td>    1.043</td> <td>    2.019</td>\n",
       "</tr>\n",
       "<tr>\n",
       "  <th>DAY_OF_WEEK</th>         <td>    0.4667</td> <td>    0.132</td> <td>    3.545</td> <td> 0.000</td> <td>    0.208</td> <td>    0.725</td>\n",
       "</tr>\n",
       "<tr>\n",
       "  <th>CRS_DEP_TIME</th>        <td>    4.5675</td> <td>    0.793</td> <td>    5.762</td> <td> 0.000</td> <td>    3.011</td> <td>    6.124</td>\n",
       "</tr>\n",
       "<tr>\n",
       "  <th>DEP_DELAY</th>           <td>   -0.1988</td> <td>    0.020</td> <td>   -9.991</td> <td> 0.000</td> <td>   -0.238</td> <td>   -0.160</td>\n",
       "</tr>\n",
       "<tr>\n",
       "  <th>TAXI_OUT</th>            <td>   -0.1837</td> <td>    0.028</td> <td>   -6.513</td> <td> 0.000</td> <td>   -0.239</td> <td>   -0.128</td>\n",
       "</tr>\n",
       "<tr>\n",
       "  <th>CRS_ARR_TIME</th>        <td>    5.0782</td> <td>    0.783</td> <td>    6.482</td> <td> 0.000</td> <td>    3.540</td> <td>    6.616</td>\n",
       "</tr>\n",
       "<tr>\n",
       "  <th>CARRIER_DELAY</th>       <td>    0.2166</td> <td>    0.025</td> <td>    8.552</td> <td> 0.000</td> <td>    0.167</td> <td>    0.266</td>\n",
       "</tr>\n",
       "<tr>\n",
       "  <th>WEATHER_DELAY</th>       <td>    0.1902</td> <td>    0.051</td> <td>    3.761</td> <td> 0.000</td> <td>    0.091</td> <td>    0.290</td>\n",
       "</tr>\n",
       "<tr>\n",
       "  <th>NAS_DELAY</th>           <td>    0.2610</td> <td>    0.019</td> <td>   13.966</td> <td> 0.000</td> <td>    0.224</td> <td>    0.298</td>\n",
       "</tr>\n",
       "<tr>\n",
       "  <th>LATE_AIRCRAFT_DELAY</th> <td>    0.2291</td> <td>    0.026</td> <td>    8.938</td> <td> 0.000</td> <td>    0.179</td> <td>    0.279</td>\n",
       "</tr>\n",
       "</table>\n",
       "<table class=\"simpletable\">\n",
       "<tr>\n",
       "  <th>Omnibus:</th>       <td>1102.700</td> <th>  Durbin-Watson:     </th>  <td>   2.040</td> \n",
       "</tr>\n",
       "<tr>\n",
       "  <th>Prob(Omnibus):</th>  <td> 0.000</td>  <th>  Jarque-Bera (JB):  </th> <td>441216.467</td>\n",
       "</tr>\n",
       "<tr>\n",
       "  <th>Skew:</th>           <td> 7.547</td>  <th>  Prob(JB):          </th>  <td>    0.00</td> \n",
       "</tr>\n",
       "<tr>\n",
       "  <th>Kurtosis:</th>       <td>118.988</td> <th>  Cond. No.          </th>  <td>    189.</td> \n",
       "</tr>\n",
       "</table>"
      ],
      "text/plain": [
       "<class 'statsmodels.iolib.summary.Summary'>\n",
       "\"\"\"\n",
       "                            OLS Regression Results                            \n",
       "==============================================================================\n",
       "Dep. Variable:                TAXI_IN   R-squared:                       0.567\n",
       "Model:                            OLS   Adj. R-squared:                  0.561\n",
       "Method:                 Least Squares   F-statistic:                     99.98\n",
       "Date:                Mon, 09 Apr 2018   Prob (F-statistic):          1.50e-131\n",
       "Time:                        03:24:38   Log-Likelihood:                -2685.2\n",
       "No. Observations:                 774   AIC:                             5390.\n",
       "Df Residuals:                     764   BIC:                             5437.\n",
       "Df Model:                          10                                         \n",
       "Covariance Type:            nonrobust                                         \n",
       "=======================================================================================\n",
       "                          coef    std err          t      P>|t|      [0.025      0.975]\n",
       "---------------------------------------------------------------------------------------\n",
       "QUARTER                 1.5309      0.249      6.155      0.000       1.043       2.019\n",
       "DAY_OF_WEEK             0.4667      0.132      3.545      0.000       0.208       0.725\n",
       "CRS_DEP_TIME            4.5675      0.793      5.762      0.000       3.011       6.124\n",
       "DEP_DELAY              -0.1988      0.020     -9.991      0.000      -0.238      -0.160\n",
       "TAXI_OUT               -0.1837      0.028     -6.513      0.000      -0.239      -0.128\n",
       "CRS_ARR_TIME            5.0782      0.783      6.482      0.000       3.540       6.616\n",
       "CARRIER_DELAY           0.2166      0.025      8.552      0.000       0.167       0.266\n",
       "WEATHER_DELAY           0.1902      0.051      3.761      0.000       0.091       0.290\n",
       "NAS_DELAY               0.2610      0.019     13.966      0.000       0.224       0.298\n",
       "LATE_AIRCRAFT_DELAY     0.2291      0.026      8.938      0.000       0.179       0.279\n",
       "==============================================================================\n",
       "Omnibus:                     1102.700   Durbin-Watson:                   2.040\n",
       "Prob(Omnibus):                  0.000   Jarque-Bera (JB):           441216.467\n",
       "Skew:                           7.547   Prob(JB):                         0.00\n",
       "Kurtosis:                     118.988   Cond. No.                         189.\n",
       "==============================================================================\n",
       "\n",
       "Warnings:\n",
       "[1] Standard Errors assume that the covariance matrix of the errors is correctly specified.\n",
       "\"\"\""
      ]
     },
     "execution_count": 51,
     "metadata": {},
     "output_type": "execute_result"
    }
   ],
   "source": [
    "taxi_in_from = ['QUARTER', 'DAY_OF_WEEK', 'CRS_DEP_TIME', 'DEP_DELAY', 'TAXI_OUT', 'CRS_ARR_TIME', 'CARRIER_DELAY', 'WEATHER_DELAY', 'NAS_DELAY', 'LATE_AIRCRAFT_DELAY'] \n",
    "regression_model(taxi_in_from, 'TAXI_IN').summary()"
   ]
  },
  {
   "cell_type": "code",
   "execution_count": 52,
   "metadata": {},
   "outputs": [
    {
     "name": "stdout",
     "output_type": "stream",
     "text": [
      "[('NAS_DELAY', 'TAXI_IN'), ('TAXI_IN', 'NAS_DELAY')]\n"
     ]
    }
   ],
   "source": [
    "flight_edges_df, bn = update_flights_edges_df(taxi_in_from,'TAXI_IN',flight_edges_df)"
   ]
  },
  {
   "cell_type": "code",
   "execution_count": 53,
   "metadata": {},
   "outputs": [
    {
     "name": "stdout",
     "output_type": "stream",
     "text": [
      "[('NAS_DELAY', 'TAXI_IN'), ('TAXI_IN', 'LATE_AIRCRAFT_DELAY'), ('LATE_AIRCRAFT_DELAY', 'CARRIER_DELAY'), ('CARRIER_DELAY', 'TAXI_OUT'), ('TAXI_OUT', 'NAS_DELAY')]\n"
     ]
    }
   ],
   "source": [
    "flight_edges_df, bn = remove_edge('TAXI_IN', 'NAS_DELAY', flight_edges_df)"
   ]
  },
  {
   "cell_type": "code",
   "execution_count": 54,
   "metadata": {},
   "outputs": [
    {
     "name": "stdout",
     "output_type": "stream",
     "text": [
      "[('NAS_DELAY', 'TAXI_IN'), ('TAXI_IN', 'CARRIER_DELAY'), ('CARRIER_DELAY', 'TAXI_OUT'), ('TAXI_OUT', 'NAS_DELAY')]\n"
     ]
    }
   ],
   "source": [
    "flight_edges_df, bn = remove_edge('TAXI_IN', 'LATE_AIRCRAFT_DELAY', flight_edges_df)"
   ]
  },
  {
   "cell_type": "code",
   "execution_count": 55,
   "metadata": {},
   "outputs": [
    {
     "name": "stdout",
     "output_type": "stream",
     "text": [
      "[('TAXI_IN', 'CARRIER_DELAY'), ('CARRIER_DELAY', 'TAXI_OUT'), ('TAXI_OUT', 'TAXI_IN')]\n"
     ]
    }
   ],
   "source": [
    "flight_edges_df, bn = remove_edge('TAXI_OUT', 'NAS_DELAY', flight_edges_df)"
   ]
  },
  {
   "cell_type": "code",
   "execution_count": 56,
   "metadata": {},
   "outputs": [
    {
     "name": "stdout",
     "output_type": "stream",
     "text": [
      "[('NAS_DELAY', 'TAXI_IN'), ('TAXI_IN', 'WEATHER_DELAY'), ('WEATHER_DELAY', 'NAS_DELAY')]\n"
     ]
    }
   ],
   "source": [
    "flight_edges_df, bn = remove_edge('TAXI_IN', 'CARRIER_DELAY', flight_edges_df)"
   ]
  },
  {
   "cell_type": "code",
   "execution_count": 57,
   "metadata": {},
   "outputs": [
    {
     "name": "stdout",
     "output_type": "stream",
     "text": [
      "[('TAXI_IN', 'CRS_ARR_TIME'), ('CRS_ARR_TIME', 'LATE_AIRCRAFT_DELAY'), ('LATE_AIRCRAFT_DELAY', 'CARRIER_DELAY'), ('CARRIER_DELAY', 'TAXI_OUT'), ('TAXI_OUT', 'TAXI_IN')]\n"
     ]
    }
   ],
   "source": [
    "flight_edges_df, bn = remove_edge('TAXI_IN', 'WEATHER_DELAY', flight_edges_df)"
   ]
  },
  {
   "cell_type": "code",
   "execution_count": 58,
   "metadata": {},
   "outputs": [
    {
     "name": "stdout",
     "output_type": "stream",
     "text": [
      "[('CRS_DEP_TIME', 'NAS_DELAY'), ('NAS_DELAY', 'TAXI_IN'), ('TAXI_IN', 'CRS_DEP_TIME')]\n"
     ]
    }
   ],
   "source": [
    "flight_edges_df, bn = remove_edge('TAXI_IN', 'CRS_ARR_TIME', flight_edges_df)"
   ]
  },
  {
   "cell_type": "code",
   "execution_count": 59,
   "metadata": {},
   "outputs": [
    {
     "name": "stdout",
     "output_type": "stream",
     "text": [
      "[('TAXI_IN', 'TAXI_OUT'), ('TAXI_OUT', 'TAXI_IN')]\n"
     ]
    }
   ],
   "source": [
    "flight_edges_df, bn = remove_edge('TAXI_IN', 'CRS_DEP_TIME', flight_edges_df)"
   ]
  },
  {
   "cell_type": "code",
   "execution_count": 60,
   "metadata": {},
   "outputs": [
    {
     "name": "stdout",
     "output_type": "stream",
     "text": [
      "No cycle found! You may proceed.\n"
     ]
    }
   ],
   "source": [
    "flight_edges_df, bn = remove_edge('TAXI_IN', 'TAXI_OUT', flight_edges_df)"
   ]
  },
  {
   "cell_type": "markdown",
   "metadata": {},
   "source": [
    "### Calendar Quarter"
   ]
  },
  {
   "cell_type": "markdown",
   "metadata": {},
   "source": [
    "We come to a rather interesting (not entirely unlikely) conclusion that CRS_DEP_TIME and CRS_ARR_TIME may directly influence QUARTER."
   ]
  },
  {
   "cell_type": "code",
   "execution_count": 61,
   "metadata": {},
   "outputs": [
    {
     "data": {
      "text/html": [
       "<table class=\"simpletable\">\n",
       "<caption>OLS Regression Results</caption>\n",
       "<tr>\n",
       "  <th>Dep. Variable:</th>         <td>QUARTER</td>     <th>  R-squared:         </th> <td>   0.991</td>\n",
       "</tr>\n",
       "<tr>\n",
       "  <th>Model:</th>                   <td>OLS</td>       <th>  Adj. R-squared:    </th> <td>   0.990</td>\n",
       "</tr>\n",
       "<tr>\n",
       "  <th>Method:</th>             <td>Least Squares</td>  <th>  F-statistic:       </th> <td>   7328.</td>\n",
       "</tr>\n",
       "<tr>\n",
       "  <th>Date:</th>             <td>Mon, 09 Apr 2018</td> <th>  Prob (F-statistic):</th>  <td>  0.00</td> \n",
       "</tr>\n",
       "<tr>\n",
       "  <th>Time:</th>                 <td>03:24:38</td>     <th>  Log-Likelihood:    </th> <td> -107.60</td>\n",
       "</tr>\n",
       "<tr>\n",
       "  <th>No. Observations:</th>      <td>   774</td>      <th>  AIC:               </th> <td>   237.2</td>\n",
       "</tr>\n",
       "<tr>\n",
       "  <th>Df Residuals:</th>          <td>   763</td>      <th>  BIC:               </th> <td>   288.4</td>\n",
       "</tr>\n",
       "<tr>\n",
       "  <th>Df Model:</th>              <td>    11</td>      <th>                     </th>     <td> </td>   \n",
       "</tr>\n",
       "<tr>\n",
       "  <th>Covariance Type:</th>      <td>nonrobust</td>    <th>                     </th>     <td> </td>   \n",
       "</tr>\n",
       "</table>\n",
       "<table class=\"simpletable\">\n",
       "<tr>\n",
       "           <td></td>              <th>coef</th>     <th>std err</th>      <th>t</th>      <th>P>|t|</th>  <th>[0.025</th>    <th>0.975]</th>  \n",
       "</tr>\n",
       "<tr>\n",
       "  <th>MONTH</th>               <td>    0.3248</td> <td>    0.003</td> <td>  106.055</td> <td> 0.000</td> <td>    0.319</td> <td>    0.331</td>\n",
       "</tr>\n",
       "<tr>\n",
       "  <th>DAY_OF_WEEK</th>         <td>    0.0119</td> <td>    0.005</td> <td>    2.515</td> <td> 0.012</td> <td>    0.003</td> <td>    0.021</td>\n",
       "</tr>\n",
       "<tr>\n",
       "  <th>CRS_DEP_TIME</th>        <td>    0.1293</td> <td>    0.029</td> <td>    4.487</td> <td> 0.000</td> <td>    0.073</td> <td>    0.186</td>\n",
       "</tr>\n",
       "<tr>\n",
       "  <th>DEP_DELAY</th>           <td>    0.0034</td> <td>    0.001</td> <td>    4.533</td> <td> 0.000</td> <td>    0.002</td> <td>    0.005</td>\n",
       "</tr>\n",
       "<tr>\n",
       "  <th>TAXI_OUT</th>            <td>    0.0048</td> <td>    0.001</td> <td>    4.690</td> <td> 0.000</td> <td>    0.003</td> <td>    0.007</td>\n",
       "</tr>\n",
       "<tr>\n",
       "  <th>TAXI_IN</th>             <td>    0.0035</td> <td>    0.001</td> <td>    2.688</td> <td> 0.007</td> <td>    0.001</td> <td>    0.006</td>\n",
       "</tr>\n",
       "<tr>\n",
       "  <th>CRS_ARR_TIME</th>        <td>    0.1746</td> <td>    0.029</td> <td>    6.115</td> <td> 0.000</td> <td>    0.119</td> <td>    0.231</td>\n",
       "</tr>\n",
       "<tr>\n",
       "  <th>CARRIER_DELAY</th>       <td>   -0.0033</td> <td>    0.001</td> <td>   -3.466</td> <td> 0.001</td> <td>   -0.005</td> <td>   -0.001</td>\n",
       "</tr>\n",
       "<tr>\n",
       "  <th>WEATHER_DELAY</th>       <td>   -0.0044</td> <td>    0.002</td> <td>   -2.402</td> <td> 0.017</td> <td>   -0.008</td> <td>   -0.001</td>\n",
       "</tr>\n",
       "<tr>\n",
       "  <th>NAS_DELAY</th>           <td>   -0.0017</td> <td>    0.001</td> <td>   -2.283</td> <td> 0.023</td> <td>   -0.003</td> <td>   -0.000</td>\n",
       "</tr>\n",
       "<tr>\n",
       "  <th>LATE_AIRCRAFT_DELAY</th> <td>   -0.0039</td> <td>    0.001</td> <td>   -4.009</td> <td> 0.000</td> <td>   -0.006</td> <td>   -0.002</td>\n",
       "</tr>\n",
       "</table>\n",
       "<table class=\"simpletable\">\n",
       "<tr>\n",
       "  <th>Omnibus:</th>       <td>1446.705</td> <th>  Durbin-Watson:     </th> <td>   1.942</td>\n",
       "</tr>\n",
       "<tr>\n",
       "  <th>Prob(Omnibus):</th>  <td> 0.000</td>  <th>  Jarque-Bera (JB):  </th> <td>  55.313</td>\n",
       "</tr>\n",
       "<tr>\n",
       "  <th>Skew:</th>           <td> 0.088</td>  <th>  Prob(JB):          </th> <td>9.75e-13</td>\n",
       "</tr>\n",
       "<tr>\n",
       "  <th>Kurtosis:</th>       <td> 1.702</td>  <th>  Cond. No.          </th> <td>    194.</td>\n",
       "</tr>\n",
       "</table>"
      ],
      "text/plain": [
       "<class 'statsmodels.iolib.summary.Summary'>\n",
       "\"\"\"\n",
       "                            OLS Regression Results                            \n",
       "==============================================================================\n",
       "Dep. Variable:                QUARTER   R-squared:                       0.991\n",
       "Model:                            OLS   Adj. R-squared:                  0.990\n",
       "Method:                 Least Squares   F-statistic:                     7328.\n",
       "Date:                Mon, 09 Apr 2018   Prob (F-statistic):               0.00\n",
       "Time:                        03:24:38   Log-Likelihood:                -107.60\n",
       "No. Observations:                 774   AIC:                             237.2\n",
       "Df Residuals:                     763   BIC:                             288.4\n",
       "Df Model:                          11                                         \n",
       "Covariance Type:            nonrobust                                         \n",
       "=======================================================================================\n",
       "                          coef    std err          t      P>|t|      [0.025      0.975]\n",
       "---------------------------------------------------------------------------------------\n",
       "MONTH                   0.3248      0.003    106.055      0.000       0.319       0.331\n",
       "DAY_OF_WEEK             0.0119      0.005      2.515      0.012       0.003       0.021\n",
       "CRS_DEP_TIME            0.1293      0.029      4.487      0.000       0.073       0.186\n",
       "DEP_DELAY               0.0034      0.001      4.533      0.000       0.002       0.005\n",
       "TAXI_OUT                0.0048      0.001      4.690      0.000       0.003       0.007\n",
       "TAXI_IN                 0.0035      0.001      2.688      0.007       0.001       0.006\n",
       "CRS_ARR_TIME            0.1746      0.029      6.115      0.000       0.119       0.231\n",
       "CARRIER_DELAY          -0.0033      0.001     -3.466      0.001      -0.005      -0.001\n",
       "WEATHER_DELAY          -0.0044      0.002     -2.402      0.017      -0.008      -0.001\n",
       "NAS_DELAY              -0.0017      0.001     -2.283      0.023      -0.003      -0.000\n",
       "LATE_AIRCRAFT_DELAY    -0.0039      0.001     -4.009      0.000      -0.006      -0.002\n",
       "==============================================================================\n",
       "Omnibus:                     1446.705   Durbin-Watson:                   1.942\n",
       "Prob(Omnibus):                  0.000   Jarque-Bera (JB):               55.313\n",
       "Skew:                           0.088   Prob(JB):                     9.75e-13\n",
       "Kurtosis:                       1.702   Cond. No.                         194.\n",
       "==============================================================================\n",
       "\n",
       "Warnings:\n",
       "[1] Standard Errors assume that the covariance matrix of the errors is correctly specified.\n",
       "\"\"\""
      ]
     },
     "execution_count": 61,
     "metadata": {},
     "output_type": "execute_result"
    }
   ],
   "source": [
    "quarter_from = ['MONTH', 'DAY_OF_WEEK', 'CRS_DEP_TIME', 'DEP_DELAY', 'TAXI_OUT', 'TAXI_IN', 'CRS_ARR_TIME', 'CARRIER_DELAY', 'WEATHER_DELAY', 'NAS_DELAY', 'LATE_AIRCRAFT_DELAY'] \n",
    "regression_model(quarter_from, 'QUARTER').summary()"
   ]
  },
  {
   "cell_type": "code",
   "execution_count": 62,
   "metadata": {},
   "outputs": [
    {
     "name": "stdout",
     "output_type": "stream",
     "text": [
      "[('NAS_DELAY', 'TAXI_IN'), ('TAXI_IN', 'QUARTER'), ('QUARTER', 'NAS_DELAY')]\n"
     ]
    }
   ],
   "source": [
    "flight_edges_df, bn = update_flights_edges_df(quarter_from, 'QUARTER',flight_edges_df)"
   ]
  },
  {
   "cell_type": "code",
   "execution_count": 63,
   "metadata": {},
   "outputs": [
    {
     "name": "stdout",
     "output_type": "stream",
     "text": [
      "[('NAS_DELAY', 'QUARTER'), ('QUARTER', 'NAS_DELAY')]\n"
     ]
    }
   ],
   "source": [
    "flight_edges_df, bn = remove_edge('TAXI_IN', 'QUARTER', flight_edges_df)"
   ]
  },
  {
   "cell_type": "code",
   "execution_count": 64,
   "metadata": {},
   "outputs": [
    {
     "name": "stdout",
     "output_type": "stream",
     "text": [
      "[('LATE_AIRCRAFT_DELAY', 'CARRIER_DELAY'), ('CARRIER_DELAY', 'TAXI_OUT'), ('TAXI_OUT', 'QUARTER'), ('QUARTER', 'LATE_AIRCRAFT_DELAY')]\n"
     ]
    }
   ],
   "source": [
    "flight_edges_df, bn = remove_edge('NAS_DELAY', 'QUARTER', flight_edges_df)"
   ]
  },
  {
   "cell_type": "code",
   "execution_count": 65,
   "metadata": {},
   "outputs": [
    {
     "name": "stdout",
     "output_type": "stream",
     "text": [
      "[('LATE_AIRCRAFT_DELAY', 'CARRIER_DELAY'), ('CARRIER_DELAY', 'QUARTER'), ('QUARTER', 'LATE_AIRCRAFT_DELAY')]\n"
     ]
    }
   ],
   "source": [
    "flight_edges_df, bn = remove_edge('TAXI_OUT', 'QUARTER', flight_edges_df)"
   ]
  },
  {
   "cell_type": "code",
   "execution_count": 66,
   "metadata": {},
   "outputs": [
    {
     "name": "stdout",
     "output_type": "stream",
     "text": [
      "[('LATE_AIRCRAFT_DELAY', 'QUARTER'), ('QUARTER', 'LATE_AIRCRAFT_DELAY')]\n"
     ]
    }
   ],
   "source": [
    "flight_edges_df, bn = remove_edge('CARRIER_DELAY', 'QUARTER', flight_edges_df)"
   ]
  },
  {
   "cell_type": "code",
   "execution_count": 67,
   "metadata": {},
   "outputs": [
    {
     "name": "stdout",
     "output_type": "stream",
     "text": [
      "[('QUARTER', 'WEATHER_DELAY'), ('WEATHER_DELAY', 'QUARTER')]\n"
     ]
    }
   ],
   "source": [
    "flight_edges_df, bn = remove_edge('LATE_AIRCRAFT_DELAY', 'QUARTER', flight_edges_df)"
   ]
  },
  {
   "cell_type": "code",
   "execution_count": 68,
   "metadata": {},
   "outputs": [
    {
     "name": "stdout",
     "output_type": "stream",
     "text": [
      "[('CRS_DEP_TIME', 'QUARTER'), ('QUARTER', 'CRS_ARR_TIME'), ('CRS_ARR_TIME', 'CRS_DEP_TIME')]\n"
     ]
    }
   ],
   "source": [
    "flight_edges_df, bn = remove_edge('WEATHER_DELAY', 'QUARTER', flight_edges_df)"
   ]
  },
  {
   "cell_type": "code",
   "execution_count": 69,
   "metadata": {},
   "outputs": [
    {
     "name": "stdout",
     "output_type": "stream",
     "text": [
      "[('CRS_ARR_TIME', 'QUARTER'), ('QUARTER', 'CRS_ARR_TIME')]\n"
     ]
    }
   ],
   "source": [
    "flight_edges_df, bn = remove_edge('CRS_DEP_TIME', 'QUARTER', flight_edges_df)"
   ]
  },
  {
   "cell_type": "code",
   "execution_count": 70,
   "metadata": {},
   "outputs": [
    {
     "name": "stdout",
     "output_type": "stream",
     "text": [
      "No cycle found! You may proceed.\n"
     ]
    }
   ],
   "source": [
    "flight_edges_df, bn = remove_edge('CRS_ARR_TIME', 'QUARTER', flight_edges_df)"
   ]
  },
  {
   "cell_type": "markdown",
   "metadata": {},
   "source": [
    "### Departure Delay"
   ]
  },
  {
   "cell_type": "markdown",
   "metadata": {},
   "source": [
    "This is the difference in minutes between scheduled and actual departure time. Early departures show negative numbers."
   ]
  },
  {
   "cell_type": "markdown",
   "metadata": {},
   "source": [
    "Departure time is the time recorded when the plane's parking brakes are released, which is after doors are closed and just prior to the plane beginning to taxi. That is, departure time starts right before a plan leaves its gate. Therefore, while it is likely that a difference in CRS departure time and actual departure time causes an NAS delay, it is impossible for NAS delay to influence the departure time difference. Thus, we remove the edge from NAS_DELAY to DEP_DELAY."
   ]
  },
  {
   "cell_type": "code",
   "execution_count": 71,
   "metadata": {},
   "outputs": [
    {
     "data": {
      "text/html": [
       "<table class=\"simpletable\">\n",
       "<caption>OLS Regression Results</caption>\n",
       "<tr>\n",
       "  <th>Dep. Variable:</th>        <td>DEP_DELAY</td>    <th>  R-squared:         </th> <td>   0.911</td>\n",
       "</tr>\n",
       "<tr>\n",
       "  <th>Model:</th>                   <td>OLS</td>       <th>  Adj. R-squared:    </th> <td>   0.910</td>\n",
       "</tr>\n",
       "<tr>\n",
       "  <th>Method:</th>             <td>Least Squares</td>  <th>  F-statistic:       </th> <td>   653.5</td>\n",
       "</tr>\n",
       "<tr>\n",
       "  <th>Date:</th>             <td>Mon, 09 Apr 2018</td> <th>  Prob (F-statistic):</th>  <td>  0.00</td> \n",
       "</tr>\n",
       "<tr>\n",
       "  <th>Time:</th>                 <td>03:24:38</td>     <th>  Log-Likelihood:    </th> <td> -3085.4</td>\n",
       "</tr>\n",
       "<tr>\n",
       "  <th>No. Observations:</th>      <td>   774</td>      <th>  AIC:               </th> <td>   6195.</td>\n",
       "</tr>\n",
       "<tr>\n",
       "  <th>Df Residuals:</th>          <td>   762</td>      <th>  BIC:               </th> <td>   6251.</td>\n",
       "</tr>\n",
       "<tr>\n",
       "  <th>Df Model:</th>              <td>    12</td>      <th>                     </th>     <td> </td>   \n",
       "</tr>\n",
       "<tr>\n",
       "  <th>Covariance Type:</th>      <td>nonrobust</td>    <th>                     </th>     <td> </td>   \n",
       "</tr>\n",
       "</table>\n",
       "<table class=\"simpletable\">\n",
       "<tr>\n",
       "           <td></td>              <th>coef</th>     <th>std err</th>      <th>t</th>      <th>P>|t|</th>  <th>[0.025</th>    <th>0.975]</th>  \n",
       "</tr>\n",
       "<tr>\n",
       "  <th>QUARTER</th>             <td>    7.3199</td> <td>    1.678</td> <td>    4.363</td> <td> 0.000</td> <td>    4.027</td> <td>   10.613</td>\n",
       "</tr>\n",
       "<tr>\n",
       "  <th>MONTH</th>               <td>   -2.0220</td> <td>    0.565</td> <td>   -3.576</td> <td> 0.000</td> <td>   -3.132</td> <td>   -0.912</td>\n",
       "</tr>\n",
       "<tr>\n",
       "  <th>DAY_OF_WEEK</th>         <td>    0.9880</td> <td>    0.221</td> <td>    4.476</td> <td> 0.000</td> <td>    0.555</td> <td>    1.421</td>\n",
       "</tr>\n",
       "<tr>\n",
       "  <th>CRS_DEP_TIME</th>        <td>    9.3315</td> <td>    1.330</td> <td>    7.018</td> <td> 0.000</td> <td>    6.721</td> <td>   11.942</td>\n",
       "</tr>\n",
       "<tr>\n",
       "  <th>TAXI_OUT</th>            <td>   -0.6021</td> <td>    0.044</td> <td>  -13.759</td> <td> 0.000</td> <td>   -0.688</td> <td>   -0.516</td>\n",
       "</tr>\n",
       "<tr>\n",
       "  <th>TAXI_IN</th>             <td>   -0.5787</td> <td>    0.057</td> <td>  -10.127</td> <td> 0.000</td> <td>   -0.691</td> <td>   -0.466</td>\n",
       "</tr>\n",
       "<tr>\n",
       "  <th>CRS_ARR_TIME</th>        <td>    9.0269</td> <td>    1.333</td> <td>    6.774</td> <td> 0.000</td> <td>    6.411</td> <td>   11.643</td>\n",
       "</tr>\n",
       "<tr>\n",
       "  <th>CARRIER_DELAY</th>       <td>    1.0747</td> <td>    0.023</td> <td>   47.003</td> <td> 0.000</td> <td>    1.030</td> <td>    1.120</td>\n",
       "</tr>\n",
       "<tr>\n",
       "  <th>WEATHER_DELAY</th>       <td>    0.9849</td> <td>    0.078</td> <td>   12.551</td> <td> 0.000</td> <td>    0.831</td> <td>    1.139</td>\n",
       "</tr>\n",
       "<tr>\n",
       "  <th>NAS_DELAY</th>           <td>    0.6237</td> <td>    0.027</td> <td>   22.906</td> <td> 0.000</td> <td>    0.570</td> <td>    0.677</td>\n",
       "</tr>\n",
       "<tr>\n",
       "  <th>SECURITY_DELAY</th>      <td>    0.9273</td> <td>    0.232</td> <td>    4.002</td> <td> 0.000</td> <td>    0.472</td> <td>    1.382</td>\n",
       "</tr>\n",
       "<tr>\n",
       "  <th>LATE_AIRCRAFT_DELAY</th> <td>    1.1195</td> <td>    0.021</td> <td>   52.720</td> <td> 0.000</td> <td>    1.078</td> <td>    1.161</td>\n",
       "</tr>\n",
       "</table>\n",
       "<table class=\"simpletable\">\n",
       "<tr>\n",
       "  <th>Omnibus:</th>       <td>299.754</td> <th>  Durbin-Watson:     </th> <td>   1.950</td>\n",
       "</tr>\n",
       "<tr>\n",
       "  <th>Prob(Omnibus):</th> <td> 0.000</td>  <th>  Jarque-Bera (JB):  </th> <td>3035.994</td>\n",
       "</tr>\n",
       "<tr>\n",
       "  <th>Skew:</th>          <td> 1.453</td>  <th>  Prob(JB):          </th> <td>    0.00</td>\n",
       "</tr>\n",
       "<tr>\n",
       "  <th>Kurtosis:</th>      <td>12.257</td>  <th>  Cond. No.          </th> <td>    151.</td>\n",
       "</tr>\n",
       "</table>"
      ],
      "text/plain": [
       "<class 'statsmodels.iolib.summary.Summary'>\n",
       "\"\"\"\n",
       "                            OLS Regression Results                            \n",
       "==============================================================================\n",
       "Dep. Variable:              DEP_DELAY   R-squared:                       0.911\n",
       "Model:                            OLS   Adj. R-squared:                  0.910\n",
       "Method:                 Least Squares   F-statistic:                     653.5\n",
       "Date:                Mon, 09 Apr 2018   Prob (F-statistic):               0.00\n",
       "Time:                        03:24:38   Log-Likelihood:                -3085.4\n",
       "No. Observations:                 774   AIC:                             6195.\n",
       "Df Residuals:                     762   BIC:                             6251.\n",
       "Df Model:                          12                                         \n",
       "Covariance Type:            nonrobust                                         \n",
       "=======================================================================================\n",
       "                          coef    std err          t      P>|t|      [0.025      0.975]\n",
       "---------------------------------------------------------------------------------------\n",
       "QUARTER                 7.3199      1.678      4.363      0.000       4.027      10.613\n",
       "MONTH                  -2.0220      0.565     -3.576      0.000      -3.132      -0.912\n",
       "DAY_OF_WEEK             0.9880      0.221      4.476      0.000       0.555       1.421\n",
       "CRS_DEP_TIME            9.3315      1.330      7.018      0.000       6.721      11.942\n",
       "TAXI_OUT               -0.6021      0.044    -13.759      0.000      -0.688      -0.516\n",
       "TAXI_IN                -0.5787      0.057    -10.127      0.000      -0.691      -0.466\n",
       "CRS_ARR_TIME            9.0269      1.333      6.774      0.000       6.411      11.643\n",
       "CARRIER_DELAY           1.0747      0.023     47.003      0.000       1.030       1.120\n",
       "WEATHER_DELAY           0.9849      0.078     12.551      0.000       0.831       1.139\n",
       "NAS_DELAY               0.6237      0.027     22.906      0.000       0.570       0.677\n",
       "SECURITY_DELAY          0.9273      0.232      4.002      0.000       0.472       1.382\n",
       "LATE_AIRCRAFT_DELAY     1.1195      0.021     52.720      0.000       1.078       1.161\n",
       "==============================================================================\n",
       "Omnibus:                      299.754   Durbin-Watson:                   1.950\n",
       "Prob(Omnibus):                  0.000   Jarque-Bera (JB):             3035.994\n",
       "Skew:                           1.453   Prob(JB):                         0.00\n",
       "Kurtosis:                      12.257   Cond. No.                         151.\n",
       "==============================================================================\n",
       "\n",
       "Warnings:\n",
       "[1] Standard Errors assume that the covariance matrix of the errors is correctly specified.\n",
       "\"\"\""
      ]
     },
     "execution_count": 71,
     "metadata": {},
     "output_type": "execute_result"
    }
   ],
   "source": [
    "departure_delay_from = ['QUARTER', 'MONTH', 'DAY_OF_WEEK', 'CRS_DEP_TIME', 'TAXI_OUT', 'TAXI_IN', 'CRS_ARR_TIME', 'CARRIER_DELAY', 'WEATHER_DELAY', 'NAS_DELAY', 'SECURITY_DELAY', 'LATE_AIRCRAFT_DELAY'] \n",
    "regression_model(departure_delay_from, 'DEP_DELAY').summary()"
   ]
  },
  {
   "cell_type": "code",
   "execution_count": 72,
   "metadata": {},
   "outputs": [
    {
     "name": "stdout",
     "output_type": "stream",
     "text": [
      "[('NAS_DELAY', 'TAXI_IN'), ('TAXI_IN', 'DEP_DELAY'), ('DEP_DELAY', 'NAS_DELAY')]\n"
     ]
    }
   ],
   "source": [
    "flight_edges_df, bn = update_flights_edges_df(departure_delay_from,'DEP_DELAY',flight_edges_df)"
   ]
  },
  {
   "cell_type": "code",
   "execution_count": 73,
   "metadata": {},
   "outputs": [
    {
     "name": "stdout",
     "output_type": "stream",
     "text": [
      "[('TAXI_IN', 'DEP_DELAY'), ('DEP_DELAY', 'LATE_AIRCRAFT_DELAY'), ('LATE_AIRCRAFT_DELAY', 'CARRIER_DELAY'), ('CARRIER_DELAY', 'TAXI_OUT'), ('TAXI_OUT', 'TAXI_IN')]\n"
     ]
    }
   ],
   "source": [
    "flight_edges_df, bn = remove_edge('DEP_DELAY', 'NAS_DELAY', flight_edges_df)"
   ]
  },
  {
   "cell_type": "code",
   "execution_count": 74,
   "metadata": {},
   "outputs": [
    {
     "name": "stdout",
     "output_type": "stream",
     "text": [
      "[('DEP_DELAY', 'LATE_AIRCRAFT_DELAY'), ('LATE_AIRCRAFT_DELAY', 'CARRIER_DELAY'), ('CARRIER_DELAY', 'TAXI_OUT'), ('TAXI_OUT', 'DEP_DELAY')]\n"
     ]
    }
   ],
   "source": [
    "flight_edges_df, bn = remove_edge('TAXI_IN', 'DEP_DELAY', flight_edges_df)"
   ]
  },
  {
   "cell_type": "code",
   "execution_count": 75,
   "metadata": {},
   "outputs": [
    {
     "name": "stdout",
     "output_type": "stream",
     "text": [
      "[('DEP_DELAY', 'CARRIER_DELAY'), ('CARRIER_DELAY', 'TAXI_OUT'), ('TAXI_OUT', 'DEP_DELAY')]\n"
     ]
    }
   ],
   "source": [
    "flight_edges_df, bn = remove_edge('DEP_DELAY', 'LATE_AIRCRAFT_DELAY', flight_edges_df)"
   ]
  },
  {
   "cell_type": "code",
   "execution_count": 76,
   "metadata": {},
   "outputs": [
    {
     "name": "stdout",
     "output_type": "stream",
     "text": [
      "[('NAS_DELAY', 'DEP_DELAY'), ('DEP_DELAY', 'WEATHER_DELAY'), ('WEATHER_DELAY', 'NAS_DELAY')]\n"
     ]
    }
   ],
   "source": [
    "flight_edges_df, bn = remove_edge('DEP_DELAY', 'CARRIER_DELAY', flight_edges_df)"
   ]
  },
  {
   "cell_type": "code",
   "execution_count": 77,
   "metadata": {},
   "outputs": [
    {
     "name": "stdout",
     "output_type": "stream",
     "text": [
      "[('NAS_DELAY', 'DEP_DELAY'), ('DEP_DELAY', 'SECURITY_DELAY'), ('SECURITY_DELAY', 'NAS_DELAY')]\n"
     ]
    }
   ],
   "source": [
    "flight_edges_df, bn = remove_edge('DEP_DELAY', 'WEATHER_DELAY', flight_edges_df)"
   ]
  },
  {
   "cell_type": "code",
   "execution_count": 78,
   "metadata": {},
   "outputs": [
    {
     "name": "stdout",
     "output_type": "stream",
     "text": [
      "[('DEP_DELAY', 'CRS_ARR_TIME'), ('CRS_ARR_TIME', 'LATE_AIRCRAFT_DELAY'), ('LATE_AIRCRAFT_DELAY', 'CARRIER_DELAY'), ('CARRIER_DELAY', 'TAXI_OUT'), ('TAXI_OUT', 'DEP_DELAY')]\n"
     ]
    }
   ],
   "source": [
    "flight_edges_df, bn = remove_edge('DEP_DELAY', 'SECURITY_DELAY', flight_edges_df)"
   ]
  },
  {
   "cell_type": "code",
   "execution_count": 79,
   "metadata": {},
   "outputs": [
    {
     "name": "stdout",
     "output_type": "stream",
     "text": [
      "[('CRS_DEP_TIME', 'NAS_DELAY'), ('NAS_DELAY', 'DEP_DELAY'), ('DEP_DELAY', 'CRS_DEP_TIME')]\n"
     ]
    }
   ],
   "source": [
    "flight_edges_df, bn = remove_edge('DEP_DELAY', 'CRS_ARR_TIME', flight_edges_df)"
   ]
  },
  {
   "cell_type": "code",
   "execution_count": 80,
   "metadata": {},
   "outputs": [
    {
     "name": "stdout",
     "output_type": "stream",
     "text": [
      "[('DEP_DELAY', 'TAXI_OUT'), ('TAXI_OUT', 'DEP_DELAY')]\n"
     ]
    }
   ],
   "source": [
    "flight_edges_df, bn = remove_edge('DEP_DELAY', 'CRS_DEP_TIME', flight_edges_df)"
   ]
  },
  {
   "cell_type": "code",
   "execution_count": 81,
   "metadata": {},
   "outputs": [
    {
     "name": "stdout",
     "output_type": "stream",
     "text": [
      "[('NAS_DELAY', 'DEP_DELAY'), ('DEP_DELAY', 'QUARTER'), ('QUARTER', 'NAS_DELAY')]\n"
     ]
    }
   ],
   "source": [
    "flight_edges_df, bn = remove_edge('TAXI_OUT', 'DEP_DELAY', flight_edges_df)"
   ]
  },
  {
   "cell_type": "code",
   "execution_count": 82,
   "metadata": {},
   "outputs": [
    {
     "name": "stdout",
     "output_type": "stream",
     "text": [
      "No cycle found! You may proceed.\n"
     ]
    }
   ],
   "source": [
    "flight_edges_df, bn = remove_edge('DEP_DELAY', 'QUARTER', flight_edges_df)"
   ]
  },
  {
   "cell_type": "markdown",
   "metadata": {},
   "source": [
    "### DelayedDepartureSFO"
   ]
  },
  {
   "cell_type": "code",
   "execution_count": 83,
   "metadata": {},
   "outputs": [
    {
     "data": {
      "text/html": [
       "<table class=\"simpletable\">\n",
       "<caption>OLS Regression Results</caption>\n",
       "<tr>\n",
       "  <th>Dep. Variable:</th>    <td>DelayedDepartureSFO</td> <th>  R-squared:         </th> <td>   0.277</td>\n",
       "</tr>\n",
       "<tr>\n",
       "  <th>Model:</th>                    <td>OLS</td>         <th>  Adj. R-squared:    </th> <td>   0.272</td>\n",
       "</tr>\n",
       "<tr>\n",
       "  <th>Method:</th>              <td>Least Squares</td>    <th>  F-statistic:       </th> <td>   58.93</td>\n",
       "</tr>\n",
       "<tr>\n",
       "  <th>Date:</th>              <td>Mon, 09 Apr 2018</td>   <th>  Prob (F-statistic):</th> <td>5.72e-52</td>\n",
       "</tr>\n",
       "<tr>\n",
       "  <th>Time:</th>                  <td>03:24:38</td>       <th>  Log-Likelihood:    </th> <td>  23.428</td>\n",
       "</tr>\n",
       "<tr>\n",
       "  <th>No. Observations:</th>       <td>   774</td>        <th>  AIC:               </th> <td>  -36.86</td>\n",
       "</tr>\n",
       "<tr>\n",
       "  <th>Df Residuals:</th>           <td>   769</td>        <th>  BIC:               </th> <td>  -13.60</td>\n",
       "</tr>\n",
       "<tr>\n",
       "  <th>Df Model:</th>               <td>     5</td>        <th>                     </th>     <td> </td>   \n",
       "</tr>\n",
       "<tr>\n",
       "  <th>Covariance Type:</th>       <td>nonrobust</td>      <th>                     </th>     <td> </td>   \n",
       "</tr>\n",
       "</table>\n",
       "<table class=\"simpletable\">\n",
       "<tr>\n",
       "            <td></td>               <th>coef</th>     <th>std err</th>      <th>t</th>      <th>P>|t|</th>  <th>[0.025</th>    <th>0.975]</th>  \n",
       "</tr>\n",
       "<tr>\n",
       "  <th>TAXI_OUT</th>              <td>   -0.0005</td> <td>    0.000</td> <td>   -1.208</td> <td> 0.227</td> <td>   -0.001</td> <td>    0.000</td>\n",
       "</tr>\n",
       "<tr>\n",
       "  <th>TAXI_IN</th>               <td>    0.0016</td> <td>    0.001</td> <td>    1.729</td> <td> 0.084</td> <td>   -0.000</td> <td>    0.003</td>\n",
       "</tr>\n",
       "<tr>\n",
       "  <th>WEATHER_DELAY</th>         <td>    0.0044</td> <td>    0.001</td> <td>    3.131</td> <td> 0.002</td> <td>    0.002</td> <td>    0.007</td>\n",
       "</tr>\n",
       "<tr>\n",
       "  <th>ScheduledDepartureSFO</th> <td>    0.0740</td> <td>    0.006</td> <td>   12.704</td> <td> 0.000</td> <td>    0.063</td> <td>    0.085</td>\n",
       "</tr>\n",
       "<tr>\n",
       "  <th>ScheduledArrivalPHL</th>   <td>    0.0211</td> <td>    0.009</td> <td>    2.352</td> <td> 0.019</td> <td>    0.003</td> <td>    0.039</td>\n",
       "</tr>\n",
       "</table>\n",
       "<table class=\"simpletable\">\n",
       "<tr>\n",
       "  <th>Omnibus:</th>       <td>331.683</td> <th>  Durbin-Watson:     </th> <td>   2.184</td> \n",
       "</tr>\n",
       "<tr>\n",
       "  <th>Prob(Omnibus):</th> <td> 0.000</td>  <th>  Jarque-Bera (JB):  </th> <td>1290.879</td> \n",
       "</tr>\n",
       "<tr>\n",
       "  <th>Skew:</th>          <td> 2.047</td>  <th>  Prob(JB):          </th> <td>4.89e-281</td>\n",
       "</tr>\n",
       "<tr>\n",
       "  <th>Kurtosis:</th>      <td> 7.824</td>  <th>  Cond. No.          </th> <td>    34.0</td> \n",
       "</tr>\n",
       "</table>"
      ],
      "text/plain": [
       "<class 'statsmodels.iolib.summary.Summary'>\n",
       "\"\"\"\n",
       "                             OLS Regression Results                            \n",
       "===============================================================================\n",
       "Dep. Variable:     DelayedDepartureSFO   R-squared:                       0.277\n",
       "Model:                             OLS   Adj. R-squared:                  0.272\n",
       "Method:                  Least Squares   F-statistic:                     58.93\n",
       "Date:                 Mon, 09 Apr 2018   Prob (F-statistic):           5.72e-52\n",
       "Time:                         03:24:38   Log-Likelihood:                 23.428\n",
       "No. Observations:                  774   AIC:                            -36.86\n",
       "Df Residuals:                      769   BIC:                            -13.60\n",
       "Df Model:                            5                                         \n",
       "Covariance Type:             nonrobust                                         \n",
       "=========================================================================================\n",
       "                            coef    std err          t      P>|t|      [0.025      0.975]\n",
       "-----------------------------------------------------------------------------------------\n",
       "TAXI_OUT                 -0.0005      0.000     -1.208      0.227      -0.001       0.000\n",
       "TAXI_IN                   0.0016      0.001      1.729      0.084      -0.000       0.003\n",
       "WEATHER_DELAY             0.0044      0.001      3.131      0.002       0.002       0.007\n",
       "ScheduledDepartureSFO     0.0740      0.006     12.704      0.000       0.063       0.085\n",
       "ScheduledArrivalPHL       0.0211      0.009      2.352      0.019       0.003       0.039\n",
       "==============================================================================\n",
       "Omnibus:                      331.683   Durbin-Watson:                   2.184\n",
       "Prob(Omnibus):                  0.000   Jarque-Bera (JB):             1290.879\n",
       "Skew:                           2.047   Prob(JB):                    4.89e-281\n",
       "Kurtosis:                       7.824   Cond. No.                         34.0\n",
       "==============================================================================\n",
       "\n",
       "Warnings:\n",
       "[1] Standard Errors assume that the covariance matrix of the errors is correctly specified.\n",
       "\"\"\""
      ]
     },
     "execution_count": 83,
     "metadata": {},
     "output_type": "execute_result"
    }
   ],
   "source": [
    "delayed_SFO_from = ['TAXI_OUT', 'TAXI_IN', 'WEATHER_DELAY', 'ScheduledDepartureSFO', 'ScheduledArrivalPHL']\n",
    "regression_model(delayed_SFO_from, 'DelayedDepartureSFO').summary()"
   ]
  },
  {
   "cell_type": "code",
   "execution_count": 84,
   "metadata": {},
   "outputs": [
    {
     "name": "stdout",
     "output_type": "stream",
     "text": [
      "[('NAS_DELAY', 'TAXI_IN'), ('TAXI_IN', 'DelayedDepartureSFO'), ('DelayedDepartureSFO', 'WEATHER_DELAY'), ('WEATHER_DELAY', 'NAS_DELAY')]\n"
     ]
    }
   ],
   "source": [
    "flight_edges_df, bn = update_flights_edges_df(delayed_SFO_from,'DelayedDepartureSFO',flight_edges_df)"
   ]
  },
  {
   "cell_type": "code",
   "execution_count": 85,
   "metadata": {},
   "outputs": [
    {
     "name": "stdout",
     "output_type": "stream",
     "text": [
      "No cycle found! You may proceed.\n"
     ]
    }
   ],
   "source": [
    "flight_edges_df, bn = remove_edge('DelayedDepartureSFO', 'WEATHER_DELAY', flight_edges_df)"
   ]
  },
  {
   "cell_type": "markdown",
   "metadata": {},
   "source": [
    "###   DelayedArrivalPHL"
   ]
  },
  {
   "cell_type": "code",
   "execution_count": 86,
   "metadata": {},
   "outputs": [
    {
     "data": {
      "text/html": [
       "<table class=\"simpletable\">\n",
       "<caption>OLS Regression Results</caption>\n",
       "<tr>\n",
       "  <th>Dep. Variable:</th>    <td>DelayedArrivalPHL</td> <th>  R-squared:         </th> <td>   0.592</td> \n",
       "</tr>\n",
       "<tr>\n",
       "  <th>Model:</th>                   <td>OLS</td>        <th>  Adj. R-squared:    </th> <td>   0.590</td> \n",
       "</tr>\n",
       "<tr>\n",
       "  <th>Method:</th>             <td>Least Squares</td>   <th>  F-statistic:       </th> <td>   279.2</td> \n",
       "</tr>\n",
       "<tr>\n",
       "  <th>Date:</th>             <td>Mon, 09 Apr 2018</td>  <th>  Prob (F-statistic):</th> <td>3.21e-148</td>\n",
       "</tr>\n",
       "<tr>\n",
       "  <th>Time:</th>                 <td>03:24:38</td>      <th>  Log-Likelihood:    </th> <td>  404.94</td> \n",
       "</tr>\n",
       "<tr>\n",
       "  <th>No. Observations:</th>      <td>   774</td>       <th>  AIC:               </th> <td>  -801.9</td> \n",
       "</tr>\n",
       "<tr>\n",
       "  <th>Df Residuals:</th>          <td>   770</td>       <th>  BIC:               </th> <td>  -783.3</td> \n",
       "</tr>\n",
       "<tr>\n",
       "  <th>Df Model:</th>              <td>     4</td>       <th>                     </th>     <td> </td>    \n",
       "</tr>\n",
       "<tr>\n",
       "  <th>Covariance Type:</th>      <td>nonrobust</td>     <th>                     </th>     <td> </td>    \n",
       "</tr>\n",
       "</table>\n",
       "<table class=\"simpletable\">\n",
       "<tr>\n",
       "            <td></td>               <th>coef</th>     <th>std err</th>      <th>t</th>      <th>P>|t|</th>  <th>[0.025</th>    <th>0.975]</th>  \n",
       "</tr>\n",
       "<tr>\n",
       "  <th>TAXI_OUT</th>              <td>   -0.0011</td> <td>    0.000</td> <td>   -5.452</td> <td> 0.000</td> <td>   -0.002</td> <td>   -0.001</td>\n",
       "</tr>\n",
       "<tr>\n",
       "  <th>WEATHER_DELAY</th>         <td>    0.0051</td> <td>    0.001</td> <td>    5.986</td> <td> 0.000</td> <td>    0.003</td> <td>    0.007</td>\n",
       "</tr>\n",
       "<tr>\n",
       "  <th>ScheduledDepartureSFO</th> <td>   -0.0116</td> <td>    0.004</td> <td>   -3.277</td> <td> 0.001</td> <td>   -0.019</td> <td>   -0.005</td>\n",
       "</tr>\n",
       "<tr>\n",
       "  <th>ScheduledArrivalPHL</th>   <td>    0.1714</td> <td>    0.005</td> <td>   31.284</td> <td> 0.000</td> <td>    0.161</td> <td>    0.182</td>\n",
       "</tr>\n",
       "</table>\n",
       "<table class=\"simpletable\">\n",
       "<tr>\n",
       "  <th>Omnibus:</th>       <td>216.764</td> <th>  Durbin-Watson:     </th> <td>   2.052</td>\n",
       "</tr>\n",
       "<tr>\n",
       "  <th>Prob(Omnibus):</th> <td> 0.000</td>  <th>  Jarque-Bera (JB):  </th> <td>1679.280</td>\n",
       "</tr>\n",
       "<tr>\n",
       "  <th>Skew:</th>          <td> 1.040</td>  <th>  Prob(JB):          </th> <td>    0.00</td>\n",
       "</tr>\n",
       "<tr>\n",
       "  <th>Kurtosis:</th>      <td> 9.909</td>  <th>  Cond. No.          </th> <td>    32.9</td>\n",
       "</tr>\n",
       "</table>"
      ],
      "text/plain": [
       "<class 'statsmodels.iolib.summary.Summary'>\n",
       "\"\"\"\n",
       "                            OLS Regression Results                            \n",
       "==============================================================================\n",
       "Dep. Variable:      DelayedArrivalPHL   R-squared:                       0.592\n",
       "Model:                            OLS   Adj. R-squared:                  0.590\n",
       "Method:                 Least Squares   F-statistic:                     279.2\n",
       "Date:                Mon, 09 Apr 2018   Prob (F-statistic):          3.21e-148\n",
       "Time:                        03:24:38   Log-Likelihood:                 404.94\n",
       "No. Observations:                 774   AIC:                            -801.9\n",
       "Df Residuals:                     770   BIC:                            -783.3\n",
       "Df Model:                           4                                         \n",
       "Covariance Type:            nonrobust                                         \n",
       "=========================================================================================\n",
       "                            coef    std err          t      P>|t|      [0.025      0.975]\n",
       "-----------------------------------------------------------------------------------------\n",
       "TAXI_OUT                 -0.0011      0.000     -5.452      0.000      -0.002      -0.001\n",
       "WEATHER_DELAY             0.0051      0.001      5.986      0.000       0.003       0.007\n",
       "ScheduledDepartureSFO    -0.0116      0.004     -3.277      0.001      -0.019      -0.005\n",
       "ScheduledArrivalPHL       0.1714      0.005     31.284      0.000       0.161       0.182\n",
       "==============================================================================\n",
       "Omnibus:                      216.764   Durbin-Watson:                   2.052\n",
       "Prob(Omnibus):                  0.000   Jarque-Bera (JB):             1679.280\n",
       "Skew:                           1.040   Prob(JB):                         0.00\n",
       "Kurtosis:                       9.909   Cond. No.                         32.9\n",
       "==============================================================================\n",
       "\n",
       "Warnings:\n",
       "[1] Standard Errors assume that the covariance matrix of the errors is correctly specified.\n",
       "\"\"\""
      ]
     },
     "execution_count": 86,
     "metadata": {},
     "output_type": "execute_result"
    }
   ],
   "source": [
    "delayed_PHL_from = ['TAXI_OUT', 'WEATHER_DELAY', 'ScheduledDepartureSFO', 'ScheduledArrivalPHL'] \n",
    "regression_model(delayed_PHL_from, 'DelayedArrivalPHL').summary()"
   ]
  },
  {
   "cell_type": "code",
   "execution_count": 87,
   "metadata": {},
   "outputs": [
    {
     "name": "stdout",
     "output_type": "stream",
     "text": [
      "[('NAS_DELAY', 'DEP_DELAY'), ('DEP_DELAY', 'TAXI_OUT'), ('TAXI_OUT', 'DelayedArrivalPHL'), ('DelayedArrivalPHL', 'WEATHER_DELAY'), ('WEATHER_DELAY', 'NAS_DELAY')]\n"
     ]
    }
   ],
   "source": [
    "flight_edges_df, bn = update_flights_edges_df(delayed_PHL_from,'DelayedArrivalPHL',flight_edges_df)"
   ]
  },
  {
   "cell_type": "code",
   "execution_count": 88,
   "metadata": {},
   "outputs": [
    {
     "name": "stdout",
     "output_type": "stream",
     "text": [
      "No cycle found! You may proceed.\n"
     ]
    }
   ],
   "source": [
    "flight_edges_df, bn = remove_edge('DelayedArrivalPHL', 'WEATHER_DELAY', flight_edges_df)"
   ]
  },
  {
   "cell_type": "markdown",
   "metadata": {},
   "source": [
    "### Number of Scheduled Departures from SFO When Delayed Flight is scheduled to Depart"
   ]
  },
  {
   "cell_type": "code",
   "execution_count": 89,
   "metadata": {},
   "outputs": [
    {
     "data": {
      "text/html": [
       "<table class=\"simpletable\">\n",
       "<caption>OLS Regression Results</caption>\n",
       "<tr>\n",
       "  <th>Dep. Variable:</th>    <td>ScheduledDepartureSFO</td> <th>  R-squared:         </th> <td>   0.430</td>\n",
       "</tr>\n",
       "<tr>\n",
       "  <th>Model:</th>                     <td>OLS</td>          <th>  Adj. R-squared:    </th> <td>   0.427</td>\n",
       "</tr>\n",
       "<tr>\n",
       "  <th>Method:</th>               <td>Least Squares</td>     <th>  F-statistic:       </th> <td>   116.2</td>\n",
       "</tr>\n",
       "<tr>\n",
       "  <th>Date:</th>               <td>Mon, 09 Apr 2018</td>    <th>  Prob (F-statistic):</th> <td>1.61e-91</td>\n",
       "</tr>\n",
       "<tr>\n",
       "  <th>Time:</th>                   <td>03:24:38</td>        <th>  Log-Likelihood:    </th> <td> -1307.6</td>\n",
       "</tr>\n",
       "<tr>\n",
       "  <th>No. Observations:</th>        <td>   774</td>         <th>  AIC:               </th> <td>   2625.</td>\n",
       "</tr>\n",
       "<tr>\n",
       "  <th>Df Residuals:</th>            <td>   769</td>         <th>  BIC:               </th> <td>   2648.</td>\n",
       "</tr>\n",
       "<tr>\n",
       "  <th>Df Model:</th>                <td>     5</td>         <th>                     </th>     <td> </td>   \n",
       "</tr>\n",
       "<tr>\n",
       "  <th>Covariance Type:</th>        <td>nonrobust</td>       <th>                     </th>     <td> </td>   \n",
       "</tr>\n",
       "</table>\n",
       "<table class=\"simpletable\">\n",
       "<tr>\n",
       "           <td></td>              <th>coef</th>     <th>std err</th>      <th>t</th>      <th>P>|t|</th>  <th>[0.025</th>    <th>0.975]</th>  \n",
       "</tr>\n",
       "<tr>\n",
       "  <th>MONTH</th>               <td>    0.0576</td> <td>    0.009</td> <td>    6.171</td> <td> 0.000</td> <td>    0.039</td> <td>    0.076</td>\n",
       "</tr>\n",
       "<tr>\n",
       "  <th>CRS_ARR_TIME</th>        <td>    0.1115</td> <td>    0.086</td> <td>    1.301</td> <td> 0.194</td> <td>   -0.057</td> <td>    0.280</td>\n",
       "</tr>\n",
       "<tr>\n",
       "  <th>DelayedDepartureSFO</th> <td>    2.3179</td> <td>    0.181</td> <td>   12.784</td> <td> 0.000</td> <td>    1.962</td> <td>    2.674</td>\n",
       "</tr>\n",
       "<tr>\n",
       "  <th>DelayedArrivalPHL</th>   <td>   -0.9877</td> <td>    0.317</td> <td>   -3.112</td> <td> 0.002</td> <td>   -1.611</td> <td>   -0.365</td>\n",
       "</tr>\n",
       "<tr>\n",
       "  <th>ScheduledArrivalPHL</th> <td>    0.4502</td> <td>    0.072</td> <td>    6.219</td> <td> 0.000</td> <td>    0.308</td> <td>    0.592</td>\n",
       "</tr>\n",
       "</table>\n",
       "<table class=\"simpletable\">\n",
       "<tr>\n",
       "  <th>Omnibus:</th>       <td>216.271</td> <th>  Durbin-Watson:     </th> <td>   2.004</td>\n",
       "</tr>\n",
       "<tr>\n",
       "  <th>Prob(Omnibus):</th> <td> 0.000</td>  <th>  Jarque-Bera (JB):  </th> <td> 430.464</td>\n",
       "</tr>\n",
       "<tr>\n",
       "  <th>Skew:</th>          <td> 1.641</td>  <th>  Prob(JB):          </th> <td>3.36e-94</td>\n",
       "</tr>\n",
       "<tr>\n",
       "  <th>Kurtosis:</th>      <td> 4.605</td>  <th>  Cond. No.          </th> <td>    52.9</td>\n",
       "</tr>\n",
       "</table>"
      ],
      "text/plain": [
       "<class 'statsmodels.iolib.summary.Summary'>\n",
       "\"\"\"\n",
       "                              OLS Regression Results                             \n",
       "=================================================================================\n",
       "Dep. Variable:     ScheduledDepartureSFO   R-squared:                       0.430\n",
       "Model:                               OLS   Adj. R-squared:                  0.427\n",
       "Method:                    Least Squares   F-statistic:                     116.2\n",
       "Date:                   Mon, 09 Apr 2018   Prob (F-statistic):           1.61e-91\n",
       "Time:                           03:24:38   Log-Likelihood:                -1307.6\n",
       "No. Observations:                    774   AIC:                             2625.\n",
       "Df Residuals:                        769   BIC:                             2648.\n",
       "Df Model:                              5                                         \n",
       "Covariance Type:               nonrobust                                         \n",
       "=======================================================================================\n",
       "                          coef    std err          t      P>|t|      [0.025      0.975]\n",
       "---------------------------------------------------------------------------------------\n",
       "MONTH                   0.0576      0.009      6.171      0.000       0.039       0.076\n",
       "CRS_ARR_TIME            0.1115      0.086      1.301      0.194      -0.057       0.280\n",
       "DelayedDepartureSFO     2.3179      0.181     12.784      0.000       1.962       2.674\n",
       "DelayedArrivalPHL      -0.9877      0.317     -3.112      0.002      -1.611      -0.365\n",
       "ScheduledArrivalPHL     0.4502      0.072      6.219      0.000       0.308       0.592\n",
       "==============================================================================\n",
       "Omnibus:                      216.271   Durbin-Watson:                   2.004\n",
       "Prob(Omnibus):                  0.000   Jarque-Bera (JB):              430.464\n",
       "Skew:                           1.641   Prob(JB):                     3.36e-94\n",
       "Kurtosis:                       4.605   Cond. No.                         52.9\n",
       "==============================================================================\n",
       "\n",
       "Warnings:\n",
       "[1] Standard Errors assume that the covariance matrix of the errors is correctly specified.\n",
       "\"\"\""
      ]
     },
     "execution_count": 89,
     "metadata": {},
     "output_type": "execute_result"
    }
   ],
   "source": [
    "scheduled_SFO_from = ['MONTH', 'CRS_ARR_TIME', 'DelayedDepartureSFO', 'DelayedArrivalPHL', 'ScheduledArrivalPHL'] \n",
    "regression_model(scheduled_SFO_from, 'ScheduledDepartureSFO').summary()"
   ]
  },
  {
   "cell_type": "code",
   "execution_count": 90,
   "metadata": {},
   "outputs": [
    {
     "name": "stdout",
     "output_type": "stream",
     "text": [
      "[('DelayedDepartureSFO', 'ScheduledDepartureSFO'), ('ScheduledDepartureSFO', 'DelayedDepartureSFO')]\n"
     ]
    }
   ],
   "source": [
    "flight_edges_df, bn = update_flights_edges_df(scheduled_SFO_from,'ScheduledDepartureSFO',flight_edges_df)"
   ]
  },
  {
   "cell_type": "code",
   "execution_count": 91,
   "metadata": {},
   "outputs": [
    {
     "name": "stdout",
     "output_type": "stream",
     "text": [
      "[('DelayedArrivalPHL', 'ScheduledDepartureSFO'), ('ScheduledDepartureSFO', 'DelayedArrivalPHL')]\n"
     ]
    }
   ],
   "source": [
    "flight_edges_df, bn = remove_edge('DelayedDepartureSFO', 'ScheduledDepartureSFO', flight_edges_df)"
   ]
  },
  {
   "cell_type": "code",
   "execution_count": 92,
   "metadata": {},
   "outputs": [
    {
     "name": "stdout",
     "output_type": "stream",
     "text": [
      "No cycle found! You may proceed.\n"
     ]
    }
   ],
   "source": [
    "flight_edges_df, bn = remove_edge('DelayedArrivalPHL', 'ScheduledDepartureSFO', flight_edges_df)"
   ]
  },
  {
   "cell_type": "markdown",
   "metadata": {},
   "source": [
    "### Number of Scheduled Arrivals at PHL When Delayed Flight is scheduled to Depart"
   ]
  },
  {
   "cell_type": "code",
   "execution_count": 93,
   "metadata": {},
   "outputs": [
    {
     "data": {
      "text/html": [
       "<table class=\"simpletable\">\n",
       "<caption>OLS Regression Results</caption>\n",
       "<tr>\n",
       "  <th>Dep. Variable:</th>    <td>ScheduledArrivalPHL</td> <th>  R-squared:         </th> <td>   0.676</td> \n",
       "</tr>\n",
       "<tr>\n",
       "  <th>Model:</th>                    <td>OLS</td>         <th>  Adj. R-squared:    </th> <td>   0.674</td> \n",
       "</tr>\n",
       "<tr>\n",
       "  <th>Method:</th>              <td>Least Squares</td>    <th>  F-statistic:       </th> <td>   267.1</td> \n",
       "</tr>\n",
       "<tr>\n",
       "  <th>Date:</th>              <td>Mon, 09 Apr 2018</td>   <th>  Prob (F-statistic):</th> <td>3.65e-184</td>\n",
       "</tr>\n",
       "<tr>\n",
       "  <th>Time:</th>                  <td>03:24:38</td>       <th>  Log-Likelihood:    </th> <td> -731.87</td> \n",
       "</tr>\n",
       "<tr>\n",
       "  <th>No. Observations:</th>       <td>   774</td>        <th>  AIC:               </th> <td>   1476.</td> \n",
       "</tr>\n",
       "<tr>\n",
       "  <th>Df Residuals:</th>           <td>   768</td>        <th>  BIC:               </th> <td>   1504.</td> \n",
       "</tr>\n",
       "<tr>\n",
       "  <th>Df Model:</th>               <td>     6</td>        <th>                     </th>     <td> </td>    \n",
       "</tr>\n",
       "<tr>\n",
       "  <th>Covariance Type:</th>       <td>nonrobust</td>      <th>                     </th>     <td> </td>    \n",
       "</tr>\n",
       "</table>\n",
       "<table class=\"simpletable\">\n",
       "<tr>\n",
       "            <td></td>               <th>coef</th>     <th>std err</th>      <th>t</th>      <th>P>|t|</th>  <th>[0.025</th>    <th>0.975]</th>  \n",
       "</tr>\n",
       "<tr>\n",
       "  <th>QUARTER</th>               <td>    0.0349</td> <td>    0.018</td> <td>    1.989</td> <td> 0.047</td> <td>    0.000</td> <td>    0.069</td>\n",
       "</tr>\n",
       "<tr>\n",
       "  <th>TAXI_OUT</th>              <td>    0.0057</td> <td>    0.002</td> <td>    3.470</td> <td> 0.001</td> <td>    0.002</td> <td>    0.009</td>\n",
       "</tr>\n",
       "<tr>\n",
       "  <th>WEATHER_DELAY</th>         <td>   -0.0168</td> <td>    0.004</td> <td>   -4.423</td> <td> 0.000</td> <td>   -0.024</td> <td>   -0.009</td>\n",
       "</tr>\n",
       "<tr>\n",
       "  <th>DelayedDepartureSFO</th>   <td>    0.1734</td> <td>    0.095</td> <td>    1.818</td> <td> 0.070</td> <td>   -0.014</td> <td>    0.361</td>\n",
       "</tr>\n",
       "<tr>\n",
       "  <th>ScheduledDepartureSFO</th> <td>    0.0987</td> <td>    0.017</td> <td>    5.865</td> <td> 0.000</td> <td>    0.066</td> <td>    0.132</td>\n",
       "</tr>\n",
       "<tr>\n",
       "  <th>DelayedArrivalPHL</th>     <td>    3.2303</td> <td>    0.105</td> <td>   30.798</td> <td> 0.000</td> <td>    3.024</td> <td>    3.436</td>\n",
       "</tr>\n",
       "</table>\n",
       "<table class=\"simpletable\">\n",
       "<tr>\n",
       "  <th>Omnibus:</th>       <td>84.981</td> <th>  Durbin-Watson:     </th> <td>   2.058</td>\n",
       "</tr>\n",
       "<tr>\n",
       "  <th>Prob(Omnibus):</th> <td> 0.000</td> <th>  Jarque-Bera (JB):  </th> <td> 203.163</td>\n",
       "</tr>\n",
       "<tr>\n",
       "  <th>Skew:</th>          <td> 0.605</td> <th>  Prob(JB):          </th> <td>7.65e-45</td>\n",
       "</tr>\n",
       "<tr>\n",
       "  <th>Kurtosis:</th>      <td> 5.199</td> <th>  Cond. No.          </th> <td>    143.</td>\n",
       "</tr>\n",
       "</table>"
      ],
      "text/plain": [
       "<class 'statsmodels.iolib.summary.Summary'>\n",
       "\"\"\"\n",
       "                             OLS Regression Results                            \n",
       "===============================================================================\n",
       "Dep. Variable:     ScheduledArrivalPHL   R-squared:                       0.676\n",
       "Model:                             OLS   Adj. R-squared:                  0.674\n",
       "Method:                  Least Squares   F-statistic:                     267.1\n",
       "Date:                 Mon, 09 Apr 2018   Prob (F-statistic):          3.65e-184\n",
       "Time:                         03:24:38   Log-Likelihood:                -731.87\n",
       "No. Observations:                  774   AIC:                             1476.\n",
       "Df Residuals:                      768   BIC:                             1504.\n",
       "Df Model:                            6                                         \n",
       "Covariance Type:             nonrobust                                         \n",
       "=========================================================================================\n",
       "                            coef    std err          t      P>|t|      [0.025      0.975]\n",
       "-----------------------------------------------------------------------------------------\n",
       "QUARTER                   0.0349      0.018      1.989      0.047       0.000       0.069\n",
       "TAXI_OUT                  0.0057      0.002      3.470      0.001       0.002       0.009\n",
       "WEATHER_DELAY            -0.0168      0.004     -4.423      0.000      -0.024      -0.009\n",
       "DelayedDepartureSFO       0.1734      0.095      1.818      0.070      -0.014       0.361\n",
       "ScheduledDepartureSFO     0.0987      0.017      5.865      0.000       0.066       0.132\n",
       "DelayedArrivalPHL         3.2303      0.105     30.798      0.000       3.024       3.436\n",
       "==============================================================================\n",
       "Omnibus:                       84.981   Durbin-Watson:                   2.058\n",
       "Prob(Omnibus):                  0.000   Jarque-Bera (JB):              203.163\n",
       "Skew:                           0.605   Prob(JB):                     7.65e-45\n",
       "Kurtosis:                       5.199   Cond. No.                         143.\n",
       "==============================================================================\n",
       "\n",
       "Warnings:\n",
       "[1] Standard Errors assume that the covariance matrix of the errors is correctly specified.\n",
       "\"\"\""
      ]
     },
     "execution_count": 93,
     "metadata": {},
     "output_type": "execute_result"
    }
   ],
   "source": [
    "scheduled_PHL_from = ['QUARTER', 'TAXI_OUT', 'WEATHER_DELAY', 'DelayedDepartureSFO', 'ScheduledDepartureSFO', 'DelayedArrivalPHL']\n",
    "regression_model(scheduled_PHL_from, 'ScheduledArrivalPHL').summary()"
   ]
  },
  {
   "cell_type": "code",
   "execution_count": 94,
   "metadata": {},
   "outputs": [
    {
     "name": "stdout",
     "output_type": "stream",
     "text": [
      "[('NAS_DELAY', 'TAXI_IN'), ('TAXI_IN', 'DelayedDepartureSFO'), ('DelayedDepartureSFO', 'ScheduledArrivalPHL'), ('ScheduledArrivalPHL', 'WEATHER_DELAY'), ('WEATHER_DELAY', 'NAS_DELAY')]\n"
     ]
    }
   ],
   "source": [
    "flight_edges_df, bn = update_flights_edges_df(scheduled_PHL_from,'ScheduledArrivalPHL',flight_edges_df)"
   ]
  },
  {
   "cell_type": "code",
   "execution_count": 95,
   "metadata": {},
   "outputs": [
    {
     "name": "stdout",
     "output_type": "stream",
     "text": [
      "[('NAS_DELAY', 'DEP_DELAY'), ('DEP_DELAY', 'TAXI_OUT'), ('TAXI_OUT', 'DelayedDepartureSFO'), ('DelayedDepartureSFO', 'ScheduledArrivalPHL'), ('ScheduledArrivalPHL', 'WEATHER_DELAY'), ('WEATHER_DELAY', 'NAS_DELAY')]\n"
     ]
    }
   ],
   "source": [
    "flight_edges_df, bn = remove_edge('TAXI_IN', 'DelayedDepartureSFO', flight_edges_df)"
   ]
  },
  {
   "cell_type": "code",
   "execution_count": 96,
   "metadata": {},
   "outputs": [
    {
     "name": "stdout",
     "output_type": "stream",
     "text": [
      "[('DelayedDepartureSFO', 'ScheduledArrivalPHL'), ('ScheduledArrivalPHL', 'DelayedDepartureSFO')]\n"
     ]
    }
   ],
   "source": [
    "flight_edges_df, bn = remove_edge('ScheduledArrivalPHL', 'WEATHER_DELAY', flight_edges_df)"
   ]
  },
  {
   "cell_type": "code",
   "execution_count": 97,
   "metadata": {},
   "outputs": [
    {
     "name": "stdout",
     "output_type": "stream",
     "text": [
      "[('DelayedArrivalPHL', 'ScheduledArrivalPHL'), ('ScheduledArrivalPHL', 'DelayedArrivalPHL')]\n"
     ]
    }
   ],
   "source": [
    "flight_edges_df, bn = remove_edge('DelayedDepartureSFO', 'ScheduledArrivalPHL', flight_edges_df)"
   ]
  },
  {
   "cell_type": "code",
   "execution_count": 98,
   "metadata": {},
   "outputs": [
    {
     "name": "stdout",
     "output_type": "stream",
     "text": [
      "[('ScheduledArrivalPHL', 'ScheduledDepartureSFO'), ('ScheduledDepartureSFO', 'ScheduledArrivalPHL')]\n"
     ]
    }
   ],
   "source": [
    "flight_edges_df, bn = remove_edge('DelayedArrivalPHL', 'ScheduledArrivalPHL', flight_edges_df)"
   ]
  },
  {
   "cell_type": "code",
   "execution_count": 99,
   "metadata": {},
   "outputs": [
    {
     "name": "stdout",
     "output_type": "stream",
     "text": [
      "No cycle found! You may proceed.\n"
     ]
    }
   ],
   "source": [
    "flight_edges_df, bn = remove_edge('ScheduledArrivalPHL', 'ScheduledDepartureSFO', flight_edges_df)"
   ]
  },
  {
   "cell_type": "code",
   "execution_count": 100,
   "metadata": {},
   "outputs": [
    {
     "data": {
      "image/png": "[encoded data removed]",
      "text/plain": [
       "<matplotlib.figure.Figure at 0x7f471fcefa58>"
      ]
     },
     "metadata": {},
     "output_type": "display_data"
    }
   ],
   "source": [
    "draw_graph(flight_edges_df,'final_bn.png')"
   ]
  },
  {
   "cell_type": "code",
   "execution_count": 101,
   "metadata": {},
   "outputs": [
    {
     "name": "stdout",
     "output_type": "stream",
     "text": [
      "This graph is a DAG : True \n",
      "This edge is a tree : False\n"
     ]
    }
   ],
   "source": [
    "print('This graph is a DAG :', nx.is_directed_acyclic_graph(bn),'\\nThis edge is a tree :', nx.is_tree(bn))"
   ]
  },
  {
   "cell_type": "code",
   "execution_count": 102,
   "metadata": {},
   "outputs": [
    {
     "name": "stdout",
     "output_type": "stream",
     "text": [
      "There are 18 nodes and 83 edges in this graph.\n"
     ]
    }
   ],
   "source": [
    "# nodes\n",
    "nodes_li = list(set(list(flight_edges_df['from_node'])+list(flight_edges_df['to_node'])))\n",
    "nodes_df = pd.DataFrame(nodes_li)\n",
    "nodes_df.columns = ['nodes']\n",
    "flight_edges_df.columns=['Source','Target']\n",
    "# save as csv\n",
    "flight_edges_df.to_csv('edges.csv',index=False)\n",
    "nodes_df.to_csv('nodes.csv',index=False)\n",
    "# numbers to print\n",
    "print('There are', nodes_df.shape[0], 'nodes and', flight_edges_df.shape[0], 'edges in this graph.')"
   ]
  },
  {
   "cell_type": "code",
   "execution_count": null,
   "metadata": {},
   "outputs": [],
   "source": []
  }
 ],
 "metadata": {
  "kernelspec": {
   "display_name": "Python 3",
   "language": "python",
   "name": "python3"
  },
  "language_info": {
   "codemirror_mode": {
    "name": "ipython",
    "version": 3
   },
   "file_extension": ".py",
   "mimetype": "text/x-python",
   "name": "python",
   "nbconvert_exporter": "python",
   "pygments_lexer": "ipython3",
   "version": "3.6.3"
  }
 },
 "nbformat": 4,
 "nbformat_minor": 2
}
