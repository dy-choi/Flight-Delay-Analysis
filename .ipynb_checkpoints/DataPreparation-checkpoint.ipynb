{
 "cells": [
  {
   "cell_type": "markdown",
   "metadata": {},
   "source": [
    "# Preparing the Data : SFO to PHL"
   ]
  },
  {
   "cell_type": "code",
   "execution_count": 1,
   "metadata": {},
   "outputs": [],
   "source": [
    "import pandas as pd\n",
    "import networkx as nx\n",
    "\n",
    "# helper functions\n",
    "import data_cleaner as dc\n",
    "import graph_functions as gf"
   ]
  },
  {
   "cell_type": "markdown",
   "metadata": {},
   "source": [
    "## The Nitty-Gritty: Preparing the Data"
   ]
  },
  {
   "cell_type": "markdown",
   "metadata": {},
   "source": [
    "### Read and Merge"
   ]
  },
  {
   "cell_type": "markdown",
   "metadata": {},
   "source": [
    "We are working with two datasets. The first is provided by the Bureau of Transportation Statistics and contains flight information, including Common Reporting Standard (CRS) arrival and departure times, causes of delay, and time spend taxiing in and out. We will start by reading in twelve months' worth of data and filtering for just the SFO to PHL routes."
   ]
  },
  {
   "cell_type": "code",
   "execution_count": 2,
   "metadata": {},
   "outputs": [],
   "source": [
    "# read data and filter for relevant delayed flights\n",
    "jan_df = dc.filterRoutes(pd.read_csv('./month/jan2017.csv'))\n",
    "feb_df = dc.filterRoutes(pd.read_csv('./month/feb2017.csv'))\n",
    "mar_df = dc.filterRoutes(pd.read_csv('./month/mar2017.csv'))\n",
    "apr_df = dc.filterRoutes(pd.read_csv('./month/apr2017.csv'))\n",
    "may_df = dc.filterRoutes(pd.read_csv('./month/may2017.csv'))\n",
    "jun_df = dc.filterRoutes(pd.read_csv('./month/jun2017.csv'))\n",
    "jul_df = dc.filterRoutes(pd.read_csv('./month/jul2017.csv'))\n",
    "aug_df = dc.filterRoutes(pd.read_csv('./month/aug2017.csv'))\n",
    "sep_df = dc.filterRoutes(pd.read_csv('./month/sep2017.csv'))\n",
    "oct_df = dc.filterRoutes(pd.read_csv('./month/oct2017.csv'))\n",
    "nov_df = dc.filterRoutes(pd.read_csv('./month/nov2017.csv'))\n",
    "dec_df = dc.filterRoutes(pd.read_csv('./month/dec2017.csv'))\n",
    "\n",
    "# concatenate dataframes by quarter\n",
    "flights_df = pd.concat([jan_df, feb_df,mar_df,apr_df, may_df, jun_df, jul_df, aug_df, sep_df, oct_df, nov_df, dec_df])\n",
    "\n",
    "# keep hour information from CRS but not minutes\n",
    "flights_df['CRS_DEP_TIME'] = flights_df['CRS_DEP_TIME'] // 100\n",
    "flights_df['CRS_ARR_TIME'] = flights_df['CRS_ARR_TIME'] // 100\n",
    "\n",
    "# change delay information to binary\n",
    "delay_li = ['CARRIER_DELAY','WEATHER_DELAY','NAS_DELAY','LATE_AIRCRAFT_DELAY']\n",
    "for delay in delay_li:\n",
    "    flights_df = dc.changeDelaytoBinary(flights_df, delay)\n",
    "\n",
    "# for DEP_DELAY, we'd like three variables: -1 (early departure), 0 (regular), 1 (late departure)\n",
    "mask = flights_df['DEP_DELAY'] > 0.0\n",
    "flights_df.loc[mask, 'DEP_DELAY'] = 1\n",
    "\n",
    "mask = flights_df['DEP_DELAY'] < 0.0\n",
    "flights_df.loc[mask,'DEP_DELAY'] = -1\n",
    "\n",
    "# TAXI_IN, TAXI_OUT: in 15-minute increments\n",
    "# 0: less than 15, 1: less than 30, ...\n",
    "flights_df['TAXI_IN'] = flights_df['TAXI_IN'] // 15\n",
    "flights_df['TAXI_OUT'] = flights_df['TAXI_OUT'] // 15"
   ]
  },
  {
   "cell_type": "markdown",
   "metadata": {},
   "source": [
    "Secondly, we will read in the data provided by the Federal Aviation Administration (FAA) on airport situations in SFO and PHL in 2017 in 'ASPM : Airport Analysis : Delayed Flights Report.' After reading in the data, we will merge the two dataframes to create one flights_df dataframe."
   ]
  },
  {
   "cell_type": "code",
   "execution_count": 3,
   "metadata": {},
   "outputs": [],
   "source": [
    "airports_df = pd.read_csv('./faa-aspm/airports.csv').dropna(axis=0,how='all')\n",
    "\n",
    "# split Date into MONTH and DAY\n",
    "airports_df['Facility'] = airports_df['Facility'].str.strip()\n",
    "airports_df = dc.dateColumns(airports_df)\n",
    "airports_df = airports_df.drop(['Date','% DelayedGateDepartures','% DelayedGateArrivals','Date'],axis=1)\n",
    "airports_df = airports_df.drop(['DeparturesFor MetricComputation','ArrivalsFor MetricComputation','AverageMinutesOf DelayPer DelayedGateDeparture','AverageMinutesOf DelayPer DelayedGateArrival'],axis=1)\n",
    "\n",
    "# find departure and arrival informations at airport at time of departure/arrival\n",
    "# SFO (departure)\n",
    "flights_SFO_df = pd.merge(flights_df, airports_df, how='inner', left_on=['MONTH','DAY_OF_MONTH','CRS_DEP_TIME'], right_on=['MONTH','DAY','Hour'])\n",
    "flights_SFO_df = flights_SFO_df[flights_SFO_df['Facility'] == 'SFO']\n",
    "# PHL (arrival)\n",
    "flights_PHL_df = pd.merge(flights_df, airports_df, how='inner', left_on=['MONTH','DAY_OF_MONTH','CRS_DEP_TIME'], right_on=['MONTH','DAY','Hour'])\n",
    "flights_PHL_df = flights_PHL_df[flights_PHL_df['Facility'] == 'PHL']\n",
    "# set departure/arrival information as fields of flights_df in intervals of 10\n",
    "flights_df['DelayedDepartureSFO'] = flights_PHL_df['DelayedGateDepartures'] // 10\n",
    "flights_df['ScheduledDepartureSFO'] = flights_PHL_df['ScheduledDepartures'] // 10\n",
    "flights_df['DelayedArrivalPHL'] = flights_PHL_df['DelayedGateArrivals'] // 10\n",
    "flights_df['ScheduledArrivalPHL'] = flights_PHL_df['ScheduledArrivals'] // 10\n",
    "flights_df.fillna(0,inplace=True)\n",
    "flights_df = flights_df.reset_index()\n",
    "flights_df = flights_df.drop(['index'],axis=1)\n",
    "\n",
    "# change all times to binary variable AM (0) or PM (1)\n",
    "CRS_time_li = ['CRS_DEP_TIME', 'CRS_ARR_TIME']\n",
    "for CRS_time in CRS_time_li:\n",
    "    flights_df = dc.changeTimetoBinary(flights_df, CRS_time)"
   ]
  },
  {
   "cell_type": "markdown",
   "metadata": {},
   "source": [
    "We no longer need information about DAY_OF_MONTH, so we will drop that column. The compiled data is as below. Due to the length of each field name, we transpose the dataframe for readability."
   ]
  },
  {
   "cell_type": "code",
   "execution_count": 4,
   "metadata": {},
   "outputs": [
    {
     "data": {
      "text/html": [
       "<div>\n",
       "<table border=\"1\" class=\"dataframe\">\n",
       "  <thead>\n",
       "    <tr style=\"text-align: right;\">\n",
       "      <th></th>\n",
       "      <th>0</th>\n",
       "      <th>1</th>\n",
       "      <th>2</th>\n",
       "      <th>3</th>\n",
       "      <th>4</th>\n",
       "      <th>5</th>\n",
       "      <th>6</th>\n",
       "      <th>7</th>\n",
       "      <th>8</th>\n",
       "      <th>9</th>\n",
       "      <th>...</th>\n",
       "      <th>958</th>\n",
       "      <th>959</th>\n",
       "      <th>960</th>\n",
       "      <th>961</th>\n",
       "      <th>962</th>\n",
       "      <th>963</th>\n",
       "      <th>964</th>\n",
       "      <th>965</th>\n",
       "      <th>966</th>\n",
       "      <th>967</th>\n",
       "    </tr>\n",
       "  </thead>\n",
       "  <tbody>\n",
       "    <tr>\n",
       "      <th>MONTH</th>\n",
       "      <td>1.0</td>\n",
       "      <td>1.0</td>\n",
       "      <td>1.0</td>\n",
       "      <td>1.0</td>\n",
       "      <td>1.0</td>\n",
       "      <td>1.0</td>\n",
       "      <td>1.0</td>\n",
       "      <td>1.0</td>\n",
       "      <td>1.0</td>\n",
       "      <td>1.0</td>\n",
       "      <td>...</td>\n",
       "      <td>12.0</td>\n",
       "      <td>12.0</td>\n",
       "      <td>12.0</td>\n",
       "      <td>12.0</td>\n",
       "      <td>12.0</td>\n",
       "      <td>12.0</td>\n",
       "      <td>12.0</td>\n",
       "      <td>12.0</td>\n",
       "      <td>12.0</td>\n",
       "      <td>12.0</td>\n",
       "    </tr>\n",
       "    <tr>\n",
       "      <th>DAY_OF_WEEK</th>\n",
       "      <td>3.0</td>\n",
       "      <td>6.0</td>\n",
       "      <td>4.0</td>\n",
       "      <td>6.0</td>\n",
       "      <td>7.0</td>\n",
       "      <td>1.0</td>\n",
       "      <td>2.0</td>\n",
       "      <td>4.0</td>\n",
       "      <td>5.0</td>\n",
       "      <td>4.0</td>\n",
       "      <td>...</td>\n",
       "      <td>4.0</td>\n",
       "      <td>4.0</td>\n",
       "      <td>3.0</td>\n",
       "      <td>2.0</td>\n",
       "      <td>1.0</td>\n",
       "      <td>2.0</td>\n",
       "      <td>1.0</td>\n",
       "      <td>7.0</td>\n",
       "      <td>5.0</td>\n",
       "      <td>4.0</td>\n",
       "    </tr>\n",
       "    <tr>\n",
       "      <th>CRS_DEP_TIME</th>\n",
       "      <td>1.0</td>\n",
       "      <td>1.0</td>\n",
       "      <td>1.0</td>\n",
       "      <td>1.0</td>\n",
       "      <td>1.0</td>\n",
       "      <td>1.0</td>\n",
       "      <td>1.0</td>\n",
       "      <td>1.0</td>\n",
       "      <td>1.0</td>\n",
       "      <td>1.0</td>\n",
       "      <td>...</td>\n",
       "      <td>1.0</td>\n",
       "      <td>0.0</td>\n",
       "      <td>0.0</td>\n",
       "      <td>0.0</td>\n",
       "      <td>0.0</td>\n",
       "      <td>0.0</td>\n",
       "      <td>1.0</td>\n",
       "      <td>1.0</td>\n",
       "      <td>0.0</td>\n",
       "      <td>1.0</td>\n",
       "    </tr>\n",
       "    <tr>\n",
       "      <th>DEP_DELAY</th>\n",
       "      <td>1.0</td>\n",
       "      <td>1.0</td>\n",
       "      <td>1.0</td>\n",
       "      <td>1.0</td>\n",
       "      <td>-1.0</td>\n",
       "      <td>0.0</td>\n",
       "      <td>-1.0</td>\n",
       "      <td>1.0</td>\n",
       "      <td>1.0</td>\n",
       "      <td>1.0</td>\n",
       "      <td>...</td>\n",
       "      <td>1.0</td>\n",
       "      <td>1.0</td>\n",
       "      <td>-1.0</td>\n",
       "      <td>-1.0</td>\n",
       "      <td>1.0</td>\n",
       "      <td>1.0</td>\n",
       "      <td>-1.0</td>\n",
       "      <td>0.0</td>\n",
       "      <td>1.0</td>\n",
       "      <td>0.0</td>\n",
       "    </tr>\n",
       "    <tr>\n",
       "      <th>TAXI_OUT</th>\n",
       "      <td>1.0</td>\n",
       "      <td>0.0</td>\n",
       "      <td>1.0</td>\n",
       "      <td>1.0</td>\n",
       "      <td>1.0</td>\n",
       "      <td>1.0</td>\n",
       "      <td>1.0</td>\n",
       "      <td>1.0</td>\n",
       "      <td>1.0</td>\n",
       "      <td>2.0</td>\n",
       "      <td>...</td>\n",
       "      <td>1.0</td>\n",
       "      <td>1.0</td>\n",
       "      <td>2.0</td>\n",
       "      <td>2.0</td>\n",
       "      <td>3.0</td>\n",
       "      <td>1.0</td>\n",
       "      <td>1.0</td>\n",
       "      <td>1.0</td>\n",
       "      <td>1.0</td>\n",
       "      <td>1.0</td>\n",
       "    </tr>\n",
       "    <tr>\n",
       "      <th>TAXI_IN</th>\n",
       "      <td>0.0</td>\n",
       "      <td>0.0</td>\n",
       "      <td>0.0</td>\n",
       "      <td>0.0</td>\n",
       "      <td>0.0</td>\n",
       "      <td>0.0</td>\n",
       "      <td>0.0</td>\n",
       "      <td>0.0</td>\n",
       "      <td>0.0</td>\n",
       "      <td>0.0</td>\n",
       "      <td>...</td>\n",
       "      <td>0.0</td>\n",
       "      <td>0.0</td>\n",
       "      <td>0.0</td>\n",
       "      <td>0.0</td>\n",
       "      <td>0.0</td>\n",
       "      <td>0.0</td>\n",
       "      <td>0.0</td>\n",
       "      <td>0.0</td>\n",
       "      <td>0.0</td>\n",
       "      <td>0.0</td>\n",
       "    </tr>\n",
       "    <tr>\n",
       "      <th>CRS_ARR_TIME</th>\n",
       "      <td>0.0</td>\n",
       "      <td>0.0</td>\n",
       "      <td>0.0</td>\n",
       "      <td>0.0</td>\n",
       "      <td>0.0</td>\n",
       "      <td>0.0</td>\n",
       "      <td>0.0</td>\n",
       "      <td>0.0</td>\n",
       "      <td>0.0</td>\n",
       "      <td>0.0</td>\n",
       "      <td>...</td>\n",
       "      <td>0.0</td>\n",
       "      <td>1.0</td>\n",
       "      <td>1.0</td>\n",
       "      <td>1.0</td>\n",
       "      <td>1.0</td>\n",
       "      <td>1.0</td>\n",
       "      <td>0.0</td>\n",
       "      <td>0.0</td>\n",
       "      <td>1.0</td>\n",
       "      <td>0.0</td>\n",
       "    </tr>\n",
       "    <tr>\n",
       "      <th>ARR_DEL15</th>\n",
       "      <td>0.0</td>\n",
       "      <td>1.0</td>\n",
       "      <td>0.0</td>\n",
       "      <td>0.0</td>\n",
       "      <td>1.0</td>\n",
       "      <td>0.0</td>\n",
       "      <td>0.0</td>\n",
       "      <td>1.0</td>\n",
       "      <td>0.0</td>\n",
       "      <td>1.0</td>\n",
       "      <td>...</td>\n",
       "      <td>1.0</td>\n",
       "      <td>1.0</td>\n",
       "      <td>1.0</td>\n",
       "      <td>0.0</td>\n",
       "      <td>1.0</td>\n",
       "      <td>0.0</td>\n",
       "      <td>0.0</td>\n",
       "      <td>0.0</td>\n",
       "      <td>1.0</td>\n",
       "      <td>1.0</td>\n",
       "    </tr>\n",
       "    <tr>\n",
       "      <th>CARRIER_DELAY</th>\n",
       "      <td>0.0</td>\n",
       "      <td>1.0</td>\n",
       "      <td>0.0</td>\n",
       "      <td>0.0</td>\n",
       "      <td>0.0</td>\n",
       "      <td>0.0</td>\n",
       "      <td>0.0</td>\n",
       "      <td>1.0</td>\n",
       "      <td>0.0</td>\n",
       "      <td>1.0</td>\n",
       "      <td>...</td>\n",
       "      <td>1.0</td>\n",
       "      <td>1.0</td>\n",
       "      <td>0.0</td>\n",
       "      <td>0.0</td>\n",
       "      <td>1.0</td>\n",
       "      <td>0.0</td>\n",
       "      <td>0.0</td>\n",
       "      <td>0.0</td>\n",
       "      <td>1.0</td>\n",
       "      <td>0.0</td>\n",
       "    </tr>\n",
       "    <tr>\n",
       "      <th>WEATHER_DELAY</th>\n",
       "      <td>0.0</td>\n",
       "      <td>0.0</td>\n",
       "      <td>0.0</td>\n",
       "      <td>0.0</td>\n",
       "      <td>0.0</td>\n",
       "      <td>0.0</td>\n",
       "      <td>0.0</td>\n",
       "      <td>0.0</td>\n",
       "      <td>0.0</td>\n",
       "      <td>0.0</td>\n",
       "      <td>...</td>\n",
       "      <td>0.0</td>\n",
       "      <td>0.0</td>\n",
       "      <td>0.0</td>\n",
       "      <td>0.0</td>\n",
       "      <td>0.0</td>\n",
       "      <td>0.0</td>\n",
       "      <td>0.0</td>\n",
       "      <td>0.0</td>\n",
       "      <td>0.0</td>\n",
       "      <td>0.0</td>\n",
       "    </tr>\n",
       "    <tr>\n",
       "      <th>NAS_DELAY</th>\n",
       "      <td>0.0</td>\n",
       "      <td>0.0</td>\n",
       "      <td>0.0</td>\n",
       "      <td>0.0</td>\n",
       "      <td>1.0</td>\n",
       "      <td>0.0</td>\n",
       "      <td>0.0</td>\n",
       "      <td>1.0</td>\n",
       "      <td>0.0</td>\n",
       "      <td>1.0</td>\n",
       "      <td>...</td>\n",
       "      <td>0.0</td>\n",
       "      <td>0.0</td>\n",
       "      <td>1.0</td>\n",
       "      <td>0.0</td>\n",
       "      <td>1.0</td>\n",
       "      <td>0.0</td>\n",
       "      <td>0.0</td>\n",
       "      <td>0.0</td>\n",
       "      <td>1.0</td>\n",
       "      <td>1.0</td>\n",
       "    </tr>\n",
       "    <tr>\n",
       "      <th>LATE_AIRCRAFT_DELAY</th>\n",
       "      <td>0.0</td>\n",
       "      <td>1.0</td>\n",
       "      <td>0.0</td>\n",
       "      <td>0.0</td>\n",
       "      <td>0.0</td>\n",
       "      <td>0.0</td>\n",
       "      <td>0.0</td>\n",
       "      <td>1.0</td>\n",
       "      <td>0.0</td>\n",
       "      <td>0.0</td>\n",
       "      <td>...</td>\n",
       "      <td>1.0</td>\n",
       "      <td>0.0</td>\n",
       "      <td>0.0</td>\n",
       "      <td>0.0</td>\n",
       "      <td>0.0</td>\n",
       "      <td>0.0</td>\n",
       "      <td>0.0</td>\n",
       "      <td>0.0</td>\n",
       "      <td>0.0</td>\n",
       "      <td>0.0</td>\n",
       "    </tr>\n",
       "    <tr>\n",
       "      <th>DelayedDepartureSFO</th>\n",
       "      <td>0.0</td>\n",
       "      <td>0.0</td>\n",
       "      <td>0.0</td>\n",
       "      <td>0.0</td>\n",
       "      <td>0.0</td>\n",
       "      <td>0.0</td>\n",
       "      <td>0.0</td>\n",
       "      <td>0.0</td>\n",
       "      <td>0.0</td>\n",
       "      <td>0.0</td>\n",
       "      <td>...</td>\n",
       "      <td>0.0</td>\n",
       "      <td>1.0</td>\n",
       "      <td>0.0</td>\n",
       "      <td>1.0</td>\n",
       "      <td>0.0</td>\n",
       "      <td>0.0</td>\n",
       "      <td>0.0</td>\n",
       "      <td>1.0</td>\n",
       "      <td>0.0</td>\n",
       "      <td>1.0</td>\n",
       "    </tr>\n",
       "    <tr>\n",
       "      <th>ScheduledDepartureSFO</th>\n",
       "      <td>0.0</td>\n",
       "      <td>0.0</td>\n",
       "      <td>0.0</td>\n",
       "      <td>0.0</td>\n",
       "      <td>0.0</td>\n",
       "      <td>0.0</td>\n",
       "      <td>0.0</td>\n",
       "      <td>0.0</td>\n",
       "      <td>0.0</td>\n",
       "      <td>0.0</td>\n",
       "      <td>...</td>\n",
       "      <td>0.0</td>\n",
       "      <td>3.0</td>\n",
       "      <td>0.0</td>\n",
       "      <td>3.0</td>\n",
       "      <td>0.0</td>\n",
       "      <td>3.0</td>\n",
       "      <td>0.0</td>\n",
       "      <td>2.0</td>\n",
       "      <td>0.0</td>\n",
       "      <td>2.0</td>\n",
       "    </tr>\n",
       "    <tr>\n",
       "      <th>DelayedArrivalPHL</th>\n",
       "      <td>0.0</td>\n",
       "      <td>0.0</td>\n",
       "      <td>0.0</td>\n",
       "      <td>0.0</td>\n",
       "      <td>0.0</td>\n",
       "      <td>0.0</td>\n",
       "      <td>0.0</td>\n",
       "      <td>0.0</td>\n",
       "      <td>0.0</td>\n",
       "      <td>0.0</td>\n",
       "      <td>...</td>\n",
       "      <td>0.0</td>\n",
       "      <td>0.0</td>\n",
       "      <td>0.0</td>\n",
       "      <td>0.0</td>\n",
       "      <td>0.0</td>\n",
       "      <td>0.0</td>\n",
       "      <td>0.0</td>\n",
       "      <td>0.0</td>\n",
       "      <td>0.0</td>\n",
       "      <td>0.0</td>\n",
       "    </tr>\n",
       "    <tr>\n",
       "      <th>ScheduledArrivalPHL</th>\n",
       "      <td>1.0</td>\n",
       "      <td>0.0</td>\n",
       "      <td>1.0</td>\n",
       "      <td>0.0</td>\n",
       "      <td>1.0</td>\n",
       "      <td>0.0</td>\n",
       "      <td>1.0</td>\n",
       "      <td>0.0</td>\n",
       "      <td>1.0</td>\n",
       "      <td>0.0</td>\n",
       "      <td>...</td>\n",
       "      <td>0.0</td>\n",
       "      <td>2.0</td>\n",
       "      <td>0.0</td>\n",
       "      <td>2.0</td>\n",
       "      <td>0.0</td>\n",
       "      <td>2.0</td>\n",
       "      <td>0.0</td>\n",
       "      <td>2.0</td>\n",
       "      <td>0.0</td>\n",
       "      <td>3.0</td>\n",
       "    </tr>\n",
       "  </tbody>\n",
       "</table>\n",
       "<p>16 rows × 968 columns</p>\n",
       "</div>"
      ],
      "text/plain": [
       "                       0    1    2    3    4    5    6    7    8    9    ...   \\\n",
       "MONTH                  1.0  1.0  1.0  1.0  1.0  1.0  1.0  1.0  1.0  1.0  ...    \n",
       "DAY_OF_WEEK            3.0  6.0  4.0  6.0  7.0  1.0  2.0  4.0  5.0  4.0  ...    \n",
       "CRS_DEP_TIME           1.0  1.0  1.0  1.0  1.0  1.0  1.0  1.0  1.0  1.0  ...    \n",
       "DEP_DELAY              1.0  1.0  1.0  1.0 -1.0  0.0 -1.0  1.0  1.0  1.0  ...    \n",
       "TAXI_OUT               1.0  0.0  1.0  1.0  1.0  1.0  1.0  1.0  1.0  2.0  ...    \n",
       "TAXI_IN                0.0  0.0  0.0  0.0  0.0  0.0  0.0  0.0  0.0  0.0  ...    \n",
       "CRS_ARR_TIME           0.0  0.0  0.0  0.0  0.0  0.0  0.0  0.0  0.0  0.0  ...    \n",
       "ARR_DEL15              0.0  1.0  0.0  0.0  1.0  0.0  0.0  1.0  0.0  1.0  ...    \n",
       "CARRIER_DELAY          0.0  1.0  0.0  0.0  0.0  0.0  0.0  1.0  0.0  1.0  ...    \n",
       "WEATHER_DELAY          0.0  0.0  0.0  0.0  0.0  0.0  0.0  0.0  0.0  0.0  ...    \n",
       "NAS_DELAY              0.0  0.0  0.0  0.0  1.0  0.0  0.0  1.0  0.0  1.0  ...    \n",
       "LATE_AIRCRAFT_DELAY    0.0  1.0  0.0  0.0  0.0  0.0  0.0  1.0  0.0  0.0  ...    \n",
       "DelayedDepartureSFO    0.0  0.0  0.0  0.0  0.0  0.0  0.0  0.0  0.0  0.0  ...    \n",
       "ScheduledDepartureSFO  0.0  0.0  0.0  0.0  0.0  0.0  0.0  0.0  0.0  0.0  ...    \n",
       "DelayedArrivalPHL      0.0  0.0  0.0  0.0  0.0  0.0  0.0  0.0  0.0  0.0  ...    \n",
       "ScheduledArrivalPHL    1.0  0.0  1.0  0.0  1.0  0.0  1.0  0.0  1.0  0.0  ...    \n",
       "\n",
       "                        958   959   960   961   962   963   964   965   966  \\\n",
       "MONTH                  12.0  12.0  12.0  12.0  12.0  12.0  12.0  12.0  12.0   \n",
       "DAY_OF_WEEK             4.0   4.0   3.0   2.0   1.0   2.0   1.0   7.0   5.0   \n",
       "CRS_DEP_TIME            1.0   0.0   0.0   0.0   0.0   0.0   1.0   1.0   0.0   \n",
       "DEP_DELAY               1.0   1.0  -1.0  -1.0   1.0   1.0  -1.0   0.0   1.0   \n",
       "TAXI_OUT                1.0   1.0   2.0   2.0   3.0   1.0   1.0   1.0   1.0   \n",
       "TAXI_IN                 0.0   0.0   0.0   0.0   0.0   0.0   0.0   0.0   0.0   \n",
       "CRS_ARR_TIME            0.0   1.0   1.0   1.0   1.0   1.0   0.0   0.0   1.0   \n",
       "ARR_DEL15               1.0   1.0   1.0   0.0   1.0   0.0   0.0   0.0   1.0   \n",
       "CARRIER_DELAY           1.0   1.0   0.0   0.0   1.0   0.0   0.0   0.0   1.0   \n",
       "WEATHER_DELAY           0.0   0.0   0.0   0.0   0.0   0.0   0.0   0.0   0.0   \n",
       "NAS_DELAY               0.0   0.0   1.0   0.0   1.0   0.0   0.0   0.0   1.0   \n",
       "LATE_AIRCRAFT_DELAY     1.0   0.0   0.0   0.0   0.0   0.0   0.0   0.0   0.0   \n",
       "DelayedDepartureSFO     0.0   1.0   0.0   1.0   0.0   0.0   0.0   1.0   0.0   \n",
       "ScheduledDepartureSFO   0.0   3.0   0.0   3.0   0.0   3.0   0.0   2.0   0.0   \n",
       "DelayedArrivalPHL       0.0   0.0   0.0   0.0   0.0   0.0   0.0   0.0   0.0   \n",
       "ScheduledArrivalPHL     0.0   2.0   0.0   2.0   0.0   2.0   0.0   2.0   0.0   \n",
       "\n",
       "                        967  \n",
       "MONTH                  12.0  \n",
       "DAY_OF_WEEK             4.0  \n",
       "CRS_DEP_TIME            1.0  \n",
       "DEP_DELAY               0.0  \n",
       "TAXI_OUT                1.0  \n",
       "TAXI_IN                 0.0  \n",
       "CRS_ARR_TIME            0.0  \n",
       "ARR_DEL15               1.0  \n",
       "CARRIER_DELAY           0.0  \n",
       "WEATHER_DELAY           0.0  \n",
       "NAS_DELAY               1.0  \n",
       "LATE_AIRCRAFT_DELAY     0.0  \n",
       "DelayedDepartureSFO     1.0  \n",
       "ScheduledDepartureSFO   2.0  \n",
       "DelayedArrivalPHL       0.0  \n",
       "ScheduledArrivalPHL     3.0  \n",
       "\n",
       "[16 rows x 968 columns]"
      ]
     },
     "execution_count": 4,
     "metadata": {},
     "output_type": "execute_result"
    }
   ],
   "source": [
    "flights_df = flights_df.drop(['DAY_OF_MONTH'],axis=1)\n",
    "flights_df = flights_df.astype('int')\n",
    "# save as CSV\n",
    "flights_df.to_csv('full_data.csv',index=False)\n",
    "flights_df.transpose()"
   ]
  },
  {
   "cell_type": "markdown",
   "metadata": {},
   "source": [
    "Let the five delay causes (CARRIER_DELAY, WEATHER_DELAY, NAS_DELAY, SECURITY_DELAY, LATE_AIRCRAFT_DELAY) and the variable we are looking to explain (ARR_DEL15) be nodes. We must perform regression analysis to determine dependency relationships."
   ]
  },
  {
   "cell_type": "code",
   "execution_count": 5,
   "metadata": {},
   "outputs": [],
   "source": [
    "# 20% test data\n",
    "from sklearn.model_selection import train_test_split\n",
    "# 774 train data, 194 test data\n",
    "train_df,test_df = train_test_split(flights_df, test_size=0.2)\n",
    "# save as CSV\n",
    "train_df.to_csv('train_data.csv',index=False)\n",
    "test_df.to_csv('test_data.csv',index=False)"
   ]
  },
  {
   "cell_type": "markdown",
   "metadata": {},
   "source": [
    "## Finding Dependencies: Regression Analysis"
   ]
  },
  {
   "cell_type": "markdown",
   "metadata": {},
   "source": [
    "We use the Ordinary Least Squares (OLS) method to find dependencies, starting with what we know to be the final outcome: ARR_DEL15 (which is 0 if the flight does not arrive more than 15 minutes late, 1 otherwise). As we find dependencies, we will also be making sure that we are not creating any accidental cycles."
   ]
  },
  {
   "cell_type": "code",
   "execution_count": 6,
   "metadata": {},
   "outputs": [],
   "source": [
    "bn = nx.DiGraph()\n",
    "flight_edges_df = pd.DataFrame(columns=['from_node', 'to_node'])"
   ]
  },
  {
   "cell_type": "markdown",
   "metadata": {},
   "source": [
    "### ARR_DEL15"
   ]
  },
  {
   "cell_type": "code",
   "execution_count": 7,
   "metadata": {},
   "outputs": [
    {
     "data": {
      "text/html": [
       "<table class=\"simpletable\">\n",
       "<caption>OLS Regression Results</caption>\n",
       "<tr>\n",
       "  <th>Dep. Variable:</th>        <td>ARR_DEL15</td>    <th>  R-squared:         </th> <td>   0.891</td>\n",
       "</tr>\n",
       "<tr>\n",
       "  <th>Model:</th>                   <td>OLS</td>       <th>  Adj. R-squared:    </th> <td>   0.890</td>\n",
       "</tr>\n",
       "<tr>\n",
       "  <th>Method:</th>             <td>Least Squares</td>  <th>  F-statistic:       </th> <td>   895.0</td>\n",
       "</tr>\n",
       "<tr>\n",
       "  <th>Date:</th>             <td>Tue, 10 Apr 2018</td> <th>  Prob (F-statistic):</th>  <td>  0.00</td> \n",
       "</tr>\n",
       "<tr>\n",
       "  <th>Time:</th>                 <td>22:03:24</td>     <th>  Log-Likelihood:    </th> <td>  5.1342</td>\n",
       "</tr>\n",
       "<tr>\n",
       "  <th>No. Observations:</th>      <td>   774</td>      <th>  AIC:               </th> <td>   3.732</td>\n",
       "</tr>\n",
       "<tr>\n",
       "  <th>Df Residuals:</th>          <td>   767</td>      <th>  BIC:               </th> <td>   36.29</td>\n",
       "</tr>\n",
       "<tr>\n",
       "  <th>Df Model:</th>              <td>     7</td>      <th>                     </th>     <td> </td>   \n",
       "</tr>\n",
       "<tr>\n",
       "  <th>Covariance Type:</th>      <td>nonrobust</td>    <th>                     </th>     <td> </td>   \n",
       "</tr>\n",
       "</table>\n",
       "<table class=\"simpletable\">\n",
       "<tr>\n",
       "            <td></td>               <th>coef</th>     <th>std err</th>      <th>t</th>      <th>P>|t|</th>  <th>[0.025</th>    <th>0.975]</th>  \n",
       "</tr>\n",
       "<tr>\n",
       "  <th>CRS_DEP_TIME</th>          <td>    0.0950</td> <td>    0.016</td> <td>    5.786</td> <td> 0.000</td> <td>    0.063</td> <td>    0.127</td>\n",
       "</tr>\n",
       "<tr>\n",
       "  <th>CRS_ARR_TIME</th>          <td>    0.1065</td> <td>    0.014</td> <td>    7.801</td> <td> 0.000</td> <td>    0.080</td> <td>    0.133</td>\n",
       "</tr>\n",
       "<tr>\n",
       "  <th>CARRIER_DELAY</th>         <td>    0.4192</td> <td>    0.021</td> <td>   19.812</td> <td> 0.000</td> <td>    0.378</td> <td>    0.461</td>\n",
       "</tr>\n",
       "<tr>\n",
       "  <th>NAS_DELAY</th>             <td>    0.6461</td> <td>    0.018</td> <td>   35.715</td> <td> 0.000</td> <td>    0.611</td> <td>    0.682</td>\n",
       "</tr>\n",
       "<tr>\n",
       "  <th>LATE_AIRCRAFT_DELAY</th>   <td>    0.3715</td> <td>    0.023</td> <td>   16.255</td> <td> 0.000</td> <td>    0.327</td> <td>    0.416</td>\n",
       "</tr>\n",
       "<tr>\n",
       "  <th>DelayedDepartureSFO</th>   <td>    0.0978</td> <td>    0.036</td> <td>    2.717</td> <td> 0.007</td> <td>    0.027</td> <td>    0.169</td>\n",
       "</tr>\n",
       "<tr>\n",
       "  <th>ScheduledDepartureSFO</th> <td>   -0.0088</td> <td>    0.007</td> <td>   -1.340</td> <td> 0.181</td> <td>   -0.022</td> <td>    0.004</td>\n",
       "</tr>\n",
       "</table>\n",
       "<table class=\"simpletable\">\n",
       "<tr>\n",
       "  <th>Omnibus:</th>       <td>39.247</td> <th>  Durbin-Watson:     </th> <td>   2.109</td>\n",
       "</tr>\n",
       "<tr>\n",
       "  <th>Prob(Omnibus):</th> <td> 0.000</td> <th>  Jarque-Bera (JB):  </th> <td>  43.880</td>\n",
       "</tr>\n",
       "<tr>\n",
       "  <th>Skew:</th>          <td> 0.569</td> <th>  Prob(JB):          </th> <td>2.96e-10</td>\n",
       "</tr>\n",
       "<tr>\n",
       "  <th>Kurtosis:</th>      <td> 3.260</td> <th>  Cond. No.          </th> <td>    7.48</td>\n",
       "</tr>\n",
       "</table>"
      ],
      "text/plain": [
       "<class 'statsmodels.iolib.summary.Summary'>\n",
       "\"\"\"\n",
       "                            OLS Regression Results                            \n",
       "==============================================================================\n",
       "Dep. Variable:              ARR_DEL15   R-squared:                       0.891\n",
       "Model:                            OLS   Adj. R-squared:                  0.890\n",
       "Method:                 Least Squares   F-statistic:                     895.0\n",
       "Date:                Tue, 10 Apr 2018   Prob (F-statistic):               0.00\n",
       "Time:                        22:03:24   Log-Likelihood:                 5.1342\n",
       "No. Observations:                 774   AIC:                             3.732\n",
       "Df Residuals:                     767   BIC:                             36.29\n",
       "Df Model:                           7                                         \n",
       "Covariance Type:            nonrobust                                         \n",
       "=========================================================================================\n",
       "                            coef    std err          t      P>|t|      [0.025      0.975]\n",
       "-----------------------------------------------------------------------------------------\n",
       "CRS_DEP_TIME              0.0950      0.016      5.786      0.000       0.063       0.127\n",
       "CRS_ARR_TIME              0.1065      0.014      7.801      0.000       0.080       0.133\n",
       "CARRIER_DELAY             0.4192      0.021     19.812      0.000       0.378       0.461\n",
       "NAS_DELAY                 0.6461      0.018     35.715      0.000       0.611       0.682\n",
       "LATE_AIRCRAFT_DELAY       0.3715      0.023     16.255      0.000       0.327       0.416\n",
       "DelayedDepartureSFO       0.0978      0.036      2.717      0.007       0.027       0.169\n",
       "ScheduledDepartureSFO    -0.0088      0.007     -1.340      0.181      -0.022       0.004\n",
       "==============================================================================\n",
       "Omnibus:                       39.247   Durbin-Watson:                   2.109\n",
       "Prob(Omnibus):                  0.000   Jarque-Bera (JB):               43.880\n",
       "Skew:                           0.569   Prob(JB):                     2.96e-10\n",
       "Kurtosis:                       3.260   Cond. No.                         7.48\n",
       "==============================================================================\n",
       "\n",
       "Warnings:\n",
       "[1] Standard Errors assume that the covariance matrix of the errors is correctly specified.\n",
       "\"\"\""
      ]
     },
     "execution_count": 7,
     "metadata": {},
     "output_type": "execute_result"
    }
   ],
   "source": [
    "arr_15_from = ['CRS_DEP_TIME', 'CRS_ARR_TIME', 'CARRIER_DELAY', 'NAS_DELAY', 'LATE_AIRCRAFT_DELAY', 'DelayedDepartureSFO', 'ScheduledDepartureSFO']\n",
    "gf.regression_model(train_df, arr_15_from, 'ARR_DEL15').summary()"
   ]
  },
  {
   "cell_type": "code",
   "execution_count": 8,
   "metadata": {},
   "outputs": [
    {
     "name": "stdout",
     "output_type": "stream",
     "text": [
      "No cycle found! You may proceed.\n"
     ]
    },
    {
     "data": {
      "image/png": "[encoded data removed]",
      "text/plain": [
       "<matplotlib.figure.Figure at 0x7f2a9b929080>"
      ]
     },
     "metadata": {},
     "output_type": "display_data"
    }
   ],
   "source": [
    "# update dataframe of edges and draw graph\n",
    "flight_edges_df, bn = gf.update_flights_edges_df(arr_15_from, 'ARR_DEL15',flight_edges_df)\n",
    "gf.draw_graph(flight_edges_df,'initial_bn.png')"
   ]
  },
  {
   "cell_type": "markdown",
   "metadata": {},
   "source": [
    "Using regressional analysis, we conclude that ARR_DEL15 is dependent on six factors. So far, we do not have any cycles (remember that a Bayesian network consists of a directed acyclic graph), so we may proceed by moving onto finding more dependencies by choosing an arbitrary parent of ARR_DEL15."
   ]
  },
  {
   "cell_type": "markdown",
   "metadata": {},
   "source": [
    "### NAS Delay"
   ]
  },
  {
   "cell_type": "code",
   "execution_count": 9,
   "metadata": {},
   "outputs": [
    {
     "data": {
      "text/html": [
       "<table class=\"simpletable\">\n",
       "<caption>OLS Regression Results</caption>\n",
       "<tr>\n",
       "  <th>Dep. Variable:</th>        <td>NAS_DELAY</td>    <th>  R-squared:         </th> <td>   0.499</td> \n",
       "</tr>\n",
       "<tr>\n",
       "  <th>Model:</th>                   <td>OLS</td>       <th>  Adj. R-squared:    </th> <td>   0.495</td> \n",
       "</tr>\n",
       "<tr>\n",
       "  <th>Method:</th>             <td>Least Squares</td>  <th>  F-statistic:       </th> <td>   109.2</td> \n",
       "</tr>\n",
       "<tr>\n",
       "  <th>Date:</th>             <td>Tue, 10 Apr 2018</td> <th>  Prob (F-statistic):</th> <td>9.84e-111</td>\n",
       "</tr>\n",
       "<tr>\n",
       "  <th>Time:</th>                 <td>22:03:24</td>     <th>  Log-Likelihood:    </th> <td> -439.84</td> \n",
       "</tr>\n",
       "<tr>\n",
       "  <th>No. Observations:</th>      <td>   774</td>      <th>  AIC:               </th> <td>   893.7</td> \n",
       "</tr>\n",
       "<tr>\n",
       "  <th>Df Residuals:</th>          <td>   767</td>      <th>  BIC:               </th> <td>   926.2</td> \n",
       "</tr>\n",
       "<tr>\n",
       "  <th>Df Model:</th>              <td>     7</td>      <th>                     </th>     <td> </td>    \n",
       "</tr>\n",
       "<tr>\n",
       "  <th>Covariance Type:</th>      <td>nonrobust</td>    <th>                     </th>     <td> </td>    \n",
       "</tr>\n",
       "</table>\n",
       "<table class=\"simpletable\">\n",
       "<tr>\n",
       "           <td></td>              <th>coef</th>     <th>std err</th>      <th>t</th>      <th>P>|t|</th>  <th>[0.025</th>    <th>0.975]</th>  \n",
       "</tr>\n",
       "<tr>\n",
       "  <th>CRS_DEP_TIME</th>        <td>   -0.0863</td> <td>    0.036</td> <td>   -2.390</td> <td> 0.017</td> <td>   -0.157</td> <td>   -0.015</td>\n",
       "</tr>\n",
       "<tr>\n",
       "  <th>TAXI_OUT</th>            <td>    0.2527</td> <td>    0.018</td> <td>   13.810</td> <td> 0.000</td> <td>    0.217</td> <td>    0.289</td>\n",
       "</tr>\n",
       "<tr>\n",
       "  <th>TAXI_IN</th>             <td>    0.0957</td> <td>    0.027</td> <td>    3.503</td> <td> 0.000</td> <td>    0.042</td> <td>    0.149</td>\n",
       "</tr>\n",
       "<tr>\n",
       "  <th>CRS_ARR_TIME</th>        <td>   -0.0691</td> <td>    0.033</td> <td>   -2.119</td> <td> 0.034</td> <td>   -0.133</td> <td>   -0.005</td>\n",
       "</tr>\n",
       "<tr>\n",
       "  <th>CARRIER_DELAY</th>       <td>    0.2311</td> <td>    0.037</td> <td>    6.197</td> <td> 0.000</td> <td>    0.158</td> <td>    0.304</td>\n",
       "</tr>\n",
       "<tr>\n",
       "  <th>LATE_AIRCRAFT_DELAY</th> <td>    0.1533</td> <td>    0.041</td> <td>    3.784</td> <td> 0.000</td> <td>    0.074</td> <td>    0.233</td>\n",
       "</tr>\n",
       "<tr>\n",
       "  <th>DelayedDepartureSFO</th> <td>   -0.0930</td> <td>    0.057</td> <td>   -1.630</td> <td> 0.104</td> <td>   -0.205</td> <td>    0.019</td>\n",
       "</tr>\n",
       "</table>\n",
       "<table class=\"simpletable\">\n",
       "<tr>\n",
       "  <th>Omnibus:</th>       <td>182.212</td> <th>  Durbin-Watson:     </th> <td>   1.988</td>\n",
       "</tr>\n",
       "<tr>\n",
       "  <th>Prob(Omnibus):</th> <td> 0.000</td>  <th>  Jarque-Bera (JB):  </th> <td>  69.601</td>\n",
       "</tr>\n",
       "<tr>\n",
       "  <th>Skew:</th>          <td> 0.546</td>  <th>  Prob(JB):          </th> <td>7.70e-16</td>\n",
       "</tr>\n",
       "<tr>\n",
       "  <th>Kurtosis:</th>      <td> 2.018</td>  <th>  Cond. No.          </th> <td>    6.59</td>\n",
       "</tr>\n",
       "</table>"
      ],
      "text/plain": [
       "<class 'statsmodels.iolib.summary.Summary'>\n",
       "\"\"\"\n",
       "                            OLS Regression Results                            \n",
       "==============================================================================\n",
       "Dep. Variable:              NAS_DELAY   R-squared:                       0.499\n",
       "Model:                            OLS   Adj. R-squared:                  0.495\n",
       "Method:                 Least Squares   F-statistic:                     109.2\n",
       "Date:                Tue, 10 Apr 2018   Prob (F-statistic):          9.84e-111\n",
       "Time:                        22:03:24   Log-Likelihood:                -439.84\n",
       "No. Observations:                 774   AIC:                             893.7\n",
       "Df Residuals:                     767   BIC:                             926.2\n",
       "Df Model:                           7                                         \n",
       "Covariance Type:            nonrobust                                         \n",
       "=======================================================================================\n",
       "                          coef    std err          t      P>|t|      [0.025      0.975]\n",
       "---------------------------------------------------------------------------------------\n",
       "CRS_DEP_TIME           -0.0863      0.036     -2.390      0.017      -0.157      -0.015\n",
       "TAXI_OUT                0.2527      0.018     13.810      0.000       0.217       0.289\n",
       "TAXI_IN                 0.0957      0.027      3.503      0.000       0.042       0.149\n",
       "CRS_ARR_TIME           -0.0691      0.033     -2.119      0.034      -0.133      -0.005\n",
       "CARRIER_DELAY           0.2311      0.037      6.197      0.000       0.158       0.304\n",
       "LATE_AIRCRAFT_DELAY     0.1533      0.041      3.784      0.000       0.074       0.233\n",
       "DelayedDepartureSFO    -0.0930      0.057     -1.630      0.104      -0.205       0.019\n",
       "==============================================================================\n",
       "Omnibus:                      182.212   Durbin-Watson:                   1.988\n",
       "Prob(Omnibus):                  0.000   Jarque-Bera (JB):               69.601\n",
       "Skew:                           0.546   Prob(JB):                     7.70e-16\n",
       "Kurtosis:                       2.018   Cond. No.                         6.59\n",
       "==============================================================================\n",
       "\n",
       "Warnings:\n",
       "[1] Standard Errors assume that the covariance matrix of the errors is correctly specified.\n",
       "\"\"\""
      ]
     },
     "execution_count": 9,
     "metadata": {},
     "output_type": "execute_result"
    }
   ],
   "source": [
    "nas_delay_from =['CRS_DEP_TIME', 'TAXI_OUT', 'TAXI_IN', 'CRS_ARR_TIME', 'CARRIER_DELAY', 'LATE_AIRCRAFT_DELAY', 'DelayedDepartureSFO']\n",
    "gf.regression_model(train_df,nas_delay_from, 'NAS_DELAY').summary()"
   ]
  },
  {
   "cell_type": "code",
   "execution_count": 10,
   "metadata": {},
   "outputs": [
    {
     "name": "stdout",
     "output_type": "stream",
     "text": [
      "No cycle found! You may proceed.\n"
     ]
    }
   ],
   "source": [
    "flight_edges_df, bn = gf.update_flights_edges_df(nas_delay_from, 'NAS_DELAY',flight_edges_df)"
   ]
  },
  {
   "cell_type": "code",
   "execution_count": 11,
   "metadata": {},
   "outputs": [
    {
     "data": {
      "image/png": "[encoded data removed]",
      "text/plain": [
       "<matplotlib.figure.Figure at 0x7f2a9b929e48>"
      ]
     },
     "metadata": {},
     "output_type": "display_data"
    }
   ],
   "source": [
    "gf.draw_graph(flight_edges_df, 'nas-arr_del15.png')"
   ]
  },
  {
   "cell_type": "markdown",
   "metadata": {},
   "source": [
    "### Late Aircraft Delay"
   ]
  },
  {
   "cell_type": "markdown",
   "metadata": {},
   "source": [
    "Now, we took a look at the variables that LATE_AIRCRAFT_DELAY rely on. From this point on, we will not display the graph."
   ]
  },
  {
   "cell_type": "code",
   "execution_count": 12,
   "metadata": {},
   "outputs": [
    {
     "data": {
      "text/html": [
       "<table class=\"simpletable\">\n",
       "<caption>OLS Regression Results</caption>\n",
       "<tr>\n",
       "  <th>Dep. Variable:</th>    <td>LATE_AIRCRAFT_DELAY</td> <th>  R-squared:         </th> <td>   0.351</td>\n",
       "</tr>\n",
       "<tr>\n",
       "  <th>Model:</th>                    <td>OLS</td>         <th>  Adj. R-squared:    </th> <td>   0.347</td>\n",
       "</tr>\n",
       "<tr>\n",
       "  <th>Method:</th>              <td>Least Squares</td>    <th>  F-statistic:       </th> <td>   83.21</td>\n",
       "</tr>\n",
       "<tr>\n",
       "  <th>Date:</th>              <td>Tue, 10 Apr 2018</td>   <th>  Prob (F-statistic):</th> <td>7.33e-70</td>\n",
       "</tr>\n",
       "<tr>\n",
       "  <th>Time:</th>                  <td>22:03:25</td>       <th>  Log-Likelihood:    </th> <td> -300.99</td>\n",
       "</tr>\n",
       "<tr>\n",
       "  <th>No. Observations:</th>       <td>   774</td>        <th>  AIC:               </th> <td>   612.0</td>\n",
       "</tr>\n",
       "<tr>\n",
       "  <th>Df Residuals:</th>           <td>   769</td>        <th>  BIC:               </th> <td>   635.2</td>\n",
       "</tr>\n",
       "<tr>\n",
       "  <th>Df Model:</th>               <td>     5</td>        <th>                     </th>     <td> </td>   \n",
       "</tr>\n",
       "<tr>\n",
       "  <th>Covariance Type:</th>       <td>nonrobust</td>      <th>                     </th>     <td> </td>   \n",
       "</tr>\n",
       "</table>\n",
       "<table class=\"simpletable\">\n",
       "<tr>\n",
       "            <td></td>               <th>coef</th>     <th>std err</th>      <th>t</th>      <th>P>|t|</th>  <th>[0.025</th>    <th>0.975]</th>  \n",
       "</tr>\n",
       "<tr>\n",
       "  <th>CRS_DEP_TIME</th>          <td>    0.1247</td> <td>    0.023</td> <td>    5.357</td> <td> 0.000</td> <td>    0.079</td> <td>    0.170</td>\n",
       "</tr>\n",
       "<tr>\n",
       "  <th>DEP_DELAY</th>             <td>    0.1600</td> <td>    0.014</td> <td>   11.702</td> <td> 0.000</td> <td>    0.133</td> <td>    0.187</td>\n",
       "</tr>\n",
       "<tr>\n",
       "  <th>CRS_ARR_TIME</th>          <td>    0.1069</td> <td>    0.020</td> <td>    5.444</td> <td> 0.000</td> <td>    0.068</td> <td>    0.146</td>\n",
       "</tr>\n",
       "<tr>\n",
       "  <th>NAS_DELAY</th>             <td>    0.0750</td> <td>    0.026</td> <td>    2.844</td> <td> 0.005</td> <td>    0.023</td> <td>    0.127</td>\n",
       "</tr>\n",
       "<tr>\n",
       "  <th>ScheduledDepartureSFO</th> <td>    0.0207</td> <td>    0.009</td> <td>    2.398</td> <td> 0.017</td> <td>    0.004</td> <td>    0.038</td>\n",
       "</tr>\n",
       "</table>\n",
       "<table class=\"simpletable\">\n",
       "<tr>\n",
       "  <th>Omnibus:</th>       <td>85.611</td> <th>  Durbin-Watson:     </th> <td>   1.997</td>\n",
       "</tr>\n",
       "<tr>\n",
       "  <th>Prob(Omnibus):</th> <td> 0.000</td> <th>  Jarque-Bera (JB):  </th> <td> 106.327</td>\n",
       "</tr>\n",
       "<tr>\n",
       "  <th>Skew:</th>          <td> 0.885</td> <th>  Prob(JB):          </th> <td>8.16e-24</td>\n",
       "</tr>\n",
       "<tr>\n",
       "  <th>Kurtosis:</th>      <td> 2.596</td> <th>  Cond. No.          </th> <td>    4.22</td>\n",
       "</tr>\n",
       "</table>"
      ],
      "text/plain": [
       "<class 'statsmodels.iolib.summary.Summary'>\n",
       "\"\"\"\n",
       "                             OLS Regression Results                            \n",
       "===============================================================================\n",
       "Dep. Variable:     LATE_AIRCRAFT_DELAY   R-squared:                       0.351\n",
       "Model:                             OLS   Adj. R-squared:                  0.347\n",
       "Method:                  Least Squares   F-statistic:                     83.21\n",
       "Date:                 Tue, 10 Apr 2018   Prob (F-statistic):           7.33e-70\n",
       "Time:                         22:03:25   Log-Likelihood:                -300.99\n",
       "No. Observations:                  774   AIC:                             612.0\n",
       "Df Residuals:                      769   BIC:                             635.2\n",
       "Df Model:                            5                                         \n",
       "Covariance Type:             nonrobust                                         \n",
       "=========================================================================================\n",
       "                            coef    std err          t      P>|t|      [0.025      0.975]\n",
       "-----------------------------------------------------------------------------------------\n",
       "CRS_DEP_TIME              0.1247      0.023      5.357      0.000       0.079       0.170\n",
       "DEP_DELAY                 0.1600      0.014     11.702      0.000       0.133       0.187\n",
       "CRS_ARR_TIME              0.1069      0.020      5.444      0.000       0.068       0.146\n",
       "NAS_DELAY                 0.0750      0.026      2.844      0.005       0.023       0.127\n",
       "ScheduledDepartureSFO     0.0207      0.009      2.398      0.017       0.004       0.038\n",
       "==============================================================================\n",
       "Omnibus:                       85.611   Durbin-Watson:                   1.997\n",
       "Prob(Omnibus):                  0.000   Jarque-Bera (JB):              106.327\n",
       "Skew:                           0.885   Prob(JB):                     8.16e-24\n",
       "Kurtosis:                       2.596   Cond. No.                         4.22\n",
       "==============================================================================\n",
       "\n",
       "Warnings:\n",
       "[1] Standard Errors assume that the covariance matrix of the errors is correctly specified.\n",
       "\"\"\""
      ]
     },
     "execution_count": 12,
     "metadata": {},
     "output_type": "execute_result"
    }
   ],
   "source": [
    "late_aircraft_from = ['CRS_DEP_TIME', 'DEP_DELAY', 'CRS_ARR_TIME', 'NAS_DELAY', 'ScheduledDepartureSFO']\n",
    "gf.regression_model(train_df, late_aircraft_from, 'LATE_AIRCRAFT_DELAY').summary()"
   ]
  },
  {
   "cell_type": "code",
   "execution_count": 13,
   "metadata": {},
   "outputs": [
    {
     "name": "stdout",
     "output_type": "stream",
     "text": [
      "[('NAS_DELAY', 'LATE_AIRCRAFT_DELAY'), ('LATE_AIRCRAFT_DELAY', 'NAS_DELAY')]\n"
     ]
    }
   ],
   "source": [
    "flight_edges_df, bn = gf.update_flights_edges_df(late_aircraft_from, 'LATE_AIRCRAFT_DELAY',flight_edges_df)"
   ]
  },
  {
   "cell_type": "markdown",
   "metadata": {},
   "source": [
    "Since __NAS_DELAY__ and __LATE_AIRCRAFT_DELAY__ have edges pointing to each other, we must decide which edge we are going to get rid of. The FAA (http://aspmhelp.faa.gov/index.php/Types_of_Delay) defines __NAS_DELAY__ as delay that is \"within the control of the National Airspace System (NAS),\" including \"non-extreme weather conditions, airport operations, heavy traffic volume, air traffic control, etc.\" It goes on to state that delays at the destination airport that occur after Actual Gate Out time are attributed to the NAS (such as gate in delay and taxi in delay). On the other hand, FAA defines __LATE_AIRCRAFT_DELAY__ as arrival delay due to the ripple effect of an earlier delay at downstream airports is referred to as delay propagation. That is, the two seem to have no direct relationship with one another at all. Therefore, we remove both edges."
   ]
  },
  {
   "cell_type": "code",
   "execution_count": 14,
   "metadata": {},
   "outputs": [
    {
     "name": "stdout",
     "output_type": "stream",
     "text": [
      "No cycle found! You may proceed.\n",
      "No cycle found! You may proceed.\n"
     ]
    }
   ],
   "source": [
    "flight_edges_df, _ = gf.remove_edge('NAS_DELAY', 'LATE_AIRCRAFT_DELAY', flight_edges_df)\n",
    "flight_edges_df, bn = gf.remove_edge('LATE_AIRCRAFT_DELAY', 'NAS_DELAY', flight_edges_df)"
   ]
  },
  {
   "cell_type": "markdown",
   "metadata": {},
   "source": [
    "### Carrier Delay"
   ]
  },
  {
   "cell_type": "code",
   "execution_count": 15,
   "metadata": {},
   "outputs": [
    {
     "data": {
      "text/html": [
       "<table class=\"simpletable\">\n",
       "<caption>OLS Regression Results</caption>\n",
       "<tr>\n",
       "  <th>Dep. Variable:</th>      <td>CARRIER_DELAY</td>  <th>  R-squared:         </th> <td>   0.451</td>\n",
       "</tr>\n",
       "<tr>\n",
       "  <th>Model:</th>                   <td>OLS</td>       <th>  Adj. R-squared:    </th> <td>   0.447</td>\n",
       "</tr>\n",
       "<tr>\n",
       "  <th>Method:</th>             <td>Least Squares</td>  <th>  F-statistic:       </th> <td>   105.2</td>\n",
       "</tr>\n",
       "<tr>\n",
       "  <th>Date:</th>             <td>Tue, 10 Apr 2018</td> <th>  Prob (F-statistic):</th> <td>1.33e-96</td>\n",
       "</tr>\n",
       "<tr>\n",
       "  <th>Time:</th>                 <td>22:03:25</td>     <th>  Log-Likelihood:    </th> <td> -328.57</td>\n",
       "</tr>\n",
       "<tr>\n",
       "  <th>No. Observations:</th>      <td>   774</td>      <th>  AIC:               </th> <td>   669.1</td>\n",
       "</tr>\n",
       "<tr>\n",
       "  <th>Df Residuals:</th>          <td>   768</td>      <th>  BIC:               </th> <td>   697.0</td>\n",
       "</tr>\n",
       "<tr>\n",
       "  <th>Df Model:</th>              <td>     6</td>      <th>                     </th>     <td> </td>   \n",
       "</tr>\n",
       "<tr>\n",
       "  <th>Covariance Type:</th>      <td>nonrobust</td>    <th>                     </th>     <td> </td>   \n",
       "</tr>\n",
       "</table>\n",
       "<table class=\"simpletable\">\n",
       "<tr>\n",
       "        <td></td>           <th>coef</th>     <th>std err</th>      <th>t</th>      <th>P>|t|</th>  <th>[0.025</th>    <th>0.975]</th>  \n",
       "</tr>\n",
       "<tr>\n",
       "  <th>CRS_DEP_TIME</th>  <td>    0.2360</td> <td>    0.030</td> <td>    7.959</td> <td> 0.000</td> <td>    0.178</td> <td>    0.294</td>\n",
       "</tr>\n",
       "<tr>\n",
       "  <th>DEP_DELAY</th>     <td>    0.1912</td> <td>    0.015</td> <td>   13.065</td> <td> 0.000</td> <td>    0.162</td> <td>    0.220</td>\n",
       "</tr>\n",
       "<tr>\n",
       "  <th>TAXI_OUT</th>      <td>   -0.0523</td> <td>    0.018</td> <td>   -2.960</td> <td> 0.003</td> <td>   -0.087</td> <td>   -0.018</td>\n",
       "</tr>\n",
       "<tr>\n",
       "  <th>CRS_ARR_TIME</th>  <td>    0.1894</td> <td>    0.027</td> <td>    7.122</td> <td> 0.000</td> <td>    0.137</td> <td>    0.242</td>\n",
       "</tr>\n",
       "<tr>\n",
       "  <th>WEATHER_DELAY</th> <td>   -0.5053</td> <td>    0.168</td> <td>   -3.015</td> <td> 0.003</td> <td>   -0.834</td> <td>   -0.176</td>\n",
       "</tr>\n",
       "<tr>\n",
       "  <th>NAS_DELAY</th>     <td>    0.1663</td> <td>    0.030</td> <td>    5.490</td> <td> 0.000</td> <td>    0.107</td> <td>    0.226</td>\n",
       "</tr>\n",
       "</table>\n",
       "<table class=\"simpletable\">\n",
       "<tr>\n",
       "  <th>Omnibus:</th>       <td>121.289</td> <th>  Durbin-Watson:     </th> <td>   2.109</td>\n",
       "</tr>\n",
       "<tr>\n",
       "  <th>Prob(Omnibus):</th> <td> 0.000</td>  <th>  Jarque-Bera (JB):  </th> <td>  39.088</td>\n",
       "</tr>\n",
       "<tr>\n",
       "  <th>Skew:</th>          <td> 0.301</td>  <th>  Prob(JB):          </th> <td>3.25e-09</td>\n",
       "</tr>\n",
       "<tr>\n",
       "  <th>Kurtosis:</th>      <td> 2.079</td>  <th>  Cond. No.          </th> <td>    22.6</td>\n",
       "</tr>\n",
       "</table>"
      ],
      "text/plain": [
       "<class 'statsmodels.iolib.summary.Summary'>\n",
       "\"\"\"\n",
       "                            OLS Regression Results                            \n",
       "==============================================================================\n",
       "Dep. Variable:          CARRIER_DELAY   R-squared:                       0.451\n",
       "Model:                            OLS   Adj. R-squared:                  0.447\n",
       "Method:                 Least Squares   F-statistic:                     105.2\n",
       "Date:                Tue, 10 Apr 2018   Prob (F-statistic):           1.33e-96\n",
       "Time:                        22:03:25   Log-Likelihood:                -328.57\n",
       "No. Observations:                 774   AIC:                             669.1\n",
       "Df Residuals:                     768   BIC:                             697.0\n",
       "Df Model:                           6                                         \n",
       "Covariance Type:            nonrobust                                         \n",
       "=================================================================================\n",
       "                    coef    std err          t      P>|t|      [0.025      0.975]\n",
       "---------------------------------------------------------------------------------\n",
       "CRS_DEP_TIME      0.2360      0.030      7.959      0.000       0.178       0.294\n",
       "DEP_DELAY         0.1912      0.015     13.065      0.000       0.162       0.220\n",
       "TAXI_OUT         -0.0523      0.018     -2.960      0.003      -0.087      -0.018\n",
       "CRS_ARR_TIME      0.1894      0.027      7.122      0.000       0.137       0.242\n",
       "WEATHER_DELAY    -0.5053      0.168     -3.015      0.003      -0.834      -0.176\n",
       "NAS_DELAY         0.1663      0.030      5.490      0.000       0.107       0.226\n",
       "==============================================================================\n",
       "Omnibus:                      121.289   Durbin-Watson:                   2.109\n",
       "Prob(Omnibus):                  0.000   Jarque-Bera (JB):               39.088\n",
       "Skew:                           0.301   Prob(JB):                     3.25e-09\n",
       "Kurtosis:                       2.079   Cond. No.                         22.6\n",
       "==============================================================================\n",
       "\n",
       "Warnings:\n",
       "[1] Standard Errors assume that the covariance matrix of the errors is correctly specified.\n",
       "\"\"\""
      ]
     },
     "execution_count": 15,
     "metadata": {},
     "output_type": "execute_result"
    }
   ],
   "source": [
    "carrier_delay_from = ['CRS_DEP_TIME', 'DEP_DELAY', 'TAXI_OUT', 'CRS_ARR_TIME', 'WEATHER_DELAY', 'NAS_DELAY']\n",
    "gf.regression_model(train_df, carrier_delay_from, 'CARRIER_DELAY').summary()"
   ]
  },
  {
   "cell_type": "code",
   "execution_count": 16,
   "metadata": {},
   "outputs": [
    {
     "name": "stdout",
     "output_type": "stream",
     "text": [
      "[('NAS_DELAY', 'CARRIER_DELAY'), ('CARRIER_DELAY', 'NAS_DELAY')]\n"
     ]
    }
   ],
   "source": [
    "flight_edges_df, bn = gf.update_flights_edges_df(carrier_delay_from, 'CARRIER_DELAY',flight_edges_df)"
   ]
  },
  {
   "cell_type": "markdown",
   "metadata": {},
   "source": [
    "__CARRIER_DELAY__ is within the control of the air carrier, such as: aircraft cleaning, aircraft damage, awaiting the arrival of connecting passengers or crew, baggage, bird strike, cargo loading, catering, computer, outage-carrier equipment, crew legality (pilot or attendant rest), damage by hazardous goods, engineering inspection, fueling, handling disabled passengers, late crew, lavatory servicing, maintenance, oversales, potable water servicing, removal of unruly passenger, slow boarding or seating, stowing carry-on baggage, weight and balance delays. This seems to have little to do with __NAS_DELAY__ and vice versa. Thus, we remove both edges"
   ]
  },
  {
   "cell_type": "code",
   "execution_count": 17,
   "metadata": {},
   "outputs": [
    {
     "name": "stdout",
     "output_type": "stream",
     "text": [
      "No cycle found! You may proceed.\n",
      "No cycle found! You may proceed.\n"
     ]
    }
   ],
   "source": [
    "# remove both edges\n",
    "flight_edges_df, _ = gf.remove_edge('CARRIER_DELAY','NAS_DELAY', flight_edges_df)\n",
    "flight_edges_df, bn = gf.remove_edge('NAS_DELAY','CARRIER_DELAY', flight_edges_df)"
   ]
  },
  {
   "cell_type": "markdown",
   "metadata": {},
   "source": [
    "Recall that FAA defines __LATE_AIRCRAFT_DELAY__ as arrival delay due to the ripple effect of an earlier delay at downstream airports is referred to as delay propagation. It would seem probable that a late prior aircraft could cause carrier delay but not the other way around. Thus, we only remove the edge from CARRIER_DELAY to LATE_AIRCRAFT_DELAY."
   ]
  },
  {
   "cell_type": "markdown",
   "metadata": {},
   "source": [
    "### WEATHER_DELAY"
   ]
  },
  {
   "cell_type": "code",
   "execution_count": 18,
   "metadata": {},
   "outputs": [
    {
     "data": {
      "text/html": [
       "<table class=\"simpletable\">\n",
       "<caption>OLS Regression Results</caption>\n",
       "<tr>\n",
       "  <th>Dep. Variable:</th>      <td>WEATHER_DELAY</td>  <th>  R-squared:         </th> <td>   0.029</td>\n",
       "</tr>\n",
       "<tr>\n",
       "  <th>Model:</th>                   <td>OLS</td>       <th>  Adj. R-squared:    </th> <td>   0.023</td>\n",
       "</tr>\n",
       "<tr>\n",
       "  <th>Method:</th>             <td>Least Squares</td>  <th>  F-statistic:       </th> <td>   5.648</td>\n",
       "</tr>\n",
       "<tr>\n",
       "  <th>Date:</th>             <td>Tue, 10 Apr 2018</td> <th>  Prob (F-statistic):</th> <td>0.000175</td>\n",
       "</tr>\n",
       "<tr>\n",
       "  <th>Time:</th>                 <td>22:03:25</td>     <th>  Log-Likelihood:    </th> <td>  864.24</td>\n",
       "</tr>\n",
       "<tr>\n",
       "  <th>No. Observations:</th>      <td>   774</td>      <th>  AIC:               </th> <td>  -1720.</td>\n",
       "</tr>\n",
       "<tr>\n",
       "  <th>Df Residuals:</th>          <td>   770</td>      <th>  BIC:               </th> <td>  -1702.</td>\n",
       "</tr>\n",
       "<tr>\n",
       "  <th>Df Model:</th>              <td>     4</td>      <th>                     </th>     <td> </td>   \n",
       "</tr>\n",
       "<tr>\n",
       "  <th>Covariance Type:</th>      <td>nonrobust</td>    <th>                     </th>     <td> </td>   \n",
       "</tr>\n",
       "</table>\n",
       "<table class=\"simpletable\">\n",
       "<tr>\n",
       "          <td></td>             <th>coef</th>     <th>std err</th>      <th>t</th>      <th>P>|t|</th>  <th>[0.025</th>    <th>0.975]</th>  \n",
       "</tr>\n",
       "<tr>\n",
       "  <th>DEP_DELAY</th>         <td>    0.0092</td> <td>    0.003</td> <td>    2.725</td> <td> 0.007</td> <td>    0.003</td> <td>    0.016</td>\n",
       "</tr>\n",
       "<tr>\n",
       "  <th>CARRIER_DELAY</th>     <td>   -0.0195</td> <td>    0.007</td> <td>   -2.708</td> <td> 0.007</td> <td>   -0.034</td> <td>   -0.005</td>\n",
       "</tr>\n",
       "<tr>\n",
       "  <th>NAS_DELAY</th>         <td>    0.0170</td> <td>    0.005</td> <td>    3.241</td> <td> 0.001</td> <td>    0.007</td> <td>    0.027</td>\n",
       "</tr>\n",
       "<tr>\n",
       "  <th>DelayedArrivalPHL</th> <td>    0.0289</td> <td>    0.014</td> <td>    2.067</td> <td> 0.039</td> <td>    0.001</td> <td>    0.056</td>\n",
       "</tr>\n",
       "</table>\n",
       "<table class=\"simpletable\">\n",
       "<tr>\n",
       "  <th>Omnibus:</th>       <td>1368.949</td> <th>  Durbin-Watson:     </th>  <td>   1.994</td> \n",
       "</tr>\n",
       "<tr>\n",
       "  <th>Prob(Omnibus):</th>  <td> 0.000</td>  <th>  Jarque-Bera (JB):  </th> <td>668825.069</td>\n",
       "</tr>\n",
       "<tr>\n",
       "  <th>Skew:</th>           <td>11.839</td>  <th>  Prob(JB):          </th>  <td>    0.00</td> \n",
       "</tr>\n",
       "<tr>\n",
       "  <th>Kurtosis:</th>       <td>145.050</td> <th>  Cond. No.          </th>  <td>    5.10</td> \n",
       "</tr>\n",
       "</table>"
      ],
      "text/plain": [
       "<class 'statsmodels.iolib.summary.Summary'>\n",
       "\"\"\"\n",
       "                            OLS Regression Results                            \n",
       "==============================================================================\n",
       "Dep. Variable:          WEATHER_DELAY   R-squared:                       0.029\n",
       "Model:                            OLS   Adj. R-squared:                  0.023\n",
       "Method:                 Least Squares   F-statistic:                     5.648\n",
       "Date:                Tue, 10 Apr 2018   Prob (F-statistic):           0.000175\n",
       "Time:                        22:03:25   Log-Likelihood:                 864.24\n",
       "No. Observations:                 774   AIC:                            -1720.\n",
       "Df Residuals:                     770   BIC:                            -1702.\n",
       "Df Model:                           4                                         \n",
       "Covariance Type:            nonrobust                                         \n",
       "=====================================================================================\n",
       "                        coef    std err          t      P>|t|      [0.025      0.975]\n",
       "-------------------------------------------------------------------------------------\n",
       "DEP_DELAY             0.0092      0.003      2.725      0.007       0.003       0.016\n",
       "CARRIER_DELAY        -0.0195      0.007     -2.708      0.007      -0.034      -0.005\n",
       "NAS_DELAY             0.0170      0.005      3.241      0.001       0.007       0.027\n",
       "DelayedArrivalPHL     0.0289      0.014      2.067      0.039       0.001       0.056\n",
       "==============================================================================\n",
       "Omnibus:                     1368.949   Durbin-Watson:                   1.994\n",
       "Prob(Omnibus):                  0.000   Jarque-Bera (JB):           668825.069\n",
       "Skew:                          11.839   Prob(JB):                         0.00\n",
       "Kurtosis:                     145.050   Cond. No.                         5.10\n",
       "==============================================================================\n",
       "\n",
       "Warnings:\n",
       "[1] Standard Errors assume that the covariance matrix of the errors is correctly specified.\n",
       "\"\"\""
      ]
     },
     "execution_count": 18,
     "metadata": {},
     "output_type": "execute_result"
    }
   ],
   "source": [
    "weather_delay_from = ['DEP_DELAY', 'CARRIER_DELAY', 'NAS_DELAY', 'DelayedArrivalPHL']\n",
    "gf.regression_model(train_df, weather_delay_from, 'WEATHER_DELAY').summary()"
   ]
  },
  {
   "cell_type": "code",
   "execution_count": 19,
   "metadata": {},
   "outputs": [
    {
     "name": "stdout",
     "output_type": "stream",
     "text": [
      "[('WEATHER_DELAY', 'CARRIER_DELAY'), ('CARRIER_DELAY', 'WEATHER_DELAY')]\n"
     ]
    }
   ],
   "source": [
    "flight_edges_df, bn = gf.update_flights_edges_df(weather_delay_from, 'WEATHER_DELAY',flight_edges_df)"
   ]
  },
  {
   "cell_type": "code",
   "execution_count": 20,
   "metadata": {},
   "outputs": [
    {
     "name": "stdout",
     "output_type": "stream",
     "text": [
      "No cycle found! You may proceed.\n"
     ]
    }
   ],
   "source": [
    "flight_edges_df, bn = gf.remove_edge('CARRIER_DELAY', 'WEATHER_DELAY', flight_edges_df)"
   ]
  },
  {
   "cell_type": "markdown",
   "metadata": {},
   "source": [
    "### CRS Arrival Time"
   ]
  },
  {
   "cell_type": "code",
   "execution_count": 21,
   "metadata": {},
   "outputs": [
    {
     "data": {
      "text/html": [
       "<table class=\"simpletable\">\n",
       "<caption>OLS Regression Results</caption>\n",
       "<tr>\n",
       "  <th>Dep. Variable:</th>      <td>CRS_ARR_TIME</td>   <th>  R-squared:         </th> <td>   0.774</td> \n",
       "</tr>\n",
       "<tr>\n",
       "  <th>Model:</th>                   <td>OLS</td>       <th>  Adj. R-squared:    </th> <td>   0.772</td> \n",
       "</tr>\n",
       "<tr>\n",
       "  <th>Method:</th>             <td>Least Squares</td>  <th>  F-statistic:       </th> <td>   375.8</td> \n",
       "</tr>\n",
       "<tr>\n",
       "  <th>Date:</th>             <td>Tue, 10 Apr 2018</td> <th>  Prob (F-statistic):</th> <td>6.08e-243</td>\n",
       "</tr>\n",
       "<tr>\n",
       "  <th>Time:</th>                 <td>22:03:25</td>     <th>  Log-Likelihood:    </th> <td> -345.36</td> \n",
       "</tr>\n",
       "<tr>\n",
       "  <th>No. Observations:</th>      <td>   774</td>      <th>  AIC:               </th> <td>   704.7</td> \n",
       "</tr>\n",
       "<tr>\n",
       "  <th>Df Residuals:</th>          <td>   767</td>      <th>  BIC:               </th> <td>   737.3</td> \n",
       "</tr>\n",
       "<tr>\n",
       "  <th>Df Model:</th>              <td>     7</td>      <th>                     </th>     <td> </td>    \n",
       "</tr>\n",
       "<tr>\n",
       "  <th>Covariance Type:</th>      <td>nonrobust</td>    <th>                     </th>     <td> </td>    \n",
       "</tr>\n",
       "</table>\n",
       "<table class=\"simpletable\">\n",
       "<tr>\n",
       "            <td></td>               <th>coef</th>     <th>std err</th>      <th>t</th>      <th>P>|t|</th>  <th>[0.025</th>    <th>0.975]</th>  \n",
       "</tr>\n",
       "<tr>\n",
       "  <th>MONTH</th>                 <td>    0.0340</td> <td>    0.004</td> <td>    9.032</td> <td> 0.000</td> <td>    0.027</td> <td>    0.041</td>\n",
       "</tr>\n",
       "<tr>\n",
       "  <th>DAY_OF_WEEK</th>           <td>    0.0748</td> <td>    0.006</td> <td>   12.712</td> <td> 0.000</td> <td>    0.063</td> <td>    0.086</td>\n",
       "</tr>\n",
       "<tr>\n",
       "  <th>CRS_DEP_TIME</th>          <td>   -0.7170</td> <td>    0.028</td> <td>  -25.596</td> <td> 0.000</td> <td>   -0.772</td> <td>   -0.662</td>\n",
       "</tr>\n",
       "<tr>\n",
       "  <th>TAXI_OUT</th>              <td>    0.1792</td> <td>    0.016</td> <td>   11.230</td> <td> 0.000</td> <td>    0.148</td> <td>    0.211</td>\n",
       "</tr>\n",
       "<tr>\n",
       "  <th>CARRIER_DELAY</th>         <td>    0.1333</td> <td>    0.033</td> <td>    4.076</td> <td> 0.000</td> <td>    0.069</td> <td>    0.198</td>\n",
       "</tr>\n",
       "<tr>\n",
       "  <th>LATE_AIRCRAFT_DELAY</th>   <td>    0.1614</td> <td>    0.035</td> <td>    4.557</td> <td> 0.000</td> <td>    0.092</td> <td>    0.231</td>\n",
       "</tr>\n",
       "<tr>\n",
       "  <th>ScheduledDepartureSFO</th> <td>    0.0187</td> <td>    0.009</td> <td>    2.010</td> <td> 0.045</td> <td>    0.000</td> <td>    0.037</td>\n",
       "</tr>\n",
       "</table>\n",
       "<table class=\"simpletable\">\n",
       "<tr>\n",
       "  <th>Omnibus:</th>       <td>14.983</td> <th>  Durbin-Watson:     </th> <td>   1.982</td>\n",
       "</tr>\n",
       "<tr>\n",
       "  <th>Prob(Omnibus):</th> <td> 0.001</td> <th>  Jarque-Bera (JB):  </th> <td>  18.983</td>\n",
       "</tr>\n",
       "<tr>\n",
       "  <th>Skew:</th>          <td> 0.227</td> <th>  Prob(JB):          </th> <td>7.55e-05</td>\n",
       "</tr>\n",
       "<tr>\n",
       "  <th>Kurtosis:</th>      <td> 3.618</td> <th>  Cond. No.          </th> <td>    24.4</td>\n",
       "</tr>\n",
       "</table>"
      ],
      "text/plain": [
       "<class 'statsmodels.iolib.summary.Summary'>\n",
       "\"\"\"\n",
       "                            OLS Regression Results                            \n",
       "==============================================================================\n",
       "Dep. Variable:           CRS_ARR_TIME   R-squared:                       0.774\n",
       "Model:                            OLS   Adj. R-squared:                  0.772\n",
       "Method:                 Least Squares   F-statistic:                     375.8\n",
       "Date:                Tue, 10 Apr 2018   Prob (F-statistic):          6.08e-243\n",
       "Time:                        22:03:25   Log-Likelihood:                -345.36\n",
       "No. Observations:                 774   AIC:                             704.7\n",
       "Df Residuals:                     767   BIC:                             737.3\n",
       "Df Model:                           7                                         \n",
       "Covariance Type:            nonrobust                                         \n",
       "=========================================================================================\n",
       "                            coef    std err          t      P>|t|      [0.025      0.975]\n",
       "-----------------------------------------------------------------------------------------\n",
       "MONTH                     0.0340      0.004      9.032      0.000       0.027       0.041\n",
       "DAY_OF_WEEK               0.0748      0.006     12.712      0.000       0.063       0.086\n",
       "CRS_DEP_TIME             -0.7170      0.028    -25.596      0.000      -0.772      -0.662\n",
       "TAXI_OUT                  0.1792      0.016     11.230      0.000       0.148       0.211\n",
       "CARRIER_DELAY             0.1333      0.033      4.076      0.000       0.069       0.198\n",
       "LATE_AIRCRAFT_DELAY       0.1614      0.035      4.557      0.000       0.092       0.231\n",
       "ScheduledDepartureSFO     0.0187      0.009      2.010      0.045       0.000       0.037\n",
       "==============================================================================\n",
       "Omnibus:                       14.983   Durbin-Watson:                   1.982\n",
       "Prob(Omnibus):                  0.001   Jarque-Bera (JB):               18.983\n",
       "Skew:                           0.227   Prob(JB):                     7.55e-05\n",
       "Kurtosis:                       3.618   Cond. No.                         24.4\n",
       "==============================================================================\n",
       "\n",
       "Warnings:\n",
       "[1] Standard Errors assume that the covariance matrix of the errors is correctly specified.\n",
       "\"\"\""
      ]
     },
     "execution_count": 21,
     "metadata": {},
     "output_type": "execute_result"
    }
   ],
   "source": [
    "crs_arrival_from = ['MONTH', 'DAY_OF_WEEK', 'CRS_DEP_TIME', 'TAXI_OUT', 'CARRIER_DELAY', 'LATE_AIRCRAFT_DELAY', 'ScheduledDepartureSFO']\n",
    "gf.regression_model(train_df, crs_arrival_from, 'CRS_ARR_TIME').summary()"
   ]
  },
  {
   "cell_type": "code",
   "execution_count": 22,
   "metadata": {},
   "outputs": [
    {
     "name": "stdout",
     "output_type": "stream",
     "text": [
      "[('NAS_DELAY', 'WEATHER_DELAY'), ('WEATHER_DELAY', 'CARRIER_DELAY'), ('CARRIER_DELAY', 'CRS_ARR_TIME'), ('CRS_ARR_TIME', 'NAS_DELAY')]\n"
     ]
    }
   ],
   "source": [
    "flight_edges_df, bn = gf.update_flights_edges_df(crs_arrival_from, 'CRS_ARR_TIME', flight_edges_df)"
   ]
  },
  {
   "cell_type": "code",
   "execution_count": 23,
   "metadata": {},
   "outputs": [
    {
     "name": "stdout",
     "output_type": "stream",
     "text": [
      "[('LATE_AIRCRAFT_DELAY', 'CRS_ARR_TIME'), ('CRS_ARR_TIME', 'LATE_AIRCRAFT_DELAY')]\n"
     ]
    }
   ],
   "source": [
    "flight_edges_df, bn = gf.remove_edge('CARRIER_DELAY', 'CRS_ARR_TIME', flight_edges_df)"
   ]
  },
  {
   "cell_type": "code",
   "execution_count": 24,
   "metadata": {},
   "outputs": [
    {
     "name": "stdout",
     "output_type": "stream",
     "text": [
      "No cycle found! You may proceed.\n"
     ]
    }
   ],
   "source": [
    "flight_edges_df, bn = gf.remove_edge('LATE_AIRCRAFT_DELAY', 'CRS_ARR_TIME', flight_edges_df)"
   ]
  },
  {
   "cell_type": "markdown",
   "metadata": {},
   "source": [
    "### CRS Departure Time"
   ]
  },
  {
   "cell_type": "code",
   "execution_count": 25,
   "metadata": {},
   "outputs": [
    {
     "data": {
      "text/html": [
       "<table class=\"simpletable\">\n",
       "<caption>OLS Regression Results</caption>\n",
       "<tr>\n",
       "  <th>Dep. Variable:</th>      <td>CRS_DEP_TIME</td>   <th>  R-squared:         </th> <td>   0.692</td> \n",
       "</tr>\n",
       "<tr>\n",
       "  <th>Model:</th>                   <td>OLS</td>       <th>  Adj. R-squared:    </th> <td>   0.689</td> \n",
       "</tr>\n",
       "<tr>\n",
       "  <th>Method:</th>             <td>Least Squares</td>  <th>  F-statistic:       </th> <td>   246.4</td> \n",
       "</tr>\n",
       "<tr>\n",
       "  <th>Date:</th>             <td>Tue, 10 Apr 2018</td> <th>  Prob (F-statistic):</th> <td>2.11e-191</td>\n",
       "</tr>\n",
       "<tr>\n",
       "  <th>Time:</th>                 <td>22:03:25</td>     <th>  Log-Likelihood:    </th> <td> -302.91</td> \n",
       "</tr>\n",
       "<tr>\n",
       "  <th>No. Observations:</th>      <td>   774</td>      <th>  AIC:               </th> <td>   619.8</td> \n",
       "</tr>\n",
       "<tr>\n",
       "  <th>Df Residuals:</th>          <td>   767</td>      <th>  BIC:               </th> <td>   652.4</td> \n",
       "</tr>\n",
       "<tr>\n",
       "  <th>Df Model:</th>              <td>     7</td>      <th>                     </th>     <td> </td>    \n",
       "</tr>\n",
       "<tr>\n",
       "  <th>Covariance Type:</th>      <td>nonrobust</td>    <th>                     </th>     <td> </td>    \n",
       "</tr>\n",
       "</table>\n",
       "<table class=\"simpletable\">\n",
       "<tr>\n",
       "            <td></td>               <th>coef</th>     <th>std err</th>      <th>t</th>      <th>P>|t|</th>  <th>[0.025</th>    <th>0.975]</th>  \n",
       "</tr>\n",
       "<tr>\n",
       "  <th>MONTH</th>                 <td>    0.0299</td> <td>    0.004</td> <td>    8.322</td> <td> 0.000</td> <td>    0.023</td> <td>    0.037</td>\n",
       "</tr>\n",
       "<tr>\n",
       "  <th>DAY_OF_WEEK</th>           <td>    0.0625</td> <td>    0.006</td> <td>   10.979</td> <td> 0.000</td> <td>    0.051</td> <td>    0.074</td>\n",
       "</tr>\n",
       "<tr>\n",
       "  <th>TAXI_OUT</th>              <td>    0.1561</td> <td>    0.015</td> <td>   10.205</td> <td> 0.000</td> <td>    0.126</td> <td>    0.186</td>\n",
       "</tr>\n",
       "<tr>\n",
       "  <th>CRS_ARR_TIME</th>          <td>   -0.6425</td> <td>    0.025</td> <td>  -25.596</td> <td> 0.000</td> <td>   -0.692</td> <td>   -0.593</td>\n",
       "</tr>\n",
       "<tr>\n",
       "  <th>CARRIER_DELAY</th>         <td>    0.1886</td> <td>    0.031</td> <td>    6.172</td> <td> 0.000</td> <td>    0.129</td> <td>    0.249</td>\n",
       "</tr>\n",
       "<tr>\n",
       "  <th>LATE_AIRCRAFT_DELAY</th>   <td>    0.1865</td> <td>    0.033</td> <td>    5.600</td> <td> 0.000</td> <td>    0.121</td> <td>    0.252</td>\n",
       "</tr>\n",
       "<tr>\n",
       "  <th>ScheduledDepartureSFO</th> <td>    0.0138</td> <td>    0.009</td> <td>    1.573</td> <td> 0.116</td> <td>   -0.003</td> <td>    0.031</td>\n",
       "</tr>\n",
       "</table>\n",
       "<table class=\"simpletable\">\n",
       "<tr>\n",
       "  <th>Omnibus:</th>       <td>44.026</td> <th>  Durbin-Watson:     </th> <td>   1.994</td>\n",
       "</tr>\n",
       "<tr>\n",
       "  <th>Prob(Omnibus):</th> <td> 0.000</td> <th>  Jarque-Bera (JB):  </th> <td>  54.161</td>\n",
       "</tr>\n",
       "<tr>\n",
       "  <th>Skew:</th>          <td> 0.535</td> <th>  Prob(JB):          </th> <td>1.73e-12</td>\n",
       "</tr>\n",
       "<tr>\n",
       "  <th>Kurtosis:</th>      <td> 3.731</td> <th>  Cond. No.          </th> <td>    24.4</td>\n",
       "</tr>\n",
       "</table>"
      ],
      "text/plain": [
       "<class 'statsmodels.iolib.summary.Summary'>\n",
       "\"\"\"\n",
       "                            OLS Regression Results                            \n",
       "==============================================================================\n",
       "Dep. Variable:           CRS_DEP_TIME   R-squared:                       0.692\n",
       "Model:                            OLS   Adj. R-squared:                  0.689\n",
       "Method:                 Least Squares   F-statistic:                     246.4\n",
       "Date:                Tue, 10 Apr 2018   Prob (F-statistic):          2.11e-191\n",
       "Time:                        22:03:25   Log-Likelihood:                -302.91\n",
       "No. Observations:                 774   AIC:                             619.8\n",
       "Df Residuals:                     767   BIC:                             652.4\n",
       "Df Model:                           7                                         \n",
       "Covariance Type:            nonrobust                                         \n",
       "=========================================================================================\n",
       "                            coef    std err          t      P>|t|      [0.025      0.975]\n",
       "-----------------------------------------------------------------------------------------\n",
       "MONTH                     0.0299      0.004      8.322      0.000       0.023       0.037\n",
       "DAY_OF_WEEK               0.0625      0.006     10.979      0.000       0.051       0.074\n",
       "TAXI_OUT                  0.1561      0.015     10.205      0.000       0.126       0.186\n",
       "CRS_ARR_TIME             -0.6425      0.025    -25.596      0.000      -0.692      -0.593\n",
       "CARRIER_DELAY             0.1886      0.031      6.172      0.000       0.129       0.249\n",
       "LATE_AIRCRAFT_DELAY       0.1865      0.033      5.600      0.000       0.121       0.252\n",
       "ScheduledDepartureSFO     0.0138      0.009      1.573      0.116      -0.003       0.031\n",
       "==============================================================================\n",
       "Omnibus:                       44.026   Durbin-Watson:                   1.994\n",
       "Prob(Omnibus):                  0.000   Jarque-Bera (JB):               54.161\n",
       "Skew:                           0.535   Prob(JB):                     1.73e-12\n",
       "Kurtosis:                       3.731   Cond. No.                         24.4\n",
       "==============================================================================\n",
       "\n",
       "Warnings:\n",
       "[1] Standard Errors assume that the covariance matrix of the errors is correctly specified.\n",
       "\"\"\""
      ]
     },
     "execution_count": 25,
     "metadata": {},
     "output_type": "execute_result"
    }
   ],
   "source": [
    "crs_departure_from = ['MONTH', 'DAY_OF_WEEK', 'TAXI_OUT', 'CRS_ARR_TIME', 'CARRIER_DELAY', 'LATE_AIRCRAFT_DELAY', 'ScheduledDepartureSFO'] \n",
    "gf.regression_model(train_df, crs_departure_from, 'CRS_DEP_TIME').summary()"
   ]
  },
  {
   "cell_type": "code",
   "execution_count": 26,
   "metadata": {},
   "outputs": [
    {
     "name": "stdout",
     "output_type": "stream",
     "text": [
      "[('CRS_DEP_TIME', 'NAS_DELAY'), ('NAS_DELAY', 'WEATHER_DELAY'), ('WEATHER_DELAY', 'CARRIER_DELAY'), ('CARRIER_DELAY', 'CRS_DEP_TIME')]\n"
     ]
    }
   ],
   "source": [
    "flight_edges_df, bn = gf.update_flights_edges_df(crs_departure_from, 'CRS_DEP_TIME', flight_edges_df)"
   ]
  },
  {
   "cell_type": "code",
   "execution_count": 27,
   "metadata": {},
   "outputs": [
    {
     "name": "stdout",
     "output_type": "stream",
     "text": [
      "[('CRS_DEP_TIME', 'LATE_AIRCRAFT_DELAY'), ('LATE_AIRCRAFT_DELAY', 'CRS_DEP_TIME')]\n"
     ]
    }
   ],
   "source": [
    "flight_edges_df, bn = gf.remove_edge('CARRIER_DELAY', 'CRS_DEP_TIME', flight_edges_df)"
   ]
  },
  {
   "cell_type": "code",
   "execution_count": 28,
   "metadata": {},
   "outputs": [
    {
     "name": "stdout",
     "output_type": "stream",
     "text": [
      "[('CRS_DEP_TIME', 'CRS_ARR_TIME'), ('CRS_ARR_TIME', 'CRS_DEP_TIME')]\n"
     ]
    }
   ],
   "source": [
    "flight_edges_df, bn = gf.remove_edge('LATE_AIRCRAFT_DELAY', 'CRS_DEP_TIME', flight_edges_df)"
   ]
  },
  {
   "cell_type": "code",
   "execution_count": 29,
   "metadata": {},
   "outputs": [
    {
     "name": "stdout",
     "output_type": "stream",
     "text": [
      "No cycle found! You may proceed.\n"
     ]
    }
   ],
   "source": [
    "flight_edges_df, bn = gf.remove_edge('CRS_DEP_TIME', 'CRS_ARR_TIME', flight_edges_df)"
   ]
  },
  {
   "cell_type": "markdown",
   "metadata": {},
   "source": [
    "### Taxi Out"
   ]
  },
  {
   "cell_type": "markdown",
   "metadata": {},
   "source": [
    "Taxi Out Time, in Minutes."
   ]
  },
  {
   "cell_type": "code",
   "execution_count": 30,
   "metadata": {},
   "outputs": [
    {
     "data": {
      "text/html": [
       "<table class=\"simpletable\">\n",
       "<caption>OLS Regression Results</caption>\n",
       "<tr>\n",
       "  <th>Dep. Variable:</th>        <td>TAXI_OUT</td>     <th>  R-squared:         </th> <td>   0.803</td> \n",
       "</tr>\n",
       "<tr>\n",
       "  <th>Model:</th>                   <td>OLS</td>       <th>  Adj. R-squared:    </th> <td>   0.801</td> \n",
       "</tr>\n",
       "<tr>\n",
       "  <th>Method:</th>             <td>Least Squares</td>  <th>  F-statistic:       </th> <td>   446.9</td> \n",
       "</tr>\n",
       "<tr>\n",
       "  <th>Date:</th>             <td>Tue, 10 Apr 2018</td> <th>  Prob (F-statistic):</th> <td>1.12e-265</td>\n",
       "</tr>\n",
       "<tr>\n",
       "  <th>Time:</th>                 <td>22:03:25</td>     <th>  Log-Likelihood:    </th> <td> -835.39</td> \n",
       "</tr>\n",
       "<tr>\n",
       "  <th>No. Observations:</th>      <td>   774</td>      <th>  AIC:               </th> <td>   1685.</td> \n",
       "</tr>\n",
       "<tr>\n",
       "  <th>Df Residuals:</th>          <td>   767</td>      <th>  BIC:               </th> <td>   1717.</td> \n",
       "</tr>\n",
       "<tr>\n",
       "  <th>Df Model:</th>              <td>     7</td>      <th>                     </th>     <td> </td>    \n",
       "</tr>\n",
       "<tr>\n",
       "  <th>Covariance Type:</th>      <td>nonrobust</td>    <th>                     </th>     <td> </td>    \n",
       "</tr>\n",
       "</table>\n",
       "<table class=\"simpletable\">\n",
       "<tr>\n",
       "        <td></td>           <th>coef</th>     <th>std err</th>      <th>t</th>      <th>P>|t|</th>  <th>[0.025</th>    <th>0.975]</th>  \n",
       "</tr>\n",
       "<tr>\n",
       "  <th>MONTH</th>         <td>    0.0615</td> <td>    0.007</td> <td>    8.962</td> <td> 0.000</td> <td>    0.048</td> <td>    0.075</td>\n",
       "</tr>\n",
       "<tr>\n",
       "  <th>CRS_DEP_TIME</th>  <td>    0.7262</td> <td>    0.061</td> <td>   11.906</td> <td> 0.000</td> <td>    0.606</td> <td>    0.846</td>\n",
       "</tr>\n",
       "<tr>\n",
       "  <th>DEP_DELAY</th>     <td>   -0.1254</td> <td>    0.031</td> <td>   -4.048</td> <td> 0.000</td> <td>   -0.186</td> <td>   -0.065</td>\n",
       "</tr>\n",
       "<tr>\n",
       "  <th>TAXI_IN</th>       <td>   -0.1308</td> <td>    0.046</td> <td>   -2.863</td> <td> 0.004</td> <td>   -0.220</td> <td>   -0.041</td>\n",
       "</tr>\n",
       "<tr>\n",
       "  <th>CRS_ARR_TIME</th>  <td>    0.7253</td> <td>    0.055</td> <td>   13.131</td> <td> 0.000</td> <td>    0.617</td> <td>    0.834</td>\n",
       "</tr>\n",
       "<tr>\n",
       "  <th>CARRIER_DELAY</th> <td>   -0.2385</td> <td>    0.069</td> <td>   -3.461</td> <td> 0.001</td> <td>   -0.374</td> <td>   -0.103</td>\n",
       "</tr>\n",
       "<tr>\n",
       "  <th>NAS_DELAY</th>     <td>    0.7244</td> <td>    0.054</td> <td>   13.440</td> <td> 0.000</td> <td>    0.619</td> <td>    0.830</td>\n",
       "</tr>\n",
       "</table>\n",
       "<table class=\"simpletable\">\n",
       "<tr>\n",
       "  <th>Omnibus:</th>       <td>94.662</td> <th>  Durbin-Watson:     </th> <td>   1.908</td>\n",
       "</tr>\n",
       "<tr>\n",
       "  <th>Prob(Omnibus):</th> <td> 0.000</td> <th>  Jarque-Bera (JB):  </th> <td> 180.783</td>\n",
       "</tr>\n",
       "<tr>\n",
       "  <th>Skew:</th>          <td> 0.744</td> <th>  Prob(JB):          </th> <td>5.54e-40</td>\n",
       "</tr>\n",
       "<tr>\n",
       "  <th>Kurtosis:</th>      <td> 4.841</td> <th>  Cond. No.          </th> <td>    23.1</td>\n",
       "</tr>\n",
       "</table>"
      ],
      "text/plain": [
       "<class 'statsmodels.iolib.summary.Summary'>\n",
       "\"\"\"\n",
       "                            OLS Regression Results                            \n",
       "==============================================================================\n",
       "Dep. Variable:               TAXI_OUT   R-squared:                       0.803\n",
       "Model:                            OLS   Adj. R-squared:                  0.801\n",
       "Method:                 Least Squares   F-statistic:                     446.9\n",
       "Date:                Tue, 10 Apr 2018   Prob (F-statistic):          1.12e-265\n",
       "Time:                        22:03:25   Log-Likelihood:                -835.39\n",
       "No. Observations:                 774   AIC:                             1685.\n",
       "Df Residuals:                     767   BIC:                             1717.\n",
       "Df Model:                           7                                         \n",
       "Covariance Type:            nonrobust                                         \n",
       "=================================================================================\n",
       "                    coef    std err          t      P>|t|      [0.025      0.975]\n",
       "---------------------------------------------------------------------------------\n",
       "MONTH             0.0615      0.007      8.962      0.000       0.048       0.075\n",
       "CRS_DEP_TIME      0.7262      0.061     11.906      0.000       0.606       0.846\n",
       "DEP_DELAY        -0.1254      0.031     -4.048      0.000      -0.186      -0.065\n",
       "TAXI_IN          -0.1308      0.046     -2.863      0.004      -0.220      -0.041\n",
       "CRS_ARR_TIME      0.7253      0.055     13.131      0.000       0.617       0.834\n",
       "CARRIER_DELAY    -0.2385      0.069     -3.461      0.001      -0.374      -0.103\n",
       "NAS_DELAY         0.7244      0.054     13.440      0.000       0.619       0.830\n",
       "==============================================================================\n",
       "Omnibus:                       94.662   Durbin-Watson:                   1.908\n",
       "Prob(Omnibus):                  0.000   Jarque-Bera (JB):              180.783\n",
       "Skew:                           0.744   Prob(JB):                     5.54e-40\n",
       "Kurtosis:                       4.841   Cond. No.                         23.1\n",
       "==============================================================================\n",
       "\n",
       "Warnings:\n",
       "[1] Standard Errors assume that the covariance matrix of the errors is correctly specified.\n",
       "\"\"\""
      ]
     },
     "execution_count": 30,
     "metadata": {},
     "output_type": "execute_result"
    }
   ],
   "source": [
    "taxi_out_from = ['MONTH', 'CRS_DEP_TIME', 'DEP_DELAY', 'TAXI_IN', 'CRS_ARR_TIME', 'CARRIER_DELAY', 'NAS_DELAY']\n",
    "gf.regression_model(train_df, taxi_out_from, 'TAXI_OUT').summary()"
   ]
  },
  {
   "cell_type": "code",
   "execution_count": 31,
   "metadata": {},
   "outputs": [
    {
     "name": "stdout",
     "output_type": "stream",
     "text": [
      "[('NAS_DELAY', 'WEATHER_DELAY'), ('WEATHER_DELAY', 'CARRIER_DELAY'), ('CARRIER_DELAY', 'TAXI_OUT'), ('TAXI_OUT', 'NAS_DELAY')]\n"
     ]
    }
   ],
   "source": [
    "flight_edges_df, bn = gf.update_flights_edges_df(taxi_out_from,'TAXI_OUT',flight_edges_df)"
   ]
  },
  {
   "cell_type": "code",
   "execution_count": 32,
   "metadata": {},
   "outputs": [
    {
     "name": "stdout",
     "output_type": "stream",
     "text": [
      "[('CARRIER_DELAY', 'TAXI_OUT'), ('TAXI_OUT', 'CARRIER_DELAY')]\n"
     ]
    }
   ],
   "source": [
    "flight_edges_df, bn = gf.remove_edge('TAXI_OUT', 'NAS_DELAY', flight_edges_df)"
   ]
  },
  {
   "cell_type": "code",
   "execution_count": 33,
   "metadata": {},
   "outputs": [
    {
     "name": "stdout",
     "output_type": "stream",
     "text": [
      "[('NAS_DELAY', 'WEATHER_DELAY'), ('WEATHER_DELAY', 'CARRIER_DELAY'), ('CARRIER_DELAY', 'TAXI_OUT'), ('TAXI_OUT', 'CRS_ARR_TIME'), ('CRS_ARR_TIME', 'NAS_DELAY')]\n"
     ]
    }
   ],
   "source": [
    "flight_edges_df, bn = gf.remove_edge('TAXI_OUT', 'CARRIER_DELAY', flight_edges_df)"
   ]
  },
  {
   "cell_type": "code",
   "execution_count": 34,
   "metadata": {},
   "outputs": [
    {
     "name": "stdout",
     "output_type": "stream",
     "text": [
      "[('CRS_DEP_TIME', 'NAS_DELAY'), ('NAS_DELAY', 'WEATHER_DELAY'), ('WEATHER_DELAY', 'CARRIER_DELAY'), ('CARRIER_DELAY', 'TAXI_OUT'), ('TAXI_OUT', 'CRS_DEP_TIME')]\n"
     ]
    }
   ],
   "source": [
    "flight_edges_df, bn = gf.remove_edge('TAXI_OUT', 'CRS_ARR_TIME', flight_edges_df)"
   ]
  },
  {
   "cell_type": "code",
   "execution_count": 35,
   "metadata": {},
   "outputs": [
    {
     "name": "stdout",
     "output_type": "stream",
     "text": [
      "No cycle found! You may proceed.\n"
     ]
    }
   ],
   "source": [
    "flight_edges_df, bn = gf.remove_edge('TAXI_OUT', 'CRS_DEP_TIME', flight_edges_df)"
   ]
  },
  {
   "cell_type": "markdown",
   "metadata": {},
   "source": [
    "### Taxi In"
   ]
  },
  {
   "cell_type": "code",
   "execution_count": 36,
   "metadata": {},
   "outputs": [
    {
     "data": {
      "text/html": [
       "<table class=\"simpletable\">\n",
       "<caption>OLS Regression Results</caption>\n",
       "<tr>\n",
       "  <th>Dep. Variable:</th>         <td>TAXI_IN</td>     <th>  R-squared:         </th> <td>   0.050</td>\n",
       "</tr>\n",
       "<tr>\n",
       "  <th>Model:</th>                   <td>OLS</td>       <th>  Adj. R-squared:    </th> <td>   0.047</td>\n",
       "</tr>\n",
       "<tr>\n",
       "  <th>Method:</th>             <td>Least Squares</td>  <th>  F-statistic:       </th> <td>   13.65</td>\n",
       "</tr>\n",
       "<tr>\n",
       "  <th>Date:</th>             <td>Tue, 10 Apr 2018</td> <th>  Prob (F-statistic):</th> <td>1.10e-08</td>\n",
       "</tr>\n",
       "<tr>\n",
       "  <th>Time:</th>                 <td>22:03:25</td>     <th>  Log-Likelihood:    </th> <td> -653.07</td>\n",
       "</tr>\n",
       "<tr>\n",
       "  <th>No. Observations:</th>      <td>   774</td>      <th>  AIC:               </th> <td>   1312.</td>\n",
       "</tr>\n",
       "<tr>\n",
       "  <th>Df Residuals:</th>          <td>   771</td>      <th>  BIC:               </th> <td>   1326.</td>\n",
       "</tr>\n",
       "<tr>\n",
       "  <th>Df Model:</th>              <td>     3</td>      <th>                     </th>     <td> </td>   \n",
       "</tr>\n",
       "<tr>\n",
       "  <th>Covariance Type:</th>      <td>nonrobust</td>    <th>                     </th>     <td> </td>   \n",
       "</tr>\n",
       "</table>\n",
       "<table class=\"simpletable\">\n",
       "<tr>\n",
       "           <td></td>              <th>coef</th>     <th>std err</th>      <th>t</th>      <th>P>|t|</th>  <th>[0.025</th>    <th>0.975]</th>  \n",
       "</tr>\n",
       "<tr>\n",
       "  <th>CRS_ARR_TIME</th>        <td>    0.0723</td> <td>    0.029</td> <td>    2.452</td> <td> 0.014</td> <td>    0.014</td> <td>    0.130</td>\n",
       "</tr>\n",
       "<tr>\n",
       "  <th>NAS_DELAY</th>           <td>    0.1158</td> <td>    0.038</td> <td>    3.024</td> <td> 0.003</td> <td>    0.041</td> <td>    0.191</td>\n",
       "</tr>\n",
       "<tr>\n",
       "  <th>DelayedDepartureSFO</th> <td>    0.1741</td> <td>    0.074</td> <td>    2.364</td> <td> 0.018</td> <td>    0.030</td> <td>    0.319</td>\n",
       "</tr>\n",
       "</table>\n",
       "<table class=\"simpletable\">\n",
       "<tr>\n",
       "  <th>Omnibus:</th>       <td>1482.129</td> <th>  Durbin-Watson:     </th>  <td>   2.045</td>  \n",
       "</tr>\n",
       "<tr>\n",
       "  <th>Prob(Omnibus):</th>  <td> 0.000</td>  <th>  Jarque-Bera (JB):  </th> <td>2041200.237</td>\n",
       "</tr>\n",
       "<tr>\n",
       "  <th>Skew:</th>           <td>13.483</td>  <th>  Prob(JB):          </th>  <td>    0.00</td>  \n",
       "</tr>\n",
       "<tr>\n",
       "  <th>Kurtosis:</th>       <td>253.132</td> <th>  Cond. No.          </th>  <td>    3.20</td>  \n",
       "</tr>\n",
       "</table>"
      ],
      "text/plain": [
       "<class 'statsmodels.iolib.summary.Summary'>\n",
       "\"\"\"\n",
       "                            OLS Regression Results                            \n",
       "==============================================================================\n",
       "Dep. Variable:                TAXI_IN   R-squared:                       0.050\n",
       "Model:                            OLS   Adj. R-squared:                  0.047\n",
       "Method:                 Least Squares   F-statistic:                     13.65\n",
       "Date:                Tue, 10 Apr 2018   Prob (F-statistic):           1.10e-08\n",
       "Time:                        22:03:25   Log-Likelihood:                -653.07\n",
       "No. Observations:                 774   AIC:                             1312.\n",
       "Df Residuals:                     771   BIC:                             1326.\n",
       "Df Model:                           3                                         \n",
       "Covariance Type:            nonrobust                                         \n",
       "=======================================================================================\n",
       "                          coef    std err          t      P>|t|      [0.025      0.975]\n",
       "---------------------------------------------------------------------------------------\n",
       "CRS_ARR_TIME            0.0723      0.029      2.452      0.014       0.014       0.130\n",
       "NAS_DELAY               0.1158      0.038      3.024      0.003       0.041       0.191\n",
       "DelayedDepartureSFO     0.1741      0.074      2.364      0.018       0.030       0.319\n",
       "==============================================================================\n",
       "Omnibus:                     1482.129   Durbin-Watson:                   2.045\n",
       "Prob(Omnibus):                  0.000   Jarque-Bera (JB):          2041200.237\n",
       "Skew:                          13.483   Prob(JB):                         0.00\n",
       "Kurtosis:                     253.132   Cond. No.                         3.20\n",
       "==============================================================================\n",
       "\n",
       "Warnings:\n",
       "[1] Standard Errors assume that the covariance matrix of the errors is correctly specified.\n",
       "\"\"\""
      ]
     },
     "execution_count": 36,
     "metadata": {},
     "output_type": "execute_result"
    }
   ],
   "source": [
    "taxi_in_from = ['CRS_ARR_TIME', 'NAS_DELAY', 'DelayedDepartureSFO']\n",
    "gf.regression_model(train_df, taxi_in_from, 'TAXI_IN').summary()"
   ]
  },
  {
   "cell_type": "code",
   "execution_count": 37,
   "metadata": {},
   "outputs": [
    {
     "name": "stdout",
     "output_type": "stream",
     "text": [
      "[('NAS_DELAY', 'TAXI_IN'), ('TAXI_IN', 'NAS_DELAY')]\n"
     ]
    }
   ],
   "source": [
    "flight_edges_df, bn = gf.update_flights_edges_df(taxi_in_from,'TAXI_IN',flight_edges_df)"
   ]
  },
  {
   "cell_type": "code",
   "execution_count": 38,
   "metadata": {},
   "outputs": [
    {
     "name": "stdout",
     "output_type": "stream",
     "text": [
      "No cycle found! You may proceed.\n"
     ]
    }
   ],
   "source": [
    "flight_edges_df, bn = gf.remove_edge('TAXI_IN', 'NAS_DELAY', flight_edges_df)"
   ]
  },
  {
   "cell_type": "markdown",
   "metadata": {},
   "source": [
    "### Departure Delay"
   ]
  },
  {
   "cell_type": "markdown",
   "metadata": {},
   "source": [
    "This is the difference in minutes between scheduled and actual departure time. Early departures show negative numbers."
   ]
  },
  {
   "cell_type": "markdown",
   "metadata": {},
   "source": [
    "Departure time is the time recorded when the plane's parking brakes are released, which is after doors are closed and just prior to the plane beginning to taxi. That is, departure time starts right before a plan leaves its gate. Therefore, while it is likely that a difference in CRS departure time and actual departure time causes an NAS delay, it is impossible for NAS delay to influence the departure time difference. Thus, we remove the edge from NAS_DELAY to DEP_DELAY."
   ]
  },
  {
   "cell_type": "code",
   "execution_count": 39,
   "metadata": {},
   "outputs": [
    {
     "data": {
      "text/html": [
       "<table class=\"simpletable\">\n",
       "<caption>OLS Regression Results</caption>\n",
       "<tr>\n",
       "  <th>Dep. Variable:</th>        <td>DEP_DELAY</td>    <th>  R-squared:         </th> <td>   0.370</td>\n",
       "</tr>\n",
       "<tr>\n",
       "  <th>Model:</th>                   <td>OLS</td>       <th>  Adj. R-squared:    </th> <td>   0.365</td>\n",
       "</tr>\n",
       "<tr>\n",
       "  <th>Method:</th>             <td>Least Squares</td>  <th>  F-statistic:       </th> <td>   75.04</td>\n",
       "</tr>\n",
       "<tr>\n",
       "  <th>Date:</th>             <td>Tue, 10 Apr 2018</td> <th>  Prob (F-statistic):</th> <td>1.16e-73</td>\n",
       "</tr>\n",
       "<tr>\n",
       "  <th>Time:</th>                 <td>22:03:25</td>     <th>  Log-Likelihood:    </th> <td> -908.02</td>\n",
       "</tr>\n",
       "<tr>\n",
       "  <th>No. Observations:</th>      <td>   774</td>      <th>  AIC:               </th> <td>   1828.</td>\n",
       "</tr>\n",
       "<tr>\n",
       "  <th>Df Residuals:</th>          <td>   768</td>      <th>  BIC:               </th> <td>   1856.</td>\n",
       "</tr>\n",
       "<tr>\n",
       "  <th>Df Model:</th>              <td>     6</td>      <th>                     </th>     <td> </td>   \n",
       "</tr>\n",
       "<tr>\n",
       "  <th>Covariance Type:</th>      <td>nonrobust</td>    <th>                     </th>     <td> </td>   \n",
       "</tr>\n",
       "</table>\n",
       "<table class=\"simpletable\">\n",
       "<tr>\n",
       "           <td></td>              <th>coef</th>     <th>std err</th>      <th>t</th>      <th>P>|t|</th>  <th>[0.025</th>    <th>0.975]</th>  \n",
       "</tr>\n",
       "<tr>\n",
       "  <th>MONTH</th>               <td>   -0.0209</td> <td>    0.008</td> <td>   -2.711</td> <td> 0.007</td> <td>   -0.036</td> <td>   -0.006</td>\n",
       "</tr>\n",
       "<tr>\n",
       "  <th>DAY_OF_WEEK</th>         <td>    0.0315</td> <td>    0.012</td> <td>    2.532</td> <td> 0.012</td> <td>    0.007</td> <td>    0.056</td>\n",
       "</tr>\n",
       "<tr>\n",
       "  <th>TAXI_OUT</th>            <td>   -0.0674</td> <td>    0.033</td> <td>   -2.021</td> <td> 0.044</td> <td>   -0.133</td> <td>   -0.002</td>\n",
       "</tr>\n",
       "<tr>\n",
       "  <th>CRS_ARR_TIME</th>        <td>   -0.1115</td> <td>    0.055</td> <td>   -2.037</td> <td> 0.042</td> <td>   -0.219</td> <td>   -0.004</td>\n",
       "</tr>\n",
       "<tr>\n",
       "  <th>CARRIER_DELAY</th>       <td>    0.8854</td> <td>    0.067</td> <td>   13.282</td> <td> 0.000</td> <td>    0.755</td> <td>    1.016</td>\n",
       "</tr>\n",
       "<tr>\n",
       "  <th>LATE_AIRCRAFT_DELAY</th> <td>    0.7613</td> <td>    0.073</td> <td>   10.500</td> <td> 0.000</td> <td>    0.619</td> <td>    0.904</td>\n",
       "</tr>\n",
       "</table>\n",
       "<table class=\"simpletable\">\n",
       "<tr>\n",
       "  <th>Omnibus:</th>       <td>5214.486</td> <th>  Durbin-Watson:     </th> <td>   2.168</td>\n",
       "</tr>\n",
       "<tr>\n",
       "  <th>Prob(Omnibus):</th>  <td> 0.000</td>  <th>  Jarque-Bera (JB):  </th> <td>  73.307</td>\n",
       "</tr>\n",
       "<tr>\n",
       "  <th>Skew:</th>           <td> 0.331</td>  <th>  Prob(JB):          </th> <td>1.21e-16</td>\n",
       "</tr>\n",
       "<tr>\n",
       "  <th>Kurtosis:</th>       <td> 1.645</td>  <th>  Cond. No.          </th> <td>    24.3</td>\n",
       "</tr>\n",
       "</table>"
      ],
      "text/plain": [
       "<class 'statsmodels.iolib.summary.Summary'>\n",
       "\"\"\"\n",
       "                            OLS Regression Results                            \n",
       "==============================================================================\n",
       "Dep. Variable:              DEP_DELAY   R-squared:                       0.370\n",
       "Model:                            OLS   Adj. R-squared:                  0.365\n",
       "Method:                 Least Squares   F-statistic:                     75.04\n",
       "Date:                Tue, 10 Apr 2018   Prob (F-statistic):           1.16e-73\n",
       "Time:                        22:03:25   Log-Likelihood:                -908.02\n",
       "No. Observations:                 774   AIC:                             1828.\n",
       "Df Residuals:                     768   BIC:                             1856.\n",
       "Df Model:                           6                                         \n",
       "Covariance Type:            nonrobust                                         \n",
       "=======================================================================================\n",
       "                          coef    std err          t      P>|t|      [0.025      0.975]\n",
       "---------------------------------------------------------------------------------------\n",
       "MONTH                  -0.0209      0.008     -2.711      0.007      -0.036      -0.006\n",
       "DAY_OF_WEEK             0.0315      0.012      2.532      0.012       0.007       0.056\n",
       "TAXI_OUT               -0.0674      0.033     -2.021      0.044      -0.133      -0.002\n",
       "CRS_ARR_TIME           -0.1115      0.055     -2.037      0.042      -0.219      -0.004\n",
       "CARRIER_DELAY           0.8854      0.067     13.282      0.000       0.755       1.016\n",
       "LATE_AIRCRAFT_DELAY     0.7613      0.073     10.500      0.000       0.619       0.904\n",
       "==============================================================================\n",
       "Omnibus:                     5214.486   Durbin-Watson:                   2.168\n",
       "Prob(Omnibus):                  0.000   Jarque-Bera (JB):               73.307\n",
       "Skew:                           0.331   Prob(JB):                     1.21e-16\n",
       "Kurtosis:                       1.645   Cond. No.                         24.3\n",
       "==============================================================================\n",
       "\n",
       "Warnings:\n",
       "[1] Standard Errors assume that the covariance matrix of the errors is correctly specified.\n",
       "\"\"\""
      ]
     },
     "execution_count": 39,
     "metadata": {},
     "output_type": "execute_result"
    }
   ],
   "source": [
    "departure_delay_from = ['MONTH', 'DAY_OF_WEEK', 'TAXI_OUT', 'CRS_ARR_TIME', 'CARRIER_DELAY', 'LATE_AIRCRAFT_DELAY']\n",
    "gf.regression_model(train_df, departure_delay_from, 'DEP_DELAY').summary()"
   ]
  },
  {
   "cell_type": "code",
   "execution_count": 40,
   "metadata": {},
   "outputs": [
    {
     "name": "stdout",
     "output_type": "stream",
     "text": [
      "[('DEP_DELAY', 'LATE_AIRCRAFT_DELAY'), ('LATE_AIRCRAFT_DELAY', 'DEP_DELAY')]\n"
     ]
    }
   ],
   "source": [
    "flight_edges_df, bn = gf.update_flights_edges_df(departure_delay_from,'DEP_DELAY',flight_edges_df)"
   ]
  },
  {
   "cell_type": "code",
   "execution_count": 41,
   "metadata": {},
   "outputs": [
    {
     "name": "stdout",
     "output_type": "stream",
     "text": [
      "[('CARRIER_DELAY', 'TAXI_OUT'), ('TAXI_OUT', 'DEP_DELAY'), ('DEP_DELAY', 'CARRIER_DELAY')]\n"
     ]
    }
   ],
   "source": [
    "flight_edges_df, bn = gf.remove_edge('DEP_DELAY', 'LATE_AIRCRAFT_DELAY', flight_edges_df)"
   ]
  },
  {
   "cell_type": "code",
   "execution_count": 42,
   "metadata": {},
   "outputs": [
    {
     "name": "stdout",
     "output_type": "stream",
     "text": [
      "[('CARRIER_DELAY', 'DEP_DELAY'), ('DEP_DELAY', 'CARRIER_DELAY')]\n"
     ]
    }
   ],
   "source": [
    "flight_edges_df, bn = gf.remove_edge('TAXI_OUT', 'DEP_DELAY', flight_edges_df)"
   ]
  },
  {
   "cell_type": "code",
   "execution_count": 43,
   "metadata": {},
   "outputs": [
    {
     "name": "stdout",
     "output_type": "stream",
     "text": [
      "[('WEATHER_DELAY', 'CARRIER_DELAY'), ('CARRIER_DELAY', 'DEP_DELAY'), ('DEP_DELAY', 'WEATHER_DELAY')]\n"
     ]
    }
   ],
   "source": [
    "flight_edges_df, bn = gf.remove_edge('DEP_DELAY', 'CARRIER_DELAY', flight_edges_df)"
   ]
  },
  {
   "cell_type": "code",
   "execution_count": 44,
   "metadata": {},
   "outputs": [
    {
     "name": "stdout",
     "output_type": "stream",
     "text": [
      "No cycle found! You may proceed.\n"
     ]
    }
   ],
   "source": [
    "flight_edges_df, bn = gf.remove_edge('DEP_DELAY', 'WEATHER_DELAY', flight_edges_df)"
   ]
  },
  {
   "cell_type": "markdown",
   "metadata": {},
   "source": [
    "### DelayedDepartureSFO"
   ]
  },
  {
   "cell_type": "code",
   "execution_count": 45,
   "metadata": {},
   "outputs": [
    {
     "data": {
      "text/html": [
       "<table class=\"simpletable\">\n",
       "<caption>OLS Regression Results</caption>\n",
       "<tr>\n",
       "  <th>Dep. Variable:</th>    <td>DelayedDepartureSFO</td> <th>  R-squared:         </th> <td>   0.286</td>\n",
       "</tr>\n",
       "<tr>\n",
       "  <th>Model:</th>                    <td>OLS</td>         <th>  Adj. R-squared:    </th> <td>   0.283</td>\n",
       "</tr>\n",
       "<tr>\n",
       "  <th>Method:</th>              <td>Least Squares</td>    <th>  F-statistic:       </th> <td>   102.8</td>\n",
       "</tr>\n",
       "<tr>\n",
       "  <th>Date:</th>              <td>Tue, 10 Apr 2018</td>   <th>  Prob (F-statistic):</th> <td>5.66e-56</td>\n",
       "</tr>\n",
       "<tr>\n",
       "  <th>Time:</th>                  <td>22:03:25</td>       <th>  Log-Likelihood:    </th> <td>  8.8911</td>\n",
       "</tr>\n",
       "<tr>\n",
       "  <th>No. Observations:</th>       <td>   774</td>        <th>  AIC:               </th> <td>  -11.78</td>\n",
       "</tr>\n",
       "<tr>\n",
       "  <th>Df Residuals:</th>           <td>   771</td>        <th>  BIC:               </th> <td>   2.172</td>\n",
       "</tr>\n",
       "<tr>\n",
       "  <th>Df Model:</th>               <td>     3</td>        <th>                     </th>     <td> </td>   \n",
       "</tr>\n",
       "<tr>\n",
       "  <th>Covariance Type:</th>       <td>nonrobust</td>      <th>                     </th>     <td> </td>   \n",
       "</tr>\n",
       "</table>\n",
       "<table class=\"simpletable\">\n",
       "<tr>\n",
       "            <td></td>               <th>coef</th>     <th>std err</th>      <th>t</th>      <th>P>|t|</th>  <th>[0.025</th>    <th>0.975]</th>  \n",
       "</tr>\n",
       "<tr>\n",
       "  <th>TAXI_IN</th>               <td>    0.0281</td> <td>    0.015</td> <td>    1.866</td> <td> 0.062</td> <td>   -0.001</td> <td>    0.058</td>\n",
       "</tr>\n",
       "<tr>\n",
       "  <th>ScheduledDepartureSFO</th> <td>    0.0774</td> <td>    0.006</td> <td>   13.624</td> <td> 0.000</td> <td>    0.066</td> <td>    0.089</td>\n",
       "</tr>\n",
       "<tr>\n",
       "  <th>ScheduledArrivalPHL</th>   <td>    0.0278</td> <td>    0.009</td> <td>    3.095</td> <td> 0.002</td> <td>    0.010</td> <td>    0.045</td>\n",
       "</tr>\n",
       "</table>\n",
       "<table class=\"simpletable\">\n",
       "<tr>\n",
       "  <th>Omnibus:</th>       <td>297.563</td> <th>  Durbin-Watson:     </th> <td>   2.019</td> \n",
       "</tr>\n",
       "<tr>\n",
       "  <th>Prob(Omnibus):</th> <td> 0.000</td>  <th>  Jarque-Bera (JB):  </th> <td>1001.511</td> \n",
       "</tr>\n",
       "<tr>\n",
       "  <th>Skew:</th>          <td> 1.874</td>  <th>  Prob(JB):          </th> <td>3.35e-218</td>\n",
       "</tr>\n",
       "<tr>\n",
       "  <th>Kurtosis:</th>      <td> 7.123</td>  <th>  Cond. No.          </th> <td>    3.16</td> \n",
       "</tr>\n",
       "</table>"
      ],
      "text/plain": [
       "<class 'statsmodels.iolib.summary.Summary'>\n",
       "\"\"\"\n",
       "                             OLS Regression Results                            \n",
       "===============================================================================\n",
       "Dep. Variable:     DelayedDepartureSFO   R-squared:                       0.286\n",
       "Model:                             OLS   Adj. R-squared:                  0.283\n",
       "Method:                  Least Squares   F-statistic:                     102.8\n",
       "Date:                 Tue, 10 Apr 2018   Prob (F-statistic):           5.66e-56\n",
       "Time:                         22:03:25   Log-Likelihood:                 8.8911\n",
       "No. Observations:                  774   AIC:                            -11.78\n",
       "Df Residuals:                      771   BIC:                             2.172\n",
       "Df Model:                            3                                         \n",
       "Covariance Type:             nonrobust                                         \n",
       "=========================================================================================\n",
       "                            coef    std err          t      P>|t|      [0.025      0.975]\n",
       "-----------------------------------------------------------------------------------------\n",
       "TAXI_IN                   0.0281      0.015      1.866      0.062      -0.001       0.058\n",
       "ScheduledDepartureSFO     0.0774      0.006     13.624      0.000       0.066       0.089\n",
       "ScheduledArrivalPHL       0.0278      0.009      3.095      0.002       0.010       0.045\n",
       "==============================================================================\n",
       "Omnibus:                      297.563   Durbin-Watson:                   2.019\n",
       "Prob(Omnibus):                  0.000   Jarque-Bera (JB):             1001.511\n",
       "Skew:                           1.874   Prob(JB):                    3.35e-218\n",
       "Kurtosis:                       7.123   Cond. No.                         3.16\n",
       "==============================================================================\n",
       "\n",
       "Warnings:\n",
       "[1] Standard Errors assume that the covariance matrix of the errors is correctly specified.\n",
       "\"\"\""
      ]
     },
     "execution_count": 45,
     "metadata": {},
     "output_type": "execute_result"
    }
   ],
   "source": [
    "delayed_SFO_from = ['TAXI_IN', 'ScheduledDepartureSFO', 'ScheduledArrivalPHL']\n",
    "gf.regression_model(train_df, delayed_SFO_from, 'DelayedDepartureSFO').summary()"
   ]
  },
  {
   "cell_type": "code",
   "execution_count": 46,
   "metadata": {},
   "outputs": [
    {
     "name": "stdout",
     "output_type": "stream",
     "text": [
      "[('NAS_DELAY', 'TAXI_IN'), ('TAXI_IN', 'DelayedDepartureSFO'), ('DelayedDepartureSFO', 'NAS_DELAY')]\n"
     ]
    }
   ],
   "source": [
    "flight_edges_df, bn = gf.update_flights_edges_df(delayed_SFO_from,'DelayedDepartureSFO',flight_edges_df)"
   ]
  },
  {
   "cell_type": "code",
   "execution_count": 47,
   "metadata": {},
   "outputs": [
    {
     "name": "stdout",
     "output_type": "stream",
     "text": [
      "No cycle found! You may proceed.\n"
     ]
    }
   ],
   "source": [
    "flight_edges_df, bn = gf.remove_edge('TAXI_IN', 'DelayedDepartureSFO', flight_edges_df)"
   ]
  },
  {
   "cell_type": "markdown",
   "metadata": {},
   "source": [
    "###   DelayedArrivalPHL"
   ]
  },
  {
   "cell_type": "code",
   "execution_count": 48,
   "metadata": {},
   "outputs": [
    {
     "data": {
      "text/html": [
       "<table class=\"simpletable\">\n",
       "<caption>OLS Regression Results</caption>\n",
       "<tr>\n",
       "  <th>Dep. Variable:</th>    <td>DelayedArrivalPHL</td> <th>  R-squared:         </th> <td>   0.514</td> \n",
       "</tr>\n",
       "<tr>\n",
       "  <th>Model:</th>                   <td>OLS</td>        <th>  Adj. R-squared:    </th> <td>   0.512</td> \n",
       "</tr>\n",
       "<tr>\n",
       "  <th>Method:</th>             <td>Least Squares</td>   <th>  F-statistic:       </th> <td>   271.4</td> \n",
       "</tr>\n",
       "<tr>\n",
       "  <th>Date:</th>             <td>Tue, 10 Apr 2018</td>  <th>  Prob (F-statistic):</th> <td>3.49e-120</td>\n",
       "</tr>\n",
       "<tr>\n",
       "  <th>Time:</th>                 <td>22:03:25</td>      <th>  Log-Likelihood:    </th> <td>  401.66</td> \n",
       "</tr>\n",
       "<tr>\n",
       "  <th>No. Observations:</th>      <td>   774</td>       <th>  AIC:               </th> <td>  -797.3</td> \n",
       "</tr>\n",
       "<tr>\n",
       "  <th>Df Residuals:</th>          <td>   771</td>       <th>  BIC:               </th> <td>  -783.4</td> \n",
       "</tr>\n",
       "<tr>\n",
       "  <th>Df Model:</th>              <td>     3</td>       <th>                     </th>     <td> </td>    \n",
       "</tr>\n",
       "<tr>\n",
       "  <th>Covariance Type:</th>      <td>nonrobust</td>     <th>                     </th>     <td> </td>    \n",
       "</tr>\n",
       "</table>\n",
       "<table class=\"simpletable\">\n",
       "<tr>\n",
       "            <td></td>               <th>coef</th>     <th>std err</th>      <th>t</th>      <th>P>|t|</th>  <th>[0.025</th>    <th>0.975]</th>  \n",
       "</tr>\n",
       "<tr>\n",
       "  <th>TAXI_OUT</th>              <td>   -0.0188</td> <td>    0.004</td> <td>   -4.990</td> <td> 0.000</td> <td>   -0.026</td> <td>   -0.011</td>\n",
       "</tr>\n",
       "<tr>\n",
       "  <th>ScheduledDepartureSFO</th> <td>   -0.0120</td> <td>    0.004</td> <td>   -3.360</td> <td> 0.001</td> <td>   -0.019</td> <td>   -0.005</td>\n",
       "</tr>\n",
       "<tr>\n",
       "  <th>ScheduledArrivalPHL</th>   <td>    0.1536</td> <td>    0.006</td> <td>   27.349</td> <td> 0.000</td> <td>    0.143</td> <td>    0.165</td>\n",
       "</tr>\n",
       "</table>\n",
       "<table class=\"simpletable\">\n",
       "<tr>\n",
       "  <th>Omnibus:</th>       <td>297.258</td> <th>  Durbin-Watson:     </th> <td>   2.043</td>\n",
       "</tr>\n",
       "<tr>\n",
       "  <th>Prob(Omnibus):</th> <td> 0.000</td>  <th>  Jarque-Bera (JB):  </th> <td>2537.011</td>\n",
       "</tr>\n",
       "<tr>\n",
       "  <th>Skew:</th>          <td> 1.495</td>  <th>  Prob(JB):          </th> <td>    0.00</td>\n",
       "</tr>\n",
       "<tr>\n",
       "  <th>Kurtosis:</th>      <td>11.350</td>  <th>  Cond. No.          </th> <td>    2.37</td>\n",
       "</tr>\n",
       "</table>"
      ],
      "text/plain": [
       "<class 'statsmodels.iolib.summary.Summary'>\n",
       "\"\"\"\n",
       "                            OLS Regression Results                            \n",
       "==============================================================================\n",
       "Dep. Variable:      DelayedArrivalPHL   R-squared:                       0.514\n",
       "Model:                            OLS   Adj. R-squared:                  0.512\n",
       "Method:                 Least Squares   F-statistic:                     271.4\n",
       "Date:                Tue, 10 Apr 2018   Prob (F-statistic):          3.49e-120\n",
       "Time:                        22:03:25   Log-Likelihood:                 401.66\n",
       "No. Observations:                 774   AIC:                            -797.3\n",
       "Df Residuals:                     771   BIC:                            -783.4\n",
       "Df Model:                           3                                         \n",
       "Covariance Type:            nonrobust                                         \n",
       "=========================================================================================\n",
       "                            coef    std err          t      P>|t|      [0.025      0.975]\n",
       "-----------------------------------------------------------------------------------------\n",
       "TAXI_OUT                 -0.0188      0.004     -4.990      0.000      -0.026      -0.011\n",
       "ScheduledDepartureSFO    -0.0120      0.004     -3.360      0.001      -0.019      -0.005\n",
       "ScheduledArrivalPHL       0.1536      0.006     27.349      0.000       0.143       0.165\n",
       "==============================================================================\n",
       "Omnibus:                      297.258   Durbin-Watson:                   2.043\n",
       "Prob(Omnibus):                  0.000   Jarque-Bera (JB):             2537.011\n",
       "Skew:                           1.495   Prob(JB):                         0.00\n",
       "Kurtosis:                      11.350   Cond. No.                         2.37\n",
       "==============================================================================\n",
       "\n",
       "Warnings:\n",
       "[1] Standard Errors assume that the covariance matrix of the errors is correctly specified.\n",
       "\"\"\""
      ]
     },
     "execution_count": 48,
     "metadata": {},
     "output_type": "execute_result"
    }
   ],
   "source": [
    "delayed_PHL_from = ['TAXI_OUT', 'ScheduledDepartureSFO', 'ScheduledArrivalPHL']\n",
    "gf.regression_model(train_df,delayed_PHL_from, 'DelayedArrivalPHL').summary()"
   ]
  },
  {
   "cell_type": "code",
   "execution_count": 49,
   "metadata": {},
   "outputs": [
    {
     "name": "stdout",
     "output_type": "stream",
     "text": [
      "[('WEATHER_DELAY', 'CARRIER_DELAY'), ('CARRIER_DELAY', 'TAXI_OUT'), ('TAXI_OUT', 'DelayedArrivalPHL'), ('DelayedArrivalPHL', 'WEATHER_DELAY')]\n"
     ]
    }
   ],
   "source": [
    "flight_edges_df, bn = gf.update_flights_edges_df(delayed_PHL_from,'DelayedArrivalPHL',flight_edges_df)"
   ]
  },
  {
   "cell_type": "code",
   "execution_count": 50,
   "metadata": {},
   "outputs": [
    {
     "name": "stdout",
     "output_type": "stream",
     "text": [
      "No cycle found! You may proceed.\n"
     ]
    }
   ],
   "source": [
    "flight_edges_df, bn = gf.remove_edge('DelayedArrivalPHL', 'WEATHER_DELAY', flight_edges_df)"
   ]
  },
  {
   "cell_type": "markdown",
   "metadata": {},
   "source": [
    "### Number of Scheduled Departures from SFO When Delayed Flight is scheduled to Depart"
   ]
  },
  {
   "cell_type": "code",
   "execution_count": 51,
   "metadata": {},
   "outputs": [
    {
     "data": {
      "text/html": [
       "<table class=\"simpletable\">\n",
       "<caption>OLS Regression Results</caption>\n",
       "<tr>\n",
       "  <th>Dep. Variable:</th>    <td>ScheduledDepartureSFO</td> <th>  R-squared:         </th> <td>   0.443</td>\n",
       "</tr>\n",
       "<tr>\n",
       "  <th>Model:</th>                     <td>OLS</td>          <th>  Adj. R-squared:    </th> <td>   0.439</td>\n",
       "</tr>\n",
       "<tr>\n",
       "  <th>Method:</th>               <td>Least Squares</td>     <th>  F-statistic:       </th> <td>   101.9</td>\n",
       "</tr>\n",
       "<tr>\n",
       "  <th>Date:</th>               <td>Tue, 10 Apr 2018</td>    <th>  Prob (F-statistic):</th> <td>3.32e-94</td>\n",
       "</tr>\n",
       "<tr>\n",
       "  <th>Time:</th>                   <td>22:03:25</td>        <th>  Log-Likelihood:    </th> <td> -1287.0</td>\n",
       "</tr>\n",
       "<tr>\n",
       "  <th>No. Observations:</th>        <td>   774</td>         <th>  AIC:               </th> <td>   2586.</td>\n",
       "</tr>\n",
       "<tr>\n",
       "  <th>Df Residuals:</th>            <td>   768</td>         <th>  BIC:               </th> <td>   2614.</td>\n",
       "</tr>\n",
       "<tr>\n",
       "  <th>Df Model:</th>                <td>     6</td>         <th>                     </th>     <td> </td>   \n",
       "</tr>\n",
       "<tr>\n",
       "  <th>Covariance Type:</th>        <td>nonrobust</td>       <th>                     </th>     <td> </td>   \n",
       "</tr>\n",
       "</table>\n",
       "<table class=\"simpletable\">\n",
       "<tr>\n",
       "           <td></td>              <th>coef</th>     <th>std err</th>      <th>t</th>      <th>P>|t|</th>  <th>[0.025</th>    <th>0.975]</th>  \n",
       "</tr>\n",
       "<tr>\n",
       "  <th>MONTH</th>               <td>    0.0385</td> <td>    0.012</td> <td>    3.143</td> <td> 0.002</td> <td>    0.014</td> <td>    0.063</td>\n",
       "</tr>\n",
       "<tr>\n",
       "  <th>CRS_DEP_TIME</th>        <td>    0.1903</td> <td>    0.103</td> <td>    1.851</td> <td> 0.064</td> <td>   -0.011</td> <td>    0.392</td>\n",
       "</tr>\n",
       "<tr>\n",
       "  <th>CRS_ARR_TIME</th>        <td>    0.2273</td> <td>    0.095</td> <td>    2.383</td> <td> 0.017</td> <td>    0.040</td> <td>    0.415</td>\n",
       "</tr>\n",
       "<tr>\n",
       "  <th>DelayedDepartureSFO</th> <td>    2.2208</td> <td>    0.175</td> <td>   12.718</td> <td> 0.000</td> <td>    1.878</td> <td>    2.564</td>\n",
       "</tr>\n",
       "<tr>\n",
       "  <th>DelayedArrivalPHL</th>   <td>   -0.8867</td> <td>    0.317</td> <td>   -2.801</td> <td> 0.005</td> <td>   -1.508</td> <td>   -0.265</td>\n",
       "</tr>\n",
       "<tr>\n",
       "  <th>ScheduledArrivalPHL</th> <td>    0.4214</td> <td>    0.069</td> <td>    6.110</td> <td> 0.000</td> <td>    0.286</td> <td>    0.557</td>\n",
       "</tr>\n",
       "</table>\n",
       "<table class=\"simpletable\">\n",
       "<tr>\n",
       "  <th>Omnibus:</th>       <td>234.537</td> <th>  Durbin-Watson:     </th> <td>   1.999</td> \n",
       "</tr>\n",
       "<tr>\n",
       "  <th>Prob(Omnibus):</th> <td> 0.000</td>  <th>  Jarque-Bera (JB):  </th> <td> 498.549</td> \n",
       "</tr>\n",
       "<tr>\n",
       "  <th>Skew:</th>          <td> 1.729</td>  <th>  Prob(JB):          </th> <td>5.51e-109</td>\n",
       "</tr>\n",
       "<tr>\n",
       "  <th>Kurtosis:</th>      <td> 4.873</td>  <th>  Cond. No.          </th> <td>    53.8</td> \n",
       "</tr>\n",
       "</table>"
      ],
      "text/plain": [
       "<class 'statsmodels.iolib.summary.Summary'>\n",
       "\"\"\"\n",
       "                              OLS Regression Results                             \n",
       "=================================================================================\n",
       "Dep. Variable:     ScheduledDepartureSFO   R-squared:                       0.443\n",
       "Model:                               OLS   Adj. R-squared:                  0.439\n",
       "Method:                    Least Squares   F-statistic:                     101.9\n",
       "Date:                   Tue, 10 Apr 2018   Prob (F-statistic):           3.32e-94\n",
       "Time:                           22:03:25   Log-Likelihood:                -1287.0\n",
       "No. Observations:                    774   AIC:                             2586.\n",
       "Df Residuals:                        768   BIC:                             2614.\n",
       "Df Model:                              6                                         \n",
       "Covariance Type:               nonrobust                                         \n",
       "=======================================================================================\n",
       "                          coef    std err          t      P>|t|      [0.025      0.975]\n",
       "---------------------------------------------------------------------------------------\n",
       "MONTH                   0.0385      0.012      3.143      0.002       0.014       0.063\n",
       "CRS_DEP_TIME            0.1903      0.103      1.851      0.064      -0.011       0.392\n",
       "CRS_ARR_TIME            0.2273      0.095      2.383      0.017       0.040       0.415\n",
       "DelayedDepartureSFO     2.2208      0.175     12.718      0.000       1.878       2.564\n",
       "DelayedArrivalPHL      -0.8867      0.317     -2.801      0.005      -1.508      -0.265\n",
       "ScheduledArrivalPHL     0.4214      0.069      6.110      0.000       0.286       0.557\n",
       "==============================================================================\n",
       "Omnibus:                      234.537   Durbin-Watson:                   1.999\n",
       "Prob(Omnibus):                  0.000   Jarque-Bera (JB):              498.549\n",
       "Skew:                           1.729   Prob(JB):                    5.51e-109\n",
       "Kurtosis:                       4.873   Cond. No.                         53.8\n",
       "==============================================================================\n",
       "\n",
       "Warnings:\n",
       "[1] Standard Errors assume that the covariance matrix of the errors is correctly specified.\n",
       "\"\"\""
      ]
     },
     "execution_count": 51,
     "metadata": {},
     "output_type": "execute_result"
    }
   ],
   "source": [
    "scheduled_SFO_from = ['MONTH',  'CRS_DEP_TIME', 'CRS_ARR_TIME', 'DelayedDepartureSFO', 'DelayedArrivalPHL', 'ScheduledArrivalPHL']\n",
    "gf.regression_model(train_df, scheduled_SFO_from, 'ScheduledDepartureSFO').summary()"
   ]
  },
  {
   "cell_type": "code",
   "execution_count": 52,
   "metadata": {},
   "outputs": [
    {
     "name": "stdout",
     "output_type": "stream",
     "text": [
      "[('TAXI_OUT', 'DelayedArrivalPHL'), ('DelayedArrivalPHL', 'ScheduledDepartureSFO'), ('ScheduledDepartureSFO', 'LATE_AIRCRAFT_DELAY'), ('LATE_AIRCRAFT_DELAY', 'DEP_DELAY'), ('DEP_DELAY', 'TAXI_OUT')]\n"
     ]
    }
   ],
   "source": [
    "flight_edges_df, bn = gf.update_flights_edges_df(scheduled_SFO_from,'ScheduledDepartureSFO',flight_edges_df)"
   ]
  },
  {
   "cell_type": "code",
   "execution_count": 53,
   "metadata": {},
   "outputs": [
    {
     "name": "stdout",
     "output_type": "stream",
     "text": [
      "[('CRS_DEP_TIME', 'ScheduledDepartureSFO'), ('ScheduledDepartureSFO', 'CRS_ARR_TIME'), ('CRS_ARR_TIME', 'CRS_DEP_TIME')]\n"
     ]
    }
   ],
   "source": [
    "flight_edges_df, bn = gf.remove_edge('DelayedArrivalPHL', 'ScheduledDepartureSFO', flight_edges_df)"
   ]
  },
  {
   "cell_type": "code",
   "execution_count": 54,
   "metadata": {},
   "outputs": [
    {
     "name": "stdout",
     "output_type": "stream",
     "text": [
      "[('CRS_DEP_TIME', 'ScheduledDepartureSFO'), ('ScheduledDepartureSFO', 'CRS_DEP_TIME')]\n"
     ]
    }
   ],
   "source": [
    "flight_edges_df, bn = gf.remove_edge('ScheduledDepartureSFO', 'CRS_ARR_TIME', flight_edges_df)"
   ]
  },
  {
   "cell_type": "code",
   "execution_count": 55,
   "metadata": {},
   "outputs": [
    {
     "name": "stdout",
     "output_type": "stream",
     "text": [
      "[('ScheduledDepartureSFO', 'DelayedDepartureSFO'), ('DelayedDepartureSFO', 'ScheduledDepartureSFO')]\n"
     ]
    }
   ],
   "source": [
    "flight_edges_df, bn = gf.remove_edge('ScheduledDepartureSFO', 'CRS_DEP_TIME', flight_edges_df)"
   ]
  },
  {
   "cell_type": "code",
   "execution_count": 56,
   "metadata": {},
   "outputs": [
    {
     "name": "stdout",
     "output_type": "stream",
     "text": [
      "No cycle found! You may proceed.\n"
     ]
    }
   ],
   "source": [
    "flight_edges_df, bn = gf.remove_edge('DelayedDepartureSFO', 'ScheduledDepartureSFO', flight_edges_df)"
   ]
  },
  {
   "cell_type": "markdown",
   "metadata": {},
   "source": [
    "### Number of Scheduled Arrivals at PHL When Delayed Flight is scheduled to Depart"
   ]
  },
  {
   "cell_type": "code",
   "execution_count": 57,
   "metadata": {},
   "outputs": [
    {
     "data": {
      "text/html": [
       "<table class=\"simpletable\">\n",
       "<caption>OLS Regression Results</caption>\n",
       "<tr>\n",
       "  <th>Dep. Variable:</th>    <td>ScheduledArrivalPHL</td> <th>  R-squared:         </th> <td>   0.632</td> \n",
       "</tr>\n",
       "<tr>\n",
       "  <th>Model:</th>                    <td>OLS</td>         <th>  Adj. R-squared:    </th> <td>   0.630</td> \n",
       "</tr>\n",
       "<tr>\n",
       "  <th>Method:</th>              <td>Least Squares</td>    <th>  F-statistic:       </th> <td>   264.5</td> \n",
       "</tr>\n",
       "<tr>\n",
       "  <th>Date:</th>              <td>Tue, 10 Apr 2018</td>   <th>  Prob (F-statistic):</th> <td>2.33e-164</td>\n",
       "</tr>\n",
       "<tr>\n",
       "  <th>Time:</th>                  <td>22:03:25</td>       <th>  Log-Likelihood:    </th> <td> -766.36</td> \n",
       "</tr>\n",
       "<tr>\n",
       "  <th>No. Observations:</th>       <td>   774</td>        <th>  AIC:               </th> <td>   1543.</td> \n",
       "</tr>\n",
       "<tr>\n",
       "  <th>Df Residuals:</th>           <td>   769</td>        <th>  BIC:               </th> <td>   1566.</td> \n",
       "</tr>\n",
       "<tr>\n",
       "  <th>Df Model:</th>               <td>     5</td>        <th>                     </th>     <td> </td>    \n",
       "</tr>\n",
       "<tr>\n",
       "  <th>Covariance Type:</th>       <td>nonrobust</td>      <th>                     </th>     <td> </td>    \n",
       "</tr>\n",
       "</table>\n",
       "<table class=\"simpletable\">\n",
       "<tr>\n",
       "            <td></td>               <th>coef</th>     <th>std err</th>      <th>t</th>      <th>P>|t|</th>  <th>[0.025</th>    <th>0.975]</th>  \n",
       "</tr>\n",
       "<tr>\n",
       "  <th>DAY_OF_WEEK</th>           <td>    0.0262</td> <td>    0.009</td> <td>    3.040</td> <td> 0.002</td> <td>    0.009</td> <td>    0.043</td>\n",
       "</tr>\n",
       "<tr>\n",
       "  <th>TAXI_OUT</th>              <td>    0.0995</td> <td>    0.024</td> <td>    4.190</td> <td> 0.000</td> <td>    0.053</td> <td>    0.146</td>\n",
       "</tr>\n",
       "<tr>\n",
       "  <th>DelayedDepartureSFO</th>   <td>    0.2421</td> <td>    0.098</td> <td>    2.481</td> <td> 0.013</td> <td>    0.051</td> <td>    0.434</td>\n",
       "</tr>\n",
       "<tr>\n",
       "  <th>ScheduledDepartureSFO</th> <td>    0.1156</td> <td>    0.018</td> <td>    6.538</td> <td> 0.000</td> <td>    0.081</td> <td>    0.150</td>\n",
       "</tr>\n",
       "<tr>\n",
       "  <th>DelayedArrivalPHL</th>     <td>    3.1543</td> <td>    0.117</td> <td>   26.978</td> <td> 0.000</td> <td>    2.925</td> <td>    3.384</td>\n",
       "</tr>\n",
       "</table>\n",
       "<table class=\"simpletable\">\n",
       "<tr>\n",
       "  <th>Omnibus:</th>       <td>97.850</td> <th>  Durbin-Watson:     </th> <td>   1.955</td>\n",
       "</tr>\n",
       "<tr>\n",
       "  <th>Prob(Omnibus):</th> <td> 0.000</td> <th>  Jarque-Bera (JB):  </th> <td> 270.947</td>\n",
       "</tr>\n",
       "<tr>\n",
       "  <th>Skew:</th>          <td> 0.643</td> <th>  Prob(JB):          </th> <td>1.46e-59</td>\n",
       "</tr>\n",
       "<tr>\n",
       "  <th>Kurtosis:</th>      <td> 5.597</td> <th>  Cond. No.          </th> <td>    23.4</td>\n",
       "</tr>\n",
       "</table>"
      ],
      "text/plain": [
       "<class 'statsmodels.iolib.summary.Summary'>\n",
       "\"\"\"\n",
       "                             OLS Regression Results                            \n",
       "===============================================================================\n",
       "Dep. Variable:     ScheduledArrivalPHL   R-squared:                       0.632\n",
       "Model:                             OLS   Adj. R-squared:                  0.630\n",
       "Method:                  Least Squares   F-statistic:                     264.5\n",
       "Date:                 Tue, 10 Apr 2018   Prob (F-statistic):          2.33e-164\n",
       "Time:                         22:03:25   Log-Likelihood:                -766.36\n",
       "No. Observations:                  774   AIC:                             1543.\n",
       "Df Residuals:                      769   BIC:                             1566.\n",
       "Df Model:                            5                                         \n",
       "Covariance Type:             nonrobust                                         \n",
       "=========================================================================================\n",
       "                            coef    std err          t      P>|t|      [0.025      0.975]\n",
       "-----------------------------------------------------------------------------------------\n",
       "DAY_OF_WEEK               0.0262      0.009      3.040      0.002       0.009       0.043\n",
       "TAXI_OUT                  0.0995      0.024      4.190      0.000       0.053       0.146\n",
       "DelayedDepartureSFO       0.2421      0.098      2.481      0.013       0.051       0.434\n",
       "ScheduledDepartureSFO     0.1156      0.018      6.538      0.000       0.081       0.150\n",
       "DelayedArrivalPHL         3.1543      0.117     26.978      0.000       2.925       3.384\n",
       "==============================================================================\n",
       "Omnibus:                       97.850   Durbin-Watson:                   1.955\n",
       "Prob(Omnibus):                  0.000   Jarque-Bera (JB):              270.947\n",
       "Skew:                           0.643   Prob(JB):                     1.46e-59\n",
       "Kurtosis:                       5.597   Cond. No.                         23.4\n",
       "==============================================================================\n",
       "\n",
       "Warnings:\n",
       "[1] Standard Errors assume that the covariance matrix of the errors is correctly specified.\n",
       "\"\"\""
      ]
     },
     "execution_count": 57,
     "metadata": {},
     "output_type": "execute_result"
    }
   ],
   "source": [
    "scheduled_PHL_from = ['DAY_OF_WEEK', 'TAXI_OUT', 'DelayedDepartureSFO', 'ScheduledDepartureSFO', 'DelayedArrivalPHL']\n",
    "gf.regression_model(train_df, scheduled_PHL_from, 'ScheduledArrivalPHL').summary()"
   ]
  },
  {
   "cell_type": "code",
   "execution_count": 58,
   "metadata": {},
   "outputs": [
    {
     "name": "stdout",
     "output_type": "stream",
     "text": [
      "[('NAS_DELAY', 'WEATHER_DELAY'), ('WEATHER_DELAY', 'CARRIER_DELAY'), ('CARRIER_DELAY', 'TAXI_OUT'), ('TAXI_OUT', 'DelayedArrivalPHL'), ('DelayedArrivalPHL', 'ScheduledArrivalPHL'), ('ScheduledArrivalPHL', 'DelayedDepartureSFO'), ('DelayedDepartureSFO', 'NAS_DELAY')]\n"
     ]
    }
   ],
   "source": [
    "flight_edges_df, bn = gf.update_flights_edges_df(scheduled_PHL_from,'ScheduledArrivalPHL',flight_edges_df)"
   ]
  },
  {
   "cell_type": "code",
   "execution_count": 59,
   "metadata": {},
   "outputs": [
    {
     "name": "stdout",
     "output_type": "stream",
     "text": [
      "[('NAS_DELAY', 'WEATHER_DELAY'), ('WEATHER_DELAY', 'CARRIER_DELAY'), ('CARRIER_DELAY', 'TAXI_OUT'), ('TAXI_OUT', 'ScheduledArrivalPHL'), ('ScheduledArrivalPHL', 'DelayedDepartureSFO'), ('DelayedDepartureSFO', 'NAS_DELAY')]\n"
     ]
    }
   ],
   "source": [
    "flight_edges_df, bn = gf.remove_edge('DelayedArrivalPHL', 'ScheduledArrivalPHL', flight_edges_df)"
   ]
  },
  {
   "cell_type": "code",
   "execution_count": 60,
   "metadata": {},
   "outputs": [
    {
     "name": "stdout",
     "output_type": "stream",
     "text": [
      "[('DelayedDepartureSFO', 'ScheduledArrivalPHL'), ('ScheduledArrivalPHL', 'DelayedDepartureSFO')]\n"
     ]
    }
   ],
   "source": [
    "flight_edges_df, bn = gf.remove_edge('TAXI_OUT', 'ScheduledArrivalPHL', flight_edges_df)"
   ]
  },
  {
   "cell_type": "code",
   "execution_count": 61,
   "metadata": {},
   "outputs": [
    {
     "name": "stdout",
     "output_type": "stream",
     "text": [
      "[('ScheduledDepartureSFO', 'ScheduledArrivalPHL'), ('ScheduledArrivalPHL', 'ScheduledDepartureSFO')]\n"
     ]
    }
   ],
   "source": [
    "flight_edges_df, bn = gf.remove_edge('DelayedDepartureSFO', 'ScheduledArrivalPHL', flight_edges_df)"
   ]
  },
  {
   "cell_type": "code",
   "execution_count": 62,
   "metadata": {},
   "outputs": [
    {
     "name": "stdout",
     "output_type": "stream",
     "text": [
      "No cycle found! You may proceed.\n"
     ]
    }
   ],
   "source": [
    "flight_edges_df, bn = gf.remove_edge('ScheduledDepartureSFO', 'ScheduledArrivalPHL', flight_edges_df)"
   ]
  },
  {
   "cell_type": "code",
   "execution_count": 63,
   "metadata": {},
   "outputs": [
    {
     "data": {
      "image/png": "[encoded data removed]",
      "text/plain": [
       "<matplotlib.figure.Figure at 0x7f2a96b49588>"
      ]
     },
     "metadata": {},
     "output_type": "display_data"
    }
   ],
   "source": [
    "gf.draw_graph(flight_edges_df,'final_bn.png')"
   ]
  },
  {
   "cell_type": "code",
   "execution_count": 64,
   "metadata": {},
   "outputs": [
    {
     "name": "stdout",
     "output_type": "stream",
     "text": [
      "This graph is a DAG : True \n",
      "This edge is a tree : False\n"
     ]
    }
   ],
   "source": [
    "print('This graph is a DAG :', nx.is_directed_acyclic_graph(bn),'\\nThis edge is a tree :', nx.is_tree(bn))"
   ]
  },
  {
   "cell_type": "code",
   "execution_count": 65,
   "metadata": {},
   "outputs": [
    {
     "name": "stdout",
     "output_type": "stream",
     "text": [
      "There are 16 nodes and 47 edges in this graph.\n"
     ]
    }
   ],
   "source": [
    "# nodes\n",
    "nodes_li = list(set(list(flight_edges_df['from_node'])+list(flight_edges_df['to_node'])))\n",
    "nodes_df = pd.DataFrame(nodes_li)\n",
    "nodes_df.columns = ['nodes']\n",
    "flight_edges_df.columns=['Source','Target']\n",
    "# save as csv\n",
    "flight_edges_df.to_csv('edges.csv',index=False)\n",
    "nodes_df.to_csv('nodes.csv',index=False)\n",
    "# numbers to print\n",
    "print('There are', nodes_df.shape[0], 'nodes and', flight_edges_df.shape[0], 'edges in this graph.')"
   ]
  },
  {
   "cell_type": "code",
   "execution_count": null,
   "metadata": {},
   "outputs": [],
   "source": []
  }
 ],
 "metadata": {
  "kernelspec": {
   "display_name": "Python 3",
   "language": "python",
   "name": "python3"
  },
  "language_info": {
   "codemirror_mode": {
    "name": "ipython",
    "version": 3
   },
   "file_extension": ".py",
   "mimetype": "text/x-python",
   "name": "python",
   "nbconvert_exporter": "python",
   "pygments_lexer": "ipython3",
   "version": "3.6.3"
  }
 },
 "nbformat": 4,
 "nbformat_minor": 2
}
