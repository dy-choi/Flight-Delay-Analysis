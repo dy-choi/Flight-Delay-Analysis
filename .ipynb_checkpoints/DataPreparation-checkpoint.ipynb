{
 "cells": [
  {
   "cell_type": "markdown",
   "metadata": {},
   "source": [
    "# Bayesian Networks and Flight Delay : SFO to PHL"
   ]
  },
  {
   "cell_type": "markdown",
   "metadata": {},
   "source": [
    "Flight delay is a costly problem to consumers, airlines, and industrial experts. Delays provoke complaints from passengers, create high costs to airlines, and result in difficulties for airport operations. It is therefore important for the Federal Aviation Administration (FAA) to understand the causes of delay as a means to reduce the total cost that delays can cause.\n",
    "\n",
    "Known factors that cause flight delays include weather at the origin airport, congestion at the origin airport, and air traffic management (ATM) decisions such as Ground Delay Programs (GDP). Each component interacts with other components in complex ways, which is why flight delays are an inherently stochastic phenomenon. Simply examining the marginal distributions of such factor does not truly reveal the effects that such factors have or the relationship between any two of such factors.\n",
    "\n",
    "Here, we will perform a case study of the use of Bayesian networks to model the relationship between different components of aircraft delay and the causal factors that affect delays. Bayesian networks allow us to simultaneously examine multiple components of delay and their relationships in a single analysis, an advantage that the use of Bayesian networks has over linear and nonlinear regression models. Moreover, Bayesian network models provide not only just predictions of future delays that incorporate the interrelationships among causal factors, but also a means of assessing the ultimate influence each causal factors has on arrival delay.\n",
    "\n",
    "In particular, we will examine delays in flight from San Francisco International Airport (SFO) to Philadelphia International Airport (PHL)."
   ]
  },
  {
   "cell_type": "code",
   "execution_count": 1,
   "metadata": {},
   "outputs": [],
   "source": [
    "import pandas as pd\n",
    "import numpy as np\n",
    "import statsmodels.api as sm\n",
    "import time\n",
    "import calendar\n",
    "import networkx as nx\n",
    "import matplotlib.pyplot as plt"
   ]
  },
  {
   "cell_type": "code",
   "execution_count": 2,
   "metadata": {},
   "outputs": [],
   "source": [
    "def filterRoutes(df):\n",
    "    '''\n",
    "    filter df to contain delayed fligths from SFO to PHL routes only.\n",
    "    '''\n",
    "    df = df[(df['ORIGIN'] == 'SFO') & (df['DEST'] == 'PHL') & (df['ARR_DELAY'] > 0)]\n",
    "    df = df.reset_index()\n",
    "    return df.drop(['index','YEAR','ORIGIN','DEST', 'UNIQUE_CARRIER','DEP_TIME','DEP_TIME_BLK','DEP_DELAY_GROUP', 'DEP_DELAY_NEW', 'DEP_DEL15','WHEELS_OFF','WHEELS_ON','ARR_DELAY','ARR_DELAY_NEW','DIVERTED','Unnamed: 29'],axis=1)\n",
    "\n",
    "def dateColumns(df):\n",
    "    '''\n",
    "    Given a column with mm/dd/yyyy, create a MONTH and DAY column.\n",
    "    '''\n",
    "    dates = [str(d).replace('/','') for d in list(df['Date'])]\n",
    "    dates = [time.strptime(d,'%m%d%Y') for d in dates]\n",
    "    df['MONTH'] = [d.tm_mon for d in dates]\n",
    "    df['DAY'] = [d.tm_mday for d in dates]\n",
    "    \n",
    "def changeTimetoBinary(df, col):\n",
    "    '''\n",
    "    change all times in df[col] to binary variable AM (0) or PM (1)\n",
    "    '''\n",
    "    mask = df[col] < 12.0\n",
    "    df.loc[mask, col] = 0\n",
    "    mask = df[col] >= 12.0\n",
    "    df.loc[mask, col] = 1\n",
    "    \n",
    "def changeDelaytoBinary(df, col):\n",
    "    '''\n",
    "    change all delay entries in df[col] to binary vairable no delay attributed (0) and delay attributed\n",
    "    '''\n",
    "    mask = df[col] > 0.0\n",
    "    df.loc[mask, col] = 1"
   ]
  },
  {
   "cell_type": "markdown",
   "metadata": {},
   "source": [
    "## The Nitty-Gritty: Preparing the Data"
   ]
  },
  {
   "cell_type": "markdown",
   "metadata": {},
   "source": [
    "### Read and Merge"
   ]
  },
  {
   "cell_type": "markdown",
   "metadata": {},
   "source": [
    "We are working with two datasets. The first is provided by the Bureau of Transportation Statistics and contains flight information, including Common Reporting Standard (CRS) arrival and departure times, causes of delay, and time spend taxiing in and out. We will start by reading in twelve months' worth of data and filtering for just the SFO to PHL routes."
   ]
  },
  {
   "cell_type": "code",
   "execution_count": 3,
   "metadata": {},
   "outputs": [],
   "source": [
    "# read data and filter for relevant delayed flights\n",
    "jan_df = filterRoutes(pd.read_csv('./month/jan2017.csv'))\n",
    "feb_df = filterRoutes(pd.read_csv('./month/feb2017.csv'))\n",
    "mar_df = filterRoutes(pd.read_csv('./month/mar2017.csv'))\n",
    "apr_df = filterRoutes(pd.read_csv('./month/apr2017.csv'))\n",
    "may_df = filterRoutes(pd.read_csv('./month/may2017.csv'))\n",
    "jun_df = filterRoutes(pd.read_csv('./month/jun2017.csv'))\n",
    "jul_df = filterRoutes(pd.read_csv('./month/jul2017.csv'))\n",
    "aug_df = filterRoutes(pd.read_csv('./month/aug2017.csv'))\n",
    "sep_df = filterRoutes(pd.read_csv('./month/sep2017.csv'))\n",
    "oct_df = filterRoutes(pd.read_csv('./month/oct2017.csv'))\n",
    "nov_df = filterRoutes(pd.read_csv('./month/nov2017.csv'))\n",
    "dec_df = filterRoutes(pd.read_csv('./month/dec2017.csv'))\n",
    "\n",
    "# concatenate dataframes by quarter\n",
    "flights_df = pd.concat([jan_df, feb_df,mar_df,apr_df, may_df, jun_df, jul_df, aug_df, sep_df, oct_df, nov_df, dec_df])\n",
    "\n",
    "# keep hour information from CRS but not minutes\n",
    "flights_df['CRS_DEP_TIME'] = flights_df['CRS_DEP_TIME'] // 100\n",
    "flights_df['CRS_ARR_TIME'] = flights_df['CRS_ARR_TIME'] // 100\n",
    "\n",
    "# change delay information to binary\n",
    "changeDelaytoBinary(flights_df, 'CARRIER_DELAY')\n",
    "changeDelaytoBinary(flights_df, 'WEATHER_DELAY')\n",
    "changeDelaytoBinary(flights_df, 'NAS_DELAY')\n",
    "changeDelaytoBinary(flights_df, 'SECURITY_DELAY')\n",
    "changeDelaytoBinary(flights_df, 'LATE_AIRCRAFT_DELAY')\n",
    "\n",
    "# for DEP_DELAY, we'd like three variables: -1 (early departure), 0 (regular), 1 (late departure)\n",
    "mask = flights_df['DEP_DELAY'] > 0.0\n",
    "flights_df.loc[mask, 'DEP_DELAY'] = 1\n",
    "\n",
    "mask = flights_df['DEP_DELAY'] < 0.0\n",
    "flights_df.loc[mask,'DEP_DELAY'] = -1\n",
    "\n",
    "# TAXI_IN, TAXI_OUT: in 15-minute increments\n",
    "# 0: less than 15, 1: less than 30, ...\n",
    "flights_df['TAXI_IN'] = flights_df['TAXI_IN'] // 15\n",
    "flights_df['TAXI_OUT'] = flights_df['TAXI_OUT'] // 15\n"
   ]
  },
  {
   "cell_type": "markdown",
   "metadata": {},
   "source": [
    "Secondly, we will read in the data provided by the Federal Aviation Administration (FAA) on airport situations in SFO and PHL in 2017 in 'ASPM : Airport Analysis : Delayed Flights Report.' After reading in the data, we will merge the two dataframes to create one flights_df dataframe."
   ]
  },
  {
   "cell_type": "code",
   "execution_count": 4,
   "metadata": {},
   "outputs": [],
   "source": [
    "airports_df = pd.read_csv('./faa-aspm/airports.csv').dropna(axis=0,how='all')\n",
    "\n",
    "# split Date into MONTH and DAY\n",
    "airports_df['Facility'] = airports_df['Facility'].str.strip()\n",
    "dateColumns(airports_df)\n",
    "airports_df = airports_df.drop(['Date','% DelayedGateDepartures','% DelayedGateArrivals','Date'],axis=1)\n",
    "airports_df = airports_df.drop(['DeparturesFor MetricComputation','ArrivalsFor MetricComputation','AverageMinutesOf DelayPer DelayedGateDeparture','AverageMinutesOf DelayPer DelayedGateArrival'],axis=1)\n",
    "\n",
    "# find departure and arrival informations at airport at time of departure/arrival\n",
    "# SFO (departure)\n",
    "flights_SFO_df = pd.merge(flights_df, airports_df, how='inner', left_on=['MONTH','DAY_OF_MONTH','CRS_DEP_TIME'], right_on=['MONTH','DAY','Hour'])\n",
    "flights_SFO_df = flights_SFO_df[flights_SFO_df['Facility'] == 'SFO']\n",
    "# PHL (arrival)\n",
    "flights_PHL_df = pd.merge(flights_df, airports_df, how='inner', left_on=['MONTH','DAY_OF_MONTH','CRS_DEP_TIME'], right_on=['MONTH','DAY','Hour'])\n",
    "flights_PHL_df = flights_PHL_df[flights_PHL_df['Facility'] == 'PHL']\n",
    "# set departure/arrival information as fields of flights_df in intervals of 10\n",
    "flights_df['DelayedDepartureSFO'] = flights_PHL_df['DelayedGateDepartures'] // 10\n",
    "flights_df['ScheduledDepartureSFO'] = flights_PHL_df['ScheduledDepartures'] // 10\n",
    "flights_df['DelayedArrivalPHL'] = flights_PHL_df['DelayedGateArrivals'] // 10\n",
    "flights_df['ScheduledArrivalPHL'] = flights_PHL_df['ScheduledArrivals'] // 10\n",
    "flights_df.fillna(0,inplace=True)\n",
    "flights_df = flights_df.reset_index()\n",
    "flights_df = flights_df.drop(['index'],axis=1)"
   ]
  },
  {
   "cell_type": "code",
   "execution_count": 5,
   "metadata": {},
   "outputs": [],
   "source": [
    "# change all times to binary variable AM (0) or PM (1)\n",
    "changeTimetoBinary(flights_df, 'CRS_DEP_TIME')\n",
    "changeTimetoBinary(flights_df, 'CRS_ARR_TIME')"
   ]
  },
  {
   "cell_type": "markdown",
   "metadata": {},
   "source": [
    "We no longer need information about DAY_OF_MONTH, so we will drop that column. The compiled data is as below. Due to the length of each field name, we transpose the dataframe for readability."
   ]
  },
  {
   "cell_type": "code",
   "execution_count": 6,
   "metadata": {},
   "outputs": [
    {
     "data": {
      "text/html": [
       "<div>\n",
       "<table border=\"1\" class=\"dataframe\">\n",
       "  <thead>\n",
       "    <tr style=\"text-align: right;\">\n",
       "      <th></th>\n",
       "      <th>0</th>\n",
       "      <th>1</th>\n",
       "      <th>2</th>\n",
       "      <th>3</th>\n",
       "      <th>4</th>\n",
       "      <th>5</th>\n",
       "      <th>6</th>\n",
       "      <th>7</th>\n",
       "      <th>8</th>\n",
       "      <th>9</th>\n",
       "      <th>...</th>\n",
       "      <th>958</th>\n",
       "      <th>959</th>\n",
       "      <th>960</th>\n",
       "      <th>961</th>\n",
       "      <th>962</th>\n",
       "      <th>963</th>\n",
       "      <th>964</th>\n",
       "      <th>965</th>\n",
       "      <th>966</th>\n",
       "      <th>967</th>\n",
       "    </tr>\n",
       "  </thead>\n",
       "  <tbody>\n",
       "    <tr>\n",
       "      <th>QUARTER</th>\n",
       "      <td>1.0</td>\n",
       "      <td>1.0</td>\n",
       "      <td>1.0</td>\n",
       "      <td>1.0</td>\n",
       "      <td>1.0</td>\n",
       "      <td>1.0</td>\n",
       "      <td>1.0</td>\n",
       "      <td>1.0</td>\n",
       "      <td>1.0</td>\n",
       "      <td>1.0</td>\n",
       "      <td>...</td>\n",
       "      <td>4.0</td>\n",
       "      <td>4.0</td>\n",
       "      <td>4.0</td>\n",
       "      <td>4.0</td>\n",
       "      <td>4.0</td>\n",
       "      <td>4.0</td>\n",
       "      <td>4.0</td>\n",
       "      <td>4.0</td>\n",
       "      <td>4.0</td>\n",
       "      <td>4.0</td>\n",
       "    </tr>\n",
       "    <tr>\n",
       "      <th>MONTH</th>\n",
       "      <td>1.0</td>\n",
       "      <td>1.0</td>\n",
       "      <td>1.0</td>\n",
       "      <td>1.0</td>\n",
       "      <td>1.0</td>\n",
       "      <td>1.0</td>\n",
       "      <td>1.0</td>\n",
       "      <td>1.0</td>\n",
       "      <td>1.0</td>\n",
       "      <td>1.0</td>\n",
       "      <td>...</td>\n",
       "      <td>12.0</td>\n",
       "      <td>12.0</td>\n",
       "      <td>12.0</td>\n",
       "      <td>12.0</td>\n",
       "      <td>12.0</td>\n",
       "      <td>12.0</td>\n",
       "      <td>12.0</td>\n",
       "      <td>12.0</td>\n",
       "      <td>12.0</td>\n",
       "      <td>12.0</td>\n",
       "    </tr>\n",
       "    <tr>\n",
       "      <th>DAY_OF_WEEK</th>\n",
       "      <td>3.0</td>\n",
       "      <td>6.0</td>\n",
       "      <td>4.0</td>\n",
       "      <td>6.0</td>\n",
       "      <td>7.0</td>\n",
       "      <td>1.0</td>\n",
       "      <td>2.0</td>\n",
       "      <td>4.0</td>\n",
       "      <td>5.0</td>\n",
       "      <td>4.0</td>\n",
       "      <td>...</td>\n",
       "      <td>4.0</td>\n",
       "      <td>4.0</td>\n",
       "      <td>3.0</td>\n",
       "      <td>2.0</td>\n",
       "      <td>1.0</td>\n",
       "      <td>2.0</td>\n",
       "      <td>1.0</td>\n",
       "      <td>7.0</td>\n",
       "      <td>5.0</td>\n",
       "      <td>4.0</td>\n",
       "    </tr>\n",
       "    <tr>\n",
       "      <th>CRS_DEP_TIME</th>\n",
       "      <td>1.0</td>\n",
       "      <td>1.0</td>\n",
       "      <td>1.0</td>\n",
       "      <td>1.0</td>\n",
       "      <td>1.0</td>\n",
       "      <td>1.0</td>\n",
       "      <td>1.0</td>\n",
       "      <td>1.0</td>\n",
       "      <td>1.0</td>\n",
       "      <td>1.0</td>\n",
       "      <td>...</td>\n",
       "      <td>1.0</td>\n",
       "      <td>0.0</td>\n",
       "      <td>0.0</td>\n",
       "      <td>0.0</td>\n",
       "      <td>0.0</td>\n",
       "      <td>0.0</td>\n",
       "      <td>1.0</td>\n",
       "      <td>1.0</td>\n",
       "      <td>0.0</td>\n",
       "      <td>1.0</td>\n",
       "    </tr>\n",
       "    <tr>\n",
       "      <th>DEP_DELAY</th>\n",
       "      <td>1.0</td>\n",
       "      <td>1.0</td>\n",
       "      <td>1.0</td>\n",
       "      <td>1.0</td>\n",
       "      <td>-1.0</td>\n",
       "      <td>0.0</td>\n",
       "      <td>-1.0</td>\n",
       "      <td>1.0</td>\n",
       "      <td>1.0</td>\n",
       "      <td>1.0</td>\n",
       "      <td>...</td>\n",
       "      <td>1.0</td>\n",
       "      <td>1.0</td>\n",
       "      <td>-1.0</td>\n",
       "      <td>-1.0</td>\n",
       "      <td>1.0</td>\n",
       "      <td>1.0</td>\n",
       "      <td>-1.0</td>\n",
       "      <td>0.0</td>\n",
       "      <td>1.0</td>\n",
       "      <td>0.0</td>\n",
       "    </tr>\n",
       "    <tr>\n",
       "      <th>TAXI_OUT</th>\n",
       "      <td>1.0</td>\n",
       "      <td>0.0</td>\n",
       "      <td>1.0</td>\n",
       "      <td>1.0</td>\n",
       "      <td>1.0</td>\n",
       "      <td>1.0</td>\n",
       "      <td>1.0</td>\n",
       "      <td>1.0</td>\n",
       "      <td>1.0</td>\n",
       "      <td>2.0</td>\n",
       "      <td>...</td>\n",
       "      <td>1.0</td>\n",
       "      <td>1.0</td>\n",
       "      <td>2.0</td>\n",
       "      <td>2.0</td>\n",
       "      <td>3.0</td>\n",
       "      <td>1.0</td>\n",
       "      <td>1.0</td>\n",
       "      <td>1.0</td>\n",
       "      <td>1.0</td>\n",
       "      <td>1.0</td>\n",
       "    </tr>\n",
       "    <tr>\n",
       "      <th>TAXI_IN</th>\n",
       "      <td>0.0</td>\n",
       "      <td>0.0</td>\n",
       "      <td>0.0</td>\n",
       "      <td>0.0</td>\n",
       "      <td>0.0</td>\n",
       "      <td>0.0</td>\n",
       "      <td>0.0</td>\n",
       "      <td>0.0</td>\n",
       "      <td>0.0</td>\n",
       "      <td>0.0</td>\n",
       "      <td>...</td>\n",
       "      <td>0.0</td>\n",
       "      <td>0.0</td>\n",
       "      <td>0.0</td>\n",
       "      <td>0.0</td>\n",
       "      <td>0.0</td>\n",
       "      <td>0.0</td>\n",
       "      <td>0.0</td>\n",
       "      <td>0.0</td>\n",
       "      <td>0.0</td>\n",
       "      <td>0.0</td>\n",
       "    </tr>\n",
       "    <tr>\n",
       "      <th>CRS_ARR_TIME</th>\n",
       "      <td>0.0</td>\n",
       "      <td>0.0</td>\n",
       "      <td>0.0</td>\n",
       "      <td>0.0</td>\n",
       "      <td>0.0</td>\n",
       "      <td>0.0</td>\n",
       "      <td>0.0</td>\n",
       "      <td>0.0</td>\n",
       "      <td>0.0</td>\n",
       "      <td>0.0</td>\n",
       "      <td>...</td>\n",
       "      <td>0.0</td>\n",
       "      <td>1.0</td>\n",
       "      <td>1.0</td>\n",
       "      <td>1.0</td>\n",
       "      <td>1.0</td>\n",
       "      <td>1.0</td>\n",
       "      <td>0.0</td>\n",
       "      <td>0.0</td>\n",
       "      <td>1.0</td>\n",
       "      <td>0.0</td>\n",
       "    </tr>\n",
       "    <tr>\n",
       "      <th>ARR_DEL15</th>\n",
       "      <td>0.0</td>\n",
       "      <td>1.0</td>\n",
       "      <td>0.0</td>\n",
       "      <td>0.0</td>\n",
       "      <td>1.0</td>\n",
       "      <td>0.0</td>\n",
       "      <td>0.0</td>\n",
       "      <td>1.0</td>\n",
       "      <td>0.0</td>\n",
       "      <td>1.0</td>\n",
       "      <td>...</td>\n",
       "      <td>1.0</td>\n",
       "      <td>1.0</td>\n",
       "      <td>1.0</td>\n",
       "      <td>0.0</td>\n",
       "      <td>1.0</td>\n",
       "      <td>0.0</td>\n",
       "      <td>0.0</td>\n",
       "      <td>0.0</td>\n",
       "      <td>1.0</td>\n",
       "      <td>1.0</td>\n",
       "    </tr>\n",
       "    <tr>\n",
       "      <th>CARRIER_DELAY</th>\n",
       "      <td>0.0</td>\n",
       "      <td>1.0</td>\n",
       "      <td>0.0</td>\n",
       "      <td>0.0</td>\n",
       "      <td>0.0</td>\n",
       "      <td>0.0</td>\n",
       "      <td>0.0</td>\n",
       "      <td>1.0</td>\n",
       "      <td>0.0</td>\n",
       "      <td>1.0</td>\n",
       "      <td>...</td>\n",
       "      <td>1.0</td>\n",
       "      <td>1.0</td>\n",
       "      <td>0.0</td>\n",
       "      <td>0.0</td>\n",
       "      <td>1.0</td>\n",
       "      <td>0.0</td>\n",
       "      <td>0.0</td>\n",
       "      <td>0.0</td>\n",
       "      <td>1.0</td>\n",
       "      <td>0.0</td>\n",
       "    </tr>\n",
       "    <tr>\n",
       "      <th>WEATHER_DELAY</th>\n",
       "      <td>0.0</td>\n",
       "      <td>0.0</td>\n",
       "      <td>0.0</td>\n",
       "      <td>0.0</td>\n",
       "      <td>0.0</td>\n",
       "      <td>0.0</td>\n",
       "      <td>0.0</td>\n",
       "      <td>0.0</td>\n",
       "      <td>0.0</td>\n",
       "      <td>0.0</td>\n",
       "      <td>...</td>\n",
       "      <td>0.0</td>\n",
       "      <td>0.0</td>\n",
       "      <td>0.0</td>\n",
       "      <td>0.0</td>\n",
       "      <td>0.0</td>\n",
       "      <td>0.0</td>\n",
       "      <td>0.0</td>\n",
       "      <td>0.0</td>\n",
       "      <td>0.0</td>\n",
       "      <td>0.0</td>\n",
       "    </tr>\n",
       "    <tr>\n",
       "      <th>NAS_DELAY</th>\n",
       "      <td>0.0</td>\n",
       "      <td>0.0</td>\n",
       "      <td>0.0</td>\n",
       "      <td>0.0</td>\n",
       "      <td>1.0</td>\n",
       "      <td>0.0</td>\n",
       "      <td>0.0</td>\n",
       "      <td>1.0</td>\n",
       "      <td>0.0</td>\n",
       "      <td>1.0</td>\n",
       "      <td>...</td>\n",
       "      <td>0.0</td>\n",
       "      <td>0.0</td>\n",
       "      <td>1.0</td>\n",
       "      <td>0.0</td>\n",
       "      <td>1.0</td>\n",
       "      <td>0.0</td>\n",
       "      <td>0.0</td>\n",
       "      <td>0.0</td>\n",
       "      <td>1.0</td>\n",
       "      <td>1.0</td>\n",
       "    </tr>\n",
       "    <tr>\n",
       "      <th>SECURITY_DELAY</th>\n",
       "      <td>0.0</td>\n",
       "      <td>0.0</td>\n",
       "      <td>0.0</td>\n",
       "      <td>0.0</td>\n",
       "      <td>0.0</td>\n",
       "      <td>0.0</td>\n",
       "      <td>0.0</td>\n",
       "      <td>0.0</td>\n",
       "      <td>0.0</td>\n",
       "      <td>0.0</td>\n",
       "      <td>...</td>\n",
       "      <td>0.0</td>\n",
       "      <td>0.0</td>\n",
       "      <td>0.0</td>\n",
       "      <td>0.0</td>\n",
       "      <td>0.0</td>\n",
       "      <td>0.0</td>\n",
       "      <td>0.0</td>\n",
       "      <td>0.0</td>\n",
       "      <td>0.0</td>\n",
       "      <td>0.0</td>\n",
       "    </tr>\n",
       "    <tr>\n",
       "      <th>LATE_AIRCRAFT_DELAY</th>\n",
       "      <td>0.0</td>\n",
       "      <td>1.0</td>\n",
       "      <td>0.0</td>\n",
       "      <td>0.0</td>\n",
       "      <td>0.0</td>\n",
       "      <td>0.0</td>\n",
       "      <td>0.0</td>\n",
       "      <td>1.0</td>\n",
       "      <td>0.0</td>\n",
       "      <td>0.0</td>\n",
       "      <td>...</td>\n",
       "      <td>1.0</td>\n",
       "      <td>0.0</td>\n",
       "      <td>0.0</td>\n",
       "      <td>0.0</td>\n",
       "      <td>0.0</td>\n",
       "      <td>0.0</td>\n",
       "      <td>0.0</td>\n",
       "      <td>0.0</td>\n",
       "      <td>0.0</td>\n",
       "      <td>0.0</td>\n",
       "    </tr>\n",
       "    <tr>\n",
       "      <th>DelayedDepartureSFO</th>\n",
       "      <td>0.0</td>\n",
       "      <td>0.0</td>\n",
       "      <td>0.0</td>\n",
       "      <td>0.0</td>\n",
       "      <td>0.0</td>\n",
       "      <td>0.0</td>\n",
       "      <td>0.0</td>\n",
       "      <td>0.0</td>\n",
       "      <td>0.0</td>\n",
       "      <td>0.0</td>\n",
       "      <td>...</td>\n",
       "      <td>0.0</td>\n",
       "      <td>1.0</td>\n",
       "      <td>0.0</td>\n",
       "      <td>1.0</td>\n",
       "      <td>0.0</td>\n",
       "      <td>0.0</td>\n",
       "      <td>0.0</td>\n",
       "      <td>1.0</td>\n",
       "      <td>0.0</td>\n",
       "      <td>1.0</td>\n",
       "    </tr>\n",
       "    <tr>\n",
       "      <th>ScheduledDepartureSFO</th>\n",
       "      <td>0.0</td>\n",
       "      <td>0.0</td>\n",
       "      <td>0.0</td>\n",
       "      <td>0.0</td>\n",
       "      <td>0.0</td>\n",
       "      <td>0.0</td>\n",
       "      <td>0.0</td>\n",
       "      <td>0.0</td>\n",
       "      <td>0.0</td>\n",
       "      <td>0.0</td>\n",
       "      <td>...</td>\n",
       "      <td>0.0</td>\n",
       "      <td>3.0</td>\n",
       "      <td>0.0</td>\n",
       "      <td>3.0</td>\n",
       "      <td>0.0</td>\n",
       "      <td>3.0</td>\n",
       "      <td>0.0</td>\n",
       "      <td>2.0</td>\n",
       "      <td>0.0</td>\n",
       "      <td>2.0</td>\n",
       "    </tr>\n",
       "    <tr>\n",
       "      <th>DelayedArrivalPHL</th>\n",
       "      <td>0.0</td>\n",
       "      <td>0.0</td>\n",
       "      <td>0.0</td>\n",
       "      <td>0.0</td>\n",
       "      <td>0.0</td>\n",
       "      <td>0.0</td>\n",
       "      <td>0.0</td>\n",
       "      <td>0.0</td>\n",
       "      <td>0.0</td>\n",
       "      <td>0.0</td>\n",
       "      <td>...</td>\n",
       "      <td>0.0</td>\n",
       "      <td>0.0</td>\n",
       "      <td>0.0</td>\n",
       "      <td>0.0</td>\n",
       "      <td>0.0</td>\n",
       "      <td>0.0</td>\n",
       "      <td>0.0</td>\n",
       "      <td>0.0</td>\n",
       "      <td>0.0</td>\n",
       "      <td>0.0</td>\n",
       "    </tr>\n",
       "    <tr>\n",
       "      <th>ScheduledArrivalPHL</th>\n",
       "      <td>1.0</td>\n",
       "      <td>0.0</td>\n",
       "      <td>1.0</td>\n",
       "      <td>0.0</td>\n",
       "      <td>1.0</td>\n",
       "      <td>0.0</td>\n",
       "      <td>1.0</td>\n",
       "      <td>0.0</td>\n",
       "      <td>1.0</td>\n",
       "      <td>0.0</td>\n",
       "      <td>...</td>\n",
       "      <td>0.0</td>\n",
       "      <td>2.0</td>\n",
       "      <td>0.0</td>\n",
       "      <td>2.0</td>\n",
       "      <td>0.0</td>\n",
       "      <td>2.0</td>\n",
       "      <td>0.0</td>\n",
       "      <td>2.0</td>\n",
       "      <td>0.0</td>\n",
       "      <td>3.0</td>\n",
       "    </tr>\n",
       "  </tbody>\n",
       "</table>\n",
       "<p>18 rows × 968 columns</p>\n",
       "</div>"
      ],
      "text/plain": [
       "                       0    1    2    3    4    5    6    7    8    9    ...   \\\n",
       "QUARTER                1.0  1.0  1.0  1.0  1.0  1.0  1.0  1.0  1.0  1.0  ...    \n",
       "MONTH                  1.0  1.0  1.0  1.0  1.0  1.0  1.0  1.0  1.0  1.0  ...    \n",
       "DAY_OF_WEEK            3.0  6.0  4.0  6.0  7.0  1.0  2.0  4.0  5.0  4.0  ...    \n",
       "CRS_DEP_TIME           1.0  1.0  1.0  1.0  1.0  1.0  1.0  1.0  1.0  1.0  ...    \n",
       "DEP_DELAY              1.0  1.0  1.0  1.0 -1.0  0.0 -1.0  1.0  1.0  1.0  ...    \n",
       "TAXI_OUT               1.0  0.0  1.0  1.0  1.0  1.0  1.0  1.0  1.0  2.0  ...    \n",
       "TAXI_IN                0.0  0.0  0.0  0.0  0.0  0.0  0.0  0.0  0.0  0.0  ...    \n",
       "CRS_ARR_TIME           0.0  0.0  0.0  0.0  0.0  0.0  0.0  0.0  0.0  0.0  ...    \n",
       "ARR_DEL15              0.0  1.0  0.0  0.0  1.0  0.0  0.0  1.0  0.0  1.0  ...    \n",
       "CARRIER_DELAY          0.0  1.0  0.0  0.0  0.0  0.0  0.0  1.0  0.0  1.0  ...    \n",
       "WEATHER_DELAY          0.0  0.0  0.0  0.0  0.0  0.0  0.0  0.0  0.0  0.0  ...    \n",
       "NAS_DELAY              0.0  0.0  0.0  0.0  1.0  0.0  0.0  1.0  0.0  1.0  ...    \n",
       "SECURITY_DELAY         0.0  0.0  0.0  0.0  0.0  0.0  0.0  0.0  0.0  0.0  ...    \n",
       "LATE_AIRCRAFT_DELAY    0.0  1.0  0.0  0.0  0.0  0.0  0.0  1.0  0.0  0.0  ...    \n",
       "DelayedDepartureSFO    0.0  0.0  0.0  0.0  0.0  0.0  0.0  0.0  0.0  0.0  ...    \n",
       "ScheduledDepartureSFO  0.0  0.0  0.0  0.0  0.0  0.0  0.0  0.0  0.0  0.0  ...    \n",
       "DelayedArrivalPHL      0.0  0.0  0.0  0.0  0.0  0.0  0.0  0.0  0.0  0.0  ...    \n",
       "ScheduledArrivalPHL    1.0  0.0  1.0  0.0  1.0  0.0  1.0  0.0  1.0  0.0  ...    \n",
       "\n",
       "                        958   959   960   961   962   963   964   965   966  \\\n",
       "QUARTER                 4.0   4.0   4.0   4.0   4.0   4.0   4.0   4.0   4.0   \n",
       "MONTH                  12.0  12.0  12.0  12.0  12.0  12.0  12.0  12.0  12.0   \n",
       "DAY_OF_WEEK             4.0   4.0   3.0   2.0   1.0   2.0   1.0   7.0   5.0   \n",
       "CRS_DEP_TIME            1.0   0.0   0.0   0.0   0.0   0.0   1.0   1.0   0.0   \n",
       "DEP_DELAY               1.0   1.0  -1.0  -1.0   1.0   1.0  -1.0   0.0   1.0   \n",
       "TAXI_OUT                1.0   1.0   2.0   2.0   3.0   1.0   1.0   1.0   1.0   \n",
       "TAXI_IN                 0.0   0.0   0.0   0.0   0.0   0.0   0.0   0.0   0.0   \n",
       "CRS_ARR_TIME            0.0   1.0   1.0   1.0   1.0   1.0   0.0   0.0   1.0   \n",
       "ARR_DEL15               1.0   1.0   1.0   0.0   1.0   0.0   0.0   0.0   1.0   \n",
       "CARRIER_DELAY           1.0   1.0   0.0   0.0   1.0   0.0   0.0   0.0   1.0   \n",
       "WEATHER_DELAY           0.0   0.0   0.0   0.0   0.0   0.0   0.0   0.0   0.0   \n",
       "NAS_DELAY               0.0   0.0   1.0   0.0   1.0   0.0   0.0   0.0   1.0   \n",
       "SECURITY_DELAY          0.0   0.0   0.0   0.0   0.0   0.0   0.0   0.0   0.0   \n",
       "LATE_AIRCRAFT_DELAY     1.0   0.0   0.0   0.0   0.0   0.0   0.0   0.0   0.0   \n",
       "DelayedDepartureSFO     0.0   1.0   0.0   1.0   0.0   0.0   0.0   1.0   0.0   \n",
       "ScheduledDepartureSFO   0.0   3.0   0.0   3.0   0.0   3.0   0.0   2.0   0.0   \n",
       "DelayedArrivalPHL       0.0   0.0   0.0   0.0   0.0   0.0   0.0   0.0   0.0   \n",
       "ScheduledArrivalPHL     0.0   2.0   0.0   2.0   0.0   2.0   0.0   2.0   0.0   \n",
       "\n",
       "                        967  \n",
       "QUARTER                 4.0  \n",
       "MONTH                  12.0  \n",
       "DAY_OF_WEEK             4.0  \n",
       "CRS_DEP_TIME            1.0  \n",
       "DEP_DELAY               0.0  \n",
       "TAXI_OUT                1.0  \n",
       "TAXI_IN                 0.0  \n",
       "CRS_ARR_TIME            0.0  \n",
       "ARR_DEL15               1.0  \n",
       "CARRIER_DELAY           0.0  \n",
       "WEATHER_DELAY           0.0  \n",
       "NAS_DELAY               1.0  \n",
       "SECURITY_DELAY          0.0  \n",
       "LATE_AIRCRAFT_DELAY     0.0  \n",
       "DelayedDepartureSFO     1.0  \n",
       "ScheduledDepartureSFO   2.0  \n",
       "DelayedArrivalPHL       0.0  \n",
       "ScheduledArrivalPHL     3.0  \n",
       "\n",
       "[18 rows x 968 columns]"
      ]
     },
     "execution_count": 6,
     "metadata": {},
     "output_type": "execute_result"
    }
   ],
   "source": [
    "flights_df = flights_df.drop(['DAY_OF_MONTH'],axis=1)\n",
    "# save as CSV\n",
    "flights_df.to_csv('full_data.csv',index=False)\n",
    "flights_df.transpose()"
   ]
  },
  {
   "cell_type": "markdown",
   "metadata": {},
   "source": [
    "### Train and Test Data"
   ]
  },
  {
   "cell_type": "markdown",
   "metadata": {},
   "source": [
    "Let the five delay causes (CARRIER_DELAY, WEATHER_DELAY, NAS_DELAY, SECURITY_DELAY, LATE_AIRCRAFT_DELAY) and the variable we are looking to explain (ARR_DEL15) be nodes. We must perform regression analysis to determine dependency relationships."
   ]
  },
  {
   "cell_type": "code",
   "execution_count": 7,
   "metadata": {},
   "outputs": [],
   "source": [
    "# 20% test data\n",
    "from sklearn.model_selection import train_test_split\n",
    "# 774 train data, 194 test data\n",
    "train_df,test_df = train_test_split(flights_df, test_size=0.2)\n",
    "# save as CSV\n",
    "train_df.to_csv('train_data.csv',index=False)\n",
    "test_df.to_csv('test_data.csv',index=False)"
   ]
  },
  {
   "cell_type": "markdown",
   "metadata": {},
   "source": [
    "## Finding Dependencies: Regression Analysis"
   ]
  },
  {
   "cell_type": "markdown",
   "metadata": {},
   "source": [
    "We use the Ordinary Least Squares (OLS) method to find dependencies, starting with what we know to be the final outcome: ARR_DEL15 (which is 0 if the flight does not arrive more than 15 minutes late, 1 otherwise). As we find dependencies, we will also be making sure that we are not creating any accidental cycles."
   ]
  },
  {
   "cell_type": "code",
   "execution_count": 8,
   "metadata": {},
   "outputs": [],
   "source": [
    "bn = nx.DiGraph()\n",
    "flight_edges_df = pd.DataFrame(columns=['from_node', 'to_node'])"
   ]
  },
  {
   "cell_type": "code",
   "execution_count": 9,
   "metadata": {},
   "outputs": [],
   "source": [
    "def regression_model(from_li, to_node):\n",
    "    '''\n",
    "    return OLS regression model, given list from_li of nodes and singular to_node\n",
    "    '''\n",
    "    X = train_df[from_li]\n",
    "    y = train_df[to_node]\n",
    "    model = sm.OLS(y, X).fit()\n",
    "    return model\n",
    "\n",
    "def update_flights_edges_df(from_li, str_var, flight_edges_df):\n",
    "    '''\n",
    "    update dataframe of edges using a list of from nodes, the string value of the node,\n",
    "    and the current dataframe of edges.\n",
    "    '''\n",
    "    # update flights_edges_df with from_node to to_node entries\n",
    "    flights_edges_dict = dict()\n",
    "    for node in from_li:\n",
    "        flights_edges_dict[node] = str_var\n",
    "    temp_df = pd.DataFrame(list(flights_edges_dict.items()), columns=['from_node', 'to_node'])\n",
    "    flight_edges_df = pd.concat([flight_edges_df, temp_df]).reset_index()\n",
    "    flight_edges_df = flight_edges_df.drop(['index'], axis=1)\n",
    "\n",
    "    # create network\n",
    "    bn = nx.from_pandas_edgelist(flight_edges_df,source='from_node',target='to_node',create_using=nx.DiGraph())\n",
    "    \n",
    "    # check to see if there are cycles, print one cycle if there exists at least one\n",
    "    try:\n",
    "        print(nx.find_cycle(bn, source=None, orientation='original'))\n",
    "    except:\n",
    "        print('No cycle found! You may proceed.')\n",
    "        \n",
    "    return flight_edges_df, bn\n",
    "\n",
    "def draw_graph(df,name):\n",
    "    '''\n",
    "    takes in dataframe of edges (from_node, to_node) and plots directed graph\n",
    "    saves to name\n",
    "    '''\n",
    "    # create network\n",
    "    G = nx.from_pandas_edgelist(df,source='from_node',target='to_node',create_using=nx.DiGraph())\n",
    "\n",
    "    G_edges = [edge for edge in G.edges()]\n",
    "    pos = nx.spring_layout(G)\n",
    "    nx.draw_networkx_nodes(G, pos, cmap=plt.get_cmap('jet'), node_size = 200,alpha=0.3)\n",
    "    nx.draw_networkx_labels(G, pos,font_size='10')\n",
    "    nx.draw_networkx_edges(G, pos, edgelist=G_edges, edge_color='b',style='dot', arrows=True,arrow_size = 15,alpha=0.5)\n",
    "    plt.savefig('./images/'+ name)\n",
    "    plt.show()\n",
    "    \n",
    "def remove_edge(from_edge,to_edge,df):\n",
    "    '''\n",
    "    remove from_edge to to_edge directed edge from df\n",
    "    '''\n",
    "    # remove edge from df\n",
    "    df = df[(flight_edges_df.from_node != from_edge) | (flight_edges_df.to_node != to_edge)]\n",
    "    \n",
    "    # create network\n",
    "    G = nx.from_pandas_edgelist(df,source='from_node',target='to_node',create_using=nx.DiGraph())\n",
    "    # check for cycles\n",
    "    try:\n",
    "        print(nx.find_cycle(G, source=None, orientation='original'))\n",
    "    except:\n",
    "        print('No cycle found! You may proceed.')\n",
    "    return df, G"
   ]
  },
  {
   "cell_type": "markdown",
   "metadata": {},
   "source": [
    "### ARR_DEL15"
   ]
  },
  {
   "cell_type": "code",
   "execution_count": 10,
   "metadata": {},
   "outputs": [
    {
     "data": {
      "text/html": [
       "<table class=\"simpletable\">\n",
       "<caption>OLS Regression Results</caption>\n",
       "<tr>\n",
       "  <th>Dep. Variable:</th>        <td>ARR_DEL15</td>    <th>  R-squared:         </th> <td>   0.891</td>\n",
       "</tr>\n",
       "<tr>\n",
       "  <th>Model:</th>                   <td>OLS</td>       <th>  Adj. R-squared:    </th> <td>   0.890</td>\n",
       "</tr>\n",
       "<tr>\n",
       "  <th>Method:</th>             <td>Least Squares</td>  <th>  F-statistic:       </th> <td>   783.4</td>\n",
       "</tr>\n",
       "<tr>\n",
       "  <th>Date:</th>             <td>Mon, 09 Apr 2018</td> <th>  Prob (F-statistic):</th>  <td>  0.00</td> \n",
       "</tr>\n",
       "<tr>\n",
       "  <th>Time:</th>                 <td>07:20:26</td>     <th>  Log-Likelihood:    </th> <td>  2.8879</td>\n",
       "</tr>\n",
       "<tr>\n",
       "  <th>No. Observations:</th>      <td>   774</td>      <th>  AIC:               </th> <td>   10.22</td>\n",
       "</tr>\n",
       "<tr>\n",
       "  <th>Df Residuals:</th>          <td>   766</td>      <th>  BIC:               </th> <td>   47.44</td>\n",
       "</tr>\n",
       "<tr>\n",
       "  <th>Df Model:</th>              <td>     8</td>      <th>                     </th>     <td> </td>   \n",
       "</tr>\n",
       "<tr>\n",
       "  <th>Covariance Type:</th>      <td>nonrobust</td>    <th>                     </th>     <td> </td>   \n",
       "</tr>\n",
       "</table>\n",
       "<table class=\"simpletable\">\n",
       "<tr>\n",
       "           <td></td>              <th>coef</th>     <th>std err</th>      <th>t</th>      <th>P>|t|</th>  <th>[0.025</th>    <th>0.975]</th>  \n",
       "</tr>\n",
       "<tr>\n",
       "  <th>CRS_DEP_TIME</th>        <td>    0.0814</td> <td>    0.016</td> <td>    5.181</td> <td> 0.000</td> <td>    0.051</td> <td>    0.112</td>\n",
       "</tr>\n",
       "<tr>\n",
       "  <th>TAXI_IN</th>             <td>   -0.0265</td> <td>    0.016</td> <td>   -1.707</td> <td> 0.088</td> <td>   -0.057</td> <td>    0.004</td>\n",
       "</tr>\n",
       "<tr>\n",
       "  <th>CRS_ARR_TIME</th>        <td>    0.1079</td> <td>    0.013</td> <td>    8.080</td> <td> 0.000</td> <td>    0.082</td> <td>    0.134</td>\n",
       "</tr>\n",
       "<tr>\n",
       "  <th>CARRIER_DELAY</th>       <td>    0.4224</td> <td>    0.021</td> <td>   19.970</td> <td> 0.000</td> <td>    0.381</td> <td>    0.464</td>\n",
       "</tr>\n",
       "<tr>\n",
       "  <th>NAS_DELAY</th>           <td>    0.6509</td> <td>    0.018</td> <td>   35.878</td> <td> 0.000</td> <td>    0.615</td> <td>    0.687</td>\n",
       "</tr>\n",
       "<tr>\n",
       "  <th>SECURITY_DELAY</th>      <td>    0.5257</td> <td>    0.244</td> <td>    2.158</td> <td> 0.031</td> <td>    0.048</td> <td>    1.004</td>\n",
       "</tr>\n",
       "<tr>\n",
       "  <th>LATE_AIRCRAFT_DELAY</th> <td>    0.3664</td> <td>    0.023</td> <td>   15.859</td> <td> 0.000</td> <td>    0.321</td> <td>    0.412</td>\n",
       "</tr>\n",
       "<tr>\n",
       "  <th>DelayedDepartureSFO</th> <td>    0.0785</td> <td>    0.034</td> <td>    2.292</td> <td> 0.022</td> <td>    0.011</td> <td>    0.146</td>\n",
       "</tr>\n",
       "</table>\n",
       "<table class=\"simpletable\">\n",
       "<tr>\n",
       "  <th>Omnibus:</th>       <td>36.307</td> <th>  Durbin-Watson:     </th> <td>   2.051</td>\n",
       "</tr>\n",
       "<tr>\n",
       "  <th>Prob(Omnibus):</th> <td> 0.000</td> <th>  Jarque-Bera (JB):  </th> <td>  40.178</td>\n",
       "</tr>\n",
       "<tr>\n",
       "  <th>Skew:</th>          <td> 0.546</td> <th>  Prob(JB):          </th> <td>1.89e-09</td>\n",
       "</tr>\n",
       "<tr>\n",
       "  <th>Kurtosis:</th>      <td> 3.235</td> <th>  Cond. No.          </th> <td>    27.7</td>\n",
       "</tr>\n",
       "</table>"
      ],
      "text/plain": [
       "<class 'statsmodels.iolib.summary.Summary'>\n",
       "\"\"\"\n",
       "                            OLS Regression Results                            \n",
       "==============================================================================\n",
       "Dep. Variable:              ARR_DEL15   R-squared:                       0.891\n",
       "Model:                            OLS   Adj. R-squared:                  0.890\n",
       "Method:                 Least Squares   F-statistic:                     783.4\n",
       "Date:                Mon, 09 Apr 2018   Prob (F-statistic):               0.00\n",
       "Time:                        07:20:26   Log-Likelihood:                 2.8879\n",
       "No. Observations:                 774   AIC:                             10.22\n",
       "Df Residuals:                     766   BIC:                             47.44\n",
       "Df Model:                           8                                         \n",
       "Covariance Type:            nonrobust                                         \n",
       "=======================================================================================\n",
       "                          coef    std err          t      P>|t|      [0.025      0.975]\n",
       "---------------------------------------------------------------------------------------\n",
       "CRS_DEP_TIME            0.0814      0.016      5.181      0.000       0.051       0.112\n",
       "TAXI_IN                -0.0265      0.016     -1.707      0.088      -0.057       0.004\n",
       "CRS_ARR_TIME            0.1079      0.013      8.080      0.000       0.082       0.134\n",
       "CARRIER_DELAY           0.4224      0.021     19.970      0.000       0.381       0.464\n",
       "NAS_DELAY               0.6509      0.018     35.878      0.000       0.615       0.687\n",
       "SECURITY_DELAY          0.5257      0.244      2.158      0.031       0.048       1.004\n",
       "LATE_AIRCRAFT_DELAY     0.3664      0.023     15.859      0.000       0.321       0.412\n",
       "DelayedDepartureSFO     0.0785      0.034      2.292      0.022       0.011       0.146\n",
       "==============================================================================\n",
       "Omnibus:                       36.307   Durbin-Watson:                   2.051\n",
       "Prob(Omnibus):                  0.000   Jarque-Bera (JB):               40.178\n",
       "Skew:                           0.546   Prob(JB):                     1.89e-09\n",
       "Kurtosis:                       3.235   Cond. No.                         27.7\n",
       "==============================================================================\n",
       "\n",
       "Warnings:\n",
       "[1] Standard Errors assume that the covariance matrix of the errors is correctly specified.\n",
       "\"\"\""
      ]
     },
     "execution_count": 10,
     "metadata": {},
     "output_type": "execute_result"
    }
   ],
   "source": [
    "arr_15_from = ['CRS_DEP_TIME', 'TAXI_IN', 'CRS_ARR_TIME', 'CARRIER_DELAY', 'NAS_DELAY', 'SECURITY_DELAY', 'LATE_AIRCRAFT_DELAY', 'DelayedDepartureSFO']\n",
    "regression_model(arr_15_from, 'ARR_DEL15').summary()"
   ]
  },
  {
   "cell_type": "code",
   "execution_count": 11,
   "metadata": {},
   "outputs": [
    {
     "name": "stdout",
     "output_type": "stream",
     "text": [
      "No cycle found! You may proceed.\n"
     ]
    },
    {
     "data": {
      "image/png": "[encoded data removed]",
      "text/plain": [
       "<matplotlib.figure.Figure at 0x7f869f037b70>"
      ]
     },
     "metadata": {},
     "output_type": "display_data"
    }
   ],
   "source": [
    "# update dataframe of edges and draw graph\n",
    "flight_edges_df, bn = update_flights_edges_df(arr_15_from, 'ARR_DEL15',flight_edges_df)\n",
    "draw_graph(flight_edges_df,'initial_bn.png')"
   ]
  },
  {
   "cell_type": "markdown",
   "metadata": {},
   "source": [
    "Using regressional analysis, we conclude that ARR_DEL15 is dependent on six factors. So far, we do not have any cycles (remember that a Bayesian network consists of a directed acyclic graph), so we may proceed by moving onto finding more dependencies by choosing an arbitrary parent of ARR_DEL15."
   ]
  },
  {
   "cell_type": "markdown",
   "metadata": {},
   "source": [
    "### NAS Delay"
   ]
  },
  {
   "cell_type": "markdown",
   "metadata": {},
   "source": [
    "Carrier Delay depends on"
   ]
  },
  {
   "cell_type": "code",
   "execution_count": 12,
   "metadata": {},
   "outputs": [
    {
     "data": {
      "text/html": [
       "<table class=\"simpletable\">\n",
       "<caption>OLS Regression Results</caption>\n",
       "<tr>\n",
       "  <th>Dep. Variable:</th>        <td>NAS_DELAY</td>    <th>  R-squared:         </th> <td>   0.505</td> \n",
       "</tr>\n",
       "<tr>\n",
       "  <th>Model:</th>                   <td>OLS</td>       <th>  Adj. R-squared:    </th> <td>   0.502</td> \n",
       "</tr>\n",
       "<tr>\n",
       "  <th>Method:</th>             <td>Least Squares</td>  <th>  F-statistic:       </th> <td>   196.0</td> \n",
       "</tr>\n",
       "<tr>\n",
       "  <th>Date:</th>             <td>Mon, 09 Apr 2018</td> <th>  Prob (F-statistic):</th> <td>7.30e-116</td>\n",
       "</tr>\n",
       "<tr>\n",
       "  <th>Time:</th>                 <td>07:20:27</td>     <th>  Log-Likelihood:    </th> <td> -439.82</td> \n",
       "</tr>\n",
       "<tr>\n",
       "  <th>No. Observations:</th>      <td>   774</td>      <th>  AIC:               </th> <td>   887.6</td> \n",
       "</tr>\n",
       "<tr>\n",
       "  <th>Df Residuals:</th>          <td>   770</td>      <th>  BIC:               </th> <td>   906.3</td> \n",
       "</tr>\n",
       "<tr>\n",
       "  <th>Df Model:</th>              <td>     4</td>      <th>                     </th>     <td> </td>    \n",
       "</tr>\n",
       "<tr>\n",
       "  <th>Covariance Type:</th>      <td>nonrobust</td>    <th>                     </th>     <td> </td>    \n",
       "</tr>\n",
       "</table>\n",
       "<table class=\"simpletable\">\n",
       "<tr>\n",
       "           <td></td>              <th>coef</th>     <th>std err</th>      <th>t</th>      <th>P>|t|</th>  <th>[0.025</th>    <th>0.975]</th>  \n",
       "</tr>\n",
       "<tr>\n",
       "  <th>MONTH</th>               <td>   -0.0096</td> <td>    0.004</td> <td>   -2.636</td> <td> 0.009</td> <td>   -0.017</td> <td>   -0.002</td>\n",
       "</tr>\n",
       "<tr>\n",
       "  <th>TAXI_OUT</th>            <td>    0.2445</td> <td>    0.016</td> <td>   15.082</td> <td> 0.000</td> <td>    0.213</td> <td>    0.276</td>\n",
       "</tr>\n",
       "<tr>\n",
       "  <th>CARRIER_DELAY</th>       <td>    0.2166</td> <td>    0.036</td> <td>    6.043</td> <td> 0.000</td> <td>    0.146</td> <td>    0.287</td>\n",
       "</tr>\n",
       "<tr>\n",
       "  <th>LATE_AIRCRAFT_DELAY</th> <td>    0.1462</td> <td>    0.039</td> <td>    3.701</td> <td> 0.000</td> <td>    0.069</td> <td>    0.224</td>\n",
       "</tr>\n",
       "</table>\n",
       "<table class=\"simpletable\">\n",
       "<tr>\n",
       "  <th>Omnibus:</th>       <td>201.784</td> <th>  Durbin-Watson:     </th> <td>   2.052</td>\n",
       "</tr>\n",
       "<tr>\n",
       "  <th>Prob(Omnibus):</th> <td> 0.000</td>  <th>  Jarque-Bera (JB):  </th> <td>  70.616</td>\n",
       "</tr>\n",
       "<tr>\n",
       "  <th>Skew:</th>          <td> 0.542</td>  <th>  Prob(JB):          </th> <td>4.63e-16</td>\n",
       "</tr>\n",
       "<tr>\n",
       "  <th>Kurtosis:</th>      <td> 1.993</td>  <th>  Cond. No.          </th> <td>    22.0</td>\n",
       "</tr>\n",
       "</table>"
      ],
      "text/plain": [
       "<class 'statsmodels.iolib.summary.Summary'>\n",
       "\"\"\"\n",
       "                            OLS Regression Results                            \n",
       "==============================================================================\n",
       "Dep. Variable:              NAS_DELAY   R-squared:                       0.505\n",
       "Model:                            OLS   Adj. R-squared:                  0.502\n",
       "Method:                 Least Squares   F-statistic:                     196.0\n",
       "Date:                Mon, 09 Apr 2018   Prob (F-statistic):          7.30e-116\n",
       "Time:                        07:20:27   Log-Likelihood:                -439.82\n",
       "No. Observations:                 774   AIC:                             887.6\n",
       "Df Residuals:                     770   BIC:                             906.3\n",
       "Df Model:                           4                                         \n",
       "Covariance Type:            nonrobust                                         \n",
       "=======================================================================================\n",
       "                          coef    std err          t      P>|t|      [0.025      0.975]\n",
       "---------------------------------------------------------------------------------------\n",
       "MONTH                  -0.0096      0.004     -2.636      0.009      -0.017      -0.002\n",
       "TAXI_OUT                0.2445      0.016     15.082      0.000       0.213       0.276\n",
       "CARRIER_DELAY           0.2166      0.036      6.043      0.000       0.146       0.287\n",
       "LATE_AIRCRAFT_DELAY     0.1462      0.039      3.701      0.000       0.069       0.224\n",
       "==============================================================================\n",
       "Omnibus:                      201.784   Durbin-Watson:                   2.052\n",
       "Prob(Omnibus):                  0.000   Jarque-Bera (JB):               70.616\n",
       "Skew:                           0.542   Prob(JB):                     4.63e-16\n",
       "Kurtosis:                       1.993   Cond. No.                         22.0\n",
       "==============================================================================\n",
       "\n",
       "Warnings:\n",
       "[1] Standard Errors assume that the covariance matrix of the errors is correctly specified.\n",
       "\"\"\""
      ]
     },
     "execution_count": 12,
     "metadata": {},
     "output_type": "execute_result"
    }
   ],
   "source": [
    "nas_delay_from =['MONTH', 'TAXI_OUT', 'CARRIER_DELAY','LATE_AIRCRAFT_DELAY']\n",
    "regression_model(nas_delay_from, 'NAS_DELAY').summary()"
   ]
  },
  {
   "cell_type": "code",
   "execution_count": 13,
   "metadata": {},
   "outputs": [
    {
     "name": "stdout",
     "output_type": "stream",
     "text": [
      "No cycle found! You may proceed.\n"
     ]
    }
   ],
   "source": [
    "flight_edges_df, bn = update_flights_edges_df(nas_delay_from, 'NAS_DELAY',flight_edges_df)"
   ]
  },
  {
   "cell_type": "code",
   "execution_count": 14,
   "metadata": {},
   "outputs": [
    {
     "data": {
      "image/png": "[encoded data removed]",
      "text/plain": [
       "<matplotlib.figure.Figure at 0x7f869e92d908>"
      ]
     },
     "metadata": {},
     "output_type": "display_data"
    }
   ],
   "source": [
    "draw_graph(flight_edges_df, 'nas-arr_del15.png')"
   ]
  },
  {
   "cell_type": "markdown",
   "metadata": {},
   "source": [
    "### Late Aircraft Delay"
   ]
  },
  {
   "cell_type": "markdown",
   "metadata": {},
   "source": [
    "Now, we took a look at the variables that LATE_AIRCRAFT_DELAY rely on. From this point on, we will not display the graph."
   ]
  },
  {
   "cell_type": "code",
   "execution_count": 15,
   "metadata": {},
   "outputs": [
    {
     "data": {
      "text/html": [
       "<table class=\"simpletable\">\n",
       "<caption>OLS Regression Results</caption>\n",
       "<tr>\n",
       "  <th>Dep. Variable:</th>    <td>LATE_AIRCRAFT_DELAY</td> <th>  R-squared:         </th> <td>   0.358</td>\n",
       "</tr>\n",
       "<tr>\n",
       "  <th>Model:</th>                    <td>OLS</td>         <th>  Adj. R-squared:    </th> <td>   0.353</td>\n",
       "</tr>\n",
       "<tr>\n",
       "  <th>Method:</th>              <td>Least Squares</td>    <th>  F-statistic:       </th> <td>   71.50</td>\n",
       "</tr>\n",
       "<tr>\n",
       "  <th>Date:</th>              <td>Mon, 09 Apr 2018</td>   <th>  Prob (F-statistic):</th> <td>9.36e-71</td>\n",
       "</tr>\n",
       "<tr>\n",
       "  <th>Time:</th>                  <td>07:20:27</td>       <th>  Log-Likelihood:    </th> <td> -291.46</td>\n",
       "</tr>\n",
       "<tr>\n",
       "  <th>No. Observations:</th>       <td>   774</td>        <th>  AIC:               </th> <td>   594.9</td>\n",
       "</tr>\n",
       "<tr>\n",
       "  <th>Df Residuals:</th>           <td>   768</td>        <th>  BIC:               </th> <td>   622.8</td>\n",
       "</tr>\n",
       "<tr>\n",
       "  <th>Df Model:</th>               <td>     6</td>        <th>                     </th>     <td> </td>   \n",
       "</tr>\n",
       "<tr>\n",
       "  <th>Covariance Type:</th>       <td>nonrobust</td>      <th>                     </th>     <td> </td>   \n",
       "</tr>\n",
       "</table>\n",
       "<table class=\"simpletable\">\n",
       "<tr>\n",
       "         <td></td>           <th>coef</th>     <th>std err</th>      <th>t</th>      <th>P>|t|</th>  <th>[0.025</th>    <th>0.975]</th>  \n",
       "</tr>\n",
       "<tr>\n",
       "  <th>CRS_DEP_TIME</th>   <td>    0.1836</td> <td>    0.028</td> <td>    6.622</td> <td> 0.000</td> <td>    0.129</td> <td>    0.238</td>\n",
       "</tr>\n",
       "<tr>\n",
       "  <th>DEP_DELAY</th>      <td>    0.1490</td> <td>    0.014</td> <td>   10.760</td> <td> 0.000</td> <td>    0.122</td> <td>    0.176</td>\n",
       "</tr>\n",
       "<tr>\n",
       "  <th>TAXI_OUT</th>       <td>   -0.0476</td> <td>    0.016</td> <td>   -2.912</td> <td> 0.004</td> <td>   -0.080</td> <td>   -0.015</td>\n",
       "</tr>\n",
       "<tr>\n",
       "  <th>CRS_ARR_TIME</th>   <td>    0.1758</td> <td>    0.025</td> <td>    6.894</td> <td> 0.000</td> <td>    0.126</td> <td>    0.226</td>\n",
       "</tr>\n",
       "<tr>\n",
       "  <th>NAS_DELAY</th>      <td>    0.1138</td> <td>    0.029</td> <td>    3.927</td> <td> 0.000</td> <td>    0.057</td> <td>    0.171</td>\n",
       "</tr>\n",
       "<tr>\n",
       "  <th>SECURITY_DELAY</th> <td>    0.7228</td> <td>    0.355</td> <td>    2.038</td> <td> 0.042</td> <td>    0.027</td> <td>    1.419</td>\n",
       "</tr>\n",
       "</table>\n",
       "<table class=\"simpletable\">\n",
       "<tr>\n",
       "  <th>Omnibus:</th>       <td>82.998</td> <th>  Durbin-Watson:     </th> <td>   1.999</td>\n",
       "</tr>\n",
       "<tr>\n",
       "  <th>Prob(Omnibus):</th> <td> 0.000</td> <th>  Jarque-Bera (JB):  </th> <td> 106.762</td>\n",
       "</tr>\n",
       "<tr>\n",
       "  <th>Skew:</th>          <td> 0.898</td> <th>  Prob(JB):          </th> <td>6.56e-24</td>\n",
       "</tr>\n",
       "<tr>\n",
       "  <th>Kurtosis:</th>      <td> 2.708</td> <th>  Cond. No.          </th> <td>    52.1</td>\n",
       "</tr>\n",
       "</table>"
      ],
      "text/plain": [
       "<class 'statsmodels.iolib.summary.Summary'>\n",
       "\"\"\"\n",
       "                             OLS Regression Results                            \n",
       "===============================================================================\n",
       "Dep. Variable:     LATE_AIRCRAFT_DELAY   R-squared:                       0.358\n",
       "Model:                             OLS   Adj. R-squared:                  0.353\n",
       "Method:                  Least Squares   F-statistic:                     71.50\n",
       "Date:                 Mon, 09 Apr 2018   Prob (F-statistic):           9.36e-71\n",
       "Time:                         07:20:27   Log-Likelihood:                -291.46\n",
       "No. Observations:                  774   AIC:                             594.9\n",
       "Df Residuals:                      768   BIC:                             622.8\n",
       "Df Model:                            6                                         \n",
       "Covariance Type:             nonrobust                                         \n",
       "==================================================================================\n",
       "                     coef    std err          t      P>|t|      [0.025      0.975]\n",
       "----------------------------------------------------------------------------------\n",
       "CRS_DEP_TIME       0.1836      0.028      6.622      0.000       0.129       0.238\n",
       "DEP_DELAY          0.1490      0.014     10.760      0.000       0.122       0.176\n",
       "TAXI_OUT          -0.0476      0.016     -2.912      0.004      -0.080      -0.015\n",
       "CRS_ARR_TIME       0.1758      0.025      6.894      0.000       0.126       0.226\n",
       "NAS_DELAY          0.1138      0.029      3.927      0.000       0.057       0.171\n",
       "SECURITY_DELAY     0.7228      0.355      2.038      0.042       0.027       1.419\n",
       "==============================================================================\n",
       "Omnibus:                       82.998   Durbin-Watson:                   1.999\n",
       "Prob(Omnibus):                  0.000   Jarque-Bera (JB):              106.762\n",
       "Skew:                           0.898   Prob(JB):                     6.56e-24\n",
       "Kurtosis:                       2.708   Cond. No.                         52.1\n",
       "==============================================================================\n",
       "\n",
       "Warnings:\n",
       "[1] Standard Errors assume that the covariance matrix of the errors is correctly specified.\n",
       "\"\"\""
      ]
     },
     "execution_count": 15,
     "metadata": {},
     "output_type": "execute_result"
    }
   ],
   "source": [
    "late_aircraft_from = ['CRS_DEP_TIME', 'DEP_DELAY', 'TAXI_OUT', 'CRS_ARR_TIME', 'NAS_DELAY', 'SECURITY_DELAY']\n",
    "regression_model(late_aircraft_from, 'LATE_AIRCRAFT_DELAY').summary()"
   ]
  },
  {
   "cell_type": "code",
   "execution_count": 16,
   "metadata": {},
   "outputs": [
    {
     "name": "stdout",
     "output_type": "stream",
     "text": [
      "[('LATE_AIRCRAFT_DELAY', 'NAS_DELAY'), ('NAS_DELAY', 'LATE_AIRCRAFT_DELAY')]\n"
     ]
    }
   ],
   "source": [
    "flight_edges_df, bn = update_flights_edges_df(late_aircraft_from, 'LATE_AIRCRAFT_DELAY',flight_edges_df)"
   ]
  },
  {
   "cell_type": "markdown",
   "metadata": {},
   "source": [
    "Since __NAS_DELAY__ and __LATE_AIRCRAFT_DELAY__ have edges pointing to each other, we must decide which edge we are going to get rid of. The FAA (http://aspmhelp.faa.gov/index.php/Types_of_Delay) defines __NAS_DELAY__ as delay that is \"within the control of the National Airspace System (NAS),\" including \"non-extreme weather conditions, airport operations, heavy traffic volume, air traffic control, etc.\" It goes on to state that delays at the destination airport that occur after Actual Gate Out time are attributed to the NAS (such as gate in delay and taxi in delay). On the other hand, FAA defines __LATE_AIRCRAFT_DELAY__ as arrival delay due to the ripple effect of an earlier delay at downstream airports is referred to as delay propagation. That is, the two seem to have no direct relationship with one another at all. Therefore, we remove both edges."
   ]
  },
  {
   "cell_type": "code",
   "execution_count": 17,
   "metadata": {},
   "outputs": [
    {
     "name": "stdout",
     "output_type": "stream",
     "text": [
      "No cycle found! You may proceed.\n",
      "No cycle found! You may proceed.\n"
     ]
    }
   ],
   "source": [
    "flight_edges_df, _ = remove_edge('NAS_DELAY', 'LATE_AIRCRAFT_DELAY', flight_edges_df)\n",
    "flight_edges_df, bn = remove_edge('LATE_AIRCRAFT_DELAY', 'NAS_DELAY', flight_edges_df)\n"
   ]
  },
  {
   "cell_type": "markdown",
   "metadata": {},
   "source": [
    "### Carrier Delay"
   ]
  },
  {
   "cell_type": "code",
   "execution_count": 18,
   "metadata": {},
   "outputs": [
    {
     "data": {
      "text/html": [
       "<table class=\"simpletable\">\n",
       "<caption>OLS Regression Results</caption>\n",
       "<tr>\n",
       "  <th>Dep. Variable:</th>      <td>CARRIER_DELAY</td>  <th>  R-squared:         </th> <td>   0.467</td>\n",
       "</tr>\n",
       "<tr>\n",
       "  <th>Model:</th>                   <td>OLS</td>       <th>  Adj. R-squared:    </th> <td>   0.461</td>\n",
       "</tr>\n",
       "<tr>\n",
       "  <th>Method:</th>             <td>Least Squares</td>  <th>  F-statistic:       </th> <td>   83.82</td>\n",
       "</tr>\n",
       "<tr>\n",
       "  <th>Date:</th>             <td>Mon, 09 Apr 2018</td> <th>  Prob (F-statistic):</th> <td>2.47e-99</td>\n",
       "</tr>\n",
       "<tr>\n",
       "  <th>Time:</th>                 <td>07:20:27</td>     <th>  Log-Likelihood:    </th> <td> -319.40</td>\n",
       "</tr>\n",
       "<tr>\n",
       "  <th>No. Observations:</th>      <td>   774</td>      <th>  AIC:               </th> <td>   654.8</td>\n",
       "</tr>\n",
       "<tr>\n",
       "  <th>Df Residuals:</th>          <td>   766</td>      <th>  BIC:               </th> <td>   692.0</td>\n",
       "</tr>\n",
       "<tr>\n",
       "  <th>Df Model:</th>              <td>     8</td>      <th>                     </th>     <td> </td>   \n",
       "</tr>\n",
       "<tr>\n",
       "  <th>Covariance Type:</th>      <td>nonrobust</td>    <th>                     </th>     <td> </td>   \n",
       "</tr>\n",
       "</table>\n",
       "<table class=\"simpletable\">\n",
       "<tr>\n",
       "         <td></td>           <th>coef</th>     <th>std err</th>      <th>t</th>      <th>P>|t|</th>  <th>[0.025</th>    <th>0.975]</th>  \n",
       "</tr>\n",
       "<tr>\n",
       "  <th>MONTH</th>          <td>    0.0081</td> <td>    0.004</td> <td>    2.192</td> <td> 0.029</td> <td>    0.001</td> <td>    0.015</td>\n",
       "</tr>\n",
       "<tr>\n",
       "  <th>CRS_DEP_TIME</th>   <td>    0.1955</td> <td>    0.033</td> <td>    5.894</td> <td> 0.000</td> <td>    0.130</td> <td>    0.261</td>\n",
       "</tr>\n",
       "<tr>\n",
       "  <th>DEP_DELAY</th>      <td>    0.1986</td> <td>    0.014</td> <td>   13.779</td> <td> 0.000</td> <td>    0.170</td> <td>    0.227</td>\n",
       "</tr>\n",
       "<tr>\n",
       "  <th>TAXI_OUT</th>       <td>   -0.0687</td> <td>    0.018</td> <td>   -3.878</td> <td> 0.000</td> <td>   -0.104</td> <td>   -0.034</td>\n",
       "</tr>\n",
       "<tr>\n",
       "  <th>CRS_ARR_TIME</th>   <td>    0.1691</td> <td>    0.031</td> <td>    5.468</td> <td> 0.000</td> <td>    0.108</td> <td>    0.230</td>\n",
       "</tr>\n",
       "<tr>\n",
       "  <th>WEATHER_DELAY</th>  <td>   -0.5059</td> <td>    0.166</td> <td>   -3.050</td> <td> 0.002</td> <td>   -0.832</td> <td>   -0.180</td>\n",
       "</tr>\n",
       "<tr>\n",
       "  <th>NAS_DELAY</th>      <td>    0.1791</td> <td>    0.030</td> <td>    5.943</td> <td> 0.000</td> <td>    0.120</td> <td>    0.238</td>\n",
       "</tr>\n",
       "<tr>\n",
       "  <th>SECURITY_DELAY</th> <td>   -0.3554</td> <td>    0.368</td> <td>   -0.965</td> <td> 0.335</td> <td>   -1.078</td> <td>    0.368</td>\n",
       "</tr>\n",
       "</table>\n",
       "<table class=\"simpletable\">\n",
       "<tr>\n",
       "  <th>Omnibus:</th>       <td>133.037</td> <th>  Durbin-Watson:     </th> <td>   2.063</td>\n",
       "</tr>\n",
       "<tr>\n",
       "  <th>Prob(Omnibus):</th> <td> 0.000</td>  <th>  Jarque-Bera (JB):  </th> <td>  40.721</td>\n",
       "</tr>\n",
       "<tr>\n",
       "  <th>Skew:</th>          <td> 0.307</td>  <th>  Prob(JB):          </th> <td>1.44e-09</td>\n",
       "</tr>\n",
       "<tr>\n",
       "  <th>Kurtosis:</th>      <td> 2.058</td>  <th>  Cond. No.          </th> <td>    221.</td>\n",
       "</tr>\n",
       "</table>"
      ],
      "text/plain": [
       "<class 'statsmodels.iolib.summary.Summary'>\n",
       "\"\"\"\n",
       "                            OLS Regression Results                            \n",
       "==============================================================================\n",
       "Dep. Variable:          CARRIER_DELAY   R-squared:                       0.467\n",
       "Model:                            OLS   Adj. R-squared:                  0.461\n",
       "Method:                 Least Squares   F-statistic:                     83.82\n",
       "Date:                Mon, 09 Apr 2018   Prob (F-statistic):           2.47e-99\n",
       "Time:                        07:20:27   Log-Likelihood:                -319.40\n",
       "No. Observations:                 774   AIC:                             654.8\n",
       "Df Residuals:                     766   BIC:                             692.0\n",
       "Df Model:                           8                                         \n",
       "Covariance Type:            nonrobust                                         \n",
       "==================================================================================\n",
       "                     coef    std err          t      P>|t|      [0.025      0.975]\n",
       "----------------------------------------------------------------------------------\n",
       "MONTH              0.0081      0.004      2.192      0.029       0.001       0.015\n",
       "CRS_DEP_TIME       0.1955      0.033      5.894      0.000       0.130       0.261\n",
       "DEP_DELAY          0.1986      0.014     13.779      0.000       0.170       0.227\n",
       "TAXI_OUT          -0.0687      0.018     -3.878      0.000      -0.104      -0.034\n",
       "CRS_ARR_TIME       0.1691      0.031      5.468      0.000       0.108       0.230\n",
       "WEATHER_DELAY     -0.5059      0.166     -3.050      0.002      -0.832      -0.180\n",
       "NAS_DELAY          0.1791      0.030      5.943      0.000       0.120       0.238\n",
       "SECURITY_DELAY    -0.3554      0.368     -0.965      0.335      -1.078       0.368\n",
       "==============================================================================\n",
       "Omnibus:                      133.037   Durbin-Watson:                   2.063\n",
       "Prob(Omnibus):                  0.000   Jarque-Bera (JB):               40.721\n",
       "Skew:                           0.307   Prob(JB):                     1.44e-09\n",
       "Kurtosis:                       2.058   Cond. No.                         221.\n",
       "==============================================================================\n",
       "\n",
       "Warnings:\n",
       "[1] Standard Errors assume that the covariance matrix of the errors is correctly specified.\n",
       "\"\"\""
      ]
     },
     "execution_count": 18,
     "metadata": {},
     "output_type": "execute_result"
    }
   ],
   "source": [
    "carrier_delay_from = ['MONTH', 'CRS_DEP_TIME', 'DEP_DELAY', 'TAXI_OUT', 'CRS_ARR_TIME', 'WEATHER_DELAY', 'NAS_DELAY', 'SECURITY_DELAY']\n",
    "regression_model(carrier_delay_from, 'CARRIER_DELAY').summary()"
   ]
  },
  {
   "cell_type": "code",
   "execution_count": 19,
   "metadata": {},
   "outputs": [
    {
     "name": "stdout",
     "output_type": "stream",
     "text": [
      "[('CARRIER_DELAY', 'NAS_DELAY'), ('NAS_DELAY', 'CARRIER_DELAY')]\n"
     ]
    }
   ],
   "source": [
    "flight_edges_df, bn = update_flights_edges_df(carrier_delay_from, 'CARRIER_DELAY',flight_edges_df)"
   ]
  },
  {
   "cell_type": "markdown",
   "metadata": {},
   "source": [
    "__CARRIER_DELAY__ is within the control of the air carrier, such as: aircraft cleaning, aircraft damage, awaiting the arrival of connecting passengers or crew, baggage, bird strike, cargo loading, catering, computer, outage-carrier equipment, crew legality (pilot or attendant rest), damage by hazardous goods, engineering inspection, fueling, handling disabled passengers, late crew, lavatory servicing, maintenance, oversales, potable water servicing, removal of unruly passenger, slow boarding or seating, stowing carry-on baggage, weight and balance delays. This seems to have little to do with __NAS_DELAY__ and vice versa. Thus, we remove both edges"
   ]
  },
  {
   "cell_type": "code",
   "execution_count": 20,
   "metadata": {},
   "outputs": [
    {
     "name": "stdout",
     "output_type": "stream",
     "text": [
      "No cycle found! You may proceed.\n",
      "No cycle found! You may proceed.\n"
     ]
    }
   ],
   "source": [
    "# remove both edges\n",
    "flight_edges_df, _ = remove_edge('CARRIER_DELAY','NAS_DELAY', flight_edges_df)\n",
    "flight_edges_df, bn = remove_edge('NAS_DELAY','CARRIER_DELAY', flight_edges_df)"
   ]
  },
  {
   "cell_type": "markdown",
   "metadata": {},
   "source": [
    "Recall that FAA defines __LATE_AIRCRAFT_DELAY__ as arrival delay due to the ripple effect of an earlier delay at downstream airports is referred to as delay propagation. It would seem probable that a late prior aircraft could cause carrier delay but not the other way around. Thus, we only remove the edge from CARRIER_DELAY to LATE_AIRCRAFT_DELAY."
   ]
  },
  {
   "cell_type": "markdown",
   "metadata": {},
   "source": [
    "### WEATHER_DELAY"
   ]
  },
  {
   "cell_type": "code",
   "execution_count": 21,
   "metadata": {},
   "outputs": [
    {
     "data": {
      "text/html": [
       "<table class=\"simpletable\">\n",
       "<caption>OLS Regression Results</caption>\n",
       "<tr>\n",
       "  <th>Dep. Variable:</th>      <td>WEATHER_DELAY</td>  <th>  R-squared:         </th> <td>   0.019</td>\n",
       "</tr>\n",
       "<tr>\n",
       "  <th>Model:</th>                   <td>OLS</td>       <th>  Adj. R-squared:    </th> <td>   0.014</td>\n",
       "</tr>\n",
       "<tr>\n",
       "  <th>Method:</th>             <td>Least Squares</td>  <th>  F-statistic:       </th> <td>   3.784</td>\n",
       "</tr>\n",
       "<tr>\n",
       "  <th>Date:</th>             <td>Mon, 09 Apr 2018</td> <th>  Prob (F-statistic):</th>  <td>0.00468</td>\n",
       "</tr>\n",
       "<tr>\n",
       "  <th>Time:</th>                 <td>07:20:27</td>     <th>  Log-Likelihood:    </th> <td>  860.58</td>\n",
       "</tr>\n",
       "<tr>\n",
       "  <th>No. Observations:</th>      <td>   774</td>      <th>  AIC:               </th> <td>  -1713.</td>\n",
       "</tr>\n",
       "<tr>\n",
       "  <th>Df Residuals:</th>          <td>   770</td>      <th>  BIC:               </th> <td>  -1695.</td>\n",
       "</tr>\n",
       "<tr>\n",
       "  <th>Df Model:</th>              <td>     4</td>      <th>                     </th>     <td> </td>   \n",
       "</tr>\n",
       "<tr>\n",
       "  <th>Covariance Type:</th>      <td>nonrobust</td>    <th>                     </th>     <td> </td>   \n",
       "</tr>\n",
       "</table>\n",
       "<table class=\"simpletable\">\n",
       "<tr>\n",
       "            <td></td>               <th>coef</th>     <th>std err</th>      <th>t</th>      <th>P>|t|</th>  <th>[0.025</th>    <th>0.975]</th>  \n",
       "</tr>\n",
       "<tr>\n",
       "  <th>LATE_AIRCRAFT_DELAY</th>   <td>    0.0183</td> <td>    0.007</td> <td>    2.708</td> <td> 0.007</td> <td>    0.005</td> <td>    0.032</td>\n",
       "</tr>\n",
       "<tr>\n",
       "  <th>ScheduledDepartureSFO</th> <td>    0.0023</td> <td>    0.002</td> <td>    1.204</td> <td> 0.229</td> <td>   -0.001</td> <td>    0.006</td>\n",
       "</tr>\n",
       "<tr>\n",
       "  <th>DelayedArrivalPHL</th>     <td>    0.0421</td> <td>    0.020</td> <td>    2.086</td> <td> 0.037</td> <td>    0.002</td> <td>    0.082</td>\n",
       "</tr>\n",
       "<tr>\n",
       "  <th>ScheduledArrivalPHL</th>   <td>   -0.0055</td> <td>    0.004</td> <td>   -1.262</td> <td> 0.207</td> <td>   -0.014</td> <td>    0.003</td>\n",
       "</tr>\n",
       "</table>\n",
       "<table class=\"simpletable\">\n",
       "<tr>\n",
       "  <th>Omnibus:</th>       <td>1379.824</td> <th>  Durbin-Watson:     </th>  <td>   2.013</td> \n",
       "</tr>\n",
       "<tr>\n",
       "  <th>Prob(Omnibus):</th>  <td> 0.000</td>  <th>  Jarque-Bera (JB):  </th> <td>698200.150</td>\n",
       "</tr>\n",
       "<tr>\n",
       "  <th>Skew:</th>           <td>12.027</td>  <th>  Prob(JB):          </th>  <td>    0.00</td> \n",
       "</tr>\n",
       "<tr>\n",
       "  <th>Kurtosis:</th>       <td>148.159</td> <th>  Cond. No.          </th>  <td>    12.8</td> \n",
       "</tr>\n",
       "</table>"
      ],
      "text/plain": [
       "<class 'statsmodels.iolib.summary.Summary'>\n",
       "\"\"\"\n",
       "                            OLS Regression Results                            \n",
       "==============================================================================\n",
       "Dep. Variable:          WEATHER_DELAY   R-squared:                       0.019\n",
       "Model:                            OLS   Adj. R-squared:                  0.014\n",
       "Method:                 Least Squares   F-statistic:                     3.784\n",
       "Date:                Mon, 09 Apr 2018   Prob (F-statistic):            0.00468\n",
       "Time:                        07:20:27   Log-Likelihood:                 860.58\n",
       "No. Observations:                 774   AIC:                            -1713.\n",
       "Df Residuals:                     770   BIC:                            -1695.\n",
       "Df Model:                           4                                         \n",
       "Covariance Type:            nonrobust                                         \n",
       "=========================================================================================\n",
       "                            coef    std err          t      P>|t|      [0.025      0.975]\n",
       "-----------------------------------------------------------------------------------------\n",
       "LATE_AIRCRAFT_DELAY       0.0183      0.007      2.708      0.007       0.005       0.032\n",
       "ScheduledDepartureSFO     0.0023      0.002      1.204      0.229      -0.001       0.006\n",
       "DelayedArrivalPHL         0.0421      0.020      2.086      0.037       0.002       0.082\n",
       "ScheduledArrivalPHL      -0.0055      0.004     -1.262      0.207      -0.014       0.003\n",
       "==============================================================================\n",
       "Omnibus:                     1379.824   Durbin-Watson:                   2.013\n",
       "Prob(Omnibus):                  0.000   Jarque-Bera (JB):           698200.150\n",
       "Skew:                          12.027   Prob(JB):                         0.00\n",
       "Kurtosis:                     148.159   Cond. No.                         12.8\n",
       "==============================================================================\n",
       "\n",
       "Warnings:\n",
       "[1] Standard Errors assume that the covariance matrix of the errors is correctly specified.\n",
       "\"\"\""
      ]
     },
     "execution_count": 21,
     "metadata": {},
     "output_type": "execute_result"
    }
   ],
   "source": [
    "weather_delay_from = ['LATE_AIRCRAFT_DELAY', 'ScheduledDepartureSFO', 'DelayedArrivalPHL', 'ScheduledArrivalPHL']\n",
    "regression_model(weather_delay_from, 'WEATHER_DELAY').summary()"
   ]
  },
  {
   "cell_type": "code",
   "execution_count": 22,
   "metadata": {},
   "outputs": [
    {
     "name": "stdout",
     "output_type": "stream",
     "text": [
      "No cycle found! You may proceed.\n"
     ]
    }
   ],
   "source": [
    "flight_edges_df, bn = update_flights_edges_df(weather_delay_from, 'WEATHER_DELAY',flight_edges_df)"
   ]
  },
  {
   "cell_type": "markdown",
   "metadata": {},
   "source": [
    "### CRS Arrival Time"
   ]
  },
  {
   "cell_type": "code",
   "execution_count": 23,
   "metadata": {},
   "outputs": [
    {
     "data": {
      "text/html": [
       "<table class=\"simpletable\">\n",
       "<caption>OLS Regression Results</caption>\n",
       "<tr>\n",
       "  <th>Dep. Variable:</th>      <td>CRS_ARR_TIME</td>   <th>  R-squared:         </th> <td>   0.794</td> \n",
       "</tr>\n",
       "<tr>\n",
       "  <th>Model:</th>                   <td>OLS</td>       <th>  Adj. R-squared:    </th> <td>   0.792</td> \n",
       "</tr>\n",
       "<tr>\n",
       "  <th>Method:</th>             <td>Least Squares</td>  <th>  F-statistic:       </th> <td>   369.8</td> \n",
       "</tr>\n",
       "<tr>\n",
       "  <th>Date:</th>             <td>Mon, 09 Apr 2018</td> <th>  Prob (F-statistic):</th> <td>4.16e-257</td>\n",
       "</tr>\n",
       "<tr>\n",
       "  <th>Time:</th>                 <td>07:20:27</td>     <th>  Log-Likelihood:    </th> <td> -303.72</td> \n",
       "</tr>\n",
       "<tr>\n",
       "  <th>No. Observations:</th>      <td>   774</td>      <th>  AIC:               </th> <td>   623.4</td> \n",
       "</tr>\n",
       "<tr>\n",
       "  <th>Df Residuals:</th>          <td>   766</td>      <th>  BIC:               </th> <td>   660.7</td> \n",
       "</tr>\n",
       "<tr>\n",
       "  <th>Df Model:</th>              <td>     8</td>      <th>                     </th>     <td> </td>    \n",
       "</tr>\n",
       "<tr>\n",
       "  <th>Covariance Type:</th>      <td>nonrobust</td>    <th>                     </th>     <td> </td>    \n",
       "</tr>\n",
       "</table>\n",
       "<table class=\"simpletable\">\n",
       "<tr>\n",
       "            <td></td>               <th>coef</th>     <th>std err</th>      <th>t</th>      <th>P>|t|</th>  <th>[0.025</th>    <th>0.975]</th>  \n",
       "</tr>\n",
       "<tr>\n",
       "  <th>QUARTER</th>               <td>    0.3935</td> <td>    0.044</td> <td>    8.937</td> <td> 0.000</td> <td>    0.307</td> <td>    0.480</td>\n",
       "</tr>\n",
       "<tr>\n",
       "  <th>MONTH</th>                 <td>   -0.0961</td> <td>    0.015</td> <td>   -6.368</td> <td> 0.000</td> <td>   -0.126</td> <td>   -0.066</td>\n",
       "</tr>\n",
       "<tr>\n",
       "  <th>DAY_OF_WEEK</th>           <td>    0.0555</td> <td>    0.006</td> <td>    9.615</td> <td> 0.000</td> <td>    0.044</td> <td>    0.067</td>\n",
       "</tr>\n",
       "<tr>\n",
       "  <th>CRS_DEP_TIME</th>          <td>   -0.7249</td> <td>    0.026</td> <td>  -27.625</td> <td> 0.000</td> <td>   -0.776</td> <td>   -0.673</td>\n",
       "</tr>\n",
       "<tr>\n",
       "  <th>TAXI_OUT</th>              <td>    0.1488</td> <td>    0.015</td> <td>   10.027</td> <td> 0.000</td> <td>    0.120</td> <td>    0.178</td>\n",
       "</tr>\n",
       "<tr>\n",
       "  <th>CARRIER_DELAY</th>         <td>    0.1355</td> <td>    0.031</td> <td>    4.390</td> <td> 0.000</td> <td>    0.075</td> <td>    0.196</td>\n",
       "</tr>\n",
       "<tr>\n",
       "  <th>LATE_AIRCRAFT_DELAY</th>   <td>    0.1678</td> <td>    0.034</td> <td>    4.981</td> <td> 0.000</td> <td>    0.102</td> <td>    0.234</td>\n",
       "</tr>\n",
       "<tr>\n",
       "  <th>ScheduledDepartureSFO</th> <td>    0.0115</td> <td>    0.009</td> <td>    1.315</td> <td> 0.189</td> <td>   -0.006</td> <td>    0.029</td>\n",
       "</tr>\n",
       "</table>\n",
       "<table class=\"simpletable\">\n",
       "<tr>\n",
       "  <th>Omnibus:</th>       <td>18.206</td> <th>  Durbin-Watson:     </th> <td>   1.974</td>\n",
       "</tr>\n",
       "<tr>\n",
       "  <th>Prob(Omnibus):</th> <td> 0.000</td> <th>  Jarque-Bera (JB):  </th> <td>  25.598</td>\n",
       "</tr>\n",
       "<tr>\n",
       "  <th>Skew:</th>          <td> 0.231</td> <th>  Prob(JB):          </th> <td>2.76e-06</td>\n",
       "</tr>\n",
       "<tr>\n",
       "  <th>Kurtosis:</th>      <td> 3.762</td> <th>  Cond. No.          </th> <td>    33.3</td>\n",
       "</tr>\n",
       "</table>"
      ],
      "text/plain": [
       "<class 'statsmodels.iolib.summary.Summary'>\n",
       "\"\"\"\n",
       "                            OLS Regression Results                            \n",
       "==============================================================================\n",
       "Dep. Variable:           CRS_ARR_TIME   R-squared:                       0.794\n",
       "Model:                            OLS   Adj. R-squared:                  0.792\n",
       "Method:                 Least Squares   F-statistic:                     369.8\n",
       "Date:                Mon, 09 Apr 2018   Prob (F-statistic):          4.16e-257\n",
       "Time:                        07:20:27   Log-Likelihood:                -303.72\n",
       "No. Observations:                 774   AIC:                             623.4\n",
       "Df Residuals:                     766   BIC:                             660.7\n",
       "Df Model:                           8                                         \n",
       "Covariance Type:            nonrobust                                         \n",
       "=========================================================================================\n",
       "                            coef    std err          t      P>|t|      [0.025      0.975]\n",
       "-----------------------------------------------------------------------------------------\n",
       "QUARTER                   0.3935      0.044      8.937      0.000       0.307       0.480\n",
       "MONTH                    -0.0961      0.015     -6.368      0.000      -0.126      -0.066\n",
       "DAY_OF_WEEK               0.0555      0.006      9.615      0.000       0.044       0.067\n",
       "CRS_DEP_TIME             -0.7249      0.026    -27.625      0.000      -0.776      -0.673\n",
       "TAXI_OUT                  0.1488      0.015     10.027      0.000       0.120       0.178\n",
       "CARRIER_DELAY             0.1355      0.031      4.390      0.000       0.075       0.196\n",
       "LATE_AIRCRAFT_DELAY       0.1678      0.034      4.981      0.000       0.102       0.234\n",
       "ScheduledDepartureSFO     0.0115      0.009      1.315      0.189      -0.006       0.029\n",
       "==============================================================================\n",
       "Omnibus:                       18.206   Durbin-Watson:                   1.974\n",
       "Prob(Omnibus):                  0.000   Jarque-Bera (JB):               25.598\n",
       "Skew:                           0.231   Prob(JB):                     2.76e-06\n",
       "Kurtosis:                       3.762   Cond. No.                         33.3\n",
       "==============================================================================\n",
       "\n",
       "Warnings:\n",
       "[1] Standard Errors assume that the covariance matrix of the errors is correctly specified.\n",
       "\"\"\""
      ]
     },
     "execution_count": 23,
     "metadata": {},
     "output_type": "execute_result"
    }
   ],
   "source": [
    "crs_arrival_from = ['QUARTER', 'MONTH', 'DAY_OF_WEEK', 'CRS_DEP_TIME', 'TAXI_OUT', 'CARRIER_DELAY', 'LATE_AIRCRAFT_DELAY', 'ScheduledDepartureSFO']\n",
    "regression_model(crs_arrival_from, 'CRS_ARR_TIME').summary()"
   ]
  },
  {
   "cell_type": "code",
   "execution_count": 24,
   "metadata": {},
   "outputs": [
    {
     "name": "stdout",
     "output_type": "stream",
     "text": [
      "[('LATE_AIRCRAFT_DELAY', 'WEATHER_DELAY'), ('WEATHER_DELAY', 'CARRIER_DELAY'), ('CARRIER_DELAY', 'CRS_ARR_TIME'), ('CRS_ARR_TIME', 'LATE_AIRCRAFT_DELAY')]\n"
     ]
    }
   ],
   "source": [
    "flight_edges_df, bn = update_flights_edges_df(crs_arrival_from, 'CRS_ARR_TIME', flight_edges_df)"
   ]
  },
  {
   "cell_type": "code",
   "execution_count": 25,
   "metadata": {},
   "outputs": [
    {
     "name": "stdout",
     "output_type": "stream",
     "text": [
      "[('LATE_AIRCRAFT_DELAY', 'CRS_ARR_TIME'), ('CRS_ARR_TIME', 'LATE_AIRCRAFT_DELAY')]\n"
     ]
    }
   ],
   "source": [
    "flight_edges_df, bn = remove_edge('CARRIER_DELAY', 'CRS_ARR_TIME', flight_edges_df)"
   ]
  },
  {
   "cell_type": "code",
   "execution_count": 26,
   "metadata": {},
   "outputs": [
    {
     "name": "stdout",
     "output_type": "stream",
     "text": [
      "No cycle found! You may proceed.\n"
     ]
    }
   ],
   "source": [
    "flight_edges_df, bn = remove_edge('LATE_AIRCRAFT_DELAY', 'CRS_ARR_TIME', flight_edges_df)"
   ]
  },
  {
   "cell_type": "markdown",
   "metadata": {},
   "source": [
    "### CRS Departure Time"
   ]
  },
  {
   "cell_type": "code",
   "execution_count": 27,
   "metadata": {},
   "outputs": [
    {
     "data": {
      "text/html": [
       "<table class=\"simpletable\">\n",
       "<caption>OLS Regression Results</caption>\n",
       "<tr>\n",
       "  <th>Dep. Variable:</th>      <td>CRS_DEP_TIME</td>   <th>  R-squared:         </th> <td>   0.722</td> \n",
       "</tr>\n",
       "<tr>\n",
       "  <th>Model:</th>                   <td>OLS</td>       <th>  Adj. R-squared:    </th> <td>   0.719</td> \n",
       "</tr>\n",
       "<tr>\n",
       "  <th>Method:</th>             <td>Least Squares</td>  <th>  F-statistic:       </th> <td>   220.6</td> \n",
       "</tr>\n",
       "<tr>\n",
       "  <th>Date:</th>             <td>Mon, 09 Apr 2018</td> <th>  Prob (F-statistic):</th> <td>8.41e-206</td>\n",
       "</tr>\n",
       "<tr>\n",
       "  <th>Time:</th>                 <td>07:20:27</td>     <th>  Log-Likelihood:    </th> <td> -282.41</td> \n",
       "</tr>\n",
       "<tr>\n",
       "  <th>No. Observations:</th>      <td>   774</td>      <th>  AIC:               </th> <td>   582.8</td> \n",
       "</tr>\n",
       "<tr>\n",
       "  <th>Df Residuals:</th>          <td>   765</td>      <th>  BIC:               </th> <td>   624.7</td> \n",
       "</tr>\n",
       "<tr>\n",
       "  <th>Df Model:</th>              <td>     9</td>      <th>                     </th>     <td> </td>    \n",
       "</tr>\n",
       "<tr>\n",
       "  <th>Covariance Type:</th>      <td>nonrobust</td>    <th>                     </th>     <td> </td>    \n",
       "</tr>\n",
       "</table>\n",
       "<table class=\"simpletable\">\n",
       "<tr>\n",
       "            <td></td>               <th>coef</th>     <th>std err</th>      <th>t</th>      <th>P>|t|</th>  <th>[0.025</th>    <th>0.975]</th>  \n",
       "</tr>\n",
       "<tr>\n",
       "  <th>QUARTER</th>               <td>    0.2952</td> <td>    0.044</td> <td>    6.741</td> <td> 0.000</td> <td>    0.209</td> <td>    0.381</td>\n",
       "</tr>\n",
       "<tr>\n",
       "  <th>MONTH</th>                 <td>   -0.0654</td> <td>    0.015</td> <td>   -4.389</td> <td> 0.000</td> <td>   -0.095</td> <td>   -0.036</td>\n",
       "</tr>\n",
       "<tr>\n",
       "  <th>DAY_OF_WEEK</th>           <td>    0.0499</td> <td>    0.006</td> <td>    8.798</td> <td> 0.000</td> <td>    0.039</td> <td>    0.061</td>\n",
       "</tr>\n",
       "<tr>\n",
       "  <th>TAXI_OUT</th>              <td>    0.1492</td> <td>    0.016</td> <td>    9.132</td> <td> 0.000</td> <td>    0.117</td> <td>    0.181</td>\n",
       "</tr>\n",
       "<tr>\n",
       "  <th>CRS_ARR_TIME</th>          <td>   -0.6892</td> <td>    0.025</td> <td>  -27.680</td> <td> 0.000</td> <td>   -0.738</td> <td>   -0.640</td>\n",
       "</tr>\n",
       "<tr>\n",
       "  <th>CARRIER_DELAY</th>         <td>    0.1857</td> <td>    0.030</td> <td>    6.088</td> <td> 0.000</td> <td>    0.126</td> <td>    0.246</td>\n",
       "</tr>\n",
       "<tr>\n",
       "  <th>NAS_DELAY</th>             <td>   -0.0486</td> <td>    0.030</td> <td>   -1.642</td> <td> 0.101</td> <td>   -0.107</td> <td>    0.010</td>\n",
       "</tr>\n",
       "<tr>\n",
       "  <th>LATE_AIRCRAFT_DELAY</th>   <td>    0.1920</td> <td>    0.033</td> <td>    5.824</td> <td> 0.000</td> <td>    0.127</td> <td>    0.257</td>\n",
       "</tr>\n",
       "<tr>\n",
       "  <th>ScheduledDepartureSFO</th> <td>    0.0146</td> <td>    0.008</td> <td>    1.715</td> <td> 0.087</td> <td>   -0.002</td> <td>    0.031</td>\n",
       "</tr>\n",
       "</table>\n",
       "<table class=\"simpletable\">\n",
       "<tr>\n",
       "  <th>Omnibus:</th>       <td>39.312</td> <th>  Durbin-Watson:     </th> <td>   1.950</td>\n",
       "</tr>\n",
       "<tr>\n",
       "  <th>Prob(Omnibus):</th> <td> 0.000</td> <th>  Jarque-Bera (JB):  </th> <td>  51.594</td>\n",
       "</tr>\n",
       "<tr>\n",
       "  <th>Skew:</th>          <td> 0.465</td> <th>  Prob(JB):          </th> <td>6.26e-12</td>\n",
       "</tr>\n",
       "<tr>\n",
       "  <th>Kurtosis:</th>      <td> 3.857</td> <th>  Cond. No.          </th> <td>    34.2</td>\n",
       "</tr>\n",
       "</table>"
      ],
      "text/plain": [
       "<class 'statsmodels.iolib.summary.Summary'>\n",
       "\"\"\"\n",
       "                            OLS Regression Results                            \n",
       "==============================================================================\n",
       "Dep. Variable:           CRS_DEP_TIME   R-squared:                       0.722\n",
       "Model:                            OLS   Adj. R-squared:                  0.719\n",
       "Method:                 Least Squares   F-statistic:                     220.6\n",
       "Date:                Mon, 09 Apr 2018   Prob (F-statistic):          8.41e-206\n",
       "Time:                        07:20:27   Log-Likelihood:                -282.41\n",
       "No. Observations:                 774   AIC:                             582.8\n",
       "Df Residuals:                     765   BIC:                             624.7\n",
       "Df Model:                           9                                         \n",
       "Covariance Type:            nonrobust                                         \n",
       "=========================================================================================\n",
       "                            coef    std err          t      P>|t|      [0.025      0.975]\n",
       "-----------------------------------------------------------------------------------------\n",
       "QUARTER                   0.2952      0.044      6.741      0.000       0.209       0.381\n",
       "MONTH                    -0.0654      0.015     -4.389      0.000      -0.095      -0.036\n",
       "DAY_OF_WEEK               0.0499      0.006      8.798      0.000       0.039       0.061\n",
       "TAXI_OUT                  0.1492      0.016      9.132      0.000       0.117       0.181\n",
       "CRS_ARR_TIME             -0.6892      0.025    -27.680      0.000      -0.738      -0.640\n",
       "CARRIER_DELAY             0.1857      0.030      6.088      0.000       0.126       0.246\n",
       "NAS_DELAY                -0.0486      0.030     -1.642      0.101      -0.107       0.010\n",
       "LATE_AIRCRAFT_DELAY       0.1920      0.033      5.824      0.000       0.127       0.257\n",
       "ScheduledDepartureSFO     0.0146      0.008      1.715      0.087      -0.002       0.031\n",
       "==============================================================================\n",
       "Omnibus:                       39.312   Durbin-Watson:                   1.950\n",
       "Prob(Omnibus):                  0.000   Jarque-Bera (JB):               51.594\n",
       "Skew:                           0.465   Prob(JB):                     6.26e-12\n",
       "Kurtosis:                       3.857   Cond. No.                         34.2\n",
       "==============================================================================\n",
       "\n",
       "Warnings:\n",
       "[1] Standard Errors assume that the covariance matrix of the errors is correctly specified.\n",
       "\"\"\""
      ]
     },
     "execution_count": 27,
     "metadata": {},
     "output_type": "execute_result"
    }
   ],
   "source": [
    "crs_departure_from = ['QUARTER', 'MONTH', 'DAY_OF_WEEK', 'TAXI_OUT', 'CRS_ARR_TIME', 'CARRIER_DELAY','NAS_DELAY', 'LATE_AIRCRAFT_DELAY', 'ScheduledDepartureSFO'] \n",
    "regression_model(crs_departure_from, 'CRS_DEP_TIME').summary()"
   ]
  },
  {
   "cell_type": "code",
   "execution_count": 28,
   "metadata": {},
   "outputs": [
    {
     "name": "stdout",
     "output_type": "stream",
     "text": [
      "[('CRS_DEP_TIME', 'LATE_AIRCRAFT_DELAY'), ('LATE_AIRCRAFT_DELAY', 'WEATHER_DELAY'), ('WEATHER_DELAY', 'CARRIER_DELAY'), ('CARRIER_DELAY', 'CRS_DEP_TIME')]\n"
     ]
    }
   ],
   "source": [
    "flight_edges_df, bn = update_flights_edges_df(crs_departure_from, 'CRS_DEP_TIME', flight_edges_df)"
   ]
  },
  {
   "cell_type": "code",
   "execution_count": 29,
   "metadata": {},
   "outputs": [
    {
     "name": "stdout",
     "output_type": "stream",
     "text": [
      "[('CRS_DEP_TIME', 'LATE_AIRCRAFT_DELAY'), ('LATE_AIRCRAFT_DELAY', 'CRS_DEP_TIME')]\n"
     ]
    }
   ],
   "source": [
    "flight_edges_df, bn = remove_edge('CARRIER_DELAY', 'CRS_DEP_TIME', flight_edges_df)"
   ]
  },
  {
   "cell_type": "code",
   "execution_count": 30,
   "metadata": {},
   "outputs": [
    {
     "name": "stdout",
     "output_type": "stream",
     "text": [
      "[('CRS_DEP_TIME', 'CRS_ARR_TIME'), ('CRS_ARR_TIME', 'CRS_DEP_TIME')]\n"
     ]
    }
   ],
   "source": [
    "flight_edges_df, bn = remove_edge('LATE_AIRCRAFT_DELAY', 'CRS_DEP_TIME', flight_edges_df)"
   ]
  },
  {
   "cell_type": "code",
   "execution_count": 31,
   "metadata": {},
   "outputs": [
    {
     "name": "stdout",
     "output_type": "stream",
     "text": [
      "No cycle found! You may proceed.\n"
     ]
    }
   ],
   "source": [
    "flight_edges_df, bn = remove_edge('CRS_DEP_TIME', 'CRS_ARR_TIME', flight_edges_df)"
   ]
  },
  {
   "cell_type": "markdown",
   "metadata": {},
   "source": [
    "### Taxi Out"
   ]
  },
  {
   "cell_type": "markdown",
   "metadata": {},
   "source": [
    "Taxi Out Time, in Minutes."
   ]
  },
  {
   "cell_type": "code",
   "execution_count": 32,
   "metadata": {},
   "outputs": [
    {
     "data": {
      "text/html": [
       "<table class=\"simpletable\">\n",
       "<caption>OLS Regression Results</caption>\n",
       "<tr>\n",
       "  <th>Dep. Variable:</th>        <td>TAXI_OUT</td>     <th>  R-squared:         </th> <td>   0.811</td> \n",
       "</tr>\n",
       "<tr>\n",
       "  <th>Model:</th>                   <td>OLS</td>       <th>  Adj. R-squared:    </th> <td>   0.809</td> \n",
       "</tr>\n",
       "<tr>\n",
       "  <th>Method:</th>             <td>Least Squares</td>  <th>  F-statistic:       </th> <td>   468.7</td> \n",
       "</tr>\n",
       "<tr>\n",
       "  <th>Date:</th>             <td>Mon, 09 Apr 2018</td> <th>  Prob (F-statistic):</th> <td>4.45e-272</td>\n",
       "</tr>\n",
       "<tr>\n",
       "  <th>Time:</th>                 <td>07:20:27</td>     <th>  Log-Likelihood:    </th> <td> -855.21</td> \n",
       "</tr>\n",
       "<tr>\n",
       "  <th>No. Observations:</th>      <td>   774</td>      <th>  AIC:               </th> <td>   1724.</td> \n",
       "</tr>\n",
       "<tr>\n",
       "  <th>Df Residuals:</th>          <td>   767</td>      <th>  BIC:               </th> <td>   1757.</td> \n",
       "</tr>\n",
       "<tr>\n",
       "  <th>Df Model:</th>              <td>     7</td>      <th>                     </th>     <td> </td>    \n",
       "</tr>\n",
       "<tr>\n",
       "  <th>Covariance Type:</th>      <td>nonrobust</td>    <th>                     </th>     <td> </td>    \n",
       "</tr>\n",
       "</table>\n",
       "<table class=\"simpletable\">\n",
       "<tr>\n",
       "           <td></td>              <th>coef</th>     <th>std err</th>      <th>t</th>      <th>P>|t|</th>  <th>[0.025</th>    <th>0.975]</th>  \n",
       "</tr>\n",
       "<tr>\n",
       "  <th>QUARTER</th>             <td>    0.1894</td> <td>    0.021</td> <td>    9.154</td> <td> 0.000</td> <td>    0.149</td> <td>    0.230</td>\n",
       "</tr>\n",
       "<tr>\n",
       "  <th>CRS_DEP_TIME</th>        <td>    0.7174</td> <td>    0.066</td> <td>   10.899</td> <td> 0.000</td> <td>    0.588</td> <td>    0.847</td>\n",
       "</tr>\n",
       "<tr>\n",
       "  <th>DEP_DELAY</th>           <td>   -0.0942</td> <td>    0.034</td> <td>   -2.799</td> <td> 0.005</td> <td>   -0.160</td> <td>   -0.028</td>\n",
       "</tr>\n",
       "<tr>\n",
       "  <th>CRS_ARR_TIME</th>        <td>    0.7190</td> <td>    0.062</td> <td>   11.662</td> <td> 0.000</td> <td>    0.598</td> <td>    0.840</td>\n",
       "</tr>\n",
       "<tr>\n",
       "  <th>CARRIER_DELAY</th>       <td>   -0.2658</td> <td>    0.071</td> <td>   -3.745</td> <td> 0.000</td> <td>   -0.405</td> <td>   -0.126</td>\n",
       "</tr>\n",
       "<tr>\n",
       "  <th>NAS_DELAY</th>           <td>    0.7683</td> <td>    0.055</td> <td>   13.886</td> <td> 0.000</td> <td>    0.660</td> <td>    0.877</td>\n",
       "</tr>\n",
       "<tr>\n",
       "  <th>LATE_AIRCRAFT_DELAY</th> <td>   -0.2142</td> <td>    0.074</td> <td>   -2.886</td> <td> 0.004</td> <td>   -0.360</td> <td>   -0.068</td>\n",
       "</tr>\n",
       "</table>\n",
       "<table class=\"simpletable\">\n",
       "<tr>\n",
       "  <th>Omnibus:</th>       <td>118.232</td> <th>  Durbin-Watson:     </th> <td>   2.031</td>\n",
       "</tr>\n",
       "<tr>\n",
       "  <th>Prob(Omnibus):</th> <td> 0.000</td>  <th>  Jarque-Bera (JB):  </th> <td> 271.060</td>\n",
       "</tr>\n",
       "<tr>\n",
       "  <th>Skew:</th>          <td> 0.836</td>  <th>  Prob(JB):          </th> <td>1.38e-59</td>\n",
       "</tr>\n",
       "<tr>\n",
       "  <th>Kurtosis:</th>      <td> 5.368</td>  <th>  Cond. No.          </th> <td>    10.0</td>\n",
       "</tr>\n",
       "</table>"
      ],
      "text/plain": [
       "<class 'statsmodels.iolib.summary.Summary'>\n",
       "\"\"\"\n",
       "                            OLS Regression Results                            \n",
       "==============================================================================\n",
       "Dep. Variable:               TAXI_OUT   R-squared:                       0.811\n",
       "Model:                            OLS   Adj. R-squared:                  0.809\n",
       "Method:                 Least Squares   F-statistic:                     468.7\n",
       "Date:                Mon, 09 Apr 2018   Prob (F-statistic):          4.45e-272\n",
       "Time:                        07:20:27   Log-Likelihood:                -855.21\n",
       "No. Observations:                 774   AIC:                             1724.\n",
       "Df Residuals:                     767   BIC:                             1757.\n",
       "Df Model:                           7                                         \n",
       "Covariance Type:            nonrobust                                         \n",
       "=======================================================================================\n",
       "                          coef    std err          t      P>|t|      [0.025      0.975]\n",
       "---------------------------------------------------------------------------------------\n",
       "QUARTER                 0.1894      0.021      9.154      0.000       0.149       0.230\n",
       "CRS_DEP_TIME            0.7174      0.066     10.899      0.000       0.588       0.847\n",
       "DEP_DELAY              -0.0942      0.034     -2.799      0.005      -0.160      -0.028\n",
       "CRS_ARR_TIME            0.7190      0.062     11.662      0.000       0.598       0.840\n",
       "CARRIER_DELAY          -0.2658      0.071     -3.745      0.000      -0.405      -0.126\n",
       "NAS_DELAY               0.7683      0.055     13.886      0.000       0.660       0.877\n",
       "LATE_AIRCRAFT_DELAY    -0.2142      0.074     -2.886      0.004      -0.360      -0.068\n",
       "==============================================================================\n",
       "Omnibus:                      118.232   Durbin-Watson:                   2.031\n",
       "Prob(Omnibus):                  0.000   Jarque-Bera (JB):              271.060\n",
       "Skew:                           0.836   Prob(JB):                     1.38e-59\n",
       "Kurtosis:                       5.368   Cond. No.                         10.0\n",
       "==============================================================================\n",
       "\n",
       "Warnings:\n",
       "[1] Standard Errors assume that the covariance matrix of the errors is correctly specified.\n",
       "\"\"\""
      ]
     },
     "execution_count": 32,
     "metadata": {},
     "output_type": "execute_result"
    }
   ],
   "source": [
    "taxi_out_from = ['QUARTER', 'CRS_DEP_TIME', 'DEP_DELAY', 'CRS_ARR_TIME', 'CARRIER_DELAY', 'NAS_DELAY', 'LATE_AIRCRAFT_DELAY']\n",
    "regression_model(taxi_out_from, 'TAXI_OUT').summary()"
   ]
  },
  {
   "cell_type": "code",
   "execution_count": 33,
   "metadata": {},
   "outputs": [
    {
     "name": "stdout",
     "output_type": "stream",
     "text": [
      "[('CRS_DEP_TIME', 'LATE_AIRCRAFT_DELAY'), ('LATE_AIRCRAFT_DELAY', 'WEATHER_DELAY'), ('WEATHER_DELAY', 'CARRIER_DELAY'), ('CARRIER_DELAY', 'TAXI_OUT'), ('TAXI_OUT', 'NAS_DELAY'), ('NAS_DELAY', 'CRS_DEP_TIME')]\n"
     ]
    }
   ],
   "source": [
    "flight_edges_df, bn = update_flights_edges_df(taxi_out_from,'TAXI_OUT',flight_edges_df)"
   ]
  },
  {
   "cell_type": "code",
   "execution_count": 34,
   "metadata": {},
   "outputs": [
    {
     "name": "stdout",
     "output_type": "stream",
     "text": [
      "[('LATE_AIRCRAFT_DELAY', 'WEATHER_DELAY'), ('WEATHER_DELAY', 'CARRIER_DELAY'), ('CARRIER_DELAY', 'TAXI_OUT'), ('TAXI_OUT', 'LATE_AIRCRAFT_DELAY')]\n"
     ]
    }
   ],
   "source": [
    "flight_edges_df, bn = remove_edge('TAXI_OUT', 'NAS_DELAY', flight_edges_df)"
   ]
  },
  {
   "cell_type": "code",
   "execution_count": 35,
   "metadata": {},
   "outputs": [
    {
     "name": "stdout",
     "output_type": "stream",
     "text": [
      "[('CARRIER_DELAY', 'TAXI_OUT'), ('TAXI_OUT', 'CARRIER_DELAY')]\n"
     ]
    }
   ],
   "source": [
    "flight_edges_df, bn = remove_edge('TAXI_OUT', 'LATE_AIRCRAFT_DELAY', flight_edges_df)"
   ]
  },
  {
   "cell_type": "code",
   "execution_count": 36,
   "metadata": {},
   "outputs": [
    {
     "name": "stdout",
     "output_type": "stream",
     "text": [
      "[('LATE_AIRCRAFT_DELAY', 'WEATHER_DELAY'), ('WEATHER_DELAY', 'CARRIER_DELAY'), ('CARRIER_DELAY', 'TAXI_OUT'), ('TAXI_OUT', 'CRS_ARR_TIME'), ('CRS_ARR_TIME', 'LATE_AIRCRAFT_DELAY')]\n"
     ]
    }
   ],
   "source": [
    "flight_edges_df, bn = remove_edge('TAXI_OUT', 'CARRIER_DELAY', flight_edges_df)"
   ]
  },
  {
   "cell_type": "code",
   "execution_count": 37,
   "metadata": {},
   "outputs": [
    {
     "name": "stdout",
     "output_type": "stream",
     "text": [
      "[('CRS_DEP_TIME', 'LATE_AIRCRAFT_DELAY'), ('LATE_AIRCRAFT_DELAY', 'WEATHER_DELAY'), ('WEATHER_DELAY', 'CARRIER_DELAY'), ('CARRIER_DELAY', 'TAXI_OUT'), ('TAXI_OUT', 'CRS_DEP_TIME')]\n"
     ]
    }
   ],
   "source": [
    "flight_edges_df, bn = remove_edge('TAXI_OUT', 'CRS_ARR_TIME', flight_edges_df)"
   ]
  },
  {
   "cell_type": "code",
   "execution_count": 38,
   "metadata": {},
   "outputs": [
    {
     "name": "stdout",
     "output_type": "stream",
     "text": [
      "No cycle found! You may proceed.\n"
     ]
    }
   ],
   "source": [
    "flight_edges_df, bn = remove_edge('TAXI_OUT', 'CRS_DEP_TIME', flight_edges_df)"
   ]
  },
  {
   "cell_type": "markdown",
   "metadata": {},
   "source": [
    "### Taxi In"
   ]
  },
  {
   "cell_type": "code",
   "execution_count": 39,
   "metadata": {},
   "outputs": [
    {
     "data": {
      "text/html": [
       "<table class=\"simpletable\">\n",
       "<caption>OLS Regression Results</caption>\n",
       "<tr>\n",
       "  <th>Dep. Variable:</th>         <td>TAXI_IN</td>     <th>  R-squared:         </th> <td>   0.033</td>\n",
       "</tr>\n",
       "<tr>\n",
       "  <th>Model:</th>                   <td>OLS</td>       <th>  Adj. R-squared:    </th> <td>   0.029</td>\n",
       "</tr>\n",
       "<tr>\n",
       "  <th>Method:</th>             <td>Least Squares</td>  <th>  F-statistic:       </th> <td>   8.742</td>\n",
       "</tr>\n",
       "<tr>\n",
       "  <th>Date:</th>             <td>Mon, 09 Apr 2018</td> <th>  Prob (F-statistic):</th> <td>1.05e-05</td>\n",
       "</tr>\n",
       "<tr>\n",
       "  <th>Time:</th>                 <td>07:20:27</td>     <th>  Log-Likelihood:    </th> <td> -652.58</td>\n",
       "</tr>\n",
       "<tr>\n",
       "  <th>No. Observations:</th>      <td>   774</td>      <th>  AIC:               </th> <td>   1311.</td>\n",
       "</tr>\n",
       "<tr>\n",
       "  <th>Df Residuals:</th>          <td>   771</td>      <th>  BIC:               </th> <td>   1325.</td>\n",
       "</tr>\n",
       "<tr>\n",
       "  <th>Df Model:</th>              <td>     3</td>      <th>                     </th>     <td> </td>   \n",
       "</tr>\n",
       "<tr>\n",
       "  <th>Covariance Type:</th>      <td>nonrobust</td>    <th>                     </th>     <td> </td>   \n",
       "</tr>\n",
       "</table>\n",
       "<table class=\"simpletable\">\n",
       "<tr>\n",
       "           <td></td>              <th>coef</th>     <th>std err</th>      <th>t</th>      <th>P>|t|</th>  <th>[0.025</th>    <th>0.975]</th>  \n",
       "</tr>\n",
       "<tr>\n",
       "  <th>CRS_ARR_TIME</th>        <td>    0.0787</td> <td>    0.028</td> <td>    2.840</td> <td> 0.005</td> <td>    0.024</td> <td>    0.133</td>\n",
       "</tr>\n",
       "<tr>\n",
       "  <th>LATE_AIRCRAFT_DELAY</th> <td>    0.0888</td> <td>    0.049</td> <td>    1.805</td> <td> 0.071</td> <td>   -0.008</td> <td>    0.185</td>\n",
       "</tr>\n",
       "<tr>\n",
       "  <th>DelayedDepartureSFO</th> <td>    0.1681</td> <td>    0.079</td> <td>    2.135</td> <td> 0.033</td> <td>    0.014</td> <td>    0.323</td>\n",
       "</tr>\n",
       "</table>\n",
       "<table class=\"simpletable\">\n",
       "<tr>\n",
       "  <th>Omnibus:</th>       <td>1495.626</td> <th>  Durbin-Watson:     </th>  <td>   2.019</td>  \n",
       "</tr>\n",
       "<tr>\n",
       "  <th>Prob(Omnibus):</th>  <td> 0.000</td>  <th>  Jarque-Bera (JB):  </th> <td>2105752.402</td>\n",
       "</tr>\n",
       "<tr>\n",
       "  <th>Skew:</th>           <td>13.757</td>  <th>  Prob(JB):          </th>  <td>    0.00</td>  \n",
       "</tr>\n",
       "<tr>\n",
       "  <th>Kurtosis:</th>       <td>257.042</td> <th>  Cond. No.          </th>  <td>    3.17</td>  \n",
       "</tr>\n",
       "</table>"
      ],
      "text/plain": [
       "<class 'statsmodels.iolib.summary.Summary'>\n",
       "\"\"\"\n",
       "                            OLS Regression Results                            \n",
       "==============================================================================\n",
       "Dep. Variable:                TAXI_IN   R-squared:                       0.033\n",
       "Model:                            OLS   Adj. R-squared:                  0.029\n",
       "Method:                 Least Squares   F-statistic:                     8.742\n",
       "Date:                Mon, 09 Apr 2018   Prob (F-statistic):           1.05e-05\n",
       "Time:                        07:20:27   Log-Likelihood:                -652.58\n",
       "No. Observations:                 774   AIC:                             1311.\n",
       "Df Residuals:                     771   BIC:                             1325.\n",
       "Df Model:                           3                                         \n",
       "Covariance Type:            nonrobust                                         \n",
       "=======================================================================================\n",
       "                          coef    std err          t      P>|t|      [0.025      0.975]\n",
       "---------------------------------------------------------------------------------------\n",
       "CRS_ARR_TIME            0.0787      0.028      2.840      0.005       0.024       0.133\n",
       "LATE_AIRCRAFT_DELAY     0.0888      0.049      1.805      0.071      -0.008       0.185\n",
       "DelayedDepartureSFO     0.1681      0.079      2.135      0.033       0.014       0.323\n",
       "==============================================================================\n",
       "Omnibus:                     1495.626   Durbin-Watson:                   2.019\n",
       "Prob(Omnibus):                  0.000   Jarque-Bera (JB):          2105752.402\n",
       "Skew:                          13.757   Prob(JB):                         0.00\n",
       "Kurtosis:                     257.042   Cond. No.                         3.17\n",
       "==============================================================================\n",
       "\n",
       "Warnings:\n",
       "[1] Standard Errors assume that the covariance matrix of the errors is correctly specified.\n",
       "\"\"\""
      ]
     },
     "execution_count": 39,
     "metadata": {},
     "output_type": "execute_result"
    }
   ],
   "source": [
    "taxi_in_from = ['CRS_ARR_TIME', 'LATE_AIRCRAFT_DELAY', 'DelayedDepartureSFO']\n",
    "regression_model(taxi_in_from, 'TAXI_IN').summary()"
   ]
  },
  {
   "cell_type": "code",
   "execution_count": 40,
   "metadata": {},
   "outputs": [
    {
     "name": "stdout",
     "output_type": "stream",
     "text": [
      "No cycle found! You may proceed.\n"
     ]
    }
   ],
   "source": [
    "flight_edges_df, bn = update_flights_edges_df(taxi_in_from,'TAXI_IN',flight_edges_df)"
   ]
  },
  {
   "cell_type": "markdown",
   "metadata": {},
   "source": [
    "### Calendar Quarter"
   ]
  },
  {
   "cell_type": "markdown",
   "metadata": {},
   "source": [
    "We come to a rather interesting (not entirely unlikely) conclusion that CRS_DEP_TIME and CRS_ARR_TIME may directly influence QUARTER."
   ]
  },
  {
   "cell_type": "code",
   "execution_count": 41,
   "metadata": {},
   "outputs": [
    {
     "data": {
      "text/html": [
       "<table class=\"simpletable\">\n",
       "<caption>OLS Regression Results</caption>\n",
       "<tr>\n",
       "  <th>Dep. Variable:</th>         <td>QUARTER</td>     <th>  R-squared:         </th> <td>   0.990</td> \n",
       "</tr>\n",
       "<tr>\n",
       "  <th>Model:</th>                   <td>OLS</td>       <th>  Adj. R-squared:    </th> <td>   0.990</td> \n",
       "</tr>\n",
       "<tr>\n",
       "  <th>Method:</th>             <td>Least Squares</td>  <th>  F-statistic:       </th> <td>1.587e+04</td>\n",
       "</tr>\n",
       "<tr>\n",
       "  <th>Date:</th>             <td>Mon, 09 Apr 2018</td> <th>  Prob (F-statistic):</th>  <td>  0.00</td>  \n",
       "</tr>\n",
       "<tr>\n",
       "  <th>Time:</th>                 <td>07:20:27</td>     <th>  Log-Likelihood:    </th> <td> -119.79</td> \n",
       "</tr>\n",
       "<tr>\n",
       "  <th>No. Observations:</th>      <td>   774</td>      <th>  AIC:               </th> <td>   249.6</td> \n",
       "</tr>\n",
       "<tr>\n",
       "  <th>Df Residuals:</th>          <td>   769</td>      <th>  BIC:               </th> <td>   272.8</td> \n",
       "</tr>\n",
       "<tr>\n",
       "  <th>Df Model:</th>              <td>     5</td>      <th>                     </th>     <td> </td>    \n",
       "</tr>\n",
       "<tr>\n",
       "  <th>Covariance Type:</th>      <td>nonrobust</td>    <th>                     </th>     <td> </td>    \n",
       "</tr>\n",
       "</table>\n",
       "<table class=\"simpletable\">\n",
       "<tr>\n",
       "        <td></td>          <th>coef</th>     <th>std err</th>      <th>t</th>      <th>P>|t|</th>  <th>[0.025</th>    <th>0.975]</th>  \n",
       "</tr>\n",
       "<tr>\n",
       "  <th>MONTH</th>        <td>    0.3285</td> <td>    0.003</td> <td>  115.926</td> <td> 0.000</td> <td>    0.323</td> <td>    0.334</td>\n",
       "</tr>\n",
       "<tr>\n",
       "  <th>CRS_DEP_TIME</th> <td>    0.2231</td> <td>    0.026</td> <td>    8.734</td> <td> 0.000</td> <td>    0.173</td> <td>    0.273</td>\n",
       "</tr>\n",
       "<tr>\n",
       "  <th>DEP_DELAY</th>    <td>    0.0288</td> <td>    0.011</td> <td>    2.634</td> <td> 0.009</td> <td>    0.007</td> <td>    0.050</td>\n",
       "</tr>\n",
       "<tr>\n",
       "  <th>TAXI_OUT</th>     <td>    0.0459</td> <td>    0.012</td> <td>    3.717</td> <td> 0.000</td> <td>    0.022</td> <td>    0.070</td>\n",
       "</tr>\n",
       "<tr>\n",
       "  <th>CRS_ARR_TIME</th> <td>    0.2836</td> <td>    0.024</td> <td>   11.892</td> <td> 0.000</td> <td>    0.237</td> <td>    0.330</td>\n",
       "</tr>\n",
       "</table>\n",
       "<table class=\"simpletable\">\n",
       "<tr>\n",
       "  <th>Omnibus:</th>       <td>449.315</td> <th>  Durbin-Watson:     </th> <td>   2.171</td>\n",
       "</tr>\n",
       "<tr>\n",
       "  <th>Prob(Omnibus):</th> <td> 0.000</td>  <th>  Jarque-Bera (JB):  </th> <td>  44.487</td>\n",
       "</tr>\n",
       "<tr>\n",
       "  <th>Skew:</th>          <td> 0.009</td>  <th>  Prob(JB):          </th> <td>2.19e-10</td>\n",
       "</tr>\n",
       "<tr>\n",
       "  <th>Kurtosis:</th>      <td> 1.826</td>  <th>  Cond. No.          </th> <td>    25.0</td>\n",
       "</tr>\n",
       "</table>"
      ],
      "text/plain": [
       "<class 'statsmodels.iolib.summary.Summary'>\n",
       "\"\"\"\n",
       "                            OLS Regression Results                            \n",
       "==============================================================================\n",
       "Dep. Variable:                QUARTER   R-squared:                       0.990\n",
       "Model:                            OLS   Adj. R-squared:                  0.990\n",
       "Method:                 Least Squares   F-statistic:                 1.587e+04\n",
       "Date:                Mon, 09 Apr 2018   Prob (F-statistic):               0.00\n",
       "Time:                        07:20:27   Log-Likelihood:                -119.79\n",
       "No. Observations:                 774   AIC:                             249.6\n",
       "Df Residuals:                     769   BIC:                             272.8\n",
       "Df Model:                           5                                         \n",
       "Covariance Type:            nonrobust                                         \n",
       "================================================================================\n",
       "                   coef    std err          t      P>|t|      [0.025      0.975]\n",
       "--------------------------------------------------------------------------------\n",
       "MONTH            0.3285      0.003    115.926      0.000       0.323       0.334\n",
       "CRS_DEP_TIME     0.2231      0.026      8.734      0.000       0.173       0.273\n",
       "DEP_DELAY        0.0288      0.011      2.634      0.009       0.007       0.050\n",
       "TAXI_OUT         0.0459      0.012      3.717      0.000       0.022       0.070\n",
       "CRS_ARR_TIME     0.2836      0.024     11.892      0.000       0.237       0.330\n",
       "==============================================================================\n",
       "Omnibus:                      449.315   Durbin-Watson:                   2.171\n",
       "Prob(Omnibus):                  0.000   Jarque-Bera (JB):               44.487\n",
       "Skew:                           0.009   Prob(JB):                     2.19e-10\n",
       "Kurtosis:                       1.826   Cond. No.                         25.0\n",
       "==============================================================================\n",
       "\n",
       "Warnings:\n",
       "[1] Standard Errors assume that the covariance matrix of the errors is correctly specified.\n",
       "\"\"\""
      ]
     },
     "execution_count": 41,
     "metadata": {},
     "output_type": "execute_result"
    }
   ],
   "source": [
    "quarter_from = ['MONTH', 'CRS_DEP_TIME', 'DEP_DELAY', 'TAXI_OUT', 'CRS_ARR_TIME'] \n",
    "regression_model(quarter_from, 'QUARTER').summary()"
   ]
  },
  {
   "cell_type": "code",
   "execution_count": 42,
   "metadata": {},
   "outputs": [
    {
     "name": "stdout",
     "output_type": "stream",
     "text": [
      "[('LATE_AIRCRAFT_DELAY', 'WEATHER_DELAY'), ('WEATHER_DELAY', 'CARRIER_DELAY'), ('CARRIER_DELAY', 'TAXI_OUT'), ('TAXI_OUT', 'QUARTER'), ('QUARTER', 'CRS_ARR_TIME'), ('CRS_ARR_TIME', 'LATE_AIRCRAFT_DELAY')]\n"
     ]
    }
   ],
   "source": [
    "flight_edges_df, bn = update_flights_edges_df(quarter_from, 'QUARTER',flight_edges_df)"
   ]
  },
  {
   "cell_type": "code",
   "execution_count": 43,
   "metadata": {},
   "outputs": [
    {
     "name": "stdout",
     "output_type": "stream",
     "text": [
      "[('LATE_AIRCRAFT_DELAY', 'WEATHER_DELAY'), ('WEATHER_DELAY', 'CARRIER_DELAY'), ('CARRIER_DELAY', 'TAXI_OUT'), ('TAXI_OUT', 'QUARTER'), ('QUARTER', 'CRS_ARR_TIME'), ('CRS_ARR_TIME', 'LATE_AIRCRAFT_DELAY')]\n"
     ]
    }
   ],
   "source": [
    "flight_edges_df, bn = remove_edge('TAXI_IN', 'QUARTER', flight_edges_df)"
   ]
  },
  {
   "cell_type": "code",
   "execution_count": 44,
   "metadata": {},
   "outputs": [
    {
     "name": "stdout",
     "output_type": "stream",
     "text": [
      "[('CRS_DEP_TIME', 'QUARTER'), ('QUARTER', 'CRS_ARR_TIME'), ('CRS_ARR_TIME', 'CRS_DEP_TIME')]\n"
     ]
    }
   ],
   "source": [
    "flight_edges_df, bn = remove_edge('TAXI_OUT', 'QUARTER', flight_edges_df)"
   ]
  },
  {
   "cell_type": "code",
   "execution_count": 45,
   "metadata": {},
   "outputs": [
    {
     "name": "stdout",
     "output_type": "stream",
     "text": [
      "[('CRS_ARR_TIME', 'QUARTER'), ('QUARTER', 'CRS_ARR_TIME')]\n"
     ]
    }
   ],
   "source": [
    "flight_edges_df, bn = remove_edge('CRS_DEP_TIME', 'QUARTER', flight_edges_df)"
   ]
  },
  {
   "cell_type": "code",
   "execution_count": 46,
   "metadata": {},
   "outputs": [
    {
     "name": "stdout",
     "output_type": "stream",
     "text": [
      "No cycle found! You may proceed.\n"
     ]
    }
   ],
   "source": [
    "flight_edges_df, bn = remove_edge('CRS_ARR_TIME', 'QUARTER', flight_edges_df)"
   ]
  },
  {
   "cell_type": "markdown",
   "metadata": {},
   "source": [
    "### Departure Delay"
   ]
  },
  {
   "cell_type": "markdown",
   "metadata": {},
   "source": [
    "This is the difference in minutes between scheduled and actual departure time. Early departures show negative numbers."
   ]
  },
  {
   "cell_type": "markdown",
   "metadata": {},
   "source": [
    "Departure time is the time recorded when the plane's parking brakes are released, which is after doors are closed and just prior to the plane beginning to taxi. That is, departure time starts right before a plan leaves its gate. Therefore, while it is likely that a difference in CRS departure time and actual departure time causes an NAS delay, it is impossible for NAS delay to influence the departure time difference. Thus, we remove the edge from NAS_DELAY to DEP_DELAY."
   ]
  },
  {
   "cell_type": "code",
   "execution_count": 47,
   "metadata": {},
   "outputs": [
    {
     "data": {
      "text/html": [
       "<table class=\"simpletable\">\n",
       "<caption>OLS Regression Results</caption>\n",
       "<tr>\n",
       "  <th>Dep. Variable:</th>        <td>DEP_DELAY</td>    <th>  R-squared:         </th> <td>   0.378</td>\n",
       "</tr>\n",
       "<tr>\n",
       "  <th>Model:</th>                   <td>OLS</td>       <th>  Adj. R-squared:    </th> <td>   0.374</td>\n",
       "</tr>\n",
       "<tr>\n",
       "  <th>Method:</th>             <td>Least Squares</td>  <th>  F-statistic:       </th> <td>   77.94</td>\n",
       "</tr>\n",
       "<tr>\n",
       "  <th>Date:</th>             <td>Mon, 09 Apr 2018</td> <th>  Prob (F-statistic):</th> <td>5.25e-76</td>\n",
       "</tr>\n",
       "<tr>\n",
       "  <th>Time:</th>                 <td>07:20:27</td>     <th>  Log-Likelihood:    </th> <td> -900.99</td>\n",
       "</tr>\n",
       "<tr>\n",
       "  <th>No. Observations:</th>      <td>   774</td>      <th>  AIC:               </th> <td>   1814.</td>\n",
       "</tr>\n",
       "<tr>\n",
       "  <th>Df Residuals:</th>          <td>   768</td>      <th>  BIC:               </th> <td>   1842.</td>\n",
       "</tr>\n",
       "<tr>\n",
       "  <th>Df Model:</th>              <td>     6</td>      <th>                     </th>     <td> </td>   \n",
       "</tr>\n",
       "<tr>\n",
       "  <th>Covariance Type:</th>      <td>nonrobust</td>    <th>                     </th>     <td> </td>   \n",
       "</tr>\n",
       "</table>\n",
       "<table class=\"simpletable\">\n",
       "<tr>\n",
       "           <td></td>              <th>coef</th>     <th>std err</th>      <th>t</th>      <th>P>|t|</th>  <th>[0.025</th>    <th>0.975]</th>  \n",
       "</tr>\n",
       "<tr>\n",
       "  <th>QUARTER</th>             <td>    0.2463</td> <td>    0.091</td> <td>    2.712</td> <td> 0.007</td> <td>    0.068</td> <td>    0.425</td>\n",
       "</tr>\n",
       "<tr>\n",
       "  <th>MONTH</th>               <td>   -0.1021</td> <td>    0.032</td> <td>   -3.193</td> <td> 0.001</td> <td>   -0.165</td> <td>   -0.039</td>\n",
       "</tr>\n",
       "<tr>\n",
       "  <th>CRS_DEP_TIME</th>        <td>    0.1466</td> <td>    0.056</td> <td>    2.604</td> <td> 0.009</td> <td>    0.036</td> <td>    0.257</td>\n",
       "</tr>\n",
       "<tr>\n",
       "  <th>TAXI_OUT</th>            <td>   -0.1153</td> <td>    0.032</td> <td>   -3.658</td> <td> 0.000</td> <td>   -0.177</td> <td>   -0.053</td>\n",
       "</tr>\n",
       "<tr>\n",
       "  <th>CARRIER_DELAY</th>       <td>    0.8681</td> <td>    0.066</td> <td>   13.095</td> <td> 0.000</td> <td>    0.738</td> <td>    0.998</td>\n",
       "</tr>\n",
       "<tr>\n",
       "  <th>LATE_AIRCRAFT_DELAY</th> <td>    0.7198</td> <td>    0.073</td> <td>    9.909</td> <td> 0.000</td> <td>    0.577</td> <td>    0.862</td>\n",
       "</tr>\n",
       "</table>\n",
       "<table class=\"simpletable\">\n",
       "<tr>\n",
       "  <th>Omnibus:</th>       <td>2012.779</td> <th>  Durbin-Watson:     </th> <td>   2.038</td>\n",
       "</tr>\n",
       "<tr>\n",
       "  <th>Prob(Omnibus):</th>  <td> 0.000</td>  <th>  Jarque-Bera (JB):  </th> <td>  68.858</td>\n",
       "</tr>\n",
       "<tr>\n",
       "  <th>Skew:</th>           <td> 0.315</td>  <th>  Prob(JB):          </th> <td>1.12e-15</td>\n",
       "</tr>\n",
       "<tr>\n",
       "  <th>Kurtosis:</th>       <td> 1.682</td>  <th>  Cond. No.          </th> <td>    29.2</td>\n",
       "</tr>\n",
       "</table>"
      ],
      "text/plain": [
       "<class 'statsmodels.iolib.summary.Summary'>\n",
       "\"\"\"\n",
       "                            OLS Regression Results                            \n",
       "==============================================================================\n",
       "Dep. Variable:              DEP_DELAY   R-squared:                       0.378\n",
       "Model:                            OLS   Adj. R-squared:                  0.374\n",
       "Method:                 Least Squares   F-statistic:                     77.94\n",
       "Date:                Mon, 09 Apr 2018   Prob (F-statistic):           5.25e-76\n",
       "Time:                        07:20:27   Log-Likelihood:                -900.99\n",
       "No. Observations:                 774   AIC:                             1814.\n",
       "Df Residuals:                     768   BIC:                             1842.\n",
       "Df Model:                           6                                         \n",
       "Covariance Type:            nonrobust                                         \n",
       "=======================================================================================\n",
       "                          coef    std err          t      P>|t|      [0.025      0.975]\n",
       "---------------------------------------------------------------------------------------\n",
       "QUARTER                 0.2463      0.091      2.712      0.007       0.068       0.425\n",
       "MONTH                  -0.1021      0.032     -3.193      0.001      -0.165      -0.039\n",
       "CRS_DEP_TIME            0.1466      0.056      2.604      0.009       0.036       0.257\n",
       "TAXI_OUT               -0.1153      0.032     -3.658      0.000      -0.177      -0.053\n",
       "CARRIER_DELAY           0.8681      0.066     13.095      0.000       0.738       0.998\n",
       "LATE_AIRCRAFT_DELAY     0.7198      0.073      9.909      0.000       0.577       0.862\n",
       "==============================================================================\n",
       "Omnibus:                     2012.779   Durbin-Watson:                   2.038\n",
       "Prob(Omnibus):                  0.000   Jarque-Bera (JB):               68.858\n",
       "Skew:                           0.315   Prob(JB):                     1.12e-15\n",
       "Kurtosis:                       1.682   Cond. No.                         29.2\n",
       "==============================================================================\n",
       "\n",
       "Warnings:\n",
       "[1] Standard Errors assume that the covariance matrix of the errors is correctly specified.\n",
       "\"\"\""
      ]
     },
     "execution_count": 47,
     "metadata": {},
     "output_type": "execute_result"
    }
   ],
   "source": [
    "departure_delay_from = ['QUARTER', 'MONTH', 'CRS_DEP_TIME', 'TAXI_OUT', 'CARRIER_DELAY',  'LATE_AIRCRAFT_DELAY'] \n",
    "regression_model(departure_delay_from, 'DEP_DELAY').summary()"
   ]
  },
  {
   "cell_type": "code",
   "execution_count": 48,
   "metadata": {},
   "outputs": [
    {
     "name": "stdout",
     "output_type": "stream",
     "text": [
      "[('LATE_AIRCRAFT_DELAY', 'WEATHER_DELAY'), ('WEATHER_DELAY', 'CARRIER_DELAY'), ('CARRIER_DELAY', 'TAXI_OUT'), ('TAXI_OUT', 'DEP_DELAY'), ('DEP_DELAY', 'LATE_AIRCRAFT_DELAY')]\n"
     ]
    }
   ],
   "source": [
    "flight_edges_df, bn = update_flights_edges_df(departure_delay_from,'DEP_DELAY',flight_edges_df)"
   ]
  },
  {
   "cell_type": "code",
   "execution_count": 49,
   "metadata": {},
   "outputs": [
    {
     "name": "stdout",
     "output_type": "stream",
     "text": [
      "[('CARRIER_DELAY', 'TAXI_OUT'), ('TAXI_OUT', 'DEP_DELAY'), ('DEP_DELAY', 'CARRIER_DELAY')]\n"
     ]
    }
   ],
   "source": [
    "flight_edges_df, bn = remove_edge('DEP_DELAY', 'LATE_AIRCRAFT_DELAY', flight_edges_df)"
   ]
  },
  {
   "cell_type": "code",
   "execution_count": 50,
   "metadata": {},
   "outputs": [
    {
     "name": "stdout",
     "output_type": "stream",
     "text": [
      "[('TAXI_OUT', 'DEP_DELAY'), ('DEP_DELAY', 'TAXI_OUT')]\n"
     ]
    }
   ],
   "source": [
    "flight_edges_df, bn = remove_edge('DEP_DELAY', 'CARRIER_DELAY', flight_edges_df)"
   ]
  },
  {
   "cell_type": "code",
   "execution_count": 51,
   "metadata": {},
   "outputs": [
    {
     "name": "stdout",
     "output_type": "stream",
     "text": [
      "[('LATE_AIRCRAFT_DELAY', 'WEATHER_DELAY'), ('WEATHER_DELAY', 'CARRIER_DELAY'), ('CARRIER_DELAY', 'DEP_DELAY'), ('DEP_DELAY', 'QUARTER'), ('QUARTER', 'CRS_ARR_TIME'), ('CRS_ARR_TIME', 'LATE_AIRCRAFT_DELAY')]\n"
     ]
    }
   ],
   "source": [
    "flight_edges_df, bn = remove_edge('TAXI_OUT', 'DEP_DELAY', flight_edges_df)"
   ]
  },
  {
   "cell_type": "code",
   "execution_count": 52,
   "metadata": {},
   "outputs": [
    {
     "name": "stdout",
     "output_type": "stream",
     "text": [
      "No cycle found! You may proceed.\n"
     ]
    }
   ],
   "source": [
    "flight_edges_df, bn = remove_edge('DEP_DELAY', 'QUARTER', flight_edges_df)"
   ]
  },
  {
   "cell_type": "markdown",
   "metadata": {},
   "source": [
    "### DelayedDepartureSFO"
   ]
  },
  {
   "cell_type": "code",
   "execution_count": 53,
   "metadata": {},
   "outputs": [
    {
     "data": {
      "text/html": [
       "<table class=\"simpletable\">\n",
       "<caption>OLS Regression Results</caption>\n",
       "<tr>\n",
       "  <th>Dep. Variable:</th>    <td>DelayedDepartureSFO</td> <th>  R-squared:         </th> <td>   0.252</td>\n",
       "</tr>\n",
       "<tr>\n",
       "  <th>Model:</th>                    <td>OLS</td>         <th>  Adj. R-squared:    </th> <td>   0.249</td>\n",
       "</tr>\n",
       "<tr>\n",
       "  <th>Method:</th>              <td>Least Squares</td>    <th>  F-statistic:       </th> <td>   86.66</td>\n",
       "</tr>\n",
       "<tr>\n",
       "  <th>Date:</th>              <td>Mon, 09 Apr 2018</td>   <th>  Prob (F-statistic):</th> <td>2.52e-48</td>\n",
       "</tr>\n",
       "<tr>\n",
       "  <th>Time:</th>                  <td>07:20:28</td>       <th>  Log-Likelihood:    </th> <td>  44.613</td>\n",
       "</tr>\n",
       "<tr>\n",
       "  <th>No. Observations:</th>       <td>   774</td>        <th>  AIC:               </th> <td>  -83.23</td>\n",
       "</tr>\n",
       "<tr>\n",
       "  <th>Df Residuals:</th>           <td>   771</td>        <th>  BIC:               </th> <td>  -69.27</td>\n",
       "</tr>\n",
       "<tr>\n",
       "  <th>Df Model:</th>               <td>     3</td>        <th>                     </th>     <td> </td>   \n",
       "</tr>\n",
       "<tr>\n",
       "  <th>Covariance Type:</th>       <td>nonrobust</td>      <th>                     </th>     <td> </td>   \n",
       "</tr>\n",
       "</table>\n",
       "<table class=\"simpletable\">\n",
       "<tr>\n",
       "            <td></td>               <th>coef</th>     <th>std err</th>      <th>t</th>      <th>P>|t|</th>  <th>[0.025</th>    <th>0.975]</th>  \n",
       "</tr>\n",
       "<tr>\n",
       "  <th>TAXI_IN</th>               <td>    0.0278</td> <td>    0.014</td> <td>    1.922</td> <td> 0.055</td> <td>   -0.001</td> <td>    0.056</td>\n",
       "</tr>\n",
       "<tr>\n",
       "  <th>ScheduledDepartureSFO</th> <td>    0.0670</td> <td>    0.005</td> <td>   12.721</td> <td> 0.000</td> <td>    0.057</td> <td>    0.077</td>\n",
       "</tr>\n",
       "<tr>\n",
       "  <th>ScheduledArrivalPHL</th>   <td>    0.0285</td> <td>    0.008</td> <td>    3.361</td> <td> 0.001</td> <td>    0.012</td> <td>    0.045</td>\n",
       "</tr>\n",
       "</table>\n",
       "<table class=\"simpletable\">\n",
       "<tr>\n",
       "  <th>Omnibus:</th>       <td>371.934</td> <th>  Durbin-Watson:     </th> <td>   2.071</td>\n",
       "</tr>\n",
       "<tr>\n",
       "  <th>Prob(Omnibus):</th> <td> 0.000</td>  <th>  Jarque-Bera (JB):  </th> <td>1708.821</td>\n",
       "</tr>\n",
       "<tr>\n",
       "  <th>Skew:</th>          <td> 2.260</td>  <th>  Prob(JB):          </th> <td>    0.00</td>\n",
       "</tr>\n",
       "<tr>\n",
       "  <th>Kurtosis:</th>      <td> 8.706</td>  <th>  Cond. No.          </th> <td>    3.15</td>\n",
       "</tr>\n",
       "</table>"
      ],
      "text/plain": [
       "<class 'statsmodels.iolib.summary.Summary'>\n",
       "\"\"\"\n",
       "                             OLS Regression Results                            \n",
       "===============================================================================\n",
       "Dep. Variable:     DelayedDepartureSFO   R-squared:                       0.252\n",
       "Model:                             OLS   Adj. R-squared:                  0.249\n",
       "Method:                  Least Squares   F-statistic:                     86.66\n",
       "Date:                 Mon, 09 Apr 2018   Prob (F-statistic):           2.52e-48\n",
       "Time:                         07:20:28   Log-Likelihood:                 44.613\n",
       "No. Observations:                  774   AIC:                            -83.23\n",
       "Df Residuals:                      771   BIC:                            -69.27\n",
       "Df Model:                            3                                         \n",
       "Covariance Type:             nonrobust                                         \n",
       "=========================================================================================\n",
       "                            coef    std err          t      P>|t|      [0.025      0.975]\n",
       "-----------------------------------------------------------------------------------------\n",
       "TAXI_IN                   0.0278      0.014      1.922      0.055      -0.001       0.056\n",
       "ScheduledDepartureSFO     0.0670      0.005     12.721      0.000       0.057       0.077\n",
       "ScheduledArrivalPHL       0.0285      0.008      3.361      0.001       0.012       0.045\n",
       "==============================================================================\n",
       "Omnibus:                      371.934   Durbin-Watson:                   2.071\n",
       "Prob(Omnibus):                  0.000   Jarque-Bera (JB):             1708.821\n",
       "Skew:                           2.260   Prob(JB):                         0.00\n",
       "Kurtosis:                       8.706   Cond. No.                         3.15\n",
       "==============================================================================\n",
       "\n",
       "Warnings:\n",
       "[1] Standard Errors assume that the covariance matrix of the errors is correctly specified.\n",
       "\"\"\""
      ]
     },
     "execution_count": 53,
     "metadata": {},
     "output_type": "execute_result"
    }
   ],
   "source": [
    "delayed_SFO_from = ['TAXI_IN', 'ScheduledDepartureSFO', 'ScheduledArrivalPHL']\n",
    "regression_model(delayed_SFO_from, 'DelayedDepartureSFO').summary()"
   ]
  },
  {
   "cell_type": "code",
   "execution_count": 54,
   "metadata": {},
   "outputs": [
    {
     "name": "stdout",
     "output_type": "stream",
     "text": [
      "[('TAXI_IN', 'DelayedDepartureSFO'), ('DelayedDepartureSFO', 'TAXI_IN')]\n"
     ]
    }
   ],
   "source": [
    "flight_edges_df, bn = update_flights_edges_df(delayed_SFO_from,'DelayedDepartureSFO',flight_edges_df)"
   ]
  },
  {
   "cell_type": "code",
   "execution_count": 55,
   "metadata": {},
   "outputs": [
    {
     "name": "stdout",
     "output_type": "stream",
     "text": [
      "No cycle found! You may proceed.\n"
     ]
    }
   ],
   "source": [
    "flight_edges_df, bn = remove_edge('TAXI_IN', 'DelayedDepartureSFO', flight_edges_df)"
   ]
  },
  {
   "cell_type": "markdown",
   "metadata": {},
   "source": [
    "###   DelayedArrivalPHL"
   ]
  },
  {
   "cell_type": "code",
   "execution_count": 56,
   "metadata": {},
   "outputs": [
    {
     "data": {
      "text/html": [
       "<table class=\"simpletable\">\n",
       "<caption>OLS Regression Results</caption>\n",
       "<tr>\n",
       "  <th>Dep. Variable:</th>    <td>DelayedArrivalPHL</td> <th>  R-squared:         </th> <td>   0.573</td> \n",
       "</tr>\n",
       "<tr>\n",
       "  <th>Model:</th>                   <td>OLS</td>        <th>  Adj. R-squared:    </th> <td>   0.570</td> \n",
       "</tr>\n",
       "<tr>\n",
       "  <th>Method:</th>             <td>Least Squares</td>   <th>  F-statistic:       </th> <td>   206.4</td> \n",
       "</tr>\n",
       "<tr>\n",
       "  <th>Date:</th>             <td>Mon, 09 Apr 2018</td>  <th>  Prob (F-statistic):</th> <td>2.02e-139</td>\n",
       "</tr>\n",
       "<tr>\n",
       "  <th>Time:</th>                 <td>07:20:28</td>      <th>  Log-Likelihood:    </th> <td>  429.28</td> \n",
       "</tr>\n",
       "<tr>\n",
       "  <th>No. Observations:</th>      <td>   774</td>       <th>  AIC:               </th> <td>  -848.6</td> \n",
       "</tr>\n",
       "<tr>\n",
       "  <th>Df Residuals:</th>          <td>   769</td>       <th>  BIC:               </th> <td>  -825.3</td> \n",
       "</tr>\n",
       "<tr>\n",
       "  <th>Df Model:</th>              <td>     5</td>       <th>                     </th>     <td> </td>    \n",
       "</tr>\n",
       "<tr>\n",
       "  <th>Covariance Type:</th>      <td>nonrobust</td>     <th>                     </th>     <td> </td>    \n",
       "</tr>\n",
       "</table>\n",
       "<table class=\"simpletable\">\n",
       "<tr>\n",
       "            <td></td>               <th>coef</th>     <th>std err</th>      <th>t</th>      <th>P>|t|</th>  <th>[0.025</th>    <th>0.975]</th>  \n",
       "</tr>\n",
       "<tr>\n",
       "  <th>DEP_DELAY</th>             <td>   -0.0087</td> <td>    0.005</td> <td>   -1.691</td> <td> 0.091</td> <td>   -0.019</td> <td>    0.001</td>\n",
       "</tr>\n",
       "<tr>\n",
       "  <th>TAXI_OUT</th>              <td>   -0.0185</td> <td>    0.003</td> <td>   -5.321</td> <td> 0.000</td> <td>   -0.025</td> <td>   -0.012</td>\n",
       "</tr>\n",
       "<tr>\n",
       "  <th>WEATHER_DELAY</th>         <td>    0.1525</td> <td>    0.063</td> <td>    2.431</td> <td> 0.015</td> <td>    0.029</td> <td>    0.276</td>\n",
       "</tr>\n",
       "<tr>\n",
       "  <th>ScheduledDepartureSFO</th> <td>   -0.0099</td> <td>    0.003</td> <td>   -2.911</td> <td> 0.004</td> <td>   -0.017</td> <td>   -0.003</td>\n",
       "</tr>\n",
       "<tr>\n",
       "  <th>ScheduledArrivalPHL</th>   <td>    0.1660</td> <td>    0.005</td> <td>   30.845</td> <td> 0.000</td> <td>    0.155</td> <td>    0.177</td>\n",
       "</tr>\n",
       "</table>\n",
       "<table class=\"simpletable\">\n",
       "<tr>\n",
       "  <th>Omnibus:</th>       <td>230.613</td> <th>  Durbin-Watson:     </th> <td>   2.068</td>\n",
       "</tr>\n",
       "<tr>\n",
       "  <th>Prob(Omnibus):</th> <td> 0.000</td>  <th>  Jarque-Bera (JB):  </th> <td>1717.372</td>\n",
       "</tr>\n",
       "<tr>\n",
       "  <th>Skew:</th>          <td> 1.135</td>  <th>  Prob(JB):          </th> <td>    0.00</td>\n",
       "</tr>\n",
       "<tr>\n",
       "  <th>Kurtosis:</th>      <td> 9.935</td>  <th>  Cond. No.          </th> <td>    26.5</td>\n",
       "</tr>\n",
       "</table>"
      ],
      "text/plain": [
       "<class 'statsmodels.iolib.summary.Summary'>\n",
       "\"\"\"\n",
       "                            OLS Regression Results                            \n",
       "==============================================================================\n",
       "Dep. Variable:      DelayedArrivalPHL   R-squared:                       0.573\n",
       "Model:                            OLS   Adj. R-squared:                  0.570\n",
       "Method:                 Least Squares   F-statistic:                     206.4\n",
       "Date:                Mon, 09 Apr 2018   Prob (F-statistic):          2.02e-139\n",
       "Time:                        07:20:28   Log-Likelihood:                 429.28\n",
       "No. Observations:                 774   AIC:                            -848.6\n",
       "Df Residuals:                     769   BIC:                            -825.3\n",
       "Df Model:                           5                                         \n",
       "Covariance Type:            nonrobust                                         \n",
       "=========================================================================================\n",
       "                            coef    std err          t      P>|t|      [0.025      0.975]\n",
       "-----------------------------------------------------------------------------------------\n",
       "DEP_DELAY                -0.0087      0.005     -1.691      0.091      -0.019       0.001\n",
       "TAXI_OUT                 -0.0185      0.003     -5.321      0.000      -0.025      -0.012\n",
       "WEATHER_DELAY             0.1525      0.063      2.431      0.015       0.029       0.276\n",
       "ScheduledDepartureSFO    -0.0099      0.003     -2.911      0.004      -0.017      -0.003\n",
       "ScheduledArrivalPHL       0.1660      0.005     30.845      0.000       0.155       0.177\n",
       "==============================================================================\n",
       "Omnibus:                      230.613   Durbin-Watson:                   2.068\n",
       "Prob(Omnibus):                  0.000   Jarque-Bera (JB):             1717.372\n",
       "Skew:                           1.135   Prob(JB):                         0.00\n",
       "Kurtosis:                       9.935   Cond. No.                         26.5\n",
       "==============================================================================\n",
       "\n",
       "Warnings:\n",
       "[1] Standard Errors assume that the covariance matrix of the errors is correctly specified.\n",
       "\"\"\""
      ]
     },
     "execution_count": 56,
     "metadata": {},
     "output_type": "execute_result"
    }
   ],
   "source": [
    "delayed_PHL_from = ['DEP_DELAY', 'TAXI_OUT', 'WEATHER_DELAY', 'ScheduledDepartureSFO', 'ScheduledArrivalPHL']\n",
    "regression_model(delayed_PHL_from, 'DelayedArrivalPHL').summary()"
   ]
  },
  {
   "cell_type": "code",
   "execution_count": 57,
   "metadata": {},
   "outputs": [
    {
     "name": "stdout",
     "output_type": "stream",
     "text": [
      "[('WEATHER_DELAY', 'CARRIER_DELAY'), ('CARRIER_DELAY', 'TAXI_OUT'), ('TAXI_OUT', 'DelayedArrivalPHL'), ('DelayedArrivalPHL', 'WEATHER_DELAY')]\n"
     ]
    }
   ],
   "source": [
    "flight_edges_df, bn = update_flights_edges_df(delayed_PHL_from,'DelayedArrivalPHL',flight_edges_df)"
   ]
  },
  {
   "cell_type": "code",
   "execution_count": 58,
   "metadata": {},
   "outputs": [
    {
     "name": "stdout",
     "output_type": "stream",
     "text": [
      "No cycle found! You may proceed.\n"
     ]
    }
   ],
   "source": [
    "flight_edges_df, bn = remove_edge('DelayedArrivalPHL', 'WEATHER_DELAY', flight_edges_df)"
   ]
  },
  {
   "cell_type": "markdown",
   "metadata": {},
   "source": [
    "### Number of Scheduled Departures from SFO When Delayed Flight is scheduled to Depart"
   ]
  },
  {
   "cell_type": "code",
   "execution_count": 59,
   "metadata": {},
   "outputs": [
    {
     "data": {
      "text/html": [
       "<table class=\"simpletable\">\n",
       "<caption>OLS Regression Results</caption>\n",
       "<tr>\n",
       "  <th>Dep. Variable:</th>    <td>ScheduledDepartureSFO</td> <th>  R-squared:         </th> <td>   0.396</td>\n",
       "</tr>\n",
       "<tr>\n",
       "  <th>Model:</th>                     <td>OLS</td>          <th>  Adj. R-squared:    </th> <td>   0.392</td>\n",
       "</tr>\n",
       "<tr>\n",
       "  <th>Method:</th>               <td>Least Squares</td>     <th>  F-statistic:       </th> <td>   100.8</td>\n",
       "</tr>\n",
       "<tr>\n",
       "  <th>Date:</th>               <td>Mon, 09 Apr 2018</td>    <th>  Prob (F-statistic):</th> <td>9.17e-82</td>\n",
       "</tr>\n",
       "<tr>\n",
       "  <th>Time:</th>                   <td>07:20:28</td>        <th>  Log-Likelihood:    </th> <td> -1320.7</td>\n",
       "</tr>\n",
       "<tr>\n",
       "  <th>No. Observations:</th>        <td>   774</td>         <th>  AIC:               </th> <td>   2651.</td>\n",
       "</tr>\n",
       "<tr>\n",
       "  <th>Df Residuals:</th>            <td>   769</td>         <th>  BIC:               </th> <td>   2675.</td>\n",
       "</tr>\n",
       "<tr>\n",
       "  <th>Df Model:</th>                <td>     5</td>         <th>                     </th>     <td> </td>   \n",
       "</tr>\n",
       "<tr>\n",
       "  <th>Covariance Type:</th>        <td>nonrobust</td>       <th>                     </th>     <td> </td>   \n",
       "</tr>\n",
       "</table>\n",
       "<table class=\"simpletable\">\n",
       "<tr>\n",
       "           <td></td>              <th>coef</th>     <th>std err</th>      <th>t</th>      <th>P>|t|</th>  <th>[0.025</th>    <th>0.975]</th>  \n",
       "</tr>\n",
       "<tr>\n",
       "  <th>CRS_DEP_TIME</th>        <td>    0.5178</td> <td>    0.078</td> <td>    6.616</td> <td> 0.000</td> <td>    0.364</td> <td>    0.671</td>\n",
       "</tr>\n",
       "<tr>\n",
       "  <th>CRS_ARR_TIME</th>        <td>    0.4475</td> <td>    0.066</td> <td>    6.758</td> <td> 0.000</td> <td>    0.318</td> <td>    0.577</td>\n",
       "</tr>\n",
       "<tr>\n",
       "  <th>DelayedDepartureSFO</th> <td>    2.3104</td> <td>    0.193</td> <td>   11.967</td> <td> 0.000</td> <td>    1.931</td> <td>    2.689</td>\n",
       "</tr>\n",
       "<tr>\n",
       "  <th>DelayedArrivalPHL</th>   <td>   -0.6932</td> <td>    0.343</td> <td>   -2.023</td> <td> 0.043</td> <td>   -1.366</td> <td>   -0.021</td>\n",
       "</tr>\n",
       "<tr>\n",
       "  <th>ScheduledArrivalPHL</th> <td>    0.3612</td> <td>    0.077</td> <td>    4.706</td> <td> 0.000</td> <td>    0.211</td> <td>    0.512</td>\n",
       "</tr>\n",
       "</table>\n",
       "<table class=\"simpletable\">\n",
       "<tr>\n",
       "  <th>Omnibus:</th>       <td>230.189</td> <th>  Durbin-Watson:     </th> <td>   2.040</td> \n",
       "</tr>\n",
       "<tr>\n",
       "  <th>Prob(Omnibus):</th> <td> 0.000</td>  <th>  Jarque-Bera (JB):  </th> <td> 476.041</td> \n",
       "</tr>\n",
       "<tr>\n",
       "  <th>Skew:</th>          <td> 1.730</td>  <th>  Prob(JB):          </th> <td>4.26e-104</td>\n",
       "</tr>\n",
       "<tr>\n",
       "  <th>Kurtosis:</th>      <td> 4.672</td>  <th>  Cond. No.          </th> <td>    8.43</td> \n",
       "</tr>\n",
       "</table>"
      ],
      "text/plain": [
       "<class 'statsmodels.iolib.summary.Summary'>\n",
       "\"\"\"\n",
       "                              OLS Regression Results                             \n",
       "=================================================================================\n",
       "Dep. Variable:     ScheduledDepartureSFO   R-squared:                       0.396\n",
       "Model:                               OLS   Adj. R-squared:                  0.392\n",
       "Method:                    Least Squares   F-statistic:                     100.8\n",
       "Date:                   Mon, 09 Apr 2018   Prob (F-statistic):           9.17e-82\n",
       "Time:                           07:20:28   Log-Likelihood:                -1320.7\n",
       "No. Observations:                    774   AIC:                             2651.\n",
       "Df Residuals:                        769   BIC:                             2675.\n",
       "Df Model:                              5                                         \n",
       "Covariance Type:               nonrobust                                         \n",
       "=======================================================================================\n",
       "                          coef    std err          t      P>|t|      [0.025      0.975]\n",
       "---------------------------------------------------------------------------------------\n",
       "CRS_DEP_TIME            0.5178      0.078      6.616      0.000       0.364       0.671\n",
       "CRS_ARR_TIME            0.4475      0.066      6.758      0.000       0.318       0.577\n",
       "DelayedDepartureSFO     2.3104      0.193     11.967      0.000       1.931       2.689\n",
       "DelayedArrivalPHL      -0.6932      0.343     -2.023      0.043      -1.366      -0.021\n",
       "ScheduledArrivalPHL     0.3612      0.077      4.706      0.000       0.211       0.512\n",
       "==============================================================================\n",
       "Omnibus:                      230.189   Durbin-Watson:                   2.040\n",
       "Prob(Omnibus):                  0.000   Jarque-Bera (JB):              476.041\n",
       "Skew:                           1.730   Prob(JB):                    4.26e-104\n",
       "Kurtosis:                       4.672   Cond. No.                         8.43\n",
       "==============================================================================\n",
       "\n",
       "Warnings:\n",
       "[1] Standard Errors assume that the covariance matrix of the errors is correctly specified.\n",
       "\"\"\""
      ]
     },
     "execution_count": 59,
     "metadata": {},
     "output_type": "execute_result"
    }
   ],
   "source": [
    "scheduled_SFO_from = ['CRS_DEP_TIME', 'CRS_ARR_TIME', 'DelayedDepartureSFO', 'DelayedArrivalPHL', 'ScheduledArrivalPHL']\n",
    "regression_model(scheduled_SFO_from, 'ScheduledDepartureSFO').summary()"
   ]
  },
  {
   "cell_type": "code",
   "execution_count": 60,
   "metadata": {},
   "outputs": [
    {
     "name": "stdout",
     "output_type": "stream",
     "text": [
      "[('WEATHER_DELAY', 'CARRIER_DELAY'), ('CARRIER_DELAY', 'TAXI_OUT'), ('TAXI_OUT', 'DelayedArrivalPHL'), ('DelayedArrivalPHL', 'ScheduledDepartureSFO'), ('ScheduledDepartureSFO', 'WEATHER_DELAY')]\n"
     ]
    }
   ],
   "source": [
    "flight_edges_df, bn = update_flights_edges_df(scheduled_SFO_from,'ScheduledDepartureSFO',flight_edges_df)"
   ]
  },
  {
   "cell_type": "code",
   "execution_count": 61,
   "metadata": {},
   "outputs": [
    {
     "name": "stdout",
     "output_type": "stream",
     "text": [
      "[('CRS_DEP_TIME', 'ScheduledDepartureSFO'), ('ScheduledDepartureSFO', 'CRS_ARR_TIME'), ('CRS_ARR_TIME', 'CRS_DEP_TIME')]\n"
     ]
    }
   ],
   "source": [
    "flight_edges_df, bn = remove_edge('DelayedArrivalPHL', 'ScheduledDepartureSFO', flight_edges_df)"
   ]
  },
  {
   "cell_type": "code",
   "execution_count": 62,
   "metadata": {},
   "outputs": [
    {
     "name": "stdout",
     "output_type": "stream",
     "text": [
      "[('CRS_DEP_TIME', 'ScheduledDepartureSFO'), ('ScheduledDepartureSFO', 'CRS_DEP_TIME')]\n"
     ]
    }
   ],
   "source": [
    "flight_edges_df, bn = remove_edge('ScheduledDepartureSFO', 'CRS_ARR_TIME', flight_edges_df)"
   ]
  },
  {
   "cell_type": "code",
   "execution_count": 63,
   "metadata": {},
   "outputs": [
    {
     "name": "stdout",
     "output_type": "stream",
     "text": [
      "[('ScheduledDepartureSFO', 'DelayedDepartureSFO'), ('DelayedDepartureSFO', 'ScheduledDepartureSFO')]\n"
     ]
    }
   ],
   "source": [
    "flight_edges_df, bn = remove_edge('ScheduledDepartureSFO', 'CRS_DEP_TIME', flight_edges_df)"
   ]
  },
  {
   "cell_type": "code",
   "execution_count": 64,
   "metadata": {},
   "outputs": [
    {
     "name": "stdout",
     "output_type": "stream",
     "text": [
      "No cycle found! You may proceed.\n"
     ]
    }
   ],
   "source": [
    "flight_edges_df, bn = remove_edge('DelayedDepartureSFO', 'ScheduledDepartureSFO', flight_edges_df)"
   ]
  },
  {
   "cell_type": "markdown",
   "metadata": {},
   "source": [
    "### Number of Scheduled Arrivals at PHL When Delayed Flight is scheduled to Depart"
   ]
  },
  {
   "cell_type": "code",
   "execution_count": 65,
   "metadata": {},
   "outputs": [
    {
     "data": {
      "text/html": [
       "<table class=\"simpletable\">\n",
       "<caption>OLS Regression Results</caption>\n",
       "<tr>\n",
       "  <th>Dep. Variable:</th>    <td>ScheduledArrivalPHL</td> <th>  R-squared:         </th> <td>   0.667</td> \n",
       "</tr>\n",
       "<tr>\n",
       "  <th>Model:</th>                    <td>OLS</td>         <th>  Adj. R-squared:    </th> <td>   0.664</td> \n",
       "</tr>\n",
       "<tr>\n",
       "  <th>Method:</th>              <td>Least Squares</td>    <th>  F-statistic:       </th> <td>   219.5</td> \n",
       "</tr>\n",
       "<tr>\n",
       "  <th>Date:</th>              <td>Mon, 09 Apr 2018</td>   <th>  Prob (F-statistic):</th> <td>2.24e-178</td>\n",
       "</tr>\n",
       "<tr>\n",
       "  <th>Time:</th>                  <td>07:20:28</td>       <th>  Log-Likelihood:    </th> <td> -717.04</td> \n",
       "</tr>\n",
       "<tr>\n",
       "  <th>No. Observations:</th>       <td>   774</td>        <th>  AIC:               </th> <td>   1448.</td> \n",
       "</tr>\n",
       "<tr>\n",
       "  <th>Df Residuals:</th>           <td>   767</td>        <th>  BIC:               </th> <td>   1481.</td> \n",
       "</tr>\n",
       "<tr>\n",
       "  <th>Df Model:</th>               <td>     7</td>        <th>                     </th>     <td> </td>    \n",
       "</tr>\n",
       "<tr>\n",
       "  <th>Covariance Type:</th>       <td>nonrobust</td>      <th>                     </th>     <td> </td>    \n",
       "</tr>\n",
       "</table>\n",
       "<table class=\"simpletable\">\n",
       "<tr>\n",
       "            <td></td>               <th>coef</th>     <th>std err</th>      <th>t</th>      <th>P>|t|</th>  <th>[0.025</th>    <th>0.975]</th>  \n",
       "</tr>\n",
       "<tr>\n",
       "  <th>DAY_OF_WEEK</th>           <td>    0.0362</td> <td>    0.008</td> <td>    4.394</td> <td> 0.000</td> <td>    0.020</td> <td>    0.052</td>\n",
       "</tr>\n",
       "<tr>\n",
       "  <th>DEP_DELAY</th>             <td>    0.0333</td> <td>    0.023</td> <td>    1.440</td> <td> 0.150</td> <td>   -0.012</td> <td>    0.079</td>\n",
       "</tr>\n",
       "<tr>\n",
       "  <th>TAXI_OUT</th>              <td>    0.0720</td> <td>    0.021</td> <td>    3.425</td> <td> 0.001</td> <td>    0.031</td> <td>    0.113</td>\n",
       "</tr>\n",
       "<tr>\n",
       "  <th>WEATHER_DELAY</th>         <td>   -0.5109</td> <td>    0.277</td> <td>   -1.845</td> <td> 0.065</td> <td>   -1.054</td> <td>    0.033</td>\n",
       "</tr>\n",
       "<tr>\n",
       "  <th>DelayedDepartureSFO</th>   <td>    0.3145</td> <td>    0.096</td> <td>    3.277</td> <td> 0.001</td> <td>    0.126</td> <td>    0.503</td>\n",
       "</tr>\n",
       "<tr>\n",
       "  <th>ScheduledDepartureSFO</th> <td>    0.0766</td> <td>    0.016</td> <td>    4.718</td> <td> 0.000</td> <td>    0.045</td> <td>    0.108</td>\n",
       "</tr>\n",
       "<tr>\n",
       "  <th>DelayedArrivalPHL</th>     <td>    3.2743</td> <td>    0.107</td> <td>   30.687</td> <td> 0.000</td> <td>    3.065</td> <td>    3.484</td>\n",
       "</tr>\n",
       "</table>\n",
       "<table class=\"simpletable\">\n",
       "<tr>\n",
       "  <th>Omnibus:</th>       <td>77.123</td> <th>  Durbin-Watson:     </th> <td>   2.113</td>\n",
       "</tr>\n",
       "<tr>\n",
       "  <th>Prob(Omnibus):</th> <td> 0.000</td> <th>  Jarque-Bera (JB):  </th> <td> 194.965</td>\n",
       "</tr>\n",
       "<tr>\n",
       "  <th>Skew:</th>          <td> 0.534</td> <th>  Prob(JB):          </th> <td>4.61e-43</td>\n",
       "</tr>\n",
       "<tr>\n",
       "  <th>Kurtosis:</th>      <td> 5.214</td> <th>  Cond. No.          </th> <td>    58.0</td>\n",
       "</tr>\n",
       "</table>"
      ],
      "text/plain": [
       "<class 'statsmodels.iolib.summary.Summary'>\n",
       "\"\"\"\n",
       "                             OLS Regression Results                            \n",
       "===============================================================================\n",
       "Dep. Variable:     ScheduledArrivalPHL   R-squared:                       0.667\n",
       "Model:                             OLS   Adj. R-squared:                  0.664\n",
       "Method:                  Least Squares   F-statistic:                     219.5\n",
       "Date:                 Mon, 09 Apr 2018   Prob (F-statistic):          2.24e-178\n",
       "Time:                         07:20:28   Log-Likelihood:                -717.04\n",
       "No. Observations:                  774   AIC:                             1448.\n",
       "Df Residuals:                      767   BIC:                             1481.\n",
       "Df Model:                            7                                         \n",
       "Covariance Type:             nonrobust                                         \n",
       "=========================================================================================\n",
       "                            coef    std err          t      P>|t|      [0.025      0.975]\n",
       "-----------------------------------------------------------------------------------------\n",
       "DAY_OF_WEEK               0.0362      0.008      4.394      0.000       0.020       0.052\n",
       "DEP_DELAY                 0.0333      0.023      1.440      0.150      -0.012       0.079\n",
       "TAXI_OUT                  0.0720      0.021      3.425      0.001       0.031       0.113\n",
       "WEATHER_DELAY            -0.5109      0.277     -1.845      0.065      -1.054       0.033\n",
       "DelayedDepartureSFO       0.3145      0.096      3.277      0.001       0.126       0.503\n",
       "ScheduledDepartureSFO     0.0766      0.016      4.718      0.000       0.045       0.108\n",
       "DelayedArrivalPHL         3.2743      0.107     30.687      0.000       3.065       3.484\n",
       "==============================================================================\n",
       "Omnibus:                       77.123   Durbin-Watson:                   2.113\n",
       "Prob(Omnibus):                  0.000   Jarque-Bera (JB):              194.965\n",
       "Skew:                           0.534   Prob(JB):                     4.61e-43\n",
       "Kurtosis:                       5.214   Cond. No.                         58.0\n",
       "==============================================================================\n",
       "\n",
       "Warnings:\n",
       "[1] Standard Errors assume that the covariance matrix of the errors is correctly specified.\n",
       "\"\"\""
      ]
     },
     "execution_count": 65,
     "metadata": {},
     "output_type": "execute_result"
    }
   ],
   "source": [
    "scheduled_PHL_from = ['DAY_OF_WEEK', 'DEP_DELAY', 'TAXI_OUT', 'WEATHER_DELAY', 'DelayedDepartureSFO', 'ScheduledDepartureSFO', 'DelayedArrivalPHL']\n",
    "regression_model(scheduled_PHL_from, 'ScheduledArrivalPHL').summary()"
   ]
  },
  {
   "cell_type": "code",
   "execution_count": 66,
   "metadata": {},
   "outputs": [
    {
     "name": "stdout",
     "output_type": "stream",
     "text": [
      "[('WEATHER_DELAY', 'CARRIER_DELAY'), ('CARRIER_DELAY', 'TAXI_OUT'), ('TAXI_OUT', 'DelayedArrivalPHL'), ('DelayedArrivalPHL', 'ScheduledArrivalPHL'), ('ScheduledArrivalPHL', 'WEATHER_DELAY')]\n"
     ]
    }
   ],
   "source": [
    "flight_edges_df, bn = update_flights_edges_df(scheduled_PHL_from,'ScheduledArrivalPHL',flight_edges_df)"
   ]
  },
  {
   "cell_type": "code",
   "execution_count": 67,
   "metadata": {},
   "outputs": [
    {
     "name": "stdout",
     "output_type": "stream",
     "text": [
      "[('ScheduledArrivalPHL', 'DelayedDepartureSFO'), ('DelayedDepartureSFO', 'ScheduledArrivalPHL')]\n"
     ]
    }
   ],
   "source": [
    "flight_edges_df, bn = remove_edge('ScheduledArrivalPHL', 'WEATHER_DELAY', flight_edges_df)"
   ]
  },
  {
   "cell_type": "code",
   "execution_count": 68,
   "metadata": {},
   "outputs": [
    {
     "name": "stdout",
     "output_type": "stream",
     "text": [
      "[('DelayedArrivalPHL', 'ScheduledArrivalPHL'), ('ScheduledArrivalPHL', 'DelayedArrivalPHL')]\n"
     ]
    }
   ],
   "source": [
    "flight_edges_df, bn = remove_edge('DelayedDepartureSFO', 'ScheduledArrivalPHL', flight_edges_df)"
   ]
  },
  {
   "cell_type": "code",
   "execution_count": 69,
   "metadata": {},
   "outputs": [
    {
     "name": "stdout",
     "output_type": "stream",
     "text": [
      "[('WEATHER_DELAY', 'CARRIER_DELAY'), ('CARRIER_DELAY', 'TAXI_OUT'), ('TAXI_OUT', 'ScheduledArrivalPHL'), ('ScheduledArrivalPHL', 'ScheduledDepartureSFO'), ('ScheduledDepartureSFO', 'WEATHER_DELAY')]\n"
     ]
    }
   ],
   "source": [
    "flight_edges_df, bn = remove_edge('DelayedArrivalPHL', 'ScheduledArrivalPHL', flight_edges_df)"
   ]
  },
  {
   "cell_type": "code",
   "execution_count": 70,
   "metadata": {},
   "outputs": [
    {
     "name": "stdout",
     "output_type": "stream",
     "text": [
      "[('WEATHER_DELAY', 'CARRIER_DELAY'), ('CARRIER_DELAY', 'DEP_DELAY'), ('DEP_DELAY', 'ScheduledArrivalPHL'), ('ScheduledArrivalPHL', 'ScheduledDepartureSFO'), ('ScheduledDepartureSFO', 'WEATHER_DELAY')]\n"
     ]
    }
   ],
   "source": [
    "flight_edges_df, bn = remove_edge('TAXI_OUT', 'ScheduledArrivalPHL', flight_edges_df)"
   ]
  },
  {
   "cell_type": "code",
   "execution_count": 71,
   "metadata": {},
   "outputs": [
    {
     "name": "stdout",
     "output_type": "stream",
     "text": [
      "[('WEATHER_DELAY', 'ScheduledArrivalPHL'), ('ScheduledArrivalPHL', 'ScheduledDepartureSFO'), ('ScheduledDepartureSFO', 'WEATHER_DELAY')]\n"
     ]
    }
   ],
   "source": [
    "flight_edges_df, bn = remove_edge('DEP_DELAY', 'ScheduledArrivalPHL', flight_edges_df)"
   ]
  },
  {
   "cell_type": "code",
   "execution_count": 72,
   "metadata": {},
   "outputs": [
    {
     "name": "stdout",
     "output_type": "stream",
     "text": [
      "[('ScheduledDepartureSFO', 'ScheduledArrivalPHL'), ('ScheduledArrivalPHL', 'ScheduledDepartureSFO')]\n"
     ]
    }
   ],
   "source": [
    "flight_edges_df, bn = remove_edge('WEATHER_DELAY', 'ScheduledArrivalPHL', flight_edges_df)"
   ]
  },
  {
   "cell_type": "code",
   "execution_count": 73,
   "metadata": {},
   "outputs": [
    {
     "name": "stdout",
     "output_type": "stream",
     "text": [
      "No cycle found! You may proceed.\n",
      "No cycle found! You may proceed.\n"
     ]
    }
   ],
   "source": [
    "flight_edges_df, bn = remove_edge('ScheduledDepartureSFO', 'ScheduledArrivalPHL', flight_edges_df)\n",
    "flight_edges_df, bn = remove_edge('ScheduledArrivalPHL', 'ScheduledDepartureSFO', flight_edges_df)"
   ]
  },
  {
   "cell_type": "code",
   "execution_count": 74,
   "metadata": {},
   "outputs": [
    {
     "data": {
      "image/png": "[encoded data removed]",
      "text/plain": [
       "<matplotlib.figure.Figure at 0x7f8699ffeb70>"
      ]
     },
     "metadata": {},
     "output_type": "display_data"
    }
   ],
   "source": [
    "draw_graph(flight_edges_df,'final_bn.png')"
   ]
  },
  {
   "cell_type": "code",
   "execution_count": 75,
   "metadata": {},
   "outputs": [
    {
     "name": "stdout",
     "output_type": "stream",
     "text": [
      "This graph is a DAG : True \n",
      "This edge is a tree : False\n"
     ]
    }
   ],
   "source": [
    "print('This graph is a DAG :', nx.is_directed_acyclic_graph(bn),'\\nThis edge is a tree :', nx.is_tree(bn))"
   ]
  },
  {
   "cell_type": "code",
   "execution_count": 76,
   "metadata": {},
   "outputs": [
    {
     "name": "stdout",
     "output_type": "stream",
     "text": [
      "There are 18 nodes and 53 edges in this graph.\n"
     ]
    }
   ],
   "source": [
    "# nodes\n",
    "nodes_li = list(set(list(flight_edges_df['from_node'])+list(flight_edges_df['to_node'])))\n",
    "nodes_df = pd.DataFrame(nodes_li)\n",
    "nodes_df.columns = ['nodes']\n",
    "flight_edges_df.columns=['Source','Target']\n",
    "# save as csv\n",
    "flight_edges_df.to_csv('edges.csv',index=False)\n",
    "nodes_df.to_csv('nodes.csv',index=False)\n",
    "# numbers to print\n",
    "print('There are', nodes_df.shape[0], 'nodes and', flight_edges_df.shape[0], 'edges in this graph.')"
   ]
  },
  {
   "cell_type": "code",
   "execution_count": null,
   "metadata": {},
   "outputs": [],
   "source": []
  }
 ],
 "metadata": {
  "kernelspec": {
   "display_name": "Python 3",
   "language": "python",
   "name": "python3"
  },
  "language_info": {
   "codemirror_mode": {
    "name": "ipython",
    "version": 3
   },
   "file_extension": ".py",
   "mimetype": "text/x-python",
   "name": "python",
   "nbconvert_exporter": "python",
   "pygments_lexer": "ipython3",
   "version": "3.6.3"
  }
 },
 "nbformat": 4,
 "nbformat_minor": 2
}
