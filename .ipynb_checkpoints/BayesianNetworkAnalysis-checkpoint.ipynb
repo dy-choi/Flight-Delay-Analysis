{
 "cells": [
  {
   "cell_type": "code",
   "execution_count": 1,
   "metadata": {},
   "outputs": [],
   "source": [
    "import pandas as pd\n",
    "\n",
    "# helper functions\n",
    "import cpt_calculator as cpt\n",
    "\n",
    "# read in training data, edge data, and initialize NUM_DELAYS\n",
    "edges_df = pd.read_csv('./edges.csv')\n",
    "nodes_with_parents = list(set(edges_df.Target))\n",
    "nodes_no_parents = list(set(edges_df.Source) - set(edges_df.Target))\n",
    "nodes_set = set(nodes_with_parents + nodes_no_parents)"
   ]
  },
  {
   "cell_type": "markdown",
   "metadata": {},
   "source": [
    "To compute the conditional probability tables, we will obesrve each node in a BFS-like fashion, starting with nodes that do not have parents and then working our way through nodes whose parents we have already observed."
   ]
  },
  {
   "cell_type": "code",
   "execution_count": 2,
   "metadata": {},
   "outputs": [],
   "source": [
    "# make dictionary of nodes and their parents\n",
    "node_parents = dict()\n",
    "nodes_with_parents\n",
    "for node in nodes_with_parents:\n",
    "    node_parents[node] = set(edges_df.Source[edges_df.Target == node])\n",
    "for node in nodes_no_parents:\n",
    "    node_parents[node] = set()\n",
    "    \n",
    "# keep track of a visted set\n",
    "visited_set = set()"
   ]
  },
  {
   "cell_type": "markdown",
   "metadata": {},
   "source": [
    "# 0. Nodes Without Parents"
   ]
  },
  {
   "cell_type": "code",
   "execution_count": 3,
   "metadata": {},
   "outputs": [
    {
     "name": "stdout",
     "output_type": "stream",
     "text": [
      "These are the list of parentless nodes : ['DAY_OF_WEEK', 'MONTH'] . We start by defining a function to reduce redundancy.\n"
     ]
    }
   ],
   "source": [
    "print(\"These are the list of parentless nodes :\", nodes_no_parents,\". We start by defining a function to reduce redundancy.\")"
   ]
  },
  {
   "cell_type": "markdown",
   "metadata": {},
   "source": [
    "## 1. Month"
   ]
  },
  {
   "cell_type": "code",
   "execution_count": 4,
   "metadata": {},
   "outputs": [
    {
     "data": {
      "text/html": [
       "<div>\n",
       "<table border=\"1\" class=\"dataframe\">\n",
       "  <thead>\n",
       "    <tr style=\"text-align: right;\">\n",
       "      <th></th>\n",
       "      <th>MONTH</th>\n",
       "      <th>num</th>\n",
       "      <th>probability</th>\n",
       "      <th>log_p</th>\n",
       "    </tr>\n",
       "  </thead>\n",
       "  <tbody>\n",
       "    <tr>\n",
       "      <th>0</th>\n",
       "      <td>1</td>\n",
       "      <td>50</td>\n",
       "      <td>0.064599</td>\n",
       "      <td>-2.739549</td>\n",
       "    </tr>\n",
       "    <tr>\n",
       "      <th>1</th>\n",
       "      <td>2</td>\n",
       "      <td>29</td>\n",
       "      <td>0.037468</td>\n",
       "      <td>-3.284276</td>\n",
       "    </tr>\n",
       "    <tr>\n",
       "      <th>2</th>\n",
       "      <td>3</td>\n",
       "      <td>36</td>\n",
       "      <td>0.046512</td>\n",
       "      <td>-3.068053</td>\n",
       "    </tr>\n",
       "    <tr>\n",
       "      <th>3</th>\n",
       "      <td>4</td>\n",
       "      <td>49</td>\n",
       "      <td>0.063307</td>\n",
       "      <td>-2.759752</td>\n",
       "    </tr>\n",
       "    <tr>\n",
       "      <th>4</th>\n",
       "      <td>5</td>\n",
       "      <td>64</td>\n",
       "      <td>0.082687</td>\n",
       "      <td>-2.492689</td>\n",
       "    </tr>\n",
       "    <tr>\n",
       "      <th>5</th>\n",
       "      <td>6</td>\n",
       "      <td>84</td>\n",
       "      <td>0.108527</td>\n",
       "      <td>-2.220755</td>\n",
       "    </tr>\n",
       "    <tr>\n",
       "      <th>6</th>\n",
       "      <td>7</td>\n",
       "      <td>99</td>\n",
       "      <td>0.127907</td>\n",
       "      <td>-2.056452</td>\n",
       "    </tr>\n",
       "    <tr>\n",
       "      <th>7</th>\n",
       "      <td>8</td>\n",
       "      <td>93</td>\n",
       "      <td>0.120155</td>\n",
       "      <td>-2.118972</td>\n",
       "    </tr>\n",
       "    <tr>\n",
       "      <th>8</th>\n",
       "      <td>9</td>\n",
       "      <td>92</td>\n",
       "      <td>0.118863</td>\n",
       "      <td>-2.129783</td>\n",
       "    </tr>\n",
       "    <tr>\n",
       "      <th>9</th>\n",
       "      <td>10</td>\n",
       "      <td>72</td>\n",
       "      <td>0.093023</td>\n",
       "      <td>-2.374906</td>\n",
       "    </tr>\n",
       "    <tr>\n",
       "      <th>10</th>\n",
       "      <td>11</td>\n",
       "      <td>44</td>\n",
       "      <td>0.056848</td>\n",
       "      <td>-2.867382</td>\n",
       "    </tr>\n",
       "    <tr>\n",
       "      <th>11</th>\n",
       "      <td>12</td>\n",
       "      <td>62</td>\n",
       "      <td>0.080103</td>\n",
       "      <td>-2.524437</td>\n",
       "    </tr>\n",
       "  </tbody>\n",
       "</table>\n",
       "</div>"
      ],
      "text/plain": [
       "    MONTH  num  probability     log_p\n",
       "0       1   50     0.064599 -2.739549\n",
       "1       2   29     0.037468 -3.284276\n",
       "2       3   36     0.046512 -3.068053\n",
       "3       4   49     0.063307 -2.759752\n",
       "4       5   64     0.082687 -2.492689\n",
       "5       6   84     0.108527 -2.220755\n",
       "6       7   99     0.127907 -2.056452\n",
       "7       8   93     0.120155 -2.118972\n",
       "8       9   92     0.118863 -2.129783\n",
       "9      10   72     0.093023 -2.374906\n",
       "10     11   44     0.056848 -2.867382\n",
       "11     12   62     0.080103 -2.524437"
      ]
     },
     "execution_count": 4,
     "metadata": {},
     "output_type": "execute_result"
    }
   ],
   "source": [
    "month_df, visited, nodes_set = cpt.parentless_CPT('MONTH', visited_set, nodes_set)\n",
    "month_df"
   ]
  },
  {
   "cell_type": "markdown",
   "metadata": {},
   "source": [
    "## 2. Day of Week"
   ]
  },
  {
   "cell_type": "code",
   "execution_count": 5,
   "metadata": {},
   "outputs": [
    {
     "data": {
      "text/html": [
       "<div>\n",
       "<table border=\"1\" class=\"dataframe\">\n",
       "  <thead>\n",
       "    <tr style=\"text-align: right;\">\n",
       "      <th></th>\n",
       "      <th>DAY_OF_WEEK</th>\n",
       "      <th>num</th>\n",
       "      <th>probability</th>\n",
       "      <th>log_p</th>\n",
       "    </tr>\n",
       "  </thead>\n",
       "  <tbody>\n",
       "    <tr>\n",
       "      <th>0</th>\n",
       "      <td>1</td>\n",
       "      <td>119</td>\n",
       "      <td>0.153747</td>\n",
       "      <td>-1.872448</td>\n",
       "    </tr>\n",
       "    <tr>\n",
       "      <th>1</th>\n",
       "      <td>2</td>\n",
       "      <td>101</td>\n",
       "      <td>0.130491</td>\n",
       "      <td>-2.036451</td>\n",
       "    </tr>\n",
       "    <tr>\n",
       "      <th>2</th>\n",
       "      <td>3</td>\n",
       "      <td>94</td>\n",
       "      <td>0.121447</td>\n",
       "      <td>-2.108277</td>\n",
       "    </tr>\n",
       "    <tr>\n",
       "      <th>3</th>\n",
       "      <td>4</td>\n",
       "      <td>138</td>\n",
       "      <td>0.178295</td>\n",
       "      <td>-1.724318</td>\n",
       "    </tr>\n",
       "    <tr>\n",
       "      <th>4</th>\n",
       "      <td>5</td>\n",
       "      <td>135</td>\n",
       "      <td>0.174419</td>\n",
       "      <td>-1.746297</td>\n",
       "    </tr>\n",
       "    <tr>\n",
       "      <th>5</th>\n",
       "      <td>6</td>\n",
       "      <td>73</td>\n",
       "      <td>0.094315</td>\n",
       "      <td>-2.361112</td>\n",
       "    </tr>\n",
       "    <tr>\n",
       "      <th>6</th>\n",
       "      <td>7</td>\n",
       "      <td>114</td>\n",
       "      <td>0.147287</td>\n",
       "      <td>-1.915373</td>\n",
       "    </tr>\n",
       "  </tbody>\n",
       "</table>\n",
       "</div>"
      ],
      "text/plain": [
       "   DAY_OF_WEEK  num  probability     log_p\n",
       "0            1  119     0.153747 -1.872448\n",
       "1            2  101     0.130491 -2.036451\n",
       "2            3   94     0.121447 -2.108277\n",
       "3            4  138     0.178295 -1.724318\n",
       "4            5  135     0.174419 -1.746297\n",
       "5            6   73     0.094315 -2.361112\n",
       "6            7  114     0.147287 -1.915373"
      ]
     },
     "execution_count": 5,
     "metadata": {},
     "output_type": "execute_result"
    }
   ],
   "source": [
    "day_of_week_df, visited, nodes_set = cpt.parentless_CPT('DAY_OF_WEEK', visited_set, nodes_set)\n",
    "day_of_week_df"
   ]
  },
  {
   "cell_type": "markdown",
   "metadata": {},
   "source": [
    "# Depth 1: Nodes with Parents"
   ]
  },
  {
   "cell_type": "markdown",
   "metadata": {},
   "source": [
    "First, we find all the nodes whose values we can compute based on those nodes whose conditional probability tables we have already computed."
   ]
  },
  {
   "cell_type": "code",
   "execution_count": null,
   "metadata": {},
   "outputs": [],
   "source": [
    "def available_nodes():\n",
    "    '''\n",
    "    return list of available nodes to visit\n",
    "    '''\n",
    "    li = []\n",
    "    for node in nodes_set:\n",
    "        if node_parents[node].issubset(visited_set):\n",
    "            li += [node]\n",
    "    return li\n",
    "\n",
    "def compute_CPT(node, parent_df):\n",
    "    df = data_df.groupby(list(node_parents[node]) + [node]).size().reset_index().rename(columns={0:'num'})\n",
    "    df = pd.merge(df, parent_df, on=list(node_parents[node]))\n",
    "    df['prob'] = df.num_x / df.num_y\n",
    "    df = df.drop(['num_x','num_y'],axis=1)\n",
    "    df['log_p'] = np.log(df.prob)\n",
    "    visited_set.add(node)\n",
    "    nodes_set.remove(node)\n",
    "    return df"
   ]
  },
  {
   "cell_type": "code",
   "execution_count": null,
   "metadata": {},
   "outputs": [],
   "source": [
    "available_nodes()"
   ]
  },
  {
   "cell_type": "markdown",
   "metadata": {},
   "source": [
    "## 4. Quarter"
   ]
  },
  {
   "cell_type": "code",
   "execution_count": null,
   "metadata": {},
   "outputs": [],
   "source": [
    "quarter_df = compute_CPT('QUARTER', month_df)\n",
    "quarter_df"
   ]
  },
  {
   "cell_type": "markdown",
   "metadata": {},
   "source": [
    "## 5. ScheduledArrivalPHL"
   ]
  },
  {
   "cell_type": "markdown",
   "metadata": {},
   "source": [
    "0 represents less than 10, 1 represents less than 20, 2 represents less than 30, 3 represents less than 40, 4 represents less than 50."
   ]
  },
  {
   "cell_type": "code",
   "execution_count": null,
   "metadata": {},
   "outputs": [],
   "source": [
    "node_parents['ScheduledArrivalPHL']"
   ]
  },
  {
   "cell_type": "code",
   "execution_count": null,
   "metadata": {},
   "outputs": [],
   "source": [
    "scheduled_PHL_df = compute_CPT('ScheduledArrivalPHL',day_of_week_df)\n",
    "scheduled_PHL_df"
   ]
  },
  {
   "cell_type": "markdown",
   "metadata": {},
   "source": [
    "## 6. NAS_DELAY"
   ]
  },
  {
   "cell_type": "code",
   "execution_count": null,
   "metadata": {},
   "outputs": [],
   "source": [
    "node_parents['NAS_DELAY']"
   ]
  },
  {
   "cell_type": "code",
   "execution_count": null,
   "metadata": {},
   "outputs": [],
   "source": [
    "scheduled_PHL_df = compute_CPT('NAS_DELAY',month_df)\n",
    "scheduled_PHL_df"
   ]
  },
  {
   "cell_type": "markdown",
   "metadata": {},
   "source": [
    "# Depth 2"
   ]
  },
  {
   "cell_type": "markdown",
   "metadata": {},
   "source": [
    "## 7. CRS Arrival Time"
   ]
  },
  {
   "cell_type": "code",
   "execution_count": null,
   "metadata": {},
   "outputs": [],
   "source": [
    "available_nodes()"
   ]
  },
  {
   "cell_type": "code",
   "execution_count": null,
   "metadata": {},
   "outputs": [],
   "source": [
    "node_parents['CRS_ARR_TIME']"
   ]
  },
  {
   "cell_type": "code",
   "execution_count": null,
   "metadata": {},
   "outputs": [],
   "source": [
    "def compute_CPT(node, parent_df):\n",
    "    df = data_df.groupby(list(node_parents[node]) + [node]).size().reset_index().rename(columns={0:'num'})\n",
    "    df = pd.merge(df, parent_df, on=list(node_parents[node]))\n",
    "    df['prob'] = df.num_x / df.num_y\n",
    "    df = df.drop(['num_x','num_y'],axis=1)\n",
    "    df['log_p'] = np.log(df.prob)\n",
    "    visited_set.add(node)\n",
    "    nodes_set.remove(node)\n",
    "    return df"
   ]
  },
  {
   "cell_type": "code",
   "execution_count": null,
   "metadata": {},
   "outputs": [],
   "source": [
    "parent_df_li = [day_of_week_df, month_df, quarter_df]\n",
    "temp = data_df.groupby(list(node_parents['CRS_ARR_TIME']) + ['CRS_ARR_TIME']).size().reset_index().rename(columns={0:'num'})"
   ]
  },
  {
   "cell_type": "code",
   "execution_count": null,
   "metadata": {},
   "outputs": [],
   "source": [
    "temp.head(10)"
   ]
  },
  {
   "cell_type": "code",
   "execution_count": null,
   "metadata": {},
   "outputs": [],
   "source": [
    "data_df[(data_df.QUARTER == 1) & (data_df.DAY_OF_WEEK == 1) & (data_df.MONTH == 1)].shape"
   ]
  },
  {
   "cell_type": "markdown",
   "metadata": {},
   "source": [
    "# Depth 3"
   ]
  },
  {
   "cell_type": "code",
   "execution_count": null,
   "metadata": {},
   "outputs": [],
   "source": []
  },
  {
   "cell_type": "code",
   "execution_count": null,
   "metadata": {},
   "outputs": [],
   "source": []
  }
 ],
 "metadata": {
  "kernelspec": {
   "display_name": "Python 3",
   "language": "python",
   "name": "python3"
  },
  "language_info": {
   "codemirror_mode": {
    "name": "ipython",
    "version": 3
   },
   "file_extension": ".py",
   "mimetype": "text/x-python",
   "name": "python",
   "nbconvert_exporter": "python",
   "pygments_lexer": "ipython3",
   "version": "3.6.3"
  }
 },
 "nbformat": 4,
 "nbformat_minor": 2
}
